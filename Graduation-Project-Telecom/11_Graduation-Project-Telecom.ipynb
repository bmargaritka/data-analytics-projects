{
 "cells": [
  {
   "cell_type": "markdown",
   "metadata": {
    "toc": true
   },
   "source": [
    "<h1>Содержание<span class=\"tocSkip\"></span></h1>\n",
    "<div class=\"toc\"><ul class=\"toc-item\"><li><span><a href=\"#Описание-проекта\" data-toc-modified-id=\"Описание-проекта-0\"><span class=\"toc-item-num\">0&nbsp;&nbsp;</span>Описание проекта</a></span><ul class=\"toc-item\"><li><span><a href=\"#Цель-проекта\" data-toc-modified-id=\"Цель-проекта-0.1\"><span class=\"toc-item-num\">0.1&nbsp;&nbsp;</span>Цель проекта</a></span></li><li><span><a href=\"#Описание-данных\" data-toc-modified-id=\"Описание-данных-0.2\"><span class=\"toc-item-num\">0.2&nbsp;&nbsp;</span>Описание данных</a></span></li><li><span><a href=\"#Материалы\" data-toc-modified-id=\"Материалы-0.3\"><span class=\"toc-item-num\">0.3&nbsp;&nbsp;</span>Материалы</a></span></li></ul></li><li><span><a href=\"#Загрузка-и-предобработка-данных\" data-toc-modified-id=\"Загрузка-и-предобработка-данных-1\"><span class=\"toc-item-num\">1&nbsp;&nbsp;</span>Загрузка и предобработка данных</a></span><ul class=\"toc-item\"><li><span><a href=\"#Загрузка-данных-и-просмотр-основной-информации\" data-toc-modified-id=\"Загрузка-данных-и-просмотр-основной-информации-1.1\"><span class=\"toc-item-num\">1.1&nbsp;&nbsp;</span>Загрузка данных и просмотр основной информации</a></span></li><li><span><a href=\"#Пропущенные-значения\" data-toc-modified-id=\"Пропущенные-значения-1.2\"><span class=\"toc-item-num\">1.2&nbsp;&nbsp;</span>Пропущенные значения</a></span></li><li><span><a href=\"#Типы-данных\" data-toc-modified-id=\"Типы-данных-1.3\"><span class=\"toc-item-num\">1.3&nbsp;&nbsp;</span>Типы данных</a></span></li><li><span><a href=\"#Дубликаты\" data-toc-modified-id=\"Дубликаты-1.4\"><span class=\"toc-item-num\">1.4&nbsp;&nbsp;</span>Дубликаты</a></span></li><li><span><a href=\"#Вывод\" data-toc-modified-id=\"Вывод-1.5\"><span class=\"toc-item-num\">1.5&nbsp;&nbsp;</span>Вывод</a></span></li></ul></li><li><span><a href=\"#Исследовательский-анализ\" data-toc-modified-id=\"Исследовательский-анализ-2\"><span class=\"toc-item-num\">2&nbsp;&nbsp;</span>Исследовательский анализ</a></span><ul class=\"toc-item\"><li><span><a href=\"#Период-анализа-и-количество-клиентов\" data-toc-modified-id=\"Период-анализа-и-количество-клиентов-2.1\"><span class=\"toc-item-num\">2.1&nbsp;&nbsp;</span>Период анализа и количество клиентов</a></span></li><li><span><a href=\"#Количественные-переменные\" data-toc-modified-id=\"Количественные-переменные-2.2\"><span class=\"toc-item-num\">2.2&nbsp;&nbsp;</span>Количественные переменные</a></span></li><li><span><a href=\"#Качественные-переменные\" data-toc-modified-id=\"Качественные-переменные-2.3\"><span class=\"toc-item-num\">2.3&nbsp;&nbsp;</span>Качественные переменные</a></span></li><li><span><a href=\"#Операторы-входящих-и-исходящих-вызовов\" data-toc-modified-id=\"Операторы-входящих-и-исходящих-вызовов-2.4\"><span class=\"toc-item-num\">2.4&nbsp;&nbsp;</span>Операторы входящих и исходящих вызовов</a></span></li><li><span><a href=\"#Определение-признаков-эффективности\" data-toc-modified-id=\"Определение-признаков-эффективности-2.5\"><span class=\"toc-item-num\">2.5&nbsp;&nbsp;</span>Определение признаков эффективности</a></span></li><li><span><a href=\"#Эффективность-операторов-входящих-звонков\" data-toc-modified-id=\"Эффективность-операторов-входящих-звонков-2.6\"><span class=\"toc-item-num\">2.6&nbsp;&nbsp;</span>Эффективность операторов входящих звонков</a></span><ul class=\"toc-item\"><li><span><a href=\"#Эффективность-по-времени-ожидания-ответа---внешние-вызовы\" data-toc-modified-id=\"Эффективность-по-времени-ожидания-ответа---внешние-вызовы-2.6.1\"><span class=\"toc-item-num\">2.6.1&nbsp;&nbsp;</span>Эффективность по времени ожидания ответа - внешние вызовы</a></span></li><li><span><a href=\"#Эффективность-по-времени-ожидания-ответа---внутренние-вызовы\" data-toc-modified-id=\"Эффективность-по-времени-ожидания-ответа---внутренние-вызовы-2.6.2\"><span class=\"toc-item-num\">2.6.2&nbsp;&nbsp;</span>Эффективность по времени ожидания ответа - внутренние вызовы</a></span></li><li><span><a href=\"#Эффективность-по-количеству-пропущенных-звонков---внешние-вызовы\" data-toc-modified-id=\"Эффективность-по-количеству-пропущенных-звонков---внешние-вызовы-2.6.3\"><span class=\"toc-item-num\">2.6.3&nbsp;&nbsp;</span>Эффективность по количеству пропущенных звонков - внешние вызовы</a></span></li><li><span><a href=\"#Эффективность-по-количеству-пропущенных-звонков---внутренние-вызовы\" data-toc-modified-id=\"Эффективность-по-количеству-пропущенных-звонков---внутренние-вызовы-2.6.4\"><span class=\"toc-item-num\">2.6.4&nbsp;&nbsp;</span>Эффективность по количеству пропущенных звонков - внутренние вызовы</a></span></li><li><span><a href=\"#Колл-центры-с-неэффективными-операторами-входящих-звонков\" data-toc-modified-id=\"Колл-центры-с-неэффективными-операторами-входящих-звонков-2.6.5\"><span class=\"toc-item-num\">2.6.5&nbsp;&nbsp;</span>Колл-центры с неэффективными операторами входящих звонков</a></span></li><li><span><a href=\"#Вывод\" data-toc-modified-id=\"Вывод-2.6.6\"><span class=\"toc-item-num\">2.6.6&nbsp;&nbsp;</span>Вывод</a></span></li></ul></li><li><span><a href=\"#Эффективность-операторов-исходящих-звонков\" data-toc-modified-id=\"Эффективность-операторов-исходящих-звонков-2.7\"><span class=\"toc-item-num\">2.7&nbsp;&nbsp;</span>Эффективность операторов исходящих звонков</a></span><ul class=\"toc-item\"><li><span><a href=\"#Эффективность-по-средней-продолжительности-разговора---внешние-вызовы\" data-toc-modified-id=\"Эффективность-по-средней-продолжительности-разговора---внешние-вызовы-2.7.1\"><span class=\"toc-item-num\">2.7.1&nbsp;&nbsp;</span>Эффективность по средней продолжительности разговора - внешние вызовы</a></span></li><li><span><a href=\"#Эффективность-по-количеству-внутренних-звонков\" data-toc-modified-id=\"Эффективность-по-количеству-внутренних-звонков-2.7.2\"><span class=\"toc-item-num\">2.7.2&nbsp;&nbsp;</span>Эффективность по количеству внутренних звонков</a></span></li><li><span><a href=\"#Колл-центры-с-неэффективными-операторами-исходящих-вызовов\" data-toc-modified-id=\"Колл-центры-с-неэффективными-операторами-исходящих-вызовов-2.7.3\"><span class=\"toc-item-num\">2.7.3&nbsp;&nbsp;</span>Колл-центры с неэффективными операторами исходящих вызовов</a></span></li><li><span><a href=\"#Вывод\" data-toc-modified-id=\"Вывод-2.7.4\"><span class=\"toc-item-num\">2.7.4&nbsp;&nbsp;</span>Вывод</a></span></li></ul></li><li><span><a href=\"#Статистический-анализ\" data-toc-modified-id=\"Статистический-анализ-2.8\"><span class=\"toc-item-num\">2.8&nbsp;&nbsp;</span>Статистический анализ</a></span><ul class=\"toc-item\"><li><span><a href=\"#Средняя-доля-пропущенных-внутренних-и-внешних-вызовов\" data-toc-modified-id=\"Средняя-доля-пропущенных-внутренних-и-внешних-вызовов-2.8.1\"><span class=\"toc-item-num\">2.8.1&nbsp;&nbsp;</span>Средняя доля пропущенных внутренних и внешних вызовов</a></span></li><li><span><a href=\"#Средняя-длительность-входящих-и-исходящих-вызовов\" data-toc-modified-id=\"Средняя-длительность-входящих-и-исходящих-вызовов-2.8.2\"><span class=\"toc-item-num\">2.8.2&nbsp;&nbsp;</span>Средняя длительность входящих и исходящих вызовов</a></span></li></ul></li><li><span><a href=\"#Общий-вывод\" data-toc-modified-id=\"Общий-вывод-2.9\"><span class=\"toc-item-num\">2.9&nbsp;&nbsp;</span>Общий вывод</a></span></li></ul></li></ul></div>"
   ]
  },
  {
   "cell_type": "markdown",
   "metadata": {},
   "source": [
    "# Описание проекта  \n",
    "Продуктовый менеджер провайдера виртуальной телефонии \"Нупозвони\" хочет проверить эффективность операторов у своих клиентов с целью дальнейшего внедрения в систему дополнительного функционала. По итогам исследования будет приниматься решение о необходимости внедрения автоматизированной системы по определению неэффекивных операторов для клиентов.\n",
    "\n",
    "Клиенты провайдера — колл-центры, которые: \n",
    "\n",
    "- распределяют входящие вызовы на операторов,\n",
    "- совершают исходящие вызовы силами операторов.\n",
    "\n",
    "Также операторы могут делать внутренние вызовы —  вызовы друг между другом внутри сети виртуальной телефонии.\n",
    "\n",
    "## Цель проекта\n",
    "Определить признаки неэффективности операторов, по этим признакам определить нэффективных операторов и колл-центры, где работают эти операторы.\n",
    "\n",
    "## Описание данных\n",
    "Датасеты описывают использование услуг «Нупозвони» — провайдера виртуальный телефонии.\n",
    "\n",
    "Таблица с информацией о совершённых звонках клиента:\n",
    "\n",
    "- `user_id` — Идентификатор клиентского аккаунта в сервисе\n",
    "- `date` — Дата статистики\n",
    "- `direction` — Направление вызовов (out - исходящий вызов, in — входящий вызов)\n",
    "- `internal` — Является ли звонок внутренним звонком между операторами клиента\n",
    "- `operator_id` — Идентификатор оператора\n",
    "- `is_missed_call` — Является ли звонок пропущенным\n",
    "- `calls_count` — Количество звонков\n",
    "- `call_duration` — Длительность звонка (без учета времени ожидания)\n",
    "- `total_call_duration` — Длительность звонка (с учетом времени ожидания)\n",
    "\n",
    "Таблица с тарифными планами клиентов:\n",
    "\n",
    "- `user_id` — Идентификатор клиентского аккаунта в сервисе\n",
    "- `tariff_plan` — Текущий тарифный план клиента\n",
    "- `date_start` — Дата регистрации клиентв в сервисе"
   ]
  },
  {
   "cell_type": "markdown",
   "metadata": {},
   "source": [
    "## Материалы\n",
    "\n",
    "[Презентация](https://disk.yandex.ru/i/9o9UDMb0jVr7Ug) \n",
    "\n",
    "[Дашборд](https://public.tableau.com/app/profile/.70703263/viz/Telecom_16552025863240/Dashboard1?publish=yes)"
   ]
  },
  {
   "cell_type": "markdown",
   "metadata": {},
   "source": [
    "# Загрузка и предобработка данных\n",
    "\n",
    "## Загрузка данных и просмотр основной информации\n",
    "Откроем файлы с информацией о совершённых звонках операторов."
   ]
  },
  {
   "cell_type": "code",
   "execution_count": 1,
   "metadata": {},
   "outputs": [],
   "source": [
    "# импорт необходимых библиотек\n",
    "import pandas as pd\n",
    "import numpy as np\n",
    "import datetime\n",
    "d = datetime.date(2012, 12, 14)\n",
    "import seaborn as sns\n",
    "import matplotlib.pyplot as plt\n",
    "from numpy import median\n",
    "import math as mth\n",
    "import warnings\n",
    "\n",
    "from scipy import stats as st\n",
    "\n",
    "warnings.simplefilter(action='ignore', category=FutureWarning)"
   ]
  },
  {
   "cell_type": "code",
   "execution_count": 2,
   "metadata": {},
   "outputs": [
    {
     "data": {
      "text/html": [
       "<div>\n",
       "<style scoped>\n",
       "    .dataframe tbody tr th:only-of-type {\n",
       "        vertical-align: middle;\n",
       "    }\n",
       "\n",
       "    .dataframe tbody tr th {\n",
       "        vertical-align: top;\n",
       "    }\n",
       "\n",
       "    .dataframe thead th {\n",
       "        text-align: right;\n",
       "    }\n",
       "</style>\n",
       "<table border=\"1\" class=\"dataframe\">\n",
       "  <thead>\n",
       "    <tr style=\"text-align: right;\">\n",
       "      <th></th>\n",
       "      <th>user_id</th>\n",
       "      <th>date</th>\n",
       "      <th>direction</th>\n",
       "      <th>internal</th>\n",
       "      <th>operator_id</th>\n",
       "      <th>is_missed_call</th>\n",
       "      <th>calls_count</th>\n",
       "      <th>call_duration</th>\n",
       "      <th>total_call_duration</th>\n",
       "    </tr>\n",
       "  </thead>\n",
       "  <tbody>\n",
       "    <tr>\n",
       "      <th>0</th>\n",
       "      <td>166377</td>\n",
       "      <td>2019-08-04 00:00:00+03:00</td>\n",
       "      <td>in</td>\n",
       "      <td>False</td>\n",
       "      <td>NaN</td>\n",
       "      <td>True</td>\n",
       "      <td>2</td>\n",
       "      <td>0</td>\n",
       "      <td>4</td>\n",
       "    </tr>\n",
       "    <tr>\n",
       "      <th>1</th>\n",
       "      <td>166377</td>\n",
       "      <td>2019-08-05 00:00:00+03:00</td>\n",
       "      <td>out</td>\n",
       "      <td>True</td>\n",
       "      <td>880022.0</td>\n",
       "      <td>True</td>\n",
       "      <td>3</td>\n",
       "      <td>0</td>\n",
       "      <td>5</td>\n",
       "    </tr>\n",
       "    <tr>\n",
       "      <th>2</th>\n",
       "      <td>166377</td>\n",
       "      <td>2019-08-05 00:00:00+03:00</td>\n",
       "      <td>out</td>\n",
       "      <td>True</td>\n",
       "      <td>880020.0</td>\n",
       "      <td>True</td>\n",
       "      <td>1</td>\n",
       "      <td>0</td>\n",
       "      <td>1</td>\n",
       "    </tr>\n",
       "    <tr>\n",
       "      <th>3</th>\n",
       "      <td>166377</td>\n",
       "      <td>2019-08-05 00:00:00+03:00</td>\n",
       "      <td>out</td>\n",
       "      <td>True</td>\n",
       "      <td>880020.0</td>\n",
       "      <td>False</td>\n",
       "      <td>1</td>\n",
       "      <td>10</td>\n",
       "      <td>18</td>\n",
       "    </tr>\n",
       "    <tr>\n",
       "      <th>4</th>\n",
       "      <td>166377</td>\n",
       "      <td>2019-08-05 00:00:00+03:00</td>\n",
       "      <td>out</td>\n",
       "      <td>False</td>\n",
       "      <td>880022.0</td>\n",
       "      <td>True</td>\n",
       "      <td>3</td>\n",
       "      <td>0</td>\n",
       "      <td>25</td>\n",
       "    </tr>\n",
       "  </tbody>\n",
       "</table>\n",
       "</div>"
      ],
      "text/plain": [
       "   user_id                       date direction internal  operator_id  \\\n",
       "0   166377  2019-08-04 00:00:00+03:00        in    False          NaN   \n",
       "1   166377  2019-08-05 00:00:00+03:00       out     True     880022.0   \n",
       "2   166377  2019-08-05 00:00:00+03:00       out     True     880020.0   \n",
       "3   166377  2019-08-05 00:00:00+03:00       out     True     880020.0   \n",
       "4   166377  2019-08-05 00:00:00+03:00       out    False     880022.0   \n",
       "\n",
       "   is_missed_call  calls_count  call_duration  total_call_duration  \n",
       "0            True            2              0                    4  \n",
       "1            True            3              0                    5  \n",
       "2            True            1              0                    1  \n",
       "3           False            1             10                   18  \n",
       "4            True            3              0                   25  "
      ]
     },
     "execution_count": 2,
     "metadata": {},
     "output_type": "execute_result"
    }
   ],
   "source": [
    "# загрузка данных \n",
    "# telecom = pd.read_csv('telecom_dataset.csv')\n",
    "telecom = pd.read_csv('https://code.s3.yandex.net/datasets/telecom_dataset.csv')\n",
    "telecom.head()"
   ]
  },
  {
   "cell_type": "code",
   "execution_count": 3,
   "metadata": {},
   "outputs": [
    {
     "name": "stdout",
     "output_type": "stream",
     "text": [
      "<class 'pandas.core.frame.DataFrame'>\n",
      "RangeIndex: 53902 entries, 0 to 53901\n",
      "Data columns (total 9 columns):\n",
      " #   Column               Non-Null Count  Dtype  \n",
      "---  ------               --------------  -----  \n",
      " 0   user_id              53902 non-null  int64  \n",
      " 1   date                 53902 non-null  object \n",
      " 2   direction            53902 non-null  object \n",
      " 3   internal             53785 non-null  object \n",
      " 4   operator_id          45730 non-null  float64\n",
      " 5   is_missed_call       53902 non-null  bool   \n",
      " 6   calls_count          53902 non-null  int64  \n",
      " 7   call_duration        53902 non-null  int64  \n",
      " 8   total_call_duration  53902 non-null  int64  \n",
      "dtypes: bool(1), float64(1), int64(4), object(3)\n",
      "memory usage: 3.3+ MB\n"
     ]
    }
   ],
   "source": [
    "# основная информация\n",
    "telecom.info()"
   ]
  },
  {
   "cell_type": "markdown",
   "metadata": {},
   "source": [
    "Датасет состоит из 53902 записи о звонках операторов. Есть пропущенные значения в столбцах с информацией о внутреннем или внешнем звонке, а также об идентификаторе оператора. Названия столбцов записаны корректно, некоторые типы данных можно изменить. \n",
    "\n",
    "Сохраним начальное количество строк перед предобработкой."
   ]
  },
  {
   "cell_type": "code",
   "execution_count": 4,
   "metadata": {},
   "outputs": [
    {
     "data": {
      "text/plain": [
       "(53902, 9)"
      ]
     },
     "execution_count": 4,
     "metadata": {},
     "output_type": "execute_result"
    }
   ],
   "source": [
    "# количество строк до предобработки\n",
    "first_shape = telecom.shape\n",
    "first_shape"
   ]
  },
  {
   "cell_type": "markdown",
   "metadata": {},
   "source": [
    "## Пропущенные значения\n",
    "Из предыдущего шага видно, что есть две колонки с пропущенными значениями. Проверим, какой процент пропусков в них. "
   ]
  },
  {
   "cell_type": "code",
   "execution_count": 5,
   "metadata": {},
   "outputs": [],
   "source": [
    "# объявление функции\n",
    "def nan_count(data, column):\n",
    "    '''\n",
    "    Функция для определения доли пропущенных значений в столбце. \n",
    "    data - таблица для поиска пропущенных значений\n",
    "    column - название столбца, в котором ищутся попущенные значения\n",
    "    '''\n",
    "    print('Доля пропущенных значений в {}: {:.2%}'.format(column, data[column].isna().sum() / data.shape[0]))"
   ]
  },
  {
   "cell_type": "code",
   "execution_count": 6,
   "metadata": {},
   "outputs": [
    {
     "name": "stdout",
     "output_type": "stream",
     "text": [
      "Доля пропущенных значений в internal: 0.22%\n"
     ]
    }
   ],
   "source": [
    "# процент пропусков в internal\n",
    "nan_count(telecom, 'internal')"
   ]
  },
  {
   "cell_type": "markdown",
   "metadata": {},
   "source": [
    "Процент достаточно маленький, поэтому можно удалить такие строки."
   ]
  },
  {
   "cell_type": "code",
   "execution_count": 7,
   "metadata": {},
   "outputs": [],
   "source": [
    "# удаление строк с пропусками в internal\n",
    "telecom = telecom.dropna(subset=['internal']) "
   ]
  },
  {
   "cell_type": "markdown",
   "metadata": {},
   "source": [
    "Далее узнаем сколько пропусков в столбце с id оператора."
   ]
  },
  {
   "cell_type": "code",
   "execution_count": 8,
   "metadata": {},
   "outputs": [
    {
     "name": "stdout",
     "output_type": "stream",
     "text": [
      "Доля пропущенных значений в operator_id: 15.09%\n"
     ]
    }
   ],
   "source": [
    "nan_count(telecom, 'operator_id')"
   ]
  },
  {
   "cell_type": "markdown",
   "metadata": {},
   "source": [
    "Больше 15 процентов пропущенных значений. Просто так их удалять не стоит. Возможно, мы найдём какие-то закономерности в строках с такими пропусками. "
   ]
  },
  {
   "cell_type": "code",
   "execution_count": 9,
   "metadata": {},
   "outputs": [
    {
     "name": "stdout",
     "output_type": "stream",
     "text": [
      "in     7917\n",
      "out     198\n",
      "Name: direction, dtype: int64 \n",
      "\n",
      "False    7760\n",
      "True      355\n",
      "Name: internal, dtype: int64 \n",
      "\n",
      "True     7993\n",
      "False     122\n",
      "Name: is_missed_call, dtype: int64 \n",
      "\n"
     ]
    }
   ],
   "source": [
    "# количество значений в бинарных столбцах\n",
    "for col in ['direction', 'internal', 'is_missed_call']:\n",
    "    print(telecom[telecom['operator_id'].isna()][col].value_counts(), '\\n')"
   ]
  },
  {
   "cell_type": "markdown",
   "metadata": {},
   "source": [
    "Большинство случаев, когда не определился оператор - это входящие пропущенные звонки. Возможно, колл-центр был перегружен и не удалось определить звонок на оператора до того, как клиент отключился. Остальные случаи, вроде неопределённого оператора при принятом звонке или при исходящем звонке, больше похожи на ошибку и их немного. Такие строки можно оставить, но пропуски заполнить целыми значениями - например, нулями. "
   ]
  },
  {
   "cell_type": "code",
   "execution_count": 10,
   "metadata": {},
   "outputs": [],
   "source": [
    "# замена пропусков на 0\n",
    "telecom['operator_id'] = telecom['operator_id'].fillna(0)"
   ]
  },
  {
   "cell_type": "markdown",
   "metadata": {},
   "source": [
    "## Типы данных\n",
    "Рассмотрим ещё раз информацию о таблице и определим, у каких столбцов можно изменить тип данных."
   ]
  },
  {
   "cell_type": "code",
   "execution_count": 11,
   "metadata": {},
   "outputs": [
    {
     "name": "stdout",
     "output_type": "stream",
     "text": [
      "<class 'pandas.core.frame.DataFrame'>\n",
      "Int64Index: 53785 entries, 0 to 53901\n",
      "Data columns (total 9 columns):\n",
      " #   Column               Non-Null Count  Dtype  \n",
      "---  ------               --------------  -----  \n",
      " 0   user_id              53785 non-null  int64  \n",
      " 1   date                 53785 non-null  object \n",
      " 2   direction            53785 non-null  object \n",
      " 3   internal             53785 non-null  object \n",
      " 4   operator_id          53785 non-null  float64\n",
      " 5   is_missed_call       53785 non-null  bool   \n",
      " 6   calls_count          53785 non-null  int64  \n",
      " 7   call_duration        53785 non-null  int64  \n",
      " 8   total_call_duration  53785 non-null  int64  \n",
      "dtypes: bool(1), float64(1), int64(4), object(3)\n",
      "memory usage: 3.7+ MB\n"
     ]
    }
   ],
   "source": [
    "# общая информация о таблице\n",
    "telecom.info()"
   ]
  },
  {
   "cell_type": "markdown",
   "metadata": {},
   "source": [
    "Из столбца date можно взять только дату без времени, так как время там не определено. Значения в столбце internal можно заменить на булевый тип. После замены пропусков в operator_id на 0 мы можем изменить тип данных на целочисленный."
   ]
  },
  {
   "cell_type": "code",
   "execution_count": 12,
   "metadata": {},
   "outputs": [],
   "source": [
    "# изменение типа данных\n",
    "telecom = telecom.astype({'internal': 'bool',\n",
    "                         'operator_id': 'int64'})"
   ]
  },
  {
   "cell_type": "code",
   "execution_count": 13,
   "metadata": {},
   "outputs": [],
   "source": [
    "# убираем время\n",
    "telecom['date'] = pd.to_datetime(telecom['date']).dt.date"
   ]
  },
  {
   "cell_type": "code",
   "execution_count": 14,
   "metadata": {},
   "outputs": [],
   "source": [
    "# приводим к формату datetime\n",
    "telecom['date'] = pd.to_datetime(telecom['date'], format='%Y-%m-%d')"
   ]
  },
  {
   "cell_type": "markdown",
   "metadata": {},
   "source": [
    "Готово, данные приведены к нужному типу."
   ]
  },
  {
   "cell_type": "markdown",
   "metadata": {},
   "source": [
    "## Дубликаты\n",
    "Проверим, есть ли строки-дубликаты и удалим их при необходимости."
   ]
  },
  {
   "cell_type": "code",
   "execution_count": 15,
   "metadata": {},
   "outputs": [
    {
     "name": "stdout",
     "output_type": "stream",
     "text": [
      "Количество строк-дубликатов: 4893\n"
     ]
    }
   ],
   "source": [
    "# количество строк-дубликатов\n",
    "print('Количество строк-дубликатов:', telecom.duplicated().sum())"
   ]
  },
  {
   "cell_type": "code",
   "execution_count": 16,
   "metadata": {},
   "outputs": [],
   "source": [
    "# удаление дубликатов\n",
    "telecom = telecom.drop_duplicates().reset_index(drop=True)"
   ]
  },
  {
   "cell_type": "markdown",
   "metadata": {},
   "source": [
    "Строк дубликатов было достаточно много, но нет смысла держать их в таблице. Посмотрим, сколько строк мы потеряли в ходе предобработки. "
   ]
  },
  {
   "cell_type": "code",
   "execution_count": 17,
   "metadata": {},
   "outputs": [
    {
     "name": "stdout",
     "output_type": "stream",
     "text": [
      "Процент удалённых строк: 9.29%\n"
     ]
    }
   ],
   "source": [
    "# процент удалённых строк\n",
    "print('Процент удалённых строк: {:.2%}'.format(1 - telecom.shape[0] / first_shape[0]))"
   ]
  },
  {
   "cell_type": "markdown",
   "metadata": {},
   "source": [
    "## Вывод"
   ]
  },
  {
   "cell_type": "markdown",
   "metadata": {},
   "source": [
    "В данных была обнаружена большая часть строк с неопределённым идентификаторос оператора. Большинство из таких вызовов - входящие пропущенные вызовы. Необходимо уточнить, может ли причиной этого быть загруженность колл-центра. \n",
    "\n",
    "На выходе получился датасет, который больше чем на 9% отличается от начального. Это не так много, если учесть, что было много дубликатов."
   ]
  },
  {
   "cell_type": "markdown",
   "metadata": {},
   "source": [
    "# Исследовательский анализ\n",
    "Рассмотри данные чуть подробнее. Для начала определим, за какой период данными мы располагаем."
   ]
  },
  {
   "cell_type": "markdown",
   "metadata": {},
   "source": [
    "## Период анализа и количество клиентов"
   ]
  },
  {
   "cell_type": "code",
   "execution_count": 18,
   "metadata": {},
   "outputs": [
    {
     "name": "stdout",
     "output_type": "stream",
     "text": [
      "Период анализа: с 2019-08-02 00:00:00 по 2019-11-28 00:00:00\n"
     ]
    }
   ],
   "source": [
    "# максимальная и минимальная дата\n",
    "print('Период анализа: с {} по {}'\n",
    "      .format(telecom['date'].min(),\n",
    "              telecom['date'].max()\n",
    "      ))"
   ]
  },
  {
   "cell_type": "markdown",
   "metadata": {},
   "source": [
    "Первая запись датируется 2 августа 2019 года, а последняя - 28 декабря 2019. "
   ]
  },
  {
   "cell_type": "markdown",
   "metadata": {},
   "source": [
    "Теперь посмотрим, информация о скольких клиентов содержится в датасете, а также сколько у клиентов операторов."
   ]
  },
  {
   "cell_type": "code",
   "execution_count": 19,
   "metadata": {},
   "outputs": [
    {
     "name": "stdout",
     "output_type": "stream",
     "text": [
      "Количество клиентов у провайдера: 307\n"
     ]
    }
   ],
   "source": [
    "# количество клиентов у провайдера\n",
    "print('Количество клиентов у провайдера:', telecom['user_id'].nunique())"
   ]
  },
  {
   "cell_type": "code",
   "execution_count": 20,
   "metadata": {},
   "outputs": [
    {
     "name": "stdout",
     "output_type": "stream",
     "text": [
      "Количество операторов: 1093\n"
     ]
    }
   ],
   "source": [
    "# количество операторов\n",
    "operators_count = telecom['operator_id'].nunique()\n",
    "print('Количество операторов:', operators_count)"
   ]
  },
  {
   "cell_type": "markdown",
   "metadata": {},
   "source": [
    "Получается, что в среднем на каждый колл-центр по 3 оператора. Но нам не известно, насколько уникальны идентификаторы операторов. Имеется в виду, они уникальны во всем датасете или уникальны только относительно своего колл-центра. Проверим это, узнав сколько есть ли операторы, которые есть взаписях нескольких колл-центров."
   ]
  },
  {
   "cell_type": "code",
   "execution_count": 21,
   "metadata": {},
   "outputs": [
    {
     "data": {
      "text/plain": [
       "operator_id\n",
       "925104      1\n",
       "937888      1\n",
       "937898      1\n",
       "937900      1\n",
       "937902      1\n",
       "         ... \n",
       "912296      1\n",
       "912252      1\n",
       "912010      1\n",
       "913780      1\n",
       "0         305\n",
       "Name: user_id, Length: 1093, dtype: int64"
      ]
     },
     "execution_count": 21,
     "metadata": {},
     "output_type": "execute_result"
    }
   ],
   "source": [
    "# количество клиентов у операторов \n",
    "telecom.groupby('operator_id')['user_id'].nunique().sort_values()"
   ]
  },
  {
   "cell_type": "markdown",
   "metadata": {},
   "source": [
    "Итак, каждый у каждого оператора уникальный идентификатор во всём датасете. Вот что интересно, записи с неопределённым оператором есть у 305 из 307 клиентов. Теперь можем посчитать, сколько операторов работает в каждом колл-центре. Для этого сделаем таблицу без неопределённых операторов, чтобы их не посчитать за одного оператора."
   ]
  },
  {
   "cell_type": "code",
   "execution_count": 22,
   "metadata": {},
   "outputs": [],
   "source": [
    "# таблица без неопределённых операторов\n",
    "telecom_clean = telecom.query('operator_id != 0')"
   ]
  },
  {
   "cell_type": "code",
   "execution_count": 23,
   "metadata": {},
   "outputs": [
    {
     "data": {
      "text/plain": [
       "1     107\n",
       "2      63\n",
       "3      34\n",
       "4      26\n",
       "5      17\n",
       "6      10\n",
       "7       7\n",
       "8       5\n",
       "15      3\n",
       "16      2\n",
       "9       2\n",
       "11      2\n",
       "27      2\n",
       "30      1\n",
       "48      1\n",
       "21      1\n",
       "28      1\n",
       "12      1\n",
       "18      1\n",
       "17      1\n",
       "14      1\n",
       "10      1\n",
       "50      1\n",
       "Name: operator_id, dtype: int64"
      ]
     },
     "execution_count": 23,
     "metadata": {},
     "output_type": "execute_result"
    }
   ],
   "source": [
    "# количество колл-центров с разным количеством сотрудников\n",
    "telecom_clean.groupby('user_id')['operator_id'].nunique().value_counts()"
   ]
  },
  {
   "cell_type": "markdown",
   "metadata": {},
   "source": [
    "Есть несколько крупных клиентов, которые содержат от 9 до 50 оператора. Но большинство клиентов имеют меньше 10 операторов, самые популярные колл-центры с 1 оператором. Сохраним в отдельную переменную количество операторов в каждом центре, нам это понадобится."
   ]
  },
  {
   "cell_type": "code",
   "execution_count": 24,
   "metadata": {},
   "outputs": [],
   "source": [
    "# количество операторов у колл-центров\n",
    "n_operators = telecom_clean.groupby('user_id')['operator_id'].nunique()\n",
    "n_operators = n_operators.reset_index()\n",
    "n_operators.columns = ['user_id', 'n_operators']"
   ]
  },
  {
   "cell_type": "markdown",
   "metadata": {},
   "source": [
    "## Количественные переменные\n",
    "Теперь посмотрим на количественные переменные. "
   ]
  },
  {
   "cell_type": "code",
   "execution_count": 25,
   "metadata": {},
   "outputs": [],
   "source": [
    "# список количественных переменных \n",
    "quantitative = ['calls_count', 'call_duration', 'total_call_duration']"
   ]
  },
  {
   "cell_type": "code",
   "execution_count": 26,
   "metadata": {},
   "outputs": [
    {
     "data": {
      "text/html": [
       "<div>\n",
       "<style scoped>\n",
       "    .dataframe tbody tr th:only-of-type {\n",
       "        vertical-align: middle;\n",
       "    }\n",
       "\n",
       "    .dataframe tbody tr th {\n",
       "        vertical-align: top;\n",
       "    }\n",
       "\n",
       "    .dataframe thead th {\n",
       "        text-align: right;\n",
       "    }\n",
       "</style>\n",
       "<table border=\"1\" class=\"dataframe\">\n",
       "  <thead>\n",
       "    <tr style=\"text-align: right;\">\n",
       "      <th></th>\n",
       "      <th>calls_count</th>\n",
       "      <th>call_duration</th>\n",
       "      <th>total_call_duration</th>\n",
       "    </tr>\n",
       "  </thead>\n",
       "  <tbody>\n",
       "    <tr>\n",
       "      <th>count</th>\n",
       "      <td>48892.000000</td>\n",
       "      <td>48892.000000</td>\n",
       "      <td>48892.000000</td>\n",
       "    </tr>\n",
       "    <tr>\n",
       "      <th>mean</th>\n",
       "      <td>16.495214</td>\n",
       "      <td>868.088788</td>\n",
       "      <td>1158.976458</td>\n",
       "    </tr>\n",
       "    <tr>\n",
       "      <th>std</th>\n",
       "      <td>63.671633</td>\n",
       "      <td>3779.549967</td>\n",
       "      <td>4456.180933</td>\n",
       "    </tr>\n",
       "    <tr>\n",
       "      <th>min</th>\n",
       "      <td>1.000000</td>\n",
       "      <td>0.000000</td>\n",
       "      <td>0.000000</td>\n",
       "    </tr>\n",
       "    <tr>\n",
       "      <th>25%</th>\n",
       "      <td>1.000000</td>\n",
       "      <td>0.000000</td>\n",
       "      <td>46.000000</td>\n",
       "    </tr>\n",
       "    <tr>\n",
       "      <th>50%</th>\n",
       "      <td>4.000000</td>\n",
       "      <td>37.000000</td>\n",
       "      <td>210.000000</td>\n",
       "    </tr>\n",
       "    <tr>\n",
       "      <th>75%</th>\n",
       "      <td>12.000000</td>\n",
       "      <td>573.000000</td>\n",
       "      <td>902.000000</td>\n",
       "    </tr>\n",
       "    <tr>\n",
       "      <th>max</th>\n",
       "      <td>4817.000000</td>\n",
       "      <td>144395.000000</td>\n",
       "      <td>166155.000000</td>\n",
       "    </tr>\n",
       "  </tbody>\n",
       "</table>\n",
       "</div>"
      ],
      "text/plain": [
       "        calls_count  call_duration  total_call_duration\n",
       "count  48892.000000   48892.000000         48892.000000\n",
       "mean      16.495214     868.088788          1158.976458\n",
       "std       63.671633    3779.549967          4456.180933\n",
       "min        1.000000       0.000000             0.000000\n",
       "25%        1.000000       0.000000            46.000000\n",
       "50%        4.000000      37.000000           210.000000\n",
       "75%       12.000000     573.000000           902.000000\n",
       "max     4817.000000  144395.000000        166155.000000"
      ]
     },
     "execution_count": 26,
     "metadata": {},
     "output_type": "execute_result"
    }
   ],
   "source": [
    "# основные показатели количествееных переменных\n",
    "telecom[quantitative].describe()"
   ]
  },
  {
   "cell_type": "markdown",
   "metadata": {},
   "source": [
    "Если сравнить медианы со средними значениями понятно, что распределения не являются нормальными, графики распределения будут сдвинуты влево. Обратить внимание стоит на максимальные значения. Врядли кто-то мог совершить 4817 звонков за день или проговорить 144395 минут. От этой аномалии в данных лучше избавиться. Посмотрим, сколько таких выбросов есть с помощью построения бокс-плота. "
   ]
  },
  {
   "cell_type": "code",
   "execution_count": 27,
   "metadata": {
    "scrolled": true
   },
   "outputs": [
    {
     "data": {
      "image/png": "[encoded data removed]",
      "text/plain": [
       "<Figure size 720x360 with 1 Axes>"
      ]
     },
     "metadata": {
      "needs_background": "light"
     },
     "output_type": "display_data"
    }
   ],
   "source": [
    "plt.figure(figsize=(10, 5))\n",
    "telecom[quantitative].boxplot()\n",
    "plt.title('Распределение количества и длительности звонков')\n",
    "plt.ylabel('Количество')\n",
    "plt.show()"
   ]
  },
  {
   "cell_type": "markdown",
   "metadata": {},
   "source": [
    "Таких выбросов много, но тут стоит кое-что уточнить. Если оператор проговорил всего одну секунду, то это считается 1 минутой. То есть если оператор совершил 4 исходящих звонка в минуту, то в таблице это будет записано как 4 минуты. Этим можно объяснить выбросы в столбце количества звонков. Столбцы call_duration и total_call_duration агрегированные, но даже в сумме вряд ли можно столько наговорить даже за 24 часа. \n",
    "\n",
    "Удалим записи, где значения в ячейке больше значения 97 перцентиля соответствующего столбца - так мы потеряем не много данных. "
   ]
  },
  {
   "cell_type": "code",
   "execution_count": 28,
   "metadata": {},
   "outputs": [],
   "source": [
    "# удаление выбросов\n",
    "for col in quantitative:\n",
    "    telecom = telecom[telecom[col] <= telecom[col].quantile(.97)]"
   ]
  },
  {
   "cell_type": "markdown",
   "metadata": {},
   "source": [
    "Для дальнейшего анализа необходимо рассчитать дополнительную величину - среднее время ожидания. Рассчитывается как разность общего времени звонка и времени разговора, делённая на количество звонков. Добавим результат в новый столбец - avg_waiting_time. Также обнулим в этом столбце значения у пропущенных вызовов, так как для них не важно, сколько времени клиент не мог дозвониться, важно, что звонок не принят."
   ]
  },
  {
   "cell_type": "code",
   "execution_count": 29,
   "metadata": {},
   "outputs": [],
   "source": [
    "# среднее время ожидания\n",
    "def drop_missed_calls(row):\n",
    "    if row['is_missed_call'] == True:\n",
    "        return 0\n",
    "    else:\n",
    "        return (row['total_call_duration'] - row['call_duration']) / row['calls_count']"
   ]
  },
  {
   "cell_type": "code",
   "execution_count": 30,
   "metadata": {},
   "outputs": [],
   "source": [
    "# добавление среднего времени ожидания\n",
    "telecom['avg_waiting_time'] = telecom.apply(drop_missed_calls, axis=1)"
   ]
  },
  {
   "cell_type": "code",
   "execution_count": 31,
   "metadata": {},
   "outputs": [],
   "source": [
    "# добавление параметра в список количественных переменных\n",
    "quantitative.append('avg_waiting_time')"
   ]
  },
  {
   "cell_type": "markdown",
   "metadata": {},
   "source": [
    "Теперь посмотрим на распределение этих параметров после удаления."
   ]
  },
  {
   "cell_type": "code",
   "execution_count": 32,
   "metadata": {},
   "outputs": [
    {
     "data": {
      "image/png": "[encoded data removed]",
      "text/plain": [
       "<Figure size 720x360 with 1 Axes>"
      ]
     },
     "metadata": {
      "needs_background": "light"
     },
     "output_type": "display_data"
    },
    {
     "data": {
      "image/png": "[encoded data removed]",
      "text/plain": [
       "<Figure size 720x360 with 1 Axes>"
      ]
     },
     "metadata": {
      "needs_background": "light"
     },
     "output_type": "display_data"
    },
    {
     "data": {
      "image/png": "[encoded data removed]",
      "text/plain": [
       "<Figure size 720x360 with 1 Axes>"
      ]
     },
     "metadata": {
      "needs_background": "light"
     },
     "output_type": "display_data"
    },
    {
     "data": {
      "image/png": "[encoded data removed]",
      "text/plain": [
       "<Figure size 720x360 with 1 Axes>"
      ]
     },
     "metadata": {
      "needs_background": "light"
     },
     "output_type": "display_data"
    }
   ],
   "source": [
    "# построение гистограмм\n",
    "for col in quantitative:\n",
    "    plt.figure(figsize=(10, 5))\n",
    "    telecom[col].hist(bins=30)\n",
    "    plt.title(f'Распределение {col}')\n",
    "    plt.xlabel('Значение параметра')\n",
    "    plt.ylabel('Количество записей')\n",
    "    plt.show()"
   ]
  },
  {
   "cell_type": "markdown",
   "metadata": {},
   "source": [
    "Максимальные значения значительно снизились. Для всех параметров наиболее часто встречаемые значения - минимальные. То есть пиковые столбцы на гистограмме - самые левые. Например, чаще всего операторы совершают от 0 до 10 вызовов суммароной продолжительностью до 500 минут. Есть большие значения среднего время ожидания. Возможно, это и есть та самая неэффективность. Либо кто-то долго не брал трубку от настойчивого клиента колл-центра, либо какой-то оператор очень хотел дозвониться до кого-то, что даже трубку решил не класть. Рассмотрим это позднее. "
   ]
  },
  {
   "cell_type": "markdown",
   "metadata": {},
   "source": [
    "## Качественные переменные\n",
    "Посмотрим, сколько в данных входящих и исходящих, внутренних, пропущенных и принятых вызовов. "
   ]
  },
  {
   "cell_type": "code",
   "execution_count": 33,
   "metadata": {},
   "outputs": [
    {
     "name": "stdout",
     "output_type": "stream",
     "text": [
      "Столбец direction:\n",
      "out    25599\n",
      "in     19030\n",
      "Name: direction, dtype: int64 \n",
      "\n",
      "Столбец internal:\n",
      "False    38979\n",
      "True      5650\n",
      "Name: internal, dtype: int64 \n",
      "\n",
      "Столбец is_missed_call:\n",
      "False    23932\n",
      "True     20697\n",
      "Name: is_missed_call, dtype: int64 \n",
      "\n"
     ]
    }
   ],
   "source": [
    "# количество записей каждого типа\n",
    "qualitative = ['direction', 'internal', 'is_missed_call']\n",
    "\n",
    "for col in qualitative:\n",
    "    print('Столбец ' + col + ':')\n",
    "    print(telecom[col].value_counts(), '\\n')"
   ]
  },
  {
   "cell_type": "markdown",
   "metadata": {},
   "source": [
    "Записей об исходящих вызовах немного больше, также немного больше записей о принятых звонках. Большинство из них не внутренние. \n",
    "\n",
    "Стоит заметить, что начальная таблица агригирована, и каждая строка соответствует не одному вызову, а количеству вызовов определённого типа. Поэтому рассмотрим для каждого вида вызова не только количество записей, но и количество таких звонков (то есть сумму количества звонков в записях)."
   ]
  },
  {
   "cell_type": "code",
   "execution_count": 79,
   "metadata": {},
   "outputs": [],
   "source": [
    "# сводная таблица с количеством звонков каждого типа\n",
    "calls_count_pivot = (\n",
    "    telecom.groupby(qualitative)\n",
    "    .agg({'operator_id':'count',\n",
    "         'calls_count': 'sum'})\n",
    "    .sort_values(by='calls_count', ascending=False)\n",
    "    .reset_index()\n",
    ")"
   ]
  },
  {
   "cell_type": "code",
   "execution_count": 80,
   "metadata": {},
   "outputs": [],
   "source": [
    "def get_name(row):\n",
    "    name = ''\n",
    "    \n",
    "    if row['direction'] == 'out':\n",
    "        name = name + 'исходящий'\n",
    "    else:\n",
    "        name += 'входящий'\n",
    "        \n",
    "    if row['internal'] == True:\n",
    "        name += ' внутренний'\n",
    "    else:\n",
    "        name += ' внешний'\n",
    "        \n",
    "    if row['is_missed_call'] == True:\n",
    "        name += ' пропущенный'\n",
    "    else:\n",
    "        name += ' принятый'\n",
    "        \n",
    "    return name"
   ]
  },
  {
   "cell_type": "code",
   "execution_count": 81,
   "metadata": {},
   "outputs": [
    {
     "data": {
      "text/html": [
       "<div>\n",
       "<style scoped>\n",
       "    .dataframe tbody tr th:only-of-type {\n",
       "        vertical-align: middle;\n",
       "    }\n",
       "\n",
       "    .dataframe tbody tr th {\n",
       "        vertical-align: top;\n",
       "    }\n",
       "\n",
       "    .dataframe thead th {\n",
       "        text-align: right;\n",
       "    }\n",
       "</style>\n",
       "<table border=\"1\" class=\"dataframe\">\n",
       "  <thead>\n",
       "    <tr style=\"text-align: right;\">\n",
       "      <th></th>\n",
       "      <th>direction</th>\n",
       "      <th>internal</th>\n",
       "      <th>is_missed_call</th>\n",
       "      <th>operator_id</th>\n",
       "      <th>calls_count</th>\n",
       "      <th>type</th>\n",
       "    </tr>\n",
       "  </thead>\n",
       "  <tbody>\n",
       "    <tr>\n",
       "      <th>0</th>\n",
       "      <td>out</td>\n",
       "      <td>False</td>\n",
       "      <td>True</td>\n",
       "      <td>10594</td>\n",
       "      <td>139219</td>\n",
       "      <td>исходящий внешний пропущенный</td>\n",
       "    </tr>\n",
       "    <tr>\n",
       "      <th>1</th>\n",
       "      <td>out</td>\n",
       "      <td>False</td>\n",
       "      <td>False</td>\n",
       "      <td>10026</td>\n",
       "      <td>96826</td>\n",
       "      <td>исходящий внешний принятый</td>\n",
       "    </tr>\n",
       "    <tr>\n",
       "      <th>2</th>\n",
       "      <td>in</td>\n",
       "      <td>False</td>\n",
       "      <td>False</td>\n",
       "      <td>10978</td>\n",
       "      <td>57886</td>\n",
       "      <td>входящий внешний принятый</td>\n",
       "    </tr>\n",
       "    <tr>\n",
       "      <th>3</th>\n",
       "      <td>in</td>\n",
       "      <td>False</td>\n",
       "      <td>True</td>\n",
       "      <td>7381</td>\n",
       "      <td>46112</td>\n",
       "      <td>входящий внешний пропущенный</td>\n",
       "    </tr>\n",
       "    <tr>\n",
       "      <th>4</th>\n",
       "      <td>out</td>\n",
       "      <td>True</td>\n",
       "      <td>False</td>\n",
       "      <td>2557</td>\n",
       "      <td>7942</td>\n",
       "      <td>исходящий внутренний принятый</td>\n",
       "    </tr>\n",
       "    <tr>\n",
       "      <th>5</th>\n",
       "      <td>out</td>\n",
       "      <td>True</td>\n",
       "      <td>True</td>\n",
       "      <td>2422</td>\n",
       "      <td>5071</td>\n",
       "      <td>исходящий внутренний пропущенный</td>\n",
       "    </tr>\n",
       "    <tr>\n",
       "      <th>6</th>\n",
       "      <td>in</td>\n",
       "      <td>True</td>\n",
       "      <td>True</td>\n",
       "      <td>300</td>\n",
       "      <td>944</td>\n",
       "      <td>входящий внутренний пропущенный</td>\n",
       "    </tr>\n",
       "    <tr>\n",
       "      <th>7</th>\n",
       "      <td>in</td>\n",
       "      <td>True</td>\n",
       "      <td>False</td>\n",
       "      <td>371</td>\n",
       "      <td>677</td>\n",
       "      <td>входящий внутренний принятый</td>\n",
       "    </tr>\n",
       "  </tbody>\n",
       "</table>\n",
       "</div>"
      ],
      "text/plain": [
       "  direction  internal  is_missed_call  operator_id  calls_count  \\\n",
       "0       out     False            True        10594       139219   \n",
       "1       out     False           False        10026        96826   \n",
       "2        in     False           False        10978        57886   \n",
       "3        in     False            True         7381        46112   \n",
       "4       out      True           False         2557         7942   \n",
       "5       out      True            True         2422         5071   \n",
       "6        in      True            True          300          944   \n",
       "7        in      True           False          371          677   \n",
       "\n",
       "                               type  \n",
       "0     исходящий внешний пропущенный  \n",
       "1        исходящий внешний принятый  \n",
       "2         входящий внешний принятый  \n",
       "3      входящий внешний пропущенный  \n",
       "4     исходящий внутренний принятый  \n",
       "5  исходящий внутренний пропущенный  \n",
       "6   входящий внутренний пропущенный  \n",
       "7      входящий внутренний принятый  "
      ]
     },
     "execution_count": 81,
     "metadata": {},
     "output_type": "execute_result"
    }
   ],
   "source": [
    "calls_count_pivot['type'] = calls_count_pivot.apply(get_name, axis=1)\n",
    "calls_count_pivot"
   ]
  },
  {
   "cell_type": "code",
   "execution_count": 99,
   "metadata": {},
   "outputs": [
    {
     "data": {
      "image/png": "[encoded data removed]",
      "text/plain": [
       "<Figure size 576x576 with 1 Axes>"
      ]
     },
     "metadata": {},
     "output_type": "display_data"
    }
   ],
   "source": [
    "plt.figure(figsize=(8, 8))\n",
    "plt.pie(calls_count_pivot.loc[:5]['calls_count'], \n",
    "        labels=calls_count_pivot.loc[:5]['type'],\n",
    "       autopct='%1.1f%%')\n",
    "plt.show()"
   ]
  },
  {
   "cell_type": "markdown",
   "metadata": {},
   "source": [
    "Самые популярные типы звонков исходящие невнутренние звонки. Чаще они пропущенные. Если это рекламные звонки, то не удивительно, что многие люди просто не берут трубку. Входящих внешних принятых больше, хотя и пропущенных не мало. Для операторов входящих звонков это не хорошо. \n",
    "\n",
    "Что касается внутренних вызовов - мне кажется странным, что исходящих и входящих не равное количество... Если оператор позвонил оператору, то у одного должна появиться запись исходящего, а у второго - входящего, разве нет? "
   ]
  },
  {
   "cell_type": "markdown",
   "metadata": {},
   "source": [
    "## Операторы входящих и исходящих вызовов\n",
    "Важно разделять входящие и исходящие звонки, так как у них будут разные признаки эффективности. Для этого доработаем нашу таблицу. Добавим к ней среднее время разговора (это время будет рассчитываться для каждой записи). В дальнейшем это позволит рассчитать среднее время звонка как среднее средних."
   ]
  },
  {
   "cell_type": "code",
   "execution_count": 35,
   "metadata": {},
   "outputs": [
    {
     "data": {
      "text/html": [
       "<div>\n",
       "<style scoped>\n",
       "    .dataframe tbody tr th:only-of-type {\n",
       "        vertical-align: middle;\n",
       "    }\n",
       "\n",
       "    .dataframe tbody tr th {\n",
       "        vertical-align: top;\n",
       "    }\n",
       "\n",
       "    .dataframe thead th {\n",
       "        text-align: right;\n",
       "    }\n",
       "</style>\n",
       "<table border=\"1\" class=\"dataframe\">\n",
       "  <thead>\n",
       "    <tr style=\"text-align: right;\">\n",
       "      <th></th>\n",
       "      <th>user_id</th>\n",
       "      <th>date</th>\n",
       "      <th>direction</th>\n",
       "      <th>internal</th>\n",
       "      <th>operator_id</th>\n",
       "      <th>is_missed_call</th>\n",
       "      <th>calls_count</th>\n",
       "      <th>call_duration</th>\n",
       "      <th>total_call_duration</th>\n",
       "      <th>avg_waiting_time</th>\n",
       "      <th>avg_call_duration</th>\n",
       "    </tr>\n",
       "  </thead>\n",
       "  <tbody>\n",
       "    <tr>\n",
       "      <th>0</th>\n",
       "      <td>166377</td>\n",
       "      <td>2019-08-04</td>\n",
       "      <td>in</td>\n",
       "      <td>False</td>\n",
       "      <td>0</td>\n",
       "      <td>True</td>\n",
       "      <td>2</td>\n",
       "      <td>0</td>\n",
       "      <td>4</td>\n",
       "      <td>0.0</td>\n",
       "      <td>0.0</td>\n",
       "    </tr>\n",
       "    <tr>\n",
       "      <th>1</th>\n",
       "      <td>166377</td>\n",
       "      <td>2019-08-05</td>\n",
       "      <td>out</td>\n",
       "      <td>True</td>\n",
       "      <td>880022</td>\n",
       "      <td>True</td>\n",
       "      <td>3</td>\n",
       "      <td>0</td>\n",
       "      <td>5</td>\n",
       "      <td>0.0</td>\n",
       "      <td>0.0</td>\n",
       "    </tr>\n",
       "    <tr>\n",
       "      <th>2</th>\n",
       "      <td>166377</td>\n",
       "      <td>2019-08-05</td>\n",
       "      <td>out</td>\n",
       "      <td>True</td>\n",
       "      <td>880020</td>\n",
       "      <td>True</td>\n",
       "      <td>1</td>\n",
       "      <td>0</td>\n",
       "      <td>1</td>\n",
       "      <td>0.0</td>\n",
       "      <td>0.0</td>\n",
       "    </tr>\n",
       "    <tr>\n",
       "      <th>3</th>\n",
       "      <td>166377</td>\n",
       "      <td>2019-08-05</td>\n",
       "      <td>out</td>\n",
       "      <td>True</td>\n",
       "      <td>880020</td>\n",
       "      <td>False</td>\n",
       "      <td>1</td>\n",
       "      <td>10</td>\n",
       "      <td>18</td>\n",
       "      <td>8.0</td>\n",
       "      <td>10.0</td>\n",
       "    </tr>\n",
       "    <tr>\n",
       "      <th>4</th>\n",
       "      <td>166377</td>\n",
       "      <td>2019-08-05</td>\n",
       "      <td>out</td>\n",
       "      <td>False</td>\n",
       "      <td>880022</td>\n",
       "      <td>True</td>\n",
       "      <td>3</td>\n",
       "      <td>0</td>\n",
       "      <td>25</td>\n",
       "      <td>0.0</td>\n",
       "      <td>0.0</td>\n",
       "    </tr>\n",
       "  </tbody>\n",
       "</table>\n",
       "</div>"
      ],
      "text/plain": [
       "   user_id       date direction  internal  operator_id  is_missed_call  \\\n",
       "0   166377 2019-08-04        in     False            0            True   \n",
       "1   166377 2019-08-05       out      True       880022            True   \n",
       "2   166377 2019-08-05       out      True       880020            True   \n",
       "3   166377 2019-08-05       out      True       880020           False   \n",
       "4   166377 2019-08-05       out     False       880022            True   \n",
       "\n",
       "   calls_count  call_duration  total_call_duration  avg_waiting_time  \\\n",
       "0            2              0                    4               0.0   \n",
       "1            3              0                    5               0.0   \n",
       "2            1              0                    1               0.0   \n",
       "3            1             10                   18               8.0   \n",
       "4            3              0                   25               0.0   \n",
       "\n",
       "   avg_call_duration  \n",
       "0                0.0  \n",
       "1                0.0  \n",
       "2                0.0  \n",
       "3               10.0  \n",
       "4                0.0  "
      ]
     },
     "execution_count": 35,
     "metadata": {},
     "output_type": "execute_result"
    }
   ],
   "source": [
    "# среднее время звонка\n",
    "telecom['avg_call_duration'] = telecom['call_duration'] / telecom['calls_count'] \n",
    "telecom.head()"
   ]
  },
  {
   "cell_type": "markdown",
   "metadata": {},
   "source": [
    "Сделаем сводную таблицу с разбиением по операторам и типу вызова (входящий или исходящий). "
   ]
  },
  {
   "cell_type": "code",
   "execution_count": 36,
   "metadata": {},
   "outputs": [
    {
     "data": {
      "text/html": [
       "<div>\n",
       "<style scoped>\n",
       "    .dataframe tbody tr th:only-of-type {\n",
       "        vertical-align: middle;\n",
       "    }\n",
       "\n",
       "    .dataframe tbody tr th {\n",
       "        vertical-align: top;\n",
       "    }\n",
       "\n",
       "    .dataframe thead th {\n",
       "        text-align: right;\n",
       "    }\n",
       "</style>\n",
       "<table border=\"1\" class=\"dataframe\">\n",
       "  <thead>\n",
       "    <tr style=\"text-align: right;\">\n",
       "      <th></th>\n",
       "      <th>operator_id</th>\n",
       "      <th>internal</th>\n",
       "      <th>sum_in</th>\n",
       "      <th>sum_out</th>\n",
       "    </tr>\n",
       "  </thead>\n",
       "  <tbody>\n",
       "    <tr>\n",
       "      <th>0</th>\n",
       "      <td>0</td>\n",
       "      <td>False</td>\n",
       "      <td>45276.0</td>\n",
       "      <td>186.0</td>\n",
       "    </tr>\n",
       "    <tr>\n",
       "      <th>1</th>\n",
       "      <td>0</td>\n",
       "      <td>True</td>\n",
       "      <td>930.0</td>\n",
       "      <td>60.0</td>\n",
       "    </tr>\n",
       "    <tr>\n",
       "      <th>2</th>\n",
       "      <td>879896</td>\n",
       "      <td>False</td>\n",
       "      <td>58.0</td>\n",
       "      <td>438.0</td>\n",
       "    </tr>\n",
       "    <tr>\n",
       "      <th>3</th>\n",
       "      <td>879896</td>\n",
       "      <td>True</td>\n",
       "      <td>NaN</td>\n",
       "      <td>56.0</td>\n",
       "    </tr>\n",
       "    <tr>\n",
       "      <th>4</th>\n",
       "      <td>879898</td>\n",
       "      <td>False</td>\n",
       "      <td>103.0</td>\n",
       "      <td>3182.0</td>\n",
       "    </tr>\n",
       "    <tr>\n",
       "      <th>5</th>\n",
       "      <td>879898</td>\n",
       "      <td>True</td>\n",
       "      <td>NaN</td>\n",
       "      <td>18.0</td>\n",
       "    </tr>\n",
       "    <tr>\n",
       "      <th>6</th>\n",
       "      <td>880020</td>\n",
       "      <td>False</td>\n",
       "      <td>7.0</td>\n",
       "      <td>34.0</td>\n",
       "    </tr>\n",
       "    <tr>\n",
       "      <th>7</th>\n",
       "      <td>880020</td>\n",
       "      <td>True</td>\n",
       "      <td>NaN</td>\n",
       "      <td>4.0</td>\n",
       "    </tr>\n",
       "    <tr>\n",
       "      <th>8</th>\n",
       "      <td>880022</td>\n",
       "      <td>False</td>\n",
       "      <td>8.0</td>\n",
       "      <td>174.0</td>\n",
       "    </tr>\n",
       "    <tr>\n",
       "      <th>9</th>\n",
       "      <td>880022</td>\n",
       "      <td>True</td>\n",
       "      <td>NaN</td>\n",
       "      <td>15.0</td>\n",
       "    </tr>\n",
       "  </tbody>\n",
       "</table>\n",
       "</div>"
      ],
      "text/plain": [
       "   operator_id  internal   sum_in  sum_out\n",
       "0            0     False  45276.0    186.0\n",
       "1            0      True    930.0     60.0\n",
       "2       879896     False     58.0    438.0\n",
       "3       879896      True      NaN     56.0\n",
       "4       879898     False    103.0   3182.0\n",
       "5       879898      True      NaN     18.0\n",
       "6       880020     False      7.0     34.0\n",
       "7       880020      True      NaN      4.0\n",
       "8       880022     False      8.0    174.0\n",
       "9       880022      True      NaN     15.0"
      ]
     },
     "execution_count": 36,
     "metadata": {},
     "output_type": "execute_result"
    }
   ],
   "source": [
    "# определение количества входящих и исходящих вызовов для операторов\n",
    "operators_pivot = telecom.pivot_table(\n",
    "    index=['operator_id', 'internal'],\n",
    "    columns='direction',\n",
    "    values='calls_count',\n",
    "    aggfunc=['sum']\n",
    ").reset_index()\n",
    "operators_pivot.columns = ['operator_id', 'internal', 'sum_in', 'sum_out']\n",
    "operators_pivot.head(10)"
   ]
  },
  {
   "cell_type": "code",
   "execution_count": 37,
   "metadata": {},
   "outputs": [],
   "source": [
    "# за полнение пропусков\n",
    "operators_pivot.fillna(0, inplace=True)"
   ]
  },
  {
   "cell_type": "markdown",
   "metadata": {},
   "source": [
    "Для операторов входящих и исходящих вызовов будут разные признаки эффективности, поэтому важно разделять звонки. Если задача оператора - делать исходящие звонки, то эффективность проверим на этих звонках, ведь входящие для него редкость и не основная задача. \n",
    "\n",
    "Введем понятие приоритетных вызовов. Если входящих звонков больше, чем исходящих - значит эффективность такого будем считать по признакам для оператора входящих выхозов. Граница в половину вызовов довольно строгая, и для случая с количеством звонков 7 против 8 не подходит. На этот случай можно рассчитать эффективность для неприоритетного направления, если это необходимо. Таким образом мы не упутим из исследования ни один звонок. \n",
    "\n",
    "Также важна не только эффективность не только в работе с клиентами колл-центра, но и в работе между сотрудниками. Поэтому будем рассматривать отдельно внутренние и внешние звонки. \n",
    "\n",
    "Итак, в автоматизацию будет входить несколько режимов просмотра неэффективной работы: \n",
    "* **операторы входящих звонков** - эффективность с приоритетом **in** (дополнительно out), **внешние** звонки\n",
    "* **операторы входящих звонков** - эффективность с приоритетом **in** (дополнительно out), **внутренние** звонки\n",
    "* **операторы исходящих звонков** - эффективность с приоритетом **out** (дополнительно in), **внешние** звонки\n",
    "* **операторы исходящих звонков** - эффективность с приоритетом **out** (дополнительно in), внутренние звонки"
   ]
  },
  {
   "cell_type": "code",
   "execution_count": 38,
   "metadata": {},
   "outputs": [],
   "source": [
    "# определение приоритета для строки\n",
    "def priority(row):\n",
    "    if row['sum_in'] > row['sum_out']:\n",
    "        return 'in'\n",
    "    else: \n",
    "        return 'out'"
   ]
  },
  {
   "cell_type": "code",
   "execution_count": 39,
   "metadata": {},
   "outputs": [
    {
     "data": {
      "text/html": [
       "<div>\n",
       "<style scoped>\n",
       "    .dataframe tbody tr th:only-of-type {\n",
       "        vertical-align: middle;\n",
       "    }\n",
       "\n",
       "    .dataframe tbody tr th {\n",
       "        vertical-align: top;\n",
       "    }\n",
       "\n",
       "    .dataframe thead th {\n",
       "        text-align: right;\n",
       "    }\n",
       "</style>\n",
       "<table border=\"1\" class=\"dataframe\">\n",
       "  <thead>\n",
       "    <tr style=\"text-align: right;\">\n",
       "      <th></th>\n",
       "      <th>operator_id</th>\n",
       "      <th>internal</th>\n",
       "      <th>sum_in</th>\n",
       "      <th>sum_out</th>\n",
       "      <th>priority</th>\n",
       "    </tr>\n",
       "  </thead>\n",
       "  <tbody>\n",
       "    <tr>\n",
       "      <th>0</th>\n",
       "      <td>0</td>\n",
       "      <td>False</td>\n",
       "      <td>45276.0</td>\n",
       "      <td>186.0</td>\n",
       "      <td>in</td>\n",
       "    </tr>\n",
       "    <tr>\n",
       "      <th>1</th>\n",
       "      <td>0</td>\n",
       "      <td>True</td>\n",
       "      <td>930.0</td>\n",
       "      <td>60.0</td>\n",
       "      <td>in</td>\n",
       "    </tr>\n",
       "    <tr>\n",
       "      <th>2</th>\n",
       "      <td>879896</td>\n",
       "      <td>False</td>\n",
       "      <td>58.0</td>\n",
       "      <td>438.0</td>\n",
       "      <td>out</td>\n",
       "    </tr>\n",
       "    <tr>\n",
       "      <th>3</th>\n",
       "      <td>879896</td>\n",
       "      <td>True</td>\n",
       "      <td>0.0</td>\n",
       "      <td>56.0</td>\n",
       "      <td>out</td>\n",
       "    </tr>\n",
       "    <tr>\n",
       "      <th>4</th>\n",
       "      <td>879898</td>\n",
       "      <td>False</td>\n",
       "      <td>103.0</td>\n",
       "      <td>3182.0</td>\n",
       "      <td>out</td>\n",
       "    </tr>\n",
       "    <tr>\n",
       "      <th>5</th>\n",
       "      <td>879898</td>\n",
       "      <td>True</td>\n",
       "      <td>0.0</td>\n",
       "      <td>18.0</td>\n",
       "      <td>out</td>\n",
       "    </tr>\n",
       "  </tbody>\n",
       "</table>\n",
       "</div>"
      ],
      "text/plain": [
       "   operator_id  internal   sum_in  sum_out priority\n",
       "0            0     False  45276.0    186.0       in\n",
       "1            0      True    930.0     60.0       in\n",
       "2       879896     False     58.0    438.0      out\n",
       "3       879896      True      0.0     56.0      out\n",
       "4       879898     False    103.0   3182.0      out\n",
       "5       879898      True      0.0     18.0      out"
      ]
     },
     "execution_count": 39,
     "metadata": {},
     "output_type": "execute_result"
    }
   ],
   "source": [
    "# добавление приоритета\n",
    "operators_pivot['priority'] = operators_pivot.apply(priority, axis=1)\n",
    "operators_pivot.head(6)"
   ]
  },
  {
   "cell_type": "markdown",
   "metadata": {},
   "source": [
    "Теперь для поиска неэффективных операторов необходимо указать их приоритет. То есть орепаторы с приоритетом in - это операторы, которых мы определили как операторов входящих вызовов. Но возможно такие и попали в приоритет out, хотя по факту входящие выховы - не их задача. На этот случай можно посмотреть неэффективных операторов исходящей связи по признакам входящих."
   ]
  },
  {
   "cell_type": "markdown",
   "metadata": {},
   "source": [
    "## Определение признаков эффективности "
   ]
  },
  {
   "cell_type": "markdown",
   "metadata": {},
   "source": [
    "Эффективность операторов **входящих** звонков определяется по **количеству пропущенных звонков** и по **времени ожидания входящих звонков**.\n",
    "\n",
    "Эффективность операторов **исходящих** звонков определяется по **количеству совершённых звонков**. "
   ]
  },
  {
   "cell_type": "markdown",
   "metadata": {},
   "source": [
    "Так как мы берём весь период исследования, то необходимо построит таблицу со средними значениями. Сделаем это с разбивкой по разным типам звонков. Таким образом мы сможем корректно разделять информацию при поиске неэффективных операторов."
   ]
  },
  {
   "cell_type": "code",
   "execution_count": 40,
   "metadata": {},
   "outputs": [
    {
     "data": {
      "text/html": [
       "<div>\n",
       "<style scoped>\n",
       "    .dataframe tbody tr th:only-of-type {\n",
       "        vertical-align: middle;\n",
       "    }\n",
       "\n",
       "    .dataframe tbody tr th {\n",
       "        vertical-align: top;\n",
       "    }\n",
       "\n",
       "    .dataframe thead th {\n",
       "        text-align: right;\n",
       "    }\n",
       "</style>\n",
       "<table border=\"1\" class=\"dataframe\">\n",
       "  <thead>\n",
       "    <tr style=\"text-align: right;\">\n",
       "      <th></th>\n",
       "      <th>operator_id</th>\n",
       "      <th>direction</th>\n",
       "      <th>internal</th>\n",
       "      <th>is_missed_call</th>\n",
       "      <th>calls_count</th>\n",
       "      <th>sum_calls_count</th>\n",
       "      <th>avg_waiting_time</th>\n",
       "      <th>avg_call_duration</th>\n",
       "    </tr>\n",
       "  </thead>\n",
       "  <tbody>\n",
       "    <tr>\n",
       "      <th>0</th>\n",
       "      <td>0</td>\n",
       "      <td>in</td>\n",
       "      <td>False</td>\n",
       "      <td>False</td>\n",
       "      <td>1.756757</td>\n",
       "      <td>65</td>\n",
       "      <td>19.292793</td>\n",
       "      <td>235.430180</td>\n",
       "    </tr>\n",
       "    <tr>\n",
       "      <th>1</th>\n",
       "      <td>0</td>\n",
       "      <td>in</td>\n",
       "      <td>False</td>\n",
       "      <td>True</td>\n",
       "      <td>6.729830</td>\n",
       "      <td>45211</td>\n",
       "      <td>0.000000</td>\n",
       "      <td>0.000000</td>\n",
       "    </tr>\n",
       "    <tr>\n",
       "      <th>2</th>\n",
       "      <td>0</td>\n",
       "      <td>in</td>\n",
       "      <td>True</td>\n",
       "      <td>False</td>\n",
       "      <td>1.666667</td>\n",
       "      <td>10</td>\n",
       "      <td>4.250000</td>\n",
       "      <td>81.083333</td>\n",
       "    </tr>\n",
       "    <tr>\n",
       "      <th>3</th>\n",
       "      <td>0</td>\n",
       "      <td>in</td>\n",
       "      <td>True</td>\n",
       "      <td>True</td>\n",
       "      <td>3.297491</td>\n",
       "      <td>920</td>\n",
       "      <td>0.000000</td>\n",
       "      <td>0.000000</td>\n",
       "    </tr>\n",
       "    <tr>\n",
       "      <th>4</th>\n",
       "      <td>0</td>\n",
       "      <td>out</td>\n",
       "      <td>False</td>\n",
       "      <td>False</td>\n",
       "      <td>2.000000</td>\n",
       "      <td>42</td>\n",
       "      <td>13.301587</td>\n",
       "      <td>506.840476</td>\n",
       "    </tr>\n",
       "  </tbody>\n",
       "</table>\n",
       "</div>"
      ],
      "text/plain": [
       "   operator_id direction  internal  is_missed_call  calls_count  \\\n",
       "0            0        in     False           False     1.756757   \n",
       "1            0        in     False            True     6.729830   \n",
       "2            0        in      True           False     1.666667   \n",
       "3            0        in      True            True     3.297491   \n",
       "4            0       out     False           False     2.000000   \n",
       "\n",
       "   sum_calls_count  avg_waiting_time  avg_call_duration  \n",
       "0               65         19.292793         235.430180  \n",
       "1            45211          0.000000           0.000000  \n",
       "2               10          4.250000          81.083333  \n",
       "3              920          0.000000           0.000000  \n",
       "4               42         13.301587         506.840476  "
      ]
     },
     "execution_count": 40,
     "metadata": {},
     "output_type": "execute_result"
    }
   ],
   "source": [
    "# таблица со средними значениями\n",
    "telecom_avg = (\n",
    "    telecom.groupby(['operator_id', 'direction', 'internal', 'is_missed_call'])\n",
    "    .agg({'calls_count': ['mean', 'sum'], 'avg_waiting_time': 'mean', 'avg_call_duration': 'mean'})\n",
    "    .reset_index()\n",
    ")\n",
    "telecom_avg.columns = ['operator_id', 'direction', 'internal', 'is_missed_call', 'calls_count', 'sum_calls_count', 'avg_waiting_time', 'avg_call_duration']\n",
    "telecom_avg.head(5)"
   ]
  },
  {
   "cell_type": "code",
   "execution_count": 41,
   "metadata": {},
   "outputs": [],
   "source": [
    "# жобавление приоритетов в таблицу\n",
    "telecom_avg = pd.merge(\n",
    "    telecom_avg, \n",
    "    operators_pivot[['operator_id', 'internal', 'priority']],\n",
    "    how='left',\n",
    "    left_on=['operator_id', 'internal'],\n",
    "    right_on=['operator_id', 'internal']\n",
    ")"
   ]
  },
  {
   "cell_type": "code",
   "execution_count": 42,
   "metadata": {},
   "outputs": [
    {
     "data": {
      "text/html": [
       "<div>\n",
       "<style scoped>\n",
       "    .dataframe tbody tr th:only-of-type {\n",
       "        vertical-align: middle;\n",
       "    }\n",
       "\n",
       "    .dataframe tbody tr th {\n",
       "        vertical-align: top;\n",
       "    }\n",
       "\n",
       "    .dataframe thead th {\n",
       "        text-align: right;\n",
       "    }\n",
       "</style>\n",
       "<table border=\"1\" class=\"dataframe\">\n",
       "  <thead>\n",
       "    <tr style=\"text-align: right;\">\n",
       "      <th></th>\n",
       "      <th>operator_id</th>\n",
       "      <th>direction</th>\n",
       "      <th>internal</th>\n",
       "      <th>is_missed_call</th>\n",
       "      <th>calls_count</th>\n",
       "      <th>sum_calls_count</th>\n",
       "      <th>avg_waiting_time</th>\n",
       "      <th>avg_call_duration</th>\n",
       "      <th>priority</th>\n",
       "    </tr>\n",
       "  </thead>\n",
       "  <tbody>\n",
       "    <tr>\n",
       "      <th>0</th>\n",
       "      <td>0</td>\n",
       "      <td>in</td>\n",
       "      <td>False</td>\n",
       "      <td>False</td>\n",
       "      <td>1.756757</td>\n",
       "      <td>65</td>\n",
       "      <td>19.292793</td>\n",
       "      <td>235.430180</td>\n",
       "      <td>in</td>\n",
       "    </tr>\n",
       "    <tr>\n",
       "      <th>1</th>\n",
       "      <td>0</td>\n",
       "      <td>in</td>\n",
       "      <td>False</td>\n",
       "      <td>True</td>\n",
       "      <td>6.729830</td>\n",
       "      <td>45211</td>\n",
       "      <td>0.000000</td>\n",
       "      <td>0.000000</td>\n",
       "      <td>in</td>\n",
       "    </tr>\n",
       "    <tr>\n",
       "      <th>2</th>\n",
       "      <td>0</td>\n",
       "      <td>in</td>\n",
       "      <td>True</td>\n",
       "      <td>False</td>\n",
       "      <td>1.666667</td>\n",
       "      <td>10</td>\n",
       "      <td>4.250000</td>\n",
       "      <td>81.083333</td>\n",
       "      <td>in</td>\n",
       "    </tr>\n",
       "    <tr>\n",
       "      <th>3</th>\n",
       "      <td>0</td>\n",
       "      <td>in</td>\n",
       "      <td>True</td>\n",
       "      <td>True</td>\n",
       "      <td>3.297491</td>\n",
       "      <td>920</td>\n",
       "      <td>0.000000</td>\n",
       "      <td>0.000000</td>\n",
       "      <td>in</td>\n",
       "    </tr>\n",
       "    <tr>\n",
       "      <th>4</th>\n",
       "      <td>0</td>\n",
       "      <td>out</td>\n",
       "      <td>False</td>\n",
       "      <td>False</td>\n",
       "      <td>2.000000</td>\n",
       "      <td>42</td>\n",
       "      <td>13.301587</td>\n",
       "      <td>506.840476</td>\n",
       "      <td>in</td>\n",
       "    </tr>\n",
       "  </tbody>\n",
       "</table>\n",
       "</div>"
      ],
      "text/plain": [
       "   operator_id direction  internal  is_missed_call  calls_count  \\\n",
       "0            0        in     False           False     1.756757   \n",
       "1            0        in     False            True     6.729830   \n",
       "2            0        in      True           False     1.666667   \n",
       "3            0        in      True            True     3.297491   \n",
       "4            0       out     False           False     2.000000   \n",
       "\n",
       "   sum_calls_count  avg_waiting_time  avg_call_duration priority  \n",
       "0               65         19.292793         235.430180       in  \n",
       "1            45211          0.000000           0.000000       in  \n",
       "2               10          4.250000          81.083333       in  \n",
       "3              920          0.000000           0.000000       in  \n",
       "4               42         13.301587         506.840476       in  "
      ]
     },
     "execution_count": 42,
     "metadata": {},
     "output_type": "execute_result"
    }
   ],
   "source": [
    "telecom_avg.head(5)"
   ]
  },
  {
   "cell_type": "markdown",
   "metadata": {},
   "source": [
    "Для определения порогового значения нужно выбрать не фиксированную метрику. То есть медиана не подойдет, так как если её выбрать пороговым значением, то всегда неэффективными будут половина операторов. Их количество не должно зависеть от количества операторов. Мода является самым частовстречающимся значением, в нашем случаее оно вероятнее всего будет маленьким (судя по распределению), тогда неэффективными будут даже больше половины сотрудников. Операторы со значнием признака в районе моды можно назвать скорее нормой. Её можно использовать для порогового значения неэффективности для признака \"мало исходящих звонков\". Если считать что мода - это минимальное количество звонков в день, то операторы, совершившие меньшее количество звонков не выполнили норму, а значит являются не эффективными. Мода подойдет, так как количество звонков - целое число, оно будет встречатся несколько раз, в отличае от среднего время ожидания. Поэтому для остальных признаков за  границу возьмём среднее значение. Оно чувствительно в выбросам, но в данном случае это не плохо. Так точно самые большие показатели оказутся неэффективными."
   ]
  },
  {
   "cell_type": "markdown",
   "metadata": {},
   "source": [
    "## Эффективность операторов входящих звонков"
   ]
  },
  {
   "cell_type": "markdown",
   "metadata": {},
   "source": [
    "Начнем с определения эффективности входящих звонков. Каждой записи таблицы присвоен приоритет оператора. Так, если мы сделаем срез по приоритету входящих вызовов, то в таблицу попадут все записи этого оператора, и исходящие звонки тоже. Будем рассчитывать метрики именно по срезу по приоритету, а не по всем данным. \n",
    "\n",
    "Первый признак - слишком долгое время ожидания. Для пропущенных входящих время нулевое, поэтому мы его исключаем из вычисления среднего. В пропущенных входящих важнее то, что звонок не принят. Значение, после которого оператор считается неэффективным - среднее значение. \n",
    "\n",
    "Второй признак - вликом много пропущенных звонков. В этом случае наоборот оставляем строки с пропущенными вызовами. "
   ]
  },
  {
   "cell_type": "code",
   "execution_count": 43,
   "metadata": {},
   "outputs": [],
   "source": [
    "# определение неэффективных операторов \n",
    "def effectiveness_in(data, priority, internal, feature):\n",
    "    '''\n",
    "    Возвращает таблицу с неэффективными операторами по исходящим звонкам\n",
    "    \n",
    "        Параметры:\n",
    "        * data - таблица со средними значениями для каждого оператора\n",
    "        * priority - приоритет операторов (in, out)\n",
    "        * internal - внутренний звонок (True, False)\n",
    "        * feature - признак\n",
    "    '''\n",
    "    \n",
    "    # срез по параметрам\n",
    "    filtered_data = data.query('priority == @priority and internal == @internal and direction == \\'in\\'')\n",
    "    \n",
    "    # удаляем записи с пропущенными вызовами, если признак - среднее время ожидания\n",
    "    if feature == 'avg_waiting_time':\n",
    "        filtered_data = filtered_data.query('is_missed_call == False')\n",
    "    # оставляем только записи с пропущенными вызовами, если признак - пропущенные звонки\n",
    "    else:\n",
    "        filtered_data = filtered_data.query('is_missed_call == True')\n",
    "        \n",
    "    # рассчитываем среднее и делаем срез\n",
    "    filter_value = filtered_data[feature].mean()\n",
    "    filtered_data = filtered_data[filtered_data[feature] > filter_value].sort_values(by=feature, ascending=False)\n",
    "    \n",
    "    # формируем причину неэффективности (то есть название признака, который рассмариваем)\n",
    "    if internal == True:\n",
    "        filtered_data['feature'] = 'internal'\n",
    "    else: \n",
    "        filtered_data['feature'] = 'external'\n",
    "    filtered_data['feature'] = filtered_data['feature'] + f' \\'in\\' ({feature})' \n",
    "    \n",
    "    return filter_value, filtered_data[['operator_id', feature, 'feature']].reset_index(drop=True)"
   ]
  },
  {
   "cell_type": "code",
   "execution_count": 44,
   "metadata": {},
   "outputs": [],
   "source": [
    "# вывод описания результата\n",
    "def display_result(filter_value, result):\n",
    "    print('Количество неэффективных операторов:', result.shape[0])\n",
    "    print('Доля от всех операторов: {:.2%}'.format(result.shape[0] / operators_count))\n",
    "    print('Пороговое значение:', filter_value)\n",
    "    print('\\nТоп-5 неэффективных операторов: ')\n",
    "    display(result.head())"
   ]
  },
  {
   "cell_type": "markdown",
   "metadata": {},
   "source": [
    "Теперь есть функция, которая вычисляет неэффективность по входящим звонкам для всех типов операторов."
   ]
  },
  {
   "cell_type": "markdown",
   "metadata": {},
   "source": [
    "### Эффективность по времени ожидания ответа - внешние вызовы"
   ]
  },
  {
   "cell_type": "code",
   "execution_count": 45,
   "metadata": {},
   "outputs": [
    {
     "name": "stdout",
     "output_type": "stream",
     "text": [
      "Неэффективность по времени ожидания\n",
      "\n",
      "Количество неэффективных операторов: 145\n",
      "Доля от всех операторов: 13.27%\n",
      "Пороговое значение: 19.27777291081279\n",
      "\n",
      "Топ-5 неэффективных операторов: \n"
     ]
    },
    {
     "data": {
      "text/html": [
       "<div>\n",
       "<style scoped>\n",
       "    .dataframe tbody tr th:only-of-type {\n",
       "        vertical-align: middle;\n",
       "    }\n",
       "\n",
       "    .dataframe tbody tr th {\n",
       "        vertical-align: top;\n",
       "    }\n",
       "\n",
       "    .dataframe thead th {\n",
       "        text-align: right;\n",
       "    }\n",
       "</style>\n",
       "<table border=\"1\" class=\"dataframe\">\n",
       "  <thead>\n",
       "    <tr style=\"text-align: right;\">\n",
       "      <th></th>\n",
       "      <th>operator_id</th>\n",
       "      <th>avg_waiting_time</th>\n",
       "      <th>feature</th>\n",
       "    </tr>\n",
       "  </thead>\n",
       "  <tbody>\n",
       "    <tr>\n",
       "      <th>0</th>\n",
       "      <td>899900</td>\n",
       "      <td>71.00</td>\n",
       "      <td>external 'in' (avg_waiting_time)</td>\n",
       "    </tr>\n",
       "    <tr>\n",
       "      <th>1</th>\n",
       "      <td>920930</td>\n",
       "      <td>62.00</td>\n",
       "      <td>external 'in' (avg_waiting_time)</td>\n",
       "    </tr>\n",
       "    <tr>\n",
       "      <th>2</th>\n",
       "      <td>910958</td>\n",
       "      <td>59.50</td>\n",
       "      <td>external 'in' (avg_waiting_time)</td>\n",
       "    </tr>\n",
       "    <tr>\n",
       "      <th>3</th>\n",
       "      <td>908300</td>\n",
       "      <td>57.00</td>\n",
       "      <td>external 'in' (avg_waiting_time)</td>\n",
       "    </tr>\n",
       "    <tr>\n",
       "      <th>4</th>\n",
       "      <td>937366</td>\n",
       "      <td>56.25</td>\n",
       "      <td>external 'in' (avg_waiting_time)</td>\n",
       "    </tr>\n",
       "  </tbody>\n",
       "</table>\n",
       "</div>"
      ],
      "text/plain": [
       "   operator_id  avg_waiting_time                           feature\n",
       "0       899900             71.00  external 'in' (avg_waiting_time)\n",
       "1       920930             62.00  external 'in' (avg_waiting_time)\n",
       "2       910958             59.50  external 'in' (avg_waiting_time)\n",
       "3       908300             57.00  external 'in' (avg_waiting_time)\n",
       "4       937366             56.25  external 'in' (avg_waiting_time)"
      ]
     },
     "metadata": {},
     "output_type": "display_data"
    }
   ],
   "source": [
    "# таблица неэффективных операторов\n",
    "filter_value, waiting_list = effectiveness_in(telecom_avg, 'in', False, 'avg_waiting_time')\n",
    "print('Неэффективность по времени ожидания\\n')\n",
    "display_result(filter_value, waiting_list)\n",
    "\n",
    "# формирование общего списка неэффективных операторов и указание признака неэффективности\n",
    "inefficient_list = waiting_list[['operator_id', 'feature']]"
   ]
  },
  {
   "cell_type": "code",
   "execution_count": 46,
   "metadata": {
    "scrolled": true
   },
   "outputs": [
    {
     "name": "stdout",
     "output_type": "stream",
     "text": [
      "Неэффективность по среднему времени (не приоритет)\n",
      "\n",
      "Количество неэффективных операторов: 123\n",
      "Доля от всех операторов: 11.25%\n",
      "Пороговое значение: 16.40571269946703\n",
      "\n",
      "Топ-5 неэффективных операторов: \n"
     ]
    },
    {
     "data": {
      "text/html": [
       "<div>\n",
       "<style scoped>\n",
       "    .dataframe tbody tr th:only-of-type {\n",
       "        vertical-align: middle;\n",
       "    }\n",
       "\n",
       "    .dataframe tbody tr th {\n",
       "        vertical-align: top;\n",
       "    }\n",
       "\n",
       "    .dataframe thead th {\n",
       "        text-align: right;\n",
       "    }\n",
       "</style>\n",
       "<table border=\"1\" class=\"dataframe\">\n",
       "  <thead>\n",
       "    <tr style=\"text-align: right;\">\n",
       "      <th></th>\n",
       "      <th>operator_id</th>\n",
       "      <th>avg_waiting_time</th>\n",
       "      <th>feature</th>\n",
       "    </tr>\n",
       "  </thead>\n",
       "  <tbody>\n",
       "    <tr>\n",
       "      <th>0</th>\n",
       "      <td>905842</td>\n",
       "      <td>115.5000</td>\n",
       "      <td>external 'in' (avg_waiting_time)</td>\n",
       "    </tr>\n",
       "    <tr>\n",
       "      <th>1</th>\n",
       "      <td>917680</td>\n",
       "      <td>100.0000</td>\n",
       "      <td>external 'in' (avg_waiting_time)</td>\n",
       "    </tr>\n",
       "    <tr>\n",
       "      <th>2</th>\n",
       "      <td>907174</td>\n",
       "      <td>65.1875</td>\n",
       "      <td>external 'in' (avg_waiting_time)</td>\n",
       "    </tr>\n",
       "    <tr>\n",
       "      <th>3</th>\n",
       "      <td>960296</td>\n",
       "      <td>63.0000</td>\n",
       "      <td>external 'in' (avg_waiting_time)</td>\n",
       "    </tr>\n",
       "    <tr>\n",
       "      <th>4</th>\n",
       "      <td>922114</td>\n",
       "      <td>61.0000</td>\n",
       "      <td>external 'in' (avg_waiting_time)</td>\n",
       "    </tr>\n",
       "  </tbody>\n",
       "</table>\n",
       "</div>"
      ],
      "text/plain": [
       "   operator_id  avg_waiting_time                           feature\n",
       "0       905842          115.5000  external 'in' (avg_waiting_time)\n",
       "1       917680          100.0000  external 'in' (avg_waiting_time)\n",
       "2       907174           65.1875  external 'in' (avg_waiting_time)\n",
       "3       960296           63.0000  external 'in' (avg_waiting_time)\n",
       "4       922114           61.0000  external 'in' (avg_waiting_time)"
      ]
     },
     "metadata": {},
     "output_type": "display_data"
    }
   ],
   "source": [
    "# таблица неэффективных операторов\n",
    "filter_value, waiting_list = effectiveness_in(telecom_avg, 'out', False, 'avg_waiting_time')\n",
    "print('Неэффективность по среднему времени (не приоритет)\\n')\n",
    "display_result(filter_value, waiting_list)"
   ]
  },
  {
   "cell_type": "markdown",
   "metadata": {},
   "source": [
    "### Эффективность по времени ожидания ответа - внутренние вызовы"
   ]
  },
  {
   "cell_type": "code",
   "execution_count": 47,
   "metadata": {},
   "outputs": [
    {
     "name": "stdout",
     "output_type": "stream",
     "text": [
      "Неэффективность по времени ожидания\n",
      "\n",
      "Количество неэффективных операторов: 28\n",
      "Доля от всех операторов: 2.56%\n",
      "Пороговое значение: 15.047521435244649\n",
      "\n",
      "Топ-5 неэффективных операторов: \n"
     ]
    },
    {
     "data": {
      "text/html": [
       "<div>\n",
       "<style scoped>\n",
       "    .dataframe tbody tr th:only-of-type {\n",
       "        vertical-align: middle;\n",
       "    }\n",
       "\n",
       "    .dataframe tbody tr th {\n",
       "        vertical-align: top;\n",
       "    }\n",
       "\n",
       "    .dataframe thead th {\n",
       "        text-align: right;\n",
       "    }\n",
       "</style>\n",
       "<table border=\"1\" class=\"dataframe\">\n",
       "  <thead>\n",
       "    <tr style=\"text-align: right;\">\n",
       "      <th></th>\n",
       "      <th>operator_id</th>\n",
       "      <th>avg_waiting_time</th>\n",
       "      <th>feature</th>\n",
       "    </tr>\n",
       "  </thead>\n",
       "  <tbody>\n",
       "    <tr>\n",
       "      <th>0</th>\n",
       "      <td>908300</td>\n",
       "      <td>56.0</td>\n",
       "      <td>internal 'in' (avg_waiting_time)</td>\n",
       "    </tr>\n",
       "    <tr>\n",
       "      <th>1</th>\n",
       "      <td>910958</td>\n",
       "      <td>53.0</td>\n",
       "      <td>internal 'in' (avg_waiting_time)</td>\n",
       "    </tr>\n",
       "    <tr>\n",
       "      <th>2</th>\n",
       "      <td>899900</td>\n",
       "      <td>45.0</td>\n",
       "      <td>internal 'in' (avg_waiting_time)</td>\n",
       "    </tr>\n",
       "    <tr>\n",
       "      <th>3</th>\n",
       "      <td>940508</td>\n",
       "      <td>41.0</td>\n",
       "      <td>internal 'in' (avg_waiting_time)</td>\n",
       "    </tr>\n",
       "    <tr>\n",
       "      <th>4</th>\n",
       "      <td>908152</td>\n",
       "      <td>40.0</td>\n",
       "      <td>internal 'in' (avg_waiting_time)</td>\n",
       "    </tr>\n",
       "  </tbody>\n",
       "</table>\n",
       "</div>"
      ],
      "text/plain": [
       "   operator_id  avg_waiting_time                           feature\n",
       "0       908300              56.0  internal 'in' (avg_waiting_time)\n",
       "1       910958              53.0  internal 'in' (avg_waiting_time)\n",
       "2       899900              45.0  internal 'in' (avg_waiting_time)\n",
       "3       940508              41.0  internal 'in' (avg_waiting_time)\n",
       "4       908152              40.0  internal 'in' (avg_waiting_time)"
      ]
     },
     "metadata": {},
     "output_type": "display_data"
    }
   ],
   "source": [
    "# таблица неэффективных операторов\n",
    "filter_value, waiting_list = effectiveness_in(telecom_avg, 'in', True, 'avg_waiting_time')\n",
    "print('Неэффективность по времени ожидания\\n')\n",
    "display_result(filter_value, waiting_list)\n",
    "\n",
    "# дополнение списка\n",
    "inefficient_list = pd.concat([inefficient_list, waiting_list[['operator_id', 'feature']]], ignore_index=True, sort=False)"
   ]
  },
  {
   "cell_type": "code",
   "execution_count": 48,
   "metadata": {},
   "outputs": [
    {
     "name": "stdout",
     "output_type": "stream",
     "text": [
      "Неэффективность по времени ожидания (не приоритет)\n",
      "\n",
      "Количество неэффективных операторов: 29\n",
      "Доля от всех операторов: 2.65%\n",
      "Пороговое значение: 16.75200207200207\n",
      "\n",
      "Топ-5 неэффективных операторов: \n"
     ]
    },
    {
     "data": {
      "text/html": [
       "<div>\n",
       "<style scoped>\n",
       "    .dataframe tbody tr th:only-of-type {\n",
       "        vertical-align: middle;\n",
       "    }\n",
       "\n",
       "    .dataframe tbody tr th {\n",
       "        vertical-align: top;\n",
       "    }\n",
       "\n",
       "    .dataframe thead th {\n",
       "        text-align: right;\n",
       "    }\n",
       "</style>\n",
       "<table border=\"1\" class=\"dataframe\">\n",
       "  <thead>\n",
       "    <tr style=\"text-align: right;\">\n",
       "      <th></th>\n",
       "      <th>operator_id</th>\n",
       "      <th>avg_waiting_time</th>\n",
       "      <th>feature</th>\n",
       "    </tr>\n",
       "  </thead>\n",
       "  <tbody>\n",
       "    <tr>\n",
       "      <th>0</th>\n",
       "      <td>924958</td>\n",
       "      <td>54.0</td>\n",
       "      <td>internal 'in' (avg_waiting_time)</td>\n",
       "    </tr>\n",
       "    <tr>\n",
       "      <th>1</th>\n",
       "      <td>931458</td>\n",
       "      <td>43.0</td>\n",
       "      <td>internal 'in' (avg_waiting_time)</td>\n",
       "    </tr>\n",
       "    <tr>\n",
       "      <th>2</th>\n",
       "      <td>919218</td>\n",
       "      <td>39.5</td>\n",
       "      <td>internal 'in' (avg_waiting_time)</td>\n",
       "    </tr>\n",
       "    <tr>\n",
       "      <th>3</th>\n",
       "      <td>924956</td>\n",
       "      <td>38.0</td>\n",
       "      <td>internal 'in' (avg_waiting_time)</td>\n",
       "    </tr>\n",
       "    <tr>\n",
       "      <th>4</th>\n",
       "      <td>940458</td>\n",
       "      <td>37.5</td>\n",
       "      <td>internal 'in' (avg_waiting_time)</td>\n",
       "    </tr>\n",
       "  </tbody>\n",
       "</table>\n",
       "</div>"
      ],
      "text/plain": [
       "   operator_id  avg_waiting_time                           feature\n",
       "0       924958              54.0  internal 'in' (avg_waiting_time)\n",
       "1       931458              43.0  internal 'in' (avg_waiting_time)\n",
       "2       919218              39.5  internal 'in' (avg_waiting_time)\n",
       "3       924956              38.0  internal 'in' (avg_waiting_time)\n",
       "4       940458              37.5  internal 'in' (avg_waiting_time)"
      ]
     },
     "metadata": {},
     "output_type": "display_data"
    }
   ],
   "source": [
    "# таблица неэффективных операторов\n",
    "filter_value, waiting_list = effectiveness_in(telecom_avg, 'out', True, 'avg_waiting_time')\n",
    "print('Неэффективность по времени ожидания (не приоритет)\\n')\n",
    "display_result(filter_value, waiting_list)"
   ]
  },
  {
   "cell_type": "markdown",
   "metadata": {},
   "source": [
    "### Эффективность по количеству пропущенных звонков - внешние вызовы"
   ]
  },
  {
   "cell_type": "code",
   "execution_count": 49,
   "metadata": {},
   "outputs": [
    {
     "name": "stdout",
     "output_type": "stream",
     "text": [
      "Неэффективность по количеcтву пропущенных звонков\n",
      "\n",
      "Количество неэффективных операторов: 26\n",
      "Доля от всех операторов: 2.38%\n",
      "Пороговое значение: 1.3783220430839647\n",
      "\n",
      "Топ-5 неэффективных операторов: \n"
     ]
    },
    {
     "data": {
      "text/html": [
       "<div>\n",
       "<style scoped>\n",
       "    .dataframe tbody tr th:only-of-type {\n",
       "        vertical-align: middle;\n",
       "    }\n",
       "\n",
       "    .dataframe tbody tr th {\n",
       "        vertical-align: top;\n",
       "    }\n",
       "\n",
       "    .dataframe thead th {\n",
       "        text-align: right;\n",
       "    }\n",
       "</style>\n",
       "<table border=\"1\" class=\"dataframe\">\n",
       "  <thead>\n",
       "    <tr style=\"text-align: right;\">\n",
       "      <th></th>\n",
       "      <th>operator_id</th>\n",
       "      <th>calls_count</th>\n",
       "      <th>feature</th>\n",
       "    </tr>\n",
       "  </thead>\n",
       "  <tbody>\n",
       "    <tr>\n",
       "      <th>0</th>\n",
       "      <td>0</td>\n",
       "      <td>6.72983</td>\n",
       "      <td>external 'in' (calls_count)</td>\n",
       "    </tr>\n",
       "    <tr>\n",
       "      <th>1</th>\n",
       "      <td>905862</td>\n",
       "      <td>5.00000</td>\n",
       "      <td>external 'in' (calls_count)</td>\n",
       "    </tr>\n",
       "    <tr>\n",
       "      <th>2</th>\n",
       "      <td>921814</td>\n",
       "      <td>4.00000</td>\n",
       "      <td>external 'in' (calls_count)</td>\n",
       "    </tr>\n",
       "    <tr>\n",
       "      <th>3</th>\n",
       "      <td>906392</td>\n",
       "      <td>3.50000</td>\n",
       "      <td>external 'in' (calls_count)</td>\n",
       "    </tr>\n",
       "    <tr>\n",
       "      <th>4</th>\n",
       "      <td>948286</td>\n",
       "      <td>3.00000</td>\n",
       "      <td>external 'in' (calls_count)</td>\n",
       "    </tr>\n",
       "  </tbody>\n",
       "</table>\n",
       "</div>"
      ],
      "text/plain": [
       "   operator_id  calls_count                      feature\n",
       "0            0      6.72983  external 'in' (calls_count)\n",
       "1       905862      5.00000  external 'in' (calls_count)\n",
       "2       921814      4.00000  external 'in' (calls_count)\n",
       "3       906392      3.50000  external 'in' (calls_count)\n",
       "4       948286      3.00000  external 'in' (calls_count)"
      ]
     },
     "metadata": {},
     "output_type": "display_data"
    }
   ],
   "source": [
    "# таблица неэффективных операторов\n",
    "filter_value, missed_calls_list = effectiveness_in(telecom_avg, 'in', False, 'calls_count')\n",
    "print('Неэффективность по количеcтву пропущенных звонков\\n')\n",
    "display_result(filter_value, missed_calls_list)\n",
    "\n",
    "# дополнение списка\n",
    "inefficient_list = pd.concat([inefficient_list, missed_calls_list[['operator_id', 'feature']]], ignore_index=True, sort=False)"
   ]
  },
  {
   "cell_type": "code",
   "execution_count": 50,
   "metadata": {},
   "outputs": [
    {
     "name": "stdout",
     "output_type": "stream",
     "text": [
      "Неэффективность по количеcтву пропущенных звонков (не приоритет)\n",
      "\n",
      "Количество неэффективных операторов: 20\n",
      "Доля от всех операторов: 1.83%\n",
      "Пороговое значение: 1.171108459951435\n",
      "\n",
      "Топ-5 неэффективных операторов: \n"
     ]
    },
    {
     "data": {
      "text/html": [
       "<div>\n",
       "<style scoped>\n",
       "    .dataframe tbody tr th:only-of-type {\n",
       "        vertical-align: middle;\n",
       "    }\n",
       "\n",
       "    .dataframe tbody tr th {\n",
       "        vertical-align: top;\n",
       "    }\n",
       "\n",
       "    .dataframe thead th {\n",
       "        text-align: right;\n",
       "    }\n",
       "</style>\n",
       "<table border=\"1\" class=\"dataframe\">\n",
       "  <thead>\n",
       "    <tr style=\"text-align: right;\">\n",
       "      <th></th>\n",
       "      <th>operator_id</th>\n",
       "      <th>calls_count</th>\n",
       "      <th>feature</th>\n",
       "    </tr>\n",
       "  </thead>\n",
       "  <tbody>\n",
       "    <tr>\n",
       "      <th>0</th>\n",
       "      <td>959312</td>\n",
       "      <td>7.0</td>\n",
       "      <td>external 'in' (calls_count)</td>\n",
       "    </tr>\n",
       "    <tr>\n",
       "      <th>1</th>\n",
       "      <td>906412</td>\n",
       "      <td>3.5</td>\n",
       "      <td>external 'in' (calls_count)</td>\n",
       "    </tr>\n",
       "    <tr>\n",
       "      <th>2</th>\n",
       "      <td>900352</td>\n",
       "      <td>3.0</td>\n",
       "      <td>external 'in' (calls_count)</td>\n",
       "    </tr>\n",
       "    <tr>\n",
       "      <th>3</th>\n",
       "      <td>964510</td>\n",
       "      <td>2.0</td>\n",
       "      <td>external 'in' (calls_count)</td>\n",
       "    </tr>\n",
       "    <tr>\n",
       "      <th>4</th>\n",
       "      <td>920706</td>\n",
       "      <td>2.0</td>\n",
       "      <td>external 'in' (calls_count)</td>\n",
       "    </tr>\n",
       "  </tbody>\n",
       "</table>\n",
       "</div>"
      ],
      "text/plain": [
       "   operator_id  calls_count                      feature\n",
       "0       959312          7.0  external 'in' (calls_count)\n",
       "1       906412          3.5  external 'in' (calls_count)\n",
       "2       900352          3.0  external 'in' (calls_count)\n",
       "3       964510          2.0  external 'in' (calls_count)\n",
       "4       920706          2.0  external 'in' (calls_count)"
      ]
     },
     "metadata": {},
     "output_type": "display_data"
    }
   ],
   "source": [
    "# таблица неэффективных операторов\n",
    "filter_value, missed_calls_list = effectiveness_in(telecom_avg, 'out', False, 'calls_count')\n",
    "print('Неэффективность по количеcтву пропущенных звонков (не приоритет)\\n')\n",
    "display_result(filter_value, missed_calls_list)"
   ]
  },
  {
   "cell_type": "markdown",
   "metadata": {},
   "source": [
    "### Эффективность по количеству пропущенных звонков - внутренние вызовы"
   ]
  },
  {
   "cell_type": "code",
   "execution_count": 51,
   "metadata": {},
   "outputs": [
    {
     "name": "stdout",
     "output_type": "stream",
     "text": [
      "Неэффективность по количеcтву пропущенных звонков\n",
      "\n",
      "Количество неэффективных операторов: 3\n",
      "Доля от всех операторов: 0.27%\n",
      "Пороговое значение: 1.4815900944933205\n",
      "\n",
      "Топ-5 неэффективных операторов: \n"
     ]
    },
    {
     "data": {
      "text/html": [
       "<div>\n",
       "<style scoped>\n",
       "    .dataframe tbody tr th:only-of-type {\n",
       "        vertical-align: middle;\n",
       "    }\n",
       "\n",
       "    .dataframe tbody tr th {\n",
       "        vertical-align: top;\n",
       "    }\n",
       "\n",
       "    .dataframe thead th {\n",
       "        text-align: right;\n",
       "    }\n",
       "</style>\n",
       "<table border=\"1\" class=\"dataframe\">\n",
       "  <thead>\n",
       "    <tr style=\"text-align: right;\">\n",
       "      <th></th>\n",
       "      <th>operator_id</th>\n",
       "      <th>calls_count</th>\n",
       "      <th>feature</th>\n",
       "    </tr>\n",
       "  </thead>\n",
       "  <tbody>\n",
       "    <tr>\n",
       "      <th>0</th>\n",
       "      <td>0</td>\n",
       "      <td>3.297491</td>\n",
       "      <td>internal 'in' (calls_count)</td>\n",
       "    </tr>\n",
       "    <tr>\n",
       "      <th>1</th>\n",
       "      <td>940624</td>\n",
       "      <td>3.000000</td>\n",
       "      <td>internal 'in' (calls_count)</td>\n",
       "    </tr>\n",
       "    <tr>\n",
       "      <th>2</th>\n",
       "      <td>940630</td>\n",
       "      <td>2.000000</td>\n",
       "      <td>internal 'in' (calls_count)</td>\n",
       "    </tr>\n",
       "  </tbody>\n",
       "</table>\n",
       "</div>"
      ],
      "text/plain": [
       "   operator_id  calls_count                      feature\n",
       "0            0     3.297491  internal 'in' (calls_count)\n",
       "1       940624     3.000000  internal 'in' (calls_count)\n",
       "2       940630     2.000000  internal 'in' (calls_count)"
      ]
     },
     "metadata": {},
     "output_type": "display_data"
    }
   ],
   "source": [
    "# таблица неэффективных операторов\n",
    "filter_value, missed_calls_list = effectiveness_in(telecom_avg, 'in', True, 'calls_count')\n",
    "print('Неэффективность по количеcтву пропущенных звонков\\n')\n",
    "display_result(filter_value, missed_calls_list)\n",
    "\n",
    "# дополнение списка\n",
    "inefficient_list = pd.concat([inefficient_list, missed_calls_list[['operator_id', 'feature']]], ignore_index=True, sort=False)"
   ]
  },
  {
   "cell_type": "code",
   "execution_count": 52,
   "metadata": {},
   "outputs": [
    {
     "name": "stdout",
     "output_type": "stream",
     "text": [
      "Неэффективность по количеcтву пропущенных звонков (не приоритет)\n",
      "\n",
      "Количество неэффективных операторов: 0\n",
      "Доля от всех операторов: 0.00%\n",
      "Пороговое значение: 1.0\n",
      "\n",
      "Топ-5 неэффективных операторов: \n"
     ]
    },
    {
     "data": {
      "text/html": [
       "<div>\n",
       "<style scoped>\n",
       "    .dataframe tbody tr th:only-of-type {\n",
       "        vertical-align: middle;\n",
       "    }\n",
       "\n",
       "    .dataframe tbody tr th {\n",
       "        vertical-align: top;\n",
       "    }\n",
       "\n",
       "    .dataframe thead th {\n",
       "        text-align: right;\n",
       "    }\n",
       "</style>\n",
       "<table border=\"1\" class=\"dataframe\">\n",
       "  <thead>\n",
       "    <tr style=\"text-align: right;\">\n",
       "      <th></th>\n",
       "      <th>operator_id</th>\n",
       "      <th>calls_count</th>\n",
       "      <th>feature</th>\n",
       "    </tr>\n",
       "  </thead>\n",
       "  <tbody>\n",
       "  </tbody>\n",
       "</table>\n",
       "</div>"
      ],
      "text/plain": [
       "Empty DataFrame\n",
       "Columns: [operator_id, calls_count, feature]\n",
       "Index: []"
      ]
     },
     "metadata": {},
     "output_type": "display_data"
    }
   ],
   "source": [
    "# таблица неэффективных операторов\n",
    "filter_value, missed_calls_list = effectiveness_in(telecom_avg, 'out', True, 'calls_count')\n",
    "print('Неэффективность по количеcтву пропущенных звонков (не приоритет)\\n')\n",
    "display_result(filter_value, missed_calls_list)"
   ]
  },
  {
   "cell_type": "markdown",
   "metadata": {},
   "source": [
    "Неэффективных операторов, определённых как оператор исходящих вызовов, по количеству входящих внутренних звонков не обнаружено. Теперь мы получили полный список неэффективных операторов и можем построить сводную таблицу. "
   ]
  },
  {
   "cell_type": "markdown",
   "metadata": {},
   "source": [
    "### Колл-центры с неэффективными операторами входящих звонков\n",
    "\n",
    "Теперь определим, у каких клиентов работают эти операторы. Затем узнаем, сколько таких операторов в каждом центре. "
   ]
  },
  {
   "cell_type": "code",
   "execution_count": 53,
   "metadata": {},
   "outputs": [],
   "source": [
    "# функция для отображения итоговых таблиц\n",
    "def create_result_tables(data, size):\n",
    "    data['count'] = 1\n",
    "    # построение сводной таблицы\n",
    "    inefficient_table = (\n",
    "        data.pivot_table(index='operator_id', \n",
    "                                     columns='feature', \n",
    "                                     values='count', \n",
    "                                     aggfunc='sum')\n",
    "        .fillna(0)\n",
    "    )\n",
    "    # добавление в таблицу количество признаков, по которым оператор определён как неэффективный\n",
    "    inefficient_table['total'] = inefficient_table.iloc[:, 0:size].apply('sum', axis=1)\n",
    "    inefficient_table = inefficient_table.sort_values(by='total', ascending=False).reset_index()\n",
    "\n",
    "    # таблица оператор-клиент\n",
    "    operators_client = telecom[['operator_id', 'user_id']].drop_duplicates().query('operator_id != 0')\n",
    "\n",
    "    # добавление номера колл-центра к таблице неэффективных операторов\n",
    "    inefficient_table = (\n",
    "        pd.merge(inefficient_table, operators_client, how='left', on='operator_id')\n",
    "        .query('operator_id != 0')\n",
    "    )\n",
    "    inefficient_table['user_id'] = inefficient_table['user_id'].astype('int64')\n",
    "    print('\\nКоличество неэффективных операторов:', inefficient_table.shape[0])\n",
    "    display(inefficient_table.head())\n",
    "\n",
    "    # опеределение количества операторов в центрах\n",
    "    inefficient_clients = (\n",
    "        inefficient_table.groupby('user_id')\n",
    "        .agg({'operator_id': 'nunique'})\n",
    "        .reset_index()\n",
    "    )\n",
    "    inefficient_clients.columns = ['user_id', 'ineff_n_operators']\n",
    "\n",
    "    # добавление количества сотрудников\n",
    "    inefficient_clients = pd.merge(inefficient_clients, n_operators, how='left', on='user_id')\n",
    "    inefficient_clients['ratio'] = round(inefficient_clients['ineff_n_operators'] / inefficient_clients['n_operators'] * 100, 2)\n",
    "    inefficient_clients = inefficient_clients.sort_values(by=['ratio', 'ineff_n_operators'], ascending=False)\n",
    "    \n",
    "    print('\\nКоличество колл-центров с неэффективными операторами:', inefficient_clients.shape[0])\n",
    "    display(inefficient_clients.head())"
   ]
  },
  {
   "cell_type": "code",
   "execution_count": 54,
   "metadata": {},
   "outputs": [
    {
     "name": "stdout",
     "output_type": "stream",
     "text": [
      "\n",
      "Количество неэффективных операторов: 168\n"
     ]
    },
    {
     "data": {
      "text/html": [
       "<div>\n",
       "<style scoped>\n",
       "    .dataframe tbody tr th:only-of-type {\n",
       "        vertical-align: middle;\n",
       "    }\n",
       "\n",
       "    .dataframe tbody tr th {\n",
       "        vertical-align: top;\n",
       "    }\n",
       "\n",
       "    .dataframe thead th {\n",
       "        text-align: right;\n",
       "    }\n",
       "</style>\n",
       "<table border=\"1\" class=\"dataframe\">\n",
       "  <thead>\n",
       "    <tr style=\"text-align: right;\">\n",
       "      <th></th>\n",
       "      <th>operator_id</th>\n",
       "      <th>external 'in' (avg_waiting_time)</th>\n",
       "      <th>external 'in' (calls_count)</th>\n",
       "      <th>internal 'in' (avg_waiting_time)</th>\n",
       "      <th>internal 'in' (calls_count)</th>\n",
       "      <th>total</th>\n",
       "      <th>user_id</th>\n",
       "    </tr>\n",
       "  </thead>\n",
       "  <tbody>\n",
       "    <tr>\n",
       "      <th>1</th>\n",
       "      <td>908960</td>\n",
       "      <td>1.0</td>\n",
       "      <td>1.0</td>\n",
       "      <td>1.0</td>\n",
       "      <td>0.0</td>\n",
       "      <td>3.0</td>\n",
       "      <td>166541</td>\n",
       "    </tr>\n",
       "    <tr>\n",
       "      <th>2</th>\n",
       "      <td>912010</td>\n",
       "      <td>1.0</td>\n",
       "      <td>0.0</td>\n",
       "      <td>1.0</td>\n",
       "      <td>0.0</td>\n",
       "      <td>2.0</td>\n",
       "      <td>167402</td>\n",
       "    </tr>\n",
       "    <tr>\n",
       "      <th>3</th>\n",
       "      <td>905300</td>\n",
       "      <td>1.0</td>\n",
       "      <td>1.0</td>\n",
       "      <td>0.0</td>\n",
       "      <td>0.0</td>\n",
       "      <td>2.0</td>\n",
       "      <td>167162</td>\n",
       "    </tr>\n",
       "    <tr>\n",
       "      <th>4</th>\n",
       "      <td>906410</td>\n",
       "      <td>1.0</td>\n",
       "      <td>1.0</td>\n",
       "      <td>0.0</td>\n",
       "      <td>0.0</td>\n",
       "      <td>2.0</td>\n",
       "      <td>166916</td>\n",
       "    </tr>\n",
       "    <tr>\n",
       "      <th>5</th>\n",
       "      <td>908130</td>\n",
       "      <td>1.0</td>\n",
       "      <td>0.0</td>\n",
       "      <td>1.0</td>\n",
       "      <td>0.0</td>\n",
       "      <td>2.0</td>\n",
       "      <td>167188</td>\n",
       "    </tr>\n",
       "  </tbody>\n",
       "</table>\n",
       "</div>"
      ],
      "text/plain": [
       "   operator_id  external 'in' (avg_waiting_time)  external 'in' (calls_count)  \\\n",
       "1       908960                               1.0                          1.0   \n",
       "2       912010                               1.0                          0.0   \n",
       "3       905300                               1.0                          1.0   \n",
       "4       906410                               1.0                          1.0   \n",
       "5       908130                               1.0                          0.0   \n",
       "\n",
       "   internal 'in' (avg_waiting_time)  internal 'in' (calls_count)  total  \\\n",
       "1                               1.0                          0.0    3.0   \n",
       "2                               1.0                          0.0    2.0   \n",
       "3                               0.0                          0.0    2.0   \n",
       "4                               0.0                          0.0    2.0   \n",
       "5                               1.0                          0.0    2.0   \n",
       "\n",
       "   user_id  \n",
       "1   166541  \n",
       "2   167402  \n",
       "3   167162  \n",
       "4   166916  \n",
       "5   167188  "
      ]
     },
     "metadata": {},
     "output_type": "display_data"
    },
    {
     "name": "stdout",
     "output_type": "stream",
     "text": [
      "\n",
      "Количество колл-центров с неэффективными операторами: 83\n"
     ]
    },
    {
     "data": {
      "text/html": [
       "<div>\n",
       "<style scoped>\n",
       "    .dataframe tbody tr th:only-of-type {\n",
       "        vertical-align: middle;\n",
       "    }\n",
       "\n",
       "    .dataframe tbody tr th {\n",
       "        vertical-align: top;\n",
       "    }\n",
       "\n",
       "    .dataframe thead th {\n",
       "        text-align: right;\n",
       "    }\n",
       "</style>\n",
       "<table border=\"1\" class=\"dataframe\">\n",
       "  <thead>\n",
       "    <tr style=\"text-align: right;\">\n",
       "      <th></th>\n",
       "      <th>user_id</th>\n",
       "      <th>ineff_n_operators</th>\n",
       "      <th>n_operators</th>\n",
       "      <th>ratio</th>\n",
       "    </tr>\n",
       "  </thead>\n",
       "  <tbody>\n",
       "    <tr>\n",
       "      <th>6</th>\n",
       "      <td>166541</td>\n",
       "      <td>4</td>\n",
       "      <td>4</td>\n",
       "      <td>100.0</td>\n",
       "    </tr>\n",
       "    <tr>\n",
       "      <th>22</th>\n",
       "      <td>166879</td>\n",
       "      <td>4</td>\n",
       "      <td>4</td>\n",
       "      <td>100.0</td>\n",
       "    </tr>\n",
       "    <tr>\n",
       "      <th>65</th>\n",
       "      <td>167976</td>\n",
       "      <td>4</td>\n",
       "      <td>4</td>\n",
       "      <td>100.0</td>\n",
       "    </tr>\n",
       "    <tr>\n",
       "      <th>1</th>\n",
       "      <td>166392</td>\n",
       "      <td>3</td>\n",
       "      <td>3</td>\n",
       "      <td>100.0</td>\n",
       "    </tr>\n",
       "    <tr>\n",
       "      <th>0</th>\n",
       "      <td>166391</td>\n",
       "      <td>2</td>\n",
       "      <td>2</td>\n",
       "      <td>100.0</td>\n",
       "    </tr>\n",
       "  </tbody>\n",
       "</table>\n",
       "</div>"
      ],
      "text/plain": [
       "    user_id  ineff_n_operators  n_operators  ratio\n",
       "6    166541                  4            4  100.0\n",
       "22   166879                  4            4  100.0\n",
       "65   167976                  4            4  100.0\n",
       "1    166392                  3            3  100.0\n",
       "0    166391                  2            2  100.0"
      ]
     },
     "metadata": {},
     "output_type": "display_data"
    }
   ],
   "source": [
    "create_result_tables(inefficient_list, 4)"
   ]
  },
  {
   "cell_type": "markdown",
   "metadata": {},
   "source": [
    "Обнаружено 83 колл-центра с неэффективными операторами. В многих из них 100% неэффективных сотрудников, но это чаще те центры, где мало операторов."
   ]
  },
  {
   "cell_type": "markdown",
   "metadata": {},
   "source": [
    "### Вывод \n",
    "* Количество неэффективных операторов по среднему времени ожидания: 145 (13.27%) на внешних вызовах, 28 (2.56%)на внутренних.\n",
    "* Количество неэффективных операторов по количеству пропущенных вызовов: 26 (2.38%) на внешних вызовах, 3 (0.27%) на внутренних.\n",
    "* Всего неэффективных операторов входящих звонков: 168.\n",
    "* Количество колл-центров с неэффективными операторами: 83\n",
    "* Колл-центры со 100% неэффективностью операторов с наибольшим числом сотрудников - 166541, 166879, 167976 (по 4 сотрудника)."
   ]
  },
  {
   "cell_type": "markdown",
   "metadata": {},
   "source": [
    "## Эффективность операторов исходящих звонков"
   ]
  },
  {
   "cell_type": "markdown",
   "metadata": {},
   "source": [
    "Эффективность операторов исходящих звонков определяется по количеству совершённых звонков. Только для внешних звонков будет определяться нижняя грань эффективности, а для внутренних - верхняя. Для внутренних звонков чем меньше исходящих, тем лучше, поскольку важно решать проблемы самостоятельно и реще обращаться за помощью или переводить клиента на другого оператора. "
   ]
  },
  {
   "cell_type": "markdown",
   "metadata": {},
   "source": [
    "В ходе исследования выяснилось, что мы не сможем использовать моду как нижнюю границу эффективности, так как она всегда равна минимальному значению, то есть одному звонку. Вряд ли можно назвать это нормой, поэтому рассмотри другие варианты. \n",
    "\n",
    "Для внешних вызовов можем рассмотреть среднее время разговора. Если оно слишком маленькое, значит оператор не смог найти общий язык с клиентом или не заинтересовал промоакцией, например. Округлим среднее время разговора до целого числа и будем так же искать моду.\n",
    "\n",
    "Для внутренних найдем среднее количество совершённых внутренних звонков. Если больше среднего - значит оператор слишком часто обращается за помощью к коллегам."
   ]
  },
  {
   "cell_type": "code",
   "execution_count": 55,
   "metadata": {},
   "outputs": [],
   "source": [
    "# определение неэффективных операторов \n",
    "def effectiveness_out(data, priority, internal, feature):\n",
    "    '''\n",
    "    Возвращает таблицу с неэффективными операторами по входящим звонкам\n",
    "    \n",
    "        Параметры:\n",
    "        * data - таблица со средними значениями для каждого оператора\n",
    "        * priority - приоритет операторов (in, out)\n",
    "        * internal - внутренний звонок (True, False)\n",
    "        * feature - признак\n",
    "    '''\n",
    "    \n",
    "    # срез по параметрам\n",
    "    filtered_data = data.query('priority == @priority and internal == @internal and direction == \\'out\\'')\n",
    "    \n",
    "    \n",
    "    # рассчитываем среднее и делаем срез\n",
    "    # для внешних звонков\n",
    "    if internal == False:\n",
    "        filtered_data = filtered_data.query('is_missed_call == False')\n",
    "        filter_value = filtered_data[feature].mode()[0]\n",
    "        filtered_data = filtered_data[filtered_data[feature] < filter_value].sort_values(by=feature, ascending=False)\n",
    "    # для внутренних звонков\n",
    "    else:\n",
    "        filtered_data = filtered_data.groupby('operator_id').agg({feature:'sum'}).reset_index()\n",
    "        filter_value = filtered_data[feature].mean()\n",
    "        filtered_data = filtered_data[filtered_data[feature] > filter_value].sort_values(by=feature, ascending=False)\n",
    "    \n",
    "    # формируем причину неэффективности (то есть название признака, который рассмариваем)\n",
    "    if internal == True:\n",
    "        filtered_data['feature'] = 'internal'\n",
    "    else: \n",
    "        filtered_data['feature'] = 'external'\n",
    "    filtered_data['feature'] = filtered_data['feature'] + f' \\'out\\' ({feature})' \n",
    "    \n",
    "    return filter_value, filtered_data[['operator_id', feature, 'feature']].reset_index(drop=True)"
   ]
  },
  {
   "cell_type": "code",
   "execution_count": 56,
   "metadata": {},
   "outputs": [],
   "source": [
    "telecom_avg['avg_call_duration'] = np.ceil(telecom_avg['avg_call_duration'])"
   ]
  },
  {
   "cell_type": "markdown",
   "metadata": {},
   "source": [
    "### Эффективность по средней продолжительности разговора - внешние вызовы"
   ]
  },
  {
   "cell_type": "code",
   "execution_count": 57,
   "metadata": {},
   "outputs": [
    {
     "name": "stdout",
     "output_type": "stream",
     "text": [
      "Неэффективность по времени исходящего разговора\n",
      "\n",
      "Количество неэффективных операторов: 84\n",
      "Доля от всех операторов: 7.69%\n",
      "Пороговое значение: 39.0\n",
      "\n",
      "Топ-5 неэффективных операторов: \n"
     ]
    },
    {
     "data": {
      "text/html": [
       "<div>\n",
       "<style scoped>\n",
       "    .dataframe tbody tr th:only-of-type {\n",
       "        vertical-align: middle;\n",
       "    }\n",
       "\n",
       "    .dataframe tbody tr th {\n",
       "        vertical-align: top;\n",
       "    }\n",
       "\n",
       "    .dataframe thead th {\n",
       "        text-align: right;\n",
       "    }\n",
       "</style>\n",
       "<table border=\"1\" class=\"dataframe\">\n",
       "  <thead>\n",
       "    <tr style=\"text-align: right;\">\n",
       "      <th></th>\n",
       "      <th>operator_id</th>\n",
       "      <th>avg_call_duration</th>\n",
       "      <th>feature</th>\n",
       "    </tr>\n",
       "  </thead>\n",
       "  <tbody>\n",
       "    <tr>\n",
       "      <th>0</th>\n",
       "      <td>917680</td>\n",
       "      <td>38.0</td>\n",
       "      <td>external 'out' (avg_call_duration)</td>\n",
       "    </tr>\n",
       "    <tr>\n",
       "      <th>1</th>\n",
       "      <td>970484</td>\n",
       "      <td>38.0</td>\n",
       "      <td>external 'out' (avg_call_duration)</td>\n",
       "    </tr>\n",
       "    <tr>\n",
       "      <th>2</th>\n",
       "      <td>940614</td>\n",
       "      <td>38.0</td>\n",
       "      <td>external 'out' (avg_call_duration)</td>\n",
       "    </tr>\n",
       "    <tr>\n",
       "      <th>3</th>\n",
       "      <td>899082</td>\n",
       "      <td>38.0</td>\n",
       "      <td>external 'out' (avg_call_duration)</td>\n",
       "    </tr>\n",
       "    <tr>\n",
       "      <th>4</th>\n",
       "      <td>919204</td>\n",
       "      <td>38.0</td>\n",
       "      <td>external 'out' (avg_call_duration)</td>\n",
       "    </tr>\n",
       "  </tbody>\n",
       "</table>\n",
       "</div>"
      ],
      "text/plain": [
       "   operator_id  avg_call_duration                             feature\n",
       "0       917680               38.0  external 'out' (avg_call_duration)\n",
       "1       970484               38.0  external 'out' (avg_call_duration)\n",
       "2       940614               38.0  external 'out' (avg_call_duration)\n",
       "3       899082               38.0  external 'out' (avg_call_duration)\n",
       "4       919204               38.0  external 'out' (avg_call_duration)"
      ]
     },
     "metadata": {},
     "output_type": "display_data"
    }
   ],
   "source": [
    "# таблица неэффективных операторов\n",
    "filter_value, call_duration_list = effectiveness_out(telecom_avg, 'out', False, 'avg_call_duration')\n",
    "print('Неэффективность по времени исходящего разговора\\n')\n",
    "display_result(filter_value, call_duration_list)\n",
    "\n",
    "# формирование общего списка неэффективных операторов и указание признака неэффективности\n",
    "inefficient_list = call_duration_list[['operator_id', 'feature']]"
   ]
  },
  {
   "cell_type": "code",
   "execution_count": 58,
   "metadata": {},
   "outputs": [
    {
     "name": "stdout",
     "output_type": "stream",
     "text": [
      "Неэффективность по времени исходящего разговора (не приоритет)\n",
      "\n",
      "Количество неэффективных операторов: 7\n",
      "Доля от всех операторов: 0.64%\n",
      "Пороговое значение: 8.0\n",
      "\n",
      "Топ-5 неэффективных операторов: \n"
     ]
    },
    {
     "data": {
      "text/html": [
       "<div>\n",
       "<style scoped>\n",
       "    .dataframe tbody tr th:only-of-type {\n",
       "        vertical-align: middle;\n",
       "    }\n",
       "\n",
       "    .dataframe tbody tr th {\n",
       "        vertical-align: top;\n",
       "    }\n",
       "\n",
       "    .dataframe thead th {\n",
       "        text-align: right;\n",
       "    }\n",
       "</style>\n",
       "<table border=\"1\" class=\"dataframe\">\n",
       "  <thead>\n",
       "    <tr style=\"text-align: right;\">\n",
       "      <th></th>\n",
       "      <th>operator_id</th>\n",
       "      <th>avg_call_duration</th>\n",
       "      <th>feature</th>\n",
       "    </tr>\n",
       "  </thead>\n",
       "  <tbody>\n",
       "    <tr>\n",
       "      <th>0</th>\n",
       "      <td>927142</td>\n",
       "      <td>7.0</td>\n",
       "      <td>external 'out' (avg_call_duration)</td>\n",
       "    </tr>\n",
       "    <tr>\n",
       "      <th>1</th>\n",
       "      <td>934188</td>\n",
       "      <td>7.0</td>\n",
       "      <td>external 'out' (avg_call_duration)</td>\n",
       "    </tr>\n",
       "    <tr>\n",
       "      <th>2</th>\n",
       "      <td>914256</td>\n",
       "      <td>6.0</td>\n",
       "      <td>external 'out' (avg_call_duration)</td>\n",
       "    </tr>\n",
       "    <tr>\n",
       "      <th>3</th>\n",
       "      <td>952968</td>\n",
       "      <td>5.0</td>\n",
       "      <td>external 'out' (avg_call_duration)</td>\n",
       "    </tr>\n",
       "    <tr>\n",
       "      <th>4</th>\n",
       "      <td>906418</td>\n",
       "      <td>2.0</td>\n",
       "      <td>external 'out' (avg_call_duration)</td>\n",
       "    </tr>\n",
       "  </tbody>\n",
       "</table>\n",
       "</div>"
      ],
      "text/plain": [
       "   operator_id  avg_call_duration                             feature\n",
       "0       927142                7.0  external 'out' (avg_call_duration)\n",
       "1       934188                7.0  external 'out' (avg_call_duration)\n",
       "2       914256                6.0  external 'out' (avg_call_duration)\n",
       "3       952968                5.0  external 'out' (avg_call_duration)\n",
       "4       906418                2.0  external 'out' (avg_call_duration)"
      ]
     },
     "metadata": {},
     "output_type": "display_data"
    }
   ],
   "source": [
    "# таблица неэффективных операторов\n",
    "filter_value, call_duration_list = effectiveness_out(telecom_avg, 'in', False, 'avg_call_duration')\n",
    "print('Неэффективность по времени исходящего разговора (не приоритет)\\n')\n",
    "display_result(filter_value, call_duration_list)"
   ]
  },
  {
   "cell_type": "markdown",
   "metadata": {},
   "source": [
    "Этот признак является самым субъективным из всех, так как цели у каждого колл-центра могут быть разные. "
   ]
  },
  {
   "cell_type": "markdown",
   "metadata": {},
   "source": [
    "### Эффективность по количеству внутренних звонков "
   ]
  },
  {
   "cell_type": "code",
   "execution_count": 59,
   "metadata": {
    "scrolled": true
   },
   "outputs": [
    {
     "name": "stdout",
     "output_type": "stream",
     "text": [
      "Неэффективность по количеству внутренних исходящих звонков\n",
      "\n",
      "Количество неэффективных операторов: 100\n",
      "Доля от всех операторов: 9.15%\n",
      "Пороговое значение: 26.623966942148762\n",
      "\n",
      "Топ-5 неэффективных операторов: \n"
     ]
    },
    {
     "data": {
      "text/html": [
       "<div>\n",
       "<style scoped>\n",
       "    .dataframe tbody tr th:only-of-type {\n",
       "        vertical-align: middle;\n",
       "    }\n",
       "\n",
       "    .dataframe tbody tr th {\n",
       "        vertical-align: top;\n",
       "    }\n",
       "\n",
       "    .dataframe thead th {\n",
       "        text-align: right;\n",
       "    }\n",
       "</style>\n",
       "<table border=\"1\" class=\"dataframe\">\n",
       "  <thead>\n",
       "    <tr style=\"text-align: right;\">\n",
       "      <th></th>\n",
       "      <th>operator_id</th>\n",
       "      <th>sum_calls_count</th>\n",
       "      <th>feature</th>\n",
       "    </tr>\n",
       "  </thead>\n",
       "  <tbody>\n",
       "    <tr>\n",
       "      <th>0</th>\n",
       "      <td>907986</td>\n",
       "      <td>447</td>\n",
       "      <td>internal 'out' (sum_calls_count)</td>\n",
       "    </tr>\n",
       "    <tr>\n",
       "      <th>1</th>\n",
       "      <td>906394</td>\n",
       "      <td>405</td>\n",
       "      <td>internal 'out' (sum_calls_count)</td>\n",
       "    </tr>\n",
       "    <tr>\n",
       "      <th>2</th>\n",
       "      <td>905574</td>\n",
       "      <td>345</td>\n",
       "      <td>internal 'out' (sum_calls_count)</td>\n",
       "    </tr>\n",
       "    <tr>\n",
       "      <th>3</th>\n",
       "      <td>906396</td>\n",
       "      <td>316</td>\n",
       "      <td>internal 'out' (sum_calls_count)</td>\n",
       "    </tr>\n",
       "    <tr>\n",
       "      <th>4</th>\n",
       "      <td>905566</td>\n",
       "      <td>310</td>\n",
       "      <td>internal 'out' (sum_calls_count)</td>\n",
       "    </tr>\n",
       "  </tbody>\n",
       "</table>\n",
       "</div>"
      ],
      "text/plain": [
       "   operator_id  sum_calls_count                           feature\n",
       "0       907986              447  internal 'out' (sum_calls_count)\n",
       "1       906394              405  internal 'out' (sum_calls_count)\n",
       "2       905574              345  internal 'out' (sum_calls_count)\n",
       "3       906396              316  internal 'out' (sum_calls_count)\n",
       "4       905566              310  internal 'out' (sum_calls_count)"
      ]
     },
     "metadata": {},
     "output_type": "display_data"
    }
   ],
   "source": [
    "# таблица неэффективных операторов\n",
    "filter_value, calls_count_list = effectiveness_out(telecom_avg, 'out', True, 'sum_calls_count')\n",
    "print('Неэффективность по количеству внутренних исходящих звонков\\n')\n",
    "display_result(filter_value, calls_count_list)\n",
    "\n",
    "# формирование общего списка неэффективных операторов и указание признака неэффективности\n",
    "inefficient_list = pd.concat([inefficient_list, calls_count_list[['operator_id', 'feature']]], ignore_index=True, sort=False)"
   ]
  },
  {
   "cell_type": "code",
   "execution_count": 60,
   "metadata": {},
   "outputs": [
    {
     "name": "stdout",
     "output_type": "stream",
     "text": [
      "Неэффективность по количеству внутренних исходящих звонков (не приоритет)\n",
      "\n",
      "Количество неэффективных операторов: 5\n",
      "Доля от всех операторов: 0.46%\n",
      "Пороговое значение: 6.35\n",
      "\n",
      "Топ-5 неэффективных операторов: \n"
     ]
    },
    {
     "data": {
      "text/html": [
       "<div>\n",
       "<style scoped>\n",
       "    .dataframe tbody tr th:only-of-type {\n",
       "        vertical-align: middle;\n",
       "    }\n",
       "\n",
       "    .dataframe tbody tr th {\n",
       "        vertical-align: top;\n",
       "    }\n",
       "\n",
       "    .dataframe thead th {\n",
       "        text-align: right;\n",
       "    }\n",
       "</style>\n",
       "<table border=\"1\" class=\"dataframe\">\n",
       "  <thead>\n",
       "    <tr style=\"text-align: right;\">\n",
       "      <th></th>\n",
       "      <th>operator_id</th>\n",
       "      <th>sum_calls_count</th>\n",
       "      <th>feature</th>\n",
       "    </tr>\n",
       "  </thead>\n",
       "  <tbody>\n",
       "    <tr>\n",
       "      <th>0</th>\n",
       "      <td>0</td>\n",
       "      <td>60</td>\n",
       "      <td>internal 'out' (sum_calls_count)</td>\n",
       "    </tr>\n",
       "    <tr>\n",
       "      <th>1</th>\n",
       "      <td>937780</td>\n",
       "      <td>10</td>\n",
       "      <td>internal 'out' (sum_calls_count)</td>\n",
       "    </tr>\n",
       "    <tr>\n",
       "      <th>2</th>\n",
       "      <td>940658</td>\n",
       "      <td>10</td>\n",
       "      <td>internal 'out' (sum_calls_count)</td>\n",
       "    </tr>\n",
       "    <tr>\n",
       "      <th>3</th>\n",
       "      <td>908958</td>\n",
       "      <td>9</td>\n",
       "      <td>internal 'out' (sum_calls_count)</td>\n",
       "    </tr>\n",
       "    <tr>\n",
       "      <th>4</th>\n",
       "      <td>940630</td>\n",
       "      <td>8</td>\n",
       "      <td>internal 'out' (sum_calls_count)</td>\n",
       "    </tr>\n",
       "  </tbody>\n",
       "</table>\n",
       "</div>"
      ],
      "text/plain": [
       "   operator_id  sum_calls_count                           feature\n",
       "0            0               60  internal 'out' (sum_calls_count)\n",
       "1       937780               10  internal 'out' (sum_calls_count)\n",
       "2       940658               10  internal 'out' (sum_calls_count)\n",
       "3       908958                9  internal 'out' (sum_calls_count)\n",
       "4       940630                8  internal 'out' (sum_calls_count)"
      ]
     },
     "metadata": {},
     "output_type": "display_data"
    }
   ],
   "source": [
    "# таблица неэффективных операторов\n",
    "filter_value, calls_count_list = effectiveness_out(telecom_avg, 'in', True, 'sum_calls_count')\n",
    "print('Неэффективность по количеству внутренних исходящих звонков (не приоритет)\\n')\n",
    "display_result(filter_value, calls_count_list)"
   ]
  },
  {
   "cell_type": "markdown",
   "metadata": {},
   "source": [
    "### Колл-центры с неэффективными операторами исходящих вызовов"
   ]
  },
  {
   "cell_type": "code",
   "execution_count": 61,
   "metadata": {},
   "outputs": [
    {
     "name": "stdout",
     "output_type": "stream",
     "text": [
      "\n",
      "Количество неэффективных операторов: 182\n"
     ]
    },
    {
     "data": {
      "text/html": [
       "<div>\n",
       "<style scoped>\n",
       "    .dataframe tbody tr th:only-of-type {\n",
       "        vertical-align: middle;\n",
       "    }\n",
       "\n",
       "    .dataframe tbody tr th {\n",
       "        vertical-align: top;\n",
       "    }\n",
       "\n",
       "    .dataframe thead th {\n",
       "        text-align: right;\n",
       "    }\n",
       "</style>\n",
       "<table border=\"1\" class=\"dataframe\">\n",
       "  <thead>\n",
       "    <tr style=\"text-align: right;\">\n",
       "      <th></th>\n",
       "      <th>operator_id</th>\n",
       "      <th>external 'out' (avg_call_duration)</th>\n",
       "      <th>internal 'out' (sum_calls_count)</th>\n",
       "      <th>total</th>\n",
       "      <th>user_id</th>\n",
       "    </tr>\n",
       "  </thead>\n",
       "  <tbody>\n",
       "    <tr>\n",
       "      <th>0</th>\n",
       "      <td>958440</td>\n",
       "      <td>1.0</td>\n",
       "      <td>1.0</td>\n",
       "      <td>2.0</td>\n",
       "      <td>168091</td>\n",
       "    </tr>\n",
       "    <tr>\n",
       "      <th>1</th>\n",
       "      <td>940616</td>\n",
       "      <td>1.0</td>\n",
       "      <td>1.0</td>\n",
       "      <td>2.0</td>\n",
       "      <td>168252</td>\n",
       "    </tr>\n",
       "    <tr>\n",
       "      <th>2</th>\n",
       "      <td>879896</td>\n",
       "      <td>0.0</td>\n",
       "      <td>1.0</td>\n",
       "      <td>1.0</td>\n",
       "      <td>166406</td>\n",
       "    </tr>\n",
       "    <tr>\n",
       "      <th>3</th>\n",
       "      <td>934426</td>\n",
       "      <td>1.0</td>\n",
       "      <td>0.0</td>\n",
       "      <td>1.0</td>\n",
       "      <td>167626</td>\n",
       "    </tr>\n",
       "    <tr>\n",
       "      <th>4</th>\n",
       "      <td>937422</td>\n",
       "      <td>0.0</td>\n",
       "      <td>1.0</td>\n",
       "      <td>1.0</td>\n",
       "      <td>168073</td>\n",
       "    </tr>\n",
       "  </tbody>\n",
       "</table>\n",
       "</div>"
      ],
      "text/plain": [
       "   operator_id  external 'out' (avg_call_duration)  \\\n",
       "0       958440                                 1.0   \n",
       "1       940616                                 1.0   \n",
       "2       879896                                 0.0   \n",
       "3       934426                                 1.0   \n",
       "4       937422                                 0.0   \n",
       "\n",
       "   internal 'out' (sum_calls_count)  total  user_id  \n",
       "0                               1.0    2.0   168091  \n",
       "1                               1.0    2.0   168252  \n",
       "2                               1.0    1.0   166406  \n",
       "3                               0.0    1.0   167626  \n",
       "4                               1.0    1.0   168073  "
      ]
     },
     "metadata": {},
     "output_type": "display_data"
    },
    {
     "name": "stdout",
     "output_type": "stream",
     "text": [
      "\n",
      "Количество колл-центров с неэффективными операторами: 74\n"
     ]
    },
    {
     "data": {
      "text/html": [
       "<div>\n",
       "<style scoped>\n",
       "    .dataframe tbody tr th:only-of-type {\n",
       "        vertical-align: middle;\n",
       "    }\n",
       "\n",
       "    .dataframe tbody tr th {\n",
       "        vertical-align: top;\n",
       "    }\n",
       "\n",
       "    .dataframe thead th {\n",
       "        text-align: right;\n",
       "    }\n",
       "</style>\n",
       "<table border=\"1\" class=\"dataframe\">\n",
       "  <thead>\n",
       "    <tr style=\"text-align: right;\">\n",
       "      <th></th>\n",
       "      <th>user_id</th>\n",
       "      <th>ineff_n_operators</th>\n",
       "      <th>n_operators</th>\n",
       "      <th>ratio</th>\n",
       "    </tr>\n",
       "  </thead>\n",
       "  <tbody>\n",
       "    <tr>\n",
       "      <th>25</th>\n",
       "      <td>167109</td>\n",
       "      <td>7</td>\n",
       "      <td>7</td>\n",
       "      <td>100.0</td>\n",
       "    </tr>\n",
       "    <tr>\n",
       "      <th>5</th>\n",
       "      <td>166511</td>\n",
       "      <td>3</td>\n",
       "      <td>3</td>\n",
       "      <td>100.0</td>\n",
       "    </tr>\n",
       "    <tr>\n",
       "      <th>68</th>\n",
       "      <td>168271</td>\n",
       "      <td>3</td>\n",
       "      <td>3</td>\n",
       "      <td>100.0</td>\n",
       "    </tr>\n",
       "    <tr>\n",
       "      <th>26</th>\n",
       "      <td>167110</td>\n",
       "      <td>2</td>\n",
       "      <td>2</td>\n",
       "      <td>100.0</td>\n",
       "    </tr>\n",
       "    <tr>\n",
       "      <th>3</th>\n",
       "      <td>166487</td>\n",
       "      <td>1</td>\n",
       "      <td>1</td>\n",
       "      <td>100.0</td>\n",
       "    </tr>\n",
       "  </tbody>\n",
       "</table>\n",
       "</div>"
      ],
      "text/plain": [
       "    user_id  ineff_n_operators  n_operators  ratio\n",
       "25   167109                  7            7  100.0\n",
       "5    166511                  3            3  100.0\n",
       "68   168271                  3            3  100.0\n",
       "26   167110                  2            2  100.0\n",
       "3    166487                  1            1  100.0"
      ]
     },
     "metadata": {},
     "output_type": "display_data"
    }
   ],
   "source": [
    "# отобращение итоговых таблиц\n",
    "create_result_tables(inefficient_list, 2)"
   ]
  },
  {
   "cell_type": "markdown",
   "metadata": {},
   "source": [
    "### Вывод\n",
    "\n",
    "* Количество неэффективных операторов по продолжительности внешних звонков: 84 (7.69%)\n",
    "* Количество неэффективных операторов по количеству исходящих внутренних звонков: 100 (9.15%)\n",
    "* Всего неэффективных операторов исходящих звонков: 182\n",
    "* Всего колл-центров с неэффектиынми операторами: 74\n",
    "* Колл-центры со 100% неэффективностью операторов с наибольшим количеством сотрудников: 167109 (7 операторов), 166511, 168271 (по 3 оператора)\t"
   ]
  },
  {
   "cell_type": "markdown",
   "metadata": {},
   "source": [
    "## Статистический анализ\n",
    "Проверим две гипотезы о работе колл-центров. "
   ]
  },
  {
   "cell_type": "markdown",
   "metadata": {},
   "source": [
    "### Средняя доля пропущенных внутренних и внешних вызовов"
   ]
  },
  {
   "cell_type": "markdown",
   "metadata": {},
   "source": [
    "Сформулируем гипотезу о том, что входящие внешние звонки пропускаются так же часто, как и внутренние.\n",
    "\n",
    "* **H0**: Средняя доля входящих пропущенных внешних и внутренних вызовов одинакова.\n",
    "* **H1**: Средняя доля входящих пропущенных внешних и внутренних вызовов различна."
   ]
  },
  {
   "cell_type": "code",
   "execution_count": 62,
   "metadata": {},
   "outputs": [
    {
     "name": "stdout",
     "output_type": "stream",
     "text": [
      "[300, 7381]\n",
      "[671, 18359]\n",
      "p-значение 0.01946198211287431\n",
      "Отвергаем нулевую гипотезу: между долями есть значимая разница\n",
      "\n"
     ]
    }
   ],
   "source": [
    "alpha = .05\n",
    "\n",
    "s_internal = (\n",
    "    telecom\n",
    "    .query('direction == \\'in\\' and internal == True and is_missed_call == True')['calls_count']\n",
    ")\n",
    "s_external = (\n",
    "    telecom\n",
    "    .query('direction == \\'in\\' and internal == False and is_missed_call == True')['calls_count']\n",
    ")\n",
    "\n",
    "successes = [s_internal.count(), s_external.count()]\n",
    "print(successes)\n",
    "\n",
    "trials = [telecom.query('direction == \\'in\\' and internal == True')['calls_count'].count(), \n",
    "          telecom.query('direction == \\'in\\' and internal == False')['calls_count'].count()]\n",
    "print(trials)\n",
    "\n",
    "# пропорции успехов\n",
    "p1 = successes[0]/trials[0]\n",
    "p2 = successes[1]/trials[1]\n",
    "\n",
    "# пропорция успехов в комбинированном датасете:\n",
    "p_combined = (successes[0] + successes[1]) / (trials[0] + trials[1])\n",
    "\n",
    "# разница пропорций в датасетах\n",
    "difference = p1 - p2 \n",
    "# считаем статистику в ст.отклонениях стандартного нормального распределения\n",
    "z_value = difference / mth.sqrt(\n",
    "    p_combined * (1 - p_combined) * (1 / trials[0] + 1 / trials[1])\n",
    ")\n",
    "# задаем стандартное нормальное распределение (среднее 0, ст.отклонение 1)\n",
    "distr = st.norm(0, 1)\n",
    "\n",
    "\n",
    "p_value = (1 - distr.cdf(abs(z_value))) * 2\n",
    "print('p-значение', p_value)\n",
    "    \n",
    "if p_value < alpha:\n",
    "    print('Отвергаем нулевую гипотезу: между долями есть значимая разница\\n')\n",
    "else:\n",
    "    print('Не получилось отвергнуть нулевую гипотезу, нет оснований считать доли разными\\n') "
   ]
  },
  {
   "cell_type": "code",
   "execution_count": 63,
   "metadata": {},
   "outputs": [
    {
     "name": "stdout",
     "output_type": "stream",
     "text": [
      "Средняя доля пропущенных внутренних звонков: 0.582356570018507 \n",
      "Средняя доля пропущенных внешних звонков: 0.44339314217581105\n"
     ]
    }
   ],
   "source": [
    "print('Средняя доля пропущенных внутренних звонков:', \n",
    "      s_internal.sum() / telecom.query('direction == \\'in\\' and internal == True')['calls_count'].sum(),\n",
    "     '\\nСредняя доля пропущенных внешних звонков:', \n",
    "      s_external.sum() / telecom.query('direction == \\'in\\' and internal == False')['calls_count'].sum())"
   ]
  },
  {
   "cell_type": "markdown",
   "metadata": {},
   "source": [
    "По результатам проверки мы отвергаем нулевую гипотезу. Если рассчитать среднее количество по целым срезам, то можно сказать, что внутренние звонки пропускаю чаще. Замечу, если бы выбрали другой уровень значимости (например, 0.01), то разница долей не была бы статистически значимой и мы бы приняли первую гипотезу."
   ]
  },
  {
   "cell_type": "markdown",
   "metadata": {},
   "source": [
    "### Средняя длительность входящих и исходящих вызовов\n",
    "Сформулируем гипотезу о том, что исходящие от операторов вызовы длятся меньше, чем входящие. "
   ]
  },
  {
   "cell_type": "markdown",
   "metadata": {},
   "source": [
    "* **H0**: Средняя продолжительность входящих и исходящих вызовов одинакова.\n",
    "* **H1**: Средняя продолжительность входящих и исходящих вызовов различна.\n",
    "\n",
    "Рассматривать будем только непропущенные внешние вызовы. "
   ]
  },
  {
   "cell_type": "code",
   "execution_count": 64,
   "metadata": {},
   "outputs": [],
   "source": [
    "telecom_test = telecom.query('internal == False and is_missed_call == False')"
   ]
  },
  {
   "cell_type": "code",
   "execution_count": 65,
   "metadata": {},
   "outputs": [
    {
     "data": {
      "text/plain": [
       "5.969178465300395e-176"
      ]
     },
     "execution_count": 65,
     "metadata": {},
     "output_type": "execute_result"
    }
   ],
   "source": [
    "# проведём t-тест для сравнения средних двух выборок\n",
    "result = st.ttest_ind(telecom_test.query('direction == \\'in\\'')['call_duration'],\n",
    "                      telecom_test.query('direction == \\'out\\'')['call_duration'])\n",
    "result.pvalue"
   ]
  },
  {
   "cell_type": "code",
   "execution_count": 66,
   "metadata": {},
   "outputs": [
    {
     "name": "stdout",
     "output_type": "stream",
     "text": [
      "Отвергаем нулевую гипотезу\n"
     ]
    }
   ],
   "source": [
    "# сравним с установленным пороговым значением\n",
    "if result.pvalue < alpha:\n",
    "    print(\"Отвергаем нулевую гипотезу\")\n",
    "else:\n",
    "    print(\"Не получилось отвергнуть нулевую гипотезу\") "
   ]
  },
  {
   "cell_type": "code",
   "execution_count": 67,
   "metadata": {},
   "outputs": [
    {
     "name": "stdout",
     "output_type": "stream",
     "text": [
      "Средняя продолжительность входящих вызовов: 532.2804700309711 \n",
      "Средняя продолжительность исходящих вызовов: 806.0279273887892\n"
     ]
    }
   ],
   "source": [
    "print('Средняя продолжительность входящих вызовов:', telecom_test.query('direction == \\'in\\'')['call_duration'].mean(),\n",
    "     '\\nСредняя продолжительность исходящих вызовов:', telecom_test.query('direction == \\'out\\'')['call_duration'].mean())"
   ]
  },
  {
   "cell_type": "markdown",
   "metadata": {},
   "source": [
    "Нулевая гипотеза отвернута (даже если бы уровень статистической значимости был меньше). По средним значениям всех срезов можно сказать, что продолжительность исходящих вызовов больше, чем продолжительность входящих. То есть изначально предположение может быть не верным. Главное, что они не равны. "
   ]
  },
  {
   "cell_type": "markdown",
   "metadata": {},
   "source": [
    "## Общий вывод \n",
    "В ходе предобработки данных выяснилось, что больше 15% записей не содержит информацию о номере оператора. Такие неопределённые записи есть почти у каждого колл центра, поэтому анализ нельзя назвать полным. \n",
    "\n",
    "Признаки эффективности выбраны разные для операторов входящих и исходящих звонков: \n",
    "\n",
    "Для операторов входящих вызовов: \n",
    "\n",
    "* Долгое **время ожидания**: 145 операторов на внешних вызовах, 28 - на внутренних\n",
    "* Много **пропущенных звонков**: 26 операторов на внешних вызовах, 3 - на внутренних\n",
    "* Всего 168 неэффективных операторов в 83 колл-центрах\n",
    "* Рекомендуется обратить внимание на эффективность работы своих сотрудников в первую очередь колл-центрам 166541, 166879 и 167976.\n",
    "\n",
    "Для операторов исходящих вызовов:\n",
    "\n",
    "* Маленькая **продолжительность внешних звонков**: 84 операторов\n",
    "* Много **исходящих внутренних звонков**: 100 операторов\n",
    "* Всего 182 неэффективных операторов в 74 колл-центрах\n",
    "* Рекомендуется обратить внимание на эффективность работы своих сотрудников в первую очередь колл-центрам: 167109, 166511, 168271.\n",
    "\n",
    "При проверке гипотез выяснилось, что внешние входящие звонки пропускают так же как и внутренние (если выбрать меньшую статистическую значимость), а также, что средняя продолжительность исходящих и входящих внешних вызовов различна.   "
   ]
  }
 ],
 "metadata": {
  "ExecuteTimeLog": [
   {
    "duration": 642,
    "start_time": "2022-06-01T11:04:11.167Z"
   },
   {
    "duration": 69,
    "start_time": "2022-06-01T11:04:49.436Z"
   },
   {
    "duration": 12,
    "start_time": "2022-06-01T11:05:01.094Z"
   },
   {
    "duration": 3,
    "start_time": "2022-06-01T11:05:52.489Z"
   },
   {
    "duration": 22,
    "start_time": "2022-06-01T11:05:57.841Z"
   },
   {
    "duration": 11,
    "start_time": "2022-06-01T11:07:26.509Z"
   },
   {
    "duration": 11,
    "start_time": "2022-06-01T11:07:32.232Z"
   },
   {
    "duration": 44,
    "start_time": "2022-06-01T11:07:55.753Z"
   },
   {
    "duration": 134,
    "start_time": "2022-06-01T11:08:06.077Z"
   },
   {
    "duration": 17,
    "start_time": "2022-06-01T11:09:22.199Z"
   },
   {
    "duration": 10,
    "start_time": "2022-06-01T11:20:02.655Z"
   },
   {
    "duration": 9,
    "start_time": "2022-06-01T11:20:07.062Z"
   },
   {
    "duration": 7,
    "start_time": "2022-06-01T11:20:24.671Z"
   },
   {
    "duration": 8,
    "start_time": "2022-06-01T11:20:33.288Z"
   },
   {
    "duration": 4,
    "start_time": "2022-06-01T11:20:44.738Z"
   },
   {
    "duration": 2,
    "start_time": "2022-06-01T11:21:58.777Z"
   },
   {
    "duration": 9,
    "start_time": "2022-06-01T11:22:26.194Z"
   },
   {
    "duration": 3,
    "start_time": "2022-06-01T11:22:35.082Z"
   },
   {
    "duration": 4,
    "start_time": "2022-06-01T11:22:35.621Z"
   },
   {
    "duration": 2,
    "start_time": "2022-06-01T11:24:34.323Z"
   },
   {
    "duration": 11,
    "start_time": "2022-06-01T11:24:34.872Z"
   },
   {
    "duration": 4,
    "start_time": "2022-06-01T11:24:45.238Z"
   },
   {
    "duration": 5,
    "start_time": "2022-06-01T11:24:45.640Z"
   },
   {
    "duration": 3,
    "start_time": "2022-06-01T11:25:23.356Z"
   },
   {
    "duration": 6,
    "start_time": "2022-06-01T11:25:23.836Z"
   },
   {
    "duration": 2,
    "start_time": "2022-06-01T11:25:31.033Z"
   },
   {
    "duration": 14,
    "start_time": "2022-06-01T11:25:31.640Z"
   },
   {
    "duration": 78,
    "start_time": "2022-06-01T14:05:59.185Z"
   },
   {
    "duration": 446,
    "start_time": "2022-06-01T14:06:06.643Z"
   },
   {
    "duration": 171,
    "start_time": "2022-06-01T14:06:07.092Z"
   },
   {
    "duration": 20,
    "start_time": "2022-06-01T14:06:07.265Z"
   },
   {
    "duration": 4,
    "start_time": "2022-06-01T14:06:07.287Z"
   },
   {
    "duration": 12,
    "start_time": "2022-06-01T14:06:07.293Z"
   },
   {
    "duration": 121,
    "start_time": "2022-06-01T14:44:32.200Z"
   },
   {
    "duration": 399,
    "start_time": "2022-06-01T14:44:46.665Z"
   },
   {
    "duration": 37,
    "start_time": "2022-06-01T14:45:07.726Z"
   },
   {
    "duration": 12,
    "start_time": "2022-06-01T14:46:16.895Z"
   },
   {
    "duration": 14,
    "start_time": "2022-06-01T14:47:22.134Z"
   },
   {
    "duration": 4,
    "start_time": "2022-06-01T14:47:27.407Z"
   },
   {
    "duration": 6,
    "start_time": "2022-06-01T14:47:27.753Z"
   },
   {
    "duration": 15,
    "start_time": "2022-06-01T14:47:28.606Z"
   },
   {
    "duration": 6,
    "start_time": "2022-06-01T14:47:29.542Z"
   },
   {
    "duration": 17,
    "start_time": "2022-06-01T14:50:14.161Z"
   },
   {
    "duration": 30,
    "start_time": "2022-06-01T14:51:16.310Z"
   },
   {
    "duration": 33,
    "start_time": "2022-06-01T14:51:29.206Z"
   },
   {
    "duration": 14,
    "start_time": "2022-06-01T14:53:20.275Z"
   },
   {
    "duration": 4,
    "start_time": "2022-06-01T15:09:49.758Z"
   },
   {
    "duration": 8,
    "start_time": "2022-06-01T15:20:21.358Z"
   },
   {
    "duration": 4,
    "start_time": "2022-06-01T15:20:24.864Z"
   },
   {
    "duration": 470,
    "start_time": "2022-06-01T15:20:32.442Z"
   },
   {
    "duration": 106,
    "start_time": "2022-06-01T15:20:32.914Z"
   },
   {
    "duration": 27,
    "start_time": "2022-06-01T15:20:33.022Z"
   },
   {
    "duration": 6,
    "start_time": "2022-06-01T15:20:33.050Z"
   },
   {
    "duration": 5,
    "start_time": "2022-06-01T15:20:33.058Z"
   },
   {
    "duration": 11,
    "start_time": "2022-06-01T15:20:33.065Z"
   },
   {
    "duration": 14,
    "start_time": "2022-06-01T15:20:33.078Z"
   },
   {
    "duration": 39,
    "start_time": "2022-06-01T15:20:33.094Z"
   },
   {
    "duration": 31,
    "start_time": "2022-06-01T15:20:33.135Z"
   },
   {
    "duration": 3,
    "start_time": "2022-06-01T15:20:33.168Z"
   },
   {
    "duration": 7,
    "start_time": "2022-06-01T15:20:33.173Z"
   },
   {
    "duration": 3,
    "start_time": "2022-06-01T15:24:20.875Z"
   },
   {
    "duration": 19,
    "start_time": "2022-06-01T15:24:26.281Z"
   },
   {
    "duration": 3,
    "start_time": "2022-06-01T15:24:38.713Z"
   },
   {
    "duration": 41,
    "start_time": "2022-06-01T15:27:52.290Z"
   },
   {
    "duration": 36,
    "start_time": "2022-06-01T15:28:02.660Z"
   },
   {
    "duration": 530,
    "start_time": "2022-06-01T15:28:21.156Z"
   },
   {
    "duration": 9972,
    "start_time": "2022-06-01T15:28:27.704Z"
   },
   {
    "duration": 11,
    "start_time": "2022-06-01T15:28:50.646Z"
   },
   {
    "duration": 6,
    "start_time": "2022-06-01T15:29:24.484Z"
   },
   {
    "duration": 466,
    "start_time": "2022-06-01T15:29:42.723Z"
   },
   {
    "duration": 95,
    "start_time": "2022-06-01T15:29:43.191Z"
   },
   {
    "duration": 20,
    "start_time": "2022-06-01T15:29:43.287Z"
   },
   {
    "duration": 4,
    "start_time": "2022-06-01T15:29:43.309Z"
   },
   {
    "duration": 14,
    "start_time": "2022-06-01T15:29:43.315Z"
   },
   {
    "duration": 21,
    "start_time": "2022-06-01T15:29:43.332Z"
   },
   {
    "duration": 22,
    "start_time": "2022-06-01T15:29:43.356Z"
   },
   {
    "duration": 5,
    "start_time": "2022-06-01T15:29:43.379Z"
   },
   {
    "duration": 19,
    "start_time": "2022-06-01T15:29:43.385Z"
   },
   {
    "duration": 4,
    "start_time": "2022-06-01T15:29:43.406Z"
   },
   {
    "duration": 11,
    "start_time": "2022-06-01T15:29:43.428Z"
   },
   {
    "duration": 10077,
    "start_time": "2022-06-01T15:29:43.442Z"
   },
   {
    "duration": 5,
    "start_time": "2022-06-01T15:29:53.520Z"
   },
   {
    "duration": 10277,
    "start_time": "2022-06-01T15:30:57.299Z"
   },
   {
    "duration": 4,
    "start_time": "2022-06-01T15:31:07.578Z"
   },
   {
    "duration": 465,
    "start_time": "2022-06-01T15:31:15.713Z"
   },
   {
    "duration": 98,
    "start_time": "2022-06-01T15:31:16.180Z"
   },
   {
    "duration": 27,
    "start_time": "2022-06-01T15:31:16.280Z"
   },
   {
    "duration": 4,
    "start_time": "2022-06-01T15:31:16.309Z"
   },
   {
    "duration": 22,
    "start_time": "2022-06-01T15:31:16.314Z"
   },
   {
    "duration": 14,
    "start_time": "2022-06-01T15:31:16.337Z"
   },
   {
    "duration": 23,
    "start_time": "2022-06-01T15:31:16.353Z"
   },
   {
    "duration": 6,
    "start_time": "2022-06-01T15:31:16.377Z"
   },
   {
    "duration": 28,
    "start_time": "2022-06-01T15:31:16.384Z"
   },
   {
    "duration": 4,
    "start_time": "2022-06-01T15:31:16.415Z"
   },
   {
    "duration": 9,
    "start_time": "2022-06-01T15:31:16.421Z"
   },
   {
    "duration": 10250,
    "start_time": "2022-06-01T15:31:16.431Z"
   },
   {
    "duration": 4,
    "start_time": "2022-06-01T15:31:26.683Z"
   },
   {
    "duration": 13,
    "start_time": "2022-06-01T15:33:06.943Z"
   },
   {
    "duration": 28,
    "start_time": "2022-06-01T15:36:43.074Z"
   },
   {
    "duration": 10,
    "start_time": "2022-06-01T15:44:09.676Z"
   },
   {
    "duration": 15,
    "start_time": "2022-06-01T15:44:15.748Z"
   },
   {
    "duration": 80,
    "start_time": "2022-06-01T15:46:53.700Z"
   },
   {
    "duration": 15,
    "start_time": "2022-06-01T15:46:59.654Z"
   },
   {
    "duration": 27,
    "start_time": "2022-06-01T15:47:03.413Z"
   },
   {
    "duration": 20,
    "start_time": "2022-06-01T15:47:10.681Z"
   },
   {
    "duration": 8,
    "start_time": "2022-06-01T15:48:05.191Z"
   },
   {
    "duration": 26,
    "start_time": "2022-06-01T15:48:08.916Z"
   },
   {
    "duration": 27,
    "start_time": "2022-06-01T15:48:16.565Z"
   },
   {
    "duration": 25,
    "start_time": "2022-06-01T15:48:18.014Z"
   },
   {
    "duration": 475,
    "start_time": "2022-06-01T15:50:00.432Z"
   },
   {
    "duration": 96,
    "start_time": "2022-06-01T15:50:00.909Z"
   },
   {
    "duration": 25,
    "start_time": "2022-06-01T15:50:01.007Z"
   },
   {
    "duration": 25,
    "start_time": "2022-06-01T15:50:01.038Z"
   },
   {
    "duration": 15,
    "start_time": "2022-06-01T15:50:01.065Z"
   },
   {
    "duration": 34,
    "start_time": "2022-06-01T15:50:01.082Z"
   },
   {
    "duration": 41,
    "start_time": "2022-06-01T15:50:01.118Z"
   },
   {
    "duration": 12,
    "start_time": "2022-06-01T15:50:01.161Z"
   },
   {
    "duration": 35,
    "start_time": "2022-06-01T15:50:01.175Z"
   },
   {
    "duration": 31,
    "start_time": "2022-06-01T15:50:01.213Z"
   },
   {
    "duration": 63,
    "start_time": "2022-06-01T15:50:01.245Z"
   },
   {
    "duration": 31,
    "start_time": "2022-06-01T15:50:01.310Z"
   },
   {
    "duration": 81,
    "start_time": "2022-06-01T15:50:01.342Z"
   },
   {
    "duration": 55,
    "start_time": "2022-06-01T15:50:01.429Z"
   },
   {
    "duration": 15,
    "start_time": "2022-06-01T15:50:24.961Z"
   },
   {
    "duration": 13,
    "start_time": "2022-06-01T15:52:43.743Z"
   },
   {
    "duration": 18,
    "start_time": "2022-06-01T15:52:50.625Z"
   },
   {
    "duration": 12,
    "start_time": "2022-06-01T15:54:25.307Z"
   },
   {
    "duration": 16,
    "start_time": "2022-06-01T16:25:32.439Z"
   },
   {
    "duration": 112,
    "start_time": "2022-06-01T16:26:34.404Z"
   },
   {
    "duration": 17,
    "start_time": "2022-06-01T16:26:41.001Z"
   },
   {
    "duration": 39,
    "start_time": "2022-06-01T16:27:44.529Z"
   },
   {
    "duration": 22,
    "start_time": "2022-06-01T16:28:47.493Z"
   },
   {
    "duration": 16,
    "start_time": "2022-06-01T16:28:51.781Z"
   },
   {
    "duration": 34,
    "start_time": "2022-06-01T16:41:20.186Z"
   },
   {
    "duration": 21,
    "start_time": "2022-06-01T16:41:20.258Z"
   },
   {
    "duration": 23,
    "start_time": "2022-06-01T16:41:25.044Z"
   },
   {
    "duration": 3,
    "start_time": "2022-06-01T16:44:45.131Z"
   },
   {
    "duration": 4,
    "start_time": "2022-06-01T16:45:19.791Z"
   },
   {
    "duration": 5,
    "start_time": "2022-06-01T16:45:26.146Z"
   },
   {
    "duration": 3,
    "start_time": "2022-06-01T16:45:59.867Z"
   },
   {
    "duration": 57,
    "start_time": "2022-06-02T09:43:46.964Z"
   },
   {
    "duration": 381,
    "start_time": "2022-06-02T09:43:55.989Z"
   },
   {
    "duration": 141,
    "start_time": "2022-06-02T09:43:56.371Z"
   },
   {
    "duration": 15,
    "start_time": "2022-06-02T09:43:56.513Z"
   },
   {
    "duration": 10,
    "start_time": "2022-06-02T09:43:56.530Z"
   },
   {
    "duration": 36,
    "start_time": "2022-06-02T09:43:56.541Z"
   },
   {
    "duration": 9,
    "start_time": "2022-06-02T09:43:56.579Z"
   },
   {
    "duration": 16,
    "start_time": "2022-06-02T09:43:56.589Z"
   },
   {
    "duration": 7,
    "start_time": "2022-06-02T09:43:56.607Z"
   },
   {
    "duration": 15,
    "start_time": "2022-06-02T09:43:56.615Z"
   },
   {
    "duration": 3,
    "start_time": "2022-06-02T09:43:56.632Z"
   },
   {
    "duration": 31,
    "start_time": "2022-06-02T09:43:56.637Z"
   },
   {
    "duration": 13,
    "start_time": "2022-06-02T09:43:56.670Z"
   },
   {
    "duration": 35,
    "start_time": "2022-06-02T09:43:56.685Z"
   },
   {
    "duration": 12,
    "start_time": "2022-06-02T09:43:56.722Z"
   },
   {
    "duration": 33,
    "start_time": "2022-06-02T09:43:56.735Z"
   },
   {
    "duration": 20,
    "start_time": "2022-06-02T09:43:56.769Z"
   },
   {
    "duration": 3,
    "start_time": "2022-06-02T09:43:56.790Z"
   },
   {
    "duration": 33,
    "start_time": "2022-06-02T09:43:56.795Z"
   },
   {
    "duration": 1142,
    "start_time": "2022-06-02T09:54:17.244Z"
   },
   {
    "duration": 219,
    "start_time": "2022-06-02T09:55:09.499Z"
   },
   {
    "duration": 181,
    "start_time": "2022-06-02T09:55:57.195Z"
   },
   {
    "duration": 23,
    "start_time": "2022-06-02T09:56:57.664Z"
   },
   {
    "duration": 232,
    "start_time": "2022-06-02T10:00:15.347Z"
   },
   {
    "duration": 78,
    "start_time": "2022-06-02T10:06:07.858Z"
   },
   {
    "duration": 603,
    "start_time": "2022-06-02T10:06:43.578Z"
   },
   {
    "duration": 282,
    "start_time": "2022-06-02T10:06:53.949Z"
   },
   {
    "duration": 242,
    "start_time": "2022-06-02T10:07:26.218Z"
   },
   {
    "duration": 241,
    "start_time": "2022-06-02T10:07:53.384Z"
   },
   {
    "duration": 5,
    "start_time": "2022-06-02T10:11:26.899Z"
   },
   {
    "duration": 17,
    "start_time": "2022-06-02T10:11:47.180Z"
   },
   {
    "duration": 5,
    "start_time": "2022-06-02T10:29:48.213Z"
   },
   {
    "duration": 4,
    "start_time": "2022-06-02T10:30:45.813Z"
   },
   {
    "duration": 9,
    "start_time": "2022-06-02T10:41:50.973Z"
   },
   {
    "duration": 13,
    "start_time": "2022-06-02T10:44:55.288Z"
   },
   {
    "duration": 8,
    "start_time": "2022-06-02T10:50:20.078Z"
   },
   {
    "duration": 9,
    "start_time": "2022-06-02T10:52:13.318Z"
   },
   {
    "duration": 9,
    "start_time": "2022-06-02T10:53:19.166Z"
   },
   {
    "duration": 9,
    "start_time": "2022-06-02T11:00:50.791Z"
   },
   {
    "duration": 20,
    "start_time": "2022-06-02T11:04:00.911Z"
   },
   {
    "duration": 9,
    "start_time": "2022-06-02T11:04:16.213Z"
   },
   {
    "duration": 9,
    "start_time": "2022-06-02T11:04:26.409Z"
   },
   {
    "duration": 10,
    "start_time": "2022-06-02T11:05:56.006Z"
   },
   {
    "duration": 8,
    "start_time": "2022-06-02T11:06:01.546Z"
   },
   {
    "duration": 215,
    "start_time": "2022-06-02T11:12:39.829Z"
   },
   {
    "duration": 236,
    "start_time": "2022-06-02T11:12:48.441Z"
   },
   {
    "duration": 1374,
    "start_time": "2022-06-05T11:18:27.986Z"
   },
   {
    "duration": 138,
    "start_time": "2022-06-05T11:18:29.363Z"
   },
   {
    "duration": 18,
    "start_time": "2022-06-05T11:18:29.503Z"
   },
   {
    "duration": 3,
    "start_time": "2022-06-05T11:18:29.523Z"
   },
   {
    "duration": 5,
    "start_time": "2022-06-05T11:18:29.527Z"
   },
   {
    "duration": 9,
    "start_time": "2022-06-05T11:18:29.533Z"
   },
   {
    "duration": 13,
    "start_time": "2022-06-05T11:18:29.565Z"
   },
   {
    "duration": 4,
    "start_time": "2022-06-05T11:18:29.580Z"
   },
   {
    "duration": 18,
    "start_time": "2022-06-05T11:18:29.586Z"
   },
   {
    "duration": 3,
    "start_time": "2022-06-05T11:18:29.608Z"
   },
   {
    "duration": 17,
    "start_time": "2022-06-05T11:18:29.613Z"
   },
   {
    "duration": 38,
    "start_time": "2022-06-05T11:18:29.632Z"
   },
   {
    "duration": 25,
    "start_time": "2022-06-05T11:18:29.671Z"
   },
   {
    "duration": 12,
    "start_time": "2022-06-05T11:18:29.698Z"
   },
   {
    "duration": 17,
    "start_time": "2022-06-05T11:18:29.712Z"
   },
   {
    "duration": 47,
    "start_time": "2022-06-05T11:18:29.731Z"
   },
   {
    "duration": 4,
    "start_time": "2022-06-05T11:18:29.781Z"
   },
   {
    "duration": 10,
    "start_time": "2022-06-05T11:18:29.787Z"
   },
   {
    "duration": 7,
    "start_time": "2022-06-05T11:18:29.798Z"
   },
   {
    "duration": 6,
    "start_time": "2022-06-05T11:18:29.807Z"
   },
   {
    "duration": 13,
    "start_time": "2022-06-05T11:18:29.815Z"
   },
   {
    "duration": 35,
    "start_time": "2022-06-05T11:18:29.830Z"
   },
   {
    "duration": 13,
    "start_time": "2022-06-05T11:18:29.867Z"
   },
   {
    "duration": 8,
    "start_time": "2022-06-05T11:18:29.882Z"
   },
   {
    "duration": 30,
    "start_time": "2022-06-05T11:18:29.892Z"
   },
   {
    "duration": 299,
    "start_time": "2022-06-05T11:18:29.924Z"
   },
   {
    "duration": 10,
    "start_time": "2022-06-05T11:28:16.863Z"
   },
   {
    "duration": 16,
    "start_time": "2022-06-05T11:28:20.099Z"
   },
   {
    "duration": 312,
    "start_time": "2022-06-05T11:28:46.895Z"
   },
   {
    "duration": 1110,
    "start_time": "2022-06-05T11:37:51.789Z"
   },
   {
    "duration": 83,
    "start_time": "2022-06-05T11:37:52.901Z"
   },
   {
    "duration": 18,
    "start_time": "2022-06-05T11:37:52.986Z"
   },
   {
    "duration": 3,
    "start_time": "2022-06-05T11:37:53.006Z"
   },
   {
    "duration": 4,
    "start_time": "2022-06-05T11:37:53.011Z"
   },
   {
    "duration": 10,
    "start_time": "2022-06-05T11:37:53.017Z"
   },
   {
    "duration": 44,
    "start_time": "2022-06-05T11:37:53.028Z"
   },
   {
    "duration": 5,
    "start_time": "2022-06-05T11:37:53.074Z"
   },
   {
    "duration": 17,
    "start_time": "2022-06-05T11:37:53.080Z"
   },
   {
    "duration": 4,
    "start_time": "2022-06-05T11:37:53.098Z"
   },
   {
    "duration": 25,
    "start_time": "2022-06-05T11:37:53.104Z"
   },
   {
    "duration": 38,
    "start_time": "2022-06-05T11:37:53.130Z"
   },
   {
    "duration": 25,
    "start_time": "2022-06-05T11:37:53.169Z"
   },
   {
    "duration": 12,
    "start_time": "2022-06-05T11:37:53.197Z"
   },
   {
    "duration": 37,
    "start_time": "2022-06-05T11:37:53.210Z"
   },
   {
    "duration": 22,
    "start_time": "2022-06-05T11:37:53.249Z"
   },
   {
    "duration": 4,
    "start_time": "2022-06-05T11:37:53.273Z"
   },
   {
    "duration": 8,
    "start_time": "2022-06-05T11:37:53.279Z"
   },
   {
    "duration": 7,
    "start_time": "2022-06-05T11:37:53.288Z"
   },
   {
    "duration": 8,
    "start_time": "2022-06-05T11:37:53.297Z"
   },
   {
    "duration": 13,
    "start_time": "2022-06-05T11:37:53.306Z"
   },
   {
    "duration": 8,
    "start_time": "2022-06-05T11:37:53.320Z"
   },
   {
    "duration": 42,
    "start_time": "2022-06-05T11:37:53.330Z"
   },
   {
    "duration": 8,
    "start_time": "2022-06-05T11:37:53.374Z"
   },
   {
    "duration": 30,
    "start_time": "2022-06-05T11:37:53.384Z"
   },
   {
    "duration": 311,
    "start_time": "2022-06-05T11:37:53.416Z"
   },
   {
    "duration": 9,
    "start_time": "2022-06-05T11:37:53.729Z"
   },
   {
    "duration": 305,
    "start_time": "2022-06-05T11:37:53.740Z"
   },
   {
    "duration": 7,
    "start_time": "2022-06-05T11:38:35.388Z"
   },
   {
    "duration": 1152,
    "start_time": "2022-06-05T11:38:42.757Z"
   },
   {
    "duration": 88,
    "start_time": "2022-06-05T11:38:43.912Z"
   },
   {
    "duration": 18,
    "start_time": "2022-06-05T11:38:44.002Z"
   },
   {
    "duration": 4,
    "start_time": "2022-06-05T11:38:44.022Z"
   },
   {
    "duration": 5,
    "start_time": "2022-06-05T11:38:44.028Z"
   },
   {
    "duration": 10,
    "start_time": "2022-06-05T11:38:44.035Z"
   },
   {
    "duration": 13,
    "start_time": "2022-06-05T11:38:44.065Z"
   },
   {
    "duration": 6,
    "start_time": "2022-06-05T11:38:44.079Z"
   },
   {
    "duration": 14,
    "start_time": "2022-06-05T11:38:44.087Z"
   },
   {
    "duration": 4,
    "start_time": "2022-06-05T11:38:44.104Z"
   },
   {
    "duration": 24,
    "start_time": "2022-06-05T11:38:44.109Z"
   },
   {
    "duration": 11,
    "start_time": "2022-06-05T11:38:44.165Z"
   },
   {
    "duration": 26,
    "start_time": "2022-06-05T11:38:44.177Z"
   },
   {
    "duration": 13,
    "start_time": "2022-06-05T11:38:44.205Z"
   },
   {
    "duration": 17,
    "start_time": "2022-06-05T11:38:44.220Z"
   },
   {
    "duration": 21,
    "start_time": "2022-06-05T11:38:44.265Z"
   },
   {
    "duration": 3,
    "start_time": "2022-06-05T11:38:44.288Z"
   },
   {
    "duration": 13,
    "start_time": "2022-06-05T11:38:44.293Z"
   },
   {
    "duration": 11,
    "start_time": "2022-06-05T11:38:44.308Z"
   },
   {
    "duration": 7,
    "start_time": "2022-06-05T11:38:44.321Z"
   },
   {
    "duration": 36,
    "start_time": "2022-06-05T11:38:44.330Z"
   },
   {
    "duration": 9,
    "start_time": "2022-06-05T11:38:44.367Z"
   },
   {
    "duration": 9,
    "start_time": "2022-06-05T11:38:44.377Z"
   },
   {
    "duration": 8,
    "start_time": "2022-06-05T11:38:44.388Z"
   },
   {
    "duration": 34,
    "start_time": "2022-06-05T11:38:44.397Z"
   },
   {
    "duration": 339,
    "start_time": "2022-06-05T11:38:44.433Z"
   },
   {
    "duration": 8,
    "start_time": "2022-06-05T11:38:44.775Z"
   },
   {
    "duration": 335,
    "start_time": "2022-06-05T11:38:44.787Z"
   },
   {
    "duration": 1217,
    "start_time": "2022-06-05T11:39:31.491Z"
   },
   {
    "duration": 88,
    "start_time": "2022-06-05T11:39:32.710Z"
   },
   {
    "duration": 17,
    "start_time": "2022-06-05T11:39:32.800Z"
   },
   {
    "duration": 4,
    "start_time": "2022-06-05T11:39:32.818Z"
   },
   {
    "duration": 6,
    "start_time": "2022-06-05T11:39:32.824Z"
   },
   {
    "duration": 9,
    "start_time": "2022-06-05T11:39:32.831Z"
   },
   {
    "duration": 32,
    "start_time": "2022-06-05T11:39:32.842Z"
   },
   {
    "duration": 4,
    "start_time": "2022-06-05T11:39:32.876Z"
   },
   {
    "duration": 14,
    "start_time": "2022-06-05T11:39:32.882Z"
   },
   {
    "duration": 6,
    "start_time": "2022-06-05T11:39:32.898Z"
   },
   {
    "duration": 25,
    "start_time": "2022-06-05T11:39:32.906Z"
   },
   {
    "duration": 32,
    "start_time": "2022-06-05T11:39:32.933Z"
   },
   {
    "duration": 25,
    "start_time": "2022-06-05T11:39:32.967Z"
   },
   {
    "duration": 12,
    "start_time": "2022-06-05T11:39:32.994Z"
   },
   {
    "duration": 20,
    "start_time": "2022-06-05T11:39:33.007Z"
   },
   {
    "duration": 50,
    "start_time": "2022-06-05T11:39:33.029Z"
   },
   {
    "duration": 4,
    "start_time": "2022-06-05T11:39:33.081Z"
   },
   {
    "duration": 7,
    "start_time": "2022-06-05T11:39:33.086Z"
   },
   {
    "duration": 5,
    "start_time": "2022-06-05T11:39:33.095Z"
   },
   {
    "duration": 6,
    "start_time": "2022-06-05T11:39:33.102Z"
   },
   {
    "duration": 9,
    "start_time": "2022-06-05T11:39:33.110Z"
   },
   {
    "duration": 11,
    "start_time": "2022-06-05T11:39:33.121Z"
   },
   {
    "duration": 12,
    "start_time": "2022-06-05T11:39:33.165Z"
   },
   {
    "duration": 9,
    "start_time": "2022-06-05T11:39:33.179Z"
   },
   {
    "duration": 33,
    "start_time": "2022-06-05T11:39:33.190Z"
   },
   {
    "duration": 290,
    "start_time": "2022-06-05T11:39:33.224Z"
   },
   {
    "duration": 9,
    "start_time": "2022-06-05T11:39:33.516Z"
   },
   {
    "duration": 346,
    "start_time": "2022-06-05T11:39:33.527Z"
   },
   {
    "duration": 1221,
    "start_time": "2022-06-05T11:40:29.794Z"
   },
   {
    "duration": 108,
    "start_time": "2022-06-05T11:40:31.018Z"
   },
   {
    "duration": 18,
    "start_time": "2022-06-05T11:40:31.128Z"
   },
   {
    "duration": 18,
    "start_time": "2022-06-05T11:40:31.148Z"
   },
   {
    "duration": 17,
    "start_time": "2022-06-05T11:40:31.168Z"
   },
   {
    "duration": 22,
    "start_time": "2022-06-05T11:40:31.188Z"
   },
   {
    "duration": 37,
    "start_time": "2022-06-05T11:40:31.212Z"
   },
   {
    "duration": 23,
    "start_time": "2022-06-05T11:40:31.250Z"
   },
   {
    "duration": 57,
    "start_time": "2022-06-05T11:40:31.275Z"
   },
   {
    "duration": 14,
    "start_time": "2022-06-05T11:40:31.334Z"
   },
   {
    "duration": 29,
    "start_time": "2022-06-05T11:40:31.350Z"
   },
   {
    "duration": 43,
    "start_time": "2022-06-05T11:40:31.381Z"
   },
   {
    "duration": 40,
    "start_time": "2022-06-05T11:40:31.426Z"
   },
   {
    "duration": 20,
    "start_time": "2022-06-05T11:40:31.469Z"
   },
   {
    "duration": 41,
    "start_time": "2022-06-05T11:40:31.491Z"
   },
   {
    "duration": 31,
    "start_time": "2022-06-05T11:40:31.534Z"
   },
   {
    "duration": 10,
    "start_time": "2022-06-05T11:40:31.566Z"
   },
   {
    "duration": 19,
    "start_time": "2022-06-05T11:40:31.578Z"
   },
   {
    "duration": 27,
    "start_time": "2022-06-05T11:40:31.599Z"
   },
   {
    "duration": 19,
    "start_time": "2022-06-05T11:40:31.628Z"
   },
   {
    "duration": 22,
    "start_time": "2022-06-05T11:40:31.649Z"
   },
   {
    "duration": 28,
    "start_time": "2022-06-05T11:40:31.673Z"
   },
   {
    "duration": 32,
    "start_time": "2022-06-05T11:40:31.703Z"
   },
   {
    "duration": 16,
    "start_time": "2022-06-05T11:40:31.737Z"
   },
   {
    "duration": 54,
    "start_time": "2022-06-05T11:40:31.754Z"
   },
   {
    "duration": 409,
    "start_time": "2022-06-05T11:40:31.811Z"
   },
   {
    "duration": 11,
    "start_time": "2022-06-05T11:40:32.222Z"
   },
   {
    "duration": 315,
    "start_time": "2022-06-05T11:40:32.235Z"
   },
   {
    "duration": 24,
    "start_time": "2022-06-05T11:45:09.234Z"
   },
   {
    "duration": 130,
    "start_time": "2022-06-05T11:46:25.652Z"
   },
   {
    "duration": 4,
    "start_time": "2022-06-05T11:46:33.185Z"
   },
   {
    "duration": 22,
    "start_time": "2022-06-05T11:46:33.608Z"
   },
   {
    "duration": 232,
    "start_time": "2022-06-05T11:46:51.192Z"
   },
   {
    "duration": 23,
    "start_time": "2022-06-05T11:47:10.891Z"
   },
   {
    "duration": 22,
    "start_time": "2022-06-05T11:47:53.538Z"
   },
   {
    "duration": 23,
    "start_time": "2022-06-05T11:48:09.194Z"
   },
   {
    "duration": 12,
    "start_time": "2022-06-05T11:48:29.202Z"
   },
   {
    "duration": 1176,
    "start_time": "2022-06-05T11:52:37.488Z"
   },
   {
    "duration": 91,
    "start_time": "2022-06-05T11:52:38.667Z"
   },
   {
    "duration": 28,
    "start_time": "2022-06-05T11:52:38.759Z"
   },
   {
    "duration": 8,
    "start_time": "2022-06-05T11:52:38.789Z"
   },
   {
    "duration": 5,
    "start_time": "2022-06-05T11:52:38.799Z"
   },
   {
    "duration": 12,
    "start_time": "2022-06-05T11:52:38.806Z"
   },
   {
    "duration": 20,
    "start_time": "2022-06-05T11:52:38.820Z"
   },
   {
    "duration": 5,
    "start_time": "2022-06-05T11:52:38.843Z"
   },
   {
    "duration": 44,
    "start_time": "2022-06-05T11:52:38.850Z"
   },
   {
    "duration": 4,
    "start_time": "2022-06-05T11:52:38.896Z"
   },
   {
    "duration": 26,
    "start_time": "2022-06-05T11:52:38.902Z"
   },
   {
    "duration": 14,
    "start_time": "2022-06-05T11:52:38.930Z"
   },
   {
    "duration": 54,
    "start_time": "2022-06-05T11:52:38.946Z"
   },
   {
    "duration": 16,
    "start_time": "2022-06-05T11:52:39.003Z"
   },
   {
    "duration": 29,
    "start_time": "2022-06-05T11:52:39.021Z"
   },
   {
    "duration": 34,
    "start_time": "2022-06-05T11:52:39.052Z"
   },
   {
    "duration": 17,
    "start_time": "2022-06-05T11:52:39.088Z"
   },
   {
    "duration": 23,
    "start_time": "2022-06-05T11:52:39.107Z"
   },
   {
    "duration": 9,
    "start_time": "2022-06-05T11:52:39.133Z"
   },
   {
    "duration": 8,
    "start_time": "2022-06-05T11:52:39.144Z"
   },
   {
    "duration": 21,
    "start_time": "2022-06-05T11:52:39.154Z"
   },
   {
    "duration": 18,
    "start_time": "2022-06-05T11:52:39.177Z"
   },
   {
    "duration": 22,
    "start_time": "2022-06-05T11:52:39.196Z"
   },
   {
    "duration": 14,
    "start_time": "2022-06-05T11:52:39.219Z"
   },
   {
    "duration": 11,
    "start_time": "2022-06-05T11:52:39.235Z"
   },
   {
    "duration": 30,
    "start_time": "2022-06-05T11:52:39.249Z"
   },
   {
    "duration": 271,
    "start_time": "2022-06-05T11:52:39.281Z"
   },
   {
    "duration": 17,
    "start_time": "2022-06-05T11:52:39.554Z"
   },
   {
    "duration": 23,
    "start_time": "2022-06-05T11:52:39.573Z"
   },
   {
    "duration": 143,
    "start_time": "2022-06-05T11:54:40.091Z"
   },
   {
    "duration": 11,
    "start_time": "2022-06-05T11:54:42.199Z"
   },
   {
    "duration": 12,
    "start_time": "2022-06-05T11:54:54.087Z"
   },
   {
    "duration": 12,
    "start_time": "2022-06-05T11:55:01.179Z"
   },
   {
    "duration": 258,
    "start_time": "2022-06-05T11:55:04.025Z"
   },
   {
    "duration": 123,
    "start_time": "2022-06-05T11:55:12.809Z"
   },
   {
    "duration": 157,
    "start_time": "2022-06-05T11:55:23.291Z"
   },
   {
    "duration": 156,
    "start_time": "2022-06-05T11:55:44.197Z"
   },
   {
    "duration": 145,
    "start_time": "2022-06-05T11:55:54.743Z"
   },
   {
    "duration": 170,
    "start_time": "2022-06-05T12:01:26.481Z"
   },
   {
    "duration": 395,
    "start_time": "2022-06-05T12:01:35.380Z"
   },
   {
    "duration": 482,
    "start_time": "2022-06-05T12:19:11.241Z"
   },
   {
    "duration": 653,
    "start_time": "2022-06-05T12:19:38.614Z"
   },
   {
    "duration": 1069,
    "start_time": "2022-06-05T12:20:22.325Z"
   },
   {
    "duration": 93,
    "start_time": "2022-06-05T12:20:23.396Z"
   },
   {
    "duration": 16,
    "start_time": "2022-06-05T12:20:23.490Z"
   },
   {
    "duration": 4,
    "start_time": "2022-06-05T12:20:23.508Z"
   },
   {
    "duration": 8,
    "start_time": "2022-06-05T12:20:23.513Z"
   },
   {
    "duration": 7,
    "start_time": "2022-06-05T12:20:23.523Z"
   },
   {
    "duration": 32,
    "start_time": "2022-06-05T12:20:23.532Z"
   },
   {
    "duration": 4,
    "start_time": "2022-06-05T12:20:23.567Z"
   },
   {
    "duration": 17,
    "start_time": "2022-06-05T12:20:23.573Z"
   },
   {
    "duration": 3,
    "start_time": "2022-06-05T12:20:23.592Z"
   },
   {
    "duration": 19,
    "start_time": "2022-06-05T12:20:23.597Z"
   },
   {
    "duration": 12,
    "start_time": "2022-06-05T12:20:23.618Z"
   },
   {
    "duration": 57,
    "start_time": "2022-06-05T12:20:23.632Z"
   },
   {
    "duration": 13,
    "start_time": "2022-06-05T12:20:23.691Z"
   },
   {
    "duration": 15,
    "start_time": "2022-06-05T12:20:23.708Z"
   },
   {
    "duration": 19,
    "start_time": "2022-06-05T12:20:23.725Z"
   },
   {
    "duration": 21,
    "start_time": "2022-06-05T12:20:23.745Z"
   },
   {
    "duration": 7,
    "start_time": "2022-06-05T12:20:23.768Z"
   },
   {
    "duration": 12,
    "start_time": "2022-06-05T12:20:23.777Z"
   },
   {
    "duration": 5,
    "start_time": "2022-06-05T12:20:23.791Z"
   },
   {
    "duration": 10,
    "start_time": "2022-06-05T12:20:23.797Z"
   },
   {
    "duration": 7,
    "start_time": "2022-06-05T12:20:23.808Z"
   },
   {
    "duration": 8,
    "start_time": "2022-06-05T12:20:23.817Z"
   },
   {
    "duration": 39,
    "start_time": "2022-06-05T12:20:23.826Z"
   },
   {
    "duration": 3,
    "start_time": "2022-06-05T12:20:23.867Z"
   },
   {
    "duration": 31,
    "start_time": "2022-06-05T12:20:23.872Z"
   },
   {
    "duration": 264,
    "start_time": "2022-06-05T12:20:23.905Z"
   },
   {
    "duration": 543,
    "start_time": "2022-06-05T12:20:24.172Z"
   },
   {
    "duration": 3,
    "start_time": "2022-06-05T12:20:24.717Z"
   },
   {
    "duration": 22,
    "start_time": "2022-06-05T12:22:40.205Z"
   },
   {
    "duration": 458,
    "start_time": "2022-06-05T12:23:08.451Z"
   },
   {
    "duration": 1193,
    "start_time": "2022-06-05T12:23:31.344Z"
   },
   {
    "duration": 90,
    "start_time": "2022-06-05T12:23:32.539Z"
   },
   {
    "duration": 18,
    "start_time": "2022-06-05T12:23:32.630Z"
   },
   {
    "duration": 17,
    "start_time": "2022-06-05T12:23:32.649Z"
   },
   {
    "duration": 9,
    "start_time": "2022-06-05T12:23:32.669Z"
   },
   {
    "duration": 9,
    "start_time": "2022-06-05T12:23:32.680Z"
   },
   {
    "duration": 25,
    "start_time": "2022-06-05T12:23:32.691Z"
   },
   {
    "duration": 4,
    "start_time": "2022-06-05T12:23:32.719Z"
   },
   {
    "duration": 17,
    "start_time": "2022-06-05T12:23:32.725Z"
   },
   {
    "duration": 4,
    "start_time": "2022-06-05T12:23:32.744Z"
   },
   {
    "duration": 19,
    "start_time": "2022-06-05T12:23:32.764Z"
   },
   {
    "duration": 11,
    "start_time": "2022-06-05T12:23:32.785Z"
   },
   {
    "duration": 26,
    "start_time": "2022-06-05T12:23:32.797Z"
   },
   {
    "duration": 14,
    "start_time": "2022-06-05T12:23:32.826Z"
   },
   {
    "duration": 39,
    "start_time": "2022-06-05T12:23:32.841Z"
   },
   {
    "duration": 21,
    "start_time": "2022-06-05T12:23:32.882Z"
   },
   {
    "duration": 3,
    "start_time": "2022-06-05T12:23:32.905Z"
   },
   {
    "duration": 5,
    "start_time": "2022-06-05T12:23:32.910Z"
   },
   {
    "duration": 5,
    "start_time": "2022-06-05T12:23:32.917Z"
   },
   {
    "duration": 4,
    "start_time": "2022-06-05T12:23:32.966Z"
   },
   {
    "duration": 17,
    "start_time": "2022-06-05T12:23:32.972Z"
   },
   {
    "duration": 7,
    "start_time": "2022-06-05T12:23:32.990Z"
   },
   {
    "duration": 13,
    "start_time": "2022-06-05T12:23:32.999Z"
   },
   {
    "duration": 8,
    "start_time": "2022-06-05T12:23:33.013Z"
   },
   {
    "duration": 14,
    "start_time": "2022-06-05T12:23:33.022Z"
   },
   {
    "duration": 49,
    "start_time": "2022-06-05T12:23:33.038Z"
   },
   {
    "duration": 278,
    "start_time": "2022-06-05T12:23:33.089Z"
   },
   {
    "duration": 17,
    "start_time": "2022-06-05T12:23:33.368Z"
   },
   {
    "duration": 573,
    "start_time": "2022-06-05T12:23:33.387Z"
   },
   {
    "duration": 5,
    "start_time": "2022-06-05T12:48:24.879Z"
   },
   {
    "duration": 23,
    "start_time": "2022-06-05T12:48:29.183Z"
   },
   {
    "duration": 12,
    "start_time": "2022-06-05T12:51:38.513Z"
   },
   {
    "duration": 119,
    "start_time": "2022-06-05T12:53:03.203Z"
   },
   {
    "duration": 3,
    "start_time": "2022-06-05T12:56:11.476Z"
   },
   {
    "duration": 575,
    "start_time": "2022-06-05T12:56:12.712Z"
   },
   {
    "duration": 180,
    "start_time": "2022-06-05T15:21:43.131Z"
   },
   {
    "duration": 180,
    "start_time": "2022-06-05T15:21:53.749Z"
   },
   {
    "duration": 16,
    "start_time": "2022-06-05T15:22:04.702Z"
   },
   {
    "duration": 371,
    "start_time": "2022-06-05T15:26:16.397Z"
   },
   {
    "duration": 345,
    "start_time": "2022-06-05T15:26:27.490Z"
   },
   {
    "duration": 404,
    "start_time": "2022-06-05T15:27:30.913Z"
   },
   {
    "duration": 34,
    "start_time": "2022-06-05T15:29:07.153Z"
   },
   {
    "duration": 31,
    "start_time": "2022-06-05T15:29:43.129Z"
   },
   {
    "duration": 419,
    "start_time": "2022-06-05T15:29:49.500Z"
   },
   {
    "duration": 9,
    "start_time": "2022-06-05T15:30:53.712Z"
   },
   {
    "duration": 13,
    "start_time": "2022-06-05T15:31:58.016Z"
   },
   {
    "duration": 16,
    "start_time": "2022-06-05T15:32:14.285Z"
   },
   {
    "duration": 11,
    "start_time": "2022-06-05T15:32:49.818Z"
   },
   {
    "duration": 10,
    "start_time": "2022-06-05T15:33:11.811Z"
   },
   {
    "duration": 12,
    "start_time": "2022-06-05T15:33:21.117Z"
   },
   {
    "duration": 15,
    "start_time": "2022-06-05T15:33:35.248Z"
   },
   {
    "duration": 20,
    "start_time": "2022-06-05T15:34:27.932Z"
   },
   {
    "duration": 14,
    "start_time": "2022-06-05T15:34:42.329Z"
   },
   {
    "duration": 18,
    "start_time": "2022-06-05T15:35:01.999Z"
   },
   {
    "duration": 10,
    "start_time": "2022-06-05T15:35:35.592Z"
   },
   {
    "duration": 1129,
    "start_time": "2022-06-05T15:35:42.953Z"
   },
   {
    "duration": 90,
    "start_time": "2022-06-05T15:35:44.084Z"
   },
   {
    "duration": 17,
    "start_time": "2022-06-05T15:35:44.175Z"
   },
   {
    "duration": 4,
    "start_time": "2022-06-05T15:35:44.193Z"
   },
   {
    "duration": 5,
    "start_time": "2022-06-05T15:35:44.199Z"
   },
   {
    "duration": 12,
    "start_time": "2022-06-05T15:35:44.206Z"
   },
   {
    "duration": 13,
    "start_time": "2022-06-05T15:35:44.220Z"
   },
   {
    "duration": 4,
    "start_time": "2022-06-05T15:35:44.235Z"
   },
   {
    "duration": 15,
    "start_time": "2022-06-05T15:35:44.265Z"
   },
   {
    "duration": 4,
    "start_time": "2022-06-05T15:35:44.281Z"
   },
   {
    "duration": 21,
    "start_time": "2022-06-05T15:35:44.287Z"
   },
   {
    "duration": 10,
    "start_time": "2022-06-05T15:35:44.309Z"
   },
   {
    "duration": 60,
    "start_time": "2022-06-05T15:35:44.320Z"
   },
   {
    "duration": 12,
    "start_time": "2022-06-05T15:35:44.383Z"
   },
   {
    "duration": 22,
    "start_time": "2022-06-05T15:35:44.397Z"
   },
   {
    "duration": 20,
    "start_time": "2022-06-05T15:35:44.421Z"
   },
   {
    "duration": 3,
    "start_time": "2022-06-05T15:35:44.443Z"
   },
   {
    "duration": 20,
    "start_time": "2022-06-05T15:35:44.447Z"
   },
   {
    "duration": 6,
    "start_time": "2022-06-05T15:35:44.469Z"
   },
   {
    "duration": 6,
    "start_time": "2022-06-05T15:35:44.476Z"
   },
   {
    "duration": 11,
    "start_time": "2022-06-05T15:35:44.483Z"
   },
   {
    "duration": 8,
    "start_time": "2022-06-05T15:35:44.495Z"
   },
   {
    "duration": 9,
    "start_time": "2022-06-05T15:35:44.504Z"
   },
   {
    "duration": 8,
    "start_time": "2022-06-05T15:35:44.514Z"
   },
   {
    "duration": 42,
    "start_time": "2022-06-05T15:35:44.523Z"
   },
   {
    "duration": 33,
    "start_time": "2022-06-05T15:35:44.566Z"
   },
   {
    "duration": 277,
    "start_time": "2022-06-05T15:35:44.601Z"
   },
   {
    "duration": 17,
    "start_time": "2022-06-05T15:35:44.880Z"
   },
   {
    "duration": 4,
    "start_time": "2022-06-05T15:35:44.899Z"
   },
   {
    "duration": 7,
    "start_time": "2022-06-05T15:35:44.904Z"
   },
   {
    "duration": 662,
    "start_time": "2022-06-05T15:35:44.912Z"
   },
   {
    "duration": 10,
    "start_time": "2022-06-05T15:35:45.576Z"
   },
   {
    "duration": 357,
    "start_time": "2022-06-05T15:35:45.587Z"
   },
   {
    "duration": 34,
    "start_time": "2022-06-05T15:35:45.945Z"
   },
   {
    "duration": 12,
    "start_time": "2022-06-05T15:37:45.934Z"
   },
   {
    "duration": 34,
    "start_time": "2022-06-05T15:43:21.076Z"
   },
   {
    "duration": 21,
    "start_time": "2022-06-05T15:43:28.545Z"
   },
   {
    "duration": 419,
    "start_time": "2022-06-05T15:43:32.576Z"
   },
   {
    "duration": 806,
    "start_time": "2022-06-05T15:45:03.711Z"
   },
   {
    "duration": 164,
    "start_time": "2022-06-05T15:49:06.573Z"
   },
   {
    "duration": 871,
    "start_time": "2022-06-05T15:49:17.401Z"
   },
   {
    "duration": 7906,
    "start_time": "2022-06-05T15:49:31.818Z"
   },
   {
    "duration": 31,
    "start_time": "2022-06-05T16:22:04.649Z"
   },
   {
    "duration": 26,
    "start_time": "2022-06-05T16:22:07.432Z"
   },
   {
    "duration": 19,
    "start_time": "2022-06-05T16:22:34.945Z"
   },
   {
    "duration": 18,
    "start_time": "2022-06-05T16:28:21.450Z"
   },
   {
    "duration": 24,
    "start_time": "2022-06-05T16:28:59.342Z"
   },
   {
    "duration": 18,
    "start_time": "2022-06-05T16:29:12.464Z"
   },
   {
    "duration": 21,
    "start_time": "2022-06-05T16:29:16.979Z"
   },
   {
    "duration": 5,
    "start_time": "2022-06-05T16:40:32.442Z"
   },
   {
    "duration": 13,
    "start_time": "2022-06-05T17:11:32.234Z"
   },
   {
    "duration": 29,
    "start_time": "2022-06-05T17:15:20.406Z"
   },
   {
    "duration": 167,
    "start_time": "2022-06-05T17:15:28.749Z"
   },
   {
    "duration": 47,
    "start_time": "2022-06-05T17:15:55.091Z"
   },
   {
    "duration": 26,
    "start_time": "2022-06-05T17:23:21.885Z"
   },
   {
    "duration": 17,
    "start_time": "2022-06-05T17:24:09.420Z"
   },
   {
    "duration": 17,
    "start_time": "2022-06-05T17:24:16.739Z"
   },
   {
    "duration": 16,
    "start_time": "2022-06-05T17:24:39.628Z"
   },
   {
    "duration": 22,
    "start_time": "2022-06-05T17:24:48.626Z"
   },
   {
    "duration": 30,
    "start_time": "2022-06-05T17:25:04.514Z"
   },
   {
    "duration": 23,
    "start_time": "2022-06-05T17:25:09.740Z"
   },
   {
    "duration": 3,
    "start_time": "2022-06-05T17:28:45.260Z"
   },
   {
    "duration": 20,
    "start_time": "2022-06-05T17:30:14.398Z"
   },
   {
    "duration": 16,
    "start_time": "2022-06-05T17:30:31.344Z"
   },
   {
    "duration": 34,
    "start_time": "2022-06-05T17:30:38.148Z"
   },
   {
    "duration": 29,
    "start_time": "2022-06-05T17:31:07.395Z"
   },
   {
    "duration": 11,
    "start_time": "2022-06-05T17:31:19.427Z"
   },
   {
    "duration": 3,
    "start_time": "2022-06-05T17:31:38.253Z"
   },
   {
    "duration": 4,
    "start_time": "2022-06-05T17:31:40.690Z"
   },
   {
    "duration": 27,
    "start_time": "2022-06-05T17:31:41.182Z"
   },
   {
    "duration": 3,
    "start_time": "2022-06-05T17:35:22.598Z"
   },
   {
    "duration": 27,
    "start_time": "2022-06-05T17:35:23.790Z"
   },
   {
    "duration": 25,
    "start_time": "2022-06-05T17:35:35.591Z"
   },
   {
    "duration": 20,
    "start_time": "2022-06-05T17:35:54.689Z"
   },
   {
    "duration": 1335,
    "start_time": "2022-06-06T11:41:07.496Z"
   },
   {
    "duration": 345,
    "start_time": "2022-06-06T11:41:08.833Z"
   },
   {
    "duration": 16,
    "start_time": "2022-06-06T11:41:09.179Z"
   },
   {
    "duration": 4,
    "start_time": "2022-06-06T11:41:09.197Z"
   },
   {
    "duration": 4,
    "start_time": "2022-06-06T11:41:09.202Z"
   },
   {
    "duration": 7,
    "start_time": "2022-06-06T11:41:09.208Z"
   },
   {
    "duration": 24,
    "start_time": "2022-06-06T11:41:09.216Z"
   },
   {
    "duration": 3,
    "start_time": "2022-06-06T11:41:09.242Z"
   },
   {
    "duration": 16,
    "start_time": "2022-06-06T11:41:09.246Z"
   },
   {
    "duration": 3,
    "start_time": "2022-06-06T11:41:09.264Z"
   },
   {
    "duration": 17,
    "start_time": "2022-06-06T11:41:09.269Z"
   },
   {
    "duration": 9,
    "start_time": "2022-06-06T11:41:09.288Z"
   },
   {
    "duration": 28,
    "start_time": "2022-06-06T11:41:09.333Z"
   },
   {
    "duration": 12,
    "start_time": "2022-06-06T11:41:09.363Z"
   },
   {
    "duration": 21,
    "start_time": "2022-06-06T11:41:09.376Z"
   },
   {
    "duration": 43,
    "start_time": "2022-06-06T11:41:09.399Z"
   },
   {
    "duration": 3,
    "start_time": "2022-06-06T11:41:09.444Z"
   },
   {
    "duration": 7,
    "start_time": "2022-06-06T11:41:09.448Z"
   },
   {
    "duration": 5,
    "start_time": "2022-06-06T11:41:09.456Z"
   },
   {
    "duration": 6,
    "start_time": "2022-06-06T11:41:09.463Z"
   },
   {
    "duration": 11,
    "start_time": "2022-06-06T11:41:09.471Z"
   },
   {
    "duration": 7,
    "start_time": "2022-06-06T11:41:09.483Z"
   },
   {
    "duration": 9,
    "start_time": "2022-06-06T11:41:09.491Z"
   },
   {
    "duration": 34,
    "start_time": "2022-06-06T11:41:09.501Z"
   },
   {
    "duration": 7,
    "start_time": "2022-06-06T11:41:09.537Z"
   },
   {
    "duration": 26,
    "start_time": "2022-06-06T11:41:09.546Z"
   },
   {
    "duration": 289,
    "start_time": "2022-06-06T11:41:09.573Z"
   },
   {
    "duration": 17,
    "start_time": "2022-06-06T11:41:09.865Z"
   },
   {
    "duration": 4,
    "start_time": "2022-06-06T11:41:09.884Z"
   },
   {
    "duration": 7,
    "start_time": "2022-06-06T11:41:09.890Z"
   },
   {
    "duration": 753,
    "start_time": "2022-06-06T11:41:09.898Z"
   },
   {
    "duration": 11,
    "start_time": "2022-06-06T11:41:10.653Z"
   },
   {
    "duration": 22,
    "start_time": "2022-06-06T11:41:10.666Z"
   },
   {
    "duration": 13,
    "start_time": "2022-06-06T11:41:10.689Z"
   },
   {
    "duration": 57,
    "start_time": "2022-06-06T11:41:10.703Z"
   },
   {
    "duration": 3,
    "start_time": "2022-06-06T11:41:10.762Z"
   },
   {
    "duration": 9,
    "start_time": "2022-06-06T11:41:10.767Z"
   },
   {
    "duration": 30,
    "start_time": "2022-06-06T11:41:10.777Z"
   },
   {
    "duration": 26,
    "start_time": "2022-06-06T11:46:52.939Z"
   },
   {
    "duration": 3,
    "start_time": "2022-06-06T11:47:08.842Z"
   },
   {
    "duration": 39,
    "start_time": "2022-06-06T11:47:15.608Z"
   },
   {
    "duration": 3,
    "start_time": "2022-06-06T12:13:03.820Z"
   },
   {
    "duration": 22,
    "start_time": "2022-06-06T12:13:04.276Z"
   },
   {
    "duration": 1133,
    "start_time": "2022-06-06T12:13:21.407Z"
   },
   {
    "duration": 84,
    "start_time": "2022-06-06T12:13:22.541Z"
   },
   {
    "duration": 17,
    "start_time": "2022-06-06T12:13:22.626Z"
   },
   {
    "duration": 4,
    "start_time": "2022-06-06T12:13:22.645Z"
   },
   {
    "duration": 4,
    "start_time": "2022-06-06T12:13:22.650Z"
   },
   {
    "duration": 9,
    "start_time": "2022-06-06T12:13:22.656Z"
   },
   {
    "duration": 16,
    "start_time": "2022-06-06T12:13:22.666Z"
   },
   {
    "duration": 5,
    "start_time": "2022-06-06T12:13:22.684Z"
   },
   {
    "duration": 38,
    "start_time": "2022-06-06T12:13:22.690Z"
   },
   {
    "duration": 3,
    "start_time": "2022-06-06T12:13:22.730Z"
   },
   {
    "duration": 25,
    "start_time": "2022-06-06T12:13:22.735Z"
   },
   {
    "duration": 10,
    "start_time": "2022-06-06T12:13:22.762Z"
   },
   {
    "duration": 27,
    "start_time": "2022-06-06T12:13:22.773Z"
   },
   {
    "duration": 31,
    "start_time": "2022-06-06T12:13:22.802Z"
   },
   {
    "duration": 24,
    "start_time": "2022-06-06T12:13:22.835Z"
   },
   {
    "duration": 18,
    "start_time": "2022-06-06T12:13:22.861Z"
   },
   {
    "duration": 3,
    "start_time": "2022-06-06T12:13:22.881Z"
   },
   {
    "duration": 19,
    "start_time": "2022-06-06T12:13:22.885Z"
   },
   {
    "duration": 5,
    "start_time": "2022-06-06T12:13:22.906Z"
   },
   {
    "duration": 15,
    "start_time": "2022-06-06T12:13:22.912Z"
   },
   {
    "duration": 11,
    "start_time": "2022-06-06T12:13:22.928Z"
   },
   {
    "duration": 8,
    "start_time": "2022-06-06T12:13:22.940Z"
   },
   {
    "duration": 8,
    "start_time": "2022-06-06T12:13:22.950Z"
   },
   {
    "duration": 10,
    "start_time": "2022-06-06T12:13:22.959Z"
   },
   {
    "duration": 4,
    "start_time": "2022-06-06T12:13:22.971Z"
   },
   {
    "duration": 53,
    "start_time": "2022-06-06T12:13:22.976Z"
   },
   {
    "duration": 272,
    "start_time": "2022-06-06T12:13:23.030Z"
   },
   {
    "duration": 29,
    "start_time": "2022-06-06T12:13:23.305Z"
   },
   {
    "duration": 5,
    "start_time": "2022-06-06T12:13:23.335Z"
   },
   {
    "duration": 18,
    "start_time": "2022-06-06T12:13:23.341Z"
   },
   {
    "duration": 685,
    "start_time": "2022-06-06T12:13:23.362Z"
   },
   {
    "duration": 12,
    "start_time": "2022-06-06T12:13:24.048Z"
   },
   {
    "duration": 26,
    "start_time": "2022-06-06T12:13:24.062Z"
   },
   {
    "duration": 12,
    "start_time": "2022-06-06T12:13:24.089Z"
   },
   {
    "duration": 46,
    "start_time": "2022-06-06T12:13:24.102Z"
   },
   {
    "duration": 3,
    "start_time": "2022-06-06T12:13:24.149Z"
   },
   {
    "duration": 9,
    "start_time": "2022-06-06T12:13:24.153Z"
   },
   {
    "duration": 32,
    "start_time": "2022-06-06T12:13:24.164Z"
   },
   {
    "duration": 31,
    "start_time": "2022-06-06T12:18:00.121Z"
   },
   {
    "duration": 24,
    "start_time": "2022-06-06T12:18:17.949Z"
   },
   {
    "duration": 48,
    "start_time": "2022-06-06T12:18:59.530Z"
   },
   {
    "duration": 31,
    "start_time": "2022-06-06T12:19:29.579Z"
   },
   {
    "duration": 3,
    "start_time": "2022-06-06T12:19:33.200Z"
   },
   {
    "duration": 3,
    "start_time": "2022-06-06T12:19:35.301Z"
   },
   {
    "duration": 647,
    "start_time": "2022-06-06T12:19:36.306Z"
   },
   {
    "duration": 37,
    "start_time": "2022-06-06T12:21:01.892Z"
   },
   {
    "duration": 31,
    "start_time": "2022-06-06T12:21:11.415Z"
   },
   {
    "duration": 4,
    "start_time": "2022-06-06T12:21:16.938Z"
   },
   {
    "duration": 2,
    "start_time": "2022-06-06T12:21:34.179Z"
   },
   {
    "duration": 25,
    "start_time": "2022-06-06T12:21:35.096Z"
   },
   {
    "duration": 35,
    "start_time": "2022-06-06T12:21:48.829Z"
   },
   {
    "duration": 22,
    "start_time": "2022-06-06T12:22:04.257Z"
   },
   {
    "duration": 1201,
    "start_time": "2022-06-06T12:22:25.247Z"
   },
   {
    "duration": 91,
    "start_time": "2022-06-06T12:22:26.450Z"
   },
   {
    "duration": 18,
    "start_time": "2022-06-06T12:22:26.546Z"
   },
   {
    "duration": 4,
    "start_time": "2022-06-06T12:22:26.566Z"
   },
   {
    "duration": 7,
    "start_time": "2022-06-06T12:22:26.571Z"
   },
   {
    "duration": 10,
    "start_time": "2022-06-06T12:22:26.579Z"
   },
   {
    "duration": 39,
    "start_time": "2022-06-06T12:22:26.591Z"
   },
   {
    "duration": 10,
    "start_time": "2022-06-06T12:22:26.632Z"
   },
   {
    "duration": 14,
    "start_time": "2022-06-06T12:22:26.646Z"
   },
   {
    "duration": 4,
    "start_time": "2022-06-06T12:22:26.661Z"
   },
   {
    "duration": 23,
    "start_time": "2022-06-06T12:22:26.666Z"
   },
   {
    "duration": 11,
    "start_time": "2022-06-06T12:22:26.691Z"
   },
   {
    "duration": 54,
    "start_time": "2022-06-06T12:22:26.704Z"
   },
   {
    "duration": 13,
    "start_time": "2022-06-06T12:22:26.760Z"
   },
   {
    "duration": 18,
    "start_time": "2022-06-06T12:22:26.775Z"
   },
   {
    "duration": 48,
    "start_time": "2022-06-06T12:22:26.794Z"
   },
   {
    "duration": 3,
    "start_time": "2022-06-06T12:22:26.844Z"
   },
   {
    "duration": 8,
    "start_time": "2022-06-06T12:22:26.849Z"
   },
   {
    "duration": 8,
    "start_time": "2022-06-06T12:22:26.858Z"
   },
   {
    "duration": 6,
    "start_time": "2022-06-06T12:22:26.868Z"
   },
   {
    "duration": 12,
    "start_time": "2022-06-06T12:22:26.875Z"
   },
   {
    "duration": 9,
    "start_time": "2022-06-06T12:22:26.888Z"
   },
   {
    "duration": 38,
    "start_time": "2022-06-06T12:22:26.899Z"
   },
   {
    "duration": 14,
    "start_time": "2022-06-06T12:22:26.939Z"
   },
   {
    "duration": 5,
    "start_time": "2022-06-06T12:22:26.955Z"
   },
   {
    "duration": 36,
    "start_time": "2022-06-06T12:22:26.961Z"
   },
   {
    "duration": 336,
    "start_time": "2022-06-06T12:22:27.001Z"
   },
   {
    "duration": 25,
    "start_time": "2022-06-06T12:22:27.342Z"
   },
   {
    "duration": 5,
    "start_time": "2022-06-06T12:22:27.369Z"
   },
   {
    "duration": 14,
    "start_time": "2022-06-06T12:22:27.376Z"
   },
   {
    "duration": 825,
    "start_time": "2022-06-06T12:22:27.392Z"
   },
   {
    "duration": 21,
    "start_time": "2022-06-06T12:22:28.219Z"
   },
   {
    "duration": 32,
    "start_time": "2022-06-06T12:22:28.242Z"
   },
   {
    "duration": 14,
    "start_time": "2022-06-06T12:22:28.276Z"
   },
   {
    "duration": 54,
    "start_time": "2022-06-06T12:22:28.292Z"
   },
   {
    "duration": 3,
    "start_time": "2022-06-06T12:22:28.348Z"
   },
   {
    "duration": 9,
    "start_time": "2022-06-06T12:22:28.352Z"
   },
   {
    "duration": 26,
    "start_time": "2022-06-06T12:22:28.362Z"
   },
   {
    "duration": 28,
    "start_time": "2022-06-06T12:27:03.618Z"
   },
   {
    "duration": 25,
    "start_time": "2022-06-06T12:27:08.213Z"
   },
   {
    "duration": 19,
    "start_time": "2022-06-06T12:44:24.333Z"
   },
   {
    "duration": 22,
    "start_time": "2022-06-06T12:44:28.028Z"
   },
   {
    "duration": 26,
    "start_time": "2022-06-06T12:45:59.406Z"
   },
   {
    "duration": 41,
    "start_time": "2022-06-06T12:46:11.247Z"
   },
   {
    "duration": 571,
    "start_time": "2022-06-06T12:46:16.553Z"
   },
   {
    "duration": 132,
    "start_time": "2022-06-06T12:51:42.364Z"
   },
   {
    "duration": 14,
    "start_time": "2022-06-06T13:06:04.553Z"
   },
   {
    "duration": 3,
    "start_time": "2022-06-06T13:22:52.377Z"
   },
   {
    "duration": 30,
    "start_time": "2022-06-06T13:23:33.289Z"
   },
   {
    "duration": 3,
    "start_time": "2022-06-06T13:24:18.869Z"
   },
   {
    "duration": 39,
    "start_time": "2022-06-06T13:24:20.810Z"
   },
   {
    "duration": 4,
    "start_time": "2022-06-06T13:24:30.213Z"
   },
   {
    "duration": 28,
    "start_time": "2022-06-06T13:24:31.710Z"
   },
   {
    "duration": 31,
    "start_time": "2022-06-06T13:24:52.291Z"
   },
   {
    "duration": 29,
    "start_time": "2022-06-06T13:25:02.834Z"
   },
   {
    "duration": 4,
    "start_time": "2022-06-06T13:25:52.001Z"
   },
   {
    "duration": 32,
    "start_time": "2022-06-06T13:25:53.480Z"
   },
   {
    "duration": 3,
    "start_time": "2022-06-06T13:36:16.055Z"
   },
   {
    "duration": 22,
    "start_time": "2022-06-06T13:36:16.849Z"
   },
   {
    "duration": 3,
    "start_time": "2022-06-06T13:36:46.440Z"
   },
   {
    "duration": 26,
    "start_time": "2022-06-06T13:36:47.158Z"
   },
   {
    "duration": 11,
    "start_time": "2022-06-06T13:39:21.076Z"
   },
   {
    "duration": 19,
    "start_time": "2022-06-06T13:39:25.707Z"
   },
   {
    "duration": 139,
    "start_time": "2022-06-06T13:39:26.037Z"
   },
   {
    "duration": 12,
    "start_time": "2022-06-06T13:39:54.255Z"
   },
   {
    "duration": 9,
    "start_time": "2022-06-06T13:49:24.180Z"
   },
   {
    "duration": 1351,
    "start_time": "2022-06-07T15:37:08.710Z"
   },
   {
    "duration": 242,
    "start_time": "2022-06-07T15:37:10.064Z"
   },
   {
    "duration": 17,
    "start_time": "2022-06-07T15:37:10.308Z"
   },
   {
    "duration": 5,
    "start_time": "2022-06-07T15:37:10.327Z"
   },
   {
    "duration": 13,
    "start_time": "2022-06-07T15:37:10.333Z"
   },
   {
    "duration": 15,
    "start_time": "2022-06-07T15:37:10.347Z"
   },
   {
    "duration": 24,
    "start_time": "2022-06-07T15:37:10.363Z"
   },
   {
    "duration": 4,
    "start_time": "2022-06-07T15:37:10.389Z"
   },
   {
    "duration": 27,
    "start_time": "2022-06-07T15:37:10.395Z"
   },
   {
    "duration": 4,
    "start_time": "2022-06-07T15:37:10.426Z"
   },
   {
    "duration": 22,
    "start_time": "2022-06-07T15:37:10.432Z"
   },
   {
    "duration": 15,
    "start_time": "2022-06-07T15:37:10.456Z"
   },
   {
    "duration": 26,
    "start_time": "2022-06-07T15:37:10.473Z"
   },
   {
    "duration": 31,
    "start_time": "2022-06-07T15:37:10.500Z"
   },
   {
    "duration": 23,
    "start_time": "2022-06-07T15:37:10.533Z"
   },
   {
    "duration": 20,
    "start_time": "2022-06-07T15:37:10.557Z"
   },
   {
    "duration": 3,
    "start_time": "2022-06-07T15:37:10.579Z"
   },
   {
    "duration": 10,
    "start_time": "2022-06-07T15:37:10.584Z"
   },
   {
    "duration": 11,
    "start_time": "2022-06-07T15:37:10.596Z"
   },
   {
    "duration": 19,
    "start_time": "2022-06-07T15:37:10.610Z"
   },
   {
    "duration": 22,
    "start_time": "2022-06-07T15:37:10.631Z"
   },
   {
    "duration": 8,
    "start_time": "2022-06-07T15:37:10.655Z"
   },
   {
    "duration": 31,
    "start_time": "2022-06-07T15:37:10.665Z"
   },
   {
    "duration": 9,
    "start_time": "2022-06-07T15:37:10.699Z"
   },
   {
    "duration": 25,
    "start_time": "2022-06-07T15:37:10.711Z"
   },
   {
    "duration": 42,
    "start_time": "2022-06-07T15:37:10.739Z"
   },
   {
    "duration": 263,
    "start_time": "2022-06-07T15:37:10.783Z"
   },
   {
    "duration": 15,
    "start_time": "2022-06-07T15:37:11.050Z"
   },
   {
    "duration": 6,
    "start_time": "2022-06-07T15:37:11.067Z"
   },
   {
    "duration": 19,
    "start_time": "2022-06-07T15:37:11.075Z"
   },
   {
    "duration": 671,
    "start_time": "2022-06-07T15:37:11.096Z"
   },
   {
    "duration": 13,
    "start_time": "2022-06-07T15:37:11.769Z"
   },
   {
    "duration": 43,
    "start_time": "2022-06-07T15:37:11.784Z"
   },
   {
    "duration": 13,
    "start_time": "2022-06-07T15:37:11.829Z"
   },
   {
    "duration": 40,
    "start_time": "2022-06-07T15:37:11.844Z"
   },
   {
    "duration": 3,
    "start_time": "2022-06-07T15:37:11.885Z"
   },
   {
    "duration": 12,
    "start_time": "2022-06-07T15:37:11.890Z"
   },
   {
    "duration": 47,
    "start_time": "2022-06-07T15:37:11.904Z"
   },
   {
    "duration": 22,
    "start_time": "2022-06-07T15:37:11.953Z"
   },
   {
    "duration": 19,
    "start_time": "2022-06-07T15:37:11.977Z"
   },
   {
    "duration": 10,
    "start_time": "2022-06-07T15:37:11.997Z"
   },
   {
    "duration": 40,
    "start_time": "2022-06-07T15:37:12.009Z"
   },
   {
    "duration": 14,
    "start_time": "2022-06-07T15:37:12.052Z"
   },
   {
    "duration": 4,
    "start_time": "2022-06-07T16:09:09.237Z"
   },
   {
    "duration": 1188,
    "start_time": "2022-06-07T16:11:00.452Z"
   },
   {
    "duration": 196,
    "start_time": "2022-06-07T16:11:01.642Z"
   },
   {
    "duration": 19,
    "start_time": "2022-06-07T16:11:01.840Z"
   },
   {
    "duration": 51,
    "start_time": "2022-06-07T16:11:01.861Z"
   },
   {
    "duration": 48,
    "start_time": "2022-06-07T16:11:01.926Z"
   },
   {
    "duration": 81,
    "start_time": "2022-06-07T16:11:01.977Z"
   },
   {
    "duration": 112,
    "start_time": "2022-06-07T16:11:02.059Z"
   },
   {
    "duration": 10,
    "start_time": "2022-06-07T16:11:02.173Z"
   },
   {
    "duration": 28,
    "start_time": "2022-06-07T16:11:02.185Z"
   },
   {
    "duration": 3,
    "start_time": "2022-06-07T16:11:02.217Z"
   },
   {
    "duration": 21,
    "start_time": "2022-06-07T16:11:02.222Z"
   },
   {
    "duration": 14,
    "start_time": "2022-06-07T16:11:02.245Z"
   },
   {
    "duration": 26,
    "start_time": "2022-06-07T16:11:02.261Z"
   },
   {
    "duration": 12,
    "start_time": "2022-06-07T16:11:02.289Z"
   },
   {
    "duration": 38,
    "start_time": "2022-06-07T16:11:02.302Z"
   },
   {
    "duration": 20,
    "start_time": "2022-06-07T16:11:02.342Z"
   },
   {
    "duration": 4,
    "start_time": "2022-06-07T16:11:02.363Z"
   },
   {
    "duration": 17,
    "start_time": "2022-06-07T16:11:02.368Z"
   },
   {
    "duration": 10,
    "start_time": "2022-06-07T16:11:02.387Z"
   },
   {
    "duration": 4,
    "start_time": "2022-06-07T16:11:02.399Z"
   },
   {
    "duration": 23,
    "start_time": "2022-06-07T16:11:02.405Z"
   },
   {
    "duration": 8,
    "start_time": "2022-06-07T16:11:02.430Z"
   },
   {
    "duration": 10,
    "start_time": "2022-06-07T16:11:02.440Z"
   },
   {
    "duration": 9,
    "start_time": "2022-06-07T16:11:02.452Z"
   },
   {
    "duration": 2,
    "start_time": "2022-06-07T16:11:02.463Z"
   },
   {
    "duration": 29,
    "start_time": "2022-06-07T16:11:02.467Z"
   },
   {
    "duration": 291,
    "start_time": "2022-06-07T16:11:02.498Z"
   },
   {
    "duration": 17,
    "start_time": "2022-06-07T16:11:02.793Z"
   },
   {
    "duration": 16,
    "start_time": "2022-06-07T16:11:02.813Z"
   },
   {
    "duration": 58,
    "start_time": "2022-06-07T16:11:25.061Z"
   },
   {
    "duration": 51,
    "start_time": "2022-06-12T08:57:23.036Z"
   },
   {
    "duration": 1150,
    "start_time": "2022-06-12T08:57:26.963Z"
   },
   {
    "duration": 244,
    "start_time": "2022-06-12T08:57:28.115Z"
   },
   {
    "duration": 15,
    "start_time": "2022-06-12T08:57:28.361Z"
   },
   {
    "duration": 4,
    "start_time": "2022-06-12T08:57:28.377Z"
   },
   {
    "duration": 5,
    "start_time": "2022-06-12T08:57:28.382Z"
   },
   {
    "duration": 7,
    "start_time": "2022-06-12T08:57:28.388Z"
   },
   {
    "duration": 30,
    "start_time": "2022-06-12T08:57:28.396Z"
   },
   {
    "duration": 3,
    "start_time": "2022-06-12T08:57:28.428Z"
   },
   {
    "duration": 12,
    "start_time": "2022-06-12T08:57:28.433Z"
   },
   {
    "duration": 3,
    "start_time": "2022-06-12T08:57:28.447Z"
   },
   {
    "duration": 15,
    "start_time": "2022-06-12T08:57:28.451Z"
   },
   {
    "duration": 8,
    "start_time": "2022-06-12T08:57:28.467Z"
   },
   {
    "duration": 50,
    "start_time": "2022-06-12T08:57:28.476Z"
   },
   {
    "duration": 11,
    "start_time": "2022-06-12T08:57:28.528Z"
   },
   {
    "duration": 15,
    "start_time": "2022-06-12T08:57:28.540Z"
   },
   {
    "duration": 15,
    "start_time": "2022-06-12T08:57:28.556Z"
   },
   {
    "duration": 4,
    "start_time": "2022-06-12T08:57:28.572Z"
   },
   {
    "duration": 6,
    "start_time": "2022-06-12T08:57:28.577Z"
   },
   {
    "duration": 5,
    "start_time": "2022-06-12T08:57:28.584Z"
   },
   {
    "duration": 35,
    "start_time": "2022-06-12T08:57:28.590Z"
   },
   {
    "duration": 8,
    "start_time": "2022-06-12T08:57:28.627Z"
   },
   {
    "duration": 6,
    "start_time": "2022-06-12T08:57:28.637Z"
   },
   {
    "duration": 8,
    "start_time": "2022-06-12T08:57:28.644Z"
   },
   {
    "duration": 6,
    "start_time": "2022-06-12T08:57:28.653Z"
   },
   {
    "duration": 2,
    "start_time": "2022-06-12T08:57:28.660Z"
   },
   {
    "duration": 21,
    "start_time": "2022-06-12T08:57:28.664Z"
   },
   {
    "duration": 279,
    "start_time": "2022-06-12T08:57:28.687Z"
   },
   {
    "duration": 14,
    "start_time": "2022-06-12T08:57:28.969Z"
   },
   {
    "duration": 8,
    "start_time": "2022-06-12T08:57:28.984Z"
   },
   {
    "duration": 519,
    "start_time": "2022-06-12T08:57:28.994Z"
   },
   {
    "duration": 2,
    "start_time": "2022-06-12T08:57:29.515Z"
   },
   {
    "duration": 666,
    "start_time": "2022-06-12T08:57:29.525Z"
   },
   {
    "duration": 10,
    "start_time": "2022-06-12T08:57:30.193Z"
   },
   {
    "duration": 32,
    "start_time": "2022-06-12T08:57:30.205Z"
   },
   {
    "duration": 19,
    "start_time": "2022-06-12T08:57:30.239Z"
   },
   {
    "duration": 46,
    "start_time": "2022-06-12T08:57:30.260Z"
   },
   {
    "duration": 3,
    "start_time": "2022-06-12T08:57:30.307Z"
   },
   {
    "duration": 16,
    "start_time": "2022-06-12T08:57:30.311Z"
   },
   {
    "duration": 42,
    "start_time": "2022-06-12T08:57:30.328Z"
   },
   {
    "duration": 48,
    "start_time": "2022-06-12T08:57:30.372Z"
   },
   {
    "duration": 8,
    "start_time": "2022-06-12T08:57:30.421Z"
   },
   {
    "duration": 14,
    "start_time": "2022-06-12T08:57:30.431Z"
   },
   {
    "duration": 24,
    "start_time": "2022-06-12T08:57:30.447Z"
   },
   {
    "duration": 26,
    "start_time": "2022-06-12T08:57:30.473Z"
   },
   {
    "duration": 48,
    "start_time": "2022-06-12T08:57:30.501Z"
   },
   {
    "duration": 26,
    "start_time": "2022-06-12T08:57:30.550Z"
   },
   {
    "duration": 24,
    "start_time": "2022-06-12T08:57:30.578Z"
   },
   {
    "duration": 22,
    "start_time": "2022-06-12T08:57:30.604Z"
   },
   {
    "duration": 26,
    "start_time": "2022-06-12T08:57:30.627Z"
   },
   {
    "duration": 30,
    "start_time": "2022-06-12T08:57:30.654Z"
   },
   {
    "duration": 38,
    "start_time": "2022-06-12T08:57:30.685Z"
   },
   {
    "duration": 39,
    "start_time": "2022-06-12T08:57:30.724Z"
   },
   {
    "duration": 15,
    "start_time": "2022-06-12T08:57:30.765Z"
   },
   {
    "duration": 56,
    "start_time": "2022-06-12T08:57:30.781Z"
   },
   {
    "duration": 5,
    "start_time": "2022-06-12T08:57:30.838Z"
   },
   {
    "duration": 14,
    "start_time": "2022-06-12T08:57:30.845Z"
   },
   {
    "duration": 24,
    "start_time": "2022-06-12T08:57:30.861Z"
   },
   {
    "duration": 14,
    "start_time": "2022-06-12T08:57:30.887Z"
   },
   {
    "duration": 30,
    "start_time": "2022-06-12T08:57:30.902Z"
   },
   {
    "duration": 18,
    "start_time": "2022-06-12T08:57:30.934Z"
   },
   {
    "duration": 66,
    "start_time": "2022-06-12T08:57:30.954Z"
   },
   {
    "duration": 109,
    "start_time": "2022-06-12T08:57:31.026Z"
   },
   {
    "duration": 0,
    "start_time": "2022-06-12T08:57:31.137Z"
   },
   {
    "duration": 0,
    "start_time": "2022-06-12T08:57:31.139Z"
   },
   {
    "duration": 0,
    "start_time": "2022-06-12T08:57:31.140Z"
   },
   {
    "duration": 0,
    "start_time": "2022-06-12T08:57:31.141Z"
   },
   {
    "duration": 0,
    "start_time": "2022-06-12T08:57:31.143Z"
   },
   {
    "duration": 3,
    "start_time": "2022-06-12T08:58:05.670Z"
   },
   {
    "duration": 1028,
    "start_time": "2022-06-12T08:58:10.580Z"
   },
   {
    "duration": 228,
    "start_time": "2022-06-12T08:58:11.610Z"
   },
   {
    "duration": 24,
    "start_time": "2022-06-12T08:58:11.840Z"
   },
   {
    "duration": 5,
    "start_time": "2022-06-12T08:58:11.866Z"
   },
   {
    "duration": 10,
    "start_time": "2022-06-12T08:58:11.872Z"
   },
   {
    "duration": 9,
    "start_time": "2022-06-12T08:58:11.883Z"
   },
   {
    "duration": 36,
    "start_time": "2022-06-12T08:58:11.893Z"
   },
   {
    "duration": 4,
    "start_time": "2022-06-12T08:58:11.931Z"
   },
   {
    "duration": 14,
    "start_time": "2022-06-12T08:58:11.936Z"
   },
   {
    "duration": 3,
    "start_time": "2022-06-12T08:58:11.953Z"
   },
   {
    "duration": 22,
    "start_time": "2022-06-12T08:58:11.957Z"
   },
   {
    "duration": 9,
    "start_time": "2022-06-12T08:58:11.980Z"
   },
   {
    "duration": 51,
    "start_time": "2022-06-12T08:58:11.990Z"
   },
   {
    "duration": 12,
    "start_time": "2022-06-12T08:58:12.043Z"
   },
   {
    "duration": 22,
    "start_time": "2022-06-12T08:58:12.057Z"
   },
   {
    "duration": 17,
    "start_time": "2022-06-12T08:58:12.081Z"
   },
   {
    "duration": 28,
    "start_time": "2022-06-12T08:58:12.100Z"
   },
   {
    "duration": 7,
    "start_time": "2022-06-12T08:58:12.129Z"
   },
   {
    "duration": 9,
    "start_time": "2022-06-12T08:58:12.138Z"
   },
   {
    "duration": 7,
    "start_time": "2022-06-12T08:58:12.149Z"
   },
   {
    "duration": 9,
    "start_time": "2022-06-12T08:58:12.158Z"
   },
   {
    "duration": 7,
    "start_time": "2022-06-12T08:58:12.169Z"
   },
   {
    "duration": 8,
    "start_time": "2022-06-12T08:58:12.178Z"
   },
   {
    "duration": 43,
    "start_time": "2022-06-12T08:58:12.188Z"
   },
   {
    "duration": 3,
    "start_time": "2022-06-12T08:58:12.233Z"
   },
   {
    "duration": 21,
    "start_time": "2022-06-12T08:58:12.238Z"
   },
   {
    "duration": 277,
    "start_time": "2022-06-12T08:58:12.261Z"
   },
   {
    "duration": 15,
    "start_time": "2022-06-12T08:58:12.542Z"
   },
   {
    "duration": 3,
    "start_time": "2022-06-12T08:58:12.558Z"
   },
   {
    "duration": 592,
    "start_time": "2022-06-12T08:58:12.563Z"
   },
   {
    "duration": 3,
    "start_time": "2022-06-12T08:58:13.156Z"
   },
   {
    "duration": 754,
    "start_time": "2022-06-12T08:58:13.161Z"
   },
   {
    "duration": 16,
    "start_time": "2022-06-12T08:58:13.917Z"
   },
   {
    "duration": 21,
    "start_time": "2022-06-12T08:58:13.935Z"
   },
   {
    "duration": 14,
    "start_time": "2022-06-12T08:58:13.958Z"
   },
   {
    "duration": 59,
    "start_time": "2022-06-12T08:58:13.974Z"
   },
   {
    "duration": 3,
    "start_time": "2022-06-12T08:58:14.035Z"
   },
   {
    "duration": 5,
    "start_time": "2022-06-12T08:58:14.040Z"
   },
   {
    "duration": 25,
    "start_time": "2022-06-12T08:58:14.047Z"
   },
   {
    "duration": 51,
    "start_time": "2022-06-12T08:58:14.074Z"
   },
   {
    "duration": 9,
    "start_time": "2022-06-12T08:58:14.127Z"
   },
   {
    "duration": 12,
    "start_time": "2022-06-12T08:58:14.137Z"
   },
   {
    "duration": 6,
    "start_time": "2022-06-12T08:58:14.150Z"
   },
   {
    "duration": 10,
    "start_time": "2022-06-12T08:58:14.157Z"
   },
   {
    "duration": 24,
    "start_time": "2022-06-12T08:58:14.168Z"
   },
   {
    "duration": 39,
    "start_time": "2022-06-12T08:58:14.194Z"
   },
   {
    "duration": 22,
    "start_time": "2022-06-12T08:58:14.235Z"
   },
   {
    "duration": 19,
    "start_time": "2022-06-12T08:58:14.259Z"
   },
   {
    "duration": 47,
    "start_time": "2022-06-12T08:58:14.280Z"
   },
   {
    "duration": 17,
    "start_time": "2022-06-12T08:58:14.329Z"
   },
   {
    "duration": 19,
    "start_time": "2022-06-12T08:58:14.347Z"
   },
   {
    "duration": 15,
    "start_time": "2022-06-12T08:58:14.367Z"
   },
   {
    "duration": 41,
    "start_time": "2022-06-12T08:58:14.384Z"
   },
   {
    "duration": 42,
    "start_time": "2022-06-12T08:58:14.427Z"
   },
   {
    "duration": 6,
    "start_time": "2022-06-12T08:58:14.471Z"
   },
   {
    "duration": 8,
    "start_time": "2022-06-12T08:58:14.478Z"
   },
   {
    "duration": 49,
    "start_time": "2022-06-12T08:58:14.488Z"
   },
   {
    "duration": 20,
    "start_time": "2022-06-12T08:58:14.538Z"
   },
   {
    "duration": 19,
    "start_time": "2022-06-12T08:58:14.559Z"
   },
   {
    "duration": 16,
    "start_time": "2022-06-12T08:58:14.580Z"
   },
   {
    "duration": 67,
    "start_time": "2022-06-12T08:58:14.597Z"
   },
   {
    "duration": 29,
    "start_time": "2022-06-12T08:58:14.666Z"
   },
   {
    "duration": 36,
    "start_time": "2022-06-12T08:58:14.697Z"
   },
   {
    "duration": 6,
    "start_time": "2022-06-12T08:58:14.735Z"
   },
   {
    "duration": 11,
    "start_time": "2022-06-12T08:58:14.743Z"
   },
   {
    "duration": 3,
    "start_time": "2022-06-12T08:58:14.756Z"
   },
   {
    "duration": 14,
    "start_time": "2022-06-12T08:58:14.761Z"
   },
   {
    "duration": 33,
    "start_time": "2022-06-12T08:58:46.185Z"
   },
   {
    "duration": 24,
    "start_time": "2022-06-12T08:59:58.900Z"
   },
   {
    "duration": 27,
    "start_time": "2022-06-12T09:05:44.037Z"
   },
   {
    "duration": 30,
    "start_time": "2022-06-12T09:07:16.460Z"
   },
   {
    "duration": 25,
    "start_time": "2022-06-12T09:14:30.078Z"
   },
   {
    "duration": 7,
    "start_time": "2022-06-12T09:22:10.920Z"
   },
   {
    "duration": 24,
    "start_time": "2022-06-12T09:22:34.703Z"
   },
   {
    "duration": 6,
    "start_time": "2022-06-12T09:23:13.101Z"
   },
   {
    "duration": 8,
    "start_time": "2022-06-12T09:23:40.016Z"
   },
   {
    "duration": 8,
    "start_time": "2022-06-12T09:24:05.398Z"
   },
   {
    "duration": 6,
    "start_time": "2022-06-12T09:24:15.279Z"
   },
   {
    "duration": 7,
    "start_time": "2022-06-12T09:24:20.526Z"
   },
   {
    "duration": 23,
    "start_time": "2022-06-12T09:25:24.964Z"
   },
   {
    "duration": 15,
    "start_time": "2022-06-12T09:27:09.885Z"
   },
   {
    "duration": 11,
    "start_time": "2022-06-12T09:27:21.715Z"
   },
   {
    "duration": 28,
    "start_time": "2022-06-12T09:37:46.621Z"
   },
   {
    "duration": 12,
    "start_time": "2022-06-12T09:38:51.636Z"
   },
   {
    "duration": 1254,
    "start_time": "2022-06-13T19:43:26.540Z"
   },
   {
    "duration": 167,
    "start_time": "2022-06-13T19:43:27.796Z"
   },
   {
    "duration": 15,
    "start_time": "2022-06-13T19:43:27.965Z"
   },
   {
    "duration": 3,
    "start_time": "2022-06-13T19:43:27.982Z"
   },
   {
    "duration": 12,
    "start_time": "2022-06-13T19:43:27.986Z"
   },
   {
    "duration": 9,
    "start_time": "2022-06-13T19:43:27.999Z"
   },
   {
    "duration": 14,
    "start_time": "2022-06-13T19:43:28.009Z"
   },
   {
    "duration": 5,
    "start_time": "2022-06-13T19:43:28.027Z"
   },
   {
    "duration": 19,
    "start_time": "2022-06-13T19:43:28.034Z"
   },
   {
    "duration": 3,
    "start_time": "2022-06-13T19:43:28.056Z"
   },
   {
    "duration": 19,
    "start_time": "2022-06-13T19:43:28.060Z"
   },
   {
    "duration": 9,
    "start_time": "2022-06-13T19:43:28.080Z"
   },
   {
    "duration": 40,
    "start_time": "2022-06-13T19:43:28.091Z"
   },
   {
    "duration": 11,
    "start_time": "2022-06-13T19:43:28.132Z"
   },
   {
    "duration": 17,
    "start_time": "2022-06-13T19:43:28.144Z"
   },
   {
    "duration": 13,
    "start_time": "2022-06-13T19:43:28.163Z"
   },
   {
    "duration": 4,
    "start_time": "2022-06-13T19:43:28.177Z"
   },
   {
    "duration": 10,
    "start_time": "2022-06-13T19:43:28.182Z"
   },
   {
    "duration": 8,
    "start_time": "2022-06-13T19:43:28.193Z"
   },
   {
    "duration": 25,
    "start_time": "2022-06-13T19:43:28.202Z"
   },
   {
    "duration": 14,
    "start_time": "2022-06-13T19:43:28.228Z"
   },
   {
    "duration": 7,
    "start_time": "2022-06-13T19:43:28.243Z"
   },
   {
    "duration": 11,
    "start_time": "2022-06-13T19:43:28.251Z"
   },
   {
    "duration": 6,
    "start_time": "2022-06-13T19:43:28.263Z"
   },
   {
    "duration": 4,
    "start_time": "2022-06-13T19:43:28.270Z"
   },
   {
    "duration": 27,
    "start_time": "2022-06-13T19:43:28.276Z"
   },
   {
    "duration": 253,
    "start_time": "2022-06-13T19:43:28.304Z"
   },
   {
    "duration": 14,
    "start_time": "2022-06-13T19:43:28.560Z"
   },
   {
    "duration": 3,
    "start_time": "2022-06-13T19:43:28.575Z"
   },
   {
    "duration": 507,
    "start_time": "2022-06-13T19:43:28.579Z"
   },
   {
    "duration": 2,
    "start_time": "2022-06-13T19:43:29.088Z"
   },
   {
    "duration": 698,
    "start_time": "2022-06-13T19:43:29.092Z"
   },
   {
    "duration": 12,
    "start_time": "2022-06-13T19:43:29.791Z"
   },
   {
    "duration": 25,
    "start_time": "2022-06-13T19:43:29.804Z"
   },
   {
    "duration": 29,
    "start_time": "2022-06-13T19:43:29.832Z"
   },
   {
    "duration": 35,
    "start_time": "2022-06-13T19:43:29.863Z"
   },
   {
    "duration": 5,
    "start_time": "2022-06-13T19:43:29.899Z"
   },
   {
    "duration": 16,
    "start_time": "2022-06-13T19:43:29.906Z"
   },
   {
    "duration": 36,
    "start_time": "2022-06-13T19:43:29.923Z"
   },
   {
    "duration": 47,
    "start_time": "2022-06-13T19:43:29.960Z"
   },
   {
    "duration": 7,
    "start_time": "2022-06-13T19:43:30.009Z"
   },
   {
    "duration": 26,
    "start_time": "2022-06-13T19:43:30.018Z"
   },
   {
    "duration": 15,
    "start_time": "2022-06-13T19:43:30.046Z"
   },
   {
    "duration": 30,
    "start_time": "2022-06-13T19:43:30.063Z"
   },
   {
    "duration": 33,
    "start_time": "2022-06-13T19:43:30.094Z"
   },
   {
    "duration": 19,
    "start_time": "2022-06-13T19:43:30.129Z"
   },
   {
    "duration": 32,
    "start_time": "2022-06-13T19:43:30.150Z"
   },
   {
    "duration": 30,
    "start_time": "2022-06-13T19:43:30.183Z"
   },
   {
    "duration": 34,
    "start_time": "2022-06-13T19:43:30.214Z"
   },
   {
    "duration": 30,
    "start_time": "2022-06-13T19:43:30.250Z"
   },
   {
    "duration": 28,
    "start_time": "2022-06-13T19:43:30.281Z"
   },
   {
    "duration": 24,
    "start_time": "2022-06-13T19:43:30.310Z"
   },
   {
    "duration": 36,
    "start_time": "2022-06-13T19:43:30.336Z"
   },
   {
    "duration": 78,
    "start_time": "2022-06-13T19:43:30.374Z"
   },
   {
    "duration": 7,
    "start_time": "2022-06-13T19:43:30.455Z"
   },
   {
    "duration": 37,
    "start_time": "2022-06-13T19:43:30.464Z"
   },
   {
    "duration": 80,
    "start_time": "2022-06-13T19:43:30.503Z"
   },
   {
    "duration": 33,
    "start_time": "2022-06-13T19:43:30.584Z"
   },
   {
    "duration": 47,
    "start_time": "2022-06-13T19:43:30.619Z"
   },
   {
    "duration": 29,
    "start_time": "2022-06-13T19:43:30.668Z"
   },
   {
    "duration": 69,
    "start_time": "2022-06-13T19:43:30.698Z"
   },
   {
    "duration": 25,
    "start_time": "2022-06-13T19:43:30.768Z"
   },
   {
    "duration": 33,
    "start_time": "2022-06-13T19:43:30.794Z"
   },
   {
    "duration": 7,
    "start_time": "2022-06-13T19:43:30.829Z"
   },
   {
    "duration": 19,
    "start_time": "2022-06-13T19:43:30.837Z"
   },
   {
    "duration": 11,
    "start_time": "2022-06-13T19:43:30.858Z"
   },
   {
    "duration": 25,
    "start_time": "2022-06-13T19:43:30.871Z"
   },
   {
    "duration": 28,
    "start_time": "2022-06-13T19:45:57.759Z"
   },
   {
    "duration": 24,
    "start_time": "2022-06-13T19:46:06.363Z"
   },
   {
    "duration": 4,
    "start_time": "2022-06-13T19:52:28.110Z"
   },
   {
    "duration": 5,
    "start_time": "2022-06-13T19:52:48.165Z"
   },
   {
    "duration": 9,
    "start_time": "2022-06-13T19:52:55.174Z"
   },
   {
    "duration": 4,
    "start_time": "2022-06-13T19:53:14.627Z"
   },
   {
    "duration": 9,
    "start_time": "2022-06-13T19:53:15.615Z"
   },
   {
    "duration": 3,
    "start_time": "2022-06-13T19:54:33.689Z"
   },
   {
    "duration": 9,
    "start_time": "2022-06-13T19:54:34.548Z"
   },
   {
    "duration": 4,
    "start_time": "2022-06-13T19:54:45.779Z"
   },
   {
    "duration": 10,
    "start_time": "2022-06-13T19:54:46.642Z"
   },
   {
    "duration": 12,
    "start_time": "2022-06-13T19:56:00.037Z"
   },
   {
    "duration": 3,
    "start_time": "2022-06-13T19:56:00.400Z"
   },
   {
    "duration": 9,
    "start_time": "2022-06-13T19:56:00.732Z"
   },
   {
    "duration": 102,
    "start_time": "2022-06-13T19:56:24.939Z"
   },
   {
    "duration": 9,
    "start_time": "2022-06-13T19:57:38.162Z"
   },
   {
    "duration": 8,
    "start_time": "2022-06-13T19:57:41.949Z"
   },
   {
    "duration": 123,
    "start_time": "2022-06-13T19:58:54.793Z"
   },
   {
    "duration": 9,
    "start_time": "2022-06-13T19:59:29.545Z"
   },
   {
    "duration": 10,
    "start_time": "2022-06-13T20:03:48.297Z"
   },
   {
    "duration": 118,
    "start_time": "2022-06-13T20:04:41.809Z"
   },
   {
    "duration": 108,
    "start_time": "2022-06-13T20:05:09.789Z"
   },
   {
    "duration": 116,
    "start_time": "2022-06-13T20:06:07.249Z"
   },
   {
    "duration": 145,
    "start_time": "2022-06-13T20:06:11.531Z"
   },
   {
    "duration": 137,
    "start_time": "2022-06-13T20:06:26.049Z"
   },
   {
    "duration": 118,
    "start_time": "2022-06-13T20:07:13.759Z"
   },
   {
    "duration": 112,
    "start_time": "2022-06-13T20:07:20.575Z"
   },
   {
    "duration": 134,
    "start_time": "2022-06-13T20:07:38.729Z"
   },
   {
    "duration": 217,
    "start_time": "2022-06-13T20:07:49.966Z"
   },
   {
    "duration": 135,
    "start_time": "2022-06-13T20:08:25.907Z"
   },
   {
    "duration": 138,
    "start_time": "2022-06-13T20:08:35.330Z"
   },
   {
    "duration": 134,
    "start_time": "2022-06-13T20:08:43.529Z"
   }
  ],
  "kernelspec": {
   "display_name": "Python 3 (ipykernel)",
   "language": "python",
   "name": "python3"
  },
  "language_info": {
   "codemirror_mode": {
    "name": "ipython",
    "version": 3
   },
   "file_extension": ".py",
   "mimetype": "text/x-python",
   "name": "python",
   "nbconvert_exporter": "python",
   "pygments_lexer": "ipython3",
   "version": "3.9.7"
  },
  "toc": {
   "base_numbering": "0",
   "nav_menu": {},
   "number_sections": true,
   "sideBar": true,
   "skip_h1_title": false,
   "title_cell": "Содержание",
   "title_sidebar": "Contents",
   "toc_cell": true,
   "toc_position": {
    "height": "227.674px",
    "left": "36px",
    "top": "111.019px",
    "width": "219.988px"
   },
   "toc_section_display": true,
   "toc_window_display": true
  },
  "varInspector": {
   "cols": {
    "lenName": 16,
    "lenType": 16,
    "lenVar": 40
   },
   "kernels_config": {
    "python": {
     "delete_cmd_postfix": "",
     "delete_cmd_prefix": "del ",
     "library": "var_list.py",
     "varRefreshCmd": "print(var_dic_list())"
    },
    "r": {
     "delete_cmd_postfix": ") ",
     "delete_cmd_prefix": "rm(",
     "library": "var_list.r",
     "varRefreshCmd": "cat(var_dic_list()) "
    }
   },
   "types_to_exclude": [
    "module",
    "function",
    "builtin_function_or_method",
    "instance",
    "_Feature"
   ],
   "window_display": false
  }
 },
 "nbformat": 4,
 "nbformat_minor": 2
}
