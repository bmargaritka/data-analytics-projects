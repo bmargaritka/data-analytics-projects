{
 "cells": [
  {
   "cell_type": "markdown",
   "metadata": {
    "toc": true
   },
   "source": [
    "<h1>Содержание<span class=\"tocSkip\"></span></h1>\n",
    "<div class=\"toc\"><ul class=\"toc-item\"><li><span><a href=\"#Описание-проекта\" data-toc-modified-id=\"Описание-проекта-1\"><span class=\"toc-item-num\">1&nbsp;&nbsp;</span>Описание проекта</a></span></li><li><span><a href=\"#Изучение-данных\" data-toc-modified-id=\"Изучение-данных-2\"><span class=\"toc-item-num\">2&nbsp;&nbsp;</span>Изучение данных</a></span></li><li><span><a href=\"#Предобработка-данных\" data-toc-modified-id=\"Предобработка-данных-3\"><span class=\"toc-item-num\">3&nbsp;&nbsp;</span>Предобработка данных</a></span><ul class=\"toc-item\"><li><span><a href=\"#Работа-с-названиями-и-пропусками\" data-toc-modified-id=\"Работа-с-названиями-и-пропусками-3.1\"><span class=\"toc-item-num\">3.1&nbsp;&nbsp;</span>Работа с названиями и пропусками</a></span></li><li><span><a href=\"#Добавление-суммарных-продаж\" data-toc-modified-id=\"Добавление-суммарных-продаж-3.2\"><span class=\"toc-item-num\">3.2&nbsp;&nbsp;</span>Добавление суммарных продаж</a></span></li><li><span><a href=\"#Вывод\" data-toc-modified-id=\"Вывод-3.3\"><span class=\"toc-item-num\">3.3&nbsp;&nbsp;</span>Вывод</a></span></li></ul></li><li><span><a href=\"#Исследовательский-анализ\" data-toc-modified-id=\"Исследовательский-анализ-4\"><span class=\"toc-item-num\">4&nbsp;&nbsp;</span>Исследовательский анализ</a></span><ul class=\"toc-item\"><li><span><a href=\"#Количество-игр-в-год\" data-toc-modified-id=\"Количество-игр-в-год-4.1\"><span class=\"toc-item-num\">4.1&nbsp;&nbsp;</span>Количество игр в год</a></span></li><li><span><a href=\"#Продажи-по-платформам\" data-toc-modified-id=\"Продажи-по-платформам-4.2\"><span class=\"toc-item-num\">4.2&nbsp;&nbsp;</span>Продажи по платформам</a></span></li><li><span><a href=\"#Актуальный-период\" data-toc-modified-id=\"Актуальный-период-4.3\"><span class=\"toc-item-num\">4.3&nbsp;&nbsp;</span>Актуальный период</a></span></li><li><span><a href=\"#Лидеры-по-продажам\" data-toc-modified-id=\"Лидеры-по-продажам-4.4\"><span class=\"toc-item-num\">4.4&nbsp;&nbsp;</span>Лидеры по продажам</a></span></li><li><span><a href=\"#Влияние-других-факторов-на-продажи\" data-toc-modified-id=\"Влияние-других-факторов-на-продажи-4.5\"><span class=\"toc-item-num\">4.5&nbsp;&nbsp;</span>Влияние других факторов на продажи</a></span></li><li><span><a href=\"#Распредение-игр-по-жанрам\" data-toc-modified-id=\"Распредение-игр-по-жанрам-4.6\"><span class=\"toc-item-num\">4.6&nbsp;&nbsp;</span>Распредение игр по жанрам</a></span></li><li><span><a href=\"#Вывод\" data-toc-modified-id=\"Вывод-4.7\"><span class=\"toc-item-num\">4.7&nbsp;&nbsp;</span>Вывод</a></span></li></ul></li><li><span><a href=\"#Портрет-пользователей-разных-регионов\" data-toc-modified-id=\"Портрет-пользователей-разных-регионов-5\"><span class=\"toc-item-num\">5&nbsp;&nbsp;</span>Портрет пользователей разных регионов</a></span><ul class=\"toc-item\"><li><span><a href=\"#Самые-популярные-платформы\" data-toc-modified-id=\"Самые-популярные-платформы-5.1\"><span class=\"toc-item-num\">5.1&nbsp;&nbsp;</span>Самые популярные платформы</a></span></li><li><span><a href=\"#Самые-популярные-жанры\" data-toc-modified-id=\"Самые-популярные-жанры-5.2\"><span class=\"toc-item-num\">5.2&nbsp;&nbsp;</span>Самые популярные жанры</a></span></li><li><span><a href=\"#Влияние-рейтинга-ESRB-на-продажи-в-регионах\" data-toc-modified-id=\"Влияние-рейтинга-ESRB-на-продажи-в-регионах-5.3\"><span class=\"toc-item-num\">5.3&nbsp;&nbsp;</span>Влияние рейтинга ESRB на продажи в регионах</a></span></li><li><span><a href=\"#Вывод\" data-toc-modified-id=\"Вывод-5.4\"><span class=\"toc-item-num\">5.4&nbsp;&nbsp;</span>Вывод</a></span></li></ul></li><li><span><a href=\"#Проверка-гипотез\" data-toc-modified-id=\"Проверка-гипотез-6\"><span class=\"toc-item-num\">6&nbsp;&nbsp;</span>Проверка гипотез</a></span><ul class=\"toc-item\"><li><span><a href=\"#Гипотеза-о-рейтингах-платформ-Xbox-One-и-PC\" data-toc-modified-id=\"Гипотеза-о-рейтингах-платформ-Xbox-One-и-PC-6.1\"><span class=\"toc-item-num\">6.1&nbsp;&nbsp;</span>Гипотеза о рейтингах платформ Xbox One и PC</a></span></li><li><span><a href=\"#Гипотеза-о-рейтингах-жанров-Action-и-Sports\" data-toc-modified-id=\"Гипотеза-о-рейтингах-жанров-Action-и-Sports-6.2\"><span class=\"toc-item-num\">6.2&nbsp;&nbsp;</span>Гипотеза о рейтингах жанров Action и Sports</a></span></li></ul></li><li><span><a href=\"#Общий-вывод\" data-toc-modified-id=\"Общий-вывод-7\"><span class=\"toc-item-num\">7&nbsp;&nbsp;</span>Общий вывод</a></span></li></ul></div>"
   ]
  },
  {
   "cell_type": "markdown",
   "metadata": {},
   "source": [
    "# Сборный проект \n",
    "\n",
    "## Описание проекта\n",
    "Вы работаете в интернет-магазине «Стримчик», который продаёт по всему миру компьютерные игры. Из открытых источников доступны исторические данные о продажах игр, оценки пользователей и экспертов, жанры и платформы (например, Xbox или PlayStation). Вам нужно выявить определяющие успешность игры закономерности. Это позволит сделать ставку на потенциально популярный продукт и спланировать рекламные кампании. Перед вами данные до 2016 года. Представим, что сейчас декабрь 2016 г., и вы планируете кампанию на 2017-й. Нужно отработать принцип работы с данными.\n",
    "\n",
    "* Name — название игры\n",
    "* Platform — платформа\n",
    "* Year_of_Release — год выпуска\n",
    "* Genre — жанр игры\n",
    "* NA_sales — продажи в Северной Америке (миллионы проданных копий)\n",
    "* EU_sales — продажи в Европе (миллионы проданных копий)\n",
    "* JP_sales — продажи в Японии (миллионы проданных копий)\n",
    "* Other_sales — продажи в других странах (миллионы проданных копий)\n",
    "* Critic_Score — оценка критиков (максимум 100)\n",
    "* User_Score — оценка пользователей (максимум 10)\n",
    "* Rating — рейтинг от организации ESRB (англ. Entertainment Software Rating Board). Эта ассоциация определяет рейтинг компьютерных игр и присваивает им подходящую возрастную категорию.\n",
    "\n",
    "Данные за 2016 год могут быть неполными."
   ]
  },
  {
   "cell_type": "markdown",
   "metadata": {},
   "source": [
    "## Изучение данных"
   ]
  },
  {
   "cell_type": "code",
   "execution_count": 1,
   "metadata": {},
   "outputs": [],
   "source": [
    "# импортируем необходимые библиотеки\n",
    "import pandas as pd\n",
    "import numpy as np\n",
    "import matplotlib.pyplot as plt \n",
    "from scipy import stats as st\n",
    "import warnings\n",
    "warnings.filterwarnings('ignore')"
   ]
  },
  {
   "cell_type": "code",
   "execution_count": 2,
   "metadata": {},
   "outputs": [
    {
     "data": {
      "text/html": [
       "<div>\n",
       "<style scoped>\n",
       "    .dataframe tbody tr th:only-of-type {\n",
       "        vertical-align: middle;\n",
       "    }\n",
       "\n",
       "    .dataframe tbody tr th {\n",
       "        vertical-align: top;\n",
       "    }\n",
       "\n",
       "    .dataframe thead th {\n",
       "        text-align: right;\n",
       "    }\n",
       "</style>\n",
       "<table border=\"1\" class=\"dataframe\">\n",
       "  <thead>\n",
       "    <tr style=\"text-align: right;\">\n",
       "      <th></th>\n",
       "      <th>Name</th>\n",
       "      <th>Platform</th>\n",
       "      <th>Year_of_Release</th>\n",
       "      <th>Genre</th>\n",
       "      <th>NA_sales</th>\n",
       "      <th>EU_sales</th>\n",
       "      <th>JP_sales</th>\n",
       "      <th>Other_sales</th>\n",
       "      <th>Critic_Score</th>\n",
       "      <th>User_Score</th>\n",
       "      <th>Rating</th>\n",
       "    </tr>\n",
       "  </thead>\n",
       "  <tbody>\n",
       "    <tr>\n",
       "      <th>0</th>\n",
       "      <td>Wii Sports</td>\n",
       "      <td>Wii</td>\n",
       "      <td>2006.0</td>\n",
       "      <td>Sports</td>\n",
       "      <td>41.36</td>\n",
       "      <td>28.96</td>\n",
       "      <td>3.77</td>\n",
       "      <td>8.45</td>\n",
       "      <td>76.0</td>\n",
       "      <td>8</td>\n",
       "      <td>E</td>\n",
       "    </tr>\n",
       "    <tr>\n",
       "      <th>1</th>\n",
       "      <td>Super Mario Bros.</td>\n",
       "      <td>NES</td>\n",
       "      <td>1985.0</td>\n",
       "      <td>Platform</td>\n",
       "      <td>29.08</td>\n",
       "      <td>3.58</td>\n",
       "      <td>6.81</td>\n",
       "      <td>0.77</td>\n",
       "      <td>NaN</td>\n",
       "      <td>NaN</td>\n",
       "      <td>NaN</td>\n",
       "    </tr>\n",
       "    <tr>\n",
       "      <th>2</th>\n",
       "      <td>Mario Kart Wii</td>\n",
       "      <td>Wii</td>\n",
       "      <td>2008.0</td>\n",
       "      <td>Racing</td>\n",
       "      <td>15.68</td>\n",
       "      <td>12.76</td>\n",
       "      <td>3.79</td>\n",
       "      <td>3.29</td>\n",
       "      <td>82.0</td>\n",
       "      <td>8.3</td>\n",
       "      <td>E</td>\n",
       "    </tr>\n",
       "    <tr>\n",
       "      <th>3</th>\n",
       "      <td>Wii Sports Resort</td>\n",
       "      <td>Wii</td>\n",
       "      <td>2009.0</td>\n",
       "      <td>Sports</td>\n",
       "      <td>15.61</td>\n",
       "      <td>10.93</td>\n",
       "      <td>3.28</td>\n",
       "      <td>2.95</td>\n",
       "      <td>80.0</td>\n",
       "      <td>8</td>\n",
       "      <td>E</td>\n",
       "    </tr>\n",
       "    <tr>\n",
       "      <th>4</th>\n",
       "      <td>Pokemon Red/Pokemon Blue</td>\n",
       "      <td>GB</td>\n",
       "      <td>1996.0</td>\n",
       "      <td>Role-Playing</td>\n",
       "      <td>11.27</td>\n",
       "      <td>8.89</td>\n",
       "      <td>10.22</td>\n",
       "      <td>1.00</td>\n",
       "      <td>NaN</td>\n",
       "      <td>NaN</td>\n",
       "      <td>NaN</td>\n",
       "    </tr>\n",
       "  </tbody>\n",
       "</table>\n",
       "</div>"
      ],
      "text/plain": [
       "                       Name Platform  Year_of_Release         Genre  NA_sales  \\\n",
       "0                Wii Sports      Wii           2006.0        Sports     41.36   \n",
       "1         Super Mario Bros.      NES           1985.0      Platform     29.08   \n",
       "2            Mario Kart Wii      Wii           2008.0        Racing     15.68   \n",
       "3         Wii Sports Resort      Wii           2009.0        Sports     15.61   \n",
       "4  Pokemon Red/Pokemon Blue       GB           1996.0  Role-Playing     11.27   \n",
       "\n",
       "   EU_sales  JP_sales  Other_sales  Critic_Score User_Score Rating  \n",
       "0     28.96      3.77         8.45          76.0          8      E  \n",
       "1      3.58      6.81         0.77           NaN        NaN    NaN  \n",
       "2     12.76      3.79         3.29          82.0        8.3      E  \n",
       "3     10.93      3.28         2.95          80.0          8      E  \n",
       "4      8.89     10.22         1.00           NaN        NaN    NaN  "
      ]
     },
     "execution_count": 2,
     "metadata": {},
     "output_type": "execute_result"
    }
   ],
   "source": [
    "# откроем .csv файл\n",
    "data = pd.read_csv('data.csv')\n",
    "data.head()"
   ]
  },
  {
   "cell_type": "code",
   "execution_count": 3,
   "metadata": {},
   "outputs": [
    {
     "name": "stdout",
     "output_type": "stream",
     "text": [
      "<class 'pandas.core.frame.DataFrame'>\n",
      "RangeIndex: 16715 entries, 0 to 16714\n",
      "Data columns (total 11 columns):\n",
      " #   Column           Non-Null Count  Dtype  \n",
      "---  ------           --------------  -----  \n",
      " 0   Name             16713 non-null  object \n",
      " 1   Platform         16715 non-null  object \n",
      " 2   Year_of_Release  16446 non-null  float64\n",
      " 3   Genre            16713 non-null  object \n",
      " 4   NA_sales         16715 non-null  float64\n",
      " 5   EU_sales         16715 non-null  float64\n",
      " 6   JP_sales         16715 non-null  float64\n",
      " 7   Other_sales      16715 non-null  float64\n",
      " 8   Critic_Score     8137 non-null   float64\n",
      " 9   User_Score       10014 non-null  object \n",
      " 10  Rating           9949 non-null   object \n",
      "dtypes: float64(6), object(5)\n",
      "memory usage: 1.4+ MB\n"
     ]
    }
   ],
   "source": [
    "# посмотрим общую информацию о таблице\n",
    "data.info()"
   ]
  },
  {
   "cell_type": "markdown",
   "metadata": {},
   "source": [
    "По открытой таблице видно, что в таблице есть пропуски в половине столбцов. Названия столбцов лучше перевести в нижный регистр. Столбцы с годом выпуска можно перевести в целочисленный вид, а рейтинг пользователей лучше перевести из строкового типа в вещественный. \n",
    "\n",
    "Проведём предобработку данных, выясним, где находятся пропуски, нет ли дубликатов, не нуждаются ли некоторые названия жанров перевода к единому регистру. "
   ]
  },
  {
   "cell_type": "markdown",
   "metadata": {},
   "source": [
    "## Предобработка данных\n",
    "\n",
    "### Работа с названиями и пропусками\n",
    "Для начала разберёмся с названиями столбцов. Приведем все названия к нижнему регистру. "
   ]
  },
  {
   "cell_type": "code",
   "execution_count": 4,
   "metadata": {},
   "outputs": [
    {
     "data": {
      "text/html": [
       "<div>\n",
       "<style scoped>\n",
       "    .dataframe tbody tr th:only-of-type {\n",
       "        vertical-align: middle;\n",
       "    }\n",
       "\n",
       "    .dataframe tbody tr th {\n",
       "        vertical-align: top;\n",
       "    }\n",
       "\n",
       "    .dataframe thead th {\n",
       "        text-align: right;\n",
       "    }\n",
       "</style>\n",
       "<table border=\"1\" class=\"dataframe\">\n",
       "  <thead>\n",
       "    <tr style=\"text-align: right;\">\n",
       "      <th></th>\n",
       "      <th>name</th>\n",
       "      <th>platform</th>\n",
       "      <th>year_of_release</th>\n",
       "      <th>genre</th>\n",
       "      <th>na_sales</th>\n",
       "      <th>eu_sales</th>\n",
       "      <th>jp_sales</th>\n",
       "      <th>other_sales</th>\n",
       "      <th>critic_score</th>\n",
       "      <th>user_score</th>\n",
       "      <th>rating</th>\n",
       "    </tr>\n",
       "  </thead>\n",
       "  <tbody>\n",
       "    <tr>\n",
       "      <th>0</th>\n",
       "      <td>Wii Sports</td>\n",
       "      <td>Wii</td>\n",
       "      <td>2006.0</td>\n",
       "      <td>Sports</td>\n",
       "      <td>41.36</td>\n",
       "      <td>28.96</td>\n",
       "      <td>3.77</td>\n",
       "      <td>8.45</td>\n",
       "      <td>76.0</td>\n",
       "      <td>8</td>\n",
       "      <td>E</td>\n",
       "    </tr>\n",
       "    <tr>\n",
       "      <th>1</th>\n",
       "      <td>Super Mario Bros.</td>\n",
       "      <td>NES</td>\n",
       "      <td>1985.0</td>\n",
       "      <td>Platform</td>\n",
       "      <td>29.08</td>\n",
       "      <td>3.58</td>\n",
       "      <td>6.81</td>\n",
       "      <td>0.77</td>\n",
       "      <td>NaN</td>\n",
       "      <td>NaN</td>\n",
       "      <td>NaN</td>\n",
       "    </tr>\n",
       "    <tr>\n",
       "      <th>2</th>\n",
       "      <td>Mario Kart Wii</td>\n",
       "      <td>Wii</td>\n",
       "      <td>2008.0</td>\n",
       "      <td>Racing</td>\n",
       "      <td>15.68</td>\n",
       "      <td>12.76</td>\n",
       "      <td>3.79</td>\n",
       "      <td>3.29</td>\n",
       "      <td>82.0</td>\n",
       "      <td>8.3</td>\n",
       "      <td>E</td>\n",
       "    </tr>\n",
       "    <tr>\n",
       "      <th>3</th>\n",
       "      <td>Wii Sports Resort</td>\n",
       "      <td>Wii</td>\n",
       "      <td>2009.0</td>\n",
       "      <td>Sports</td>\n",
       "      <td>15.61</td>\n",
       "      <td>10.93</td>\n",
       "      <td>3.28</td>\n",
       "      <td>2.95</td>\n",
       "      <td>80.0</td>\n",
       "      <td>8</td>\n",
       "      <td>E</td>\n",
       "    </tr>\n",
       "    <tr>\n",
       "      <th>4</th>\n",
       "      <td>Pokemon Red/Pokemon Blue</td>\n",
       "      <td>GB</td>\n",
       "      <td>1996.0</td>\n",
       "      <td>Role-Playing</td>\n",
       "      <td>11.27</td>\n",
       "      <td>8.89</td>\n",
       "      <td>10.22</td>\n",
       "      <td>1.00</td>\n",
       "      <td>NaN</td>\n",
       "      <td>NaN</td>\n",
       "      <td>NaN</td>\n",
       "    </tr>\n",
       "  </tbody>\n",
       "</table>\n",
       "</div>"
      ],
      "text/plain": [
       "                       name platform  year_of_release         genre  na_sales  \\\n",
       "0                Wii Sports      Wii           2006.0        Sports     41.36   \n",
       "1         Super Mario Bros.      NES           1985.0      Platform     29.08   \n",
       "2            Mario Kart Wii      Wii           2008.0        Racing     15.68   \n",
       "3         Wii Sports Resort      Wii           2009.0        Sports     15.61   \n",
       "4  Pokemon Red/Pokemon Blue       GB           1996.0  Role-Playing     11.27   \n",
       "\n",
       "   eu_sales  jp_sales  other_sales  critic_score user_score rating  \n",
       "0     28.96      3.77         8.45          76.0          8      E  \n",
       "1      3.58      6.81         0.77           NaN        NaN    NaN  \n",
       "2     12.76      3.79         3.29          82.0        8.3      E  \n",
       "3     10.93      3.28         2.95          80.0          8      E  \n",
       "4      8.89     10.22         1.00           NaN        NaN    NaN  "
      ]
     },
     "execution_count": 4,
     "metadata": {},
     "output_type": "execute_result"
    }
   ],
   "source": [
    "# приводим названия столбцов к нужному регистру \n",
    "data.columns = data.columns.str.lower()\n",
    "data.head()"
   ]
  },
  {
   "cell_type": "markdown",
   "metadata": {},
   "source": [
    "Имена столбцов теперь корректны. Теперь поменяем некоторые типы данных в столбцах: год выпуска, рейтинг критиков и рейтинг пользователей."
   ]
  },
  {
   "cell_type": "code",
   "execution_count": 5,
   "metadata": {},
   "outputs": [],
   "source": [
    "# изменение типов данных \n",
    "data = data.astype({'year_of_release': 'Int64'})"
   ]
  },
  {
   "cell_type": "markdown",
   "metadata": {},
   "source": [
    "Перевести столбец с рейтингом пользователей пока не удалось, поскольку в столбце есть значение \"tbd\". Если верить интернету, то это аббревиатура \"To Be Determined\", то есть пользовательский рейтинг ещё не определён. Посмотрим, какие вообще значения есть в этом столбце. "
   ]
  },
  {
   "cell_type": "code",
   "execution_count": 6,
   "metadata": {
    "scrolled": true
   },
   "outputs": [
    {
     "data": {
      "text/plain": [
       "tbd    2424\n",
       "7.8     324\n",
       "8       290\n",
       "8.2     282\n",
       "8.3     254\n",
       "       ... \n",
       "1.1       2\n",
       "1.9       2\n",
       "9.6       2\n",
       "0         1\n",
       "9.7       1\n",
       "Name: user_score, Length: 96, dtype: int64"
      ]
     },
     "execution_count": 6,
     "metadata": {},
     "output_type": "execute_result"
    }
   ],
   "source": [
    "# количество уникальных значений\n",
    "data['user_score'].value_counts()"
   ]
  },
  {
   "cell_type": "markdown",
   "metadata": {},
   "source": [
    "Таких значений 2424, плюс одно нулевое значение. Посмотрим, есть ли какая то связь такого неопределённого рейтинга с другими столбцами. Возможно, рейтинг ещё неопределён из-за того, что игра вышла в крайний год."
   ]
  },
  {
   "cell_type": "code",
   "execution_count": 7,
   "metadata": {},
   "outputs": [
    {
     "data": {
      "text/html": [
       "<div>\n",
       "<style scoped>\n",
       "    .dataframe tbody tr th:only-of-type {\n",
       "        vertical-align: middle;\n",
       "    }\n",
       "\n",
       "    .dataframe tbody tr th {\n",
       "        vertical-align: top;\n",
       "    }\n",
       "\n",
       "    .dataframe thead th {\n",
       "        text-align: right;\n",
       "    }\n",
       "</style>\n",
       "<table border=\"1\" class=\"dataframe\">\n",
       "  <thead>\n",
       "    <tr style=\"text-align: right;\">\n",
       "      <th></th>\n",
       "      <th>name</th>\n",
       "      <th>platform</th>\n",
       "      <th>year_of_release</th>\n",
       "      <th>genre</th>\n",
       "      <th>na_sales</th>\n",
       "      <th>eu_sales</th>\n",
       "      <th>jp_sales</th>\n",
       "      <th>other_sales</th>\n",
       "      <th>critic_score</th>\n",
       "      <th>user_score</th>\n",
       "      <th>rating</th>\n",
       "    </tr>\n",
       "  </thead>\n",
       "  <tbody>\n",
       "    <tr>\n",
       "      <th>119</th>\n",
       "      <td>Zumba Fitness</td>\n",
       "      <td>Wii</td>\n",
       "      <td>2010</td>\n",
       "      <td>Sports</td>\n",
       "      <td>3.45</td>\n",
       "      <td>2.59</td>\n",
       "      <td>0.0</td>\n",
       "      <td>0.66</td>\n",
       "      <td>NaN</td>\n",
       "      <td>tbd</td>\n",
       "      <td>E</td>\n",
       "    </tr>\n",
       "    <tr>\n",
       "      <th>301</th>\n",
       "      <td>Namco Museum: 50th Anniversary</td>\n",
       "      <td>PS2</td>\n",
       "      <td>2005</td>\n",
       "      <td>Misc</td>\n",
       "      <td>2.08</td>\n",
       "      <td>1.35</td>\n",
       "      <td>0.0</td>\n",
       "      <td>0.54</td>\n",
       "      <td>61.0</td>\n",
       "      <td>tbd</td>\n",
       "      <td>E10+</td>\n",
       "    </tr>\n",
       "    <tr>\n",
       "      <th>520</th>\n",
       "      <td>Zumba Fitness 2</td>\n",
       "      <td>Wii</td>\n",
       "      <td>2011</td>\n",
       "      <td>Sports</td>\n",
       "      <td>1.51</td>\n",
       "      <td>1.03</td>\n",
       "      <td>0.0</td>\n",
       "      <td>0.27</td>\n",
       "      <td>NaN</td>\n",
       "      <td>tbd</td>\n",
       "      <td>T</td>\n",
       "    </tr>\n",
       "    <tr>\n",
       "      <th>645</th>\n",
       "      <td>uDraw Studio</td>\n",
       "      <td>Wii</td>\n",
       "      <td>2010</td>\n",
       "      <td>Misc</td>\n",
       "      <td>1.65</td>\n",
       "      <td>0.57</td>\n",
       "      <td>0.0</td>\n",
       "      <td>0.20</td>\n",
       "      <td>71.0</td>\n",
       "      <td>tbd</td>\n",
       "      <td>E</td>\n",
       "    </tr>\n",
       "    <tr>\n",
       "      <th>657</th>\n",
       "      <td>Frogger's Adventures: Temple of the Frog</td>\n",
       "      <td>GBA</td>\n",
       "      <td>&lt;NA&gt;</td>\n",
       "      <td>Adventure</td>\n",
       "      <td>2.15</td>\n",
       "      <td>0.18</td>\n",
       "      <td>0.0</td>\n",
       "      <td>0.07</td>\n",
       "      <td>73.0</td>\n",
       "      <td>tbd</td>\n",
       "      <td>E</td>\n",
       "    </tr>\n",
       "  </tbody>\n",
       "</table>\n",
       "</div>"
      ],
      "text/plain": [
       "                                         name platform  year_of_release  \\\n",
       "119                             Zumba Fitness      Wii             2010   \n",
       "301            Namco Museum: 50th Anniversary      PS2             2005   \n",
       "520                           Zumba Fitness 2      Wii             2011   \n",
       "645                              uDraw Studio      Wii             2010   \n",
       "657  Frogger's Adventures: Temple of the Frog      GBA             <NA>   \n",
       "\n",
       "         genre  na_sales  eu_sales  jp_sales  other_sales  critic_score  \\\n",
       "119     Sports      3.45      2.59       0.0         0.66           NaN   \n",
       "301       Misc      2.08      1.35       0.0         0.54          61.0   \n",
       "520     Sports      1.51      1.03       0.0         0.27           NaN   \n",
       "645       Misc      1.65      0.57       0.0         0.20          71.0   \n",
       "657  Adventure      2.15      0.18       0.0         0.07          73.0   \n",
       "\n",
       "    user_score rating  \n",
       "119        tbd      E  \n",
       "301        tbd   E10+  \n",
       "520        tbd      T  \n",
       "645        tbd      E  \n",
       "657        tbd      E  "
      ]
     },
     "execution_count": 7,
     "metadata": {},
     "output_type": "execute_result"
    }
   ],
   "source": [
    "# просмотр строк, в которых пользовательский рейтинг равен \"tbd\"\n",
    "data.query('user_score == \\'tbd\\'').head()"
   ]
  },
  {
   "cell_type": "markdown",
   "metadata": {},
   "source": [
    "Даже по первым пяти строкам видно, что \"tbd\" значение никак не связано с другими столбцами. Например, даже рейтинг критиков может быть определён при неопределённом пользовательском. Логичной замены нет, хотя можно было бы заменить это значение на рейтинг критиков. Не думаю, что это будет корректно, так как рейтинги могут не часто, но отличаться. Заменим значения \"tbd\" на пропуски NaN."
   ]
  },
  {
   "cell_type": "code",
   "execution_count": 8,
   "metadata": {},
   "outputs": [],
   "source": [
    "# меняем значения на NaN\n",
    "data['user_score'] = data['user_score'].replace(['tbd', '0'], np.NaN)"
   ]
  },
  {
   "cell_type": "code",
   "execution_count": 9,
   "metadata": {},
   "outputs": [],
   "source": [
    "# меняем тип данных\n",
    "data = data.astype({'user_score': 'float64'})"
   ]
  },
  {
   "cell_type": "markdown",
   "metadata": {},
   "source": [
    "Рассмотрим другие пропуски. \n",
    "* Name - две безымянные игры; никакую замену сделать мы не сможем, разве что только заменить на \"unknown\", но я не вижу в этом смысла, так как таких игр всего две\n",
    "* Year_of_Release - немного данных пропущенно, логичной замены нет, можем оставить пропуски, они нам не помешают\n",
    "* Genre - аналогично названиям игры - два пропуска, возможно это даже одни и те же строки\n",
    "* Critic_Score - аналогично рейтингу пользователей мы не можем заменить пропуски на определённые значения, поэтому оставим пропуски \n",
    "* Rating - около половины пропущенных значений, но мы не сможем предположить реитинг игры и присвоить ей это значение, поэтому оставим пропуски\n",
    "\n",
    "Проверим строки с пропущенным названием."
   ]
  },
  {
   "cell_type": "code",
   "execution_count": 10,
   "metadata": {},
   "outputs": [
    {
     "data": {
      "text/html": [
       "<div>\n",
       "<style scoped>\n",
       "    .dataframe tbody tr th:only-of-type {\n",
       "        vertical-align: middle;\n",
       "    }\n",
       "\n",
       "    .dataframe tbody tr th {\n",
       "        vertical-align: top;\n",
       "    }\n",
       "\n",
       "    .dataframe thead th {\n",
       "        text-align: right;\n",
       "    }\n",
       "</style>\n",
       "<table border=\"1\" class=\"dataframe\">\n",
       "  <thead>\n",
       "    <tr style=\"text-align: right;\">\n",
       "      <th></th>\n",
       "      <th>name</th>\n",
       "      <th>platform</th>\n",
       "      <th>year_of_release</th>\n",
       "      <th>genre</th>\n",
       "      <th>na_sales</th>\n",
       "      <th>eu_sales</th>\n",
       "      <th>jp_sales</th>\n",
       "      <th>other_sales</th>\n",
       "      <th>critic_score</th>\n",
       "      <th>user_score</th>\n",
       "      <th>rating</th>\n",
       "    </tr>\n",
       "  </thead>\n",
       "  <tbody>\n",
       "    <tr>\n",
       "      <th>659</th>\n",
       "      <td>NaN</td>\n",
       "      <td>GEN</td>\n",
       "      <td>1993</td>\n",
       "      <td>NaN</td>\n",
       "      <td>1.78</td>\n",
       "      <td>0.53</td>\n",
       "      <td>0.00</td>\n",
       "      <td>0.08</td>\n",
       "      <td>NaN</td>\n",
       "      <td>NaN</td>\n",
       "      <td>NaN</td>\n",
       "    </tr>\n",
       "    <tr>\n",
       "      <th>14244</th>\n",
       "      <td>NaN</td>\n",
       "      <td>GEN</td>\n",
       "      <td>1993</td>\n",
       "      <td>NaN</td>\n",
       "      <td>0.00</td>\n",
       "      <td>0.00</td>\n",
       "      <td>0.03</td>\n",
       "      <td>0.00</td>\n",
       "      <td>NaN</td>\n",
       "      <td>NaN</td>\n",
       "      <td>NaN</td>\n",
       "    </tr>\n",
       "  </tbody>\n",
       "</table>\n",
       "</div>"
      ],
      "text/plain": [
       "      name platform  year_of_release genre  na_sales  eu_sales  jp_sales  \\\n",
       "659    NaN      GEN             1993   NaN      1.78      0.53      0.00   \n",
       "14244  NaN      GEN             1993   NaN      0.00      0.00      0.03   \n",
       "\n",
       "       other_sales  critic_score  user_score rating  \n",
       "659           0.08           NaN         NaN    NaN  \n",
       "14244         0.00           NaN         NaN    NaN  "
      ]
     },
     "execution_count": 10,
     "metadata": {},
     "output_type": "execute_result"
    }
   ],
   "source": [
    "# выведем строки, где есть пропуски в таблице с названиями\n",
    "data[data['name'].isnull()]"
   ]
  },
  {
   "cell_type": "markdown",
   "metadata": {},
   "source": [
    "В этих строках пропущены почти все значения, поэтому мы можем спокойно удалить их из таблицы."
   ]
  },
  {
   "cell_type": "code",
   "execution_count": 11,
   "metadata": {},
   "outputs": [],
   "source": [
    "# удаляем строки с пропусками в столбце с названиями\n",
    "data = data.dropna(subset=['name']).reset_index(drop=True)"
   ]
  },
  {
   "cell_type": "code",
   "execution_count": 12,
   "metadata": {},
   "outputs": [
    {
     "name": "stdout",
     "output_type": "stream",
     "text": [
      "<class 'pandas.core.frame.DataFrame'>\n",
      "RangeIndex: 16713 entries, 0 to 16712\n",
      "Data columns (total 11 columns):\n",
      " #   Column           Non-Null Count  Dtype  \n",
      "---  ------           --------------  -----  \n",
      " 0   name             16713 non-null  object \n",
      " 1   platform         16713 non-null  object \n",
      " 2   year_of_release  16444 non-null  Int64  \n",
      " 3   genre            16713 non-null  object \n",
      " 4   na_sales         16713 non-null  float64\n",
      " 5   eu_sales         16713 non-null  float64\n",
      " 6   jp_sales         16713 non-null  float64\n",
      " 7   other_sales      16713 non-null  float64\n",
      " 8   critic_score     8137 non-null   float64\n",
      " 9   user_score       7589 non-null   float64\n",
      " 10  rating           9949 non-null   object \n",
      "dtypes: Int64(1), float64(6), object(4)\n",
      "memory usage: 1.4+ MB\n"
     ]
    }
   ],
   "source": [
    "# проверим ощую информацию\n",
    "data.info()"
   ]
  },
  {
   "cell_type": "code",
   "execution_count": 13,
   "metadata": {},
   "outputs": [
    {
     "data": {
      "text/plain": [
       "0"
      ]
     },
     "execution_count": 13,
     "metadata": {},
     "output_type": "execute_result"
    }
   ],
   "source": [
    "# проверим наличие дубликатов\n",
    "data.duplicated().sum()"
   ]
  },
  {
   "cell_type": "code",
   "execution_count": 14,
   "metadata": {},
   "outputs": [
    {
     "data": {
      "text/plain": [
       "array(['Sports', 'Platform', 'Racing', 'Role-Playing', 'Puzzle', 'Misc',\n",
       "       'Shooter', 'Simulation', 'Action', 'Fighting', 'Adventure',\n",
       "       'Strategy'], dtype=object)"
      ]
     },
     "execution_count": 14,
     "metadata": {},
     "output_type": "execute_result"
    }
   ],
   "source": [
    "# проверяем дубликаты в названиях жанров\n",
    "data['genre'].unique()"
   ]
  },
  {
   "cell_type": "markdown",
   "metadata": {},
   "source": [
    "Строки удалены. Дубликатов не оказалось "
   ]
  },
  {
   "cell_type": "markdown",
   "metadata": {},
   "source": [
    "### Добавление суммарных продаж\n",
    "\n",
    "Добавим в таблицу новый столбцец с суммарными продажами по всем регионам. Для этого сложим значения по всем регионам."
   ]
  },
  {
   "cell_type": "code",
   "execution_count": 15,
   "metadata": {},
   "outputs": [],
   "source": [
    "# добавление нового столбца в таблицу\n",
    "data['total_sales'] = data['na_sales'] + data['eu_sales'] + data['jp_sales'] + data['other_sales']"
   ]
  },
  {
   "cell_type": "markdown",
   "metadata": {},
   "source": [
    "### Вывод\n",
    "\n",
    "В ходе предобработки были обработаны пропуски, многие из них были оставлены, так как для них нет никакой логичной замены и строки с такими пропусками всё равно могут содержать важную информацию. \n",
    "\n",
    "Названия столбцов переведены в нижний регистр; дубликатов не обнаружено; добавлен новый столбец с суммарными продажами по всем регионам."
   ]
  },
  {
   "cell_type": "markdown",
   "metadata": {},
   "source": [
    "## Исследовательский анализ \n",
    "\n",
    "### Количество игр в год\n",
    "\n",
    "Посмотрим, сколько игр выпускалось в разные годы. Для этого построим сводную таблицу по годам и построим график для наглядности. "
   ]
  },
  {
   "cell_type": "code",
   "execution_count": 16,
   "metadata": {},
   "outputs": [
    {
     "data": {
      "image/png": "[encoded data removed]",
      "text/plain": [
       "<Figure size 432x432 with 1 Axes>"
      ]
     },
     "metadata": {
      "needs_background": "light"
     },
     "output_type": "display_data"
    }
   ],
   "source": [
    "# строим график по сводной таблице с количеством выпущенных игр по годам\n",
    "data.pivot_table(index='year_of_release', values='name', aggfunc='count').plot(legend=False, grid=True, figsize=(6, 6))\n",
    "plt.title(\"Количество выпущенных игр в год\")\n",
    "plt.xlabel(\"Год выпуска\")\n",
    "plt.ylabel(\"Количество выпущенных игр\")\n",
    "plt.show()"
   ]
  },
  {
   "cell_type": "markdown",
   "metadata": {},
   "source": [
    "По графику видно, что с 1980 года выходило не больше 50 игр в год, но после 1990 с каждым годом игр выходило всё больше и больше. Самые продуктивные года у разработчиков игр случились на период с 2006 до 2011, далее случился резкий спад. В целом все данные являются важными, по сколько на основе предыдущих годов мы можем отследивать влияние разных факторов на последующий рост. "
   ]
  },
  {
   "cell_type": "markdown",
   "metadata": {},
   "source": [
    "### Продажи по платформам\n",
    "\n",
    "Посмотрим, как менялись продажи по платформам. Найдем платформы с самыми большими суммарными подажами. "
   ]
  },
  {
   "cell_type": "code",
   "execution_count": 17,
   "metadata": {},
   "outputs": [
    {
     "data": {
      "image/png": "[encoded data removed]",
      "text/plain": [
       "<Figure size 432x432 with 1 Axes>"
      ]
     },
     "metadata": {
      "needs_background": "light"
     },
     "output_type": "display_data"
    }
   ],
   "source": [
    "# строим график по сводной таблице с количеством проданных копий по годам\n",
    "data.pivot_table(index='year_of_release', values='total_sales', aggfunc='sum').plot(legend=False, grid=True, figsize=(6, 6))\n",
    "plt.title(\"Продажи по годам\")\n",
    "plt.xlabel(\"Год выпуска\")\n",
    "plt.ylabel(\"Миллионы проданных копий\")\n",
    "plt.show()"
   ]
  },
  {
   "cell_type": "markdown",
   "metadata": {},
   "source": [
    "Если сравнить получившийся график с предыдущим, то можно увидеть, что динамика количества выпускаемых игр близка к динамике продаваемых копий. Найдем платформы, которые продавали больше всех копий. "
   ]
  },
  {
   "cell_type": "code",
   "execution_count": 18,
   "metadata": {},
   "outputs": [
    {
     "data": {
      "text/html": [
       "<div>\n",
       "<style scoped>\n",
       "    .dataframe tbody tr th:only-of-type {\n",
       "        vertical-align: middle;\n",
       "    }\n",
       "\n",
       "    .dataframe tbody tr th {\n",
       "        vertical-align: top;\n",
       "    }\n",
       "\n",
       "    .dataframe thead th {\n",
       "        text-align: right;\n",
       "    }\n",
       "</style>\n",
       "<table border=\"1\" class=\"dataframe\">\n",
       "  <thead>\n",
       "    <tr style=\"text-align: right;\">\n",
       "      <th></th>\n",
       "      <th>total_sales</th>\n",
       "    </tr>\n",
       "    <tr>\n",
       "      <th>platform</th>\n",
       "      <th></th>\n",
       "    </tr>\n",
       "  </thead>\n",
       "  <tbody>\n",
       "    <tr>\n",
       "      <th>PS2</th>\n",
       "      <td>1255.77</td>\n",
       "    </tr>\n",
       "    <tr>\n",
       "      <th>X360</th>\n",
       "      <td>971.42</td>\n",
       "    </tr>\n",
       "    <tr>\n",
       "      <th>PS3</th>\n",
       "      <td>939.65</td>\n",
       "    </tr>\n",
       "    <tr>\n",
       "      <th>Wii</th>\n",
       "      <td>907.51</td>\n",
       "    </tr>\n",
       "    <tr>\n",
       "      <th>DS</th>\n",
       "      <td>806.12</td>\n",
       "    </tr>\n",
       "  </tbody>\n",
       "</table>\n",
       "</div>"
      ],
      "text/plain": [
       "          total_sales\n",
       "platform             \n",
       "PS2           1255.77\n",
       "X360           971.42\n",
       "PS3            939.65\n",
       "Wii            907.51\n",
       "DS             806.12"
      ]
     },
     "execution_count": 18,
     "metadata": {},
     "output_type": "execute_result"
    }
   ],
   "source": [
    "# строим сводную таблицу с суммарными продажами по платформам\n",
    "data.pivot_table(index='platform', values='total_sales', aggfunc='sum').sort_values(by='total_sales', ascending=False).head()"
   ]
  },
  {
   "cell_type": "markdown",
   "metadata": {},
   "source": [
    "Мы получили топ платформ по проданным копиям за весь период. Посмотрим, как изменялись продажи с каждым годом."
   ]
  },
  {
   "cell_type": "code",
   "execution_count": 19,
   "metadata": {},
   "outputs": [
    {
     "data": {
      "image/png": "[encoded data removed]",
      "text/plain": [
       "<Figure size 576x576 with 1 Axes>"
      ]
     },
     "metadata": {
      "needs_background": "light"
     },
     "output_type": "display_data"
    }
   ],
   "source": [
    "# для пяти самых прибыльных платформ построим график изменения продаж по годам\n",
    "top_5 = ['PS2', 'X360', 'PS3', 'Wii', 'DS']\n",
    "data.query('platform in @top_5').pivot_table(index='year_of_release', \n",
    "                                             columns='platform', \n",
    "                                             values='total_sales', \n",
    "                                             aggfunc='sum').plot(grid=True, figsize=(8, 8))\n",
    "plt.title(\"Продажи по годам\")\n",
    "plt.xlabel(\"Год выпуска\")\n",
    "plt.ylabel(\"Миллионы проданных копий\")\n",
    "plt.show()"
   ]
  },
  {
   "cell_type": "markdown",
   "metadata": {},
   "source": [
    "По графику видно, что лидеры продаж начали зарабатывать свою популярность после 2000 года, раньше продаж либо не было, либо они были минимальны. Первые лидеры продаж (PS2 и DC) не удержали лидерство, да и в целом все эти платформы после 2010 стали продавать не много своих копий. Видно, что у каждой платформы есть период \"существования\" в основном около 10 лет. Проверим, так ли это, вычислим период между выпуском первой и последней игры для каждой платформы. "
   ]
  },
  {
   "cell_type": "code",
   "execution_count": 20,
   "metadata": {},
   "outputs": [
    {
     "data": {
      "text/html": [
       "<div>\n",
       "<style scoped>\n",
       "    .dataframe tbody tr th:only-of-type {\n",
       "        vertical-align: middle;\n",
       "    }\n",
       "\n",
       "    .dataframe tbody tr th {\n",
       "        vertical-align: top;\n",
       "    }\n",
       "\n",
       "    .dataframe thead th {\n",
       "        text-align: right;\n",
       "    }\n",
       "</style>\n",
       "<table border=\"1\" class=\"dataframe\">\n",
       "  <thead>\n",
       "    <tr style=\"text-align: right;\">\n",
       "      <th></th>\n",
       "      <th>platform</th>\n",
       "      <th>year_start</th>\n",
       "      <th>year_last</th>\n",
       "    </tr>\n",
       "  </thead>\n",
       "  <tbody>\n",
       "    <tr>\n",
       "      <th>0</th>\n",
       "      <td>2600</td>\n",
       "      <td>1980</td>\n",
       "      <td>1989</td>\n",
       "    </tr>\n",
       "    <tr>\n",
       "      <th>1</th>\n",
       "      <td>3DO</td>\n",
       "      <td>1994</td>\n",
       "      <td>1995</td>\n",
       "    </tr>\n",
       "    <tr>\n",
       "      <th>2</th>\n",
       "      <td>3DS</td>\n",
       "      <td>2011</td>\n",
       "      <td>2016</td>\n",
       "    </tr>\n",
       "    <tr>\n",
       "      <th>3</th>\n",
       "      <td>DC</td>\n",
       "      <td>1998</td>\n",
       "      <td>2008</td>\n",
       "    </tr>\n",
       "    <tr>\n",
       "      <th>4</th>\n",
       "      <td>DS</td>\n",
       "      <td>1985</td>\n",
       "      <td>2013</td>\n",
       "    </tr>\n",
       "  </tbody>\n",
       "</table>\n",
       "</div>"
      ],
      "text/plain": [
       "  platform  year_start  year_last\n",
       "0     2600        1980       1989\n",
       "1      3DO        1994       1995\n",
       "2      3DS        2011       2016\n",
       "3       DC        1998       2008\n",
       "4       DS        1985       2013"
      ]
     },
     "execution_count": 20,
     "metadata": {},
     "output_type": "execute_result"
    }
   ],
   "source": [
    "# создадим таблицу с годом появления и исчезновения платформ\n",
    "periods = data.pivot_table(index='platform', values='year_of_release', aggfunc=['min', 'max']).reset_index()\n",
    "periods.columns = ['platform', 'year_start', 'year_last']\n",
    "periods.head()"
   ]
  },
  {
   "cell_type": "code",
   "execution_count": 21,
   "metadata": {},
   "outputs": [
    {
     "data": {
      "image/png": "[encoded data removed]",
      "text/plain": [
       "<Figure size 432x288 with 1 Axes>"
      ]
     },
     "metadata": {
      "needs_background": "light"
     },
     "output_type": "display_data"
    }
   ],
   "source": [
    "# создадим новый столбец с периодом действия платформы\n",
    "# будем учитывать и год появления и год исчезновения (прибавим + 1 к разнице лет)\n",
    "periods['duration'] = periods['year_last'] - periods['year_start'] + 1\n",
    "periods['duration'].hist(bins=30)\n",
    "plt.title(\"Продолжительность работы платформ\")\n",
    "plt.xlabel(\"Продолжительность работы\")\n",
    "plt.ylabel(\"Количество платформ\")\n",
    "plt.show()"
   ]
  },
  {
   "cell_type": "markdown",
   "metadata": {},
   "source": [
    "По построенный гистограмме видно, что большинство платформ появляются и исчезают через 1-12 лет, исключением являются только две платформы, существуют около 30 лет. "
   ]
  },
  {
   "cell_type": "code",
   "execution_count": 22,
   "metadata": {},
   "outputs": [
    {
     "data": {
      "text/html": [
       "<div>\n",
       "<style scoped>\n",
       "    .dataframe tbody tr th:only-of-type {\n",
       "        vertical-align: middle;\n",
       "    }\n",
       "\n",
       "    .dataframe tbody tr th {\n",
       "        vertical-align: top;\n",
       "    }\n",
       "\n",
       "    .dataframe thead th {\n",
       "        text-align: right;\n",
       "    }\n",
       "</style>\n",
       "<table border=\"1\" class=\"dataframe\">\n",
       "  <thead>\n",
       "    <tr style=\"text-align: right;\">\n",
       "      <th></th>\n",
       "      <th>platform</th>\n",
       "      <th>year_start</th>\n",
       "      <th>year_last</th>\n",
       "      <th>duration</th>\n",
       "    </tr>\n",
       "  </thead>\n",
       "  <tbody>\n",
       "    <tr>\n",
       "      <th>13</th>\n",
       "      <td>PC</td>\n",
       "      <td>1985</td>\n",
       "      <td>2016</td>\n",
       "      <td>32</td>\n",
       "    </tr>\n",
       "    <tr>\n",
       "      <th>4</th>\n",
       "      <td>DS</td>\n",
       "      <td>1985</td>\n",
       "      <td>2013</td>\n",
       "      <td>29</td>\n",
       "    </tr>\n",
       "    <tr>\n",
       "      <th>5</th>\n",
       "      <td>GB</td>\n",
       "      <td>1988</td>\n",
       "      <td>2001</td>\n",
       "      <td>14</td>\n",
       "    </tr>\n",
       "    <tr>\n",
       "      <th>28</th>\n",
       "      <td>X360</td>\n",
       "      <td>2005</td>\n",
       "      <td>2016</td>\n",
       "      <td>12</td>\n",
       "    </tr>\n",
       "    <tr>\n",
       "      <th>19</th>\n",
       "      <td>PSP</td>\n",
       "      <td>2004</td>\n",
       "      <td>2015</td>\n",
       "      <td>12</td>\n",
       "    </tr>\n",
       "  </tbody>\n",
       "</table>\n",
       "</div>"
      ],
      "text/plain": [
       "   platform  year_start  year_last  duration\n",
       "13       PC        1985       2016        32\n",
       "4        DS        1985       2013        29\n",
       "5        GB        1988       2001        14\n",
       "28     X360        2005       2016        12\n",
       "19      PSP        2004       2015        12"
      ]
     },
     "execution_count": 22,
     "metadata": {},
     "output_type": "execute_result"
    }
   ],
   "source": [
    "periods.sort_values(by='duration', ascending=False).head()"
   ]
  },
  {
   "cell_type": "markdown",
   "metadata": {},
   "source": [
    "### Актуальный период"
   ]
  },
  {
   "cell_type": "markdown",
   "metadata": {},
   "source": [
    "Вычислим средний период активности платформ."
   ]
  },
  {
   "cell_type": "code",
   "execution_count": 23,
   "metadata": {
    "scrolled": true
   },
   "outputs": [
    {
     "data": {
      "text/plain": [
       "8.612903225806452"
      ]
     },
     "execution_count": 23,
     "metadata": {},
     "output_type": "execute_result"
    }
   ],
   "source": [
    "# средний период активности платформ\n",
    "mean_period = periods['duration'].mean()\n",
    "mean_period"
   ]
  },
  {
   "cell_type": "markdown",
   "metadata": {},
   "source": [
    "Определим платформы, которые всё ещё актуальны на 2016 год и которые существуют меньше чем средняя продолжительность работы платформы."
   ]
  },
  {
   "cell_type": "code",
   "execution_count": 27,
   "metadata": {},
   "outputs": [
    {
     "data": {
      "text/html": [
       "<div>\n",
       "<style scoped>\n",
       "    .dataframe tbody tr th:only-of-type {\n",
       "        vertical-align: middle;\n",
       "    }\n",
       "\n",
       "    .dataframe tbody tr th {\n",
       "        vertical-align: top;\n",
       "    }\n",
       "\n",
       "    .dataframe thead th {\n",
       "        text-align: right;\n",
       "    }\n",
       "</style>\n",
       "<table border=\"1\" class=\"dataframe\">\n",
       "  <thead>\n",
       "    <tr style=\"text-align: right;\">\n",
       "      <th></th>\n",
       "      <th>platform</th>\n",
       "      <th>year_start</th>\n",
       "      <th>year_last</th>\n",
       "      <th>duration</th>\n",
       "    </tr>\n",
       "  </thead>\n",
       "  <tbody>\n",
       "    <tr>\n",
       "      <th>2</th>\n",
       "      <td>3DS</td>\n",
       "      <td>2011</td>\n",
       "      <td>2016</td>\n",
       "      <td>6</td>\n",
       "    </tr>\n",
       "    <tr>\n",
       "      <th>18</th>\n",
       "      <td>PS4</td>\n",
       "      <td>2013</td>\n",
       "      <td>2016</td>\n",
       "      <td>4</td>\n",
       "    </tr>\n",
       "    <tr>\n",
       "      <th>20</th>\n",
       "      <td>PSV</td>\n",
       "      <td>2011</td>\n",
       "      <td>2016</td>\n",
       "      <td>6</td>\n",
       "    </tr>\n",
       "    <tr>\n",
       "      <th>27</th>\n",
       "      <td>WiiU</td>\n",
       "      <td>2012</td>\n",
       "      <td>2016</td>\n",
       "      <td>5</td>\n",
       "    </tr>\n",
       "    <tr>\n",
       "      <th>30</th>\n",
       "      <td>XOne</td>\n",
       "      <td>2013</td>\n",
       "      <td>2016</td>\n",
       "      <td>4</td>\n",
       "    </tr>\n",
       "  </tbody>\n",
       "</table>\n",
       "</div>"
      ],
      "text/plain": [
       "   platform  year_start  year_last  duration\n",
       "2       3DS        2011       2016         6\n",
       "18      PS4        2013       2016         4\n",
       "20      PSV        2011       2016         6\n",
       "27     WiiU        2012       2016         5\n",
       "30     XOne        2013       2016         4"
      ]
     },
     "execution_count": 27,
     "metadata": {},
     "output_type": "execute_result"
    }
   ],
   "source": [
    "# платформы, актуальные на 2016\n",
    "periods.query('year_last > 2015 and duration < @mean_period', engine='python')"
   ]
  },
  {
   "cell_type": "markdown",
   "metadata": {},
   "source": [
    "Мы видим, что продолжительность существования платформ, актуальных на 2016 год и не близких к средней продолжительности, составляем до 6 лет. Весь период нам не нужен, поэтому возьмём 4 года за актуальный период, то есть исключим из анализа годы до 2012 и те платформы, которые на 2016 уже не действуют."
   ]
  },
  {
   "cell_type": "code",
   "execution_count": 29,
   "metadata": {
    "scrolled": true
   },
   "outputs": [
    {
     "data": {
      "text/plain": [
       "2      3DS\n",
       "13      PC\n",
       "17     PS3\n",
       "18     PS4\n",
       "20     PSV\n",
       "26     Wii\n",
       "27    WiiU\n",
       "28    X360\n",
       "30    XOne\n",
       "Name: platform, dtype: object"
      ]
     },
     "execution_count": 29,
     "metadata": {},
     "output_type": "execute_result"
    }
   ],
   "source": [
    "# платформы, актуальные на 2016\n",
    "current_platforms = periods.query('year_last > 2015', engine='python')['platform']\n",
    "current_platforms"
   ]
  },
  {
   "cell_type": "markdown",
   "metadata": {},
   "source": [
    "Сначала исключим из исследования те платформы, у которых последние продажи были до 2016 года. Так мы определим действующие на 2016 год платформы. Также исключим те данные, в которых год последнего релиза был до актуального срока."
   ]
  },
  {
   "cell_type": "code",
   "execution_count": 31,
   "metadata": {},
   "outputs": [
    {
     "data": {
      "text/html": [
       "<div>\n",
       "<style scoped>\n",
       "    .dataframe tbody tr th:only-of-type {\n",
       "        vertical-align: middle;\n",
       "    }\n",
       "\n",
       "    .dataframe tbody tr th {\n",
       "        vertical-align: top;\n",
       "    }\n",
       "\n",
       "    .dataframe thead th {\n",
       "        text-align: right;\n",
       "    }\n",
       "</style>\n",
       "<table border=\"1\" class=\"dataframe\">\n",
       "  <thead>\n",
       "    <tr style=\"text-align: right;\">\n",
       "      <th></th>\n",
       "      <th>name</th>\n",
       "      <th>platform</th>\n",
       "      <th>year_of_release</th>\n",
       "      <th>genre</th>\n",
       "      <th>na_sales</th>\n",
       "      <th>eu_sales</th>\n",
       "      <th>jp_sales</th>\n",
       "      <th>other_sales</th>\n",
       "      <th>critic_score</th>\n",
       "      <th>user_score</th>\n",
       "      <th>rating</th>\n",
       "      <th>total_sales</th>\n",
       "    </tr>\n",
       "  </thead>\n",
       "  <tbody>\n",
       "    <tr>\n",
       "      <th>16</th>\n",
       "      <td>Grand Theft Auto V</td>\n",
       "      <td>PS3</td>\n",
       "      <td>2013</td>\n",
       "      <td>Action</td>\n",
       "      <td>7.02</td>\n",
       "      <td>9.09</td>\n",
       "      <td>0.98</td>\n",
       "      <td>3.96</td>\n",
       "      <td>97.0</td>\n",
       "      <td>8.2</td>\n",
       "      <td>M</td>\n",
       "      <td>21.05</td>\n",
       "    </tr>\n",
       "    <tr>\n",
       "      <th>23</th>\n",
       "      <td>Grand Theft Auto V</td>\n",
       "      <td>X360</td>\n",
       "      <td>2013</td>\n",
       "      <td>Action</td>\n",
       "      <td>9.66</td>\n",
       "      <td>5.14</td>\n",
       "      <td>0.06</td>\n",
       "      <td>1.41</td>\n",
       "      <td>97.0</td>\n",
       "      <td>8.1</td>\n",
       "      <td>M</td>\n",
       "      <td>16.27</td>\n",
       "    </tr>\n",
       "    <tr>\n",
       "      <th>31</th>\n",
       "      <td>Call of Duty: Black Ops 3</td>\n",
       "      <td>PS4</td>\n",
       "      <td>2015</td>\n",
       "      <td>Shooter</td>\n",
       "      <td>6.03</td>\n",
       "      <td>5.86</td>\n",
       "      <td>0.36</td>\n",
       "      <td>2.38</td>\n",
       "      <td>NaN</td>\n",
       "      <td>NaN</td>\n",
       "      <td>NaN</td>\n",
       "      <td>14.63</td>\n",
       "    </tr>\n",
       "    <tr>\n",
       "      <th>33</th>\n",
       "      <td>Pokemon X/Pokemon Y</td>\n",
       "      <td>3DS</td>\n",
       "      <td>2013</td>\n",
       "      <td>Role-Playing</td>\n",
       "      <td>5.28</td>\n",
       "      <td>4.19</td>\n",
       "      <td>4.35</td>\n",
       "      <td>0.78</td>\n",
       "      <td>NaN</td>\n",
       "      <td>NaN</td>\n",
       "      <td>NaN</td>\n",
       "      <td>14.60</td>\n",
       "    </tr>\n",
       "    <tr>\n",
       "      <th>42</th>\n",
       "      <td>Grand Theft Auto V</td>\n",
       "      <td>PS4</td>\n",
       "      <td>2014</td>\n",
       "      <td>Action</td>\n",
       "      <td>3.96</td>\n",
       "      <td>6.31</td>\n",
       "      <td>0.38</td>\n",
       "      <td>1.97</td>\n",
       "      <td>97.0</td>\n",
       "      <td>8.3</td>\n",
       "      <td>M</td>\n",
       "      <td>12.62</td>\n",
       "    </tr>\n",
       "  </tbody>\n",
       "</table>\n",
       "</div>"
      ],
      "text/plain": [
       "                         name platform  year_of_release         genre  \\\n",
       "16         Grand Theft Auto V      PS3             2013        Action   \n",
       "23         Grand Theft Auto V     X360             2013        Action   \n",
       "31  Call of Duty: Black Ops 3      PS4             2015       Shooter   \n",
       "33        Pokemon X/Pokemon Y      3DS             2013  Role-Playing   \n",
       "42         Grand Theft Auto V      PS4             2014        Action   \n",
       "\n",
       "    na_sales  eu_sales  jp_sales  other_sales  critic_score  user_score  \\\n",
       "16      7.02      9.09      0.98         3.96          97.0         8.2   \n",
       "23      9.66      5.14      0.06         1.41          97.0         8.1   \n",
       "31      6.03      5.86      0.36         2.38           NaN         NaN   \n",
       "33      5.28      4.19      4.35         0.78           NaN         NaN   \n",
       "42      3.96      6.31      0.38         1.97          97.0         8.3   \n",
       "\n",
       "   rating  total_sales  \n",
       "16      M        21.05  \n",
       "23      M        16.27  \n",
       "31    NaN        14.63  \n",
       "33    NaN        14.60  \n",
       "42      M        12.62  "
      ]
     },
     "execution_count": 31,
     "metadata": {},
     "output_type": "execute_result"
    }
   ],
   "source": [
    "# исключим из исследования информацию о неактуальных платформах\n",
    "current_data = data.query('platform in @current_platforms and year_of_release > 2012', engine='python')\n",
    "current_data.head()"
   ]
  },
  {
   "cell_type": "code",
   "execution_count": 32,
   "metadata": {},
   "outputs": [
    {
     "data": {
      "text/html": [
       "<div>\n",
       "<style scoped>\n",
       "    .dataframe tbody tr th:only-of-type {\n",
       "        vertical-align: middle;\n",
       "    }\n",
       "\n",
       "    .dataframe tbody tr th {\n",
       "        vertical-align: top;\n",
       "    }\n",
       "\n",
       "    .dataframe thead th {\n",
       "        text-align: right;\n",
       "    }\n",
       "</style>\n",
       "<table border=\"1\" class=\"dataframe\">\n",
       "  <thead>\n",
       "    <tr style=\"text-align: right;\">\n",
       "      <th>platform</th>\n",
       "      <th>3DS</th>\n",
       "      <th>PC</th>\n",
       "      <th>PS3</th>\n",
       "      <th>PS4</th>\n",
       "      <th>PSV</th>\n",
       "      <th>Wii</th>\n",
       "      <th>WiiU</th>\n",
       "      <th>X360</th>\n",
       "      <th>XOne</th>\n",
       "    </tr>\n",
       "    <tr>\n",
       "      <th>year_of_release</th>\n",
       "      <th></th>\n",
       "      <th></th>\n",
       "      <th></th>\n",
       "      <th></th>\n",
       "      <th></th>\n",
       "      <th></th>\n",
       "      <th></th>\n",
       "      <th></th>\n",
       "      <th></th>\n",
       "    </tr>\n",
       "  </thead>\n",
       "  <tbody>\n",
       "    <tr>\n",
       "      <th>2013</th>\n",
       "      <td>56.57</td>\n",
       "      <td>12.38</td>\n",
       "      <td>113.25</td>\n",
       "      <td>25.99</td>\n",
       "      <td>10.59</td>\n",
       "      <td>8.59</td>\n",
       "      <td>21.65</td>\n",
       "      <td>88.58</td>\n",
       "      <td>18.96</td>\n",
       "    </tr>\n",
       "    <tr>\n",
       "      <th>2014</th>\n",
       "      <td>43.76</td>\n",
       "      <td>13.28</td>\n",
       "      <td>47.76</td>\n",
       "      <td>100.00</td>\n",
       "      <td>11.90</td>\n",
       "      <td>3.75</td>\n",
       "      <td>22.03</td>\n",
       "      <td>34.74</td>\n",
       "      <td>54.07</td>\n",
       "    </tr>\n",
       "    <tr>\n",
       "      <th>2015</th>\n",
       "      <td>27.78</td>\n",
       "      <td>8.52</td>\n",
       "      <td>16.82</td>\n",
       "      <td>118.90</td>\n",
       "      <td>6.25</td>\n",
       "      <td>1.14</td>\n",
       "      <td>16.35</td>\n",
       "      <td>11.96</td>\n",
       "      <td>60.14</td>\n",
       "    </tr>\n",
       "    <tr>\n",
       "      <th>2016</th>\n",
       "      <td>15.14</td>\n",
       "      <td>5.25</td>\n",
       "      <td>3.60</td>\n",
       "      <td>69.25</td>\n",
       "      <td>4.25</td>\n",
       "      <td>0.18</td>\n",
       "      <td>4.60</td>\n",
       "      <td>1.52</td>\n",
       "      <td>26.15</td>\n",
       "    </tr>\n",
       "  </tbody>\n",
       "</table>\n",
       "</div>"
      ],
      "text/plain": [
       "platform           3DS     PC     PS3     PS4    PSV   Wii   WiiU   X360  \\\n",
       "year_of_release                                                            \n",
       "2013             56.57  12.38  113.25   25.99  10.59  8.59  21.65  88.58   \n",
       "2014             43.76  13.28   47.76  100.00  11.90  3.75  22.03  34.74   \n",
       "2015             27.78   8.52   16.82  118.90   6.25  1.14  16.35  11.96   \n",
       "2016             15.14   5.25    3.60   69.25   4.25  0.18   4.60   1.52   \n",
       "\n",
       "platform          XOne  \n",
       "year_of_release         \n",
       "2013             18.96  \n",
       "2014             54.07  \n",
       "2015             60.14  \n",
       "2016             26.15  "
      ]
     },
     "execution_count": 32,
     "metadata": {},
     "output_type": "execute_result"
    }
   ],
   "source": [
    "# построим сводную таблицу с продажами по платформам в актуальный период\n",
    "pivot_current_data = current_data.pivot_table(index='year_of_release', columns='platform', values='total_sales', aggfunc='sum')\n",
    "pivot_current_data"
   ]
  },
  {
   "cell_type": "markdown",
   "metadata": {},
   "source": [
    "Итак, выбранный актуальный период начинается с 2013 года. Актуальными являются только те платформы, которые в 2016 году всё ещё приносили прибыль. "
   ]
  },
  {
   "cell_type": "markdown",
   "metadata": {},
   "source": [
    "### Лидеры по продажам \n",
    "\n",
    "Посмотрим, какие платформы лидируют по продажам, растут или падают. "
   ]
  },
  {
   "cell_type": "code",
   "execution_count": 33,
   "metadata": {},
   "outputs": [
    {
     "data": {
      "image/png": "[encoded data removed]",
      "text/plain": [
       "<Figure size 576x576 with 1 Axes>"
      ]
     },
     "metadata": {
      "needs_background": "light"
     },
     "output_type": "display_data"
    }
   ],
   "source": [
    "# построим график продаж по годам \n",
    "pivot_current_data.plot(grid=True, figsize=(8, 8))\n",
    "plt.title(\"Продажи по годам\")\n",
    "plt.xlabel(\"Год выпуска\")\n",
    "plt.ylabel(\"Миллионы проданных копий\")\n",
    "plt.show()"
   ]
  },
  {
   "cell_type": "markdown",
   "metadata": {},
   "source": [
    "По графику видно, что последние 3 года больше всего продаж было у друх платформ: **PS4** и **XOne**. А учитывая то, что они появились только 4 года назад, можно назвать эти платформы самыми перспективными и потенциально прибыльными. В среднем у всех рассматриваемых платформ наблюдается спад продаж после 2015 года, поэтому факт убыли можно не учитывать."
   ]
  },
  {
   "cell_type": "code",
   "execution_count": 34,
   "metadata": {},
   "outputs": [
    {
     "data": {
      "image/png": "[encoded data removed]",
      "text/plain": [
       "<Figure size 864x432 with 1 Axes>"
      ]
     },
     "metadata": {
      "needs_background": "light"
     },
     "output_type": "display_data"
    }
   ],
   "source": [
    "# построим боксплоты для каждой платформы\n",
    "current_data.boxplot(by='platform', column='total_sales', figsize=(12, 6))\n",
    "plt.title(\"Продажи платформ за актуальные период\")\n",
    "plt.xlabel(\"Платформа\")\n",
    "plt.ylabel(\"Миллионы проданных копий\")\n",
    "plt.show()"
   ]
  },
  {
   "cell_type": "markdown",
   "metadata": {},
   "source": [
    "По боксплотам видно, что среднее количество продаж за актуальные период велико ещё у платформы X360. Это можно объяснить тем, что они были лидерами продаж первые годы актуального периода, затем эту платформу сменили появившиеся в 2013 году PS4 и XOne. \n",
    "В среднем все платформы в среднем приносили не больше 1 млн проданных копий, однако у каждой платформы есть игры, которые продавались намного больше остальных. Например, у платформы PS3 есть игра, которая продалась больше 20 млн раз, тогда как средние продажи не превышают одного млн. "
   ]
  },
  {
   "cell_type": "markdown",
   "metadata": {},
   "source": [
    "### Влияние других факторов на продажи\n",
    "\n",
    "Выберем из представленных платформ самую перспективную - PS4, кроме лидерсва в последние три года, эта платформа так же имела в среднем самые высокие продажи (видно по бокс плоту, что среднее значение продах за актуальный период у этой платформы больше остальных)."
   ]
  },
  {
   "cell_type": "code",
   "execution_count": 35,
   "metadata": {},
   "outputs": [
    {
     "data": {
      "text/html": [
       "<div>\n",
       "<style scoped>\n",
       "    .dataframe tbody tr th:only-of-type {\n",
       "        vertical-align: middle;\n",
       "    }\n",
       "\n",
       "    .dataframe tbody tr th {\n",
       "        vertical-align: top;\n",
       "    }\n",
       "\n",
       "    .dataframe thead th {\n",
       "        text-align: right;\n",
       "    }\n",
       "</style>\n",
       "<table border=\"1\" class=\"dataframe\">\n",
       "  <thead>\n",
       "    <tr style=\"text-align: right;\">\n",
       "      <th></th>\n",
       "      <th>name</th>\n",
       "      <th>platform</th>\n",
       "      <th>year_of_release</th>\n",
       "      <th>genre</th>\n",
       "      <th>na_sales</th>\n",
       "      <th>eu_sales</th>\n",
       "      <th>jp_sales</th>\n",
       "      <th>other_sales</th>\n",
       "      <th>critic_score</th>\n",
       "      <th>user_score</th>\n",
       "      <th>rating</th>\n",
       "      <th>total_sales</th>\n",
       "    </tr>\n",
       "  </thead>\n",
       "  <tbody>\n",
       "    <tr>\n",
       "      <th>0</th>\n",
       "      <td>Call of Duty: Black Ops 3</td>\n",
       "      <td>PS4</td>\n",
       "      <td>2015</td>\n",
       "      <td>Shooter</td>\n",
       "      <td>6.03</td>\n",
       "      <td>5.86</td>\n",
       "      <td>0.36</td>\n",
       "      <td>2.38</td>\n",
       "      <td>NaN</td>\n",
       "      <td>NaN</td>\n",
       "      <td>NaN</td>\n",
       "      <td>14.63</td>\n",
       "    </tr>\n",
       "    <tr>\n",
       "      <th>1</th>\n",
       "      <td>Grand Theft Auto V</td>\n",
       "      <td>PS4</td>\n",
       "      <td>2014</td>\n",
       "      <td>Action</td>\n",
       "      <td>3.96</td>\n",
       "      <td>6.31</td>\n",
       "      <td>0.38</td>\n",
       "      <td>1.97</td>\n",
       "      <td>97.0</td>\n",
       "      <td>8.3</td>\n",
       "      <td>M</td>\n",
       "      <td>12.62</td>\n",
       "    </tr>\n",
       "    <tr>\n",
       "      <th>2</th>\n",
       "      <td>FIFA 16</td>\n",
       "      <td>PS4</td>\n",
       "      <td>2015</td>\n",
       "      <td>Sports</td>\n",
       "      <td>1.12</td>\n",
       "      <td>6.12</td>\n",
       "      <td>0.06</td>\n",
       "      <td>1.28</td>\n",
       "      <td>82.0</td>\n",
       "      <td>4.3</td>\n",
       "      <td>E</td>\n",
       "      <td>8.58</td>\n",
       "    </tr>\n",
       "    <tr>\n",
       "      <th>3</th>\n",
       "      <td>Star Wars Battlefront (2015)</td>\n",
       "      <td>PS4</td>\n",
       "      <td>2015</td>\n",
       "      <td>Shooter</td>\n",
       "      <td>2.99</td>\n",
       "      <td>3.49</td>\n",
       "      <td>0.22</td>\n",
       "      <td>1.28</td>\n",
       "      <td>NaN</td>\n",
       "      <td>NaN</td>\n",
       "      <td>NaN</td>\n",
       "      <td>7.98</td>\n",
       "    </tr>\n",
       "    <tr>\n",
       "      <th>4</th>\n",
       "      <td>Call of Duty: Advanced Warfare</td>\n",
       "      <td>PS4</td>\n",
       "      <td>2014</td>\n",
       "      <td>Shooter</td>\n",
       "      <td>2.81</td>\n",
       "      <td>3.48</td>\n",
       "      <td>0.14</td>\n",
       "      <td>1.23</td>\n",
       "      <td>83.0</td>\n",
       "      <td>5.7</td>\n",
       "      <td>M</td>\n",
       "      <td>7.66</td>\n",
       "    </tr>\n",
       "  </tbody>\n",
       "</table>\n",
       "</div>"
      ],
      "text/plain": [
       "                             name platform  year_of_release    genre  \\\n",
       "0       Call of Duty: Black Ops 3      PS4             2015  Shooter   \n",
       "1              Grand Theft Auto V      PS4             2014   Action   \n",
       "2                         FIFA 16      PS4             2015   Sports   \n",
       "3    Star Wars Battlefront (2015)      PS4             2015  Shooter   \n",
       "4  Call of Duty: Advanced Warfare      PS4             2014  Shooter   \n",
       "\n",
       "   na_sales  eu_sales  jp_sales  other_sales  critic_score  user_score rating  \\\n",
       "0      6.03      5.86      0.36         2.38           NaN         NaN    NaN   \n",
       "1      3.96      6.31      0.38         1.97          97.0         8.3      M   \n",
       "2      1.12      6.12      0.06         1.28          82.0         4.3      E   \n",
       "3      2.99      3.49      0.22         1.28           NaN         NaN    NaN   \n",
       "4      2.81      3.48      0.14         1.23          83.0         5.7      M   \n",
       "\n",
       "   total_sales  \n",
       "0        14.63  \n",
       "1        12.62  \n",
       "2         8.58  \n",
       "3         7.98  \n",
       "4         7.66  "
      ]
     },
     "execution_count": 35,
     "metadata": {},
     "output_type": "execute_result"
    }
   ],
   "source": [
    "# создадим таблицу по одной платформе \n",
    "ps4 = current_data.query('platform == \\'PS4\\'').reset_index(drop=True)\n",
    "ps4.head()"
   ]
  },
  {
   "cell_type": "code",
   "execution_count": 36,
   "metadata": {},
   "outputs": [
    {
     "data": {
      "text/plain": [
       "(392, 12)"
      ]
     },
     "execution_count": 36,
     "metadata": {},
     "output_type": "execute_result"
    }
   ],
   "source": [
    "# проверим размер получившейся таблицы\n",
    "ps4.shape"
   ]
  },
  {
   "cell_type": "markdown",
   "metadata": {},
   "source": [
    "Рассмотрим следующие факторы, которые могут влиять на продажи: рейтинг пользователей и критиков. Для этого построим диаграммы рассеивания и и вычислим коэффициенты корреляции. "
   ]
  },
  {
   "cell_type": "code",
   "execution_count": 37,
   "metadata": {},
   "outputs": [
    {
     "data": {
      "image/png": "[encoded data removed]",
      "text/plain": [
       "<Figure size 432x288 with 1 Axes>"
      ]
     },
     "metadata": {
      "needs_background": "light"
     },
     "output_type": "display_data"
    },
    {
     "name": "stdout",
     "output_type": "stream",
     "text": [
      "Коэффициет корреляции от critic_score: 0.41\n"
     ]
    },
    {
     "data": {
      "image/png": "[encoded data removed]",
      "text/plain": [
       "<Figure size 432x288 with 1 Axes>"
      ]
     },
     "metadata": {
      "needs_background": "light"
     },
     "output_type": "display_data"
    },
    {
     "name": "stdout",
     "output_type": "stream",
     "text": [
      "Коэффициет корреляции от user_score: -0.03\n"
     ]
    }
   ],
   "source": [
    "# строим диаграммы рассеяния\n",
    "# используем цикл по нужным столбцам\n",
    "for col in ['critic_score', 'user_score']:\n",
    "    ps4.plot(x=col, y='total_sales', kind='scatter')\n",
    "    plt.title('Зависимость продаж от {}'.format(col))\n",
    "    plt.show()\n",
    "    print('Коэффициет корреляции от {}: {:.2f}'.format(col, ps4[col].corr(ps4['total_sales'])))"
   ]
  },
  {
   "cell_type": "markdown",
   "metadata": {},
   "source": [
    "По графикам рассеивания и коэффициентам корреляции понятно, что продажи сильнее зависят от оценок критиков, и то это нельзя назвать сильной зависимостью. Пользовательский рейтинг совсем не влияет на продажи или существует другой внешний фактор, который влияет на это. Можно сказать, что рейтинг критиков влияет на верхнюю границу продаж, игры с низким рейтингом не имеют высоких продаж практически никогда. "
   ]
  },
  {
   "cell_type": "markdown",
   "metadata": {},
   "source": [
    "Посмотрим, похожая ли зависимость на других платформах."
   ]
  },
  {
   "cell_type": "code",
   "execution_count": 38,
   "metadata": {},
   "outputs": [
    {
     "data": {
      "text/html": [
       "<div>\n",
       "<style scoped>\n",
       "    .dataframe tbody tr th:only-of-type {\n",
       "        vertical-align: middle;\n",
       "    }\n",
       "\n",
       "    .dataframe tbody tr th {\n",
       "        vertical-align: top;\n",
       "    }\n",
       "\n",
       "    .dataframe thead th {\n",
       "        text-align: right;\n",
       "    }\n",
       "</style>\n",
       "<table border=\"1\" class=\"dataframe\">\n",
       "  <thead>\n",
       "    <tr style=\"text-align: right;\">\n",
       "      <th></th>\n",
       "      <th>critic_score</th>\n",
       "      <th>user_score</th>\n",
       "    </tr>\n",
       "    <tr>\n",
       "      <th>platform</th>\n",
       "      <th></th>\n",
       "      <th></th>\n",
       "    </tr>\n",
       "  </thead>\n",
       "  <tbody>\n",
       "    <tr>\n",
       "      <th>3DS</th>\n",
       "      <td>0.357057</td>\n",
       "      <td>0.241504</td>\n",
       "    </tr>\n",
       "    <tr>\n",
       "      <th>PC</th>\n",
       "      <td>0.196030</td>\n",
       "      <td>-0.093842</td>\n",
       "    </tr>\n",
       "    <tr>\n",
       "      <th>PS3</th>\n",
       "      <td>0.334285</td>\n",
       "      <td>0.002394</td>\n",
       "    </tr>\n",
       "    <tr>\n",
       "      <th>PS4</th>\n",
       "      <td>0.406568</td>\n",
       "      <td>-0.031957</td>\n",
       "    </tr>\n",
       "    <tr>\n",
       "      <th>PSV</th>\n",
       "      <td>0.254742</td>\n",
       "      <td>0.000942</td>\n",
       "    </tr>\n",
       "    <tr>\n",
       "      <th>Wii</th>\n",
       "      <td>NaN</td>\n",
       "      <td>0.682942</td>\n",
       "    </tr>\n",
       "    <tr>\n",
       "      <th>WiiU</th>\n",
       "      <td>0.376415</td>\n",
       "      <td>0.419330</td>\n",
       "    </tr>\n",
       "    <tr>\n",
       "      <th>X360</th>\n",
       "      <td>0.350345</td>\n",
       "      <td>-0.011742</td>\n",
       "    </tr>\n",
       "    <tr>\n",
       "      <th>XOne</th>\n",
       "      <td>0.416998</td>\n",
       "      <td>-0.068925</td>\n",
       "    </tr>\n",
       "  </tbody>\n",
       "</table>\n",
       "</div>"
      ],
      "text/plain": [
       "          critic_score  user_score\n",
       "platform                          \n",
       "3DS           0.357057    0.241504\n",
       "PC            0.196030   -0.093842\n",
       "PS3           0.334285    0.002394\n",
       "PS4           0.406568   -0.031957\n",
       "PSV           0.254742    0.000942\n",
       "Wii                NaN    0.682942\n",
       "WiiU          0.376415    0.419330\n",
       "X360          0.350345   -0.011742\n",
       "XOne          0.416998   -0.068925"
      ]
     },
     "execution_count": 38,
     "metadata": {},
     "output_type": "execute_result"
    }
   ],
   "source": [
    "# используем цикл по нужным столбцам и строкам таблицы с актуальными данными\n",
    "\n",
    "corr_table = []\n",
    "\n",
    "for platform in current_platforms:\n",
    "    # делаем срез по нужной платформе\n",
    "    data_platform = current_data.query('platform == @platform')\n",
    "    corr_list = []\n",
    "    \n",
    "    for col in ['critic_score', 'user_score']:\n",
    "#       # можно построить графики рассеивания\n",
    "#         data_platform.plot(x=col, y='total_sales', kind='scatter')\n",
    "#         plt.title('Зависимость продаж от {} на платформе {}'.format(col, platform))\n",
    "#         plt.show()\n",
    "\n",
    "        # вычисляем коэффициетн корреляции \n",
    "        corr_list.append(data_platform[col].corr(data_platform['total_sales']))\n",
    "        \n",
    "    corr_table.append(corr_list)\n",
    "\n",
    "corr_df = pd.DataFrame(corr_table, columns=['critic_score', 'user_score'], index=current_platforms)\n",
    "corr_df"
   ]
  },
  {
   "cell_type": "markdown",
   "metadata": {},
   "source": [
    "Для наглядности построим график, чтобы сразу увидеть, где корреляция между продажами и рейтингами критиков выше, чем между рейтингами пользователей. "
   ]
  },
  {
   "cell_type": "code",
   "execution_count": 39,
   "metadata": {},
   "outputs": [
    {
     "data": {
      "image/png": "[encoded data removed]",
      "text/plain": [
       "<Figure size 432x288 with 1 Axes>"
      ]
     },
     "metadata": {
      "needs_background": "light"
     },
     "output_type": "display_data"
    }
   ],
   "source": [
    "# строим график по таблице с коэффициентами корреляции \n",
    "corr_df.plot()\n",
    "plt.title('Зависимость продаж от рейтингов')\n",
    "plt.xlabel(\"Платформа\")\n",
    "plt.ylabel(\"Коэффициент корреляции\")\n",
    "plt.show()"
   ]
  },
  {
   "cell_type": "markdown",
   "metadata": {},
   "source": [
    "По графику и таблице четко видно, что продажи больше зависят от оценки критиков. И то, коэффикиент корреляции в любом случае не привышает 0.5, значит зависимость не очень сильная. Единственное исключение составляет платформа WiiU - зависимость от оценки критиков и пользователей очень близка. У платформы Wii самая сильная зависимость от пользовательских оценок, однако нет результатов о зависимости от критиков. Возможно, игры, которые попали в актуальный период не имеют рейтинга критиков. Проверим это. "
   ]
  },
  {
   "cell_type": "code",
   "execution_count": 40,
   "metadata": {},
   "outputs": [
    {
     "data": {
      "text/html": [
       "<div>\n",
       "<style scoped>\n",
       "    .dataframe tbody tr th:only-of-type {\n",
       "        vertical-align: middle;\n",
       "    }\n",
       "\n",
       "    .dataframe tbody tr th {\n",
       "        vertical-align: top;\n",
       "    }\n",
       "\n",
       "    .dataframe thead th {\n",
       "        text-align: right;\n",
       "    }\n",
       "</style>\n",
       "<table border=\"1\" class=\"dataframe\">\n",
       "  <thead>\n",
       "    <tr style=\"text-align: right;\">\n",
       "      <th></th>\n",
       "      <th>critic_score</th>\n",
       "      <th>user_score</th>\n",
       "    </tr>\n",
       "    <tr>\n",
       "      <th>platform</th>\n",
       "      <th></th>\n",
       "      <th></th>\n",
       "    </tr>\n",
       "  </thead>\n",
       "  <tbody>\n",
       "    <tr>\n",
       "      <th>3DS</th>\n",
       "      <td>71</td>\n",
       "      <td>80</td>\n",
       "    </tr>\n",
       "    <tr>\n",
       "      <th>PC</th>\n",
       "      <td>149</td>\n",
       "      <td>155</td>\n",
       "    </tr>\n",
       "    <tr>\n",
       "      <th>PS3</th>\n",
       "      <td>121</td>\n",
       "      <td>186</td>\n",
       "    </tr>\n",
       "    <tr>\n",
       "      <th>PS4</th>\n",
       "      <td>252</td>\n",
       "      <td>257</td>\n",
       "    </tr>\n",
       "    <tr>\n",
       "      <th>PSV</th>\n",
       "      <td>77</td>\n",
       "      <td>99</td>\n",
       "    </tr>\n",
       "    <tr>\n",
       "      <th>Wii</th>\n",
       "      <td>0</td>\n",
       "      <td>7</td>\n",
       "    </tr>\n",
       "    <tr>\n",
       "      <th>WiiU</th>\n",
       "      <td>70</td>\n",
       "      <td>80</td>\n",
       "    </tr>\n",
       "    <tr>\n",
       "      <th>X360</th>\n",
       "      <td>81</td>\n",
       "      <td>143</td>\n",
       "    </tr>\n",
       "    <tr>\n",
       "      <th>XOne</th>\n",
       "      <td>169</td>\n",
       "      <td>182</td>\n",
       "    </tr>\n",
       "  </tbody>\n",
       "</table>\n",
       "</div>"
      ],
      "text/plain": [
       "          critic_score  user_score\n",
       "platform                          \n",
       "3DS                 71          80\n",
       "PC                 149         155\n",
       "PS3                121         186\n",
       "PS4                252         257\n",
       "PSV                 77          99\n",
       "Wii                  0           7\n",
       "WiiU                70          80\n",
       "X360                81         143\n",
       "XOne               169         182"
      ]
     },
     "execution_count": 40,
     "metadata": {},
     "output_type": "execute_result"
    }
   ],
   "source": [
    "current_data.pivot_table(index='platform', values=['critic_score', 'user_score'], aggfunc='count')"
   ]
  },
  {
   "cell_type": "markdown",
   "metadata": {},
   "source": [
    "Действительно нет игр с установленной оценкой критиков и мало игр с оценкой пользователей. Возможно, поэтому коэффициент корреляции высокий."
   ]
  },
  {
   "cell_type": "markdown",
   "metadata": {},
   "source": [
    "### Распредение игр по жанрам"
   ]
  },
  {
   "cell_type": "markdown",
   "metadata": {},
   "source": [
    "Рассмотрим на распределение продаж среди разных игровы жанров. Так как нас интересует не суммарное количество продаж, а скорее среднее количество продаж за каждую игру жанра, возьмём медианное значение продаж. "
   ]
  },
  {
   "cell_type": "code",
   "execution_count": 41,
   "metadata": {},
   "outputs": [
    {
     "data": {
      "text/html": [
       "<div>\n",
       "<style scoped>\n",
       "    .dataframe tbody tr th:only-of-type {\n",
       "        vertical-align: middle;\n",
       "    }\n",
       "\n",
       "    .dataframe tbody tr th {\n",
       "        vertical-align: top;\n",
       "    }\n",
       "\n",
       "    .dataframe thead th {\n",
       "        text-align: right;\n",
       "    }\n",
       "</style>\n",
       "<table border=\"1\" class=\"dataframe\">\n",
       "  <thead>\n",
       "    <tr style=\"text-align: right;\">\n",
       "      <th></th>\n",
       "      <th>name</th>\n",
       "      <th>platform</th>\n",
       "      <th>year_of_release</th>\n",
       "      <th>genre</th>\n",
       "      <th>na_sales</th>\n",
       "      <th>eu_sales</th>\n",
       "      <th>jp_sales</th>\n",
       "      <th>other_sales</th>\n",
       "      <th>critic_score</th>\n",
       "      <th>user_score</th>\n",
       "      <th>rating</th>\n",
       "      <th>total_sales</th>\n",
       "    </tr>\n",
       "  </thead>\n",
       "  <tbody>\n",
       "    <tr>\n",
       "      <th>0</th>\n",
       "      <td>Grand Theft Auto V</td>\n",
       "      <td>PS3</td>\n",
       "      <td>2013</td>\n",
       "      <td>Action</td>\n",
       "      <td>7.02</td>\n",
       "      <td>9.09</td>\n",
       "      <td>0.98</td>\n",
       "      <td>3.96</td>\n",
       "      <td>97.0</td>\n",
       "      <td>8.2</td>\n",
       "      <td>M</td>\n",
       "      <td>21.05</td>\n",
       "    </tr>\n",
       "    <tr>\n",
       "      <th>1</th>\n",
       "      <td>Grand Theft Auto V</td>\n",
       "      <td>X360</td>\n",
       "      <td>2013</td>\n",
       "      <td>Action</td>\n",
       "      <td>9.66</td>\n",
       "      <td>5.14</td>\n",
       "      <td>0.06</td>\n",
       "      <td>1.41</td>\n",
       "      <td>97.0</td>\n",
       "      <td>8.1</td>\n",
       "      <td>M</td>\n",
       "      <td>16.27</td>\n",
       "    </tr>\n",
       "    <tr>\n",
       "      <th>2</th>\n",
       "      <td>Call of Duty: Black Ops 3</td>\n",
       "      <td>PS4</td>\n",
       "      <td>2015</td>\n",
       "      <td>Shooter</td>\n",
       "      <td>6.03</td>\n",
       "      <td>5.86</td>\n",
       "      <td>0.36</td>\n",
       "      <td>2.38</td>\n",
       "      <td>NaN</td>\n",
       "      <td>NaN</td>\n",
       "      <td>NaN</td>\n",
       "      <td>14.63</td>\n",
       "    </tr>\n",
       "    <tr>\n",
       "      <th>3</th>\n",
       "      <td>Pokemon X/Pokemon Y</td>\n",
       "      <td>3DS</td>\n",
       "      <td>2013</td>\n",
       "      <td>Role-Playing</td>\n",
       "      <td>5.28</td>\n",
       "      <td>4.19</td>\n",
       "      <td>4.35</td>\n",
       "      <td>0.78</td>\n",
       "      <td>NaN</td>\n",
       "      <td>NaN</td>\n",
       "      <td>NaN</td>\n",
       "      <td>14.60</td>\n",
       "    </tr>\n",
       "    <tr>\n",
       "      <th>4</th>\n",
       "      <td>Grand Theft Auto V</td>\n",
       "      <td>PS4</td>\n",
       "      <td>2014</td>\n",
       "      <td>Action</td>\n",
       "      <td>3.96</td>\n",
       "      <td>6.31</td>\n",
       "      <td>0.38</td>\n",
       "      <td>1.97</td>\n",
       "      <td>97.0</td>\n",
       "      <td>8.3</td>\n",
       "      <td>M</td>\n",
       "      <td>12.62</td>\n",
       "    </tr>\n",
       "  </tbody>\n",
       "</table>\n",
       "</div>"
      ],
      "text/plain": [
       "                        name platform  year_of_release         genre  \\\n",
       "0         Grand Theft Auto V      PS3             2013        Action   \n",
       "1         Grand Theft Auto V     X360             2013        Action   \n",
       "2  Call of Duty: Black Ops 3      PS4             2015       Shooter   \n",
       "3        Pokemon X/Pokemon Y      3DS             2013  Role-Playing   \n",
       "4         Grand Theft Auto V      PS4             2014        Action   \n",
       "\n",
       "   na_sales  eu_sales  jp_sales  other_sales  critic_score  user_score rating  \\\n",
       "0      7.02      9.09      0.98         3.96          97.0         8.2      M   \n",
       "1      9.66      5.14      0.06         1.41          97.0         8.1      M   \n",
       "2      6.03      5.86      0.36         2.38           NaN         NaN    NaN   \n",
       "3      5.28      4.19      4.35         0.78           NaN         NaN    NaN   \n",
       "4      3.96      6.31      0.38         1.97          97.0         8.3      M   \n",
       "\n",
       "   total_sales  \n",
       "0        21.05  \n",
       "1        16.27  \n",
       "2        14.63  \n",
       "3        14.60  \n",
       "4        12.62  "
      ]
     },
     "execution_count": 41,
     "metadata": {},
     "output_type": "execute_result"
    }
   ],
   "source": [
    "# обновим индексы \n",
    "current_data = current_data.reset_index(drop=True)\n",
    "current_data.head()"
   ]
  },
  {
   "cell_type": "code",
   "execution_count": 42,
   "metadata": {},
   "outputs": [
    {
     "data": {
      "text/html": [
       "<div>\n",
       "<style scoped>\n",
       "    .dataframe tbody tr th:only-of-type {\n",
       "        vertical-align: middle;\n",
       "    }\n",
       "\n",
       "    .dataframe tbody tr th {\n",
       "        vertical-align: top;\n",
       "    }\n",
       "\n",
       "    .dataframe thead tr th {\n",
       "        text-align: left;\n",
       "    }\n",
       "\n",
       "    .dataframe thead tr:last-of-type th {\n",
       "        text-align: right;\n",
       "    }\n",
       "</style>\n",
       "<table border=\"1\" class=\"dataframe\">\n",
       "  <thead>\n",
       "    <tr>\n",
       "      <th></th>\n",
       "      <th>median</th>\n",
       "      <th>sum</th>\n",
       "    </tr>\n",
       "    <tr>\n",
       "      <th></th>\n",
       "      <th>total_sales</th>\n",
       "      <th>total_sales</th>\n",
       "    </tr>\n",
       "    <tr>\n",
       "      <th>genre</th>\n",
       "      <th></th>\n",
       "      <th></th>\n",
       "    </tr>\n",
       "  </thead>\n",
       "  <tbody>\n",
       "    <tr>\n",
       "      <th>Shooter</th>\n",
       "      <td>0.450</td>\n",
       "      <td>232.98</td>\n",
       "    </tr>\n",
       "    <tr>\n",
       "      <th>Sports</th>\n",
       "      <td>0.250</td>\n",
       "      <td>149.93</td>\n",
       "    </tr>\n",
       "    <tr>\n",
       "      <th>Platform</th>\n",
       "      <td>0.225</td>\n",
       "      <td>41.94</td>\n",
       "    </tr>\n",
       "    <tr>\n",
       "      <th>Fighting</th>\n",
       "      <td>0.130</td>\n",
       "      <td>35.29</td>\n",
       "    </tr>\n",
       "    <tr>\n",
       "      <th>Role-Playing</th>\n",
       "      <td>0.120</td>\n",
       "      <td>144.86</td>\n",
       "    </tr>\n",
       "    <tr>\n",
       "      <th>Racing</th>\n",
       "      <td>0.120</td>\n",
       "      <td>39.89</td>\n",
       "    </tr>\n",
       "    <tr>\n",
       "      <th>Misc</th>\n",
       "      <td>0.115</td>\n",
       "      <td>62.57</td>\n",
       "    </tr>\n",
       "    <tr>\n",
       "      <th>Action</th>\n",
       "      <td>0.110</td>\n",
       "      <td>320.51</td>\n",
       "    </tr>\n",
       "    <tr>\n",
       "      <th>Simulation</th>\n",
       "      <td>0.100</td>\n",
       "      <td>21.55</td>\n",
       "    </tr>\n",
       "    <tr>\n",
       "      <th>Strategy</th>\n",
       "      <td>0.080</td>\n",
       "      <td>10.06</td>\n",
       "    </tr>\n",
       "    <tr>\n",
       "      <th>Puzzle</th>\n",
       "      <td>0.060</td>\n",
       "      <td>3.17</td>\n",
       "    </tr>\n",
       "    <tr>\n",
       "      <th>Adventure</th>\n",
       "      <td>0.030</td>\n",
       "      <td>22.90</td>\n",
       "    </tr>\n",
       "  </tbody>\n",
       "</table>\n",
       "</div>"
      ],
      "text/plain": [
       "                  median         sum\n",
       "             total_sales total_sales\n",
       "genre                               \n",
       "Shooter            0.450      232.98\n",
       "Sports             0.250      149.93\n",
       "Platform           0.225       41.94\n",
       "Fighting           0.130       35.29\n",
       "Role-Playing       0.120      144.86\n",
       "Racing             0.120       39.89\n",
       "Misc               0.115       62.57\n",
       "Action             0.110      320.51\n",
       "Simulation         0.100       21.55\n",
       "Strategy           0.080       10.06\n",
       "Puzzle             0.060        3.17\n",
       "Adventure          0.030       22.90"
      ]
     },
     "execution_count": 42,
     "metadata": {},
     "output_type": "execute_result"
    }
   ],
   "source": [
    "# сводная таблица со средним и суммарным количеством продаж по жанрам\n",
    "current_data.pivot_table(index='genre',\n",
    "                         values='total_sales',\n",
    "                         aggfunc=['median', 'sum']).sort_values(by=('median', 'total_sales'), ascending=False)"
   ]
  },
  {
   "cell_type": "markdown",
   "metadata": {},
   "source": [
    "По таблице видно, что самый стабильно продаваемый игровой жанр - это шутеры. Средние продажи этого жанра почти в два раза больше, чем, например, спорт. Самые непродаваемые жанры игр в актуальные период - это стратегии, головоломки и приключения.\n",
    "\n",
    "Интересно, что по суммарным продажам лидирует жанр action, значит эти продажи обеспечило мало количество игр, тогда как большинство всё-таки не популярны. А вот шутеры приносят стабильно большие продажи и в сумме тоже. "
   ]
  },
  {
   "cell_type": "markdown",
   "metadata": {},
   "source": [
    "### Вывод\n",
    "\n",
    "Выделеный актуальный период начинается с 2011 года. Самыми перспектривными платформами являются  PS4 и XOne. Количество продаж в актуальный период не зависит от пользовательских оценок и н=несильно зависит от оценки критиков. Самым стабильно продаваемым жанром компьютерных игр является шутеры. "
   ]
  },
  {
   "cell_type": "markdown",
   "metadata": {},
   "source": [
    "## Портрет пользователей разных регионов\n",
    "\n",
    "Рассмотрим продажи игр в разных регионах: NA, EU, JP. \n",
    "\n",
    "### Самые популярные платформы\n",
    "\n",
    "Сначала определим самые популярные платформы. "
   ]
  },
  {
   "cell_type": "code",
   "execution_count": 43,
   "metadata": {},
   "outputs": [
    {
     "data": {
      "image/png": "[encoded data removed]",
      "text/plain": [
       "<Figure size 432x432 with 1 Axes>"
      ]
     },
     "metadata": {},
     "output_type": "display_data"
    },
    {
     "data": {
      "text/html": [
       "<div>\n",
       "<style scoped>\n",
       "    .dataframe tbody tr th:only-of-type {\n",
       "        vertical-align: middle;\n",
       "    }\n",
       "\n",
       "    .dataframe tbody tr th {\n",
       "        vertical-align: top;\n",
       "    }\n",
       "\n",
       "    .dataframe thead th {\n",
       "        text-align: right;\n",
       "    }\n",
       "</style>\n",
       "<table border=\"1\" class=\"dataframe\">\n",
       "  <thead>\n",
       "    <tr style=\"text-align: right;\">\n",
       "      <th></th>\n",
       "      <th>na_sales</th>\n",
       "      <th>ratio, %</th>\n",
       "    </tr>\n",
       "    <tr>\n",
       "      <th>platform</th>\n",
       "      <th></th>\n",
       "      <th></th>\n",
       "    </tr>\n",
       "  </thead>\n",
       "  <tbody>\n",
       "    <tr>\n",
       "      <th>PS4</th>\n",
       "      <td>108.74</td>\n",
       "      <td>25.0</td>\n",
       "    </tr>\n",
       "    <tr>\n",
       "      <th>XOne</th>\n",
       "      <td>93.12</td>\n",
       "      <td>21.0</td>\n",
       "    </tr>\n",
       "    <tr>\n",
       "      <th>X360</th>\n",
       "      <td>81.66</td>\n",
       "      <td>19.0</td>\n",
       "    </tr>\n",
       "    <tr>\n",
       "      <th>PS3</th>\n",
       "      <td>63.50</td>\n",
       "      <td>15.0</td>\n",
       "    </tr>\n",
       "    <tr>\n",
       "      <th>3DS</th>\n",
       "      <td>38.20</td>\n",
       "      <td>9.0</td>\n",
       "    </tr>\n",
       "  </tbody>\n",
       "</table>\n",
       "</div>"
      ],
      "text/plain": [
       "          na_sales  ratio, %\n",
       "platform                    \n",
       "PS4         108.74      25.0\n",
       "XOne         93.12      21.0\n",
       "X360         81.66      19.0\n",
       "PS3          63.50      15.0\n",
       "3DS          38.20       9.0"
      ]
     },
     "metadata": {},
     "output_type": "display_data"
    },
    {
     "data": {
      "image/png": "[encoded data removed]",
      "text/plain": [
       "<Figure size 432x432 with 1 Axes>"
      ]
     },
     "metadata": {},
     "output_type": "display_data"
    },
    {
     "data": {
      "text/html": [
       "<div>\n",
       "<style scoped>\n",
       "    .dataframe tbody tr th:only-of-type {\n",
       "        vertical-align: middle;\n",
       "    }\n",
       "\n",
       "    .dataframe tbody tr th {\n",
       "        vertical-align: top;\n",
       "    }\n",
       "\n",
       "    .dataframe thead th {\n",
       "        text-align: right;\n",
       "    }\n",
       "</style>\n",
       "<table border=\"1\" class=\"dataframe\">\n",
       "  <thead>\n",
       "    <tr style=\"text-align: right;\">\n",
       "      <th></th>\n",
       "      <th>eu_sales</th>\n",
       "      <th>ratio, %</th>\n",
       "    </tr>\n",
       "    <tr>\n",
       "      <th>platform</th>\n",
       "      <th></th>\n",
       "      <th></th>\n",
       "    </tr>\n",
       "  </thead>\n",
       "  <tbody>\n",
       "    <tr>\n",
       "      <th>PS4</th>\n",
       "      <td>141.09</td>\n",
       "      <td>36.0</td>\n",
       "    </tr>\n",
       "    <tr>\n",
       "      <th>PS3</th>\n",
       "      <td>67.81</td>\n",
       "      <td>17.0</td>\n",
       "    </tr>\n",
       "    <tr>\n",
       "      <th>XOne</th>\n",
       "      <td>51.59</td>\n",
       "      <td>13.0</td>\n",
       "    </tr>\n",
       "    <tr>\n",
       "      <th>X360</th>\n",
       "      <td>42.52</td>\n",
       "      <td>11.0</td>\n",
       "    </tr>\n",
       "    <tr>\n",
       "      <th>3DS</th>\n",
       "      <td>30.96</td>\n",
       "      <td>8.0</td>\n",
       "    </tr>\n",
       "  </tbody>\n",
       "</table>\n",
       "</div>"
      ],
      "text/plain": [
       "          eu_sales  ratio, %\n",
       "platform                    \n",
       "PS4         141.09      36.0\n",
       "PS3          67.81      17.0\n",
       "XOne         51.59      13.0\n",
       "X360         42.52      11.0\n",
       "3DS          30.96       8.0"
      ]
     },
     "metadata": {},
     "output_type": "display_data"
    },
    {
     "data": {
      "image/png": "[encoded data removed]",
      "text/plain": [
       "<Figure size 432x432 with 1 Axes>"
      ]
     },
     "metadata": {},
     "output_type": "display_data"
    },
    {
     "data": {
      "text/html": [
       "<div>\n",
       "<style scoped>\n",
       "    .dataframe tbody tr th:only-of-type {\n",
       "        vertical-align: middle;\n",
       "    }\n",
       "\n",
       "    .dataframe tbody tr th {\n",
       "        vertical-align: top;\n",
       "    }\n",
       "\n",
       "    .dataframe thead th {\n",
       "        text-align: right;\n",
       "    }\n",
       "</style>\n",
       "<table border=\"1\" class=\"dataframe\">\n",
       "  <thead>\n",
       "    <tr style=\"text-align: right;\">\n",
       "      <th></th>\n",
       "      <th>jp_sales</th>\n",
       "      <th>ratio, %</th>\n",
       "    </tr>\n",
       "    <tr>\n",
       "      <th>platform</th>\n",
       "      <th></th>\n",
       "      <th></th>\n",
       "    </tr>\n",
       "  </thead>\n",
       "  <tbody>\n",
       "    <tr>\n",
       "      <th>3DS</th>\n",
       "      <td>67.81</td>\n",
       "      <td>49.0</td>\n",
       "    </tr>\n",
       "    <tr>\n",
       "      <th>PS3</th>\n",
       "      <td>23.35</td>\n",
       "      <td>17.0</td>\n",
       "    </tr>\n",
       "    <tr>\n",
       "      <th>PSV</th>\n",
       "      <td>18.59</td>\n",
       "      <td>14.0</td>\n",
       "    </tr>\n",
       "    <tr>\n",
       "      <th>PS4</th>\n",
       "      <td>15.96</td>\n",
       "      <td>12.0</td>\n",
       "    </tr>\n",
       "    <tr>\n",
       "      <th>WiiU</th>\n",
       "      <td>10.88</td>\n",
       "      <td>8.0</td>\n",
       "    </tr>\n",
       "  </tbody>\n",
       "</table>\n",
       "</div>"
      ],
      "text/plain": [
       "          jp_sales  ratio, %\n",
       "platform                    \n",
       "3DS          67.81      49.0\n",
       "PS3          23.35      17.0\n",
       "PSV          18.59      14.0\n",
       "PS4          15.96      12.0\n",
       "WiiU         10.88       8.0"
      ]
     },
     "metadata": {},
     "output_type": "display_data"
    }
   ],
   "source": [
    "# по столбцам с регионами посчитаем долю продаж\n",
    "for col in ['na_sales','eu_sales','jp_sales']:\n",
    "    # сумма по сгруппированным по платформе продажам\n",
    "    table = current_data.groupby('platform').sum()[[col]]\n",
    "    table['ratio, %'] = np.round(table / current_data[col].sum() * 100)\n",
    "    table = table.sort_values(by=col, ascending=False)\n",
    "    table[col].plot(kind='pie', autopct='%1.0f%%', figsize=(6, 6))\n",
    "    plt.title(f'Доли продаж платформ по столбцу {col}')\n",
    "    plt.show()\n",
    "    display(table.head())"
   ]
  },
  {
   "cell_type": "markdown",
   "metadata": {},
   "source": [
    "Самой популярной регионов Северная Америка и Европа можно назвать платформу PS4 - она составляет в каждом регионе больше 25% продаж. Также в каждый регион в топ попали платформы PS3 и 3DS, однако в каждой регионе у них сильно отличается процент продаж, например продажи платформы 3DS в Японии составляют почти 50% от всех продаж, тогда как в остальных регионах - не больше 10%. В той же Японии продажи X360 и XOne почти отсутствуют (судя по круговой диаграмме), хотя в других регионах эти платформы входят в топ."
   ]
  },
  {
   "cell_type": "markdown",
   "metadata": {},
   "source": [
    "### Самые популярные жанры \n",
    "\n",
    "Теперь найдём самые популярные жанры игр. Также найдем долю продаж по жанрам."
   ]
  },
  {
   "cell_type": "code",
   "execution_count": 44,
   "metadata": {},
   "outputs": [
    {
     "data": {
      "image/png": "[encoded data removed]",
      "text/plain": [
       "<Figure size 432x432 with 1 Axes>"
      ]
     },
     "metadata": {},
     "output_type": "display_data"
    },
    {
     "data": {
      "text/html": [
       "<div>\n",
       "<style scoped>\n",
       "    .dataframe tbody tr th:only-of-type {\n",
       "        vertical-align: middle;\n",
       "    }\n",
       "\n",
       "    .dataframe tbody tr th {\n",
       "        vertical-align: top;\n",
       "    }\n",
       "\n",
       "    .dataframe thead th {\n",
       "        text-align: right;\n",
       "    }\n",
       "</style>\n",
       "<table border=\"1\" class=\"dataframe\">\n",
       "  <thead>\n",
       "    <tr style=\"text-align: right;\">\n",
       "      <th></th>\n",
       "      <th>na_sales</th>\n",
       "      <th>ratio, %</th>\n",
       "    </tr>\n",
       "    <tr>\n",
       "      <th>genre</th>\n",
       "      <th></th>\n",
       "      <th></th>\n",
       "    </tr>\n",
       "  </thead>\n",
       "  <tbody>\n",
       "    <tr>\n",
       "      <th>Action</th>\n",
       "      <td>125.83</td>\n",
       "      <td>29.0</td>\n",
       "    </tr>\n",
       "    <tr>\n",
       "      <th>Shooter</th>\n",
       "      <td>109.74</td>\n",
       "      <td>25.0</td>\n",
       "    </tr>\n",
       "    <tr>\n",
       "      <th>Sports</th>\n",
       "      <td>65.27</td>\n",
       "      <td>15.0</td>\n",
       "    </tr>\n",
       "    <tr>\n",
       "      <th>Role-Playing</th>\n",
       "      <td>46.40</td>\n",
       "      <td>11.0</td>\n",
       "    </tr>\n",
       "    <tr>\n",
       "      <th>Misc</th>\n",
       "      <td>27.46</td>\n",
       "      <td>6.0</td>\n",
       "    </tr>\n",
       "  </tbody>\n",
       "</table>\n",
       "</div>"
      ],
      "text/plain": [
       "              na_sales  ratio, %\n",
       "genre                           \n",
       "Action          125.83      29.0\n",
       "Shooter         109.74      25.0\n",
       "Sports           65.27      15.0\n",
       "Role-Playing     46.40      11.0\n",
       "Misc             27.46       6.0"
      ]
     },
     "metadata": {},
     "output_type": "display_data"
    },
    {
     "data": {
      "image/png": "[encoded data removed]",
      "text/plain": [
       "<Figure size 432x432 with 1 Axes>"
      ]
     },
     "metadata": {},
     "output_type": "display_data"
    },
    {
     "data": {
      "text/html": [
       "<div>\n",
       "<style scoped>\n",
       "    .dataframe tbody tr th:only-of-type {\n",
       "        vertical-align: middle;\n",
       "    }\n",
       "\n",
       "    .dataframe tbody tr th {\n",
       "        vertical-align: top;\n",
       "    }\n",
       "\n",
       "    .dataframe thead th {\n",
       "        text-align: right;\n",
       "    }\n",
       "</style>\n",
       "<table border=\"1\" class=\"dataframe\">\n",
       "  <thead>\n",
       "    <tr style=\"text-align: right;\">\n",
       "      <th></th>\n",
       "      <th>eu_sales</th>\n",
       "      <th>ratio, %</th>\n",
       "    </tr>\n",
       "    <tr>\n",
       "      <th>genre</th>\n",
       "      <th></th>\n",
       "      <th></th>\n",
       "    </tr>\n",
       "  </thead>\n",
       "  <tbody>\n",
       "    <tr>\n",
       "      <th>Action</th>\n",
       "      <td>117.87</td>\n",
       "      <td>30.0</td>\n",
       "    </tr>\n",
       "    <tr>\n",
       "      <th>Shooter</th>\n",
       "      <td>87.86</td>\n",
       "      <td>22.0</td>\n",
       "    </tr>\n",
       "    <tr>\n",
       "      <th>Sports</th>\n",
       "      <td>60.34</td>\n",
       "      <td>15.0</td>\n",
       "    </tr>\n",
       "    <tr>\n",
       "      <th>Role-Playing</th>\n",
       "      <td>36.97</td>\n",
       "      <td>9.0</td>\n",
       "    </tr>\n",
       "    <tr>\n",
       "      <th>Racing</th>\n",
       "      <td>20.19</td>\n",
       "      <td>5.0</td>\n",
       "    </tr>\n",
       "  </tbody>\n",
       "</table>\n",
       "</div>"
      ],
      "text/plain": [
       "              eu_sales  ratio, %\n",
       "genre                           \n",
       "Action          117.87      30.0\n",
       "Shooter          87.86      22.0\n",
       "Sports           60.34      15.0\n",
       "Role-Playing     36.97       9.0\n",
       "Racing           20.19       5.0"
      ]
     },
     "metadata": {},
     "output_type": "display_data"
    },
    {
     "data": {
      "image/png": "[encoded data removed]",
      "text/plain": [
       "<Figure size 432x432 with 1 Axes>"
      ]
     },
     "metadata": {},
     "output_type": "display_data"
    },
    {
     "data": {
      "text/html": [
       "<div>\n",
       "<style scoped>\n",
       "    .dataframe tbody tr th:only-of-type {\n",
       "        vertical-align: middle;\n",
       "    }\n",
       "\n",
       "    .dataframe tbody tr th {\n",
       "        vertical-align: top;\n",
       "    }\n",
       "\n",
       "    .dataframe thead th {\n",
       "        text-align: right;\n",
       "    }\n",
       "</style>\n",
       "<table border=\"1\" class=\"dataframe\">\n",
       "  <thead>\n",
       "    <tr style=\"text-align: right;\">\n",
       "      <th></th>\n",
       "      <th>jp_sales</th>\n",
       "      <th>ratio, %</th>\n",
       "    </tr>\n",
       "    <tr>\n",
       "      <th>genre</th>\n",
       "      <th></th>\n",
       "      <th></th>\n",
       "    </tr>\n",
       "  </thead>\n",
       "  <tbody>\n",
       "    <tr>\n",
       "      <th>Role-Playing</th>\n",
       "      <td>50.01</td>\n",
       "      <td>36.0</td>\n",
       "    </tr>\n",
       "    <tr>\n",
       "      <th>Action</th>\n",
       "      <td>39.65</td>\n",
       "      <td>29.0</td>\n",
       "    </tr>\n",
       "    <tr>\n",
       "      <th>Misc</th>\n",
       "      <td>9.03</td>\n",
       "      <td>7.0</td>\n",
       "    </tr>\n",
       "    <tr>\n",
       "      <th>Fighting</th>\n",
       "      <td>7.63</td>\n",
       "      <td>6.0</td>\n",
       "    </tr>\n",
       "    <tr>\n",
       "      <th>Shooter</th>\n",
       "      <td>6.61</td>\n",
       "      <td>5.0</td>\n",
       "    </tr>\n",
       "  </tbody>\n",
       "</table>\n",
       "</div>"
      ],
      "text/plain": [
       "              jp_sales  ratio, %\n",
       "genre                           \n",
       "Role-Playing     50.01      36.0\n",
       "Action           39.65      29.0\n",
       "Misc              9.03       7.0\n",
       "Fighting          7.63       6.0\n",
       "Shooter           6.61       5.0"
      ]
     },
     "metadata": {},
     "output_type": "display_data"
    }
   ],
   "source": [
    "# по столбцам с регионами посчитаем долю продаж\n",
    "for col in ['na_sales','eu_sales','jp_sales']:\n",
    "    # сумма по сгруппированным по платформе продажам\n",
    "    table = current_data.groupby('genre').sum()[[col]]\n",
    "    table['ratio, %'] = np.round(table / current_data[col].sum() * 100)\n",
    "    table = table.sort_values(by=col, ascending=False)\n",
    "    table[col].plot(kind='pie', autopct='%1.0f%%', figsize=(6, 6))\n",
    "    plt.title(f'Доли продаж жанров по столбцу {col}')\n",
    "    plt.show()\n",
    "    display(table.head())"
   ]
  },
  {
   "cell_type": "markdown",
   "metadata": {},
   "source": [
    "Жанр игр Action является одним из самых популярных в этих регионах. Он входит в топ каждого региона и составляет больше 29-30% всех продаж в каждом. Также популярным является жанр Shooter, однако в Японии он составляет только 5% продаж, тогда как в других регионах больше 20%. В Японии самым популярным жаном считается Role-Playing (36% продаж), в других регионах процент не превышает 11%. Популярный в Северной Америке и Европе жанр Sport в Японии даже не входит в топ. "
   ]
  },
  {
   "cell_type": "markdown",
   "metadata": {},
   "source": [
    "### Влияние рейтинга ESRB на продажи в регионах "
   ]
  },
  {
   "cell_type": "markdown",
   "metadata": {},
   "source": [
    "Посмотрим общую информацию о данных за актуальный период."
   ]
  },
  {
   "cell_type": "code",
   "execution_count": 45,
   "metadata": {},
   "outputs": [
    {
     "name": "stdout",
     "output_type": "stream",
     "text": [
      "<class 'pandas.core.frame.DataFrame'>\n",
      "RangeIndex: 2158 entries, 0 to 2157\n",
      "Data columns (total 12 columns):\n",
      " #   Column           Non-Null Count  Dtype  \n",
      "---  ------           --------------  -----  \n",
      " 0   name             2158 non-null   object \n",
      " 1   platform         2158 non-null   object \n",
      " 2   year_of_release  2158 non-null   Int64  \n",
      " 3   genre            2158 non-null   object \n",
      " 4   na_sales         2158 non-null   float64\n",
      " 5   eu_sales         2158 non-null   float64\n",
      " 6   jp_sales         2158 non-null   float64\n",
      " 7   other_sales      2158 non-null   float64\n",
      " 8   critic_score     990 non-null    float64\n",
      " 9   user_score       1189 non-null   float64\n",
      " 10  rating           1247 non-null   object \n",
      " 11  total_sales      2158 non-null   float64\n",
      "dtypes: Int64(1), float64(7), object(4)\n",
      "memory usage: 204.5+ KB\n"
     ]
    }
   ],
   "source": [
    "# посмотрим общую информацию о таблице\n",
    "current_data.info()"
   ]
  },
  {
   "cell_type": "markdown",
   "metadata": {},
   "source": [
    "Видно, что в столбце с рейтингом есть пропуски. Скорее всего это те игры, где рейтинг ещё не определён. Чтобы эти пропуски не повлияли на наше исследование, заменим из на неопределённый рейтинг \"not defined\". "
   ]
  },
  {
   "cell_type": "code",
   "execution_count": 46,
   "metadata": {},
   "outputs": [],
   "source": [
    "# заполним пропуски\n",
    "current_data['rating'] = current_data['rating'].fillna('not defined')"
   ]
  },
  {
   "cell_type": "code",
   "execution_count": 47,
   "metadata": {},
   "outputs": [
    {
     "data": {
      "text/plain": [
       "not defined    911\n",
       "M              369\n",
       "T              332\n",
       "E              296\n",
       "E10+           250\n",
       "Name: rating, dtype: int64"
      ]
     },
     "execution_count": 47,
     "metadata": {},
     "output_type": "execute_result"
    }
   ],
   "source": [
    "# посмотрим сколько рейтингов есть в таблице\n",
    "current_data['rating'].value_counts()"
   ]
  },
  {
   "cell_type": "markdown",
   "metadata": {},
   "source": [
    "Так же есть одно поле в таблице с ожидаемым рейтингом, и чтобы не портить график, мы тоже заменим это значение на \"not defined\". "
   ]
  },
  {
   "cell_type": "code",
   "execution_count": 48,
   "metadata": {},
   "outputs": [],
   "source": [
    "# изменим значения полей \n",
    "current_data['rating'] = current_data['rating'].replace({'RP': 'not defined'})"
   ]
  },
  {
   "cell_type": "code",
   "execution_count": 49,
   "metadata": {},
   "outputs": [
    {
     "data": {
      "text/html": [
       "<div>\n",
       "<style scoped>\n",
       "    .dataframe tbody tr th:only-of-type {\n",
       "        vertical-align: middle;\n",
       "    }\n",
       "\n",
       "    .dataframe tbody tr th {\n",
       "        vertical-align: top;\n",
       "    }\n",
       "\n",
       "    .dataframe thead th {\n",
       "        text-align: right;\n",
       "    }\n",
       "</style>\n",
       "<table border=\"1\" class=\"dataframe\">\n",
       "  <thead>\n",
       "    <tr style=\"text-align: right;\">\n",
       "      <th></th>\n",
       "      <th>eu_sales</th>\n",
       "      <th>jp_sales</th>\n",
       "      <th>na_sales</th>\n",
       "    </tr>\n",
       "    <tr>\n",
       "      <th>rating</th>\n",
       "      <th></th>\n",
       "      <th></th>\n",
       "      <th></th>\n",
       "    </tr>\n",
       "  </thead>\n",
       "  <tbody>\n",
       "    <tr>\n",
       "      <th>E</th>\n",
       "      <td>82.80</td>\n",
       "      <td>15.00</td>\n",
       "      <td>78.94</td>\n",
       "    </tr>\n",
       "    <tr>\n",
       "      <th>E10+</th>\n",
       "      <td>42.53</td>\n",
       "      <td>5.89</td>\n",
       "      <td>54.02</td>\n",
       "    </tr>\n",
       "    <tr>\n",
       "      <th>M</th>\n",
       "      <td>145.32</td>\n",
       "      <td>14.11</td>\n",
       "      <td>165.21</td>\n",
       "    </tr>\n",
       "    <tr>\n",
       "      <th>T</th>\n",
       "      <td>41.95</td>\n",
       "      <td>20.44</td>\n",
       "      <td>49.79</td>\n",
       "    </tr>\n",
       "    <tr>\n",
       "      <th>not defined</th>\n",
       "      <td>78.61</td>\n",
       "      <td>82.05</td>\n",
       "      <td>89.18</td>\n",
       "    </tr>\n",
       "  </tbody>\n",
       "</table>\n",
       "</div>"
      ],
      "text/plain": [
       "             eu_sales  jp_sales  na_sales\n",
       "rating                                   \n",
       "E               82.80     15.00     78.94\n",
       "E10+            42.53      5.89     54.02\n",
       "M              145.32     14.11    165.21\n",
       "T               41.95     20.44     49.79\n",
       "not defined     78.61     82.05     89.18"
      ]
     },
     "metadata": {},
     "output_type": "display_data"
    },
    {
     "data": {
      "image/png": "[encoded data removed]",
      "text/plain": [
       "<Figure size 432x288 with 1 Axes>"
      ]
     },
     "metadata": {
      "needs_background": "light"
     },
     "output_type": "display_data"
    }
   ],
   "source": [
    "# создадим сводную таблицу и по ней построим график\n",
    "pivot_rating = current_data.pivot_table(index='rating', values=['na_sales','eu_sales','jp_sales'], aggfunc='sum')\n",
    "display(pivot_rating)\n",
    "pivot_rating.plot(grid=True)\n",
    "plt.title('Cумма продаж в регионе по рейтингу')\n",
    "plt.xlabel(\"Рейтинг\")\n",
    "plt.ylabel(\"Миллионы проданных копий\")\n",
    "plt.show()"
   ]
  },
  {
   "cell_type": "markdown",
   "metadata": {},
   "source": [
    "Судя по графику, рейтинг М является самым популярным по продажам в Северной Америке и Европе. Однако в Японии чаще продаются игры с рейтингом Е и Т (если не брать в рассчёт неопределённый рейтинг). Самые малопродаваемые игры во всех регионах имеют рейтинг Е10+, в Северной Америке и Европе рейтинг Т не популярен, в отличии от Японии."
   ]
  },
  {
   "cell_type": "markdown",
   "metadata": {},
   "source": [
    "### Вывод \n",
    "\n",
    "**Северная Америка** \n",
    "\n",
    "*Топ-5 популярных платформ:* \n",
    "1. PS4\n",
    "2. XOne\n",
    "3. X360\n",
    "4. PS3\n",
    "5. 3DS\t\n",
    "\n",
    "*Топ-5 популярных жанров:*\n",
    "1. Action\n",
    "2. Shooter\n",
    "3. Sports\n",
    "4. Role-Playing\n",
    "5. Misc\n",
    "\n",
    "*Самый распространённых рейтинг игр*: **М** (от 17 лет)  \n",
    "\n",
    "**Европа** \n",
    "\n",
    "*Топ-5 популярных платформ:* \n",
    "1. PS4\n",
    "2. PS3\n",
    "3. XOne\n",
    "4. X360\n",
    "5. 3DS\n",
    "\n",
    "*Топ-5 популярных жанров:*\n",
    "1. Action\n",
    "2. Shooter\n",
    "3. Sports\n",
    "4. Role-Playing\n",
    "5. Racing\n",
    "\n",
    "*Самый распространённых рейтинг игр*: **М** (от 17 лет)  \n",
    "\n",
    "**Япония** \n",
    "\n",
    "*Топ-5 популярных платформ:* \n",
    "1. 3DS\n",
    "2. PS3\n",
    "3. PSV\n",
    "4. PS4\n",
    "5. WiiU\t\n",
    "\n",
    "*Топ-5 популярных жанров:*\n",
    "1. Role-Playing\n",
    "2. Action\n",
    "3. Misc\n",
    "4. Fighting\n",
    "5. Shooter\n",
    "\t\n",
    "*Самый распространённых рейтинг игр*: **Е** (для всех)  \n",
    "\n",
    "Можно сказать, что портрет пользователей Северной Америки и Европы похожи между собой, но они отличаются от пользователя Японии. "
   ]
  },
  {
   "cell_type": "markdown",
   "metadata": {},
   "source": [
    "## Проверка гипотез \n",
    "\n",
    "Проверим гипотезу о том, что средние пользовательские рейтинги платформ Xbox One и PC одинаковые.\n",
    "\n",
    "### Гипотеза о рейтингах платформ Xbox One и PC \n",
    "\n",
    "Сформулируем нулевую и альтернативную гипотезы: \n",
    "\n",
    "**H0:** \"Cредние пользовательские рейтинги платформ Xbox One и PC одинаковые.\"\n",
    "\n",
    "**H1:** \"Cредние пользовательские рейтинги платформ Xbox One и PC различаются.\""
   ]
  },
  {
   "cell_type": "code",
   "execution_count": 50,
   "metadata": {},
   "outputs": [],
   "source": [
    "# функция для проверки гипотезы по двум выборкам\n",
    "def ttest(sample_1, sample_2):\n",
    "    alpha = .05\n",
    "    result = st.ttest_ind(sample_1, sample_2, equal_var=False, nan_policy='omit')\n",
    "    print(result.pvalue)\n",
    "    if result.pvalue < alpha:\n",
    "        print(\"Отвергаем нулевую гипотезу\")\n",
    "    else:\n",
    "        print(\"Не получилось отвергнуть нулевую гипотезу\") "
   ]
  },
  {
   "cell_type": "code",
   "execution_count": 51,
   "metadata": {},
   "outputs": [
    {
     "name": "stdout",
     "output_type": "stream",
     "text": [
      "0.1475959401343003\n",
      "Не получилось отвергнуть нулевую гипотезу\n"
     ]
    }
   ],
   "source": [
    "# применяем написанную функцию\n",
    "ttest(current_data.query('platform == \\'XOne\\'')['user_score'], current_data.query('platform == \\'PC\\'')['user_score'])"
   ]
  },
  {
   "cell_type": "markdown",
   "metadata": {},
   "source": [
    "Результат t-теста показывает, что мы не можем отвергнуть нулевую гипотезу. Значение pvalue оказалось достаточно большим. Это значит, что вероятнее всего средние пользовательские оценки игр на этих платформах не отличаются."
   ]
  },
  {
   "cell_type": "markdown",
   "metadata": {},
   "source": [
    "### Гипотеза о рейтингах жанров Action и Sports \n",
    "\n",
    "Сформулируем нулевую и альтернативную гипотезы: \n",
    "\n",
    "**H0:** \"Средние пользовательские рейтинги жанров Action и Sports одинаковые.\"\n",
    "\n",
    "**H1:** \"Средние пользовательские рейтинги жанров Action и Sports различаются.\""
   ]
  },
  {
   "cell_type": "code",
   "execution_count": 52,
   "metadata": {},
   "outputs": [
    {
     "name": "stdout",
     "output_type": "stream",
     "text": [
      "2.4191414517472478e-20\n",
      "Отвергаем нулевую гипотезу\n"
     ]
    }
   ],
   "source": [
    "# применяем написанную функцию\n",
    "ttest(current_data.query('genre == \\'Action\\'')['user_score'], current_data.query('genre == \\'Sports\\'')['user_score'])"
   ]
  },
  {
   "cell_type": "code",
   "execution_count": 53,
   "metadata": {},
   "outputs": [
    {
     "name": "stdout",
     "output_type": "stream",
     "text": [
      "Средняя пользовательская оценка жанра Action: 6.842783505154644 \n",
      "Средняя пользовательская оценка жанра Sports: 5.249685534591195\n"
     ]
    }
   ],
   "source": [
    "print('Средняя пользовательская оценка жанра Action:', current_data.query('genre == \\'Action\\'')['user_score'].mean(), \n",
    "      '\\nСредняя пользовательская оценка жанра Sports:', current_data.query('genre == \\'Sports\\'')['user_score'].mean())"
   ]
  },
  {
   "cell_type": "markdown",
   "metadata": {},
   "source": [
    "По результатам проверки мы отвергаем нулевую гипотезу. Значение pvalue очень близко к нулю, поэтому даже если бы было установлено другое пороговое значение, гипотеза всё равно была бы отвергнута. Это значит, что с большей вероятностью средние пользовательские рейтинги жанров Action и Sports и правда различаются. \n",
    "\n",
    "Если посчитать среднюю пользовательскую оценку по этим жанрам по всей выборке, то видно, что рейтинг жанра Action больше. "
   ]
  },
  {
   "cell_type": "markdown",
   "metadata": {},
   "source": [
    "## Общий вывод\n",
    "\n",
    "Предобработка данных представляла из себя переименование названий столбцов, приведение данных к нужным типам, а также работу с пропусками. Многие пропуски пришлось оставить в таблице, так как никакой логичной замены для них не нашлось. В конце работы выяснилось, что лучше заменить пропуски в столбце с рейтингом на строковое значение \"not defined\", чтобы это не мешало дальнейшей обработке.\n",
    "\n",
    "В ходе исследовательского анализа был выделен *актуальный период* - с 2013 года. В этот период самыми *перспективными* оказались две платформы: PS4 и XOne. Выяснилось, что продажи мало зависят от оценки пользователей, сильнее влияют всё-таки оценки критиков (для большенства платформ). Самый *стабильно прибыльный* жанр - это Shooter, но *лидером по суммарным продажам* является жанр Action.\n",
    "\n",
    "Для регионов Северная Америка, Европа и Япония был составлен пользовательский портрет. Пользовательские портреты Северной Америки и Европы очень похожи, тогда как Япония сильно отличается. Например, самым распространённым в Японии являются жанр Role-Playing, в то время как в Северной Америке и Европе это Action и Shooter. \n",
    "\n",
    "**Северная Америка**: популярны платформы PS4 и XOne, жанры Action и Shooter, самый распространённый рейтинг - **М**\n",
    "\n",
    "**Европа**: популярны платформы PS4 и PS3, жанры Action и Shooter, самый распространённый рейтинг - **М**\n",
    "\n",
    "**Япония**: популярны платформы 3DS и PS3, жанры Role-Playing и Action, самый распространённый рейтинг - **М**.\n",
    "\n",
    "В ходе исследования были выдвинуты и проверены следующие гипотезы: \n",
    "* \"Cредние пользовательские рейтинги платформ Xbox One и PC одинаковые.\" - **гипотеза не опровергнута**, это значит, что вероятнее всего средние пользовательские оценки игр на этих платформах не отличаются.\n",
    "* \"Средние пользовательские рейтинги жанров Action и Sports одинаковые.\" - **гипотеза опровергнута**, это значит, что с большей вероятностью средние пользовательские рейтинги жанров Action и Sports различаются, причём скорее всего у жанра Action рейтинги выше.\n",
    "\n",
    "\n"
   ]
  }
 ],
 "metadata": {
  "ExecuteTimeLog": [
   {
    "duration": 1350,
    "start_time": "2022-02-12T02:06:33.659Z"
   },
   {
    "duration": 2148,
    "start_time": "2022-02-12T02:06:35.012Z"
   },
   {
    "duration": -4172,
    "start_time": "2022-02-12T02:06:41.337Z"
   },
   {
    "duration": -4173,
    "start_time": "2022-02-12T02:06:41.339Z"
   },
   {
    "duration": -4172,
    "start_time": "2022-02-12T02:06:41.340Z"
   },
   {
    "duration": -4172,
    "start_time": "2022-02-12T02:06:41.341Z"
   },
   {
    "duration": -4172,
    "start_time": "2022-02-12T02:06:41.343Z"
   },
   {
    "duration": -4172,
    "start_time": "2022-02-12T02:06:41.344Z"
   },
   {
    "duration": -4172,
    "start_time": "2022-02-12T02:06:41.346Z"
   },
   {
    "duration": -4172,
    "start_time": "2022-02-12T02:06:41.347Z"
   },
   {
    "duration": -4172,
    "start_time": "2022-02-12T02:06:41.349Z"
   },
   {
    "duration": -4172,
    "start_time": "2022-02-12T02:06:41.350Z"
   },
   {
    "duration": -4171,
    "start_time": "2022-02-12T02:06:41.351Z"
   },
   {
    "duration": -4171,
    "start_time": "2022-02-12T02:06:41.352Z"
   },
   {
    "duration": -4171,
    "start_time": "2022-02-12T02:06:41.354Z"
   },
   {
    "duration": -4170,
    "start_time": "2022-02-12T02:06:41.355Z"
   },
   {
    "duration": -4169,
    "start_time": "2022-02-12T02:06:41.356Z"
   },
   {
    "duration": -4169,
    "start_time": "2022-02-12T02:06:41.357Z"
   },
   {
    "duration": -4169,
    "start_time": "2022-02-12T02:06:41.359Z"
   },
   {
    "duration": -4200,
    "start_time": "2022-02-12T02:06:41.392Z"
   },
   {
    "duration": -4206,
    "start_time": "2022-02-12T02:06:41.399Z"
   },
   {
    "duration": -4207,
    "start_time": "2022-02-12T02:06:41.401Z"
   },
   {
    "duration": -4206,
    "start_time": "2022-02-12T02:06:41.402Z"
   },
   {
    "duration": -4206,
    "start_time": "2022-02-12T02:06:41.403Z"
   },
   {
    "duration": -4205,
    "start_time": "2022-02-12T02:06:41.404Z"
   },
   {
    "duration": -4206,
    "start_time": "2022-02-12T02:06:41.406Z"
   },
   {
    "duration": -4205,
    "start_time": "2022-02-12T02:06:41.407Z"
   },
   {
    "duration": -4150,
    "start_time": "2022-02-12T02:06:41.409Z"
   },
   {
    "duration": -4155,
    "start_time": "2022-02-12T02:06:41.416Z"
   },
   {
    "duration": -4155,
    "start_time": "2022-02-12T02:06:41.417Z"
   },
   {
    "duration": -4155,
    "start_time": "2022-02-12T02:06:41.419Z"
   },
   {
    "duration": -4155,
    "start_time": "2022-02-12T02:06:41.420Z"
   },
   {
    "duration": -4155,
    "start_time": "2022-02-12T02:06:41.422Z"
   },
   {
    "duration": -4156,
    "start_time": "2022-02-12T02:06:41.424Z"
   },
   {
    "duration": -4155,
    "start_time": "2022-02-12T02:06:41.425Z"
   },
   {
    "duration": -4155,
    "start_time": "2022-02-12T02:06:41.426Z"
   },
   {
    "duration": -4160,
    "start_time": "2022-02-12T02:06:41.433Z"
   },
   {
    "duration": -4161,
    "start_time": "2022-02-12T02:06:41.435Z"
   },
   {
    "duration": -4160,
    "start_time": "2022-02-12T02:06:41.436Z"
   },
   {
    "duration": -4161,
    "start_time": "2022-02-12T02:06:41.438Z"
   },
   {
    "duration": -4160,
    "start_time": "2022-02-12T02:06:41.439Z"
   },
   {
    "duration": -4162,
    "start_time": "2022-02-12T02:06:41.442Z"
   },
   {
    "duration": -4162,
    "start_time": "2022-02-12T02:06:41.444Z"
   },
   {
    "duration": -4164,
    "start_time": "2022-02-12T02:06:41.447Z"
   },
   {
    "duration": -4207,
    "start_time": "2022-02-12T02:06:41.492Z"
   },
   {
    "duration": -4213,
    "start_time": "2022-02-12T02:06:41.499Z"
   },
   {
    "duration": 4,
    "start_time": "2022-02-12T02:06:40.335Z"
   },
   {
    "duration": 2161,
    "start_time": "2022-02-12T02:06:40.342Z"
   },
   {
    "duration": -4173,
    "start_time": "2022-02-12T02:06:46.680Z"
   },
   {
    "duration": -4173,
    "start_time": "2022-02-12T02:06:46.682Z"
   },
   {
    "duration": -4173,
    "start_time": "2022-02-12T02:06:46.683Z"
   },
   {
    "duration": -4172,
    "start_time": "2022-02-12T02:06:46.684Z"
   },
   {
    "duration": -4171,
    "start_time": "2022-02-12T02:06:46.685Z"
   },
   {
    "duration": -4171,
    "start_time": "2022-02-12T02:06:46.686Z"
   },
   {
    "duration": -4170,
    "start_time": "2022-02-12T02:06:46.687Z"
   },
   {
    "duration": -4171,
    "start_time": "2022-02-12T02:06:46.689Z"
   },
   {
    "duration": -4170,
    "start_time": "2022-02-12T02:06:46.690Z"
   },
   {
    "duration": -4170,
    "start_time": "2022-02-12T02:06:46.691Z"
   },
   {
    "duration": -4172,
    "start_time": "2022-02-12T02:06:46.695Z"
   },
   {
    "duration": -4172,
    "start_time": "2022-02-12T02:06:46.697Z"
   },
   {
    "duration": -4172,
    "start_time": "2022-02-12T02:06:46.698Z"
   },
   {
    "duration": -4171,
    "start_time": "2022-02-12T02:06:46.699Z"
   },
   {
    "duration": -4171,
    "start_time": "2022-02-12T02:06:46.700Z"
   },
   {
    "duration": -4170,
    "start_time": "2022-02-12T02:06:46.701Z"
   },
   {
    "duration": -4171,
    "start_time": "2022-02-12T02:06:46.703Z"
   },
   {
    "duration": -4184,
    "start_time": "2022-02-12T02:06:46.718Z"
   },
   {
    "duration": -4183,
    "start_time": "2022-02-12T02:06:46.719Z"
   },
   {
    "duration": -4183,
    "start_time": "2022-02-12T02:06:46.720Z"
   },
   {
    "duration": -4182,
    "start_time": "2022-02-12T02:06:46.721Z"
   },
   {
    "duration": -4182,
    "start_time": "2022-02-12T02:06:46.722Z"
   },
   {
    "duration": -4182,
    "start_time": "2022-02-12T02:06:46.723Z"
   },
   {
    "duration": -4181,
    "start_time": "2022-02-12T02:06:46.724Z"
   },
   {
    "duration": -4169,
    "start_time": "2022-02-12T02:06:46.728Z"
   },
   {
    "duration": -4169,
    "start_time": "2022-02-12T02:06:46.729Z"
   },
   {
    "duration": -4168,
    "start_time": "2022-02-12T02:06:46.730Z"
   },
   {
    "duration": -4168,
    "start_time": "2022-02-12T02:06:46.732Z"
   },
   {
    "duration": -4168,
    "start_time": "2022-02-12T02:06:46.733Z"
   },
   {
    "duration": -4167,
    "start_time": "2022-02-12T02:06:46.734Z"
   },
   {
    "duration": -4166,
    "start_time": "2022-02-12T02:06:46.735Z"
   },
   {
    "duration": -4166,
    "start_time": "2022-02-12T02:06:46.736Z"
   },
   {
    "duration": -4165,
    "start_time": "2022-02-12T02:06:46.737Z"
   },
   {
    "duration": -4165,
    "start_time": "2022-02-12T02:06:46.738Z"
   },
   {
    "duration": -4164,
    "start_time": "2022-02-12T02:06:46.739Z"
   },
   {
    "duration": -4164,
    "start_time": "2022-02-12T02:06:46.740Z"
   },
   {
    "duration": -4163,
    "start_time": "2022-02-12T02:06:46.741Z"
   },
   {
    "duration": -4166,
    "start_time": "2022-02-12T02:06:46.745Z"
   },
   {
    "duration": -4165,
    "start_time": "2022-02-12T02:06:46.746Z"
   },
   {
    "duration": -4165,
    "start_time": "2022-02-12T02:06:46.747Z"
   },
   {
    "duration": -4164,
    "start_time": "2022-02-12T02:06:46.748Z"
   },
   {
    "duration": -4206,
    "start_time": "2022-02-12T02:06:46.791Z"
   },
   {
    "duration": -4208,
    "start_time": "2022-02-12T02:06:46.795Z"
   },
   {
    "duration": -4210,
    "start_time": "2022-02-12T02:06:46.798Z"
   },
   {
    "duration": 412,
    "start_time": "2022-02-12T07:41:37.734Z"
   },
   {
    "duration": 1443,
    "start_time": "2022-02-12T07:41:41.619Z"
   },
   {
    "duration": 66,
    "start_time": "2022-02-12T07:41:43.064Z"
   },
   {
    "duration": 1082,
    "start_time": "2022-02-16T15:38:56.703Z"
   },
   {
    "duration": 62,
    "start_time": "2022-02-16T15:38:57.787Z"
   },
   {
    "duration": 11,
    "start_time": "2022-02-16T15:38:57.851Z"
   },
   {
    "duration": 19,
    "start_time": "2022-02-16T15:38:57.864Z"
   },
   {
    "duration": 22,
    "start_time": "2022-02-16T15:38:57.885Z"
   },
   {
    "duration": 24,
    "start_time": "2022-02-16T15:38:57.909Z"
   },
   {
    "duration": 23,
    "start_time": "2022-02-16T15:38:57.934Z"
   },
   {
    "duration": 399,
    "start_time": "2022-02-16T15:38:57.960Z"
   },
   {
    "duration": 780,
    "start_time": "2022-02-16T15:38:57.583Z"
   },
   {
    "duration": 779,
    "start_time": "2022-02-16T15:38:57.586Z"
   },
   {
    "duration": 777,
    "start_time": "2022-02-16T15:38:57.589Z"
   },
   {
    "duration": 776,
    "start_time": "2022-02-16T15:38:57.591Z"
   },
   {
    "duration": 774,
    "start_time": "2022-02-16T15:38:57.594Z"
   },
   {
    "duration": 771,
    "start_time": "2022-02-16T15:38:57.598Z"
   },
   {
    "duration": 769,
    "start_time": "2022-02-16T15:38:57.601Z"
   },
   {
    "duration": 767,
    "start_time": "2022-02-16T15:38:57.604Z"
   },
   {
    "duration": 766,
    "start_time": "2022-02-16T15:38:57.606Z"
   },
   {
    "duration": 764,
    "start_time": "2022-02-16T15:38:57.609Z"
   },
   {
    "duration": 763,
    "start_time": "2022-02-16T15:38:57.611Z"
   },
   {
    "duration": 754,
    "start_time": "2022-02-16T15:38:57.620Z"
   },
   {
    "duration": 753,
    "start_time": "2022-02-16T15:38:57.622Z"
   },
   {
    "duration": 751,
    "start_time": "2022-02-16T15:38:57.625Z"
   },
   {
    "duration": 749,
    "start_time": "2022-02-16T15:38:57.628Z"
   },
   {
    "duration": 747,
    "start_time": "2022-02-16T15:38:57.630Z"
   },
   {
    "duration": 745,
    "start_time": "2022-02-16T15:38:57.633Z"
   },
   {
    "duration": 744,
    "start_time": "2022-02-16T15:38:57.635Z"
   },
   {
    "duration": 742,
    "start_time": "2022-02-16T15:38:57.638Z"
   },
   {
    "duration": 739,
    "start_time": "2022-02-16T15:38:57.642Z"
   },
   {
    "duration": 737,
    "start_time": "2022-02-16T15:38:57.645Z"
   },
   {
    "duration": 735,
    "start_time": "2022-02-16T15:38:57.648Z"
   },
   {
    "duration": 734,
    "start_time": "2022-02-16T15:38:57.650Z"
   },
   {
    "duration": 732,
    "start_time": "2022-02-16T15:38:57.653Z"
   },
   {
    "duration": 729,
    "start_time": "2022-02-16T15:38:57.656Z"
   },
   {
    "duration": 728,
    "start_time": "2022-02-16T15:38:57.659Z"
   },
   {
    "duration": 726,
    "start_time": "2022-02-16T15:38:57.662Z"
   },
   {
    "duration": 724,
    "start_time": "2022-02-16T15:38:57.665Z"
   },
   {
    "duration": 722,
    "start_time": "2022-02-16T15:38:57.668Z"
   },
   {
    "duration": 722,
    "start_time": "2022-02-16T15:38:57.671Z"
   },
   {
    "duration": 721,
    "start_time": "2022-02-16T15:38:57.673Z"
   },
   {
    "duration": 718,
    "start_time": "2022-02-16T15:38:57.677Z"
   },
   {
    "duration": 717,
    "start_time": "2022-02-16T15:38:57.679Z"
   },
   {
    "duration": 715,
    "start_time": "2022-02-16T15:38:57.682Z"
   },
   {
    "duration": 714,
    "start_time": "2022-02-16T15:38:57.684Z"
   },
   {
    "duration": 712,
    "start_time": "2022-02-16T15:38:57.687Z"
   },
   {
    "duration": 712,
    "start_time": "2022-02-16T15:38:57.689Z"
   },
   {
    "duration": 710,
    "start_time": "2022-02-16T15:38:57.692Z"
   },
   {
    "duration": 302,
    "start_time": "2022-02-16T15:43:24.558Z"
   },
   {
    "duration": 1194,
    "start_time": "2022-02-16T15:43:42.849Z"
   },
   {
    "duration": 55,
    "start_time": "2022-02-16T15:43:45.407Z"
   },
   {
    "duration": 11,
    "start_time": "2022-02-16T15:43:47.993Z"
   },
   {
    "duration": 16,
    "start_time": "2022-02-16T15:43:49.965Z"
   },
   {
    "duration": 9,
    "start_time": "2022-02-16T15:43:51.335Z"
   },
   {
    "duration": 9,
    "start_time": "2022-02-16T15:43:54.352Z"
   },
   {
    "duration": 19,
    "start_time": "2022-02-16T15:43:56.152Z"
   },
   {
    "duration": 376,
    "start_time": "2022-02-16T15:43:58.155Z"
   },
   {
    "duration": 6,
    "start_time": "2022-02-16T15:45:46.159Z"
   },
   {
    "duration": 10,
    "start_time": "2022-02-16T15:45:48.468Z"
   },
   {
    "duration": 16,
    "start_time": "2022-02-16T15:46:25.969Z"
   },
   {
    "duration": 11,
    "start_time": "2022-02-16T15:46:28.056Z"
   },
   {
    "duration": 10,
    "start_time": "2022-02-16T15:46:28.841Z"
   },
   {
    "duration": 19,
    "start_time": "2022-02-16T15:46:29.772Z"
   },
   {
    "duration": 4,
    "start_time": "2022-02-16T15:46:37.152Z"
   },
   {
    "duration": 5,
    "start_time": "2022-02-16T15:46:42.055Z"
   },
   {
    "duration": 271,
    "start_time": "2022-02-16T15:48:35.212Z"
   },
   {
    "duration": 260,
    "start_time": "2022-02-16T15:48:40.626Z"
   },
   {
    "duration": 17,
    "start_time": "2022-02-16T15:48:43.827Z"
   },
   {
    "duration": 331,
    "start_time": "2022-02-16T15:48:45.554Z"
   },
   {
    "duration": 31,
    "start_time": "2022-02-16T15:48:50.586Z"
   },
   {
    "duration": 280,
    "start_time": "2022-02-16T15:48:55.813Z"
   },
   {
    "duration": 14,
    "start_time": "2022-02-16T15:50:46.969Z"
   },
   {
    "duration": 15,
    "start_time": "2022-02-16T15:51:35.922Z"
   },
   {
    "duration": 13,
    "start_time": "2022-02-16T15:51:40.673Z"
   },
   {
    "duration": 4,
    "start_time": "2022-02-16T15:54:31.088Z"
   },
   {
    "duration": 13,
    "start_time": "2022-02-16T15:54:32.832Z"
   },
   {
    "duration": 8,
    "start_time": "2022-02-16T15:54:38.751Z"
   },
   {
    "duration": 8,
    "start_time": "2022-02-16T15:57:37.211Z"
   },
   {
    "duration": 21,
    "start_time": "2022-02-16T15:58:11.604Z"
   },
   {
    "duration": 28,
    "start_time": "2022-02-16T15:58:14.273Z"
   },
   {
    "duration": 363,
    "start_time": "2022-02-16T15:58:37.762Z"
   },
   {
    "duration": 321,
    "start_time": "2022-02-16T15:59:35.239Z"
   },
   {
    "duration": 668,
    "start_time": "2022-02-16T16:04:37.399Z"
   },
   {
    "duration": 641,
    "start_time": "2022-02-16T16:04:52.146Z"
   },
   {
    "duration": 358,
    "start_time": "2022-02-16T16:04:58.089Z"
   },
   {
    "duration": 686,
    "start_time": "2022-02-16T16:06:37.746Z"
   },
   {
    "duration": 856,
    "start_time": "2022-02-16T16:07:19.652Z"
   },
   {
    "duration": 92,
    "start_time": "2022-02-16T16:07:24.201Z"
   },
   {
    "duration": 422,
    "start_time": "2022-02-16T16:07:28.228Z"
   },
   {
    "duration": 328,
    "start_time": "2022-02-16T16:07:57.616Z"
   },
   {
    "duration": 312,
    "start_time": "2022-02-18T08:51:19.969Z"
   },
   {
    "duration": 994,
    "start_time": "2022-02-18T08:51:26.914Z"
   },
   {
    "duration": 55,
    "start_time": "2022-02-18T08:51:27.910Z"
   },
   {
    "duration": 9,
    "start_time": "2022-02-18T08:51:27.966Z"
   },
   {
    "duration": 12,
    "start_time": "2022-02-18T08:51:27.977Z"
   },
   {
    "duration": 10,
    "start_time": "2022-02-18T08:51:27.990Z"
   },
   {
    "duration": 7,
    "start_time": "2022-02-18T08:51:28.001Z"
   },
   {
    "duration": 31,
    "start_time": "2022-02-18T08:51:28.009Z"
   },
   {
    "duration": 4,
    "start_time": "2022-02-18T08:51:28.043Z"
   },
   {
    "duration": 8,
    "start_time": "2022-02-18T08:51:28.049Z"
   },
   {
    "duration": 11,
    "start_time": "2022-02-18T08:51:28.058Z"
   },
   {
    "duration": 9,
    "start_time": "2022-02-18T08:51:28.070Z"
   },
   {
    "duration": 8,
    "start_time": "2022-02-18T08:51:28.080Z"
   },
   {
    "duration": 47,
    "start_time": "2022-02-18T08:51:28.089Z"
   },
   {
    "duration": 3,
    "start_time": "2022-02-18T08:51:28.138Z"
   },
   {
    "duration": 5,
    "start_time": "2022-02-18T08:51:28.143Z"
   },
   {
    "duration": 204,
    "start_time": "2022-02-18T08:51:28.150Z"
   },
   {
    "duration": 186,
    "start_time": "2022-02-18T08:51:28.356Z"
   },
   {
    "duration": 13,
    "start_time": "2022-02-18T08:51:28.544Z"
   },
   {
    "duration": 260,
    "start_time": "2022-02-18T08:51:28.558Z"
   },
   {
    "duration": 33,
    "start_time": "2022-02-18T08:51:28.820Z"
   },
   {
    "duration": 206,
    "start_time": "2022-02-18T08:51:28.855Z"
   },
   {
    "duration": 10,
    "start_time": "2022-02-18T08:51:29.062Z"
   },
   {
    "duration": 4,
    "start_time": "2022-02-18T08:51:29.076Z"
   },
   {
    "duration": 10,
    "start_time": "2022-02-18T08:51:29.082Z"
   },
   {
    "duration": 6,
    "start_time": "2022-02-18T08:51:29.094Z"
   },
   {
    "duration": 45,
    "start_time": "2022-02-18T08:51:29.101Z"
   },
   {
    "duration": 21,
    "start_time": "2022-02-18T08:51:29.148Z"
   },
   {
    "duration": 282,
    "start_time": "2022-02-18T08:51:29.170Z"
   },
   {
    "duration": 254,
    "start_time": "2022-02-18T08:51:29.454Z"
   },
   {
    "duration": 23,
    "start_time": "2022-02-18T08:51:29.709Z"
   },
   {
    "duration": 15,
    "start_time": "2022-02-18T08:51:29.734Z"
   },
   {
    "duration": 5,
    "start_time": "2022-02-18T08:51:29.751Z"
   },
   {
    "duration": 590,
    "start_time": "2022-02-18T08:51:29.758Z"
   },
   {
    "duration": 29,
    "start_time": "2022-02-18T08:51:30.349Z"
   },
   {
    "duration": 264,
    "start_time": "2022-02-18T08:51:30.379Z"
   },
   {
    "duration": 13,
    "start_time": "2022-02-18T08:51:30.645Z"
   },
   {
    "duration": 19,
    "start_time": "2022-02-18T08:51:30.660Z"
   },
   {
    "duration": 367,
    "start_time": "2022-02-18T08:51:30.681Z"
   },
   {
    "duration": 408,
    "start_time": "2022-02-18T08:51:31.050Z"
   },
   {
    "duration": 6,
    "start_time": "2022-02-18T08:51:31.460Z"
   },
   {
    "duration": 4,
    "start_time": "2022-02-18T08:51:31.467Z"
   },
   {
    "duration": 6,
    "start_time": "2022-02-18T08:51:31.473Z"
   },
   {
    "duration": 4,
    "start_time": "2022-02-18T08:51:31.480Z"
   },
   {
    "duration": 203,
    "start_time": "2022-02-18T08:51:31.485Z"
   },
   {
    "duration": 3,
    "start_time": "2022-02-18T08:51:31.690Z"
   },
   {
    "duration": 10,
    "start_time": "2022-02-18T08:51:31.694Z"
   },
   {
    "duration": 8,
    "start_time": "2022-02-18T08:51:31.705Z"
   },
   {
    "duration": 24,
    "start_time": "2022-02-18T08:51:31.714Z"
   },
   {
    "duration": 358,
    "start_time": "2022-02-18T08:51:56.379Z"
   },
   {
    "duration": 93,
    "start_time": "2022-02-18T09:10:44.688Z"
   },
   {
    "duration": 360,
    "start_time": "2022-02-18T09:10:50.040Z"
   },
   {
    "duration": 2556,
    "start_time": "2022-02-18T09:10:55.794Z"
   },
   {
    "duration": 5667,
    "start_time": "2022-02-18T09:11:32.834Z"
   },
   {
    "duration": 363,
    "start_time": "2022-02-18T09:11:56.491Z"
   },
   {
    "duration": 410,
    "start_time": "2022-02-18T09:13:11.825Z"
   },
   {
    "duration": 320,
    "start_time": "2022-02-18T09:14:01.113Z"
   },
   {
    "duration": 340,
    "start_time": "2022-02-18T09:14:11.933Z"
   },
   {
    "duration": 340,
    "start_time": "2022-02-18T09:15:06.125Z"
   },
   {
    "duration": 246,
    "start_time": "2022-02-18T09:26:04.957Z"
   },
   {
    "duration": 313,
    "start_time": "2022-02-18T09:27:12.750Z"
   },
   {
    "duration": 342,
    "start_time": "2022-02-18T09:28:21.717Z"
   },
   {
    "duration": 333,
    "start_time": "2022-02-18T09:28:50.202Z"
   },
   {
    "duration": 375,
    "start_time": "2022-02-18T09:29:15.539Z"
   },
   {
    "duration": 313,
    "start_time": "2022-02-18T09:29:38.028Z"
   },
   {
    "duration": 300,
    "start_time": "2022-02-18T09:29:49.575Z"
   },
   {
    "duration": 317,
    "start_time": "2022-02-18T09:29:58.440Z"
   },
   {
    "duration": 316,
    "start_time": "2022-02-18T09:30:06.267Z"
   },
   {
    "duration": 323,
    "start_time": "2022-02-18T09:45:37.561Z"
   },
   {
    "duration": 13,
    "start_time": "2022-02-18T09:52:47.466Z"
   },
   {
    "duration": 326,
    "start_time": "2022-02-18T09:55:19.866Z"
   },
   {
    "duration": 13,
    "start_time": "2022-02-18T09:55:28.399Z"
   },
   {
    "duration": 1010,
    "start_time": "2022-02-18T10:30:23.694Z"
   },
   {
    "duration": 46,
    "start_time": "2022-02-18T10:30:24.706Z"
   },
   {
    "duration": 9,
    "start_time": "2022-02-18T10:30:24.753Z"
   },
   {
    "duration": 11,
    "start_time": "2022-02-18T10:30:24.764Z"
   },
   {
    "duration": 8,
    "start_time": "2022-02-18T10:30:24.777Z"
   },
   {
    "duration": 6,
    "start_time": "2022-02-18T10:30:24.787Z"
   },
   {
    "duration": 41,
    "start_time": "2022-02-18T10:30:24.795Z"
   },
   {
    "duration": 5,
    "start_time": "2022-02-18T10:30:24.839Z"
   },
   {
    "duration": 10,
    "start_time": "2022-02-18T10:30:24.846Z"
   },
   {
    "duration": 14,
    "start_time": "2022-02-18T10:30:24.857Z"
   },
   {
    "duration": 10,
    "start_time": "2022-02-18T10:30:24.872Z"
   },
   {
    "duration": 10,
    "start_time": "2022-02-18T10:30:24.884Z"
   },
   {
    "duration": 46,
    "start_time": "2022-02-18T10:30:24.896Z"
   },
   {
    "duration": 5,
    "start_time": "2022-02-18T10:30:24.943Z"
   },
   {
    "duration": 4,
    "start_time": "2022-02-18T10:30:24.950Z"
   },
   {
    "duration": 223,
    "start_time": "2022-02-18T10:30:24.956Z"
   },
   {
    "duration": 193,
    "start_time": "2022-02-18T10:30:25.181Z"
   },
   {
    "duration": 12,
    "start_time": "2022-02-18T10:30:25.376Z"
   },
   {
    "duration": 263,
    "start_time": "2022-02-18T10:30:25.390Z"
   },
   {
    "duration": 24,
    "start_time": "2022-02-18T10:30:25.654Z"
   },
   {
    "duration": 212,
    "start_time": "2022-02-18T10:30:25.680Z"
   },
   {
    "duration": 10,
    "start_time": "2022-02-18T10:30:25.893Z"
   },
   {
    "duration": 4,
    "start_time": "2022-02-18T10:30:25.907Z"
   },
   {
    "duration": 11,
    "start_time": "2022-02-18T10:30:25.933Z"
   },
   {
    "duration": 6,
    "start_time": "2022-02-18T10:30:25.945Z"
   },
   {
    "duration": 17,
    "start_time": "2022-02-18T10:30:25.953Z"
   },
   {
    "duration": 21,
    "start_time": "2022-02-18T10:30:25.972Z"
   },
   {
    "duration": 306,
    "start_time": "2022-02-18T10:30:25.994Z"
   },
   {
    "duration": 332,
    "start_time": "2022-02-18T10:30:26.301Z"
   },
   {
    "duration": 15,
    "start_time": "2022-02-18T10:30:26.635Z"
   },
   {
    "duration": 5,
    "start_time": "2022-02-18T10:30:26.651Z"
   },
   {
    "duration": 593,
    "start_time": "2022-02-18T10:30:26.657Z"
   },
   {
    "duration": 30,
    "start_time": "2022-02-18T10:30:27.252Z"
   },
   {
    "duration": 248,
    "start_time": "2022-02-18T10:30:27.283Z"
   },
   {
    "duration": 11,
    "start_time": "2022-02-18T10:30:27.533Z"
   },
   {
    "duration": 13,
    "start_time": "2022-02-18T10:30:27.546Z"
   },
   {
    "duration": 19,
    "start_time": "2022-02-18T10:30:27.560Z"
   },
   {
    "duration": 373,
    "start_time": "2022-02-18T10:30:27.581Z"
   },
   {
    "duration": 416,
    "start_time": "2022-02-18T10:30:27.956Z"
   },
   {
    "duration": 7,
    "start_time": "2022-02-18T10:30:28.373Z"
   },
   {
    "duration": 3,
    "start_time": "2022-02-18T10:30:28.381Z"
   },
   {
    "duration": 6,
    "start_time": "2022-02-18T10:30:28.385Z"
   },
   {
    "duration": 3,
    "start_time": "2022-02-18T10:30:28.393Z"
   },
   {
    "duration": 205,
    "start_time": "2022-02-18T10:30:28.397Z"
   },
   {
    "duration": 3,
    "start_time": "2022-02-18T10:30:28.604Z"
   },
   {
    "duration": 26,
    "start_time": "2022-02-18T10:30:28.609Z"
   },
   {
    "duration": 9,
    "start_time": "2022-02-18T10:30:28.637Z"
   },
   {
    "duration": 14,
    "start_time": "2022-02-18T10:30:28.648Z"
   }
  ],
  "kernelspec": {
   "display_name": "Python 3 (ipykernel)",
   "language": "python",
   "name": "python3"
  },
  "language_info": {
   "codemirror_mode": {
    "name": "ipython",
    "version": 3
   },
   "file_extension": ".py",
   "mimetype": "text/x-python",
   "name": "python",
   "nbconvert_exporter": "python",
   "pygments_lexer": "ipython3",
   "version": "3.9.7"
  },
  "toc": {
   "base_numbering": 1,
   "nav_menu": {},
   "number_sections": true,
   "sideBar": true,
   "skip_h1_title": true,
   "title_cell": "Содержание",
   "title_sidebar": "Contents",
   "toc_cell": true,
   "toc_position": {
    "height": "calc(100% - 180px)",
    "left": "10px",
    "top": "150px",
    "width": "165px"
   },
   "toc_section_display": true,
   "toc_window_display": true
  },
  "varInspector": {
   "cols": {
    "lenName": 16,
    "lenType": 16,
    "lenVar": 40
   },
   "kernels_config": {
    "python": {
     "delete_cmd_postfix": "",
     "delete_cmd_prefix": "del ",
     "library": "var_list.py",
     "varRefreshCmd": "print(var_dic_list())"
    },
    "r": {
     "delete_cmd_postfix": ") ",
     "delete_cmd_prefix": "rm(",
     "library": "var_list.r",
     "varRefreshCmd": "cat(var_dic_list()) "
    }
   },
   "types_to_exclude": [
    "module",
    "function",
    "builtin_function_or_method",
    "instance",
    "_Feature"
   ],
   "window_display": false
  }
 },
 "nbformat": 4,
 "nbformat_minor": 4
}
