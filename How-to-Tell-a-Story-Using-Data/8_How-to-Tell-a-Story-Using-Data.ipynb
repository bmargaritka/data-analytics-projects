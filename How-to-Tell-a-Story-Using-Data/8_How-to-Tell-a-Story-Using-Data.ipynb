{
 "cells": [
  {
   "cell_type": "markdown",
   "metadata": {
    "toc": true
   },
   "source": [
    "<h1>Содержание<span class=\"tocSkip\"></span></h1>\n",
    "<div class=\"toc\"><ul class=\"toc-item\"><li><span><a href=\"#Описание-проекта-&quot;Рынок-заведений-общественного-питания-Москвы&quot;\" data-toc-modified-id=\"Описание-проекта-&quot;Рынок-заведений-общественного-питания-Москвы&quot;-0\"><span class=\"toc-item-num\">0&nbsp;&nbsp;</span>Описание проекта \"Рынок заведений общественного питания Москвы\"</a></span></li><li><span><a href=\"#Подготовка-данных-к-анализу\" data-toc-modified-id=\"Подготовка-данных-к-анализу-1\"><span class=\"toc-item-num\">1&nbsp;&nbsp;</span>Подготовка данных к анализу</a></span><ul class=\"toc-item\"><li><span><a href=\"#Вывод\" data-toc-modified-id=\"Вывод-1.1\"><span class=\"toc-item-num\">1.1&nbsp;&nbsp;</span>Вывод</a></span></li></ul></li><li><span><a href=\"#Анализ-данных\" data-toc-modified-id=\"Анализ-данных-2\"><span class=\"toc-item-num\">2&nbsp;&nbsp;</span>Анализ данных</a></span><ul class=\"toc-item\"><li><span><a href=\"#Виды-объектов-общественного-питания\" data-toc-modified-id=\"Виды-объектов-общественного-питания-2.1\"><span class=\"toc-item-num\">2.1&nbsp;&nbsp;</span>Виды объектов общественного питания</a></span></li><li><span><a href=\"#Количество-сетевых-и-несетевых-заведений\" data-toc-modified-id=\"Количество-сетевых-и-несетевых-заведений-2.2\"><span class=\"toc-item-num\">2.2&nbsp;&nbsp;</span>Количество сетевых и несетевых заведений</a></span></li><li><span><a href=\"#Сетевые-заведения\" data-toc-modified-id=\"Сетевые-заведения-2.3\"><span class=\"toc-item-num\">2.3&nbsp;&nbsp;</span>Сетевые заведения</a></span></li><li><span><a href=\"#Среднее-количество-посадочных-мест\" data-toc-modified-id=\"Среднее-количество-посадочных-мест-2.4\"><span class=\"toc-item-num\">2.4&nbsp;&nbsp;</span>Среднее количество посадочных мест</a></span></li><li><span><a href=\"#Адреса\" data-toc-modified-id=\"Адреса-2.5\"><span class=\"toc-item-num\">2.5&nbsp;&nbsp;</span>Адреса</a></span></li><li><span><a href=\"#Топ-10-улиц-по-количеству-объектов-общественного-питания\" data-toc-modified-id=\"Топ-10-улиц-по-количеству-объектов-общественного-питания-2.6\"><span class=\"toc-item-num\">2.6&nbsp;&nbsp;</span>Топ-10 улиц по количеству объектов общественного питания</a></span></li><li><span><a href=\"#Районы-Москвы-с-малым-количеством-заведений\" data-toc-modified-id=\"Районы-Москвы-с-малым-количеством-заведений-2.7\"><span class=\"toc-item-num\">2.7&nbsp;&nbsp;</span>Районы Москвы с малым количеством заведений</a></span></li><li><span><a href=\"#Распределение-количества-посадочных-мест\" data-toc-modified-id=\"Распределение-количества-посадочных-мест-2.8\"><span class=\"toc-item-num\">2.8&nbsp;&nbsp;</span>Распределение количества посадочных мест</a></span></li><li><span><a href=\"#Вывод\" data-toc-modified-id=\"Вывод-2.9\"><span class=\"toc-item-num\">2.9&nbsp;&nbsp;</span>Вывод</a></span></li></ul></li><li><span><a href=\"#Презентация\" data-toc-modified-id=\"Презентация-3\"><span class=\"toc-item-num\">3&nbsp;&nbsp;</span>Презентация</a></span></li></ul></div>"
   ]
  },
  {
   "cell_type": "markdown",
   "metadata": {},
   "source": [
    "# Описание проекта \"Рынок заведений общественного питания Москвы\""
   ]
  },
  {
   "cell_type": "markdown",
   "metadata": {},
   "source": [
    "Планируется открыть небольшое кафе в Москве. Оно оригинальное — гостей должны обслуживать роботы. Проект многообещающий, но дорогой, поэтому необходима помощь ивесторов. Их интересует текущее положение дел на рынке. \n",
    "\n",
    "**Задача**: проанализировать открытые данные о заведениях общественного питания в москве и ответить на вопрос, будет ли популярно такое кафе на рынке.\n",
    "\n",
    "**Описание данных**\n",
    "\n",
    "Таблица rest_data:\n",
    "* id — идентификатор объекта;\n",
    "* object_name — название объекта общественного питания;\n",
    "* chain — сетевой ресторан;\n",
    "* object_type — тип объекта общественного питания;\n",
    "* address — адрес;\n",
    "* number — количество посадочных мест."
   ]
  },
  {
   "cell_type": "markdown",
   "metadata": {},
   "source": [
    "# Подготовка данных к анализу\n",
    "\n",
    "Сначала откроем данные и изучим их. Проверим на явные пропуски и наличие дубликатов."
   ]
  },
  {
   "cell_type": "code",
   "execution_count": 1,
   "metadata": {},
   "outputs": [],
   "source": [
    "# импортируем нужные библиотеки\n",
    "import pandas as pd\n",
    "import seaborn as sns\n",
    "import matplotlib.pyplot as plt\n",
    "from numpy import median\n",
    "import warnings\n",
    "\n",
    "warnings.simplefilter(action='ignore', category=FutureWarning)"
   ]
  },
  {
   "cell_type": "code",
   "execution_count": 2,
   "metadata": {},
   "outputs": [
    {
     "data": {
      "text/html": [
       "<div>\n",
       "<style scoped>\n",
       "    .dataframe tbody tr th:only-of-type {\n",
       "        vertical-align: middle;\n",
       "    }\n",
       "\n",
       "    .dataframe tbody tr th {\n",
       "        vertical-align: top;\n",
       "    }\n",
       "\n",
       "    .dataframe thead th {\n",
       "        text-align: right;\n",
       "    }\n",
       "</style>\n",
       "<table border=\"1\" class=\"dataframe\">\n",
       "  <thead>\n",
       "    <tr style=\"text-align: right;\">\n",
       "      <th></th>\n",
       "      <th>id</th>\n",
       "      <th>object_name</th>\n",
       "      <th>chain</th>\n",
       "      <th>object_type</th>\n",
       "      <th>address</th>\n",
       "      <th>number</th>\n",
       "    </tr>\n",
       "  </thead>\n",
       "  <tbody>\n",
       "    <tr>\n",
       "      <th>0</th>\n",
       "      <td>151635</td>\n",
       "      <td>СМЕТАНА</td>\n",
       "      <td>нет</td>\n",
       "      <td>кафе</td>\n",
       "      <td>город Москва, улица Егора Абакумова, дом 9</td>\n",
       "      <td>48</td>\n",
       "    </tr>\n",
       "    <tr>\n",
       "      <th>1</th>\n",
       "      <td>77874</td>\n",
       "      <td>Родник</td>\n",
       "      <td>нет</td>\n",
       "      <td>кафе</td>\n",
       "      <td>город Москва, улица Талалихина, дом 2/1, корпус 1</td>\n",
       "      <td>35</td>\n",
       "    </tr>\n",
       "    <tr>\n",
       "      <th>2</th>\n",
       "      <td>24309</td>\n",
       "      <td>Кафе «Академия»</td>\n",
       "      <td>нет</td>\n",
       "      <td>кафе</td>\n",
       "      <td>город Москва, Абельмановская улица, дом 6</td>\n",
       "      <td>95</td>\n",
       "    </tr>\n",
       "    <tr>\n",
       "      <th>3</th>\n",
       "      <td>21894</td>\n",
       "      <td>ПИЦЦЕТОРИЯ</td>\n",
       "      <td>да</td>\n",
       "      <td>кафе</td>\n",
       "      <td>город Москва, Абрамцевская улица, дом 1</td>\n",
       "      <td>40</td>\n",
       "    </tr>\n",
       "    <tr>\n",
       "      <th>4</th>\n",
       "      <td>119365</td>\n",
       "      <td>Кафе «Вишневая метель»</td>\n",
       "      <td>нет</td>\n",
       "      <td>кафе</td>\n",
       "      <td>город Москва, Абрамцевская улица, дом 9, корпус 1</td>\n",
       "      <td>50</td>\n",
       "    </tr>\n",
       "  </tbody>\n",
       "</table>\n",
       "</div>"
      ],
      "text/plain": [
       "       id             object_name chain object_type  \\\n",
       "0  151635                 СМЕТАНА   нет        кафе   \n",
       "1   77874                  Родник   нет        кафе   \n",
       "2   24309         Кафе «Академия»   нет        кафе   \n",
       "3   21894              ПИЦЦЕТОРИЯ    да        кафе   \n",
       "4  119365  Кафе «Вишневая метель»   нет        кафе   \n",
       "\n",
       "                                             address  number  \n",
       "0         город Москва, улица Егора Абакумова, дом 9      48  \n",
       "1  город Москва, улица Талалихина, дом 2/1, корпус 1      35  \n",
       "2          город Москва, Абельмановская улица, дом 6      95  \n",
       "3            город Москва, Абрамцевская улица, дом 1      40  \n",
       "4  город Москва, Абрамцевская улица, дом 9, корпус 1      50  "
      ]
     },
     "execution_count": 2,
     "metadata": {},
     "output_type": "execute_result"
    }
   ],
   "source": [
    "# открываем файл \n",
    "rest_data = pd.read_csv('/datasets/rest_data.csv')\n",
    "rest_data.head()"
   ]
  },
  {
   "cell_type": "code",
   "execution_count": 3,
   "metadata": {},
   "outputs": [
    {
     "name": "stdout",
     "output_type": "stream",
     "text": [
      "<class 'pandas.core.frame.DataFrame'>\n",
      "RangeIndex: 15366 entries, 0 to 15365\n",
      "Data columns (total 6 columns):\n",
      " #   Column       Non-Null Count  Dtype \n",
      "---  ------       --------------  ----- \n",
      " 0   id           15366 non-null  int64 \n",
      " 1   object_name  15366 non-null  object\n",
      " 2   chain        15366 non-null  object\n",
      " 3   object_type  15366 non-null  object\n",
      " 4   address      15366 non-null  object\n",
      " 5   number       15366 non-null  int64 \n",
      "dtypes: int64(2), object(4)\n",
      "memory usage: 720.4+ KB\n"
     ]
    }
   ],
   "source": [
    "# смотрим общую информацию о данных\n",
    "rest_data.info()"
   ]
  },
  {
   "cell_type": "markdown",
   "metadata": {},
   "source": [
    "У столбцов верные типы данных, но я бы добавила столбец с информацией о сети булевого типа. Там будет храниться значение True, если это сеть, а иначе - False."
   ]
  },
  {
   "cell_type": "code",
   "execution_count": 4,
   "metadata": {},
   "outputs": [
    {
     "data": {
      "text/html": [
       "<div>\n",
       "<style scoped>\n",
       "    .dataframe tbody tr th:only-of-type {\n",
       "        vertical-align: middle;\n",
       "    }\n",
       "\n",
       "    .dataframe tbody tr th {\n",
       "        vertical-align: top;\n",
       "    }\n",
       "\n",
       "    .dataframe thead th {\n",
       "        text-align: right;\n",
       "    }\n",
       "</style>\n",
       "<table border=\"1\" class=\"dataframe\">\n",
       "  <thead>\n",
       "    <tr style=\"text-align: right;\">\n",
       "      <th></th>\n",
       "      <th>id</th>\n",
       "      <th>object_name</th>\n",
       "      <th>chain</th>\n",
       "      <th>object_type</th>\n",
       "      <th>address</th>\n",
       "      <th>number</th>\n",
       "      <th>is_chain</th>\n",
       "    </tr>\n",
       "  </thead>\n",
       "  <tbody>\n",
       "    <tr>\n",
       "      <th>0</th>\n",
       "      <td>151635</td>\n",
       "      <td>СМЕТАНА</td>\n",
       "      <td>нет</td>\n",
       "      <td>кафе</td>\n",
       "      <td>город Москва, улица Егора Абакумова, дом 9</td>\n",
       "      <td>48</td>\n",
       "      <td>False</td>\n",
       "    </tr>\n",
       "    <tr>\n",
       "      <th>1</th>\n",
       "      <td>77874</td>\n",
       "      <td>Родник</td>\n",
       "      <td>нет</td>\n",
       "      <td>кафе</td>\n",
       "      <td>город Москва, улица Талалихина, дом 2/1, корпус 1</td>\n",
       "      <td>35</td>\n",
       "      <td>False</td>\n",
       "    </tr>\n",
       "    <tr>\n",
       "      <th>2</th>\n",
       "      <td>24309</td>\n",
       "      <td>Кафе «Академия»</td>\n",
       "      <td>нет</td>\n",
       "      <td>кафе</td>\n",
       "      <td>город Москва, Абельмановская улица, дом 6</td>\n",
       "      <td>95</td>\n",
       "      <td>False</td>\n",
       "    </tr>\n",
       "    <tr>\n",
       "      <th>3</th>\n",
       "      <td>21894</td>\n",
       "      <td>ПИЦЦЕТОРИЯ</td>\n",
       "      <td>да</td>\n",
       "      <td>кафе</td>\n",
       "      <td>город Москва, Абрамцевская улица, дом 1</td>\n",
       "      <td>40</td>\n",
       "      <td>True</td>\n",
       "    </tr>\n",
       "    <tr>\n",
       "      <th>4</th>\n",
       "      <td>119365</td>\n",
       "      <td>Кафе «Вишневая метель»</td>\n",
       "      <td>нет</td>\n",
       "      <td>кафе</td>\n",
       "      <td>город Москва, Абрамцевская улица, дом 9, корпус 1</td>\n",
       "      <td>50</td>\n",
       "      <td>False</td>\n",
       "    </tr>\n",
       "  </tbody>\n",
       "</table>\n",
       "</div>"
      ],
      "text/plain": [
       "       id             object_name chain object_type  \\\n",
       "0  151635                 СМЕТАНА   нет        кафе   \n",
       "1   77874                  Родник   нет        кафе   \n",
       "2   24309         Кафе «Академия»   нет        кафе   \n",
       "3   21894              ПИЦЦЕТОРИЯ    да        кафе   \n",
       "4  119365  Кафе «Вишневая метель»   нет        кафе   \n",
       "\n",
       "                                             address  number  is_chain  \n",
       "0         город Москва, улица Егора Абакумова, дом 9      48     False  \n",
       "1  город Москва, улица Талалихина, дом 2/1, корпус 1      35     False  \n",
       "2          город Москва, Абельмановская улица, дом 6      95     False  \n",
       "3            город Москва, Абрамцевская улица, дом 1      40      True  \n",
       "4  город Москва, Абрамцевская улица, дом 9, корпус 1      50     False  "
      ]
     },
     "execution_count": 4,
     "metadata": {},
     "output_type": "execute_result"
    }
   ],
   "source": [
    "# создаем новый булевый столбец\n",
    "rest_data['is_chain'] = rest_data['chain'] == 'да'\n",
    "rest_data.head()"
   ]
  },
  {
   "cell_type": "markdown",
   "metadata": {},
   "source": [
    "Можно было бы посмотреть, есть ли разные написания одних и тех же сетевых заведений (например, в разном регистре). Но таких заведений много, а просматривать их в ручную не вижу смысла. Также пока не вижу смысла переименовывать их или приводить к одному виду. Ведь адреса у них разные. Пока мы будем рассматривать такие заведения как отдельно взятые. Если в ходе анализа мне понадобится разделять данные по рестроранным сетям и такие повторы будут искажать результаты анализа, то я вернусь к этому вопросу.\n",
    "\n",
    "Проверим уникальные значения с типах заведений, нет ли там какого-то неопределённого типа."
   ]
  },
  {
   "cell_type": "code",
   "execution_count": 5,
   "metadata": {},
   "outputs": [
    {
     "data": {
      "text/plain": [
       "array(['кафе', 'столовая', 'закусочная',\n",
       "       'предприятие быстрого обслуживания', 'ресторан', 'кафетерий',\n",
       "       'буфет', 'бар', 'магазин (отдел кулинарии)'], dtype=object)"
      ]
     },
     "execution_count": 5,
     "metadata": {},
     "output_type": "execute_result"
    }
   ],
   "source": [
    "# уникальные значения типов заведений\n",
    "rest_data['object_type'].unique()"
   ]
  },
  {
   "cell_type": "markdown",
   "metadata": {},
   "source": [
    "Никаких неопределённых типов заведений нет. Теперь проверим сколько где поадочных мест."
   ]
  },
  {
   "cell_type": "code",
   "execution_count": 6,
   "metadata": {},
   "outputs": [
    {
     "data": {
      "text/plain": [
       "0     1621\n",
       "40     835\n",
       "20     727\n",
       "30     685\n",
       "10     644\n",
       "Name: number, dtype: int64"
      ]
     },
     "execution_count": 6,
     "metadata": {},
     "output_type": "execute_result"
    }
   ],
   "source": [
    "# количество заведений с определённым количеством мест\n",
    "rest_data['number'].value_counts().head()"
   ]
  },
  {
   "cell_type": "markdown",
   "metadata": {},
   "source": [
    "1621 заведение без посадочных мест. Это возможно, если это отдел кулинарии магазина или другое маленькое заведение. Например, в кофейнях, где продают кофе навынос, часто нет посадочных мест. "
   ]
  },
  {
   "cell_type": "code",
   "execution_count": 7,
   "metadata": {},
   "outputs": [
    {
     "data": {
      "text/plain": [
       "0"
      ]
     },
     "execution_count": 7,
     "metadata": {},
     "output_type": "execute_result"
    }
   ],
   "source": [
    "# проверка на дубликаты\n",
    "rest_data.duplicated().sum()"
   ]
  },
  {
   "cell_type": "markdown",
   "metadata": {},
   "source": [
    "## Вывод \n",
    "Явных пропусков в данных нет. В столбце с количеством посадочных мест нельзя точно сказать, есть ли там пропуски или нет, поскольку в заведениях могут отсутствовать посадочные места. Полных дубликатов нет. Столбцы названы корректно. Можно приступать к анализу данных. "
   ]
  },
  {
   "cell_type": "code",
   "execution_count": 37,
   "metadata": {},
   "outputs": [],
   "source": [
    "#\n",
    "def main_info(data):\n",
    "    return data.info(), data.describe()"
   ]
  },
  {
   "cell_type": "code",
   "execution_count": 38,
   "metadata": {},
   "outputs": [
    {
     "name": "stdout",
     "output_type": "stream",
     "text": [
      "<class 'pandas.core.frame.DataFrame'>\n",
      "RangeIndex: 15366 entries, 0 to 15365\n",
      "Data columns (total 8 columns):\n",
      " #   Column       Non-Null Count  Dtype \n",
      "---  ------       --------------  ----- \n",
      " 0   id           15366 non-null  int64 \n",
      " 1   object_name  15366 non-null  object\n",
      " 2   chain        15366 non-null  object\n",
      " 3   object_type  15366 non-null  object\n",
      " 4   address      15366 non-null  object\n",
      " 5   number       15366 non-null  int64 \n",
      " 6   is_chain     15366 non-null  bool  \n",
      " 7   streetname   15366 non-null  object\n",
      "dtypes: bool(1), int64(2), object(5)\n",
      "memory usage: 855.5+ KB\n"
     ]
    },
    {
     "data": {
      "text/plain": [
       "(None,\n",
       "                   id        number\n",
       " count   15366.000000  15366.000000\n",
       " mean   119720.066901     59.547182\n",
       " std     73036.130732     74.736833\n",
       " min       838.000000      0.000000\n",
       " 25%     28524.000000     12.000000\n",
       " 50%    144974.500000     40.000000\n",
       " 75%    184262.250000     80.000000\n",
       " max    223439.000000   1700.000000)"
      ]
     },
     "execution_count": 38,
     "metadata": {},
     "output_type": "execute_result"
    }
   ],
   "source": [
    "#\n",
    "main_info(rest_data)"
   ]
  },
  {
   "cell_type": "markdown",
   "metadata": {},
   "source": [
    "# Анализ данных"
   ]
  },
  {
   "cell_type": "markdown",
   "metadata": {},
   "source": [
    "Преобразуем названия некоторых типов заведений, чтобы они лучше отражались на графике. Новые названия: ПБО (предприятие быстрого обслуживания) и магазин (ОК) - отдел кулинарии."
   ]
  },
  {
   "cell_type": "code",
   "execution_count": 9,
   "metadata": {},
   "outputs": [],
   "source": [
    "# переименовываем длинные названия типов заведений\n",
    "rest_data['object_type'].replace({'предприятие быстрого обслуживания': 'ПБО*', \n",
    "                                  'магазин (отдел кулинарии)': 'магазин (ОК**)'},\n",
    "                                inplace=True)"
   ]
  },
  {
   "cell_type": "markdown",
   "metadata": {},
   "source": [
    "Построим вспомогательную сводную таблицу с информацией о количестве всех заведений, сетевых заведений и их доле на рынке по типам. "
   ]
  },
  {
   "cell_type": "code",
   "execution_count": 10,
   "metadata": {},
   "outputs": [
    {
     "data": {
      "text/html": [
       "<div>\n",
       "<style scoped>\n",
       "    .dataframe tbody tr th:only-of-type {\n",
       "        vertical-align: middle;\n",
       "    }\n",
       "\n",
       "    .dataframe tbody tr th {\n",
       "        vertical-align: top;\n",
       "    }\n",
       "\n",
       "    .dataframe thead th {\n",
       "        text-align: right;\n",
       "    }\n",
       "</style>\n",
       "<table border=\"1\" class=\"dataframe\">\n",
       "  <thead>\n",
       "    <tr style=\"text-align: right;\">\n",
       "      <th></th>\n",
       "      <th>object_type</th>\n",
       "      <th>count</th>\n",
       "      <th>sum_chain</th>\n",
       "      <th>ratio_chain</th>\n",
       "      <th>sum_not_chain</th>\n",
       "    </tr>\n",
       "  </thead>\n",
       "  <tbody>\n",
       "    <tr>\n",
       "      <th>0</th>\n",
       "      <td>ПБО*</td>\n",
       "      <td>1923</td>\n",
       "      <td>791</td>\n",
       "      <td>0.411336</td>\n",
       "      <td>1132</td>\n",
       "    </tr>\n",
       "    <tr>\n",
       "      <th>1</th>\n",
       "      <td>бар</td>\n",
       "      <td>856</td>\n",
       "      <td>37</td>\n",
       "      <td>0.043224</td>\n",
       "      <td>819</td>\n",
       "    </tr>\n",
       "    <tr>\n",
       "      <th>2</th>\n",
       "      <td>буфет</td>\n",
       "      <td>585</td>\n",
       "      <td>11</td>\n",
       "      <td>0.018803</td>\n",
       "      <td>574</td>\n",
       "    </tr>\n",
       "    <tr>\n",
       "      <th>3</th>\n",
       "      <td>закусочная</td>\n",
       "      <td>360</td>\n",
       "      <td>56</td>\n",
       "      <td>0.155556</td>\n",
       "      <td>304</td>\n",
       "    </tr>\n",
       "    <tr>\n",
       "      <th>4</th>\n",
       "      <td>кафе</td>\n",
       "      <td>6099</td>\n",
       "      <td>1396</td>\n",
       "      <td>0.228890</td>\n",
       "      <td>4703</td>\n",
       "    </tr>\n",
       "    <tr>\n",
       "      <th>5</th>\n",
       "      <td>кафетерий</td>\n",
       "      <td>398</td>\n",
       "      <td>52</td>\n",
       "      <td>0.130653</td>\n",
       "      <td>346</td>\n",
       "    </tr>\n",
       "    <tr>\n",
       "      <th>6</th>\n",
       "      <td>магазин (ОК**)</td>\n",
       "      <td>273</td>\n",
       "      <td>78</td>\n",
       "      <td>0.285714</td>\n",
       "      <td>195</td>\n",
       "    </tr>\n",
       "    <tr>\n",
       "      <th>7</th>\n",
       "      <td>ресторан</td>\n",
       "      <td>2285</td>\n",
       "      <td>544</td>\n",
       "      <td>0.238074</td>\n",
       "      <td>1741</td>\n",
       "    </tr>\n",
       "    <tr>\n",
       "      <th>8</th>\n",
       "      <td>столовая</td>\n",
       "      <td>2587</td>\n",
       "      <td>3</td>\n",
       "      <td>0.001160</td>\n",
       "      <td>2584</td>\n",
       "    </tr>\n",
       "  </tbody>\n",
       "</table>\n",
       "</div>"
      ],
      "text/plain": [
       "      object_type  count  sum_chain  ratio_chain  sum_not_chain\n",
       "0            ПБО*   1923        791     0.411336           1132\n",
       "1             бар    856         37     0.043224            819\n",
       "2           буфет    585         11     0.018803            574\n",
       "3      закусочная    360         56     0.155556            304\n",
       "4            кафе   6099       1396     0.228890           4703\n",
       "5       кафетерий    398         52     0.130653            346\n",
       "6  магазин (ОК**)    273         78     0.285714            195\n",
       "7        ресторан   2285        544     0.238074           1741\n",
       "8        столовая   2587          3     0.001160           2584"
      ]
     },
     "execution_count": 10,
     "metadata": {},
     "output_type": "execute_result"
    }
   ],
   "source": [
    "# сводная таблица по типам заведений\n",
    "pivot_rest = rest_data.pivot_table(index='object_type',\n",
    "                                   values='is_chain', \n",
    "                                   aggfunc=['count', 'sum', 'mean'])\n",
    "# обновляем индексы\n",
    "pivot_rest.reset_index(inplace=True)\n",
    "\n",
    "# переименовываем столбцы\n",
    "pivot_rest.columns = ['object_type', 'count', 'sum_chain', 'ratio_chain']\n",
    "\n",
    "# столбец с количеством не сетевых заведений\n",
    "pivot_rest['sum_not_chain'] = pivot_rest['count'] - pivot_rest['sum_chain']\n",
    "pivot_rest"
   ]
  },
  {
   "cell_type": "markdown",
   "metadata": {},
   "source": [
    "## Виды объектов общественного питания\n",
    "\n",
    "Исследуем количество заведений разных типов."
   ]
  },
  {
   "cell_type": "code",
   "execution_count": 11,
   "metadata": {},
   "outputs": [
    {
     "data": {
      "image/png": "[encoded data removed]",
      "text/plain": [
       "<Figure size 720x360 with 1 Axes>"
      ]
     },
     "metadata": {
      "needs_background": "light"
     },
     "output_type": "display_data"
    }
   ],
   "source": [
    "# график количества заведений разных типов\n",
    "plt.figure(figsize=(10, 5))\n",
    "ax = sns.barplot(x='object_type', \n",
    "                 y='count', \n",
    "                 data=pivot_rest.sort_values(by='count', ascending=False))\n",
    "plt.grid()\n",
    "plt.xticks(rotation=30)\n",
    "\n",
    "# сноски для презентации\n",
    "plt.figtext(0, -0.15, \n",
    "            '* ПБО - предприятие быстрого обслуживания \\n** ОК - отдел кулинарии',\n",
    "            ha=\"left\", fontsize=11)\n",
    "plt.title('Cоотношение видов объектов общественного питания по количеству')\n",
    "plt.xlabel('Тип заведения')\n",
    "plt.ylabel('Количество заведений')\n",
    "plt.show()"
   ]
  },
  {
   "cell_type": "markdown",
   "metadata": {},
   "source": [
    "Видно, что большенство заведений общественного питания Москвы составляют кафе - больше, чем 6000 заведений. Самым редким являются отделы кулинарии в магазинах. Это неудивительно, что мало магазинов имеют такой отдел, ведь они не очень популярны среди покупателей. Такие отделы чаще всего встречают в супермаркетах и гипермаркетах."
   ]
  },
  {
   "cell_type": "markdown",
   "metadata": {},
   "source": [
    "## Количество сетевых и несетевых заведений"
   ]
  },
  {
   "cell_type": "code",
   "execution_count": 12,
   "metadata": {},
   "outputs": [
    {
     "data": {
      "image/png": "[encoded data removed]",
      "text/plain": [
       "<Figure size 720x360 with 1 Axes>"
      ]
     },
     "metadata": {
      "needs_background": "light"
     },
     "output_type": "display_data"
    }
   ],
   "source": [
    "# график количества сетевых заведений\n",
    "plt.figure(figsize=(10, 5))\n",
    "ax = sns.barplot(x='chain', \n",
    "                 y='id', \n",
    "                 data=rest_data, \n",
    "                estimator=len)\n",
    "plt.grid()\n",
    "plt.title('Cоотношение сетей общественного питания по количеству')\n",
    "plt.xlabel('Является сетью')\n",
    "plt.ylabel('Количество заведений')\n",
    "plt.show()"
   ]
  },
  {
   "cell_type": "markdown",
   "metadata": {},
   "source": [
    "Видно, что несетевых заведений гораздо больше, чем сетевых. Посмотрим на это отношение в разбивке по типах заведений."
   ]
  },
  {
   "cell_type": "code",
   "execution_count": 13,
   "metadata": {},
   "outputs": [
    {
     "data": {
      "image/png": "[encoded data removed]",
      "text/plain": [
       "<Figure size 720x360 with 1 Axes>"
      ]
     },
     "metadata": {
      "needs_background": "light"
     },
     "output_type": "display_data"
    }
   ],
   "source": [
    "# груфик отношения сетевых заведений в рабивке по типам\n",
    "plt.figure(figsize=(10, 5))\n",
    "ax = sns.barplot(x='object_type', \n",
    "                 y='id', \n",
    "                 data=rest_data, \n",
    "                 hue='chain',\n",
    "                 estimator=len)\n",
    "plt.grid()\n",
    "plt.xticks(rotation=30)\n",
    "plt.figtext(0, -0.15, \n",
    "            '* ПБО - предприятие быстрого обслуживания \\n** ОК - отдел кулинарии',\n",
    "            ha=\"left\", fontsize=11)\n",
    "plt.title('Cоотношение сетевых объектов общественного питания')\n",
    "plt.xlabel('Тип заведения')\n",
    "plt.ylabel('Количество заведений')\n",
    "plt.legend(title=' Является сетью ', framealpha=1)\n",
    "plt.show()"
   ]
  },
  {
   "cell_type": "markdown",
   "metadata": {},
   "source": [
    "Видно, что у всех типов заведений несетевые - более популярны. Однако, несмотря на то, что сетевых кафе больше, чем сетевых заведений других типов, несетевых кафе в разы больше. Чего нельзя сказать о предприятиях быстрого обслуживания. Числа сетевых и несетевых заведений близки. Посмотрим на долю сетевых магазинов для каждого типа."
   ]
  },
  {
   "cell_type": "code",
   "execution_count": 14,
   "metadata": {},
   "outputs": [
    {
     "data": {
      "image/png": "[encoded data removed]",
      "text/plain": [
       "<Figure size 720x360 with 1 Axes>"
      ]
     },
     "metadata": {
      "needs_background": "light"
     },
     "output_type": "display_data"
    }
   ],
   "source": [
    "# график долей сетевых заведений разных типов\n",
    "plt.figure(figsize=(10, 5))\n",
    "ax = sns.barplot(x='object_type', \n",
    "                 y='ratio_chain', \n",
    "                 data=pivot_rest.sort_values(by='ratio_chain', ascending=False))\n",
    "plt.grid()\n",
    "plt.xticks(rotation=30)\n",
    "plt.figtext(0, -0.15, \n",
    "            '* ПБО - предприятие быстрого обслуживания \\n** ОК - отдел кулинарии',\n",
    "            ha=\"left\", fontsize=11)\n",
    "plt.title('Доля сетевых заведений общественного питания')\n",
    "plt.xlabel('Тип заведения')\n",
    "plt.ylabel('Доля сетевых заведений')\n",
    "plt.show()"
   ]
  },
  {
   "cell_type": "markdown",
   "metadata": {},
   "source": [
    "Больше 40 процентов предприятий быстрого обслуживания - сетевые. Значит наиболее популярны сетевые заведения у ПБО. А вот сетевые столовые встречаются крайне редко."
   ]
  },
  {
   "cell_type": "markdown",
   "metadata": {},
   "source": [
    "## Сетевые заведения\n",
    "\n",
    "Посмотрим, характерно для сетевых заведений: много заведений с небольшим числом посадочных мест в каждом или мало заведений с большим количеством посадочных мест."
   ]
  },
  {
   "cell_type": "code",
   "execution_count": 15,
   "metadata": {},
   "outputs": [],
   "source": [
    "# оставляем только сетевые заведения \n",
    "chain_rest = rest_data.query('is_chain == True')"
   ]
  },
  {
   "cell_type": "code",
   "execution_count": 16,
   "metadata": {},
   "outputs": [
    {
     "data": {
      "text/html": [
       "<div>\n",
       "<style scoped>\n",
       "    .dataframe tbody tr th:only-of-type {\n",
       "        vertical-align: middle;\n",
       "    }\n",
       "\n",
       "    .dataframe tbody tr th {\n",
       "        vertical-align: top;\n",
       "    }\n",
       "\n",
       "    .dataframe thead th {\n",
       "        text-align: right;\n",
       "    }\n",
       "</style>\n",
       "<table border=\"1\" class=\"dataframe\">\n",
       "  <thead>\n",
       "    <tr style=\"text-align: right;\">\n",
       "      <th></th>\n",
       "      <th>object_name</th>\n",
       "      <th>object_number</th>\n",
       "      <th>avg_number</th>\n",
       "    </tr>\n",
       "  </thead>\n",
       "  <tbody>\n",
       "    <tr>\n",
       "      <th>30</th>\n",
       "      <td>KFC</td>\n",
       "      <td>155</td>\n",
       "      <td>45.0</td>\n",
       "    </tr>\n",
       "    <tr>\n",
       "      <th>702</th>\n",
       "      <td>Шоколадница</td>\n",
       "      <td>141</td>\n",
       "      <td>50.0</td>\n",
       "    </tr>\n",
       "    <tr>\n",
       "      <th>418</th>\n",
       "      <td>Макдоналдс</td>\n",
       "      <td>122</td>\n",
       "      <td>75.0</td>\n",
       "    </tr>\n",
       "    <tr>\n",
       "      <th>127</th>\n",
       "      <td>Бургер Кинг</td>\n",
       "      <td>122</td>\n",
       "      <td>41.5</td>\n",
       "    </tr>\n",
       "    <tr>\n",
       "      <th>195</th>\n",
       "      <td>Домино'с Пицца</td>\n",
       "      <td>86</td>\n",
       "      <td>16.0</td>\n",
       "    </tr>\n",
       "  </tbody>\n",
       "</table>\n",
       "</div>"
      ],
      "text/plain": [
       "        object_name  object_number  avg_number\n",
       "30              KFC            155        45.0\n",
       "702     Шоколадница            141        50.0\n",
       "418      Макдоналдс            122        75.0\n",
       "127     Бургер Кинг            122        41.5\n",
       "195  Домино'с Пицца             86        16.0"
      ]
     },
     "execution_count": 16,
     "metadata": {},
     "output_type": "execute_result"
    }
   ],
   "source": [
    "# вспомогательная таблица с количеством заведений в сети и средним количеством мест\n",
    "pivot_chain = chain_rest.groupby('object_name').agg({'id': 'count', \n",
    "                                                     'number': 'median'}).reset_index()\n",
    "pivot_chain.sort_values(by='id', ascending=False, inplace=True)\n",
    "pivot_chain.columns = ['object_name', 'object_number', 'avg_number']\n",
    "pivot_chain.head()"
   ]
  },
  {
   "cell_type": "code",
   "execution_count": 17,
   "metadata": {},
   "outputs": [
    {
     "data": {
      "image/png": "[encoded data removed]",
      "text/plain": [
       "<Figure size 432x432 with 3 Axes>"
      ]
     },
     "metadata": {
      "needs_background": "light"
     },
     "output_type": "display_data"
    }
   ],
   "source": [
    "# точечная диаграмма и гистограммы\n",
    "ax = sns.jointplot(x='avg_number', \n",
    "                 y='object_number', \n",
    "                 data=pivot_chain)\n",
    "plt.grid()\n",
    "plt.title('Зависимость количества посадочных мест от количества заведений в сети\\n\\n\\n\\n')\n",
    "plt.xlabel('Среднее количество посадочных мест')\n",
    "plt.ylabel('Количество заведений в сети')\n",
    "plt.show()"
   ]
  },
  {
   "cell_type": "markdown",
   "metadata": {},
   "source": [
    "По графику видно, что большинство сетей содержат не больше 5 заведений или имеют до 50 посадочных мест. Видно, что самые крупные сети имеют в среднем от 50 до 100 посадочных мест. Я бы не сказала, что это мало. Но сети, где среднее значение посадочных мест превышает 150, не имеют больше 5 заведений. \n",
    "\n",
    "Можно сделать вывод, что сетевым заведениям больше характерно много посадочных мест при малом количестве заведений. А мало посадочных мест существуют и в крупных и в мелких сетях. "
   ]
  },
  {
   "cell_type": "markdown",
   "metadata": {},
   "source": [
    "## Среднее количество посадочных мест\n",
    "\n",
    "Посмотрим, какой тип заведений имеет в среднем больше всех посадочных мест."
   ]
  },
  {
   "cell_type": "code",
   "execution_count": 18,
   "metadata": {},
   "outputs": [
    {
     "data": {
      "image/png": "[encoded data removed]",
      "text/plain": [
       "<Figure size 720x360 with 1 Axes>"
      ]
     },
     "metadata": {
      "needs_background": "light"
     },
     "output_type": "display_data"
    }
   ],
   "source": [
    "# график медианных значений посадочных мест\n",
    "plt.figure(figsize=(10, 5))\n",
    "ax = sns.barplot(x='object_type', \n",
    "                 y='number', \n",
    "                 data=rest_data,\n",
    "                 estimator=median)\n",
    "plt.grid()\n",
    "plt.xticks(rotation=30)\n",
    "plt.figtext(0, -0.15, \n",
    "            '* ПБО - предприятие быстрого обслуживания \\n** ОК - отдел кулинарии',\n",
    "            ha=\"left\", fontsize=11)\n",
    "plt.title('Медианное количество посадочных мест')\n",
    "plt.xlabel('Тип заведения')\n",
    "plt.ylabel('Количетво посадочных мест')\n",
    "plt.show()"
   ]
  },
  {
   "cell_type": "markdown",
   "metadata": {},
   "source": [
    "На графике изображено именно медианное количество мест, так как эта величина более устойчива к выбросам. Видно, что в среднем больше всех мест в столовых, и это не удивительно. В столовую всегда приходит много людей, например, на обед. Еда из столовых для многих предпочтительнее по цене и вкусу чем перекусы из буфетов и кофеен. В большенстве закусочных и отделов кулинарии в магазинах часто нет посадочных мест, что и отображено на графике. Еду в таких заведениях обычно берут с собой. \n",
    "\n",
    "Рассмотрим каждый тип подробнее."
   ]
  },
  {
   "cell_type": "code",
   "execution_count": 19,
   "metadata": {},
   "outputs": [
    {
     "data": {
      "image/png": "[encoded data removed]",
      "text/plain": [
       "<Figure size 720x360 with 1 Axes>"
      ]
     },
     "metadata": {
      "needs_background": "light"
     },
     "output_type": "display_data"
    }
   ],
   "source": [
    "# распределения посадочных мест\n",
    "plt.figure(figsize=(10, 5))\n",
    "ax = sns.boxplot(x='object_type', \n",
    "                 y='number', \n",
    "                 data=rest_data)\n",
    "plt.xticks(rotation=30)\n",
    "plt.grid()\n",
    "plt.figtext(0, -0.15, \n",
    "            '* ПБО - предприятие быстрого обслуживания \\n** ОК - отдел кулинарии',\n",
    "            ha=\"left\", fontsize=11)\n",
    "plt.title('Распределение количества посадочных мест')\n",
    "plt.xlabel('Тип заведения')\n",
    "plt.ylabel('Количетво посадочных мест')\n",
    "plt.show()"
   ]
  },
  {
   "cell_type": "markdown",
   "metadata": {},
   "source": [
    "Наблюдаются аномальные значения у многих типов заведений. Самые заметые - у столовых, баров  ресторанов - около 1500 посадочных мест. Отделы кулинарии в магазинах, кафетерии и закусочные стабильно имеют малое количество мест (там часто берут еду на вынос). На фоне других выбросы совсем незначительные. \n",
    "\n",
    "Насчёт разных названий заведений одной и той же сети типа \"KFC\" и других. У нас достаточно много заведений с одинаковыми нзываниями, чтобы судить о масштабах сети и количестве мест. Если несколько заведений из таких сетей будет потеряно из-за другого названия - это не сильно отразится на результатах. То же самое можно казать и о маленьких сетях."
   ]
  },
  {
   "cell_type": "markdown",
   "metadata": {},
   "source": [
    "## Адреса\n",
    "Выделим в отдельный столбец улицу из адреса."
   ]
  },
  {
   "cell_type": "code",
   "execution_count": 71,
   "metadata": {},
   "outputs": [],
   "source": [
    "# функция для определения улицы в адресе\n",
    "def get_street(address):\n",
    "    split_address = address.split(', ')\n",
    "    for name in split_address:\n",
    "        if ('улица' in name\n",
    "           or 'проспект' in name\n",
    "           or 'переулок' in name\n",
    "           or 'набережная' in name\n",
    "           or 'шоссе' in name\n",
    "           or 'проезд' in name\n",
    "           or 'бульвар' in name\n",
    "           or 'площадь' in name\n",
    "           or 'аллея' in name\n",
    "           or 'квартал' in name\n",
    "           or 'линия' in name):\n",
    "            return name"
   ]
  },
  {
   "cell_type": "code",
   "execution_count": 72,
   "metadata": {},
   "outputs": [
    {
     "data": {
      "text/html": [
       "<div>\n",
       "<style scoped>\n",
       "    .dataframe tbody tr th:only-of-type {\n",
       "        vertical-align: middle;\n",
       "    }\n",
       "\n",
       "    .dataframe tbody tr th {\n",
       "        vertical-align: top;\n",
       "    }\n",
       "\n",
       "    .dataframe thead th {\n",
       "        text-align: right;\n",
       "    }\n",
       "</style>\n",
       "<table border=\"1\" class=\"dataframe\">\n",
       "  <thead>\n",
       "    <tr style=\"text-align: right;\">\n",
       "      <th></th>\n",
       "      <th>id</th>\n",
       "      <th>object_name</th>\n",
       "      <th>chain</th>\n",
       "      <th>object_type</th>\n",
       "      <th>address</th>\n",
       "      <th>number</th>\n",
       "      <th>is_chain</th>\n",
       "      <th>streetname</th>\n",
       "    </tr>\n",
       "  </thead>\n",
       "  <tbody>\n",
       "    <tr>\n",
       "      <th>0</th>\n",
       "      <td>151635</td>\n",
       "      <td>СМЕТАНА</td>\n",
       "      <td>нет</td>\n",
       "      <td>кафе</td>\n",
       "      <td>город Москва, улица Егора Абакумова, дом 9</td>\n",
       "      <td>48</td>\n",
       "      <td>False</td>\n",
       "      <td>улица Егора Абакумова</td>\n",
       "    </tr>\n",
       "    <tr>\n",
       "      <th>1</th>\n",
       "      <td>77874</td>\n",
       "      <td>Родник</td>\n",
       "      <td>нет</td>\n",
       "      <td>кафе</td>\n",
       "      <td>город Москва, улица Талалихина, дом 2/1, корпус 1</td>\n",
       "      <td>35</td>\n",
       "      <td>False</td>\n",
       "      <td>улица Талалихина</td>\n",
       "    </tr>\n",
       "    <tr>\n",
       "      <th>2</th>\n",
       "      <td>24309</td>\n",
       "      <td>Кафе «Академия»</td>\n",
       "      <td>нет</td>\n",
       "      <td>кафе</td>\n",
       "      <td>город Москва, Абельмановская улица, дом 6</td>\n",
       "      <td>95</td>\n",
       "      <td>False</td>\n",
       "      <td>Абельмановская улица</td>\n",
       "    </tr>\n",
       "    <tr>\n",
       "      <th>3</th>\n",
       "      <td>21894</td>\n",
       "      <td>ПИЦЦЕТОРИЯ</td>\n",
       "      <td>да</td>\n",
       "      <td>кафе</td>\n",
       "      <td>город Москва, Абрамцевская улица, дом 1</td>\n",
       "      <td>40</td>\n",
       "      <td>True</td>\n",
       "      <td>Абрамцевская улица</td>\n",
       "    </tr>\n",
       "    <tr>\n",
       "      <th>4</th>\n",
       "      <td>119365</td>\n",
       "      <td>Кафе «Вишневая метель»</td>\n",
       "      <td>нет</td>\n",
       "      <td>кафе</td>\n",
       "      <td>город Москва, Абрамцевская улица, дом 9, корпус 1</td>\n",
       "      <td>50</td>\n",
       "      <td>False</td>\n",
       "      <td>Абрамцевская улица</td>\n",
       "    </tr>\n",
       "  </tbody>\n",
       "</table>\n",
       "</div>"
      ],
      "text/plain": [
       "       id             object_name chain object_type  \\\n",
       "0  151635                 СМЕТАНА   нет        кафе   \n",
       "1   77874                  Родник   нет        кафе   \n",
       "2   24309         Кафе «Академия»   нет        кафе   \n",
       "3   21894              ПИЦЦЕТОРИЯ    да        кафе   \n",
       "4  119365  Кафе «Вишневая метель»   нет        кафе   \n",
       "\n",
       "                                             address  number  is_chain  \\\n",
       "0         город Москва, улица Егора Абакумова, дом 9      48     False   \n",
       "1  город Москва, улица Талалихина, дом 2/1, корпус 1      35     False   \n",
       "2          город Москва, Абельмановская улица, дом 6      95     False   \n",
       "3            город Москва, Абрамцевская улица, дом 1      40      True   \n",
       "4  город Москва, Абрамцевская улица, дом 9, корпус 1      50     False   \n",
       "\n",
       "              streetname  \n",
       "0  улица Егора Абакумова  \n",
       "1       улица Талалихина  \n",
       "2   Абельмановская улица  \n",
       "3     Абрамцевская улица  \n",
       "4     Абрамцевская улица  "
      ]
     },
     "execution_count": 72,
     "metadata": {},
     "output_type": "execute_result"
    }
   ],
   "source": [
    "# применяем к каждому адресу функцию\n",
    "rest_data['streetname'] = rest_data['address'].apply(get_street)\n",
    "rest_data.head()"
   ]
  },
  {
   "cell_type": "code",
   "execution_count": 75,
   "metadata": {},
   "outputs": [
    {
     "data": {
      "text/html": [
       "<div>\n",
       "<style scoped>\n",
       "    .dataframe tbody tr th:only-of-type {\n",
       "        vertical-align: middle;\n",
       "    }\n",
       "\n",
       "    .dataframe tbody tr th {\n",
       "        vertical-align: top;\n",
       "    }\n",
       "\n",
       "    .dataframe thead th {\n",
       "        text-align: right;\n",
       "    }\n",
       "</style>\n",
       "<table border=\"1\" class=\"dataframe\">\n",
       "  <thead>\n",
       "    <tr style=\"text-align: right;\">\n",
       "      <th></th>\n",
       "      <th>id</th>\n",
       "      <th>object_name</th>\n",
       "      <th>chain</th>\n",
       "      <th>object_type</th>\n",
       "      <th>address</th>\n",
       "      <th>number</th>\n",
       "      <th>is_chain</th>\n",
       "      <th>streetname</th>\n",
       "    </tr>\n",
       "  </thead>\n",
       "  <tbody>\n",
       "    <tr>\n",
       "      <th>1405</th>\n",
       "      <td>20199</td>\n",
       "      <td>ЭТО</td>\n",
       "      <td>нет</td>\n",
       "      <td>кафе</td>\n",
       "      <td>город Москва, город Зеленоград, корпус 401</td>\n",
       "      <td>35</td>\n",
       "      <td>False</td>\n",
       "      <td>None</td>\n",
       "    </tr>\n",
       "    <tr>\n",
       "      <th>1406</th>\n",
       "      <td>68113</td>\n",
       "      <td>Френдс</td>\n",
       "      <td>нет</td>\n",
       "      <td>кафе</td>\n",
       "      <td>город Москва, город Зеленоград, корпус 435</td>\n",
       "      <td>34</td>\n",
       "      <td>False</td>\n",
       "      <td>None</td>\n",
       "    </tr>\n",
       "    <tr>\n",
       "      <th>1407</th>\n",
       "      <td>20105</td>\n",
       "      <td>Кафе «Граф Монте-Кристо»</td>\n",
       "      <td>нет</td>\n",
       "      <td>кафе</td>\n",
       "      <td>город Москва, город Зеленоград, корпус 436</td>\n",
       "      <td>40</td>\n",
       "      <td>False</td>\n",
       "      <td>None</td>\n",
       "    </tr>\n",
       "    <tr>\n",
       "      <th>1408</th>\n",
       "      <td>22982</td>\n",
       "      <td>Альфорно</td>\n",
       "      <td>нет</td>\n",
       "      <td>кафе</td>\n",
       "      <td>город Москва, город Зеленоград, корпус 438</td>\n",
       "      <td>49</td>\n",
       "      <td>False</td>\n",
       "      <td>None</td>\n",
       "    </tr>\n",
       "    <tr>\n",
       "      <th>1409</th>\n",
       "      <td>151267</td>\n",
       "      <td>Альфорно</td>\n",
       "      <td>нет</td>\n",
       "      <td>кафе</td>\n",
       "      <td>город Москва, город Зеленоград, корпус 438</td>\n",
       "      <td>45</td>\n",
       "      <td>False</td>\n",
       "      <td>None</td>\n",
       "    </tr>\n",
       "    <tr>\n",
       "      <th>...</th>\n",
       "      <td>...</td>\n",
       "      <td>...</td>\n",
       "      <td>...</td>\n",
       "      <td>...</td>\n",
       "      <td>...</td>\n",
       "      <td>...</td>\n",
       "      <td>...</td>\n",
       "      <td>...</td>\n",
       "    </tr>\n",
       "    <tr>\n",
       "      <th>14998</th>\n",
       "      <td>216926</td>\n",
       "      <td>Кафе «Сахли»</td>\n",
       "      <td>нет</td>\n",
       "      <td>закусочная</td>\n",
       "      <td>город Москва, поселение Десеновское, деревня В...</td>\n",
       "      <td>10</td>\n",
       "      <td>False</td>\n",
       "      <td>None</td>\n",
       "    </tr>\n",
       "    <tr>\n",
       "      <th>15015</th>\n",
       "      <td>208239</td>\n",
       "      <td>ГАЗПРОМНЕФТЬ</td>\n",
       "      <td>нет</td>\n",
       "      <td>кафе</td>\n",
       "      <td>поселение \"Мосрентген\", деревня Дудкино, владе...</td>\n",
       "      <td>20</td>\n",
       "      <td>False</td>\n",
       "      <td>None</td>\n",
       "    </tr>\n",
       "    <tr>\n",
       "      <th>15137</th>\n",
       "      <td>209920</td>\n",
       "      <td>Дюшес</td>\n",
       "      <td>да</td>\n",
       "      <td>ресторан</td>\n",
       "      <td>город Москва, город Зеленоград, Проезд № 4806,...</td>\n",
       "      <td>100</td>\n",
       "      <td>True</td>\n",
       "      <td>None</td>\n",
       "    </tr>\n",
       "    <tr>\n",
       "      <th>15184</th>\n",
       "      <td>220587</td>\n",
       "      <td>Пицца Паоло</td>\n",
       "      <td>да</td>\n",
       "      <td>кафетерий</td>\n",
       "      <td>город Москва, город Зеленоград, корпус 1627</td>\n",
       "      <td>0</td>\n",
       "      <td>True</td>\n",
       "      <td>None</td>\n",
       "    </tr>\n",
       "    <tr>\n",
       "      <th>15274</th>\n",
       "      <td>211230</td>\n",
       "      <td>Предприятие быстрого обслуживания «Милти»</td>\n",
       "      <td>да</td>\n",
       "      <td>ПБО*</td>\n",
       "      <td>город Москва, микрорайон Северное Чертаново, д...</td>\n",
       "      <td>0</td>\n",
       "      <td>True</td>\n",
       "      <td>None</td>\n",
       "    </tr>\n",
       "  </tbody>\n",
       "</table>\n",
       "<p>399 rows × 8 columns</p>\n",
       "</div>"
      ],
      "text/plain": [
       "           id                                object_name chain object_type  \\\n",
       "1405    20199                                        ЭТО   нет        кафе   \n",
       "1406    68113                                     Френдс   нет        кафе   \n",
       "1407    20105                   Кафе «Граф Монте-Кристо»   нет        кафе   \n",
       "1408    22982                                   Альфорно   нет        кафе   \n",
       "1409   151267                                   Альфорно   нет        кафе   \n",
       "...       ...                                        ...   ...         ...   \n",
       "14998  216926                               Кафе «Сахли»   нет  закусочная   \n",
       "15015  208239                               ГАЗПРОМНЕФТЬ   нет        кафе   \n",
       "15137  209920                                      Дюшес    да    ресторан   \n",
       "15184  220587                                Пицца Паоло    да   кафетерий   \n",
       "15274  211230  Предприятие быстрого обслуживания «Милти»    да        ПБО*   \n",
       "\n",
       "                                                 address  number  is_chain  \\\n",
       "1405          город Москва, город Зеленоград, корпус 401      35     False   \n",
       "1406          город Москва, город Зеленоград, корпус 435      34     False   \n",
       "1407          город Москва, город Зеленоград, корпус 436      40     False   \n",
       "1408          город Москва, город Зеленоград, корпус 438      49     False   \n",
       "1409          город Москва, город Зеленоград, корпус 438      45     False   \n",
       "...                                                  ...     ...       ...   \n",
       "14998  город Москва, поселение Десеновское, деревня В...      10     False   \n",
       "15015  поселение \"Мосрентген\", деревня Дудкино, владе...      20     False   \n",
       "15137  город Москва, город Зеленоград, Проезд № 4806,...     100      True   \n",
       "15184        город Москва, город Зеленоград, корпус 1627       0      True   \n",
       "15274  город Москва, микрорайон Северное Чертаново, д...       0      True   \n",
       "\n",
       "      streetname  \n",
       "1405        None  \n",
       "1406        None  \n",
       "1407        None  \n",
       "1408        None  \n",
       "1409        None  \n",
       "...          ...  \n",
       "14998       None  \n",
       "15015       None  \n",
       "15137       None  \n",
       "15184       None  \n",
       "15274       None  \n",
       "\n",
       "[399 rows x 8 columns]"
      ]
     },
     "execution_count": 75,
     "metadata": {},
     "output_type": "execute_result"
    }
   ],
   "source": [
    "rest_data[rest_data['streetname'].isna()]"
   ]
  },
  {
   "cell_type": "markdown",
   "metadata": {},
   "source": [
    "Возможно, в каких-то строках с адресами есть некорректная запись, например, не указан город, тогда в новый стоблец может попасть информация, например о доме. Таких строк будет совсем немного и они не повлияют на результат анализа."
   ]
  },
  {
   "cell_type": "markdown",
   "metadata": {},
   "source": [
    "## Топ-10 улиц по количеству объектов общественного питания"
   ]
  },
  {
   "cell_type": "markdown",
   "metadata": {},
   "source": [
    "Определим, на каких улицах расположено больше всего объектов общественного питания и определим этот район Москвы."
   ]
  },
  {
   "cell_type": "code",
   "execution_count": 22,
   "metadata": {},
   "outputs": [
    {
     "data": {
      "text/html": [
       "<div>\n",
       "<style scoped>\n",
       "    .dataframe tbody tr th:only-of-type {\n",
       "        vertical-align: middle;\n",
       "    }\n",
       "\n",
       "    .dataframe tbody tr th {\n",
       "        vertical-align: top;\n",
       "    }\n",
       "\n",
       "    .dataframe thead th {\n",
       "        text-align: right;\n",
       "    }\n",
       "</style>\n",
       "<table border=\"1\" class=\"dataframe\">\n",
       "  <thead>\n",
       "    <tr style=\"text-align: right;\">\n",
       "      <th></th>\n",
       "      <th>streetname</th>\n",
       "      <th>areaid</th>\n",
       "      <th>okrug</th>\n",
       "      <th>area</th>\n",
       "    </tr>\n",
       "  </thead>\n",
       "  <tbody>\n",
       "    <tr>\n",
       "      <th>0</th>\n",
       "      <td>Выставочный переулок</td>\n",
       "      <td>17</td>\n",
       "      <td>ЦАО</td>\n",
       "      <td>Пресненский район</td>\n",
       "    </tr>\n",
       "    <tr>\n",
       "      <th>1</th>\n",
       "      <td>улица Гашека</td>\n",
       "      <td>17</td>\n",
       "      <td>ЦАО</td>\n",
       "      <td>Пресненский район</td>\n",
       "    </tr>\n",
       "    <tr>\n",
       "      <th>2</th>\n",
       "      <td>Большая Никитская улица</td>\n",
       "      <td>17</td>\n",
       "      <td>ЦАО</td>\n",
       "      <td>Пресненский район</td>\n",
       "    </tr>\n",
       "    <tr>\n",
       "      <th>3</th>\n",
       "      <td>Глубокий переулок</td>\n",
       "      <td>17</td>\n",
       "      <td>ЦАО</td>\n",
       "      <td>Пресненский район</td>\n",
       "    </tr>\n",
       "    <tr>\n",
       "      <th>4</th>\n",
       "      <td>Большой Гнездниковский переулок</td>\n",
       "      <td>17</td>\n",
       "      <td>ЦАО</td>\n",
       "      <td>Пресненский район</td>\n",
       "    </tr>\n",
       "  </tbody>\n",
       "</table>\n",
       "</div>"
      ],
      "text/plain": [
       "                        streetname  areaid okrug               area\n",
       "0             Выставочный переулок      17   ЦАО  Пресненский район\n",
       "1                     улица Гашека      17   ЦАО  Пресненский район\n",
       "2          Большая Никитская улица      17   ЦАО  Пресненский район\n",
       "3                Глубокий переулок      17   ЦАО  Пресненский район\n",
       "4  Большой Гнездниковский переулок      17   ЦАО  Пресненский район"
      ]
     },
     "execution_count": 22,
     "metadata": {},
     "output_type": "execute_result"
    }
   ],
   "source": [
    "# открываем данные о районах Москвы\n",
    "area_data = pd.read_csv('https://frs.noosphere.ru/xmlui/bitstream/handle/20.500.11925/714058/mosgaz-streets.csv')\n",
    "area_data.head()"
   ]
  },
  {
   "cell_type": "code",
   "execution_count": 76,
   "metadata": {},
   "outputs": [
    {
     "data": {
      "text/html": [
       "<div>\n",
       "<style scoped>\n",
       "    .dataframe tbody tr th:only-of-type {\n",
       "        vertical-align: middle;\n",
       "    }\n",
       "\n",
       "    .dataframe tbody tr th {\n",
       "        vertical-align: top;\n",
       "    }\n",
       "\n",
       "    .dataframe thead th {\n",
       "        text-align: right;\n",
       "    }\n",
       "</style>\n",
       "<table border=\"1\" class=\"dataframe\">\n",
       "  <thead>\n",
       "    <tr style=\"text-align: right;\">\n",
       "      <th></th>\n",
       "      <th>streetname</th>\n",
       "      <th>count</th>\n",
       "    </tr>\n",
       "  </thead>\n",
       "  <tbody>\n",
       "    <tr>\n",
       "      <th>1414</th>\n",
       "      <td>проспект Мира</td>\n",
       "      <td>204</td>\n",
       "    </tr>\n",
       "    <tr>\n",
       "      <th>1008</th>\n",
       "      <td>Профсоюзная улица</td>\n",
       "      <td>183</td>\n",
       "    </tr>\n",
       "    <tr>\n",
       "      <th>682</th>\n",
       "      <td>Ленинградский проспект</td>\n",
       "      <td>173</td>\n",
       "    </tr>\n",
       "    <tr>\n",
       "      <th>992</th>\n",
       "      <td>Пресненская набережная</td>\n",
       "      <td>167</td>\n",
       "    </tr>\n",
       "    <tr>\n",
       "      <th>396</th>\n",
       "      <td>Варшавское шоссе</td>\n",
       "      <td>165</td>\n",
       "    </tr>\n",
       "    <tr>\n",
       "      <th>685</th>\n",
       "      <td>Ленинский проспект</td>\n",
       "      <td>148</td>\n",
       "    </tr>\n",
       "    <tr>\n",
       "      <th>1410</th>\n",
       "      <td>проспект Вернадского</td>\n",
       "      <td>132</td>\n",
       "    </tr>\n",
       "    <tr>\n",
       "      <th>672</th>\n",
       "      <td>Кутузовский проспект</td>\n",
       "      <td>114</td>\n",
       "    </tr>\n",
       "    <tr>\n",
       "      <th>596</th>\n",
       "      <td>Каширское шоссе</td>\n",
       "      <td>112</td>\n",
       "    </tr>\n",
       "    <tr>\n",
       "      <th>603</th>\n",
       "      <td>Кировоградская улица</td>\n",
       "      <td>110</td>\n",
       "    </tr>\n",
       "  </tbody>\n",
       "</table>\n",
       "</div>"
      ],
      "text/plain": [
       "                  streetname  count\n",
       "1414           проспект Мира    204\n",
       "1008       Профсоюзная улица    183\n",
       "682   Ленинградский проспект    173\n",
       "992   Пресненская набережная    167\n",
       "396         Варшавское шоссе    165\n",
       "685       Ленинский проспект    148\n",
       "1410    проспект Вернадского    132\n",
       "672     Кутузовский проспект    114\n",
       "596          Каширское шоссе    112\n",
       "603     Кировоградская улица    110"
      ]
     },
     "execution_count": 76,
     "metadata": {},
     "output_type": "execute_result"
    }
   ],
   "source": [
    "# количество заведений на улицах\n",
    "rest_street = (rest_data\n",
    "               .groupby('streetname').agg({'id': 'nunique'})\n",
    "               .reset_index()\n",
    "               .sort_values(by='id', ascending=False)\n",
    "               .rename(columns={'id': 'count'})\n",
    ")\n",
    "\n",
    "top10 = rest_street.head(10)\n",
    "top10"
   ]
  },
  {
   "cell_type": "markdown",
   "metadata": {},
   "source": [
    "Так как некоторые из этих улиц находятся в разных районах, определим их отдельно."
   ]
  },
  {
   "cell_type": "code",
   "execution_count": 24,
   "metadata": {},
   "outputs": [
    {
     "data": {
      "text/html": [
       "<div>\n",
       "<style scoped>\n",
       "    .dataframe tbody tr th:only-of-type {\n",
       "        vertical-align: middle;\n",
       "    }\n",
       "\n",
       "    .dataframe tbody tr th {\n",
       "        vertical-align: top;\n",
       "    }\n",
       "\n",
       "    .dataframe thead th {\n",
       "        text-align: right;\n",
       "    }\n",
       "</style>\n",
       "<table border=\"1\" class=\"dataframe\">\n",
       "  <thead>\n",
       "    <tr style=\"text-align: right;\">\n",
       "      <th></th>\n",
       "      <th>area</th>\n",
       "      <th>streetname</th>\n",
       "    </tr>\n",
       "  </thead>\n",
       "  <tbody>\n",
       "    <tr>\n",
       "      <th>30</th>\n",
       "      <td>Район Чертаново Центральное</td>\n",
       "      <td>2</td>\n",
       "    </tr>\n",
       "    <tr>\n",
       "      <th>2</th>\n",
       "      <td>Донской район</td>\n",
       "      <td>2</td>\n",
       "    </tr>\n",
       "    <tr>\n",
       "      <th>3</th>\n",
       "      <td>Ломоносовский район</td>\n",
       "      <td>2</td>\n",
       "    </tr>\n",
       "    <tr>\n",
       "      <th>19</th>\n",
       "      <td>Район Проспект Вернадского</td>\n",
       "      <td>2</td>\n",
       "    </tr>\n",
       "    <tr>\n",
       "      <th>6</th>\n",
       "      <td>Обручевский район</td>\n",
       "      <td>2</td>\n",
       "    </tr>\n",
       "    <tr>\n",
       "      <th>25</th>\n",
       "      <td>Район Теплый Стан</td>\n",
       "      <td>2</td>\n",
       "    </tr>\n",
       "    <tr>\n",
       "      <th>16</th>\n",
       "      <td>Район Нагатино-Садовники</td>\n",
       "      <td>2</td>\n",
       "    </tr>\n",
       "    <tr>\n",
       "      <th>31</th>\n",
       "      <td>Район Чертаново Южное</td>\n",
       "      <td>2</td>\n",
       "    </tr>\n",
       "    <tr>\n",
       "      <th>26</th>\n",
       "      <td>Район Тропарево-Никулино</td>\n",
       "      <td>2</td>\n",
       "    </tr>\n",
       "    <tr>\n",
       "      <th>11</th>\n",
       "      <td>Район Гагаринский</td>\n",
       "      <td>2</td>\n",
       "    </tr>\n",
       "    <tr>\n",
       "      <th>29</th>\n",
       "      <td>Район Чертаново Северное</td>\n",
       "      <td>2</td>\n",
       "    </tr>\n",
       "  </tbody>\n",
       "</table>\n",
       "</div>"
      ],
      "text/plain": [
       "                           area  streetname\n",
       "30  Район Чертаново Центральное           2\n",
       "2                 Донской район           2\n",
       "3           Ломоносовский район           2\n",
       "19   Район Проспект Вернадского           2\n",
       "6             Обручевский район           2\n",
       "25            Район Теплый Стан           2\n",
       "16     Район Нагатино-Садовники           2\n",
       "31        Район Чертаново Южное           2\n",
       "26     Район Тропарево-Никулино           2\n",
       "11            Район Гагаринский           2\n",
       "29     Район Чертаново Северное           2"
      ]
     },
     "execution_count": 24,
     "metadata": {},
     "output_type": "execute_result"
    }
   ],
   "source": [
    "# группируем улицы из топа по району\n",
    "top10_street = top10['streetname']\n",
    "(\n",
    "    area_data.query('streetname in @top10_street')\n",
    "    .groupby('area')\n",
    "    .agg({'streetname': 'nunique'})\n",
    "    .reset_index()\n",
    "    .sort_values(by='streetname', ascending=False)\n",
    ").head(11)"
   ]
  },
  {
   "cell_type": "markdown",
   "metadata": {},
   "source": [
    "Таких районов оказалось много, чтобы определить самые популярные для заведений общественного питания районы, возьмём те, через которые проходят несколько улиц из топа. Таких районов оказалось 8 - в них проходят по две улицы из топа. "
   ]
  },
  {
   "cell_type": "code",
   "execution_count": 79,
   "metadata": {},
   "outputs": [
    {
     "data": {
      "text/plain": [
       "10"
      ]
     },
     "execution_count": 79,
     "metadata": {},
     "output_type": "execute_result"
    }
   ],
   "source": [
    "area_data.query('streetname in @top10_street')['streetname'].nunique()"
   ]
  },
  {
   "cell_type": "markdown",
   "metadata": {},
   "source": [
    "## Районы Москвы с малым количеством заведений\n",
    "Определим число улиц с одним объектом общественного питания и определим в каких районах Москвы находятся эти улицы."
   ]
  },
  {
   "cell_type": "code",
   "execution_count": 80,
   "metadata": {},
   "outputs": [],
   "source": [
    "# количество улиц с одним заведением\n",
    "count_1 = rest_street.query('count == 1')['streetname'].count()"
   ]
  },
  {
   "cell_type": "markdown",
   "metadata": {},
   "source": [
    "Поступим также, наверняка таких районов несколько для каждой улицы, поэтому найдем сколько таких улиц и в каком районе."
   ]
  },
  {
   "cell_type": "code",
   "execution_count": 26,
   "metadata": {},
   "outputs": [
    {
     "data": {
      "text/html": [
       "<div>\n",
       "<style scoped>\n",
       "    .dataframe tbody tr th:only-of-type {\n",
       "        vertical-align: middle;\n",
       "    }\n",
       "\n",
       "    .dataframe tbody tr th {\n",
       "        vertical-align: top;\n",
       "    }\n",
       "\n",
       "    .dataframe thead th {\n",
       "        text-align: right;\n",
       "    }\n",
       "</style>\n",
       "<table border=\"1\" class=\"dataframe\">\n",
       "  <thead>\n",
       "    <tr style=\"text-align: right;\">\n",
       "      <th></th>\n",
       "      <th>area</th>\n",
       "      <th>streetname_1_count</th>\n",
       "      <th>streetname_total_count</th>\n",
       "    </tr>\n",
       "  </thead>\n",
       "  <tbody>\n",
       "    <tr>\n",
       "      <th>0</th>\n",
       "      <td>Таганский район</td>\n",
       "      <td>27</td>\n",
       "      <td>81</td>\n",
       "    </tr>\n",
       "    <tr>\n",
       "      <th>1</th>\n",
       "      <td>Район Хамовники</td>\n",
       "      <td>26</td>\n",
       "      <td>74</td>\n",
       "    </tr>\n",
       "    <tr>\n",
       "      <th>2</th>\n",
       "      <td>Басманный район</td>\n",
       "      <td>25</td>\n",
       "      <td>80</td>\n",
       "    </tr>\n",
       "    <tr>\n",
       "      <th>3</th>\n",
       "      <td>Тверской район</td>\n",
       "      <td>20</td>\n",
       "      <td>106</td>\n",
       "    </tr>\n",
       "    <tr>\n",
       "      <th>4</th>\n",
       "      <td>Пресненский район</td>\n",
       "      <td>19</td>\n",
       "      <td>87</td>\n",
       "    </tr>\n",
       "  </tbody>\n",
       "</table>\n",
       "</div>"
      ],
      "text/plain": [
       "                area  streetname_1_count  streetname_total_count\n",
       "0    Таганский район                  27                      81\n",
       "1    Район Хамовники                  26                      74\n",
       "2    Басманный район                  25                      80\n",
       "3     Тверской район                  20                     106\n",
       "4  Пресненский район                  19                      87"
      ]
     },
     "execution_count": 26,
     "metadata": {},
     "output_type": "execute_result"
    }
   ],
   "source": [
    "# список улиц с одним заведением\n",
    "street_1 = rest_street.query('count == 1')['streetname']\n",
    "# список улиц с хотя бы одним заведением\n",
    "street_total = rest_data['streetname'].unique() \n",
    "\n",
    "# таблица, содерщащая информаци о районах, что есть улицы с одним заведением\n",
    "# streetname_1_count - количество улиц с 1 заведением\n",
    "# streetname_total_count \n",
    "msc_areas = (\n",
    "    area_data.query('streetname in @street_1')\n",
    "    .groupby('area')\n",
    "    .agg({'streetname': 'nunique'})\n",
    "    .reset_index()\n",
    "    .sort_values(by='streetname', ascending=False)\n",
    ").merge(\n",
    "    area_data.query('streetname in @street_total')\n",
    "    .groupby('area')\n",
    "    .agg({'streetname': 'nunique'})\n",
    "    .reset_index(),\n",
    "    on='area',\n",
    "    suffixes=['_1_count', '_total_count']\n",
    ")\n",
    "msc_areas.head()"
   ]
  },
  {
   "cell_type": "markdown",
   "metadata": {},
   "source": [
    "Думаю, для инвесторов ничего не сказала бы таблица просто с количеством улиц с одним заведением в районе. Поскольку не понятно, сколько всего улиц в районе, на скольких из них есть заведения, сколько их там вообще? Две улицы с одним заведением в районе хорошо для открытия новых мест, если это единственные улицы в районе, а если на других улицах заведения есть и их в разы больше? \n",
    "\n",
    "Посмотрим на долю таких улиц из всех улиц с заведениями."
   ]
  },
  {
   "cell_type": "code",
   "execution_count": 27,
   "metadata": {},
   "outputs": [
    {
     "data": {
      "text/html": [
       "<div>\n",
       "<style scoped>\n",
       "    .dataframe tbody tr th:only-of-type {\n",
       "        vertical-align: middle;\n",
       "    }\n",
       "\n",
       "    .dataframe tbody tr th {\n",
       "        vertical-align: top;\n",
       "    }\n",
       "\n",
       "    .dataframe thead th {\n",
       "        text-align: right;\n",
       "    }\n",
       "</style>\n",
       "<table border=\"1\" class=\"dataframe\">\n",
       "  <thead>\n",
       "    <tr style=\"text-align: right;\">\n",
       "      <th></th>\n",
       "      <th>area</th>\n",
       "      <th>streetname_1_count</th>\n",
       "      <th>streetname_total_count</th>\n",
       "      <th>ratio</th>\n",
       "    </tr>\n",
       "  </thead>\n",
       "  <tbody>\n",
       "    <tr>\n",
       "      <th>0</th>\n",
       "      <td>Таганский район</td>\n",
       "      <td>27</td>\n",
       "      <td>81</td>\n",
       "      <td>33.333333</td>\n",
       "    </tr>\n",
       "    <tr>\n",
       "      <th>1</th>\n",
       "      <td>Район Хамовники</td>\n",
       "      <td>26</td>\n",
       "      <td>74</td>\n",
       "      <td>35.135135</td>\n",
       "    </tr>\n",
       "    <tr>\n",
       "      <th>2</th>\n",
       "      <td>Басманный район</td>\n",
       "      <td>25</td>\n",
       "      <td>80</td>\n",
       "      <td>31.250000</td>\n",
       "    </tr>\n",
       "    <tr>\n",
       "      <th>3</th>\n",
       "      <td>Тверской район</td>\n",
       "      <td>20</td>\n",
       "      <td>106</td>\n",
       "      <td>18.867925</td>\n",
       "    </tr>\n",
       "    <tr>\n",
       "      <th>4</th>\n",
       "      <td>Пресненский район</td>\n",
       "      <td>19</td>\n",
       "      <td>87</td>\n",
       "      <td>21.839080</td>\n",
       "    </tr>\n",
       "  </tbody>\n",
       "</table>\n",
       "</div>"
      ],
      "text/plain": [
       "                area  streetname_1_count  streetname_total_count      ratio\n",
       "0    Таганский район                  27                      81  33.333333\n",
       "1    Район Хамовники                  26                      74  35.135135\n",
       "2    Басманный район                  25                      80  31.250000\n",
       "3     Тверской район                  20                     106  18.867925\n",
       "4  Пресненский район                  19                      87  21.839080"
      ]
     },
     "execution_count": 27,
     "metadata": {},
     "output_type": "execute_result"
    }
   ],
   "source": [
    "# считаем долю улиц с одним заведением\n",
    "msc_areas['ratio'] = msc_areas['streetname_1_count'] / msc_areas['streetname_total_count'] * 100\n",
    "msc_areas.sort_values(by='streetname_1_count', ascending=False).head()"
   ]
  },
  {
   "cell_type": "code",
   "execution_count": 28,
   "metadata": {},
   "outputs": [
    {
     "data": {
      "text/html": [
       "<div>\n",
       "<style scoped>\n",
       "    .dataframe tbody tr th:only-of-type {\n",
       "        vertical-align: middle;\n",
       "    }\n",
       "\n",
       "    .dataframe tbody tr th {\n",
       "        vertical-align: top;\n",
       "    }\n",
       "\n",
       "    .dataframe thead th {\n",
       "        text-align: right;\n",
       "    }\n",
       "</style>\n",
       "<table border=\"1\" class=\"dataframe\">\n",
       "  <thead>\n",
       "    <tr style=\"text-align: right;\">\n",
       "      <th></th>\n",
       "      <th>area</th>\n",
       "      <th>streetname_1_count</th>\n",
       "      <th>streetname_total_count</th>\n",
       "      <th>ratio</th>\n",
       "    </tr>\n",
       "  </thead>\n",
       "  <tbody>\n",
       "    <tr>\n",
       "      <th>75</th>\n",
       "      <td>Район Восточный</td>\n",
       "      <td>2</td>\n",
       "      <td>3</td>\n",
       "      <td>66.666667</td>\n",
       "    </tr>\n",
       "    <tr>\n",
       "      <th>5</th>\n",
       "      <td>Район Марьина роща</td>\n",
       "      <td>18</td>\n",
       "      <td>35</td>\n",
       "      <td>51.428571</td>\n",
       "    </tr>\n",
       "    <tr>\n",
       "      <th>15</th>\n",
       "      <td>Район Богородское</td>\n",
       "      <td>10</td>\n",
       "      <td>21</td>\n",
       "      <td>47.619048</td>\n",
       "    </tr>\n",
       "    <tr>\n",
       "      <th>16</th>\n",
       "      <td>Нижегородский район</td>\n",
       "      <td>9</td>\n",
       "      <td>19</td>\n",
       "      <td>47.368421</td>\n",
       "    </tr>\n",
       "    <tr>\n",
       "      <th>32</th>\n",
       "      <td>Район Солнцево</td>\n",
       "      <td>6</td>\n",
       "      <td>13</td>\n",
       "      <td>46.153846</td>\n",
       "    </tr>\n",
       "  </tbody>\n",
       "</table>\n",
       "</div>"
      ],
      "text/plain": [
       "                   area  streetname_1_count  streetname_total_count      ratio\n",
       "75      Район Восточный                   2                       3  66.666667\n",
       "5    Район Марьина роща                  18                      35  51.428571\n",
       "15    Район Богородское                  10                      21  47.619048\n",
       "16  Нижегородский район                   9                      19  47.368421\n",
       "32       Район Солнцево                   6                      13  46.153846"
      ]
     },
     "execution_count": 28,
     "metadata": {},
     "output_type": "execute_result"
    }
   ],
   "source": [
    "msc_areas.sort_values(by='ratio', ascending=False).head()"
   ]
  },
  {
   "cell_type": "markdown",
   "metadata": {},
   "source": [
    "Например, в районе Восточный всего три улицы с объектами общественного питания, и на двух из них - всего по одному заведению. А вот в Тверском районе только 20 из 106 улиц имеют 1 заведение - остальные больше."
   ]
  },
  {
   "cell_type": "code",
   "execution_count": 84,
   "metadata": {},
   "outputs": [
    {
     "data": {
      "text/plain": [
       "(517, 543)"
      ]
     },
     "execution_count": 84,
     "metadata": {},
     "output_type": "execute_result"
    }
   ],
   "source": [
    "area_data.query('streetname in @street_1')['streetname'].nunique(), count_1"
   ]
  },
  {
   "cell_type": "code",
   "execution_count": 86,
   "metadata": {},
   "outputs": [
    {
     "data": {
      "text/plain": [
       "(1777, 1893)"
      ]
     },
     "execution_count": 86,
     "metadata": {},
     "output_type": "execute_result"
    }
   ],
   "source": [
    "area_data.query('streetname in @street_total')['streetname'].nunique(), rest_data['streetname'].nunique() "
   ]
  },
  {
   "cell_type": "markdown",
   "metadata": {},
   "source": [
    "## Распределение количества посадочных мест"
   ]
  },
  {
   "cell_type": "code",
   "execution_count": 29,
   "metadata": {},
   "outputs": [
    {
     "data": {
      "image/png": "[encoded data removed]",
      "text/plain": [
       "<Figure size 720x360 with 1 Axes>"
      ]
     },
     "metadata": {
      "needs_background": "light"
     },
     "output_type": "display_data"
    }
   ],
   "source": [
    "# график плотности распределения посадочных мест\n",
    "plt.figure(figsize=(10, 5))\n",
    "ax = sns.distplot(rest_data.query('streetname in @top10_street and number <=300')['number'],\n",
    "                 bins=30)\n",
    "plt.grid()\n",
    "plt.title('Плотность распределения посадочных мест')\n",
    "plt.xlabel('Количество мест')\n",
    "plt.xlim(0, 300)\n",
    "plt.show()"
   ]
  },
  {
   "cell_type": "markdown",
   "metadata": {},
   "source": [
    "По графику видно, что на популярных улицах чаще всего встречаются места c количеством мест до 10. После 300 мест существует несколько аномально больших заведений. Можно сказать, что заведения с количеством мест больше 100 - не самые часто встречающиеся на этих улицах. Посмотрим, как распределены места в разбивке по улицам."
   ]
  },
  {
   "cell_type": "code",
   "execution_count": 30,
   "metadata": {},
   "outputs": [
    {
     "data": {
      "image/png": "[encoded data removed]",
      "text/plain": [
       "<Figure size 864x360 with 1 Axes>"
      ]
     },
     "metadata": {
      "needs_background": "light"
     },
     "output_type": "display_data"
    }
   ],
   "source": [
    "top_data = rest_data.query('streetname in @top10_street')\n",
    "plt.figure(figsize=(12, 5))\n",
    "ax = sns.violinplot(x='streetname',\n",
    "                    y='number',\n",
    "                   data=top_data)\n",
    "plt.grid()\n",
    "\n",
    "plt.xticks(rotation=30)\n",
    "plt.title('Распределение посадочных мест')\n",
    "plt.xlabel('Улица')\n",
    "plt.ylim(0, 300)\n",
    "plt.ylabel('Количетво посадочных мест')\n",
    "plt.show()"
   ]
  },
  {
   "cell_type": "markdown",
   "metadata": {},
   "source": [
    "Самое большое медианное значение посадочных мест на проспекте Мира и на Ленинском проспекте - почти 50 мест. На Кутузовском проспекте самый большой разброс количества мест. А вот на Каширском шоссе медианное значение меньше остальных, скорее всего там много заведений с едой на вынос.  "
   ]
  },
  {
   "cell_type": "markdown",
   "metadata": {},
   "source": [
    "## Вывод\n",
    "\n",
    "Надо знать что интересует инвесторов: популярный район для заведений или район, где будет в принципе маленькая конкуренция.\n",
    "\n",
    "Дело в том, что чем больше заведений открывают на улице, чем вероянее, что в этом большая потребность, то есть на улице большая проходимость. То есть, например, на проспекте Мира есть очень много заведений, значит народ туда приезжает и живёт там большое количество заинтересованных людей. А вдруг большинство из них открыты, но пустуют большую часть времени? Тогда надо открывать в том районе, где спрос большой, но заведений мало. Сложно давать рекомендации, когда не понятно, что для инвесторов важно. Но могу сказать о популярных и не популярных типах заведений и районах. \n",
    "\n",
    "**Тип заведения**\n",
    "*Самый популярный:* кафе. Кафе составляют почти 40 процентов всех объектов общественного питания. популярны как сетевые, так и не сетевые заведения. \n",
    "*Самый непопулярный*: отделы общественного питания и закусочные. В основном люди там берут еду с собой, поэтому у таких заведениях нет растрат на посадочные места. Вопрос к инвесторам: проект дорогой, значит для начала нужно будет протестировать заведение? Возможно, стоит проверить, как роботы будут обслуживать клиентов, которые пришли не на долго и хотят просто забрать еду с собой? \n",
    "\n",
    "**Район расположения**\n",
    "*Самый популярный*: Тверской, на нем 104 улицы с заведениями, и лишь 20 из них всего с одним местом общественного питания. Но больший процент таких улиц в Таганском районе: 81 улица с заведениями, из них 27 улиц с 1 заведением. То есть этот район популярен для объектов общественного питания, но при этом много улиц с всего лишь одним местом. На таких улицах и стоит открывать заведение: и район популярный, и на улице не много конкурентов. \n",
    "*Самый непопулярный*: Восточный - 3 улицы с заведениями, из них на двух улицах по одному. Но если спрос на эти места высокий, но заведение с роботами сможет разгрузить это и стать популярным. Только вот из других районов туда поедут с меньшей вероятностью, чем в Тверской.\n",
    "\n",
    "**Количество посадочных мест** \n",
    "*Оптимальный вариант:* до 25 мест. Если открыть больше - велика вероятность, что в первое время они действительно будут заполнены, а вот позже, когда люди немного потеряют интерес, будут пустовать. Самое большое количество мест обычно у столовых, потому что туда люди приходят просто поесть, им не важно, какая оригинальная идея у заведения и так далее. В обед люди предпочтут столовую, значит много мест и не надо. Можно открыть еду навынос, но тогда и робот понадобится всего один, и площадь можно выбирать небольшую, но зато люди поймут, что роботам можно доверять и тогда они с большей вероятностью потом пойдут в кафе с роботами. "
   ]
  },
  {
   "cell_type": "markdown",
   "metadata": {},
   "source": [
    "# Презентация\n",
    "\n",
    "Презентация: <https://disk.yandex.ru/i/33bSamxROcOIaw>"
   ]
  }
 ],
 "metadata": {
  "ExecuteTimeLog": [
   {
    "duration": 368,
    "start_time": "2022-04-03T18:00:42.288Z"
   },
   {
    "duration": 64,
    "start_time": "2022-04-03T18:01:40.086Z"
   },
   {
    "duration": 3,
    "start_time": "2022-04-03T18:01:44.958Z"
   },
   {
    "duration": 48,
    "start_time": "2022-04-03T18:01:45.205Z"
   },
   {
    "duration": 62,
    "start_time": "2022-04-03T18:02:01.865Z"
   },
   {
    "duration": 13,
    "start_time": "2022-04-03T18:03:03.652Z"
   },
   {
    "duration": 19,
    "start_time": "2022-04-03T18:04:00.688Z"
   },
   {
    "duration": 14,
    "start_time": "2022-04-03T18:04:58.175Z"
   },
   {
    "duration": 16,
    "start_time": "2022-04-03T18:06:14.177Z"
   },
   {
    "duration": 13,
    "start_time": "2022-04-03T18:06:20.547Z"
   },
   {
    "duration": 12,
    "start_time": "2022-04-03T18:06:40.698Z"
   },
   {
    "duration": 17,
    "start_time": "2022-04-03T18:13:29.537Z"
   },
   {
    "duration": 10,
    "start_time": "2022-04-03T18:13:37.653Z"
   },
   {
    "duration": 10,
    "start_time": "2022-04-03T18:15:18.906Z"
   },
   {
    "duration": 12,
    "start_time": "2022-04-03T18:15:38.642Z"
   },
   {
    "duration": 10,
    "start_time": "2022-04-03T18:15:51.092Z"
   },
   {
    "duration": 18,
    "start_time": "2022-04-03T18:18:46.980Z"
   },
   {
    "duration": 9,
    "start_time": "2022-04-03T18:19:03.454Z"
   },
   {
    "duration": 9,
    "start_time": "2022-04-03T18:19:36.571Z"
   },
   {
    "duration": 11,
    "start_time": "2022-04-03T18:19:51.525Z"
   },
   {
    "duration": 11,
    "start_time": "2022-04-03T18:19:55.933Z"
   },
   {
    "duration": 6,
    "start_time": "2022-04-03T18:20:05.451Z"
   },
   {
    "duration": 9,
    "start_time": "2022-04-03T18:20:21.302Z"
   },
   {
    "duration": 132,
    "start_time": "2022-04-03T18:20:23.197Z"
   },
   {
    "duration": 11,
    "start_time": "2022-04-03T18:20:26.701Z"
   },
   {
    "duration": 5,
    "start_time": "2022-04-03T18:27:55.410Z"
   },
   {
    "duration": 6,
    "start_time": "2022-04-03T18:29:59.599Z"
   },
   {
    "duration": 8,
    "start_time": "2022-04-03T18:30:20.686Z"
   },
   {
    "duration": 5,
    "start_time": "2022-04-03T18:30:48.508Z"
   },
   {
    "duration": 4,
    "start_time": "2022-04-03T18:41:58.149Z"
   },
   {
    "duration": 9,
    "start_time": "2022-04-03T18:42:07.986Z"
   },
   {
    "duration": 12,
    "start_time": "2022-04-03T18:42:29.843Z"
   },
   {
    "duration": 413,
    "start_time": "2022-04-03T18:42:39.250Z"
   },
   {
    "duration": 60,
    "start_time": "2022-04-03T18:42:39.665Z"
   },
   {
    "duration": 12,
    "start_time": "2022-04-03T18:42:39.727Z"
   },
   {
    "duration": 6,
    "start_time": "2022-04-03T18:42:39.741Z"
   },
   {
    "duration": 6,
    "start_time": "2022-04-03T18:42:39.762Z"
   },
   {
    "duration": 10,
    "start_time": "2022-04-03T18:42:39.770Z"
   },
   {
    "duration": 13,
    "start_time": "2022-04-03T18:42:49.128Z"
   },
   {
    "duration": 9,
    "start_time": "2022-04-03T18:44:25.451Z"
   },
   {
    "duration": 15,
    "start_time": "2022-04-03T18:44:41.186Z"
   },
   {
    "duration": 410,
    "start_time": "2022-04-03T18:45:08.738Z"
   },
   {
    "duration": 61,
    "start_time": "2022-04-03T18:45:09.150Z"
   },
   {
    "duration": 13,
    "start_time": "2022-04-03T18:45:09.213Z"
   },
   {
    "duration": 6,
    "start_time": "2022-04-03T18:45:09.229Z"
   },
   {
    "duration": 27,
    "start_time": "2022-04-03T18:45:09.236Z"
   },
   {
    "duration": 15,
    "start_time": "2022-04-03T18:45:09.265Z"
   },
   {
    "duration": 60,
    "start_time": "2022-04-03T18:45:52.448Z"
   },
   {
    "duration": 16,
    "start_time": "2022-04-03T18:46:00.911Z"
   },
   {
    "duration": 16,
    "start_time": "2022-04-03T18:46:16.095Z"
   },
   {
    "duration": 2593,
    "start_time": "2022-04-03T18:46:33.648Z"
   },
   {
    "duration": 426,
    "start_time": "2022-04-04T11:28:37.223Z"
   },
   {
    "duration": 69,
    "start_time": "2022-04-04T11:28:37.651Z"
   },
   {
    "duration": 14,
    "start_time": "2022-04-04T11:28:37.721Z"
   },
   {
    "duration": 6,
    "start_time": "2022-04-04T11:28:37.737Z"
   },
   {
    "duration": 10,
    "start_time": "2022-04-04T11:28:37.745Z"
   },
   {
    "duration": 30,
    "start_time": "2022-04-04T11:28:37.757Z"
   },
   {
    "duration": 5,
    "start_time": "2022-04-04T11:34:19.416Z"
   },
   {
    "duration": 19,
    "start_time": "2022-04-04T11:35:29.615Z"
   },
   {
    "duration": 14,
    "start_time": "2022-04-04T11:35:35.983Z"
   },
   {
    "duration": 16,
    "start_time": "2022-04-04T11:35:59.913Z"
   },
   {
    "duration": 27,
    "start_time": "2022-04-04T11:36:31.433Z"
   },
   {
    "duration": 67,
    "start_time": "2022-04-04T11:37:32.404Z"
   },
   {
    "duration": 29,
    "start_time": "2022-04-04T11:37:39.459Z"
   },
   {
    "duration": 20,
    "start_time": "2022-04-04T11:38:20.958Z"
   },
   {
    "duration": 22,
    "start_time": "2022-04-04T11:38:36.244Z"
   },
   {
    "duration": 23,
    "start_time": "2022-04-04T11:38:44.282Z"
   },
   {
    "duration": 5,
    "start_time": "2022-04-04T11:39:15.210Z"
   },
   {
    "duration": 14,
    "start_time": "2022-04-04T11:39:59.998Z"
   },
   {
    "duration": 10,
    "start_time": "2022-04-04T11:40:04.815Z"
   },
   {
    "duration": 22,
    "start_time": "2022-04-04T11:40:25.235Z"
   },
   {
    "duration": 17,
    "start_time": "2022-04-04T11:41:02.029Z"
   },
   {
    "duration": 7,
    "start_time": "2022-04-04T11:42:07.910Z"
   },
   {
    "duration": 6,
    "start_time": "2022-04-04T11:42:11.451Z"
   },
   {
    "duration": 24,
    "start_time": "2022-04-04T11:42:21.982Z"
   },
   {
    "duration": 6,
    "start_time": "2022-04-04T11:53:31.629Z"
   },
   {
    "duration": 954,
    "start_time": "2022-04-04T11:57:14.104Z"
   },
   {
    "duration": 160,
    "start_time": "2022-04-04T11:59:24.262Z"
   },
   {
    "duration": 173,
    "start_time": "2022-04-04T12:00:17.895Z"
   },
   {
    "duration": 173,
    "start_time": "2022-04-04T12:00:30.956Z"
   },
   {
    "duration": 159,
    "start_time": "2022-04-04T12:00:35.756Z"
   },
   {
    "duration": 237,
    "start_time": "2022-04-04T12:00:51.325Z"
   },
   {
    "duration": 3,
    "start_time": "2022-04-04T12:02:10.097Z"
   },
   {
    "duration": 161,
    "start_time": "2022-04-04T12:02:16.630Z"
   },
   {
    "duration": 179,
    "start_time": "2022-04-04T12:17:05.302Z"
   },
   {
    "duration": 179,
    "start_time": "2022-04-04T12:17:39.498Z"
   },
   {
    "duration": 174,
    "start_time": "2022-04-04T12:19:17.622Z"
   },
   {
    "duration": 240,
    "start_time": "2022-04-04T12:19:36.635Z"
   },
   {
    "duration": 8,
    "start_time": "2022-04-04T12:26:28.239Z"
   },
   {
    "duration": 6,
    "start_time": "2022-04-04T12:26:53.514Z"
   },
   {
    "duration": 151,
    "start_time": "2022-04-04T12:26:55.492Z"
   },
   {
    "duration": 163,
    "start_time": "2022-04-04T12:28:02.484Z"
   },
   {
    "duration": 166,
    "start_time": "2022-04-04T12:28:15.527Z"
   },
   {
    "duration": 157,
    "start_time": "2022-04-04T12:28:37.440Z"
   },
   {
    "duration": 164,
    "start_time": "2022-04-04T12:28:49.711Z"
   },
   {
    "duration": 165,
    "start_time": "2022-04-04T12:29:00.982Z"
   },
   {
    "duration": 167,
    "start_time": "2022-04-04T12:29:06.816Z"
   },
   {
    "duration": 162,
    "start_time": "2022-04-04T12:29:14.147Z"
   },
   {
    "duration": 159,
    "start_time": "2022-04-04T12:29:19.200Z"
   },
   {
    "duration": 156,
    "start_time": "2022-04-04T12:29:28.616Z"
   },
   {
    "duration": 166,
    "start_time": "2022-04-04T12:29:38.707Z"
   },
   {
    "duration": 247,
    "start_time": "2022-04-04T12:29:47.133Z"
   },
   {
    "duration": 213,
    "start_time": "2022-04-04T12:31:58.468Z"
   },
   {
    "duration": 186,
    "start_time": "2022-04-04T12:32:08.834Z"
   },
   {
    "duration": 166,
    "start_time": "2022-04-04T12:33:12.340Z"
   },
   {
    "duration": 177,
    "start_time": "2022-04-04T12:33:19.773Z"
   },
   {
    "duration": 1201,
    "start_time": "2022-04-04T12:33:40.683Z"
   },
   {
    "duration": 72,
    "start_time": "2022-04-04T12:33:41.886Z"
   },
   {
    "duration": 16,
    "start_time": "2022-04-04T12:33:41.960Z"
   },
   {
    "duration": 16,
    "start_time": "2022-04-04T12:33:41.978Z"
   },
   {
    "duration": 8,
    "start_time": "2022-04-04T12:33:41.996Z"
   },
   {
    "duration": 29,
    "start_time": "2022-04-04T12:33:42.006Z"
   },
   {
    "duration": 20,
    "start_time": "2022-04-04T12:33:42.037Z"
   },
   {
    "duration": 6,
    "start_time": "2022-04-04T12:33:42.058Z"
   },
   {
    "duration": 207,
    "start_time": "2022-04-04T12:33:42.066Z"
   },
   {
    "duration": 171,
    "start_time": "2022-04-04T12:37:11.868Z"
   },
   {
    "duration": 166,
    "start_time": "2022-04-04T12:37:19.750Z"
   },
   {
    "duration": 185,
    "start_time": "2022-04-04T12:38:13.490Z"
   },
   {
    "duration": 185,
    "start_time": "2022-04-04T12:39:07.945Z"
   },
   {
    "duration": 202,
    "start_time": "2022-04-04T12:39:17.761Z"
   },
   {
    "duration": 189,
    "start_time": "2022-04-04T12:39:22.629Z"
   },
   {
    "duration": 193,
    "start_time": "2022-04-04T12:39:30.497Z"
   },
   {
    "duration": 194,
    "start_time": "2022-04-04T12:39:35.216Z"
   },
   {
    "duration": 299,
    "start_time": "2022-04-04T12:39:45.054Z"
   },
   {
    "duration": 112,
    "start_time": "2022-04-04T12:40:35.804Z"
   },
   {
    "duration": 13,
    "start_time": "2022-04-04T12:40:40.828Z"
   },
   {
    "duration": 200,
    "start_time": "2022-04-04T12:40:50.008Z"
   },
   {
    "duration": 14,
    "start_time": "2022-04-04T12:42:09.426Z"
   },
   {
    "duration": 194,
    "start_time": "2022-04-04T12:42:34.411Z"
   },
   {
    "duration": 448,
    "start_time": "2022-04-04T12:49:48.348Z"
   },
   {
    "duration": 359,
    "start_time": "2022-04-04T12:56:01.185Z"
   },
   {
    "duration": 361,
    "start_time": "2022-04-04T12:58:53.391Z"
   },
   {
    "duration": 361,
    "start_time": "2022-04-04T12:59:21.353Z"
   },
   {
    "duration": 166,
    "start_time": "2022-04-04T13:01:11.710Z"
   },
   {
    "duration": 13,
    "start_time": "2022-04-04T13:01:16.137Z"
   },
   {
    "duration": 173,
    "start_time": "2022-04-04T13:01:21.372Z"
   },
   {
    "duration": 16,
    "start_time": "2022-04-04T13:01:43.629Z"
   },
   {
    "duration": 1243,
    "start_time": "2022-04-04T13:05:09.934Z"
   },
   {
    "duration": 70,
    "start_time": "2022-04-04T13:05:11.179Z"
   },
   {
    "duration": 13,
    "start_time": "2022-04-04T13:05:11.251Z"
   },
   {
    "duration": 12,
    "start_time": "2022-04-04T13:05:11.267Z"
   },
   {
    "duration": 7,
    "start_time": "2022-04-04T13:05:11.281Z"
   },
   {
    "duration": 6,
    "start_time": "2022-04-04T13:05:11.290Z"
   },
   {
    "duration": 44,
    "start_time": "2022-04-04T13:05:11.298Z"
   },
   {
    "duration": 5,
    "start_time": "2022-04-04T13:05:11.344Z"
   },
   {
    "duration": 223,
    "start_time": "2022-04-04T13:05:11.351Z"
   },
   {
    "duration": 375,
    "start_time": "2022-04-04T13:05:11.577Z"
   },
   {
    "duration": 107,
    "start_time": "2022-04-04T13:07:02.742Z"
   },
   {
    "duration": 5,
    "start_time": "2022-04-04T13:07:20.631Z"
   },
   {
    "duration": 7,
    "start_time": "2022-04-04T13:07:27.276Z"
   },
   {
    "duration": 7,
    "start_time": "2022-04-04T13:07:42.600Z"
   },
   {
    "duration": 8,
    "start_time": "2022-04-04T13:08:02.534Z"
   },
   {
    "duration": 13,
    "start_time": "2022-04-04T13:08:12.486Z"
   },
   {
    "duration": 14,
    "start_time": "2022-04-04T13:09:05.352Z"
   },
   {
    "duration": 9,
    "start_time": "2022-04-04T13:09:20.337Z"
   },
   {
    "duration": 16,
    "start_time": "2022-04-04T13:09:39.947Z"
   },
   {
    "duration": 14,
    "start_time": "2022-04-04T13:09:57.674Z"
   },
   {
    "duration": 15,
    "start_time": "2022-04-04T13:10:19.369Z"
   },
   {
    "duration": 11,
    "start_time": "2022-04-04T13:10:24.080Z"
   },
   {
    "duration": 11,
    "start_time": "2022-04-04T13:10:36.884Z"
   },
   {
    "duration": 175,
    "start_time": "2022-04-04T13:10:54.234Z"
   },
   {
    "duration": 357,
    "start_time": "2022-04-04T13:10:58.275Z"
   },
   {
    "duration": 10,
    "start_time": "2022-04-04T13:11:24.180Z"
   },
   {
    "duration": 111,
    "start_time": "2022-04-07T08:50:09.236Z"
   },
   {
    "duration": 1790,
    "start_time": "2022-04-07T08:50:15.788Z"
   },
   {
    "duration": 120,
    "start_time": "2022-04-07T08:50:17.581Z"
   },
   {
    "duration": 28,
    "start_time": "2022-04-07T08:50:17.704Z"
   },
   {
    "duration": 47,
    "start_time": "2022-04-07T08:50:17.735Z"
   },
   {
    "duration": 14,
    "start_time": "2022-04-07T08:50:17.785Z"
   },
   {
    "duration": 9,
    "start_time": "2022-04-07T08:50:17.801Z"
   },
   {
    "duration": 69,
    "start_time": "2022-04-07T08:50:17.813Z"
   },
   {
    "duration": 10,
    "start_time": "2022-04-07T08:50:17.884Z"
   },
   {
    "duration": 490,
    "start_time": "2022-04-07T08:50:17.896Z"
   },
   {
    "duration": 17,
    "start_time": "2022-04-07T08:50:18.390Z"
   },
   {
    "duration": 595,
    "start_time": "2022-04-07T08:50:18.409Z"
   },
   {
    "duration": 12,
    "start_time": "2022-04-07T08:50:19.007Z"
   },
   {
    "duration": 157,
    "start_time": "2022-04-07T08:50:44.911Z"
   },
   {
    "duration": 9,
    "start_time": "2022-04-07T08:50:49.115Z"
   },
   {
    "duration": 320,
    "start_time": "2022-04-07T08:51:08.024Z"
   },
   {
    "duration": 11,
    "start_time": "2022-04-07T08:53:24.336Z"
   },
   {
    "duration": 19,
    "start_time": "2022-04-07T08:55:53.037Z"
   },
   {
    "duration": 11,
    "start_time": "2022-04-07T08:56:09.497Z"
   },
   {
    "duration": 185,
    "start_time": "2022-04-07T08:59:06.391Z"
   },
   {
    "duration": 222,
    "start_time": "2022-04-07T09:27:55.415Z"
   },
   {
    "duration": 209,
    "start_time": "2022-04-07T09:28:07.516Z"
   },
   {
    "duration": 14,
    "start_time": "2022-04-07T09:28:37.048Z"
   },
   {
    "duration": 94,
    "start_time": "2022-04-07T09:44:20.324Z"
   },
   {
    "duration": 736,
    "start_time": "2022-04-07T09:44:24.580Z"
   },
   {
    "duration": 12,
    "start_time": "2022-04-07T09:51:20.573Z"
   },
   {
    "duration": 11,
    "start_time": "2022-04-07T09:51:31.349Z"
   },
   {
    "duration": 20,
    "start_time": "2022-04-07T09:51:36.281Z"
   },
   {
    "duration": 25,
    "start_time": "2022-04-07T09:51:55.244Z"
   },
   {
    "duration": 29,
    "start_time": "2022-04-07T09:52:02.202Z"
   },
   {
    "duration": 12,
    "start_time": "2022-04-07T09:52:14.843Z"
   },
   {
    "duration": 44,
    "start_time": "2022-04-07T09:52:19.465Z"
   },
   {
    "duration": 32,
    "start_time": "2022-04-07T09:52:30.932Z"
   },
   {
    "duration": 41,
    "start_time": "2022-04-07T09:52:56.192Z"
   },
   {
    "duration": 33,
    "start_time": "2022-04-07T09:53:53.927Z"
   },
   {
    "duration": 45,
    "start_time": "2022-04-07T09:54:07.238Z"
   },
   {
    "duration": 31,
    "start_time": "2022-04-07T09:54:23.309Z"
   },
   {
    "duration": 40,
    "start_time": "2022-04-07T09:54:36.975Z"
   },
   {
    "duration": 45,
    "start_time": "2022-04-07T09:54:46.023Z"
   },
   {
    "duration": 39,
    "start_time": "2022-04-07T09:59:10.479Z"
   },
   {
    "duration": 33,
    "start_time": "2022-04-07T09:59:30.042Z"
   },
   {
    "duration": 35,
    "start_time": "2022-04-07T09:59:49.605Z"
   },
   {
    "duration": 32,
    "start_time": "2022-04-07T10:00:14.241Z"
   },
   {
    "duration": 40,
    "start_time": "2022-04-07T10:00:29.282Z"
   },
   {
    "duration": 40,
    "start_time": "2022-04-07T10:00:44.848Z"
   },
   {
    "duration": 41,
    "start_time": "2022-04-07T10:00:59.804Z"
   },
   {
    "duration": 34,
    "start_time": "2022-04-07T10:01:04.079Z"
   },
   {
    "duration": 41,
    "start_time": "2022-04-07T10:01:10.408Z"
   },
   {
    "duration": 296,
    "start_time": "2022-04-07T10:04:56.274Z"
   },
   {
    "duration": 316,
    "start_time": "2022-04-07T10:05:03.795Z"
   },
   {
    "duration": 35,
    "start_time": "2022-04-07T10:08:45.090Z"
   },
   {
    "duration": 36,
    "start_time": "2022-04-07T10:09:09.084Z"
   },
   {
    "duration": 43,
    "start_time": "2022-04-07T10:09:17.504Z"
   },
   {
    "duration": 32,
    "start_time": "2022-04-07T10:11:27.203Z"
   },
   {
    "duration": 416,
    "start_time": "2022-04-07T10:12:26.468Z"
   },
   {
    "duration": 25,
    "start_time": "2022-04-07T10:12:40.251Z"
   },
   {
    "duration": 35,
    "start_time": "2022-04-07T10:13:35.050Z"
   },
   {
    "duration": 1501,
    "start_time": "2022-04-07T10:15:48.597Z"
   },
   {
    "duration": 117,
    "start_time": "2022-04-07T10:15:50.101Z"
   },
   {
    "duration": 20,
    "start_time": "2022-04-07T10:15:50.220Z"
   },
   {
    "duration": 4,
    "start_time": "2022-04-07T10:15:50.243Z"
   },
   {
    "duration": 8,
    "start_time": "2022-04-07T10:15:50.268Z"
   },
   {
    "duration": 10,
    "start_time": "2022-04-07T10:15:50.278Z"
   },
   {
    "duration": 29,
    "start_time": "2022-04-07T10:15:50.290Z"
   },
   {
    "duration": 47,
    "start_time": "2022-04-07T10:15:50.321Z"
   },
   {
    "duration": 336,
    "start_time": "2022-04-07T10:15:50.370Z"
   },
   {
    "duration": 12,
    "start_time": "2022-04-07T10:15:50.709Z"
   },
   {
    "duration": 587,
    "start_time": "2022-04-07T10:15:50.724Z"
   },
   {
    "duration": 15,
    "start_time": "2022-04-07T10:15:51.313Z"
   },
   {
    "duration": 174,
    "start_time": "2022-04-07T10:15:51.330Z"
   },
   {
    "duration": 0,
    "start_time": "2022-04-07T10:15:51.507Z"
   },
   {
    "duration": 0,
    "start_time": "2022-04-07T10:15:51.509Z"
   },
   {
    "duration": 0,
    "start_time": "2022-04-07T10:15:51.511Z"
   },
   {
    "duration": 794,
    "start_time": "2022-04-07T10:16:11.884Z"
   },
   {
    "duration": 69,
    "start_time": "2022-04-07T10:16:26.492Z"
   },
   {
    "duration": 18,
    "start_time": "2022-04-07T10:17:25.639Z"
   },
   {
    "duration": 47,
    "start_time": "2022-04-07T10:17:38.757Z"
   },
   {
    "duration": 25,
    "start_time": "2022-04-07T10:18:03.657Z"
   },
   {
    "duration": 24,
    "start_time": "2022-04-07T10:18:36.864Z"
   },
   {
    "duration": 198,
    "start_time": "2022-04-07T10:18:57.007Z"
   },
   {
    "duration": 293,
    "start_time": "2022-04-07T10:19:26.561Z"
   },
   {
    "duration": 347,
    "start_time": "2022-04-07T10:19:39.014Z"
   },
   {
    "duration": 394,
    "start_time": "2022-04-07T10:19:57.691Z"
   },
   {
    "duration": 334,
    "start_time": "2022-04-07T10:20:48.837Z"
   },
   {
    "duration": 313,
    "start_time": "2022-04-07T10:23:59.428Z"
   },
   {
    "duration": 321,
    "start_time": "2022-04-07T10:24:13.322Z"
   },
   {
    "duration": 334,
    "start_time": "2022-04-07T10:26:02.986Z"
   },
   {
    "duration": 330,
    "start_time": "2022-04-07T10:27:58.127Z"
   },
   {
    "duration": 781,
    "start_time": "2022-04-07T10:29:10.757Z"
   },
   {
    "duration": 1827,
    "start_time": "2022-04-07T11:52:44.119Z"
   },
   {
    "duration": 79,
    "start_time": "2022-04-07T11:52:45.949Z"
   },
   {
    "duration": 19,
    "start_time": "2022-04-07T11:52:46.030Z"
   },
   {
    "duration": 30,
    "start_time": "2022-04-07T11:52:46.051Z"
   },
   {
    "duration": 7,
    "start_time": "2022-04-07T11:52:46.085Z"
   },
   {
    "duration": 11,
    "start_time": "2022-04-07T11:52:46.094Z"
   },
   {
    "duration": 28,
    "start_time": "2022-04-07T11:52:46.107Z"
   },
   {
    "duration": 35,
    "start_time": "2022-04-07T11:52:46.137Z"
   },
   {
    "duration": 321,
    "start_time": "2022-04-07T11:52:46.175Z"
   },
   {
    "duration": 12,
    "start_time": "2022-04-07T11:52:46.499Z"
   },
   {
    "duration": 543,
    "start_time": "2022-04-07T11:52:46.514Z"
   },
   {
    "duration": 17,
    "start_time": "2022-04-07T11:52:47.059Z"
   },
   {
    "duration": 740,
    "start_time": "2022-04-07T11:52:47.079Z"
   },
   {
    "duration": 61,
    "start_time": "2022-04-07T11:52:47.823Z"
   },
   {
    "duration": 319,
    "start_time": "2022-04-07T11:52:47.886Z"
   },
   {
    "duration": 371,
    "start_time": "2022-04-07T11:52:48.207Z"
   },
   {
    "duration": 791,
    "start_time": "2022-04-07T11:52:48.581Z"
   },
   {
    "duration": 340,
    "start_time": "2022-04-07T11:52:49.374Z"
   },
   {
    "duration": 45,
    "start_time": "2022-04-07T11:55:51.846Z"
   },
   {
    "duration": 762,
    "start_time": "2022-04-07T12:00:02.701Z"
   },
   {
    "duration": 718,
    "start_time": "2022-04-07T12:02:08.873Z"
   },
   {
    "duration": 797,
    "start_time": "2022-04-07T12:02:35.800Z"
   },
   {
    "duration": 721,
    "start_time": "2022-04-07T12:03:52.236Z"
   },
   {
    "duration": 72,
    "start_time": "2022-04-07T12:16:50.481Z"
   },
   {
    "duration": 72,
    "start_time": "2022-04-07T12:17:05.093Z"
   },
   {
    "duration": 75,
    "start_time": "2022-04-07T12:17:21.343Z"
   },
   {
    "duration": 77,
    "start_time": "2022-04-07T12:17:54.269Z"
   },
   {
    "duration": 138,
    "start_time": "2022-04-07T12:19:39.453Z"
   },
   {
    "duration": 45,
    "start_time": "2022-04-07T12:19:47.779Z"
   },
   {
    "duration": 42,
    "start_time": "2022-04-07T12:20:52.695Z"
   },
   {
    "duration": 38,
    "start_time": "2022-04-07T12:21:29.463Z"
   },
   {
    "duration": 0,
    "start_time": "2022-04-07T12:22:11.183Z"
   },
   {
    "duration": 0,
    "start_time": "2022-04-07T12:22:11.185Z"
   },
   {
    "duration": 0,
    "start_time": "2022-04-07T12:22:11.186Z"
   },
   {
    "duration": 0,
    "start_time": "2022-04-07T12:22:11.188Z"
   },
   {
    "duration": 0,
    "start_time": "2022-04-07T12:22:11.189Z"
   },
   {
    "duration": 0,
    "start_time": "2022-04-07T12:22:11.191Z"
   },
   {
    "duration": 0,
    "start_time": "2022-04-07T12:22:11.192Z"
   },
   {
    "duration": 0,
    "start_time": "2022-04-07T12:22:11.194Z"
   },
   {
    "duration": 0,
    "start_time": "2022-04-07T12:22:11.195Z"
   },
   {
    "duration": 0,
    "start_time": "2022-04-07T12:22:11.196Z"
   },
   {
    "duration": 0,
    "start_time": "2022-04-07T12:22:11.198Z"
   },
   {
    "duration": 0,
    "start_time": "2022-04-07T12:22:11.199Z"
   },
   {
    "duration": 0,
    "start_time": "2022-04-07T12:22:11.201Z"
   },
   {
    "duration": 0,
    "start_time": "2022-04-07T12:22:11.202Z"
   },
   {
    "duration": 1411,
    "start_time": "2022-04-07T12:23:12.316Z"
   },
   {
    "duration": 84,
    "start_time": "2022-04-07T12:23:13.730Z"
   },
   {
    "duration": 20,
    "start_time": "2022-04-07T12:23:13.819Z"
   },
   {
    "duration": 40,
    "start_time": "2022-04-07T12:23:13.841Z"
   },
   {
    "duration": 10,
    "start_time": "2022-04-07T12:23:13.883Z"
   },
   {
    "duration": 7,
    "start_time": "2022-04-07T12:23:13.895Z"
   },
   {
    "duration": 25,
    "start_time": "2022-04-07T12:23:13.905Z"
   },
   {
    "duration": 40,
    "start_time": "2022-04-07T12:23:13.932Z"
   },
   {
    "duration": 46,
    "start_time": "2022-04-07T12:23:13.976Z"
   },
   {
    "duration": 357,
    "start_time": "2022-04-07T12:23:14.024Z"
   },
   {
    "duration": 341,
    "start_time": "2022-04-07T12:23:14.383Z"
   },
   {
    "duration": 158,
    "start_time": "2022-04-07T12:23:14.726Z"
   },
   {
    "duration": 0,
    "start_time": "2022-04-07T12:23:14.886Z"
   },
   {
    "duration": 0,
    "start_time": "2022-04-07T12:23:14.888Z"
   },
   {
    "duration": 852,
    "start_time": "2022-04-07T12:24:29.757Z"
   },
   {
    "duration": 323,
    "start_time": "2022-04-07T12:24:41.547Z"
   },
   {
    "duration": 26,
    "start_time": "2022-04-07T12:24:44.901Z"
   },
   {
    "duration": 7,
    "start_time": "2022-04-07T12:29:02.037Z"
   },
   {
    "duration": 28,
    "start_time": "2022-04-07T12:44:07.129Z"
   },
   {
    "duration": 21,
    "start_time": "2022-04-07T12:44:24.239Z"
   },
   {
    "duration": 22,
    "start_time": "2022-04-07T12:45:01.333Z"
   },
   {
    "duration": 10,
    "start_time": "2022-04-07T12:45:13.519Z"
   },
   {
    "duration": 21,
    "start_time": "2022-04-07T12:45:26.213Z"
   },
   {
    "duration": 22,
    "start_time": "2022-04-07T12:45:38.712Z"
   },
   {
    "duration": 21,
    "start_time": "2022-04-07T12:45:43.926Z"
   },
   {
    "duration": 47,
    "start_time": "2022-04-07T16:23:22.210Z"
   },
   {
    "duration": 1666,
    "start_time": "2022-04-07T16:23:28.673Z"
   },
   {
    "duration": 84,
    "start_time": "2022-04-07T16:23:30.342Z"
   },
   {
    "duration": 20,
    "start_time": "2022-04-07T16:23:30.427Z"
   },
   {
    "duration": 13,
    "start_time": "2022-04-07T16:23:30.463Z"
   },
   {
    "duration": 6,
    "start_time": "2022-04-07T16:23:30.478Z"
   },
   {
    "duration": 9,
    "start_time": "2022-04-07T16:23:30.485Z"
   },
   {
    "duration": 33,
    "start_time": "2022-04-07T16:23:30.496Z"
   },
   {
    "duration": 7,
    "start_time": "2022-04-07T16:23:30.531Z"
   },
   {
    "duration": 60,
    "start_time": "2022-04-07T16:23:30.540Z"
   },
   {
    "duration": 294,
    "start_time": "2022-04-07T16:23:30.603Z"
   },
   {
    "duration": 222,
    "start_time": "2022-04-07T16:23:30.899Z"
   },
   {
    "duration": 629,
    "start_time": "2022-04-07T16:23:31.122Z"
   },
   {
    "duration": 296,
    "start_time": "2022-04-07T16:23:31.753Z"
   },
   {
    "duration": 13,
    "start_time": "2022-04-07T16:23:32.051Z"
   },
   {
    "duration": 25,
    "start_time": "2022-04-07T16:23:32.067Z"
   },
   {
    "duration": 645,
    "start_time": "2022-04-07T16:23:32.095Z"
   },
   {
    "duration": 15,
    "start_time": "2022-04-07T16:23:51.347Z"
   },
   {
    "duration": 10,
    "start_time": "2022-04-07T16:25:10.876Z"
   },
   {
    "duration": 1251,
    "start_time": "2022-04-07T16:25:53.581Z"
   },
   {
    "duration": 1324,
    "start_time": "2022-04-07T16:26:13.180Z"
   },
   {
    "duration": 1282,
    "start_time": "2022-04-07T16:27:38.810Z"
   },
   {
    "duration": 143,
    "start_time": "2022-04-07T16:27:55.987Z"
   },
   {
    "duration": 1301,
    "start_time": "2022-04-07T16:28:08.113Z"
   },
   {
    "duration": 1169,
    "start_time": "2022-04-07T16:28:19.214Z"
   },
   {
    "duration": 7,
    "start_time": "2022-04-07T16:46:22.273Z"
   },
   {
    "duration": 11,
    "start_time": "2022-04-07T16:46:29.284Z"
   },
   {
    "duration": 13,
    "start_time": "2022-04-07T17:01:40.396Z"
   },
   {
    "duration": 138,
    "start_time": "2022-04-07T17:02:27.779Z"
   },
   {
    "duration": 14,
    "start_time": "2022-04-07T17:02:37.096Z"
   },
   {
    "duration": 15,
    "start_time": "2022-04-07T17:04:46.524Z"
   },
   {
    "duration": 11,
    "start_time": "2022-04-07T17:05:01.981Z"
   },
   {
    "duration": 16,
    "start_time": "2022-04-07T17:05:58.762Z"
   },
   {
    "duration": 8,
    "start_time": "2022-04-07T17:06:43.395Z"
   },
   {
    "duration": 101,
    "start_time": "2022-04-07T17:08:11.670Z"
   },
   {
    "duration": 12,
    "start_time": "2022-04-07T17:08:20.004Z"
   },
   {
    "duration": 342,
    "start_time": "2022-04-07T17:08:35.409Z"
   },
   {
    "duration": 169,
    "start_time": "2022-04-07T17:09:10.878Z"
   },
   {
    "duration": 178,
    "start_time": "2022-04-07T17:09:27.044Z"
   },
   {
    "duration": 8,
    "start_time": "2022-04-07T17:16:59.608Z"
   },
   {
    "duration": 129,
    "start_time": "2022-04-07T17:24:19.766Z"
   },
   {
    "duration": 155,
    "start_time": "2022-04-07T17:24:31.344Z"
   },
   {
    "duration": 12,
    "start_time": "2022-04-07T17:24:41.137Z"
   },
   {
    "duration": 328,
    "start_time": "2022-04-07T17:24:47.904Z"
   },
   {
    "duration": 23,
    "start_time": "2022-04-07T17:25:06.195Z"
   },
   {
    "duration": 172,
    "start_time": "2022-04-07T17:25:39.051Z"
   },
   {
    "duration": 405,
    "start_time": "2022-04-07T17:26:31.377Z"
   },
   {
    "duration": 25,
    "start_time": "2022-04-07T17:26:45.316Z"
   },
   {
    "duration": 11,
    "start_time": "2022-04-07T17:26:55.471Z"
   },
   {
    "duration": 11,
    "start_time": "2022-04-07T17:27:37.289Z"
   },
   {
    "duration": 2,
    "start_time": "2022-04-07T17:27:56.974Z"
   },
   {
    "duration": 633,
    "start_time": "2022-04-07T17:28:01.160Z"
   },
   {
    "duration": 281,
    "start_time": "2022-04-07T17:31:27.501Z"
   },
   {
    "duration": 11,
    "start_time": "2022-04-07T17:34:22.967Z"
   },
   {
    "duration": 324,
    "start_time": "2022-04-07T17:36:00.989Z"
   },
   {
    "duration": 277,
    "start_time": "2022-04-07T17:36:57.352Z"
   },
   {
    "duration": 283,
    "start_time": "2022-04-07T17:37:03.887Z"
   },
   {
    "duration": 418,
    "start_time": "2022-04-07T17:37:28.365Z"
   },
   {
    "duration": 455,
    "start_time": "2022-04-07T17:37:34.741Z"
   },
   {
    "duration": 279,
    "start_time": "2022-04-07T17:37:47.513Z"
   },
   {
    "duration": 293,
    "start_time": "2022-04-07T17:39:58.216Z"
   },
   {
    "duration": 296,
    "start_time": "2022-04-07T17:42:00.320Z"
   },
   {
    "duration": 4,
    "start_time": "2022-04-07T17:52:03.963Z"
   },
   {
    "duration": 526,
    "start_time": "2022-04-07T17:52:44.422Z"
   },
   {
    "duration": 4,
    "start_time": "2022-04-07T17:55:39.307Z"
   },
   {
    "duration": 525,
    "start_time": "2022-04-07T17:55:43.612Z"
   },
   {
    "duration": 3,
    "start_time": "2022-04-07T17:55:57.774Z"
   },
   {
    "duration": 548,
    "start_time": "2022-04-07T17:55:59.205Z"
   },
   {
    "duration": 3,
    "start_time": "2022-04-07T17:58:41.885Z"
   },
   {
    "duration": 551,
    "start_time": "2022-04-07T17:58:44.196Z"
   },
   {
    "duration": 3,
    "start_time": "2022-04-07T17:59:36.678Z"
   },
   {
    "duration": 11,
    "start_time": "2022-04-07T17:59:41.040Z"
   },
   {
    "duration": 15,
    "start_time": "2022-04-07T17:59:51.115Z"
   },
   {
    "duration": 1207,
    "start_time": "2022-04-08T08:20:52.428Z"
   },
   {
    "duration": 56,
    "start_time": "2022-04-08T08:20:53.637Z"
   },
   {
    "duration": 12,
    "start_time": "2022-04-08T08:20:53.694Z"
   },
   {
    "duration": 35,
    "start_time": "2022-04-08T08:20:53.708Z"
   },
   {
    "duration": 24,
    "start_time": "2022-04-08T08:20:53.744Z"
   },
   {
    "duration": 17,
    "start_time": "2022-04-08T08:20:53.769Z"
   },
   {
    "duration": 40,
    "start_time": "2022-04-08T08:20:53.787Z"
   },
   {
    "duration": 8,
    "start_time": "2022-04-08T08:20:53.829Z"
   },
   {
    "duration": 42,
    "start_time": "2022-04-08T08:20:53.839Z"
   },
   {
    "duration": 167,
    "start_time": "2022-04-08T08:20:53.883Z"
   },
   {
    "duration": 178,
    "start_time": "2022-04-08T08:20:54.051Z"
   },
   {
    "duration": 403,
    "start_time": "2022-04-08T08:20:54.231Z"
   },
   {
    "duration": 172,
    "start_time": "2022-04-08T08:20:54.636Z"
   },
   {
    "duration": 5,
    "start_time": "2022-04-08T08:20:54.809Z"
   },
   {
    "duration": 19,
    "start_time": "2022-04-08T08:20:54.816Z"
   },
   {
    "duration": 1241,
    "start_time": "2022-04-08T08:20:54.836Z"
   },
   {
    "duration": 617,
    "start_time": "2022-04-08T08:20:56.078Z"
   },
   {
    "duration": 279,
    "start_time": "2022-04-08T08:20:56.697Z"
   },
   {
    "duration": 3,
    "start_time": "2022-04-08T08:20:56.977Z"
   },
   {
    "duration": 13,
    "start_time": "2022-04-08T08:20:56.981Z"
   },
   {
    "duration": 17,
    "start_time": "2022-04-08T08:20:56.995Z"
   },
   {
    "duration": 410,
    "start_time": "2022-04-08T08:26:28.239Z"
   },
   {
    "duration": 15,
    "start_time": "2022-04-08T08:27:26.541Z"
   },
   {
    "duration": 12,
    "start_time": "2022-04-08T08:27:34.149Z"
   },
   {
    "duration": 13,
    "start_time": "2022-04-08T08:28:52.893Z"
   },
   {
    "duration": 1230,
    "start_time": "2022-04-08T08:32:02.806Z"
   },
   {
    "duration": 596,
    "start_time": "2022-04-08T08:33:33.888Z"
   },
   {
    "duration": 13,
    "start_time": "2022-04-08T08:38:03.941Z"
   },
   {
    "duration": 17,
    "start_time": "2022-04-08T08:38:31.468Z"
   },
   {
    "duration": 14,
    "start_time": "2022-04-08T08:45:07.016Z"
   },
   {
    "duration": 15,
    "start_time": "2022-04-08T08:47:10.299Z"
   },
   {
    "duration": 14,
    "start_time": "2022-04-08T08:48:14.570Z"
   },
   {
    "duration": 19,
    "start_time": "2022-04-08T08:48:20.714Z"
   },
   {
    "duration": 16,
    "start_time": "2022-04-08T08:49:03.164Z"
   },
   {
    "duration": 9,
    "start_time": "2022-04-08T08:49:38.530Z"
   },
   {
    "duration": 8,
    "start_time": "2022-04-08T08:49:42.706Z"
   },
   {
    "duration": 8,
    "start_time": "2022-04-08T08:49:47.338Z"
   },
   {
    "duration": 8,
    "start_time": "2022-04-08T08:49:51.968Z"
   },
   {
    "duration": 2288,
    "start_time": "2022-04-08T08:51:14.661Z"
   },
   {
    "duration": 2216,
    "start_time": "2022-04-08T08:52:12.505Z"
   },
   {
    "duration": 14,
    "start_time": "2022-04-08T08:59:07.173Z"
   },
   {
    "duration": 18,
    "start_time": "2022-04-08T09:03:34.335Z"
   },
   {
    "duration": 14,
    "start_time": "2022-04-08T09:04:47.926Z"
   },
   {
    "duration": 14,
    "start_time": "2022-04-08T09:05:14.204Z"
   },
   {
    "duration": 15,
    "start_time": "2022-04-08T09:05:55.283Z"
   },
   {
    "duration": 15,
    "start_time": "2022-04-08T09:11:32.475Z"
   },
   {
    "duration": 14,
    "start_time": "2022-04-08T09:11:55.138Z"
   },
   {
    "duration": 187,
    "start_time": "2022-04-08T09:19:24.387Z"
   },
   {
    "duration": 189,
    "start_time": "2022-04-08T09:19:29.774Z"
   },
   {
    "duration": 187,
    "start_time": "2022-04-08T09:20:05.051Z"
   },
   {
    "duration": 18,
    "start_time": "2022-04-08T09:22:25.269Z"
   },
   {
    "duration": 16,
    "start_time": "2022-04-08T09:22:28.873Z"
   },
   {
    "duration": 195,
    "start_time": "2022-04-08T09:22:31.890Z"
   },
   {
    "duration": 12,
    "start_time": "2022-04-08T09:22:38.226Z"
   },
   {
    "duration": 2192,
    "start_time": "2022-04-08T09:23:59.970Z"
   },
   {
    "duration": 14,
    "start_time": "2022-04-08T09:24:15.228Z"
   },
   {
    "duration": 13,
    "start_time": "2022-04-08T09:25:14.388Z"
   },
   {
    "duration": 9,
    "start_time": "2022-04-08T09:25:49.541Z"
   },
   {
    "duration": 12,
    "start_time": "2022-04-08T09:25:56.788Z"
   },
   {
    "duration": 1037,
    "start_time": "2022-04-08T09:26:13.966Z"
   },
   {
    "duration": 51,
    "start_time": "2022-04-08T09:26:15.006Z"
   },
   {
    "duration": 12,
    "start_time": "2022-04-08T09:26:15.059Z"
   },
   {
    "duration": 15,
    "start_time": "2022-04-08T09:26:15.072Z"
   },
   {
    "duration": 14,
    "start_time": "2022-04-08T09:26:15.089Z"
   },
   {
    "duration": 6,
    "start_time": "2022-04-08T09:26:15.105Z"
   },
   {
    "duration": 29,
    "start_time": "2022-04-08T09:26:15.112Z"
   },
   {
    "duration": 5,
    "start_time": "2022-04-08T09:26:15.143Z"
   },
   {
    "duration": 31,
    "start_time": "2022-04-08T09:26:15.149Z"
   },
   {
    "duration": 192,
    "start_time": "2022-04-08T09:26:15.182Z"
   },
   {
    "duration": 180,
    "start_time": "2022-04-08T09:26:15.376Z"
   },
   {
    "duration": 510,
    "start_time": "2022-04-08T09:26:15.558Z"
   },
   {
    "duration": 183,
    "start_time": "2022-04-08T09:26:16.069Z"
   },
   {
    "duration": 6,
    "start_time": "2022-04-08T09:26:16.254Z"
   },
   {
    "duration": 47,
    "start_time": "2022-04-08T09:26:16.261Z"
   },
   {
    "duration": 1181,
    "start_time": "2022-04-08T09:26:16.309Z"
   },
   {
    "duration": 601,
    "start_time": "2022-04-08T09:26:17.491Z"
   },
   {
    "duration": 282,
    "start_time": "2022-04-08T09:26:18.093Z"
   },
   {
    "duration": 2,
    "start_time": "2022-04-08T09:26:18.377Z"
   },
   {
    "duration": 43,
    "start_time": "2022-04-08T09:26:18.381Z"
   },
   {
    "duration": 41,
    "start_time": "2022-04-08T09:26:18.425Z"
   },
   {
    "duration": 207,
    "start_time": "2022-04-08T09:26:18.467Z"
   },
   {
    "duration": 15,
    "start_time": "2022-04-08T09:26:18.675Z"
   },
   {
    "duration": 2,
    "start_time": "2022-04-08T09:26:52.437Z"
   },
   {
    "duration": 17,
    "start_time": "2022-04-08T09:26:53.172Z"
   },
   {
    "duration": 16,
    "start_time": "2022-04-08T09:26:56.022Z"
   },
   {
    "duration": 163,
    "start_time": "2022-04-08T09:26:57.548Z"
   },
   {
    "duration": 14,
    "start_time": "2022-04-08T09:26:58.251Z"
   },
   {
    "duration": 29,
    "start_time": "2022-04-08T09:27:06.780Z"
   },
   {
    "duration": 26,
    "start_time": "2022-04-08T09:27:42.233Z"
   },
   {
    "duration": 85,
    "start_time": "2022-04-08T09:27:55.271Z"
   },
   {
    "duration": 26,
    "start_time": "2022-04-08T09:28:00.485Z"
   },
   {
    "duration": 26,
    "start_time": "2022-04-08T09:28:04.817Z"
   },
   {
    "duration": 13,
    "start_time": "2022-04-08T09:28:12.183Z"
   },
   {
    "duration": 34,
    "start_time": "2022-04-08T09:28:20.965Z"
   },
   {
    "duration": 1083,
    "start_time": "2022-04-08T09:28:48.120Z"
   },
   {
    "duration": 52,
    "start_time": "2022-04-08T09:28:49.205Z"
   },
   {
    "duration": 10,
    "start_time": "2022-04-08T09:28:49.259Z"
   },
   {
    "duration": 12,
    "start_time": "2022-04-08T09:28:49.271Z"
   },
   {
    "duration": 7,
    "start_time": "2022-04-08T09:28:49.284Z"
   },
   {
    "duration": 5,
    "start_time": "2022-04-08T09:28:49.292Z"
   },
   {
    "duration": 37,
    "start_time": "2022-04-08T09:28:49.299Z"
   },
   {
    "duration": 5,
    "start_time": "2022-04-08T09:28:49.337Z"
   },
   {
    "duration": 31,
    "start_time": "2022-04-08T09:28:49.343Z"
   },
   {
    "duration": 190,
    "start_time": "2022-04-08T09:28:49.377Z"
   },
   {
    "duration": 185,
    "start_time": "2022-04-08T09:28:49.568Z"
   },
   {
    "duration": 422,
    "start_time": "2022-04-08T09:28:49.754Z"
   },
   {
    "duration": 181,
    "start_time": "2022-04-08T09:28:50.178Z"
   },
   {
    "duration": 6,
    "start_time": "2022-04-08T09:28:50.361Z"
   },
   {
    "duration": 26,
    "start_time": "2022-04-08T09:28:50.368Z"
   },
   {
    "duration": 1202,
    "start_time": "2022-04-08T09:28:50.396Z"
   },
   {
    "duration": 611,
    "start_time": "2022-04-08T09:28:51.599Z"
   },
   {
    "duration": 295,
    "start_time": "2022-04-08T09:28:52.212Z"
   },
   {
    "duration": 3,
    "start_time": "2022-04-08T09:28:52.509Z"
   },
   {
    "duration": 31,
    "start_time": "2022-04-08T09:28:52.513Z"
   },
   {
    "duration": 234,
    "start_time": "2022-04-08T09:28:52.546Z"
   },
   {
    "duration": 21,
    "start_time": "2022-04-08T09:28:52.781Z"
   },
   {
    "duration": 17,
    "start_time": "2022-04-08T09:28:52.804Z"
   },
   {
    "duration": 24,
    "start_time": "2022-04-08T09:30:29.455Z"
   },
   {
    "duration": 22,
    "start_time": "2022-04-08T09:32:56.588Z"
   },
   {
    "duration": 16,
    "start_time": "2022-04-08T09:34:08.551Z"
   },
   {
    "duration": 13,
    "start_time": "2022-04-08T09:34:30.363Z"
   },
   {
    "duration": 17,
    "start_time": "2022-04-08T09:34:34.826Z"
   },
   {
    "duration": 14,
    "start_time": "2022-04-08T09:39:01.190Z"
   },
   {
    "duration": 12,
    "start_time": "2022-04-08T09:39:45.003Z"
   },
   {
    "duration": 8,
    "start_time": "2022-04-08T09:40:02.223Z"
   },
   {
    "duration": 12,
    "start_time": "2022-04-08T09:41:21.045Z"
   },
   {
    "duration": 11,
    "start_time": "2022-04-08T09:41:43.563Z"
   },
   {
    "duration": 12,
    "start_time": "2022-04-08T09:42:21.049Z"
   },
   {
    "duration": 11,
    "start_time": "2022-04-08T09:42:39.759Z"
   },
   {
    "duration": 11,
    "start_time": "2022-04-08T09:48:23.243Z"
   },
   {
    "duration": 37,
    "start_time": "2022-04-08T10:25:51.104Z"
   },
   {
    "duration": 107,
    "start_time": "2022-04-08T10:26:01.954Z"
   },
   {
    "duration": 14,
    "start_time": "2022-04-08T10:26:31.959Z"
   },
   {
    "duration": 93,
    "start_time": "2022-04-08T10:28:50.969Z"
   },
   {
    "duration": 13,
    "start_time": "2022-04-08T10:28:57.882Z"
   },
   {
    "duration": 81,
    "start_time": "2022-04-08T10:30:50.448Z"
   },
   {
    "duration": 13,
    "start_time": "2022-04-08T10:30:54.852Z"
   },
   {
    "duration": 86,
    "start_time": "2022-04-08T10:32:17.998Z"
   },
   {
    "duration": 13,
    "start_time": "2022-04-08T10:32:19.469Z"
   },
   {
    "duration": 11,
    "start_time": "2022-04-08T10:32:37.758Z"
   },
   {
    "duration": 89,
    "start_time": "2022-04-08T12:53:06.459Z"
   },
   {
    "duration": 1700,
    "start_time": "2022-04-08T12:53:14.398Z"
   },
   {
    "duration": 82,
    "start_time": "2022-04-08T12:53:16.101Z"
   },
   {
    "duration": 19,
    "start_time": "2022-04-08T12:53:16.184Z"
   },
   {
    "duration": 18,
    "start_time": "2022-04-08T12:53:16.207Z"
   },
   {
    "duration": 9,
    "start_time": "2022-04-08T12:53:16.228Z"
   },
   {
    "duration": 9,
    "start_time": "2022-04-08T12:53:16.274Z"
   },
   {
    "duration": 29,
    "start_time": "2022-04-08T12:53:16.285Z"
   },
   {
    "duration": 7,
    "start_time": "2022-04-08T12:53:16.316Z"
   },
   {
    "duration": 84,
    "start_time": "2022-04-08T12:53:16.326Z"
   },
   {
    "duration": 341,
    "start_time": "2022-04-08T12:53:16.414Z"
   },
   {
    "duration": 356,
    "start_time": "2022-04-08T12:53:16.757Z"
   },
   {
    "duration": 788,
    "start_time": "2022-04-08T12:53:17.115Z"
   },
   {
    "duration": 343,
    "start_time": "2022-04-08T12:53:17.905Z"
   },
   {
    "duration": 8,
    "start_time": "2022-04-08T12:53:18.250Z"
   },
   {
    "duration": 36,
    "start_time": "2022-04-08T12:53:18.260Z"
   },
   {
    "duration": 2282,
    "start_time": "2022-04-08T12:53:18.299Z"
   },
   {
    "duration": 1255,
    "start_time": "2022-04-08T12:53:20.583Z"
   },
   {
    "duration": 943,
    "start_time": "2022-04-08T12:53:21.841Z"
   },
   {
    "duration": 5,
    "start_time": "2022-04-08T12:53:22.788Z"
   },
   {
    "duration": 48,
    "start_time": "2022-04-08T12:53:22.796Z"
   },
   {
    "duration": 229,
    "start_time": "2022-04-08T12:53:22.876Z"
   },
   {
    "duration": 25,
    "start_time": "2022-04-08T12:53:23.107Z"
   },
   {
    "duration": 19,
    "start_time": "2022-04-08T12:53:23.134Z"
   },
   {
    "duration": 25,
    "start_time": "2022-04-08T12:53:23.155Z"
   },
   {
    "duration": 9,
    "start_time": "2022-04-08T12:53:46.337Z"
   },
   {
    "duration": 11,
    "start_time": "2022-04-08T12:54:21.419Z"
   },
   {
    "duration": 19,
    "start_time": "2022-04-08T12:55:57.143Z"
   },
   {
    "duration": 1457,
    "start_time": "2022-04-08T12:57:15.521Z"
   },
   {
    "duration": 1400,
    "start_time": "2022-04-08T12:57:19.376Z"
   },
   {
    "duration": 8,
    "start_time": "2022-04-08T12:57:31.575Z"
   },
   {
    "duration": 35,
    "start_time": "2022-04-08T12:58:17.930Z"
   },
   {
    "duration": 30,
    "start_time": "2022-04-08T13:02:20.375Z"
   },
   {
    "duration": 25,
    "start_time": "2022-04-08T13:03:08.759Z"
   },
   {
    "duration": 38,
    "start_time": "2022-04-08T13:05:18.628Z"
   },
   {
    "duration": 29,
    "start_time": "2022-04-08T13:06:24.253Z"
   },
   {
    "duration": 34,
    "start_time": "2022-04-08T13:06:29.133Z"
   },
   {
    "duration": 35,
    "start_time": "2022-04-08T13:06:39.669Z"
   },
   {
    "duration": 35,
    "start_time": "2022-04-08T13:06:59.847Z"
   },
   {
    "duration": 32,
    "start_time": "2022-04-08T13:08:01.921Z"
   },
   {
    "duration": 1401,
    "start_time": "2022-04-08T13:13:02.526Z"
   },
   {
    "duration": 38,
    "start_time": "2022-04-08T13:13:32.020Z"
   },
   {
    "duration": 6,
    "start_time": "2022-04-08T13:20:00.468Z"
   },
   {
    "duration": 18,
    "start_time": "2022-04-08T13:20:09.811Z"
   },
   {
    "duration": 19,
    "start_time": "2022-04-08T13:21:38.061Z"
   },
   {
    "duration": 74,
    "start_time": "2022-04-08T13:33:10.638Z"
   },
   {
    "duration": 310,
    "start_time": "2022-04-08T13:33:25.347Z"
   },
   {
    "duration": 367,
    "start_time": "2022-04-08T13:34:12.165Z"
   },
   {
    "duration": 20,
    "start_time": "2022-04-08T13:35:06.383Z"
   },
   {
    "duration": 482,
    "start_time": "2022-04-08T13:35:12.111Z"
   },
   {
    "duration": 505,
    "start_time": "2022-04-08T13:36:37.718Z"
   },
   {
    "duration": 420,
    "start_time": "2022-04-08T13:36:49.197Z"
   },
   {
    "duration": 608,
    "start_time": "2022-04-08T13:37:15.295Z"
   },
   {
    "duration": 659,
    "start_time": "2022-04-08T13:37:26.077Z"
   },
   {
    "duration": 494,
    "start_time": "2022-04-08T13:41:50.130Z"
   },
   {
    "duration": 517,
    "start_time": "2022-04-08T13:42:00.930Z"
   },
   {
    "duration": 512,
    "start_time": "2022-04-08T13:42:32.994Z"
   },
   {
    "duration": 50,
    "start_time": "2022-04-10T13:27:09.569Z"
   },
   {
    "duration": 1458,
    "start_time": "2022-04-10T13:27:16.937Z"
   },
   {
    "duration": 67,
    "start_time": "2022-04-10T13:27:18.397Z"
   },
   {
    "duration": 15,
    "start_time": "2022-04-10T13:27:18.466Z"
   },
   {
    "duration": 20,
    "start_time": "2022-04-10T13:27:18.483Z"
   },
   {
    "duration": 12,
    "start_time": "2022-04-10T13:27:18.505Z"
   },
   {
    "duration": 24,
    "start_time": "2022-04-10T13:27:18.519Z"
   },
   {
    "duration": 20,
    "start_time": "2022-04-10T13:27:18.545Z"
   },
   {
    "duration": 6,
    "start_time": "2022-04-10T13:27:18.567Z"
   },
   {
    "duration": 36,
    "start_time": "2022-04-10T13:27:18.574Z"
   },
   {
    "duration": 239,
    "start_time": "2022-04-10T13:27:18.613Z"
   },
   {
    "duration": 215,
    "start_time": "2022-04-10T13:27:18.853Z"
   },
   {
    "duration": 502,
    "start_time": "2022-04-10T13:27:19.070Z"
   },
   {
    "duration": 212,
    "start_time": "2022-04-10T13:27:19.574Z"
   },
   {
    "duration": 6,
    "start_time": "2022-04-10T13:27:19.788Z"
   },
   {
    "duration": 21,
    "start_time": "2022-04-10T13:27:19.796Z"
   },
   {
    "duration": 1465,
    "start_time": "2022-04-10T13:27:19.819Z"
   },
   {
    "duration": 727,
    "start_time": "2022-04-10T13:27:21.286Z"
   },
   {
    "duration": 348,
    "start_time": "2022-04-10T13:27:22.015Z"
   },
   {
    "duration": 3,
    "start_time": "2022-04-10T13:27:22.365Z"
   },
   {
    "duration": 33,
    "start_time": "2022-04-10T13:27:22.369Z"
   },
   {
    "duration": 223,
    "start_time": "2022-04-10T13:27:22.403Z"
   },
   {
    "duration": 20,
    "start_time": "2022-04-10T13:27:22.628Z"
   },
   {
    "duration": 15,
    "start_time": "2022-04-10T13:27:22.650Z"
   },
   {
    "duration": 12,
    "start_time": "2022-04-10T13:27:22.667Z"
   },
   {
    "duration": 30,
    "start_time": "2022-04-10T13:27:22.681Z"
   },
   {
    "duration": 35,
    "start_time": "2022-04-10T13:27:22.713Z"
   },
   {
    "duration": 250,
    "start_time": "2022-04-10T13:27:22.750Z"
   },
   {
    "duration": 359,
    "start_time": "2022-04-10T13:27:23.003Z"
   },
   {
    "duration": 208,
    "start_time": "2022-04-10T13:27:33.139Z"
   },
   {
    "duration": 335,
    "start_time": "2022-04-10T13:27:40.761Z"
   },
   {
    "duration": 225,
    "start_time": "2022-04-10T13:27:48.490Z"
   },
   {
    "duration": 188,
    "start_time": "2022-04-10T13:28:11.347Z"
   },
   {
    "duration": 184,
    "start_time": "2022-04-10T13:28:21.534Z"
   },
   {
    "duration": 194,
    "start_time": "2022-04-10T13:28:31.761Z"
   },
   {
    "duration": 220,
    "start_time": "2022-04-10T13:28:38.832Z"
   },
   {
    "duration": 201,
    "start_time": "2022-04-10T13:28:57.979Z"
   },
   {
    "duration": 196,
    "start_time": "2022-04-10T13:29:05.808Z"
   },
   {
    "duration": 194,
    "start_time": "2022-04-10T13:29:14.273Z"
   },
   {
    "duration": 109,
    "start_time": "2022-04-10T13:29:29.586Z"
   },
   {
    "duration": 14,
    "start_time": "2022-04-10T13:29:41.036Z"
   },
   {
    "duration": 13,
    "start_time": "2022-04-10T13:29:53.035Z"
   },
   {
    "duration": 316,
    "start_time": "2022-04-10T13:30:06.808Z"
   },
   {
    "duration": 319,
    "start_time": "2022-04-10T13:30:26.353Z"
   },
   {
    "duration": 211,
    "start_time": "2022-04-10T13:30:33.468Z"
   },
   {
    "duration": 10,
    "start_time": "2022-04-10T13:40:18.846Z"
   },
   {
    "duration": 3,
    "start_time": "2022-04-10T13:40:30.739Z"
   },
   {
    "duration": 200,
    "start_time": "2022-04-10T13:40:34.312Z"
   },
   {
    "duration": 203,
    "start_time": "2022-04-10T13:42:04.265Z"
   },
   {
    "duration": 206,
    "start_time": "2022-04-10T13:43:17.523Z"
   },
   {
    "duration": 229,
    "start_time": "2022-04-10T13:44:55.436Z"
   },
   {
    "duration": 203,
    "start_time": "2022-04-10T13:45:01.615Z"
   },
   {
    "duration": 536,
    "start_time": "2022-04-10T13:47:52.008Z"
   },
   {
    "duration": 334,
    "start_time": "2022-04-10T13:48:17.352Z"
   },
   {
    "duration": 21,
    "start_time": "2022-04-10T13:49:27.160Z"
   },
   {
    "duration": 15,
    "start_time": "2022-04-10T13:49:29.532Z"
   },
   {
    "duration": 83,
    "start_time": "2022-04-10T13:51:03.930Z"
   },
   {
    "duration": 26,
    "start_time": "2022-04-10T13:51:16.682Z"
   },
   {
    "duration": 24,
    "start_time": "2022-04-10T13:51:23.040Z"
   },
   {
    "duration": 23,
    "start_time": "2022-04-10T13:51:29.575Z"
   },
   {
    "duration": 15,
    "start_time": "2022-04-10T13:51:33.430Z"
   },
   {
    "duration": 1292,
    "start_time": "2022-04-10T13:51:42.397Z"
   },
   {
    "duration": 68,
    "start_time": "2022-04-10T13:51:43.691Z"
   },
   {
    "duration": 15,
    "start_time": "2022-04-10T13:51:43.761Z"
   },
   {
    "duration": 13,
    "start_time": "2022-04-10T13:51:43.779Z"
   },
   {
    "duration": 11,
    "start_time": "2022-04-10T13:51:43.794Z"
   },
   {
    "duration": 9,
    "start_time": "2022-04-10T13:51:43.807Z"
   },
   {
    "duration": 21,
    "start_time": "2022-04-10T13:51:43.840Z"
   },
   {
    "duration": 6,
    "start_time": "2022-04-10T13:51:43.863Z"
   },
   {
    "duration": 42,
    "start_time": "2022-04-10T13:51:43.871Z"
   },
   {
    "duration": 244,
    "start_time": "2022-04-10T13:51:43.916Z"
   },
   {
    "duration": 229,
    "start_time": "2022-04-10T13:51:44.162Z"
   },
   {
    "duration": 533,
    "start_time": "2022-04-10T13:51:44.393Z"
   },
   {
    "duration": 239,
    "start_time": "2022-04-10T13:51:44.928Z"
   },
   {
    "duration": 7,
    "start_time": "2022-04-10T13:51:45.169Z"
   },
   {
    "duration": 22,
    "start_time": "2022-04-10T13:51:45.178Z"
   },
   {
    "duration": 1460,
    "start_time": "2022-04-10T13:51:45.202Z"
   },
   {
    "duration": 755,
    "start_time": "2022-04-10T13:51:46.664Z"
   },
   {
    "duration": 395,
    "start_time": "2022-04-10T13:51:47.421Z"
   },
   {
    "duration": 4,
    "start_time": "2022-04-10T13:51:47.819Z"
   },
   {
    "duration": 34,
    "start_time": "2022-04-10T13:51:47.825Z"
   },
   {
    "duration": 205,
    "start_time": "2022-04-10T13:51:47.861Z"
   },
   {
    "duration": 36,
    "start_time": "2022-04-10T13:51:48.067Z"
   },
   {
    "duration": 15,
    "start_time": "2022-04-10T13:51:48.105Z"
   },
   {
    "duration": 23,
    "start_time": "2022-04-10T13:51:48.122Z"
   },
   {
    "duration": 37,
    "start_time": "2022-04-10T13:51:48.147Z"
   },
   {
    "duration": 16,
    "start_time": "2022-04-10T13:51:48.187Z"
   },
   {
    "duration": 263,
    "start_time": "2022-04-10T13:51:48.204Z"
   },
   {
    "duration": 428,
    "start_time": "2022-04-10T13:51:48.471Z"
   },
   {
    "duration": 15,
    "start_time": "2022-04-10T13:52:09.208Z"
   },
   {
    "duration": 343,
    "start_time": "2022-04-10T13:53:02.499Z"
   },
   {
    "duration": 516,
    "start_time": "2022-04-10T16:16:38.704Z"
   },
   {
    "duration": 1353,
    "start_time": "2022-04-10T16:16:47.934Z"
   },
   {
    "duration": 66,
    "start_time": "2022-04-10T16:16:49.289Z"
   },
   {
    "duration": 15,
    "start_time": "2022-04-10T16:16:49.357Z"
   },
   {
    "duration": 18,
    "start_time": "2022-04-10T16:16:49.376Z"
   },
   {
    "duration": 13,
    "start_time": "2022-04-10T16:16:49.396Z"
   },
   {
    "duration": 31,
    "start_time": "2022-04-10T16:16:49.411Z"
   },
   {
    "duration": 23,
    "start_time": "2022-04-10T16:16:49.444Z"
   },
   {
    "duration": 6,
    "start_time": "2022-04-10T16:16:49.469Z"
   },
   {
    "duration": 62,
    "start_time": "2022-04-10T16:16:49.477Z"
   },
   {
    "duration": 226,
    "start_time": "2022-04-10T16:16:49.543Z"
   },
   {
    "duration": 229,
    "start_time": "2022-04-10T16:16:49.771Z"
   },
   {
    "duration": 610,
    "start_time": "2022-04-10T16:16:50.002Z"
   },
   {
    "duration": 333,
    "start_time": "2022-04-10T16:16:50.614Z"
   },
   {
    "duration": 7,
    "start_time": "2022-04-10T16:16:50.949Z"
   },
   {
    "duration": 24,
    "start_time": "2022-04-10T16:16:50.958Z"
   },
   {
    "duration": 1712,
    "start_time": "2022-04-10T16:16:50.984Z"
   },
   {
    "duration": 727,
    "start_time": "2022-04-10T16:16:52.697Z"
   },
   {
    "duration": 351,
    "start_time": "2022-04-10T16:16:53.426Z"
   },
   {
    "duration": 4,
    "start_time": "2022-04-10T16:16:53.780Z"
   },
   {
    "duration": 36,
    "start_time": "2022-04-10T16:16:53.787Z"
   },
   {
    "duration": 206,
    "start_time": "2022-04-10T16:16:53.839Z"
   },
   {
    "duration": 32,
    "start_time": "2022-04-10T16:16:54.047Z"
   },
   {
    "duration": 16,
    "start_time": "2022-04-10T16:16:54.080Z"
   },
   {
    "duration": 15,
    "start_time": "2022-04-10T16:16:54.098Z"
   },
   {
    "duration": 49,
    "start_time": "2022-04-10T16:16:54.115Z"
   },
   {
    "duration": 15,
    "start_time": "2022-04-10T16:16:54.166Z"
   },
   {
    "duration": 241,
    "start_time": "2022-04-10T16:16:54.182Z"
   },
   {
    "duration": 370,
    "start_time": "2022-04-10T16:16:54.426Z"
   },
   {
    "duration": 26,
    "start_time": "2022-04-10T16:23:21.383Z"
   },
   {
    "duration": 15,
    "start_time": "2022-04-10T16:23:29.688Z"
   },
   {
    "duration": 15,
    "start_time": "2022-04-10T16:23:38.769Z"
   },
   {
    "duration": 16,
    "start_time": "2022-04-10T16:23:41.986Z"
   },
   {
    "duration": 15,
    "start_time": "2022-04-10T16:23:50.082Z"
   },
   {
    "duration": 212,
    "start_time": "2022-04-10T16:24:02.426Z"
   },
   {
    "duration": 485,
    "start_time": "2022-04-10T16:24:09.135Z"
   },
   {
    "duration": 334,
    "start_time": "2022-04-10T16:30:06.896Z"
   },
   {
    "duration": 356,
    "start_time": "2022-04-10T16:30:20.877Z"
   },
   {
    "duration": 338,
    "start_time": "2022-04-10T16:30:30.735Z"
   },
   {
    "duration": 252,
    "start_time": "2022-04-10T16:40:23.856Z"
   },
   {
    "duration": 1245,
    "start_time": "2022-04-10T16:42:40.656Z"
   },
   {
    "duration": 75,
    "start_time": "2022-04-10T16:42:41.903Z"
   },
   {
    "duration": 16,
    "start_time": "2022-04-10T16:42:41.980Z"
   },
   {
    "duration": 16,
    "start_time": "2022-04-10T16:42:41.998Z"
   },
   {
    "duration": 23,
    "start_time": "2022-04-10T16:42:42.016Z"
   },
   {
    "duration": 7,
    "start_time": "2022-04-10T16:42:42.041Z"
   },
   {
    "duration": 24,
    "start_time": "2022-04-10T16:42:42.050Z"
   },
   {
    "duration": 8,
    "start_time": "2022-04-10T16:42:42.076Z"
   },
   {
    "duration": 65,
    "start_time": "2022-04-10T16:42:42.086Z"
   },
   {
    "duration": 225,
    "start_time": "2022-04-10T16:42:42.154Z"
   },
   {
    "duration": 228,
    "start_time": "2022-04-10T16:42:42.381Z"
   },
   {
    "duration": 496,
    "start_time": "2022-04-10T16:42:42.611Z"
   },
   {
    "duration": 230,
    "start_time": "2022-04-10T16:42:43.109Z"
   },
   {
    "duration": 7,
    "start_time": "2022-04-10T16:42:43.341Z"
   },
   {
    "duration": 20,
    "start_time": "2022-04-10T16:42:43.350Z"
   },
   {
    "duration": 1383,
    "start_time": "2022-04-10T16:42:43.372Z"
   },
   {
    "duration": 715,
    "start_time": "2022-04-10T16:42:44.757Z"
   },
   {
    "duration": 278,
    "start_time": "2022-04-10T16:42:45.474Z"
   },
   {
    "duration": 3,
    "start_time": "2022-04-10T16:42:45.754Z"
   },
   {
    "duration": 31,
    "start_time": "2022-04-10T16:42:45.759Z"
   },
   {
    "duration": 187,
    "start_time": "2022-04-10T16:42:45.792Z"
   },
   {
    "duration": 31,
    "start_time": "2022-04-10T16:42:45.981Z"
   },
   {
    "duration": 16,
    "start_time": "2022-04-10T16:42:46.014Z"
   },
   {
    "duration": 17,
    "start_time": "2022-04-10T16:42:46.031Z"
   },
   {
    "duration": 31,
    "start_time": "2022-04-10T16:42:46.050Z"
   },
   {
    "duration": 14,
    "start_time": "2022-04-10T16:42:46.083Z"
   },
   {
    "duration": 245,
    "start_time": "2022-04-10T16:42:46.098Z"
   },
   {
    "duration": 381,
    "start_time": "2022-04-10T16:42:46.347Z"
   },
   {
    "duration": 14,
    "start_time": "2022-04-10T17:17:31.582Z"
   },
   {
    "duration": 11,
    "start_time": "2022-04-10T17:26:27.119Z"
   },
   {
    "duration": 12,
    "start_time": "2022-04-10T17:26:56.831Z"
   },
   {
    "duration": 1393,
    "start_time": "2022-04-10T17:56:14.805Z"
   },
   {
    "duration": 11,
    "start_time": "2022-04-10T18:14:05.076Z"
   },
   {
    "duration": 1360,
    "start_time": "2022-04-10T18:25:29.574Z"
   },
   {
    "duration": 1441,
    "start_time": "2022-04-10T18:26:57.359Z"
   },
   {
    "duration": 344,
    "start_time": "2022-04-10T18:29:26.687Z"
   },
   {
    "duration": 1187,
    "start_time": "2022-04-11T16:08:59.215Z"
   },
   {
    "duration": 59,
    "start_time": "2022-04-11T16:09:00.404Z"
   },
   {
    "duration": 13,
    "start_time": "2022-04-11T16:09:00.465Z"
   },
   {
    "duration": 14,
    "start_time": "2022-04-11T16:09:00.479Z"
   },
   {
    "duration": 8,
    "start_time": "2022-04-11T16:09:00.495Z"
   },
   {
    "duration": 7,
    "start_time": "2022-04-11T16:09:00.505Z"
   },
   {
    "duration": 21,
    "start_time": "2022-04-11T16:09:00.514Z"
   },
   {
    "duration": 5,
    "start_time": "2022-04-11T16:09:00.537Z"
   },
   {
    "duration": 52,
    "start_time": "2022-04-11T16:09:00.543Z"
   },
   {
    "duration": 193,
    "start_time": "2022-04-11T16:09:00.597Z"
   },
   {
    "duration": 201,
    "start_time": "2022-04-11T16:09:00.791Z"
   },
   {
    "duration": 452,
    "start_time": "2022-04-11T16:09:00.994Z"
   },
   {
    "duration": 196,
    "start_time": "2022-04-11T16:09:01.448Z"
   },
   {
    "duration": 5,
    "start_time": "2022-04-11T16:09:01.646Z"
   },
   {
    "duration": 24,
    "start_time": "2022-04-11T16:09:01.653Z"
   },
   {
    "duration": 1462,
    "start_time": "2022-04-11T16:09:01.678Z"
   },
   {
    "duration": 686,
    "start_time": "2022-04-11T16:09:03.142Z"
   },
   {
    "duration": 357,
    "start_time": "2022-04-11T16:09:03.831Z"
   },
   {
    "duration": 3,
    "start_time": "2022-04-11T16:09:04.190Z"
   },
   {
    "duration": 27,
    "start_time": "2022-04-11T16:09:04.195Z"
   },
   {
    "duration": 233,
    "start_time": "2022-04-11T16:09:04.224Z"
   },
   {
    "duration": 29,
    "start_time": "2022-04-11T16:09:04.459Z"
   },
   {
    "duration": 16,
    "start_time": "2022-04-11T16:09:04.490Z"
   },
   {
    "duration": 7,
    "start_time": "2022-04-11T16:09:04.508Z"
   },
   {
    "duration": 26,
    "start_time": "2022-04-11T16:09:04.517Z"
   },
   {
    "duration": 33,
    "start_time": "2022-04-11T16:09:04.544Z"
   },
   {
    "duration": 16,
    "start_time": "2022-04-11T16:09:04.578Z"
   },
   {
    "duration": 199,
    "start_time": "2022-04-11T16:09:04.597Z"
   },
   {
    "duration": 373,
    "start_time": "2022-04-11T16:09:04.798Z"
   },
   {
    "duration": 47,
    "start_time": "2022-04-11T18:08:12.565Z"
   },
   {
    "duration": 1553,
    "start_time": "2022-04-11T18:08:19.998Z"
   },
   {
    "duration": 72,
    "start_time": "2022-04-11T18:08:21.555Z"
   },
   {
    "duration": 14,
    "start_time": "2022-04-11T18:08:21.629Z"
   },
   {
    "duration": 17,
    "start_time": "2022-04-11T18:08:21.645Z"
   },
   {
    "duration": 7,
    "start_time": "2022-04-11T18:08:21.664Z"
   },
   {
    "duration": 6,
    "start_time": "2022-04-11T18:08:21.673Z"
   },
   {
    "duration": 19,
    "start_time": "2022-04-11T18:08:21.681Z"
   },
   {
    "duration": 13,
    "start_time": "2022-04-11T18:08:21.702Z"
   },
   {
    "duration": 4,
    "start_time": "2022-04-11T18:08:21.717Z"
   },
   {
    "duration": 30,
    "start_time": "2022-04-11T18:08:21.756Z"
   },
   {
    "duration": 214,
    "start_time": "2022-04-11T18:08:21.787Z"
   },
   {
    "duration": 200,
    "start_time": "2022-04-11T18:08:22.004Z"
   },
   {
    "duration": 455,
    "start_time": "2022-04-11T18:08:22.205Z"
   },
   {
    "duration": 196,
    "start_time": "2022-04-11T18:08:22.662Z"
   },
   {
    "duration": 6,
    "start_time": "2022-04-11T18:08:22.860Z"
   },
   {
    "duration": 22,
    "start_time": "2022-04-11T18:08:22.868Z"
   },
   {
    "duration": 1640,
    "start_time": "2022-04-11T18:08:22.891Z"
   },
   {
    "duration": 690,
    "start_time": "2022-04-11T18:08:24.533Z"
   },
   {
    "duration": 247,
    "start_time": "2022-04-11T18:08:25.225Z"
   },
   {
    "duration": 4,
    "start_time": "2022-04-11T18:08:25.474Z"
   },
   {
    "duration": 31,
    "start_time": "2022-04-11T18:08:25.480Z"
   },
   {
    "duration": 200,
    "start_time": "2022-04-11T18:08:25.513Z"
   },
   {
    "duration": 36,
    "start_time": "2022-04-11T18:08:25.715Z"
   },
   {
    "duration": 13,
    "start_time": "2022-04-11T18:08:25.752Z"
   },
   {
    "duration": 9,
    "start_time": "2022-04-11T18:08:25.768Z"
   },
   {
    "duration": 37,
    "start_time": "2022-04-11T18:08:25.779Z"
   },
   {
    "duration": 11,
    "start_time": "2022-04-11T18:08:25.818Z"
   },
   {
    "duration": 10,
    "start_time": "2022-04-11T18:08:25.854Z"
   },
   {
    "duration": 193,
    "start_time": "2022-04-11T18:08:25.865Z"
   },
   {
    "duration": 352,
    "start_time": "2022-04-11T18:08:26.059Z"
   },
   {
    "duration": 4,
    "start_time": "2022-04-11T18:18:38.387Z"
   },
   {
    "duration": 27,
    "start_time": "2022-04-11T18:18:52.869Z"
   },
   {
    "duration": 4,
    "start_time": "2022-04-11T18:19:29.079Z"
   },
   {
    "duration": 21,
    "start_time": "2022-04-11T18:19:30.745Z"
   },
   {
    "duration": 3,
    "start_time": "2022-04-11T18:20:37.823Z"
   },
   {
    "duration": 20,
    "start_time": "2022-04-11T18:20:40.349Z"
   },
   {
    "duration": 4,
    "start_time": "2022-04-11T18:21:30.598Z"
   },
   {
    "duration": 35,
    "start_time": "2022-04-11T18:21:31.794Z"
   },
   {
    "duration": 4,
    "start_time": "2022-04-11T18:37:36.617Z"
   },
   {
    "duration": 23,
    "start_time": "2022-04-11T18:37:37.795Z"
   },
   {
    "duration": 22,
    "start_time": "2022-04-11T18:37:46.154Z"
   },
   {
    "duration": 140,
    "start_time": "2022-04-11T18:38:55.837Z"
   },
   {
    "duration": 4,
    "start_time": "2022-04-11T18:39:02.582Z"
   },
   {
    "duration": 3,
    "start_time": "2022-04-11T18:39:20.190Z"
   },
   {
    "duration": 21,
    "start_time": "2022-04-11T18:39:22.047Z"
   },
   {
    "duration": 3,
    "start_time": "2022-04-11T18:39:50.901Z"
   },
   {
    "duration": 21,
    "start_time": "2022-04-11T18:39:51.950Z"
   },
   {
    "duration": 3,
    "start_time": "2022-04-11T18:40:01.140Z"
   },
   {
    "duration": 23,
    "start_time": "2022-04-11T18:40:02.291Z"
   },
   {
    "duration": 3,
    "start_time": "2022-04-11T18:41:13.087Z"
   },
   {
    "duration": 24,
    "start_time": "2022-04-11T18:41:14.907Z"
   },
   {
    "duration": 23,
    "start_time": "2022-04-11T18:41:24.598Z"
   },
   {
    "duration": 131,
    "start_time": "2022-04-11T18:42:13.490Z"
   },
   {
    "duration": 140,
    "start_time": "2022-04-11T18:42:25.600Z"
   },
   {
    "duration": 9,
    "start_time": "2022-04-11T18:42:46.970Z"
   },
   {
    "duration": 3,
    "start_time": "2022-04-11T18:42:54.815Z"
   },
   {
    "duration": 22,
    "start_time": "2022-04-11T18:42:55.806Z"
   },
   {
    "duration": 9,
    "start_time": "2022-04-11T18:42:58.737Z"
   },
   {
    "duration": 4,
    "start_time": "2022-04-11T18:43:09.620Z"
   },
   {
    "duration": 23,
    "start_time": "2022-04-11T18:43:10.207Z"
   },
   {
    "duration": 9,
    "start_time": "2022-04-11T18:43:11.018Z"
   },
   {
    "duration": 94,
    "start_time": "2022-04-11T18:43:36.654Z"
   },
   {
    "duration": 2259,
    "start_time": "2022-04-11T18:43:48.223Z"
   },
   {
    "duration": 15,
    "start_time": "2022-04-11T18:44:03.292Z"
   },
   {
    "duration": 3,
    "start_time": "2022-04-11T18:44:48.607Z"
   },
   {
    "duration": 24,
    "start_time": "2022-04-11T18:44:49.602Z"
   },
   {
    "duration": 24,
    "start_time": "2022-04-11T18:44:50.383Z"
   },
   {
    "duration": 4,
    "start_time": "2022-04-11T18:45:20.115Z"
   },
   {
    "duration": 25,
    "start_time": "2022-04-11T18:45:21.665Z"
   },
   {
    "duration": 15,
    "start_time": "2022-04-11T18:45:23.554Z"
   },
   {
    "duration": 3,
    "start_time": "2022-04-11T18:45:54.731Z"
   },
   {
    "duration": 26,
    "start_time": "2022-04-11T18:45:55.415Z"
   },
   {
    "duration": 16,
    "start_time": "2022-04-11T18:45:56.034Z"
   },
   {
    "duration": 14,
    "start_time": "2022-04-11T18:46:16.275Z"
   },
   {
    "duration": 17,
    "start_time": "2022-04-11T18:46:31.575Z"
   },
   {
    "duration": 17,
    "start_time": "2022-04-11T18:52:28.439Z"
   },
   {
    "duration": 13,
    "start_time": "2022-04-11T19:01:13.915Z"
   },
   {
    "duration": 8,
    "start_time": "2022-04-11T19:01:33.526Z"
   },
   {
    "duration": 6,
    "start_time": "2022-04-11T19:01:43.511Z"
   },
   {
    "duration": 6,
    "start_time": "2022-04-11T19:08:39.901Z"
   },
   {
    "duration": 12,
    "start_time": "2022-04-11T19:09:18.406Z"
   },
   {
    "duration": 2297,
    "start_time": "2022-04-11T19:09:47.535Z"
   },
   {
    "duration": 7,
    "start_time": "2022-04-11T19:09:53.801Z"
   },
   {
    "duration": 8,
    "start_time": "2022-04-11T19:10:26.771Z"
   },
   {
    "duration": 12,
    "start_time": "2022-04-11T19:13:19.110Z"
   },
   {
    "duration": 11,
    "start_time": "2022-04-11T19:13:26.480Z"
   }
  ],
  "kernelspec": {
   "display_name": "Python 3 (ipykernel)",
   "language": "python",
   "name": "python3"
  },
  "language_info": {
   "codemirror_mode": {
    "name": "ipython",
    "version": 3
   },
   "file_extension": ".py",
   "mimetype": "text/x-python",
   "name": "python",
   "nbconvert_exporter": "python",
   "pygments_lexer": "ipython3",
   "version": "3.9.7"
  },
  "toc": {
   "base_numbering": "0",
   "nav_menu": {},
   "number_sections": true,
   "sideBar": true,
   "skip_h1_title": false,
   "title_cell": "Содержание",
   "title_sidebar": "Contents",
   "toc_cell": true,
   "toc_position": {
    "height": "calc(100% - 180px)",
    "left": "10px",
    "top": "150px",
    "width": "165px"
   },
   "toc_section_display": true,
   "toc_window_display": true
  },
  "varInspector": {
   "cols": {
    "lenName": 16,
    "lenType": 16,
    "lenVar": 40
   },
   "kernels_config": {
    "python": {
     "delete_cmd_postfix": "",
     "delete_cmd_prefix": "del ",
     "library": "var_list.py",
     "varRefreshCmd": "print(var_dic_list())"
    },
    "r": {
     "delete_cmd_postfix": ") ",
     "delete_cmd_prefix": "rm(",
     "library": "var_list.r",
     "varRefreshCmd": "cat(var_dic_list()) "
    }
   },
   "types_to_exclude": [
    "module",
    "function",
    "builtin_function_or_method",
    "instance",
    "_Feature"
   ],
   "window_display": false
  }
 },
 "nbformat": 4,
 "nbformat_minor": 2
}
