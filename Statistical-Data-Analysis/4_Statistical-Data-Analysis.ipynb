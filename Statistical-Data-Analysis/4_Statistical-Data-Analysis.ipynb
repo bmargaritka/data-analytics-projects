{
 "cells": [
  {
   "cell_type": "markdown",
   "metadata": {
    "toc": true
   },
   "source": [
    "<h1>Содержание<span class=\"tocSkip\"></span></h1>\n",
    "<div class=\"toc\"><ul class=\"toc-item\"><li><span><a href=\"#Изучение-данных-из-файла\" data-toc-modified-id=\"Изучение-данных-из-файла-1\"><span class=\"toc-item-num\">1&nbsp;&nbsp;</span>Изучение данных из файла</a></span><ul class=\"toc-item\"><li><span><a href=\"#Основная-информация\" data-toc-modified-id=\"Основная-информация-1.1\"><span class=\"toc-item-num\">1.1&nbsp;&nbsp;</span>Основная информация</a></span></li><li><span><a href=\"#Вывод\" data-toc-modified-id=\"Вывод-1.2\"><span class=\"toc-item-num\">1.2&nbsp;&nbsp;</span>Вывод</a></span></li></ul></li><li><span><a href=\"#Предобработка-данных\" data-toc-modified-id=\"Предобработка-данных-2\"><span class=\"toc-item-num\">2&nbsp;&nbsp;</span>Предобработка данных</a></span><ul class=\"toc-item\"><li><span><a href=\"#Изменение-типов-данных\" data-toc-modified-id=\"Изменение-типов-данных-2.1\"><span class=\"toc-item-num\">2.1&nbsp;&nbsp;</span>Изменение типов данных</a></span></li><li><span><a href=\"#Количество-сделанных-звонков-и-израсходованных-минут\" data-toc-modified-id=\"Количество-сделанных-звонков-и-израсходованных-минут-2.2\"><span class=\"toc-item-num\">2.2&nbsp;&nbsp;</span>Количество сделанных звонков и израсходованных минут</a></span></li><li><span><a href=\"#Количество-отправленных-сообщений\" data-toc-modified-id=\"Количество-отправленных-сообщений-2.3\"><span class=\"toc-item-num\">2.3&nbsp;&nbsp;</span>Количество отправленных сообщений</a></span></li><li><span><a href=\"#Объём-израсходонного-интернет-трафика\" data-toc-modified-id=\"Объём-израсходонного-интернет-трафика-2.4\"><span class=\"toc-item-num\">2.4&nbsp;&nbsp;</span>Объём израсходонного интернет-трафика</a></span></li><li><span><a href=\"#Выручка-с-каждого-пользователя\" data-toc-modified-id=\"Выручка-с-каждого-пользователя-2.5\"><span class=\"toc-item-num\">2.5&nbsp;&nbsp;</span>Выручка с каждого пользователя</a></span></li><li><span><a href=\"#Вывод\" data-toc-modified-id=\"Вывод-2.6\"><span class=\"toc-item-num\">2.6&nbsp;&nbsp;</span>Вывод</a></span></li></ul></li><li><span><a href=\"#Анализ-данных-и-описание-данных\" data-toc-modified-id=\"Анализ-данных-и-описание-данных-3\"><span class=\"toc-item-num\">3&nbsp;&nbsp;</span>Анализ данных и описание данных</a></span></li><li><span><a href=\"#Проверка-гипотез\" data-toc-modified-id=\"Проверка-гипотез-4\"><span class=\"toc-item-num\">4&nbsp;&nbsp;</span>Проверка гипотез</a></span><ul class=\"toc-item\"><li><span><a href=\"#Гипотеза-о-различии-выручки-с-разных-тарифов\" data-toc-modified-id=\"Гипотеза-о-различии-выручки-с-разных-тарифов-4.1\"><span class=\"toc-item-num\">4.1&nbsp;&nbsp;</span>Гипотеза о различии выручки с разных тарифов</a></span></li><li><span><a href=\"#Гипотеза-о-различии-выручки-с-разных-регионов\" data-toc-modified-id=\"Гипотеза-о-различии-выручки-с-разных-регионов-4.2\"><span class=\"toc-item-num\">4.2&nbsp;&nbsp;</span>Гипотеза о различии выручки с разных регионов</a></span></li></ul></li><li><span><a href=\"#Общий-вывод\" data-toc-modified-id=\"Общий-вывод-5\"><span class=\"toc-item-num\">5&nbsp;&nbsp;</span>Общий вывод</a></span></li></ul></div>"
   ]
  },
  {
   "cell_type": "markdown",
   "metadata": {},
   "source": [
    "# Исследование\n",
    "\n",
    "«Мегалайн» — федеральный оператор сотовой связи. Клиентам предлагают два тарифных плана: «Смарт» и «Ультра». Чтобы скорректировать рекламный бюджет, коммерческий департамент хочет понять, какой тариф приносит больше денег.\n",
    "\n",
    "Необходимо сделать предварительный анализ тарифов на небольшой выборке клиентов. В распоряжении данные 500 пользователей «Мегалайна»: кто они, откуда, каким тарифом пользуются, сколько звонков и сообщений каждый отправил за 2018 год. Нужно проанализировать поведение клиентов и сделать вывод — какой тариф лучше.\n",
    "\n",
    "# Описание тарифов\n",
    "\n",
    "**Тариф «Смарт»**\n",
    "\n",
    "1. Ежемесячная плата: 550 рублей\n",
    "\n",
    "2. Включено 500 минут разговора, 50 сообщений и 15 Гб интернет-трафика\n",
    "\n",
    "3. Стоимость услуг сверх тарифного пакета: 1. минута разговора: 3 рубля («Мегалайн» всегда округляет вверх значения минут и мегабайтов. Если пользователь проговорил всего 1 секунду, в тарифе засчитывается целая минута); 2. сообщение: 3 рубля; 3. 1 Гб интернет-трафика: 200 рублей.\n",
    "\n",
    "**Тариф «Ультра»**\n",
    "\n",
    "1. Ежемесячная плата: 1950 рублей\n",
    "2. Включено 3000 минут разговора, 1000 сообщений и 30 Гб интернет-трафика\n",
    "3. Стоимость услуг сверх тарифного пакета: 1. минута разговора: 1 рубль; 2. сообщение: 1 рубль; 3. 1 Гб интернет-трафика: 150 рублей.\n",
    "\n"
   ]
  },
  {
   "cell_type": "markdown",
   "metadata": {},
   "source": [
    "## Изучение данных из файла\n",
    "\n",
    "### Основная информация"
   ]
  },
  {
   "cell_type": "code",
   "execution_count": 1,
   "metadata": {},
   "outputs": [],
   "source": [
    "# импортируем необходимые библиотеки\n",
    "import pandas as pd\n",
    "import numpy as np\n",
    "import matplotlib.pyplot as plt\n",
    "from IPython.display import display\n",
    "from scipy import stats as st"
   ]
  },
  {
   "cell_type": "code",
   "execution_count": 2,
   "metadata": {},
   "outputs": [
    {
     "data": {
      "text/html": [
       "<div>\n",
       "<style scoped>\n",
       "    .dataframe tbody tr th:only-of-type {\n",
       "        vertical-align: middle;\n",
       "    }\n",
       "\n",
       "    .dataframe tbody tr th {\n",
       "        vertical-align: top;\n",
       "    }\n",
       "\n",
       "    .dataframe thead th {\n",
       "        text-align: right;\n",
       "    }\n",
       "</style>\n",
       "<table border=\"1\" class=\"dataframe\">\n",
       "  <thead>\n",
       "    <tr style=\"text-align: right;\">\n",
       "      <th></th>\n",
       "      <th>id</th>\n",
       "      <th>call_date</th>\n",
       "      <th>duration</th>\n",
       "      <th>user_id</th>\n",
       "    </tr>\n",
       "  </thead>\n",
       "  <tbody>\n",
       "    <tr>\n",
       "      <td>0</td>\n",
       "      <td>1000_0</td>\n",
       "      <td>2018-07-25</td>\n",
       "      <td>0.00</td>\n",
       "      <td>1000</td>\n",
       "    </tr>\n",
       "    <tr>\n",
       "      <td>1</td>\n",
       "      <td>1000_1</td>\n",
       "      <td>2018-08-17</td>\n",
       "      <td>0.00</td>\n",
       "      <td>1000</td>\n",
       "    </tr>\n",
       "    <tr>\n",
       "      <td>2</td>\n",
       "      <td>1000_2</td>\n",
       "      <td>2018-06-11</td>\n",
       "      <td>2.85</td>\n",
       "      <td>1000</td>\n",
       "    </tr>\n",
       "    <tr>\n",
       "      <td>3</td>\n",
       "      <td>1000_3</td>\n",
       "      <td>2018-09-21</td>\n",
       "      <td>13.80</td>\n",
       "      <td>1000</td>\n",
       "    </tr>\n",
       "    <tr>\n",
       "      <td>4</td>\n",
       "      <td>1000_4</td>\n",
       "      <td>2018-12-15</td>\n",
       "      <td>5.18</td>\n",
       "      <td>1000</td>\n",
       "    </tr>\n",
       "  </tbody>\n",
       "</table>\n",
       "</div>"
      ],
      "text/plain": [
       "       id   call_date  duration  user_id\n",
       "0  1000_0  2018-07-25      0.00     1000\n",
       "1  1000_1  2018-08-17      0.00     1000\n",
       "2  1000_2  2018-06-11      2.85     1000\n",
       "3  1000_3  2018-09-21     13.80     1000\n",
       "4  1000_4  2018-12-15      5.18     1000"
      ]
     },
     "metadata": {},
     "output_type": "display_data"
    },
    {
     "name": "stdout",
     "output_type": "stream",
     "text": [
      "<class 'pandas.core.frame.DataFrame'>\n",
      "RangeIndex: 202607 entries, 0 to 202606\n",
      "Data columns (total 4 columns):\n",
      "id           202607 non-null object\n",
      "call_date    202607 non-null object\n",
      "duration     202607 non-null float64\n",
      "user_id      202607 non-null int64\n",
      "dtypes: float64(1), int64(1), object(2)\n",
      "memory usage: 6.2+ MB\n"
     ]
    }
   ],
   "source": [
    "# открываем csv-файл с нужными параметрами, таблица со звонками\n",
    "calls = pd.read_csv('/datasets/calls.csv', sep=',', decimal='.')\n",
    "display(calls.head())\n",
    "calls.info()"
   ]
  },
  {
   "cell_type": "markdown",
   "metadata": {},
   "source": [
    "Пропусков нет, значения в столбце call_date являются строковыми, можно будет перевести их в формат datetime. В столбце duration есть нулевые значения, но это не пропуски. Нулями здесь обозначены пропущенные звонки."
   ]
  },
  {
   "cell_type": "code",
   "execution_count": 32,
   "metadata": {},
   "outputs": [
    {
     "data": {
      "text/html": [
       "<div>\n",
       "<style scoped>\n",
       "    .dataframe tbody tr th:only-of-type {\n",
       "        vertical-align: middle;\n",
       "    }\n",
       "\n",
       "    .dataframe tbody tr th {\n",
       "        vertical-align: top;\n",
       "    }\n",
       "\n",
       "    .dataframe thead th {\n",
       "        text-align: right;\n",
       "    }\n",
       "</style>\n",
       "<table border=\"1\" class=\"dataframe\">\n",
       "  <thead>\n",
       "    <tr style=\"text-align: right;\">\n",
       "      <th></th>\n",
       "      <th>id</th>\n",
       "      <th>mb_used</th>\n",
       "      <th>session_date</th>\n",
       "      <th>user_id</th>\n",
       "    </tr>\n",
       "  </thead>\n",
       "  <tbody>\n",
       "    <tr>\n",
       "      <td>0</td>\n",
       "      <td>1000_0</td>\n",
       "      <td>112.95</td>\n",
       "      <td>2018-11-25</td>\n",
       "      <td>1000</td>\n",
       "    </tr>\n",
       "    <tr>\n",
       "      <td>1</td>\n",
       "      <td>1000_1</td>\n",
       "      <td>1052.81</td>\n",
       "      <td>2018-09-07</td>\n",
       "      <td>1000</td>\n",
       "    </tr>\n",
       "    <tr>\n",
       "      <td>2</td>\n",
       "      <td>1000_2</td>\n",
       "      <td>1197.26</td>\n",
       "      <td>2018-06-25</td>\n",
       "      <td>1000</td>\n",
       "    </tr>\n",
       "    <tr>\n",
       "      <td>3</td>\n",
       "      <td>1000_3</td>\n",
       "      <td>550.27</td>\n",
       "      <td>2018-08-22</td>\n",
       "      <td>1000</td>\n",
       "    </tr>\n",
       "    <tr>\n",
       "      <td>4</td>\n",
       "      <td>1000_4</td>\n",
       "      <td>302.56</td>\n",
       "      <td>2018-09-24</td>\n",
       "      <td>1000</td>\n",
       "    </tr>\n",
       "  </tbody>\n",
       "</table>\n",
       "</div>"
      ],
      "text/plain": [
       "       id  mb_used session_date  user_id\n",
       "0  1000_0   112.95   2018-11-25     1000\n",
       "1  1000_1  1052.81   2018-09-07     1000\n",
       "2  1000_2  1197.26   2018-06-25     1000\n",
       "3  1000_3   550.27   2018-08-22     1000\n",
       "4  1000_4   302.56   2018-09-24     1000"
      ]
     },
     "metadata": {},
     "output_type": "display_data"
    },
    {
     "name": "stdout",
     "output_type": "stream",
     "text": [
      "<class 'pandas.core.frame.DataFrame'>\n",
      "RangeIndex: 149396 entries, 0 to 149395\n",
      "Data columns (total 4 columns):\n",
      "id              149396 non-null object\n",
      "mb_used         149396 non-null float64\n",
      "session_date    149396 non-null object\n",
      "user_id         149396 non-null int64\n",
      "dtypes: float64(1), int64(1), object(2)\n",
      "memory usage: 4.6+ MB\n"
     ]
    }
   ],
   "source": [
    "# открываем csv-файл с нужными параметрами, таблица с информацией об интернет-сессиях\n",
    "internet = pd.read_csv('/datasets/internet.csv', sep=',', decimal='.')\n",
    "internet.drop(['Unnamed: 0'], axis=1, inplace=True)\n",
    "display(internet.head())\n",
    "internet.info()"
   ]
  },
  {
   "cell_type": "markdown",
   "metadata": {},
   "source": [
    "Пропусков нет, тип столбца session_date можно будет заменить на datetime, у других столбцов тип данных корректный."
   ]
  },
  {
   "cell_type": "code",
   "execution_count": 4,
   "metadata": {},
   "outputs": [
    {
     "data": {
      "text/html": [
       "<div>\n",
       "<style scoped>\n",
       "    .dataframe tbody tr th:only-of-type {\n",
       "        vertical-align: middle;\n",
       "    }\n",
       "\n",
       "    .dataframe tbody tr th {\n",
       "        vertical-align: top;\n",
       "    }\n",
       "\n",
       "    .dataframe thead th {\n",
       "        text-align: right;\n",
       "    }\n",
       "</style>\n",
       "<table border=\"1\" class=\"dataframe\">\n",
       "  <thead>\n",
       "    <tr style=\"text-align: right;\">\n",
       "      <th></th>\n",
       "      <th>id</th>\n",
       "      <th>message_date</th>\n",
       "      <th>user_id</th>\n",
       "    </tr>\n",
       "  </thead>\n",
       "  <tbody>\n",
       "    <tr>\n",
       "      <td>0</td>\n",
       "      <td>1000_0</td>\n",
       "      <td>2018-06-27</td>\n",
       "      <td>1000</td>\n",
       "    </tr>\n",
       "    <tr>\n",
       "      <td>1</td>\n",
       "      <td>1000_1</td>\n",
       "      <td>2018-10-08</td>\n",
       "      <td>1000</td>\n",
       "    </tr>\n",
       "    <tr>\n",
       "      <td>2</td>\n",
       "      <td>1000_2</td>\n",
       "      <td>2018-08-04</td>\n",
       "      <td>1000</td>\n",
       "    </tr>\n",
       "    <tr>\n",
       "      <td>3</td>\n",
       "      <td>1000_3</td>\n",
       "      <td>2018-06-16</td>\n",
       "      <td>1000</td>\n",
       "    </tr>\n",
       "    <tr>\n",
       "      <td>4</td>\n",
       "      <td>1000_4</td>\n",
       "      <td>2018-12-05</td>\n",
       "      <td>1000</td>\n",
       "    </tr>\n",
       "  </tbody>\n",
       "</table>\n",
       "</div>"
      ],
      "text/plain": [
       "       id message_date  user_id\n",
       "0  1000_0   2018-06-27     1000\n",
       "1  1000_1   2018-10-08     1000\n",
       "2  1000_2   2018-08-04     1000\n",
       "3  1000_3   2018-06-16     1000\n",
       "4  1000_4   2018-12-05     1000"
      ]
     },
     "metadata": {},
     "output_type": "display_data"
    },
    {
     "name": "stdout",
     "output_type": "stream",
     "text": [
      "<class 'pandas.core.frame.DataFrame'>\n",
      "RangeIndex: 123036 entries, 0 to 123035\n",
      "Data columns (total 3 columns):\n",
      "id              123036 non-null object\n",
      "message_date    123036 non-null object\n",
      "user_id         123036 non-null int64\n",
      "dtypes: int64(1), object(2)\n",
      "memory usage: 2.8+ MB\n"
     ]
    }
   ],
   "source": [
    "# открываем csv-файл с нужными параметрами, таблица с смс\n",
    "messages = pd.read_csv('/datasets/messages.csv', sep=',', decimal='.')\n",
    "display(messages.head())\n",
    "messages.info()"
   ]
  },
  {
   "cell_type": "markdown",
   "metadata": {},
   "source": [
    "Тип столбца message_date можно заменить на datetime, у остальных столбцов тип данных верный. "
   ]
  },
  {
   "cell_type": "code",
   "execution_count": 5,
   "metadata": {},
   "outputs": [
    {
     "data": {
      "text/html": [
       "<div>\n",
       "<style scoped>\n",
       "    .dataframe tbody tr th:only-of-type {\n",
       "        vertical-align: middle;\n",
       "    }\n",
       "\n",
       "    .dataframe tbody tr th {\n",
       "        vertical-align: top;\n",
       "    }\n",
       "\n",
       "    .dataframe thead th {\n",
       "        text-align: right;\n",
       "    }\n",
       "</style>\n",
       "<table border=\"1\" class=\"dataframe\">\n",
       "  <thead>\n",
       "    <tr style=\"text-align: right;\">\n",
       "      <th></th>\n",
       "      <th>messages_included</th>\n",
       "      <th>mb_per_month_included</th>\n",
       "      <th>minutes_included</th>\n",
       "      <th>rub_monthly_fee</th>\n",
       "      <th>rub_per_gb</th>\n",
       "      <th>rub_per_message</th>\n",
       "      <th>rub_per_minute</th>\n",
       "      <th>tariff_name</th>\n",
       "    </tr>\n",
       "  </thead>\n",
       "  <tbody>\n",
       "    <tr>\n",
       "      <td>0</td>\n",
       "      <td>50</td>\n",
       "      <td>15360</td>\n",
       "      <td>500</td>\n",
       "      <td>550</td>\n",
       "      <td>200</td>\n",
       "      <td>3</td>\n",
       "      <td>3</td>\n",
       "      <td>smart</td>\n",
       "    </tr>\n",
       "    <tr>\n",
       "      <td>1</td>\n",
       "      <td>1000</td>\n",
       "      <td>30720</td>\n",
       "      <td>3000</td>\n",
       "      <td>1950</td>\n",
       "      <td>150</td>\n",
       "      <td>1</td>\n",
       "      <td>1</td>\n",
       "      <td>ultra</td>\n",
       "    </tr>\n",
       "  </tbody>\n",
       "</table>\n",
       "</div>"
      ],
      "text/plain": [
       "   messages_included  mb_per_month_included  minutes_included  \\\n",
       "0                 50                  15360               500   \n",
       "1               1000                  30720              3000   \n",
       "\n",
       "   rub_monthly_fee  rub_per_gb  rub_per_message  rub_per_minute tariff_name  \n",
       "0              550         200                3               3       smart  \n",
       "1             1950         150                1               1       ultra  "
      ]
     },
     "metadata": {},
     "output_type": "display_data"
    },
    {
     "name": "stdout",
     "output_type": "stream",
     "text": [
      "<class 'pandas.core.frame.DataFrame'>\n",
      "RangeIndex: 2 entries, 0 to 1\n",
      "Data columns (total 8 columns):\n",
      "messages_included        2 non-null int64\n",
      "mb_per_month_included    2 non-null int64\n",
      "minutes_included         2 non-null int64\n",
      "rub_monthly_fee          2 non-null int64\n",
      "rub_per_gb               2 non-null int64\n",
      "rub_per_message          2 non-null int64\n",
      "rub_per_minute           2 non-null int64\n",
      "tariff_name              2 non-null object\n",
      "dtypes: int64(7), object(1)\n",
      "memory usage: 256.0+ bytes\n"
     ]
    }
   ],
   "source": [
    "# открываем csv-файл с нужными параметрами, таблица с тарифами\n",
    "tariffs = pd.read_csv('/datasets/tariffs.csv', sep=',', decimal='.')\n",
    "display(tariffs.head())\n",
    "tariffs.info()"
   ]
  },
  {
   "cell_type": "markdown",
   "metadata": {},
   "source": [
    "Типы данных корректны. Вся информация в таблице соответствует описанию тарифов."
   ]
  },
  {
   "cell_type": "code",
   "execution_count": 6,
   "metadata": {},
   "outputs": [
    {
     "data": {
      "text/html": [
       "<div>\n",
       "<style scoped>\n",
       "    .dataframe tbody tr th:only-of-type {\n",
       "        vertical-align: middle;\n",
       "    }\n",
       "\n",
       "    .dataframe tbody tr th {\n",
       "        vertical-align: top;\n",
       "    }\n",
       "\n",
       "    .dataframe thead th {\n",
       "        text-align: right;\n",
       "    }\n",
       "</style>\n",
       "<table border=\"1\" class=\"dataframe\">\n",
       "  <thead>\n",
       "    <tr style=\"text-align: right;\">\n",
       "      <th></th>\n",
       "      <th>user_id</th>\n",
       "      <th>age</th>\n",
       "      <th>churn_date</th>\n",
       "      <th>city</th>\n",
       "      <th>first_name</th>\n",
       "      <th>last_name</th>\n",
       "      <th>reg_date</th>\n",
       "      <th>tariff</th>\n",
       "    </tr>\n",
       "  </thead>\n",
       "  <tbody>\n",
       "    <tr>\n",
       "      <td>0</td>\n",
       "      <td>1000</td>\n",
       "      <td>52</td>\n",
       "      <td>NaN</td>\n",
       "      <td>Краснодар</td>\n",
       "      <td>Рафаил</td>\n",
       "      <td>Верещагин</td>\n",
       "      <td>2018-05-25</td>\n",
       "      <td>ultra</td>\n",
       "    </tr>\n",
       "    <tr>\n",
       "      <td>1</td>\n",
       "      <td>1001</td>\n",
       "      <td>41</td>\n",
       "      <td>NaN</td>\n",
       "      <td>Москва</td>\n",
       "      <td>Иван</td>\n",
       "      <td>Ежов</td>\n",
       "      <td>2018-11-01</td>\n",
       "      <td>smart</td>\n",
       "    </tr>\n",
       "    <tr>\n",
       "      <td>2</td>\n",
       "      <td>1002</td>\n",
       "      <td>59</td>\n",
       "      <td>NaN</td>\n",
       "      <td>Стерлитамак</td>\n",
       "      <td>Евгений</td>\n",
       "      <td>Абрамович</td>\n",
       "      <td>2018-06-17</td>\n",
       "      <td>smart</td>\n",
       "    </tr>\n",
       "    <tr>\n",
       "      <td>3</td>\n",
       "      <td>1003</td>\n",
       "      <td>23</td>\n",
       "      <td>NaN</td>\n",
       "      <td>Москва</td>\n",
       "      <td>Белла</td>\n",
       "      <td>Белякова</td>\n",
       "      <td>2018-08-17</td>\n",
       "      <td>ultra</td>\n",
       "    </tr>\n",
       "    <tr>\n",
       "      <td>4</td>\n",
       "      <td>1004</td>\n",
       "      <td>68</td>\n",
       "      <td>NaN</td>\n",
       "      <td>Новокузнецк</td>\n",
       "      <td>Татьяна</td>\n",
       "      <td>Авдеенко</td>\n",
       "      <td>2018-05-14</td>\n",
       "      <td>ultra</td>\n",
       "    </tr>\n",
       "  </tbody>\n",
       "</table>\n",
       "</div>"
      ],
      "text/plain": [
       "   user_id  age churn_date         city first_name  last_name    reg_date  \\\n",
       "0     1000   52        NaN    Краснодар     Рафаил  Верещагин  2018-05-25   \n",
       "1     1001   41        NaN       Москва       Иван       Ежов  2018-11-01   \n",
       "2     1002   59        NaN  Стерлитамак    Евгений  Абрамович  2018-06-17   \n",
       "3     1003   23        NaN       Москва      Белла   Белякова  2018-08-17   \n",
       "4     1004   68        NaN  Новокузнецк    Татьяна   Авдеенко  2018-05-14   \n",
       "\n",
       "  tariff  \n",
       "0  ultra  \n",
       "1  smart  \n",
       "2  smart  \n",
       "3  ultra  \n",
       "4  ultra  "
      ]
     },
     "metadata": {},
     "output_type": "display_data"
    },
    {
     "name": "stdout",
     "output_type": "stream",
     "text": [
      "<class 'pandas.core.frame.DataFrame'>\n",
      "RangeIndex: 500 entries, 0 to 499\n",
      "Data columns (total 8 columns):\n",
      "user_id       500 non-null int64\n",
      "age           500 non-null int64\n",
      "churn_date    38 non-null object\n",
      "city          500 non-null object\n",
      "first_name    500 non-null object\n",
      "last_name     500 non-null object\n",
      "reg_date      500 non-null object\n",
      "tariff        500 non-null object\n",
      "dtypes: int64(2), object(6)\n",
      "memory usage: 31.4+ KB\n"
     ]
    }
   ],
   "source": [
    "# открываем csv-файл с нужными параметрами, таблица с тарифами\n",
    "users = pd.read_csv('/datasets/users.csv', sep=',', decimal='.')\n",
    "display(users.head())\n",
    "users.info()"
   ]
  },
  {
   "cell_type": "markdown",
   "metadata": {},
   "source": [
    "Тип столбца reg_date можно будет изменить на datetime, у других столбцов тип данных корректный. Столбец churn_date содердит всего 38 непропущенных значений, но здесь пропуски значат, что клиент всё ещё пользовался тарифом на момент сбора этих данных. "
   ]
  },
  {
   "cell_type": "markdown",
   "metadata": {},
   "source": [
    "### Вывод\n",
    "\n",
    "В целом, данные не требуют сложной и долгой предобработки, потому что столбцов с пропусками немного и они все важны. Имена столбцов написаны корректно, а типы данных соответствуют данных в столбцах. Дополнительных действий требуют только столбцы с датами. "
   ]
  },
  {
   "cell_type": "markdown",
   "metadata": {},
   "source": [
    "## Предобработка данных"
   ]
  },
  {
   "cell_type": "markdown",
   "metadata": {},
   "source": [
    "### Изменение типов данных\n",
    "\n",
    "Сначала разберемся с типами данных столбцов с датами. Формат у каждого такого столбца одинаковый."
   ]
  },
  {
   "cell_type": "code",
   "execution_count": 7,
   "metadata": {},
   "outputs": [],
   "source": [
    "# изменим тип данных в столбцах с датами\n",
    "date_format = '%Y-%m-%d'\n",
    "calls['call_date'] = pd.to_datetime(calls['call_date'], format=date_format)\n",
    "internet['session_date'] = pd.to_datetime(internet['session_date'], format=date_format)\n",
    "messages['message_date'] = pd.to_datetime(messages['message_date'], format=date_format)\n",
    "users['churn_date'] = pd.to_datetime(users['churn_date'], format=date_format)\n",
    "users['reg_date'] = pd.to_datetime(users['reg_date'], format=date_format)"
   ]
  },
  {
   "cell_type": "markdown",
   "metadata": {},
   "source": [
    "Тип данных изменён. Так же можно округлить количество минут в таблице со звонками в бОльшую сторону, а затем поменять тип данных на целочисленный."
   ]
  },
  {
   "cell_type": "code",
   "execution_count": 8,
   "metadata": {},
   "outputs": [],
   "source": [
    "# округлим каждое значение в столбце в большую сторону\n",
    "calls['duration'] = np.ceil(calls['duration']).astype('int64')"
   ]
  },
  {
   "cell_type": "markdown",
   "metadata": {},
   "source": [
    "### Количество сделанных звонков и израсходованных минут \n",
    "\n",
    "Теперь создадим таблицу с информацией о количесве сделанных звонков и и израсходованных минут по месяцам. Для этого сначала с таблице calls создадим новый столбец c месяцем."
   ]
  },
  {
   "cell_type": "code",
   "execution_count": 9,
   "metadata": {},
   "outputs": [],
   "source": [
    "# добавим новый столбец\n",
    "calls['month'] = pd.DatetimeIndex(calls['call_date']).month"
   ]
  },
  {
   "cell_type": "code",
   "execution_count": 10,
   "metadata": {},
   "outputs": [],
   "source": [
    "# построим сводную таблицу для количества звонков по месяцам\n",
    "calls_per_month = calls.pivot_table(index=['user_id', 'month'], values='duration', aggfunc='count').reset_index()"
   ]
  },
  {
   "cell_type": "code",
   "execution_count": 11,
   "metadata": {},
   "outputs": [
    {
     "data": {
      "text/html": [
       "<div>\n",
       "<style scoped>\n",
       "    .dataframe tbody tr th:only-of-type {\n",
       "        vertical-align: middle;\n",
       "    }\n",
       "\n",
       "    .dataframe tbody tr th {\n",
       "        vertical-align: top;\n",
       "    }\n",
       "\n",
       "    .dataframe thead th {\n",
       "        text-align: right;\n",
       "    }\n",
       "</style>\n",
       "<table border=\"1\" class=\"dataframe\">\n",
       "  <thead>\n",
       "    <tr style=\"text-align: right;\">\n",
       "      <th></th>\n",
       "      <th>user_id</th>\n",
       "      <th>month</th>\n",
       "      <th>duration</th>\n",
       "    </tr>\n",
       "  </thead>\n",
       "  <tbody>\n",
       "    <tr>\n",
       "      <td>0</td>\n",
       "      <td>1000</td>\n",
       "      <td>5</td>\n",
       "      <td>159</td>\n",
       "    </tr>\n",
       "    <tr>\n",
       "      <td>1</td>\n",
       "      <td>1000</td>\n",
       "      <td>6</td>\n",
       "      <td>172</td>\n",
       "    </tr>\n",
       "    <tr>\n",
       "      <td>2</td>\n",
       "      <td>1000</td>\n",
       "      <td>7</td>\n",
       "      <td>340</td>\n",
       "    </tr>\n",
       "    <tr>\n",
       "      <td>3</td>\n",
       "      <td>1000</td>\n",
       "      <td>8</td>\n",
       "      <td>408</td>\n",
       "    </tr>\n",
       "    <tr>\n",
       "      <td>4</td>\n",
       "      <td>1000</td>\n",
       "      <td>9</td>\n",
       "      <td>466</td>\n",
       "    </tr>\n",
       "  </tbody>\n",
       "</table>\n",
       "</div>"
      ],
      "text/plain": [
       "   user_id  month  duration\n",
       "0     1000      5       159\n",
       "1     1000      6       172\n",
       "2     1000      7       340\n",
       "3     1000      8       408\n",
       "4     1000      9       466"
      ]
     },
     "execution_count": 11,
     "metadata": {},
     "output_type": "execute_result"
    }
   ],
   "source": [
    "# построим сводную таблицу для количества потраченных минут по месяцам\n",
    "minutes_per_month = calls.pivot_table(index=['user_id', 'month'], values='duration', aggfunc='sum').reset_index()\n",
    "minutes_per_month.head()"
   ]
  },
  {
   "cell_type": "markdown",
   "metadata": {},
   "source": [
    "По таблицам видно, что многие пользователи начали пользоваться мобильными услугами оператора в 2018 году, месяцы до начала обслуживания заполнены пропусками. \n"
   ]
  },
  {
   "cell_type": "markdown",
   "metadata": {},
   "source": [
    "### Количество отправленных сообщений\n",
    "Далее создадим таблицу с количеством отправленных сообщений по месяцам. Также создадим в таблице messages столбец month."
   ]
  },
  {
   "cell_type": "code",
   "execution_count": 12,
   "metadata": {},
   "outputs": [],
   "source": [
    "# добавим новый столбец\n",
    "messages['month'] = pd.DatetimeIndex(messages['message_date']).month"
   ]
  },
  {
   "cell_type": "code",
   "execution_count": 13,
   "metadata": {},
   "outputs": [
    {
     "data": {
      "text/html": [
       "<div>\n",
       "<style scoped>\n",
       "    .dataframe tbody tr th:only-of-type {\n",
       "        vertical-align: middle;\n",
       "    }\n",
       "\n",
       "    .dataframe tbody tr th {\n",
       "        vertical-align: top;\n",
       "    }\n",
       "\n",
       "    .dataframe thead th {\n",
       "        text-align: right;\n",
       "    }\n",
       "</style>\n",
       "<table border=\"1\" class=\"dataframe\">\n",
       "  <thead>\n",
       "    <tr style=\"text-align: right;\">\n",
       "      <th></th>\n",
       "      <th>user_id</th>\n",
       "      <th>month</th>\n",
       "      <th>id</th>\n",
       "    </tr>\n",
       "  </thead>\n",
       "  <tbody>\n",
       "    <tr>\n",
       "      <td>0</td>\n",
       "      <td>1000</td>\n",
       "      <td>5</td>\n",
       "      <td>22</td>\n",
       "    </tr>\n",
       "    <tr>\n",
       "      <td>1</td>\n",
       "      <td>1000</td>\n",
       "      <td>6</td>\n",
       "      <td>60</td>\n",
       "    </tr>\n",
       "    <tr>\n",
       "      <td>2</td>\n",
       "      <td>1000</td>\n",
       "      <td>7</td>\n",
       "      <td>75</td>\n",
       "    </tr>\n",
       "    <tr>\n",
       "      <td>3</td>\n",
       "      <td>1000</td>\n",
       "      <td>8</td>\n",
       "      <td>81</td>\n",
       "    </tr>\n",
       "    <tr>\n",
       "      <td>4</td>\n",
       "      <td>1000</td>\n",
       "      <td>9</td>\n",
       "      <td>57</td>\n",
       "    </tr>\n",
       "  </tbody>\n",
       "</table>\n",
       "</div>"
      ],
      "text/plain": [
       "   user_id  month  id\n",
       "0     1000      5  22\n",
       "1     1000      6  60\n",
       "2     1000      7  75\n",
       "3     1000      8  81\n",
       "4     1000      9  57"
      ]
     },
     "execution_count": 13,
     "metadata": {},
     "output_type": "execute_result"
    }
   ],
   "source": [
    "# построим сводную таблицу для количества звонков по месяцам\n",
    "messages_per_month = messages.pivot_table(index=['user_id', 'month'], values='id', aggfunc='count').reset_index()\n",
    "messages_per_month.head()"
   ]
  },
  {
   "cell_type": "markdown",
   "metadata": {},
   "source": [
    "### Объём израсходонного интернет-трафика\n",
    "\n",
    "Далее создадим таблицу с объёмом израсходонного интернет-трафика по месяцам. Каждое получившееся значение переведём в гигабайты и округлим до целого числа. Для начала создадим в таблице internet столбец month."
   ]
  },
  {
   "cell_type": "code",
   "execution_count": 33,
   "metadata": {},
   "outputs": [],
   "source": [
    "# добавим новый столбец\n",
    "internet['month'] = pd.DatetimeIndex(internet['session_date']).month"
   ]
  },
  {
   "cell_type": "code",
   "execution_count": 34,
   "metadata": {},
   "outputs": [],
   "source": [
    "# построим сводную таблицу для количества звонков по месяцам\n",
    "internet_per_month = internet.pivot_table(index=['user_id', 'month'], values='mb_used', aggfunc='sum')"
   ]
  },
  {
   "cell_type": "code",
   "execution_count": 16,
   "metadata": {},
   "outputs": [],
   "source": [
    "# функция для перевода мегабайтов в целые гигабайты\n",
    "def mb_to_gb(value):\n",
    "    return np.ceil(value / 1024)"
   ]
  },
  {
   "cell_type": "code",
   "execution_count": 17,
   "metadata": {},
   "outputs": [
    {
     "data": {
      "text/html": [
       "<div>\n",
       "<style scoped>\n",
       "    .dataframe tbody tr th:only-of-type {\n",
       "        vertical-align: middle;\n",
       "    }\n",
       "\n",
       "    .dataframe tbody tr th {\n",
       "        vertical-align: top;\n",
       "    }\n",
       "\n",
       "    .dataframe thead th {\n",
       "        text-align: right;\n",
       "    }\n",
       "</style>\n",
       "<table border=\"1\" class=\"dataframe\">\n",
       "  <thead>\n",
       "    <tr style=\"text-align: right;\">\n",
       "      <th></th>\n",
       "      <th></th>\n",
       "      <th>mb_used</th>\n",
       "    </tr>\n",
       "    <tr>\n",
       "      <th>user_id</th>\n",
       "      <th>month</th>\n",
       "      <th></th>\n",
       "    </tr>\n",
       "  </thead>\n",
       "  <tbody>\n",
       "    <tr>\n",
       "      <td rowspan=\"5\" valign=\"top\">1000</td>\n",
       "      <td>5</td>\n",
       "      <td>3.0</td>\n",
       "    </tr>\n",
       "    <tr>\n",
       "      <td>6</td>\n",
       "      <td>23.0</td>\n",
       "    </tr>\n",
       "    <tr>\n",
       "      <td>7</td>\n",
       "      <td>14.0</td>\n",
       "    </tr>\n",
       "    <tr>\n",
       "      <td>8</td>\n",
       "      <td>14.0</td>\n",
       "    </tr>\n",
       "    <tr>\n",
       "      <td>9</td>\n",
       "      <td>15.0</td>\n",
       "    </tr>\n",
       "  </tbody>\n",
       "</table>\n",
       "</div>"
      ],
      "text/plain": [
       "               mb_used\n",
       "user_id month         \n",
       "1000    5          3.0\n",
       "        6         23.0\n",
       "        7         14.0\n",
       "        8         14.0\n",
       "        9         15.0"
      ]
     },
     "execution_count": 17,
     "metadata": {},
     "output_type": "execute_result"
    }
   ],
   "source": [
    "# применяем ко всем месяцам функцию\n",
    "internet_per_month['mb_used'] = internet_per_month['mb_used'].apply(mb_to_gb)\n",
    "internet_per_month.head()"
   ]
  },
  {
   "cell_type": "markdown",
   "metadata": {},
   "source": [
    "### Выручка с каждого пользователя\n",
    "\n",
    "Все необходимые таблицы составлены. Теперь посчитаем, сколько каждый из клиентов потратил в месяц на оплату тарифа. Для начала объединим таблицы и затем посчитаем, сколько составила переплата за минуты, смс и гигабайты трафика. "
   ]
  },
  {
   "cell_type": "code",
   "execution_count": 18,
   "metadata": {},
   "outputs": [],
   "source": [
    "# соединяем таблицы методом merge\n",
    "data = internet_per_month.merge(messages_per_month, on=['user_id', 'month'], how='outer')\n",
    "data = data.merge(minutes_per_month, on=['user_id', 'month'], how='outer')\n",
    "data = data.merge(users, on='user_id', how='outer').rename(columns = {'tariff' : 'tariff_name'})\n",
    "data = data.merge(tariffs, on='tariff_name', how='outer')"
   ]
  },
  {
   "cell_type": "code",
   "execution_count": 19,
   "metadata": {
    "scrolled": false
   },
   "outputs": [
    {
     "name": "stdout",
     "output_type": "stream",
     "text": [
      "<class 'pandas.core.frame.DataFrame'>\n",
      "Int64Index: 3216 entries, 0 to 3215\n",
      "Data columns (total 19 columns):\n",
      "user_id                  3216 non-null int64\n",
      "month                    3214 non-null float64\n",
      "gb_used                  3203 non-null float64\n",
      "messages_used            2717 non-null float64\n",
      "minutes_used             3174 non-null float64\n",
      "age                      3216 non-null int64\n",
      "churn_date               189 non-null datetime64[ns]\n",
      "city                     3216 non-null object\n",
      "first_name               3216 non-null object\n",
      "last_name                3216 non-null object\n",
      "reg_date                 3216 non-null datetime64[ns]\n",
      "tariff_name              3216 non-null object\n",
      "messages_included        3216 non-null int64\n",
      "mb_per_month_included    3216 non-null int64\n",
      "minutes_included         3216 non-null int64\n",
      "rub_monthly_fee          3216 non-null int64\n",
      "rub_per_gb               3216 non-null int64\n",
      "rub_per_message          3216 non-null int64\n",
      "rub_per_minute           3216 non-null int64\n",
      "dtypes: datetime64[ns](2), float64(4), int64(9), object(4)\n",
      "memory usage: 502.5+ KB\n"
     ]
    }
   ],
   "source": [
    "# переименовываем стоблцы\n",
    "data.rename(columns={'mb_used': 'gb_used', 'id':'messages_used', 'duration': 'minutes_used'}, inplace=True)\n",
    "data.info()"
   ]
  },
  {
   "cell_type": "code",
   "execution_count": 37,
   "metadata": {},
   "outputs": [
    {
     "data": {
      "text/plain": [
       "(3216, 8)"
      ]
     },
     "execution_count": 37,
     "metadata": {},
     "output_type": "execute_result"
    }
   ],
   "source": [
    "data.shape"
   ]
  },
  {
   "cell_type": "code",
   "execution_count": 38,
   "metadata": {},
   "outputs": [
    {
     "data": {
      "text/plain": [
       "500"
      ]
     },
     "execution_count": 38,
     "metadata": {},
     "output_type": "execute_result"
    }
   ],
   "source": [
    "data.user_id.nunique()"
   ]
  },
  {
   "cell_type": "markdown",
   "metadata": {},
   "source": [
    "В итоге получилась одна таблица со всей необходимой информацией. Каждая строчка в такой таблице содержит информацию о затратах каждого пользователя по месяцам. \n",
    "\n",
    "Для каждой строки мы можем сосчитать стоимость использования тарифа за каждый месяц."
   ]
  },
  {
   "cell_type": "code",
   "execution_count": 20,
   "metadata": {},
   "outputs": [],
   "source": [
    "# функция для подсчёта общей стоимости использования тарифа за месяц\n",
    "def revenue(row):\n",
    "    \n",
    "    # переплата за минуты\n",
    "    minutes_cost = 0\n",
    "    if row['minutes_used'] > row['minutes_included']:\n",
    "        minutes_cost = (row['minutes_used'] - row['minutes_included']) * row['rub_per_minute']\n",
    "    \n",
    "    # переплата за смс\n",
    "    messages_cost = 0\n",
    "    if row['messages_used'] > row['messages_included']:\n",
    "        messages_cost = (row['messages_used'] - row['messages_included']) * row['rub_per_message']\n",
    "    \n",
    "    # переплат за гигабайты\n",
    "    gb_cost = 0\n",
    "    if row['gb_used'] > row['mb_per_month_included'] / 1024:\n",
    "        gb_cost = (row['gb_used'] - row['mb_per_month_included'] / 1024) * row['rub_per_gb']\n",
    "    \n",
    "    # стоимость тарифа и переплаты \n",
    "    return minutes_cost + messages_cost + gb_cost + row['rub_monthly_fee']"
   ]
  },
  {
   "cell_type": "code",
   "execution_count": 21,
   "metadata": {
    "scrolled": true
   },
   "outputs": [
    {
     "data": {
      "text/html": [
       "<div>\n",
       "<style scoped>\n",
       "    .dataframe tbody tr th:only-of-type {\n",
       "        vertical-align: middle;\n",
       "    }\n",
       "\n",
       "    .dataframe tbody tr th {\n",
       "        vertical-align: top;\n",
       "    }\n",
       "\n",
       "    .dataframe thead th {\n",
       "        text-align: right;\n",
       "    }\n",
       "</style>\n",
       "<table border=\"1\" class=\"dataframe\">\n",
       "  <thead>\n",
       "    <tr style=\"text-align: right;\">\n",
       "      <th></th>\n",
       "      <th>user_id</th>\n",
       "      <th>month</th>\n",
       "      <th>gb_used</th>\n",
       "      <th>messages_used</th>\n",
       "      <th>minutes_used</th>\n",
       "      <th>age</th>\n",
       "      <th>churn_date</th>\n",
       "      <th>city</th>\n",
       "      <th>first_name</th>\n",
       "      <th>last_name</th>\n",
       "      <th>reg_date</th>\n",
       "      <th>tariff_name</th>\n",
       "      <th>messages_included</th>\n",
       "      <th>mb_per_month_included</th>\n",
       "      <th>minutes_included</th>\n",
       "      <th>rub_monthly_fee</th>\n",
       "      <th>rub_per_gb</th>\n",
       "      <th>rub_per_message</th>\n",
       "      <th>rub_per_minute</th>\n",
       "      <th>total_cost</th>\n",
       "    </tr>\n",
       "  </thead>\n",
       "  <tbody>\n",
       "    <tr>\n",
       "      <td>0</td>\n",
       "      <td>1000</td>\n",
       "      <td>5.0</td>\n",
       "      <td>3.0</td>\n",
       "      <td>22.0</td>\n",
       "      <td>159.0</td>\n",
       "      <td>52</td>\n",
       "      <td>NaT</td>\n",
       "      <td>Краснодар</td>\n",
       "      <td>Рафаил</td>\n",
       "      <td>Верещагин</td>\n",
       "      <td>2018-05-25</td>\n",
       "      <td>ultra</td>\n",
       "      <td>1000</td>\n",
       "      <td>30720</td>\n",
       "      <td>3000</td>\n",
       "      <td>1950</td>\n",
       "      <td>150</td>\n",
       "      <td>1</td>\n",
       "      <td>1</td>\n",
       "      <td>1950.0</td>\n",
       "    </tr>\n",
       "    <tr>\n",
       "      <td>1</td>\n",
       "      <td>1000</td>\n",
       "      <td>6.0</td>\n",
       "      <td>23.0</td>\n",
       "      <td>60.0</td>\n",
       "      <td>172.0</td>\n",
       "      <td>52</td>\n",
       "      <td>NaT</td>\n",
       "      <td>Краснодар</td>\n",
       "      <td>Рафаил</td>\n",
       "      <td>Верещагин</td>\n",
       "      <td>2018-05-25</td>\n",
       "      <td>ultra</td>\n",
       "      <td>1000</td>\n",
       "      <td>30720</td>\n",
       "      <td>3000</td>\n",
       "      <td>1950</td>\n",
       "      <td>150</td>\n",
       "      <td>1</td>\n",
       "      <td>1</td>\n",
       "      <td>1950.0</td>\n",
       "    </tr>\n",
       "    <tr>\n",
       "      <td>2</td>\n",
       "      <td>1000</td>\n",
       "      <td>7.0</td>\n",
       "      <td>14.0</td>\n",
       "      <td>75.0</td>\n",
       "      <td>340.0</td>\n",
       "      <td>52</td>\n",
       "      <td>NaT</td>\n",
       "      <td>Краснодар</td>\n",
       "      <td>Рафаил</td>\n",
       "      <td>Верещагин</td>\n",
       "      <td>2018-05-25</td>\n",
       "      <td>ultra</td>\n",
       "      <td>1000</td>\n",
       "      <td>30720</td>\n",
       "      <td>3000</td>\n",
       "      <td>1950</td>\n",
       "      <td>150</td>\n",
       "      <td>1</td>\n",
       "      <td>1</td>\n",
       "      <td>1950.0</td>\n",
       "    </tr>\n",
       "    <tr>\n",
       "      <td>3</td>\n",
       "      <td>1000</td>\n",
       "      <td>8.0</td>\n",
       "      <td>14.0</td>\n",
       "      <td>81.0</td>\n",
       "      <td>408.0</td>\n",
       "      <td>52</td>\n",
       "      <td>NaT</td>\n",
       "      <td>Краснодар</td>\n",
       "      <td>Рафаил</td>\n",
       "      <td>Верещагин</td>\n",
       "      <td>2018-05-25</td>\n",
       "      <td>ultra</td>\n",
       "      <td>1000</td>\n",
       "      <td>30720</td>\n",
       "      <td>3000</td>\n",
       "      <td>1950</td>\n",
       "      <td>150</td>\n",
       "      <td>1</td>\n",
       "      <td>1</td>\n",
       "      <td>1950.0</td>\n",
       "    </tr>\n",
       "    <tr>\n",
       "      <td>4</td>\n",
       "      <td>1000</td>\n",
       "      <td>9.0</td>\n",
       "      <td>15.0</td>\n",
       "      <td>57.0</td>\n",
       "      <td>466.0</td>\n",
       "      <td>52</td>\n",
       "      <td>NaT</td>\n",
       "      <td>Краснодар</td>\n",
       "      <td>Рафаил</td>\n",
       "      <td>Верещагин</td>\n",
       "      <td>2018-05-25</td>\n",
       "      <td>ultra</td>\n",
       "      <td>1000</td>\n",
       "      <td>30720</td>\n",
       "      <td>3000</td>\n",
       "      <td>1950</td>\n",
       "      <td>150</td>\n",
       "      <td>1</td>\n",
       "      <td>1</td>\n",
       "      <td>1950.0</td>\n",
       "    </tr>\n",
       "  </tbody>\n",
       "</table>\n",
       "</div>"
      ],
      "text/plain": [
       "   user_id  month  gb_used  messages_used  minutes_used  age churn_date  \\\n",
       "0     1000    5.0      3.0           22.0         159.0   52        NaT   \n",
       "1     1000    6.0     23.0           60.0         172.0   52        NaT   \n",
       "2     1000    7.0     14.0           75.0         340.0   52        NaT   \n",
       "3     1000    8.0     14.0           81.0         408.0   52        NaT   \n",
       "4     1000    9.0     15.0           57.0         466.0   52        NaT   \n",
       "\n",
       "        city first_name  last_name   reg_date tariff_name  messages_included  \\\n",
       "0  Краснодар     Рафаил  Верещагин 2018-05-25       ultra               1000   \n",
       "1  Краснодар     Рафаил  Верещагин 2018-05-25       ultra               1000   \n",
       "2  Краснодар     Рафаил  Верещагин 2018-05-25       ultra               1000   \n",
       "3  Краснодар     Рафаил  Верещагин 2018-05-25       ultra               1000   \n",
       "4  Краснодар     Рафаил  Верещагин 2018-05-25       ultra               1000   \n",
       "\n",
       "   mb_per_month_included  minutes_included  rub_monthly_fee  rub_per_gb  \\\n",
       "0                  30720              3000             1950         150   \n",
       "1                  30720              3000             1950         150   \n",
       "2                  30720              3000             1950         150   \n",
       "3                  30720              3000             1950         150   \n",
       "4                  30720              3000             1950         150   \n",
       "\n",
       "   rub_per_message  rub_per_minute  total_cost  \n",
       "0                1               1      1950.0  \n",
       "1                1               1      1950.0  \n",
       "2                1               1      1950.0  \n",
       "3                1               1      1950.0  \n",
       "4                1               1      1950.0  "
      ]
     },
     "execution_count": 21,
     "metadata": {},
     "output_type": "execute_result"
    }
   ],
   "source": [
    "# применяем функцию к каждой строке датафрейма\n",
    "data['total_cost'] = data.apply(revenue, axis=1)\n",
    "data.head()"
   ]
  },
  {
   "cell_type": "code",
   "execution_count": 39,
   "metadata": {},
   "outputs": [
    {
     "data": {
      "text/plain": [
       "count    3216.000000\n",
       "mean     1528.902674\n",
       "std       798.224060\n",
       "min       550.000000\n",
       "25%       750.000000\n",
       "50%      1653.500000\n",
       "75%      1950.000000\n",
       "max      6770.000000\n",
       "Name: total_cost, dtype: float64"
      ]
     },
     "execution_count": 39,
     "metadata": {},
     "output_type": "execute_result"
    }
   ],
   "source": [
    "data['total_cost'].describe()"
   ]
  },
  {
   "cell_type": "code",
   "execution_count": 22,
   "metadata": {
    "scrolled": true
   },
   "outputs": [
    {
     "data": {
      "text/html": [
       "<div>\n",
       "<style scoped>\n",
       "    .dataframe tbody tr th:only-of-type {\n",
       "        vertical-align: middle;\n",
       "    }\n",
       "\n",
       "    .dataframe tbody tr th {\n",
       "        vertical-align: top;\n",
       "    }\n",
       "\n",
       "    .dataframe thead th {\n",
       "        text-align: right;\n",
       "    }\n",
       "</style>\n",
       "<table border=\"1\" class=\"dataframe\">\n",
       "  <thead>\n",
       "    <tr style=\"text-align: right;\">\n",
       "      <th></th>\n",
       "      <th>user_id</th>\n",
       "      <th>month</th>\n",
       "      <th>gb_used</th>\n",
       "      <th>messages_used</th>\n",
       "      <th>minutes_used</th>\n",
       "      <th>city</th>\n",
       "      <th>total_cost</th>\n",
       "      <th>tariff_name</th>\n",
       "    </tr>\n",
       "  </thead>\n",
       "  <tbody>\n",
       "    <tr>\n",
       "      <td>0</td>\n",
       "      <td>1000</td>\n",
       "      <td>5.0</td>\n",
       "      <td>3.0</td>\n",
       "      <td>22.0</td>\n",
       "      <td>159.0</td>\n",
       "      <td>Краснодар</td>\n",
       "      <td>1950.0</td>\n",
       "      <td>ultra</td>\n",
       "    </tr>\n",
       "    <tr>\n",
       "      <td>1</td>\n",
       "      <td>1000</td>\n",
       "      <td>6.0</td>\n",
       "      <td>23.0</td>\n",
       "      <td>60.0</td>\n",
       "      <td>172.0</td>\n",
       "      <td>Краснодар</td>\n",
       "      <td>1950.0</td>\n",
       "      <td>ultra</td>\n",
       "    </tr>\n",
       "    <tr>\n",
       "      <td>2</td>\n",
       "      <td>1000</td>\n",
       "      <td>7.0</td>\n",
       "      <td>14.0</td>\n",
       "      <td>75.0</td>\n",
       "      <td>340.0</td>\n",
       "      <td>Краснодар</td>\n",
       "      <td>1950.0</td>\n",
       "      <td>ultra</td>\n",
       "    </tr>\n",
       "    <tr>\n",
       "      <td>3</td>\n",
       "      <td>1000</td>\n",
       "      <td>8.0</td>\n",
       "      <td>14.0</td>\n",
       "      <td>81.0</td>\n",
       "      <td>408.0</td>\n",
       "      <td>Краснодар</td>\n",
       "      <td>1950.0</td>\n",
       "      <td>ultra</td>\n",
       "    </tr>\n",
       "    <tr>\n",
       "      <td>4</td>\n",
       "      <td>1000</td>\n",
       "      <td>9.0</td>\n",
       "      <td>15.0</td>\n",
       "      <td>57.0</td>\n",
       "      <td>466.0</td>\n",
       "      <td>Краснодар</td>\n",
       "      <td>1950.0</td>\n",
       "      <td>ultra</td>\n",
       "    </tr>\n",
       "  </tbody>\n",
       "</table>\n",
       "</div>"
      ],
      "text/plain": [
       "   user_id  month  gb_used  messages_used  minutes_used       city  \\\n",
       "0     1000    5.0      3.0           22.0         159.0  Краснодар   \n",
       "1     1000    6.0     23.0           60.0         172.0  Краснодар   \n",
       "2     1000    7.0     14.0           75.0         340.0  Краснодар   \n",
       "3     1000    8.0     14.0           81.0         408.0  Краснодар   \n",
       "4     1000    9.0     15.0           57.0         466.0  Краснодар   \n",
       "\n",
       "   total_cost tariff_name  \n",
       "0      1950.0       ultra  \n",
       "1      1950.0       ultra  \n",
       "2      1950.0       ultra  \n",
       "3      1950.0       ultra  \n",
       "4      1950.0       ultra  "
      ]
     },
     "execution_count": 22,
     "metadata": {},
     "output_type": "execute_result"
    }
   ],
   "source": [
    "data = data.loc[:, ['user_id', 'month', 'gb_used', 'messages_used', 'minutes_used', 'city', 'total_cost', 'tariff_name']]\n",
    "data.head()"
   ]
  },
  {
   "cell_type": "markdown",
   "metadata": {},
   "source": [
    "### Вывод\n",
    "\n",
    "С помощью построения сводных таблиц по пользователям и месяцам получилась одна общая таблица с информацией о затратах каждого пользователя за каждый месяц пользования услуг сотовым оператором. Таблица включает информацию и о тарифе и о использованных минутах, сообщениях и гигабайтах. \n",
    "\n",
    "Такой формат таблицы будет удобен для дальнейшего анализа и построения графиков."
   ]
  },
  {
   "cell_type": "markdown",
   "metadata": {},
   "source": [
    "## Анализ данных и описание данных"
   ]
  },
  {
   "cell_type": "markdown",
   "metadata": {},
   "source": [
    "Посмотрим, сколько минут тратят пользователи разных тарифов в месяц. "
   ]
  },
  {
   "cell_type": "code",
   "execution_count": 23,
   "metadata": {},
   "outputs": [
    {
     "data": {
      "text/html": [
       "<div>\n",
       "<style scoped>\n",
       "    .dataframe tbody tr th:only-of-type {\n",
       "        vertical-align: middle;\n",
       "    }\n",
       "\n",
       "    .dataframe tbody tr th {\n",
       "        vertical-align: top;\n",
       "    }\n",
       "\n",
       "    .dataframe thead tr th {\n",
       "        text-align: left;\n",
       "    }\n",
       "\n",
       "    .dataframe thead tr:last-of-type th {\n",
       "        text-align: right;\n",
       "    }\n",
       "</style>\n",
       "<table border=\"1\" class=\"dataframe\">\n",
       "  <thead>\n",
       "    <tr>\n",
       "      <th></th>\n",
       "      <th colspan=\"3\" halign=\"left\">mean</th>\n",
       "      <th colspan=\"3\" halign=\"left\">median</th>\n",
       "      <th colspan=\"3\" halign=\"left\">var</th>\n",
       "      <th colspan=\"3\" halign=\"left\">std</th>\n",
       "    </tr>\n",
       "    <tr>\n",
       "      <th></th>\n",
       "      <th>gb_used</th>\n",
       "      <th>messages_used</th>\n",
       "      <th>minutes_used</th>\n",
       "      <th>gb_used</th>\n",
       "      <th>messages_used</th>\n",
       "      <th>minutes_used</th>\n",
       "      <th>gb_used</th>\n",
       "      <th>messages_used</th>\n",
       "      <th>minutes_used</th>\n",
       "      <th>gb_used</th>\n",
       "      <th>messages_used</th>\n",
       "      <th>minutes_used</th>\n",
       "    </tr>\n",
       "    <tr>\n",
       "      <th>tariff_name</th>\n",
       "      <th></th>\n",
       "      <th></th>\n",
       "      <th></th>\n",
       "      <th></th>\n",
       "      <th></th>\n",
       "      <th></th>\n",
       "      <th></th>\n",
       "      <th></th>\n",
       "      <th></th>\n",
       "      <th></th>\n",
       "      <th></th>\n",
       "      <th></th>\n",
       "    </tr>\n",
       "  </thead>\n",
       "  <tbody>\n",
       "    <tr>\n",
       "      <td>smart</td>\n",
       "      <td>16.336176</td>\n",
       "      <td>38.716441</td>\n",
       "      <td>419.062978</td>\n",
       "      <td>17.0</td>\n",
       "      <td>34.0</td>\n",
       "      <td>423.0</td>\n",
       "      <td>32.923756</td>\n",
       "      <td>717.594201</td>\n",
       "      <td>35844.189551</td>\n",
       "      <td>5.737923</td>\n",
       "      <td>26.787949</td>\n",
       "      <td>189.325618</td>\n",
       "    </tr>\n",
       "    <tr>\n",
       "      <td>ultra</td>\n",
       "      <td>19.694359</td>\n",
       "      <td>61.161006</td>\n",
       "      <td>545.451104</td>\n",
       "      <td>19.0</td>\n",
       "      <td>51.0</td>\n",
       "      <td>528.0</td>\n",
       "      <td>94.146734</td>\n",
       "      <td>2109.659183</td>\n",
       "      <td>94203.418396</td>\n",
       "      <td>9.702924</td>\n",
       "      <td>45.931026</td>\n",
       "      <td>306.925754</td>\n",
       "    </tr>\n",
       "  </tbody>\n",
       "</table>\n",
       "</div>"
      ],
      "text/plain": [
       "                  mean                             median                \\\n",
       "               gb_used messages_used minutes_used gb_used messages_used   \n",
       "tariff_name                                                               \n",
       "smart        16.336176     38.716441   419.062978    17.0          34.0   \n",
       "ultra        19.694359     61.161006   545.451104    19.0          51.0   \n",
       "\n",
       "                                var                                   std  \\\n",
       "            minutes_used    gb_used messages_used  minutes_used   gb_used   \n",
       "tariff_name                                                                 \n",
       "smart              423.0  32.923756    717.594201  35844.189551  5.737923   \n",
       "ultra              528.0  94.146734   2109.659183  94203.418396  9.702924   \n",
       "\n",
       "                                        \n",
       "            messages_used minutes_used  \n",
       "tariff_name                             \n",
       "smart           26.787949   189.325618  \n",
       "ultra           45.931026   306.925754  "
      ]
     },
     "execution_count": 23,
     "metadata": {},
     "output_type": "execute_result"
    }
   ],
   "source": [
    "# строим сводную таблицу по тарифам, считаем среднее, дисперсию и стандартное отклонение\n",
    "data_pivot_tariffs = data.pivot_table(index=['tariff_name'], \n",
    "                                      values=['minutes_used', 'gb_used', 'messages_used'], \n",
    "                                      aggfunc=['mean', 'median', 'var', 'std'])\n",
    "data_pivot_tariffs"
   ]
  },
  {
   "cell_type": "code",
   "execution_count": 40,
   "metadata": {},
   "outputs": [
    {
     "data": {
      "text/html": [
       "<div>\n",
       "<style scoped>\n",
       "    .dataframe tbody tr th:only-of-type {\n",
       "        vertical-align: middle;\n",
       "    }\n",
       "\n",
       "    .dataframe tbody tr th {\n",
       "        vertical-align: top;\n",
       "    }\n",
       "\n",
       "    .dataframe thead th {\n",
       "        text-align: right;\n",
       "    }\n",
       "</style>\n",
       "<table border=\"1\" class=\"dataframe\">\n",
       "  <thead>\n",
       "    <tr style=\"text-align: right;\">\n",
       "      <th></th>\n",
       "      <th>tariff_name</th>\n",
       "      <th>smart</th>\n",
       "      <th>ultra</th>\n",
       "    </tr>\n",
       "  </thead>\n",
       "  <tbody>\n",
       "    <tr>\n",
       "      <td rowspan=\"3\" valign=\"top\">mean</td>\n",
       "      <td>gb_used</td>\n",
       "      <td>16.336176</td>\n",
       "      <td>19.694359</td>\n",
       "    </tr>\n",
       "    <tr>\n",
       "      <td>messages_used</td>\n",
       "      <td>38.716441</td>\n",
       "      <td>61.161006</td>\n",
       "    </tr>\n",
       "    <tr>\n",
       "      <td>minutes_used</td>\n",
       "      <td>419.062978</td>\n",
       "      <td>545.451104</td>\n",
       "    </tr>\n",
       "    <tr>\n",
       "      <td rowspan=\"3\" valign=\"top\">median</td>\n",
       "      <td>gb_used</td>\n",
       "      <td>17.000000</td>\n",
       "      <td>19.000000</td>\n",
       "    </tr>\n",
       "    <tr>\n",
       "      <td>messages_used</td>\n",
       "      <td>34.000000</td>\n",
       "      <td>51.000000</td>\n",
       "    </tr>\n",
       "    <tr>\n",
       "      <td>minutes_used</td>\n",
       "      <td>423.000000</td>\n",
       "      <td>528.000000</td>\n",
       "    </tr>\n",
       "    <tr>\n",
       "      <td rowspan=\"3\" valign=\"top\">var</td>\n",
       "      <td>gb_used</td>\n",
       "      <td>32.923756</td>\n",
       "      <td>94.146734</td>\n",
       "    </tr>\n",
       "    <tr>\n",
       "      <td>messages_used</td>\n",
       "      <td>717.594201</td>\n",
       "      <td>2109.659183</td>\n",
       "    </tr>\n",
       "    <tr>\n",
       "      <td>minutes_used</td>\n",
       "      <td>35844.189551</td>\n",
       "      <td>94203.418396</td>\n",
       "    </tr>\n",
       "    <tr>\n",
       "      <td rowspan=\"3\" valign=\"top\">std</td>\n",
       "      <td>gb_used</td>\n",
       "      <td>5.737923</td>\n",
       "      <td>9.702924</td>\n",
       "    </tr>\n",
       "    <tr>\n",
       "      <td>messages_used</td>\n",
       "      <td>26.787949</td>\n",
       "      <td>45.931026</td>\n",
       "    </tr>\n",
       "    <tr>\n",
       "      <td>minutes_used</td>\n",
       "      <td>189.325618</td>\n",
       "      <td>306.925754</td>\n",
       "    </tr>\n",
       "  </tbody>\n",
       "</table>\n",
       "</div>"
      ],
      "text/plain": [
       "tariff_name                  smart         ultra\n",
       "mean   gb_used           16.336176     19.694359\n",
       "       messages_used     38.716441     61.161006\n",
       "       minutes_used     419.062978    545.451104\n",
       "median gb_used           17.000000     19.000000\n",
       "       messages_used     34.000000     51.000000\n",
       "       minutes_used     423.000000    528.000000\n",
       "var    gb_used           32.923756     94.146734\n",
       "       messages_used    717.594201   2109.659183\n",
       "       minutes_used   35844.189551  94203.418396\n",
       "std    gb_used            5.737923      9.702924\n",
       "       messages_used     26.787949     45.931026\n",
       "       minutes_used     189.325618    306.925754"
      ]
     },
     "execution_count": 40,
     "metadata": {},
     "output_type": "execute_result"
    }
   ],
   "source": [
    "data_pivot_tariffs.T"
   ]
  },
  {
   "cell_type": "markdown",
   "metadata": {},
   "source": [
    "По значениям средних и медианных значений можно сказать, что гистограмма используемых гигабайтов и минут тарифа \"смарт\" будут иметь почти нормальное распределение с небольшой отрицательной скошенностью, остальные графики будут иметь положительную скошенность. "
   ]
  },
  {
   "cell_type": "code",
   "execution_count": 24,
   "metadata": {},
   "outputs": [
    {
     "data": {
      "image/png": "[encoded data removed]",
      "text/plain": [
       "<Figure size 720x720 with 4 Axes>"
      ]
     },
     "metadata": {
      "needs_background": "light"
     },
     "output_type": "display_data"
    }
   ],
   "source": [
    "# построим гистограммы для тарифа \"ультра\"\n",
    "data[['gb_used', 'messages_used', 'minutes_used', 'tariff_name']].query('tariff_name == \\'smart\\'').hist(figsize=(10,10))\n",
    "plt.show()"
   ]
  },
  {
   "cell_type": "code",
   "execution_count": 25,
   "metadata": {
    "scrolled": false
   },
   "outputs": [
    {
     "data": {
      "image/png": "[encoded data removed]",
      "text/plain": [
       "<Figure size 720x720 with 4 Axes>"
      ]
     },
     "metadata": {
      "needs_background": "light"
     },
     "output_type": "display_data"
    }
   ],
   "source": [
    "# построим гистограммы для тарифа \"ультра\"\n",
    "data[['gb_used', 'messages_used', 'minutes_used', 'tariff_name']].query('tariff_name == \\'ultra\\'').hist(figsize=(10,10))\n",
    "plt.show()"
   ]
  },
  {
   "cell_type": "markdown",
   "metadata": {},
   "source": [
    "Все параметры имеют нормальное распределение, за исключением распределения сообщений пользователей. Большинство людей пишут очень мало смс, это можно видеть на графике. Это явление можно объяснить большой популярностью месседжеров. Об этом свидетельствуют и больше объёмы интернет трафика, которые предоставляют клиентам. \n",
    "\n",
    "Посмотри на средние значения котроые получились для кажого тарифа: "
   ]
  },
  {
   "cell_type": "code",
   "execution_count": 26,
   "metadata": {
    "scrolled": true
   },
   "outputs": [
    {
     "data": {
      "text/html": [
       "<div>\n",
       "<style scoped>\n",
       "    .dataframe tbody tr th:only-of-type {\n",
       "        vertical-align: middle;\n",
       "    }\n",
       "\n",
       "    .dataframe tbody tr th {\n",
       "        vertical-align: top;\n",
       "    }\n",
       "\n",
       "    .dataframe thead th {\n",
       "        text-align: right;\n",
       "    }\n",
       "</style>\n",
       "<table border=\"1\" class=\"dataframe\">\n",
       "  <thead>\n",
       "    <tr style=\"text-align: right;\">\n",
       "      <th></th>\n",
       "      <th>gb_used</th>\n",
       "      <th>messages_used</th>\n",
       "      <th>minutes_used</th>\n",
       "    </tr>\n",
       "    <tr>\n",
       "      <th>tariff_name</th>\n",
       "      <th></th>\n",
       "      <th></th>\n",
       "      <th></th>\n",
       "    </tr>\n",
       "  </thead>\n",
       "  <tbody>\n",
       "    <tr>\n",
       "      <td>smart</td>\n",
       "      <td>16.336176</td>\n",
       "      <td>38.716441</td>\n",
       "      <td>419.062978</td>\n",
       "    </tr>\n",
       "    <tr>\n",
       "      <td>ultra</td>\n",
       "      <td>19.694359</td>\n",
       "      <td>61.161006</td>\n",
       "      <td>545.451104</td>\n",
       "    </tr>\n",
       "  </tbody>\n",
       "</table>\n",
       "</div>"
      ],
      "text/plain": [
       "               gb_used  messages_used  minutes_used\n",
       "tariff_name                                        \n",
       "smart        16.336176      38.716441    419.062978\n",
       "ultra        19.694359      61.161006    545.451104"
      ]
     },
     "metadata": {},
     "output_type": "display_data"
    },
    {
     "data": {
      "text/html": [
       "<div>\n",
       "<style scoped>\n",
       "    .dataframe tbody tr th:only-of-type {\n",
       "        vertical-align: middle;\n",
       "    }\n",
       "\n",
       "    .dataframe tbody tr th {\n",
       "        vertical-align: top;\n",
       "    }\n",
       "\n",
       "    .dataframe thead th {\n",
       "        text-align: right;\n",
       "    }\n",
       "</style>\n",
       "<table border=\"1\" class=\"dataframe\">\n",
       "  <thead>\n",
       "    <tr style=\"text-align: right;\">\n",
       "      <th></th>\n",
       "      <th>tariff_name</th>\n",
       "      <th>mb_per_month_included</th>\n",
       "      <th>messages_included</th>\n",
       "      <th>minutes_included</th>\n",
       "    </tr>\n",
       "  </thead>\n",
       "  <tbody>\n",
       "    <tr>\n",
       "      <td>0</td>\n",
       "      <td>smart</td>\n",
       "      <td>15360</td>\n",
       "      <td>50</td>\n",
       "      <td>500</td>\n",
       "    </tr>\n",
       "    <tr>\n",
       "      <td>1</td>\n",
       "      <td>ultra</td>\n",
       "      <td>30720</td>\n",
       "      <td>1000</td>\n",
       "      <td>3000</td>\n",
       "    </tr>\n",
       "  </tbody>\n",
       "</table>\n",
       "</div>"
      ],
      "text/plain": [
       "  tariff_name  mb_per_month_included  messages_included  minutes_included\n",
       "0       smart                  15360                 50               500\n",
       "1       ultra                  30720               1000              3000"
      ]
     },
     "metadata": {},
     "output_type": "display_data"
    }
   ],
   "source": [
    "display(data_pivot_tariffs['mean'])\n",
    "display(tariffs[['tariff_name', 'mb_per_month_included', 'messages_included', 'minutes_included']])"
   ]
  },
  {
   "cell_type": "markdown",
   "metadata": {},
   "source": [
    "По этим таблицам можно увидеть, что в среднем пользователи тарифов укладываются в предоставленный лимит. Исключение составляет только использование интернет-трафика: в среднем клиенты переплачивают за два гигабайта. \n",
    "\n",
    "Так же мы можем увидеть, что среднее количество затраченных минут, смс и гигабайтов в обоих тарифах отличается не более, чем в два раза, тогда как лимиты в тарифе \"ультра\" больше в несколько раз лимитов тарифов \"смарт\". И это правильно, посколько среднее отклонение от этих средних величин в тарифе \"ультра\" намного больше. То есть разброс значений от среднего больше намного, чем в тарифе \"смарт\". "
   ]
  },
  {
   "cell_type": "markdown",
   "metadata": {},
   "source": [
    "## Проверка гипотез "
   ]
  },
  {
   "cell_type": "markdown",
   "metadata": {},
   "source": [
    "Проверим гипотезу о том, что выручка пользователей тарифов \"смарт\" и \"ультра\" различаются."
   ]
  },
  {
   "cell_type": "markdown",
   "metadata": {},
   "source": [
    "### Гипотеза о различии выручки с разных тарифов\n",
    "\n",
    "Сформулируем нулевую и альтернативную гипотезы: \n",
    "\n",
    "**H0:** \"Средняя выручка пользователей тарифов \"смарт\" и \"ультра\" равны.\"\n",
    "\n",
    "**H1:** \"Средняя выручка пользователей тарифов \"смарт\" и \"ультра\" различаются.\""
   ]
  },
  {
   "cell_type": "code",
   "execution_count": 27,
   "metadata": {},
   "outputs": [
    {
     "data": {
      "text/plain": [
       "1.927011394420941e-250"
      ]
     },
     "execution_count": 27,
     "metadata": {},
     "output_type": "execute_result"
    }
   ],
   "source": [
    "# проведём t-тест для сравнения средних двух выборок\n",
    "alpha = .05\n",
    "result = st.ttest_ind(data.query('tariff_name == \\'smart\\'')['total_cost'],\n",
    "                      data.query('tariff_name == \\'ultra\\'')['total_cost'],\n",
    "                      equal_var=False)\n",
    "result.pvalue"
   ]
  },
  {
   "cell_type": "code",
   "execution_count": 28,
   "metadata": {},
   "outputs": [
    {
     "name": "stdout",
     "output_type": "stream",
     "text": [
      "Отвергаем нулевую гипотезу\n"
     ]
    }
   ],
   "source": [
    "# сравним с установленным пороговым значением\n",
    "if result.pvalue < alpha:\n",
    "    print(\"Отвергаем нулевую гипотезу\")\n",
    "else:\n",
    "    print(\"Не получилось отвергнуть нулевую гипотезу\") "
   ]
  },
  {
   "cell_type": "code",
   "execution_count": 29,
   "metadata": {},
   "outputs": [
    {
     "name": "stdout",
     "output_type": "stream",
     "text": [
      "Средняя выручка с тарифа \"смарт\": 1289.6417040358745 \n",
      "Средняя выручка с тарифа \"ультра\": 2070.030425963489\n"
     ]
    }
   ],
   "source": [
    "print('Средняя выручка с тарифа \"смарт\":', data.query('tariff_name == \\'smart\\'')['total_cost'].mean(),\n",
    "     '\\nСредняя выручка с тарифа \"ультра\":', data.query('tariff_name == \\'ultra\\'')['total_cost'].mean())"
   ]
  },
  {
   "cell_type": "markdown",
   "metadata": {},
   "source": [
    "По результатам проверки мы отвергаем нулевую гипотезу. Значение pvalue очень близко к нулю, поэтому даже если бы было установлено другое пороговое значение, гипотеза всё равно была бы отвергнута. Это значит, что с большей вероятностью средняя выручка с разных тарифов и правда отличается. \n",
    "\n",
    "Если посчитать среднюю выручку по по этим тарифам по всей выборке, то мы видим, что с тарифа \"ультра\" она больше. "
   ]
  },
  {
   "cell_type": "markdown",
   "metadata": {},
   "source": [
    "### Гипотеза о различии выручки с разных регионов\n",
    "\n",
    "Проверим, отличается ли средняя выручка пользователей из Москвы от выручки пользователей из других регионов. \n",
    "\n",
    "Сформулируем нулевую и альтернативную гипотезы: \n",
    "\n",
    "**H0:** \"Средняя выручка пользователей из Москвы и других регионов равны.\"\n",
    "\n",
    "**H1:** \"Средняя выручка пользователей из Москвы и других регионов различаются.\""
   ]
  },
  {
   "cell_type": "code",
   "execution_count": 30,
   "metadata": {},
   "outputs": [
    {
     "data": {
      "text/plain": [
       "0.5216952110000278"
      ]
     },
     "execution_count": 30,
     "metadata": {},
     "output_type": "execute_result"
    }
   ],
   "source": [
    "# проведём t-тест для сравнения средних двух выборок\n",
    "alpha = .05\n",
    "result = st.ttest_ind(data.query('city == \\'Москва\\'')['total_cost'],\n",
    "                      data.query('city != \\'Москва\\'')['total_cost'],\n",
    "                      equal_var=False)\n",
    "result.pvalue"
   ]
  },
  {
   "cell_type": "code",
   "execution_count": 31,
   "metadata": {},
   "outputs": [
    {
     "name": "stdout",
     "output_type": "stream",
     "text": [
      "Не получилось отвергнуть нулевую гипотезу\n"
     ]
    }
   ],
   "source": [
    "# сравним с установленным пороговым значением\n",
    "if result.pvalue < alpha:\n",
    "    print(\"Отвергаем нулевую гипотезу\")\n",
    "else:\n",
    "    print(\"Не получилось отвергнуть нулевую гипотезу\") "
   ]
  },
  {
   "cell_type": "markdown",
   "metadata": {},
   "source": [
    "Результат t-теста показывает, что мы не можем отвергнуть нулевую гипотезу. Значение pvalue оказалось достаточно большим. Это значит, что вероятнее всего средняя выручка пользователей из Москвы и из других регионов не отличается."
   ]
  },
  {
   "cell_type": "markdown",
   "metadata": {},
   "source": [
    "## Общий вывод\n",
    "\n"
   ]
  },
  {
   "cell_type": "markdown",
   "metadata": {},
   "source": [
    "Данные, представленные в пяти таблицах, нуждались в минимальной предобработке: требовалось только перевести даты в необходимый формат. Также для удобства были подсчитаны использованные минусы, смс и гигабайты каждого пользователя по месяцам. На основе этих данных подсчитывались расходы. Таким образом получилась одна основная сводная таблица, полученная путём объединения. \n",
    "\n",
    "В ходе исследования выяснилось, что в среднем пользователи тарифов укладываются в предоставленный лимит. Исключение составляет только использование интернет-трафика пользователями тарифа ультра. Основная переплата скорее всего бывает за дополнительные гигабайты. \n",
    "\n",
    "В ходе анализа были выдвинуты следующие гипотезы: \n",
    "* \"Средняя выручка пользователей из Москвы и других регионов равны.\" - **гипотезу опровергли**\n",
    "\n",
    "Средние значения выручки получились следующие: \n",
    "Средняя выручка с тарифа \"смарт\": 1289.64\n",
    "Средняя выручка с тарифа \"ультра\": 2070.03\n",
    "Можно сделать о том, что в основном тариф \"ультра\" приносит компании больше прибыли за месяц. То есть тариф \"ультра\" является для компании более выгодным.\n",
    "\n",
    "* \"Средняя выручка пользователей из Москвы и других регионов равны.\" - **гипотеза не опровергнута** \n",
    "\n",
    "То есть в большинстве случаев средняя выручка одинакова в регионах и в Москве. Значит компании не стоит делать акцент территорию проживания пользователей, потому что разницы нет. "
   ]
  }
 ],
 "metadata": {
  "ExecuteTimeLog": [
   {
    "duration": 126,
    "start_time": "2022-01-18T12:13:33.671Z"
   },
   {
    "duration": 725,
    "start_time": "2022-01-18T13:40:27.670Z"
   },
   {
    "duration": 145,
    "start_time": "2022-01-18T13:40:47.725Z"
   },
   {
    "duration": 141,
    "start_time": "2022-01-18T13:41:15.271Z"
   },
   {
    "duration": 222,
    "start_time": "2022-01-18T13:42:31.177Z"
   },
   {
    "duration": 156,
    "start_time": "2022-01-18T13:46:27.998Z"
   },
   {
    "duration": 132,
    "start_time": "2022-01-18T13:49:10.652Z"
   },
   {
    "duration": 90,
    "start_time": "2022-01-18T13:51:19.830Z"
   },
   {
    "duration": 131,
    "start_time": "2022-01-18T13:51:26.567Z"
   },
   {
    "duration": 132,
    "start_time": "2022-01-18T13:53:43.566Z"
   },
   {
    "duration": 131,
    "start_time": "2022-01-18T13:54:32.484Z"
   },
   {
    "duration": 539,
    "start_time": "2022-01-18T19:07:43.442Z"
   },
   {
    "duration": 32,
    "start_time": "2022-01-18T19:12:09.165Z"
   },
   {
    "duration": 148,
    "start_time": "2022-01-18T19:15:36.161Z"
   },
   {
    "duration": 126,
    "start_time": "2022-01-18T19:15:39.149Z"
   },
   {
    "duration": 90,
    "start_time": "2022-01-18T19:17:59.005Z"
   },
   {
    "duration": 21,
    "start_time": "2022-01-18T19:20:14.017Z"
   },
   {
    "duration": 264,
    "start_time": "2022-01-18T19:23:31.906Z"
   },
   {
    "duration": 7,
    "start_time": "2022-01-18T19:23:58.051Z"
   },
   {
    "duration": 6,
    "start_time": "2022-01-18T19:24:44.290Z"
   },
   {
    "duration": 6,
    "start_time": "2022-01-18T19:25:03.783Z"
   },
   {
    "duration": 6,
    "start_time": "2022-01-18T19:25:11.571Z"
   },
   {
    "duration": 6,
    "start_time": "2022-01-18T19:25:21.124Z"
   },
   {
    "duration": 2,
    "start_time": "2022-01-18T19:37:28.566Z"
   },
   {
    "duration": 216,
    "start_time": "2022-01-18T20:00:31.305Z"
   },
   {
    "duration": 186,
    "start_time": "2022-01-18T20:01:09.207Z"
   },
   {
    "duration": 49,
    "start_time": "2022-01-18T20:01:32.784Z"
   },
   {
    "duration": 51,
    "start_time": "2022-01-18T20:01:40.671Z"
   },
   {
    "duration": 11,
    "start_time": "2022-01-18T20:01:48.128Z"
   },
   {
    "duration": 19,
    "start_time": "2022-01-18T20:01:53.113Z"
   },
   {
    "duration": 51,
    "start_time": "2022-01-18T20:02:09.096Z"
   },
   {
    "duration": 18,
    "start_time": "2022-01-18T20:02:10.762Z"
   },
   {
    "duration": 14,
    "start_time": "2022-01-18T20:02:16.482Z"
   },
   {
    "duration": 28,
    "start_time": "2022-01-18T20:02:48.665Z"
   },
   {
    "duration": 256,
    "start_time": "2022-01-18T20:02:53.148Z"
   },
   {
    "duration": 14,
    "start_time": "2022-01-18T20:02:56.475Z"
   },
   {
    "duration": 42,
    "start_time": "2022-01-18T20:06:44.582Z"
   },
   {
    "duration": 14,
    "start_time": "2022-01-18T20:06:45.037Z"
   },
   {
    "duration": 611,
    "start_time": "2022-01-18T20:06:51.233Z"
   },
   {
    "duration": 12,
    "start_time": "2022-01-18T20:06:56.853Z"
   },
   {
    "duration": 202,
    "start_time": "2022-01-18T20:17:01.899Z"
   },
   {
    "duration": 2,
    "start_time": "2022-01-18T20:19:23.890Z"
   },
   {
    "duration": 5,
    "start_time": "2022-01-18T20:20:43.229Z"
   },
   {
    "duration": 194,
    "start_time": "2022-01-18T20:32:31.833Z"
   },
   {
    "duration": 16,
    "start_time": "2022-01-18T20:32:46.615Z"
   },
   {
    "duration": 203,
    "start_time": "2022-01-18T20:33:58.408Z"
   },
   {
    "duration": 4826,
    "start_time": "2022-01-18T20:34:02.499Z"
   },
   {
    "duration": 4781,
    "start_time": "2022-01-18T20:36:07.325Z"
   },
   {
    "duration": 20,
    "start_time": "2022-01-18T20:37:19.404Z"
   },
   {
    "duration": 30,
    "start_time": "2022-01-18T20:37:33.070Z"
   },
   {
    "duration": 20,
    "start_time": "2022-01-18T20:38:59.558Z"
   },
   {
    "duration": 62,
    "start_time": "2022-01-18T20:39:58.750Z"
   },
   {
    "duration": 72,
    "start_time": "2022-01-18T20:40:03.652Z"
   },
   {
    "duration": 5,
    "start_time": "2022-01-18T20:41:52.992Z"
   },
   {
    "duration": 85,
    "start_time": "2022-01-18T20:41:55.767Z"
   },
   {
    "duration": 57,
    "start_time": "2022-01-18T20:45:10.291Z"
   },
   {
    "duration": 58,
    "start_time": "2022-01-18T20:45:32.631Z"
   },
   {
    "duration": 65,
    "start_time": "2022-01-18T20:45:48.171Z"
   },
   {
    "duration": 56,
    "start_time": "2022-01-18T20:47:04.267Z"
   },
   {
    "duration": 55,
    "start_time": "2022-01-18T20:47:24.826Z"
   },
   {
    "duration": 242,
    "start_time": "2022-01-18T20:47:38.405Z"
   },
   {
    "duration": 221,
    "start_time": "2022-01-18T20:47:45.867Z"
   },
   {
    "duration": 60,
    "start_time": "2022-01-18T20:47:56.407Z"
   },
   {
    "duration": 53,
    "start_time": "2022-01-18T20:48:06.279Z"
   },
   {
    "duration": 56,
    "start_time": "2022-01-18T20:48:14.344Z"
   },
   {
    "duration": 55,
    "start_time": "2022-01-18T20:48:36.259Z"
   },
   {
    "duration": 59,
    "start_time": "2022-01-18T20:48:42.266Z"
   },
   {
    "duration": 199,
    "start_time": "2022-01-18T20:51:09.089Z"
   },
   {
    "duration": 230,
    "start_time": "2022-01-18T20:51:20.295Z"
   },
   {
    "duration": 234,
    "start_time": "2022-01-18T20:52:31.086Z"
   },
   {
    "duration": 219,
    "start_time": "2022-01-18T20:52:43.690Z"
   },
   {
    "duration": 210,
    "start_time": "2022-01-18T20:53:23.126Z"
   },
   {
    "duration": 4588,
    "start_time": "2022-01-18T20:53:42.373Z"
   },
   {
    "duration": 36,
    "start_time": "2022-01-18T20:54:04.932Z"
   },
   {
    "duration": 27,
    "start_time": "2022-01-18T20:54:12.262Z"
   },
   {
    "duration": 37,
    "start_time": "2022-01-18T20:54:33.949Z"
   },
   {
    "duration": 26,
    "start_time": "2022-01-18T20:54:52.773Z"
   },
   {
    "duration": 39,
    "start_time": "2022-01-18T20:54:58.934Z"
   },
   {
    "duration": 66,
    "start_time": "2022-01-18T20:55:16.224Z"
   },
   {
    "duration": 25,
    "start_time": "2022-01-18T20:55:20.626Z"
   },
   {
    "duration": 37,
    "start_time": "2022-01-18T20:55:27.891Z"
   },
   {
    "duration": 41,
    "start_time": "2022-01-18T20:56:55.624Z"
   },
   {
    "duration": 38,
    "start_time": "2022-01-18T20:58:09.081Z"
   },
   {
    "duration": 220,
    "start_time": "2022-01-18T20:58:46.348Z"
   },
   {
    "duration": 233,
    "start_time": "2022-01-18T20:58:51.051Z"
   },
   {
    "duration": 228,
    "start_time": "2022-01-18T20:59:02.118Z"
   },
   {
    "duration": 29,
    "start_time": "2022-01-18T20:59:21.340Z"
   },
   {
    "duration": 39,
    "start_time": "2022-01-18T20:59:29.282Z"
   },
   {
    "duration": 26,
    "start_time": "2022-01-18T21:02:18.585Z"
   },
   {
    "duration": 38,
    "start_time": "2022-01-18T21:02:33.684Z"
   },
   {
    "duration": 38,
    "start_time": "2022-01-18T21:03:32.068Z"
   },
   {
    "duration": 37,
    "start_time": "2022-01-18T21:05:02.014Z"
   },
   {
    "duration": 37,
    "start_time": "2022-01-18T21:05:06.350Z"
   },
   {
    "duration": 14,
    "start_time": "2022-01-18T21:07:26.572Z"
   },
   {
    "duration": 36,
    "start_time": "2022-01-18T21:08:35.528Z"
   },
   {
    "duration": 16,
    "start_time": "2022-01-18T21:15:25.489Z"
   },
   {
    "duration": 32,
    "start_time": "2022-01-18T21:16:15.521Z"
   },
   {
    "duration": 2,
    "start_time": "2022-01-18T21:18:04.991Z"
   },
   {
    "duration": 3,
    "start_time": "2022-01-18T21:19:47.115Z"
   },
   {
    "duration": 4894,
    "start_time": "2022-01-18T21:23:41.011Z"
   },
   {
    "duration": 4846,
    "start_time": "2022-01-18T21:24:13.040Z"
   },
   {
    "duration": 4,
    "start_time": "2022-01-18T21:24:26.825Z"
   },
   {
    "duration": 977,
    "start_time": "2022-01-18T21:24:51.587Z"
   },
   {
    "duration": 1117,
    "start_time": "2022-01-18T21:25:41.201Z"
   },
   {
    "duration": 3,
    "start_time": "2022-01-18T21:29:18.405Z"
   },
   {
    "duration": 13,
    "start_time": "2022-01-18T21:29:19.220Z"
   },
   {
    "duration": 26,
    "start_time": "2022-01-18T21:29:31.902Z"
   },
   {
    "duration": 29,
    "start_time": "2022-01-18T21:29:54.742Z"
   },
   {
    "duration": 3,
    "start_time": "2022-01-18T21:29:58.189Z"
   },
   {
    "duration": 25,
    "start_time": "2022-01-18T21:29:58.776Z"
   },
   {
    "duration": 16,
    "start_time": "2022-01-18T21:30:57.063Z"
   },
   {
    "duration": 15,
    "start_time": "2022-01-18T21:31:00.773Z"
   },
   {
    "duration": 28,
    "start_time": "2022-01-18T21:31:10.300Z"
   },
   {
    "duration": 27,
    "start_time": "2022-01-18T21:31:16.269Z"
   },
   {
    "duration": 16,
    "start_time": "2022-01-18T21:31:19.763Z"
   },
   {
    "duration": 70,
    "start_time": "2022-01-18T21:31:53.553Z"
   },
   {
    "duration": 24,
    "start_time": "2022-01-18T21:32:31.965Z"
   },
   {
    "duration": 25,
    "start_time": "2022-01-18T21:32:47.070Z"
   },
   {
    "duration": 32,
    "start_time": "2022-01-18T21:32:56.440Z"
   },
   {
    "duration": 2,
    "start_time": "2022-01-18T21:32:57.908Z"
   },
   {
    "duration": 28,
    "start_time": "2022-01-18T21:33:00.094Z"
   },
   {
    "duration": 22,
    "start_time": "2022-01-18T21:33:24.671Z"
   },
   {
    "duration": 28,
    "start_time": "2022-01-18T21:33:50.871Z"
   },
   {
    "duration": 3,
    "start_time": "2022-01-18T21:33:51.229Z"
   },
   {
    "duration": 24,
    "start_time": "2022-01-18T21:33:51.557Z"
   },
   {
    "duration": 511,
    "start_time": "2022-01-22T08:43:03.850Z"
   },
   {
    "duration": 168,
    "start_time": "2022-01-22T08:43:04.363Z"
   },
   {
    "duration": 145,
    "start_time": "2022-01-22T08:43:04.533Z"
   },
   {
    "duration": 107,
    "start_time": "2022-01-22T08:43:04.680Z"
   },
   {
    "duration": 25,
    "start_time": "2022-01-22T08:43:04.788Z"
   },
   {
    "duration": 32,
    "start_time": "2022-01-22T08:43:04.814Z"
   },
   {
    "duration": 70,
    "start_time": "2022-01-22T08:43:04.847Z"
   },
   {
    "duration": 4,
    "start_time": "2022-01-22T08:43:04.919Z"
   },
   {
    "duration": 23,
    "start_time": "2022-01-22T08:43:04.926Z"
   },
   {
    "duration": 43,
    "start_time": "2022-01-22T08:43:04.950Z"
   },
   {
    "duration": 58,
    "start_time": "2022-01-22T08:43:04.995Z"
   },
   {
    "duration": 16,
    "start_time": "2022-01-22T08:43:05.054Z"
   },
   {
    "duration": 61,
    "start_time": "2022-01-22T08:43:05.071Z"
   },
   {
    "duration": 17,
    "start_time": "2022-01-22T08:43:05.133Z"
   },
   {
    "duration": 34,
    "start_time": "2022-01-22T08:43:05.151Z"
   },
   {
    "duration": 2,
    "start_time": "2022-01-22T08:43:05.186Z"
   },
   {
    "duration": 42,
    "start_time": "2022-01-22T08:43:05.190Z"
   },
   {
    "duration": 3701,
    "start_time": "2022-01-22T09:05:09.435Z"
   },
   {
    "duration": 195,
    "start_time": "2022-01-22T09:07:05.200Z"
   },
   {
    "duration": 4,
    "start_time": "2022-01-22T09:07:29.336Z"
   },
   {
    "duration": 4,
    "start_time": "2022-01-22T09:07:57.193Z"
   },
   {
    "duration": 191,
    "start_time": "2022-01-22T09:08:20.505Z"
   },
   {
    "duration": 29,
    "start_time": "2022-01-22T09:09:29.854Z"
   },
   {
    "duration": 3682,
    "start_time": "2022-01-22T09:09:51.008Z"
   },
   {
    "duration": 3877,
    "start_time": "2022-01-22T09:09:57.078Z"
   },
   {
    "duration": 3531,
    "start_time": "2022-01-22T09:10:48.281Z"
   },
   {
    "duration": 3810,
    "start_time": "2022-01-22T09:11:19.318Z"
   },
   {
    "duration": 3533,
    "start_time": "2022-01-22T09:11:40.287Z"
   },
   {
    "duration": 4354,
    "start_time": "2022-01-22T09:11:59.737Z"
   },
   {
    "duration": 3662,
    "start_time": "2022-01-22T09:12:09.915Z"
   },
   {
    "duration": 3,
    "start_time": "2022-01-22T09:12:24.499Z"
   },
   {
    "duration": 324,
    "start_time": "2022-01-22T16:39:56.470Z"
   },
   {
    "duration": 745,
    "start_time": "2022-01-22T16:40:04.983Z"
   },
   {
    "duration": 338,
    "start_time": "2022-01-22T16:40:05.731Z"
   },
   {
    "duration": 239,
    "start_time": "2022-01-22T16:40:06.073Z"
   },
   {
    "duration": 158,
    "start_time": "2022-01-22T16:40:06.315Z"
   },
   {
    "duration": 33,
    "start_time": "2022-01-22T16:40:06.476Z"
   },
   {
    "duration": 44,
    "start_time": "2022-01-22T16:40:06.511Z"
   },
   {
    "duration": 121,
    "start_time": "2022-01-22T16:40:06.558Z"
   },
   {
    "duration": 6,
    "start_time": "2022-01-22T16:40:06.683Z"
   },
   {
    "duration": 33,
    "start_time": "2022-01-22T16:40:06.692Z"
   },
   {
    "duration": 85,
    "start_time": "2022-01-22T16:40:06.727Z"
   },
   {
    "duration": 70,
    "start_time": "2022-01-22T16:40:06.814Z"
   },
   {
    "duration": 21,
    "start_time": "2022-01-22T16:40:06.886Z"
   },
   {
    "duration": 82,
    "start_time": "2022-01-22T16:40:06.910Z"
   },
   {
    "duration": 24,
    "start_time": "2022-01-22T16:40:06.994Z"
   },
   {
    "duration": 71,
    "start_time": "2022-01-22T16:40:07.021Z"
   },
   {
    "duration": 3,
    "start_time": "2022-01-22T16:40:07.094Z"
   },
   {
    "duration": 40,
    "start_time": "2022-01-22T16:40:07.100Z"
   },
   {
    "duration": 5452,
    "start_time": "2022-01-22T16:40:07.143Z"
   },
   {
    "duration": 279,
    "start_time": "2022-01-22T16:40:56.407Z"
   },
   {
    "duration": 48,
    "start_time": "2022-01-22T16:42:41.708Z"
   },
   {
    "duration": 52,
    "start_time": "2022-01-22T16:43:41.623Z"
   },
   {
    "duration": 59,
    "start_time": "2022-01-22T16:44:12.366Z"
   },
   {
    "duration": 59,
    "start_time": "2022-01-22T16:44:19.704Z"
   },
   {
    "duration": 67,
    "start_time": "2022-01-22T16:44:33.919Z"
   },
   {
    "duration": 68,
    "start_time": "2022-01-22T16:44:38.070Z"
   },
   {
    "duration": 769,
    "start_time": "2022-01-22T16:45:08.739Z"
   },
   {
    "duration": 264,
    "start_time": "2022-01-22T16:45:09.511Z"
   },
   {
    "duration": 224,
    "start_time": "2022-01-22T16:45:09.779Z"
   },
   {
    "duration": 149,
    "start_time": "2022-01-22T16:45:10.006Z"
   },
   {
    "duration": 37,
    "start_time": "2022-01-22T16:45:10.157Z"
   },
   {
    "duration": 44,
    "start_time": "2022-01-22T16:45:10.197Z"
   },
   {
    "duration": 118,
    "start_time": "2022-01-22T16:45:10.243Z"
   },
   {
    "duration": 8,
    "start_time": "2022-01-22T16:45:10.372Z"
   },
   {
    "duration": 38,
    "start_time": "2022-01-22T16:45:10.384Z"
   },
   {
    "duration": 147,
    "start_time": "2022-01-22T16:45:10.424Z"
   },
   {
    "duration": 61,
    "start_time": "2022-01-22T16:45:10.574Z"
   },
   {
    "duration": 43,
    "start_time": "2022-01-22T16:45:10.638Z"
   },
   {
    "duration": 60,
    "start_time": "2022-01-22T16:45:10.683Z"
   },
   {
    "duration": 42,
    "start_time": "2022-01-22T16:45:10.745Z"
   },
   {
    "duration": 51,
    "start_time": "2022-01-22T16:45:10.790Z"
   },
   {
    "duration": 28,
    "start_time": "2022-01-22T16:45:10.844Z"
   },
   {
    "duration": 52,
    "start_time": "2022-01-22T16:45:10.875Z"
   },
   {
    "duration": 67,
    "start_time": "2022-01-22T16:45:10.929Z"
   },
   {
    "duration": 34,
    "start_time": "2022-01-22T16:45:19.535Z"
   },
   {
    "duration": 5,
    "start_time": "2022-01-22T16:51:07.290Z"
   },
   {
    "duration": 16,
    "start_time": "2022-01-22T16:51:19.262Z"
   },
   {
    "duration": 12,
    "start_time": "2022-01-22T16:51:28.306Z"
   },
   {
    "duration": 31,
    "start_time": "2022-01-22T16:51:42.882Z"
   },
   {
    "duration": 380,
    "start_time": "2022-01-22T16:54:49.034Z"
   },
   {
    "duration": 26,
    "start_time": "2022-01-22T16:54:58.488Z"
   },
   {
    "duration": 272,
    "start_time": "2022-01-22T16:55:44.521Z"
   },
   {
    "duration": 29,
    "start_time": "2022-01-22T16:58:31.452Z"
   },
   {
    "duration": 27,
    "start_time": "2022-01-22T16:58:43.739Z"
   },
   {
    "duration": 282,
    "start_time": "2022-01-22T16:58:53.586Z"
   },
   {
    "duration": 445,
    "start_time": "2022-01-22T17:00:29.666Z"
   },
   {
    "duration": 10,
    "start_time": "2022-01-22T17:00:57.612Z"
   },
   {
    "duration": 33,
    "start_time": "2022-01-22T17:01:19.228Z"
   },
   {
    "duration": 35,
    "start_time": "2022-01-22T17:01:31.961Z"
   },
   {
    "duration": 11,
    "start_time": "2022-01-22T17:02:10.382Z"
   },
   {
    "duration": 33,
    "start_time": "2022-01-22T17:02:15.721Z"
   },
   {
    "duration": 38,
    "start_time": "2022-01-22T17:02:31.970Z"
   },
   {
    "duration": 12,
    "start_time": "2022-01-22T17:02:36.812Z"
   },
   {
    "duration": 49,
    "start_time": "2022-01-22T17:02:46.763Z"
   },
   {
    "duration": 31,
    "start_time": "2022-01-22T17:11:51.348Z"
   },
   {
    "duration": 42,
    "start_time": "2022-01-22T17:12:18.534Z"
   },
   {
    "duration": 830,
    "start_time": "2022-01-22T17:13:00.270Z"
   },
   {
    "duration": 270,
    "start_time": "2022-01-22T17:13:01.104Z"
   },
   {
    "duration": 215,
    "start_time": "2022-01-22T17:13:01.377Z"
   },
   {
    "duration": 148,
    "start_time": "2022-01-22T17:13:01.595Z"
   },
   {
    "duration": 40,
    "start_time": "2022-01-22T17:13:01.746Z"
   },
   {
    "duration": 68,
    "start_time": "2022-01-22T17:13:01.789Z"
   },
   {
    "duration": 103,
    "start_time": "2022-01-22T17:13:01.859Z"
   },
   {
    "duration": 6,
    "start_time": "2022-01-22T17:13:01.967Z"
   },
   {
    "duration": 39,
    "start_time": "2022-01-22T17:13:01.976Z"
   },
   {
    "duration": 72,
    "start_time": "2022-01-22T17:13:02.017Z"
   },
   {
    "duration": 60,
    "start_time": "2022-01-22T17:13:02.091Z"
   },
   {
    "duration": 23,
    "start_time": "2022-01-22T17:13:02.170Z"
   },
   {
    "duration": 85,
    "start_time": "2022-01-22T17:13:02.195Z"
   },
   {
    "duration": 25,
    "start_time": "2022-01-22T17:13:02.283Z"
   },
   {
    "duration": 75,
    "start_time": "2022-01-22T17:13:02.310Z"
   },
   {
    "duration": 4,
    "start_time": "2022-01-22T17:13:02.387Z"
   },
   {
    "duration": 40,
    "start_time": "2022-01-22T17:13:02.393Z"
   },
   {
    "duration": 40,
    "start_time": "2022-01-22T17:13:02.435Z"
   },
   {
    "duration": 27,
    "start_time": "2022-01-22T17:13:02.477Z"
   },
   {
    "duration": 71,
    "start_time": "2022-01-22T17:13:02.506Z"
   },
   {
    "duration": 105,
    "start_time": "2022-01-22T17:13:02.579Z"
   },
   {
    "duration": 45,
    "start_time": "2022-01-22T17:15:34.331Z"
   },
   {
    "duration": 948,
    "start_time": "2022-01-22T17:15:48.829Z"
   },
   {
    "duration": 248,
    "start_time": "2022-01-22T17:15:49.781Z"
   },
   {
    "duration": 214,
    "start_time": "2022-01-22T17:15:50.032Z"
   },
   {
    "duration": 144,
    "start_time": "2022-01-22T17:15:50.249Z"
   },
   {
    "duration": 31,
    "start_time": "2022-01-22T17:15:50.395Z"
   },
   {
    "duration": 59,
    "start_time": "2022-01-22T17:15:50.429Z"
   },
   {
    "duration": 119,
    "start_time": "2022-01-22T17:15:50.491Z"
   },
   {
    "duration": 6,
    "start_time": "2022-01-22T17:15:50.614Z"
   },
   {
    "duration": 48,
    "start_time": "2022-01-22T17:15:50.623Z"
   },
   {
    "duration": 59,
    "start_time": "2022-01-22T17:15:50.673Z"
   },
   {
    "duration": 86,
    "start_time": "2022-01-22T17:15:50.735Z"
   },
   {
    "duration": 44,
    "start_time": "2022-01-22T17:15:50.825Z"
   },
   {
    "duration": 86,
    "start_time": "2022-01-22T17:15:50.872Z"
   },
   {
    "duration": 29,
    "start_time": "2022-01-22T17:15:50.970Z"
   },
   {
    "duration": 97,
    "start_time": "2022-01-22T17:15:51.002Z"
   },
   {
    "duration": 4,
    "start_time": "2022-01-22T17:15:51.102Z"
   },
   {
    "duration": 82,
    "start_time": "2022-01-22T17:15:51.109Z"
   },
   {
    "duration": 15,
    "start_time": "2022-01-22T17:15:51.194Z"
   },
   {
    "duration": 26,
    "start_time": "2022-01-22T17:15:51.211Z"
   },
   {
    "duration": 71,
    "start_time": "2022-01-22T17:15:51.240Z"
   },
   {
    "duration": 93,
    "start_time": "2022-01-22T17:15:51.314Z"
   },
   {
    "duration": 32,
    "start_time": "2022-01-22T17:16:04.026Z"
   },
   {
    "duration": 63,
    "start_time": "2022-01-22T17:16:11.540Z"
   },
   {
    "duration": 48,
    "start_time": "2022-01-22T17:16:18.959Z"
   },
   {
    "duration": 100,
    "start_time": "2022-01-22T17:19:55.486Z"
   },
   {
    "duration": 4,
    "start_time": "2022-01-22T17:20:04.357Z"
   },
   {
    "duration": 14,
    "start_time": "2022-01-22T17:22:07.002Z"
   },
   {
    "duration": 642,
    "start_time": "2022-01-22T17:26:38.596Z"
   },
   {
    "duration": 5,
    "start_time": "2022-01-22T17:27:05.932Z"
   },
   {
    "duration": 634,
    "start_time": "2022-01-22T17:27:06.361Z"
   },
   {
    "duration": 5,
    "start_time": "2022-01-22T17:27:44.677Z"
   },
   {
    "duration": 4643,
    "start_time": "2022-01-22T17:27:45.075Z"
   },
   {
    "duration": 791,
    "start_time": "2022-01-22T17:28:20.106Z"
   },
   {
    "duration": 296,
    "start_time": "2022-01-22T17:28:20.900Z"
   },
   {
    "duration": 222,
    "start_time": "2022-01-22T17:28:21.199Z"
   },
   {
    "duration": 146,
    "start_time": "2022-01-22T17:28:21.424Z"
   },
   {
    "duration": 31,
    "start_time": "2022-01-22T17:28:21.572Z"
   },
   {
    "duration": 52,
    "start_time": "2022-01-22T17:28:21.605Z"
   },
   {
    "duration": 111,
    "start_time": "2022-01-22T17:28:21.660Z"
   },
   {
    "duration": 8,
    "start_time": "2022-01-22T17:28:21.774Z"
   },
   {
    "duration": 41,
    "start_time": "2022-01-22T17:28:21.788Z"
   },
   {
    "duration": 120,
    "start_time": "2022-01-22T17:28:21.833Z"
   },
   {
    "duration": 100,
    "start_time": "2022-01-22T17:28:21.956Z"
   },
   {
    "duration": 28,
    "start_time": "2022-01-22T17:28:22.070Z"
   },
   {
    "duration": 113,
    "start_time": "2022-01-22T17:28:22.101Z"
   },
   {
    "duration": 32,
    "start_time": "2022-01-22T17:28:22.217Z"
   },
   {
    "duration": 94,
    "start_time": "2022-01-22T17:28:22.252Z"
   },
   {
    "duration": 20,
    "start_time": "2022-01-22T17:28:22.349Z"
   },
   {
    "duration": 62,
    "start_time": "2022-01-22T17:28:22.373Z"
   },
   {
    "duration": 39,
    "start_time": "2022-01-22T17:28:22.438Z"
   },
   {
    "duration": 29,
    "start_time": "2022-01-22T17:28:22.480Z"
   },
   {
    "duration": 62,
    "start_time": "2022-01-22T17:28:22.511Z"
   },
   {
    "duration": 5,
    "start_time": "2022-01-22T17:28:22.575Z"
   },
   {
    "duration": 242,
    "start_time": "2022-01-22T17:28:22.582Z"
   },
   {
    "duration": 109,
    "start_time": "2022-01-22T17:28:22.826Z"
   },
   {
    "duration": 195,
    "start_time": "2022-01-22T17:30:11.453Z"
   },
   {
    "duration": 331,
    "start_time": "2022-01-22T17:31:34.922Z"
   },
   {
    "duration": 227,
    "start_time": "2022-01-22T17:32:01.429Z"
   },
   {
    "duration": 105,
    "start_time": "2022-01-22T17:34:22.064Z"
   },
   {
    "duration": 224,
    "start_time": "2022-01-22T17:34:23.315Z"
   },
   {
    "duration": 35,
    "start_time": "2022-01-22T17:35:51.231Z"
   },
   {
    "duration": 88,
    "start_time": "2022-01-22T17:35:52.382Z"
   },
   {
    "duration": 5,
    "start_time": "2022-01-22T17:36:26.071Z"
   },
   {
    "duration": 4906,
    "start_time": "2022-01-22T17:36:26.559Z"
   },
   {
    "duration": 762,
    "start_time": "2022-01-22T17:36:58.758Z"
   },
   {
    "duration": 255,
    "start_time": "2022-01-22T17:36:59.522Z"
   },
   {
    "duration": 212,
    "start_time": "2022-01-22T17:36:59.781Z"
   },
   {
    "duration": 145,
    "start_time": "2022-01-22T17:36:59.996Z"
   },
   {
    "duration": 33,
    "start_time": "2022-01-22T17:37:00.143Z"
   },
   {
    "duration": 62,
    "start_time": "2022-01-22T17:37:00.179Z"
   },
   {
    "duration": 109,
    "start_time": "2022-01-22T17:37:00.244Z"
   },
   {
    "duration": 6,
    "start_time": "2022-01-22T17:37:00.357Z"
   },
   {
    "duration": 36,
    "start_time": "2022-01-22T17:37:00.366Z"
   },
   {
    "duration": 82,
    "start_time": "2022-01-22T17:37:00.405Z"
   },
   {
    "duration": 60,
    "start_time": "2022-01-22T17:37:00.489Z"
   },
   {
    "duration": 38,
    "start_time": "2022-01-22T17:37:00.551Z"
   },
   {
    "duration": 60,
    "start_time": "2022-01-22T17:37:00.592Z"
   },
   {
    "duration": 26,
    "start_time": "2022-01-22T17:37:00.669Z"
   },
   {
    "duration": 51,
    "start_time": "2022-01-22T17:37:00.697Z"
   },
   {
    "duration": 4,
    "start_time": "2022-01-22T17:37:00.770Z"
   },
   {
    "duration": 45,
    "start_time": "2022-01-22T17:37:00.776Z"
   },
   {
    "duration": 20,
    "start_time": "2022-01-22T17:37:00.824Z"
   },
   {
    "duration": 46,
    "start_time": "2022-01-22T17:37:00.847Z"
   },
   {
    "duration": 34,
    "start_time": "2022-01-22T17:37:00.896Z"
   },
   {
    "duration": 5,
    "start_time": "2022-01-22T17:37:00.933Z"
   },
   {
    "duration": 225,
    "start_time": "2022-01-22T17:37:00.941Z"
   },
   {
    "duration": 86,
    "start_time": "2022-01-22T17:37:01.171Z"
   },
   {
    "duration": 5,
    "start_time": "2022-01-22T18:55:59.578Z"
   },
   {
    "duration": 5,
    "start_time": "2022-01-22T18:57:04.855Z"
   },
   {
    "duration": 2412,
    "start_time": "2022-01-22T18:57:05.133Z"
   },
   {
    "duration": 1535,
    "start_time": "2022-01-22T18:57:15.041Z"
   },
   {
    "duration": 612,
    "start_time": "2022-01-22T18:59:04.821Z"
   },
   {
    "duration": 5,
    "start_time": "2022-01-22T19:08:11.286Z"
   },
   {
    "duration": 155,
    "start_time": "2022-01-22T19:08:12.278Z"
   },
   {
    "duration": 35,
    "start_time": "2022-01-22T19:18:02.671Z"
   },
   {
    "duration": 47,
    "start_time": "2022-01-22T19:18:13.113Z"
   },
   {
    "duration": 49,
    "start_time": "2022-01-22T19:18:32.647Z"
   },
   {
    "duration": 31,
    "start_time": "2022-01-22T19:24:59.558Z"
   },
   {
    "duration": 4,
    "start_time": "2022-01-22T19:25:21.542Z"
   },
   {
    "duration": 7822,
    "start_time": "2022-01-22T19:25:22.550Z"
   },
   {
    "duration": 18,
    "start_time": "2022-01-22T19:25:54.256Z"
   },
   {
    "duration": 30,
    "start_time": "2022-01-22T19:26:15.068Z"
   },
   {
    "duration": 4,
    "start_time": "2022-01-22T19:26:15.858Z"
   },
   {
    "duration": 16,
    "start_time": "2022-01-22T19:26:16.390Z"
   },
   {
    "duration": 115,
    "start_time": "2022-01-22T19:26:49.639Z"
   },
   {
    "duration": 39,
    "start_time": "2022-01-22T19:26:55.225Z"
   },
   {
    "duration": 44,
    "start_time": "2022-01-22T19:27:11.988Z"
   },
   {
    "duration": 50,
    "start_time": "2022-01-22T19:27:31.690Z"
   },
   {
    "duration": 55,
    "start_time": "2022-01-22T19:27:34.840Z"
   },
   {
    "duration": 44,
    "start_time": "2022-01-22T19:27:48.020Z"
   },
   {
    "duration": 35,
    "start_time": "2022-01-22T19:27:55.324Z"
   },
   {
    "duration": 71,
    "start_time": "2022-01-22T19:29:36.987Z"
   },
   {
    "duration": 37,
    "start_time": "2022-01-22T19:29:51.820Z"
   },
   {
    "duration": 25,
    "start_time": "2022-01-22T19:29:58.545Z"
   },
   {
    "duration": 285,
    "start_time": "2022-01-22T19:33:59.993Z"
   },
   {
    "duration": 304,
    "start_time": "2022-01-22T19:34:14.333Z"
   },
   {
    "duration": 292,
    "start_time": "2022-01-22T19:36:48.633Z"
   },
   {
    "duration": 9,
    "start_time": "2022-01-22T19:38:29.820Z"
   },
   {
    "duration": 21,
    "start_time": "2022-01-22T19:38:57.731Z"
   },
   {
    "duration": 50,
    "start_time": "2022-01-22T19:44:01.033Z"
   },
   {
    "duration": 54,
    "start_time": "2022-01-22T19:45:01.568Z"
   },
   {
    "duration": 773,
    "start_time": "2022-01-22T19:47:58.903Z"
   },
   {
    "duration": 252,
    "start_time": "2022-01-22T19:47:59.679Z"
   },
   {
    "duration": 235,
    "start_time": "2022-01-22T19:47:59.934Z"
   },
   {
    "duration": 164,
    "start_time": "2022-01-22T19:48:00.173Z"
   },
   {
    "duration": 43,
    "start_time": "2022-01-22T19:48:00.339Z"
   },
   {
    "duration": 65,
    "start_time": "2022-01-22T19:48:00.386Z"
   },
   {
    "duration": 154,
    "start_time": "2022-01-22T19:48:00.454Z"
   },
   {
    "duration": 7,
    "start_time": "2022-01-22T19:48:00.611Z"
   },
   {
    "duration": 48,
    "start_time": "2022-01-22T19:48:00.621Z"
   },
   {
    "duration": 60,
    "start_time": "2022-01-22T19:48:00.673Z"
   },
   {
    "duration": 82,
    "start_time": "2022-01-22T19:48:00.736Z"
   },
   {
    "duration": 21,
    "start_time": "2022-01-22T19:48:00.821Z"
   },
   {
    "duration": 74,
    "start_time": "2022-01-22T19:48:00.844Z"
   },
   {
    "duration": 26,
    "start_time": "2022-01-22T19:48:00.921Z"
   },
   {
    "duration": 36,
    "start_time": "2022-01-22T19:48:00.970Z"
   },
   {
    "duration": 4,
    "start_time": "2022-01-22T19:48:01.008Z"
   },
   {
    "duration": 66,
    "start_time": "2022-01-22T19:48:01.014Z"
   },
   {
    "duration": 29,
    "start_time": "2022-01-22T19:48:01.083Z"
   },
   {
    "duration": 383,
    "start_time": "2022-01-22T19:48:28.207Z"
   },
   {
    "duration": 25,
    "start_time": "2022-01-22T19:49:13.913Z"
   },
   {
    "duration": 27,
    "start_time": "2022-01-22T19:49:37.217Z"
   },
   {
    "duration": 18,
    "start_time": "2022-01-22T19:50:22.941Z"
   },
   {
    "duration": 35,
    "start_time": "2022-01-22T19:50:28.176Z"
   },
   {
    "duration": 27,
    "start_time": "2022-01-22T19:51:53.716Z"
   },
   {
    "duration": 52,
    "start_time": "2022-01-22T19:51:57.901Z"
   },
   {
    "duration": 29,
    "start_time": "2022-01-22T19:53:44.981Z"
   },
   {
    "duration": 53,
    "start_time": "2022-01-22T19:53:52.219Z"
   },
   {
    "duration": 35,
    "start_time": "2022-01-22T19:55:12.546Z"
   },
   {
    "duration": 95,
    "start_time": "2022-01-22T19:55:16.747Z"
   },
   {
    "duration": 69,
    "start_time": "2022-01-22T19:56:10.177Z"
   },
   {
    "duration": 57,
    "start_time": "2022-01-22T19:57:44.689Z"
   },
   {
    "duration": 113,
    "start_time": "2022-01-22T20:04:57.125Z"
   },
   {
    "duration": 43,
    "start_time": "2022-01-22T20:05:05.316Z"
   },
   {
    "duration": 42,
    "start_time": "2022-01-22T20:05:16.069Z"
   },
   {
    "duration": 9,
    "start_time": "2022-01-22T20:05:42.087Z"
   },
   {
    "duration": 255,
    "start_time": "2022-01-22T20:05:47.225Z"
   },
   {
    "duration": 266,
    "start_time": "2022-01-22T20:06:13.411Z"
   },
   {
    "duration": 263,
    "start_time": "2022-01-22T20:06:47.198Z"
   },
   {
    "duration": 269,
    "start_time": "2022-01-22T20:09:20.336Z"
   },
   {
    "duration": 779,
    "start_time": "2022-01-22T20:11:14.747Z"
   },
   {
    "duration": 261,
    "start_time": "2022-01-22T20:11:15.529Z"
   },
   {
    "duration": 209,
    "start_time": "2022-01-22T20:11:15.793Z"
   },
   {
    "duration": 156,
    "start_time": "2022-01-22T20:11:16.006Z"
   },
   {
    "duration": 33,
    "start_time": "2022-01-22T20:11:16.170Z"
   },
   {
    "duration": 49,
    "start_time": "2022-01-22T20:11:16.205Z"
   },
   {
    "duration": 114,
    "start_time": "2022-01-22T20:11:16.256Z"
   },
   {
    "duration": 5,
    "start_time": "2022-01-22T20:11:16.374Z"
   },
   {
    "duration": 36,
    "start_time": "2022-01-22T20:11:16.382Z"
   },
   {
    "duration": 69,
    "start_time": "2022-01-22T20:11:16.420Z"
   },
   {
    "duration": 49,
    "start_time": "2022-01-22T20:11:16.492Z"
   },
   {
    "duration": 42,
    "start_time": "2022-01-22T20:11:16.544Z"
   },
   {
    "duration": 47,
    "start_time": "2022-01-22T20:11:16.589Z"
   },
   {
    "duration": 51,
    "start_time": "2022-01-22T20:11:16.639Z"
   },
   {
    "duration": 33,
    "start_time": "2022-01-22T20:11:16.692Z"
   },
   {
    "duration": 4,
    "start_time": "2022-01-22T20:11:16.727Z"
   },
   {
    "duration": 54,
    "start_time": "2022-01-22T20:11:16.734Z"
   },
   {
    "duration": 79,
    "start_time": "2022-01-22T20:11:16.791Z"
   },
   {
    "duration": 40,
    "start_time": "2022-01-22T20:11:16.873Z"
   },
   {
    "duration": 89,
    "start_time": "2022-01-22T20:11:16.917Z"
   },
   {
    "duration": 30,
    "start_time": "2022-01-22T20:12:19.218Z"
   },
   {
    "duration": 59,
    "start_time": "2022-01-22T20:15:50.204Z"
   },
   {
    "duration": 51,
    "start_time": "2022-01-22T20:15:57.923Z"
   },
   {
    "duration": 566,
    "start_time": "2022-01-23T08:03:27.075Z"
   },
   {
    "duration": 166,
    "start_time": "2022-01-23T08:03:27.643Z"
   },
   {
    "duration": 142,
    "start_time": "2022-01-23T08:03:27.811Z"
   },
   {
    "duration": 100,
    "start_time": "2022-01-23T08:03:27.955Z"
   },
   {
    "duration": 23,
    "start_time": "2022-01-23T08:03:28.056Z"
   },
   {
    "duration": 60,
    "start_time": "2022-01-23T08:03:28.080Z"
   },
   {
    "duration": 86,
    "start_time": "2022-01-23T08:03:28.142Z"
   },
   {
    "duration": 5,
    "start_time": "2022-01-23T08:03:28.231Z"
   },
   {
    "duration": 21,
    "start_time": "2022-01-23T08:03:28.237Z"
   },
   {
    "duration": 27,
    "start_time": "2022-01-23T08:03:28.259Z"
   },
   {
    "duration": 28,
    "start_time": "2022-01-23T08:03:28.287Z"
   },
   {
    "duration": 26,
    "start_time": "2022-01-23T08:03:28.316Z"
   },
   {
    "duration": 30,
    "start_time": "2022-01-23T08:03:28.343Z"
   },
   {
    "duration": 17,
    "start_time": "2022-01-23T08:03:28.374Z"
   },
   {
    "duration": 19,
    "start_time": "2022-01-23T08:03:28.392Z"
   },
   {
    "duration": 3,
    "start_time": "2022-01-23T08:03:28.413Z"
   },
   {
    "duration": 46,
    "start_time": "2022-01-23T08:03:28.417Z"
   },
   {
    "duration": 35,
    "start_time": "2022-01-23T08:03:28.465Z"
   },
   {
    "duration": 40,
    "start_time": "2022-01-23T08:03:28.501Z"
   },
   {
    "duration": 4,
    "start_time": "2022-01-23T08:03:28.542Z"
   },
   {
    "duration": 4,
    "start_time": "2022-01-23T08:16:43.145Z"
   },
   {
    "duration": 222,
    "start_time": "2022-01-23T08:17:35.115Z"
   },
   {
    "duration": 208,
    "start_time": "2022-01-23T08:17:57.203Z"
   },
   {
    "duration": 211,
    "start_time": "2022-01-23T08:34:56.230Z"
   },
   {
    "duration": 214,
    "start_time": "2022-01-23T08:35:35.411Z"
   },
   {
    "duration": 210,
    "start_time": "2022-01-23T08:37:27.855Z"
   },
   {
    "duration": 6,
    "start_time": "2022-01-23T08:37:45.467Z"
   },
   {
    "duration": 224,
    "start_time": "2022-01-23T08:37:45.861Z"
   },
   {
    "duration": 213,
    "start_time": "2022-01-23T08:37:52.208Z"
   },
   {
    "duration": 224,
    "start_time": "2022-01-23T08:38:22.757Z"
   },
   {
    "duration": 195,
    "start_time": "2022-01-23T08:39:15.092Z"
   },
   {
    "duration": 20,
    "start_time": "2022-01-23T08:39:27.606Z"
   },
   {
    "duration": 17,
    "start_time": "2022-01-23T08:39:29.687Z"
   },
   {
    "duration": 5,
    "start_time": "2022-01-23T08:39:31.020Z"
   },
   {
    "duration": 213,
    "start_time": "2022-01-23T08:39:31.546Z"
   },
   {
    "duration": 6,
    "start_time": "2022-01-23T08:39:44.653Z"
   },
   {
    "duration": 29,
    "start_time": "2022-01-23T08:39:49.276Z"
   },
   {
    "duration": 23,
    "start_time": "2022-01-23T08:39:55.856Z"
   },
   {
    "duration": 526,
    "start_time": "2022-01-23T08:40:06.181Z"
   },
   {
    "duration": 165,
    "start_time": "2022-01-23T08:40:06.709Z"
   },
   {
    "duration": 142,
    "start_time": "2022-01-23T08:40:06.876Z"
   },
   {
    "duration": 103,
    "start_time": "2022-01-23T08:40:07.020Z"
   },
   {
    "duration": 25,
    "start_time": "2022-01-23T08:40:07.124Z"
   },
   {
    "duration": 60,
    "start_time": "2022-01-23T08:40:07.151Z"
   },
   {
    "duration": 68,
    "start_time": "2022-01-23T08:40:07.212Z"
   },
   {
    "duration": 4,
    "start_time": "2022-01-23T08:40:07.282Z"
   },
   {
    "duration": 57,
    "start_time": "2022-01-23T08:40:07.288Z"
   },
   {
    "duration": 27,
    "start_time": "2022-01-23T08:40:07.347Z"
   },
   {
    "duration": 34,
    "start_time": "2022-01-23T08:40:07.376Z"
   },
   {
    "duration": 13,
    "start_time": "2022-01-23T08:40:07.412Z"
   },
   {
    "duration": 38,
    "start_time": "2022-01-23T08:40:07.427Z"
   },
   {
    "duration": 17,
    "start_time": "2022-01-23T08:40:07.467Z"
   },
   {
    "duration": 20,
    "start_time": "2022-01-23T08:40:07.485Z"
   },
   {
    "duration": 5,
    "start_time": "2022-01-23T08:40:07.506Z"
   },
   {
    "duration": 28,
    "start_time": "2022-01-23T08:40:07.513Z"
   },
   {
    "duration": 20,
    "start_time": "2022-01-23T08:40:07.542Z"
   },
   {
    "duration": 19,
    "start_time": "2022-01-23T08:40:07.563Z"
   },
   {
    "duration": 20,
    "start_time": "2022-01-23T08:40:07.583Z"
   },
   {
    "duration": 222,
    "start_time": "2022-01-23T08:40:07.604Z"
   },
   {
    "duration": 9,
    "start_time": "2022-01-23T08:42:42.594Z"
   },
   {
    "duration": 75,
    "start_time": "2022-01-23T09:05:52.130Z"
   },
   {
    "duration": 83,
    "start_time": "2022-01-23T09:05:57.182Z"
   },
   {
    "duration": 83,
    "start_time": "2022-01-23T09:06:03.211Z"
   },
   {
    "duration": 4,
    "start_time": "2022-01-23T09:06:09.766Z"
   },
   {
    "duration": 15,
    "start_time": "2022-01-23T09:06:13.216Z"
   },
   {
    "duration": 292,
    "start_time": "2022-01-23T09:07:31.480Z"
   },
   {
    "duration": 10,
    "start_time": "2022-01-23T09:08:29.268Z"
   },
   {
    "duration": 587,
    "start_time": "2022-01-23T09:08:43.929Z"
   },
   {
    "duration": 179,
    "start_time": "2022-01-23T09:08:44.518Z"
   },
   {
    "duration": 146,
    "start_time": "2022-01-23T09:08:44.701Z"
   },
   {
    "duration": 105,
    "start_time": "2022-01-23T09:08:44.849Z"
   },
   {
    "duration": 25,
    "start_time": "2022-01-23T09:08:44.956Z"
   },
   {
    "duration": 39,
    "start_time": "2022-01-23T09:08:44.983Z"
   },
   {
    "duration": 70,
    "start_time": "2022-01-23T09:08:45.025Z"
   },
   {
    "duration": 5,
    "start_time": "2022-01-23T09:08:45.097Z"
   },
   {
    "duration": 33,
    "start_time": "2022-01-23T09:08:45.104Z"
   },
   {
    "duration": 32,
    "start_time": "2022-01-23T09:08:45.139Z"
   },
   {
    "duration": 32,
    "start_time": "2022-01-23T09:08:45.173Z"
   },
   {
    "duration": 15,
    "start_time": "2022-01-23T09:08:45.207Z"
   },
   {
    "duration": 39,
    "start_time": "2022-01-23T09:08:45.223Z"
   },
   {
    "duration": 16,
    "start_time": "2022-01-23T09:08:45.264Z"
   },
   {
    "duration": 25,
    "start_time": "2022-01-23T09:08:45.282Z"
   },
   {
    "duration": 2,
    "start_time": "2022-01-23T09:08:45.309Z"
   },
   {
    "duration": 19,
    "start_time": "2022-01-23T09:08:45.313Z"
   },
   {
    "duration": 24,
    "start_time": "2022-01-23T09:08:45.342Z"
   },
   {
    "duration": 9,
    "start_time": "2022-01-23T09:08:45.367Z"
   },
   {
    "duration": 26,
    "start_time": "2022-01-23T09:08:45.377Z"
   },
   {
    "duration": 236,
    "start_time": "2022-01-23T09:08:45.405Z"
   },
   {
    "duration": 13,
    "start_time": "2022-01-23T09:08:45.644Z"
   },
   {
    "duration": 15,
    "start_time": "2022-01-23T09:09:06.599Z"
   },
   {
    "duration": 536,
    "start_time": "2022-01-23T09:09:14.099Z"
   },
   {
    "duration": 178,
    "start_time": "2022-01-23T09:09:14.637Z"
   },
   {
    "duration": 153,
    "start_time": "2022-01-23T09:09:14.821Z"
   },
   {
    "duration": 116,
    "start_time": "2022-01-23T09:09:14.976Z"
   },
   {
    "duration": 26,
    "start_time": "2022-01-23T09:09:15.094Z"
   },
   {
    "duration": 39,
    "start_time": "2022-01-23T09:09:15.122Z"
   },
   {
    "duration": 69,
    "start_time": "2022-01-23T09:09:15.164Z"
   },
   {
    "duration": 5,
    "start_time": "2022-01-23T09:09:15.240Z"
   },
   {
    "duration": 24,
    "start_time": "2022-01-23T09:09:15.246Z"
   },
   {
    "duration": 30,
    "start_time": "2022-01-23T09:09:15.272Z"
   },
   {
    "duration": 48,
    "start_time": "2022-01-23T09:09:15.304Z"
   },
   {
    "duration": 14,
    "start_time": "2022-01-23T09:09:15.354Z"
   },
   {
    "duration": 28,
    "start_time": "2022-01-23T09:09:15.369Z"
   },
   {
    "duration": 17,
    "start_time": "2022-01-23T09:09:15.398Z"
   },
   {
    "duration": 42,
    "start_time": "2022-01-23T09:09:15.417Z"
   },
   {
    "duration": 3,
    "start_time": "2022-01-23T09:09:15.461Z"
   },
   {
    "duration": 10,
    "start_time": "2022-01-23T09:09:15.466Z"
   },
   {
    "duration": 33,
    "start_time": "2022-01-23T09:09:15.478Z"
   },
   {
    "duration": 9,
    "start_time": "2022-01-23T09:09:15.513Z"
   },
   {
    "duration": 17,
    "start_time": "2022-01-23T09:09:15.524Z"
   },
   {
    "duration": 228,
    "start_time": "2022-01-23T09:09:15.543Z"
   },
   {
    "duration": 13,
    "start_time": "2022-01-23T09:09:15.774Z"
   },
   {
    "duration": 534,
    "start_time": "2022-01-23T17:00:19.762Z"
   },
   {
    "duration": 170,
    "start_time": "2022-01-23T17:00:20.299Z"
   },
   {
    "duration": 149,
    "start_time": "2022-01-23T17:00:20.471Z"
   },
   {
    "duration": 103,
    "start_time": "2022-01-23T17:00:20.621Z"
   },
   {
    "duration": 24,
    "start_time": "2022-01-23T17:00:20.726Z"
   },
   {
    "duration": 46,
    "start_time": "2022-01-23T17:00:20.752Z"
   },
   {
    "duration": 67,
    "start_time": "2022-01-23T17:00:20.800Z"
   },
   {
    "duration": 5,
    "start_time": "2022-01-23T17:00:20.869Z"
   },
   {
    "duration": 22,
    "start_time": "2022-01-23T17:00:20.896Z"
   },
   {
    "duration": 30,
    "start_time": "2022-01-23T17:00:20.920Z"
   },
   {
    "duration": 47,
    "start_time": "2022-01-23T17:00:20.951Z"
   },
   {
    "duration": 15,
    "start_time": "2022-01-23T17:00:21.000Z"
   },
   {
    "duration": 27,
    "start_time": "2022-01-23T17:00:21.017Z"
   },
   {
    "duration": 16,
    "start_time": "2022-01-23T17:00:21.046Z"
   },
   {
    "duration": 45,
    "start_time": "2022-01-23T17:00:21.064Z"
   },
   {
    "duration": 2,
    "start_time": "2022-01-23T17:00:21.110Z"
   },
   {
    "duration": 11,
    "start_time": "2022-01-23T17:00:21.114Z"
   },
   {
    "duration": 25,
    "start_time": "2022-01-23T17:00:21.127Z"
   },
   {
    "duration": 8,
    "start_time": "2022-01-23T17:00:21.154Z"
   },
   {
    "duration": 4,
    "start_time": "2022-01-23T17:00:21.164Z"
   },
   {
    "duration": 230,
    "start_time": "2022-01-23T17:00:21.170Z"
   },
   {
    "duration": 14,
    "start_time": "2022-01-23T17:00:21.401Z"
   },
   {
    "duration": 305,
    "start_time": "2022-01-23T17:01:22.078Z"
   },
   {
    "duration": 198,
    "start_time": "2022-01-23T17:01:34.096Z"
   },
   {
    "duration": 55,
    "start_time": "2022-01-23T17:01:49.281Z"
   },
   {
    "duration": 814,
    "start_time": "2022-01-23T17:01:53.872Z"
   },
   {
    "duration": 3,
    "start_time": "2022-01-23T17:02:59.079Z"
   },
   {
    "duration": 743,
    "start_time": "2022-01-23T17:03:16.644Z"
   },
   {
    "duration": 890,
    "start_time": "2022-01-23T17:03:34.415Z"
   },
   {
    "duration": 1191,
    "start_time": "2022-01-23T17:05:01.383Z"
   },
   {
    "duration": 979,
    "start_time": "2022-01-23T17:05:16.477Z"
   },
   {
    "duration": 856,
    "start_time": "2022-01-23T17:05:39.944Z"
   },
   {
    "duration": 243,
    "start_time": "2022-01-23T17:06:00.458Z"
   },
   {
    "duration": 5231,
    "start_time": "2022-01-23T17:06:09.230Z"
   },
   {
    "duration": 1052,
    "start_time": "2022-01-23T17:06:30.086Z"
   },
   {
    "duration": 925,
    "start_time": "2022-01-23T17:06:38.023Z"
   },
   {
    "duration": 960,
    "start_time": "2022-01-23T17:06:44.733Z"
   },
   {
    "duration": 1800,
    "start_time": "2022-01-23T17:07:35.171Z"
   },
   {
    "duration": 914,
    "start_time": "2022-01-23T17:09:48.961Z"
   },
   {
    "duration": 1068,
    "start_time": "2022-01-23T17:10:55.385Z"
   },
   {
    "duration": 994,
    "start_time": "2022-01-23T17:11:11.667Z"
   },
   {
    "duration": 255,
    "start_time": "2022-01-23T17:11:57.383Z"
   },
   {
    "duration": 186,
    "start_time": "2022-01-23T17:12:04.005Z"
   },
   {
    "duration": 186,
    "start_time": "2022-01-23T17:15:54.910Z"
   },
   {
    "duration": 176,
    "start_time": "2022-01-23T17:16:41.335Z"
   },
   {
    "duration": 187,
    "start_time": "2022-01-23T17:16:55.402Z"
   },
   {
    "duration": 10,
    "start_time": "2022-01-23T17:17:07.622Z"
   },
   {
    "duration": 28,
    "start_time": "2022-01-23T17:17:18.928Z"
   },
   {
    "duration": 193,
    "start_time": "2022-01-23T17:18:29.543Z"
   },
   {
    "duration": 188,
    "start_time": "2022-01-23T17:18:53.749Z"
   },
   {
    "duration": 27,
    "start_time": "2022-01-23T17:26:33.345Z"
   },
   {
    "duration": 4450,
    "start_time": "2022-01-23T17:26:50.571Z"
   },
   {
    "duration": 333,
    "start_time": "2022-01-23T17:27:10.845Z"
   },
   {
    "duration": 21,
    "start_time": "2022-01-23T17:27:39.921Z"
   },
   {
    "duration": 503,
    "start_time": "2022-01-23T17:57:36.140Z"
   },
   {
    "duration": 767,
    "start_time": "2022-01-23T17:57:58.116Z"
   },
   {
    "duration": 23,
    "start_time": "2022-01-23T17:58:21.995Z"
   },
   {
    "duration": 681,
    "start_time": "2022-01-23T18:10:53.841Z"
   },
   {
    "duration": 350,
    "start_time": "2022-01-24T09:19:52.623Z"
   },
   {
    "duration": 865,
    "start_time": "2022-01-24T09:19:59.574Z"
   },
   {
    "duration": 249,
    "start_time": "2022-01-24T09:20:00.442Z"
   },
   {
    "duration": 209,
    "start_time": "2022-01-24T09:20:00.694Z"
   },
   {
    "duration": 136,
    "start_time": "2022-01-24T09:20:00.905Z"
   },
   {
    "duration": 31,
    "start_time": "2022-01-24T09:20:01.044Z"
   },
   {
    "duration": 53,
    "start_time": "2022-01-24T09:20:01.077Z"
   },
   {
    "duration": 101,
    "start_time": "2022-01-24T09:20:01.132Z"
   },
   {
    "duration": 6,
    "start_time": "2022-01-24T09:20:01.236Z"
   },
   {
    "duration": 50,
    "start_time": "2022-01-24T09:20:01.245Z"
   },
   {
    "duration": 62,
    "start_time": "2022-01-24T09:20:01.298Z"
   },
   {
    "duration": 45,
    "start_time": "2022-01-24T09:20:01.363Z"
   },
   {
    "duration": 21,
    "start_time": "2022-01-24T09:20:01.410Z"
   },
   {
    "duration": 60,
    "start_time": "2022-01-24T09:20:01.433Z"
   },
   {
    "duration": 25,
    "start_time": "2022-01-24T09:20:01.495Z"
   },
   {
    "duration": 49,
    "start_time": "2022-01-24T09:20:01.522Z"
   },
   {
    "duration": 3,
    "start_time": "2022-01-24T09:20:01.574Z"
   },
   {
    "duration": 30,
    "start_time": "2022-01-24T09:20:01.580Z"
   },
   {
    "duration": 48,
    "start_time": "2022-01-24T09:20:01.612Z"
   },
   {
    "duration": 22,
    "start_time": "2022-01-24T09:20:01.663Z"
   },
   {
    "duration": 18,
    "start_time": "2022-01-24T09:20:01.687Z"
   },
   {
    "duration": 393,
    "start_time": "2022-01-24T09:20:01.708Z"
   },
   {
    "duration": 22,
    "start_time": "2022-01-24T09:20:02.103Z"
   },
   {
    "duration": 54,
    "start_time": "2022-01-24T09:20:02.129Z"
   },
   {
    "duration": 412,
    "start_time": "2022-01-24T09:20:02.185Z"
   },
   {
    "duration": -372,
    "start_time": "2022-01-24T09:20:02.971Z"
   },
   {
    "duration": 36,
    "start_time": "2022-01-24T09:20:50.742Z"
   },
   {
    "duration": 75,
    "start_time": "2022-01-24T09:21:13.406Z"
   },
   {
    "duration": 52,
    "start_time": "2022-01-24T09:21:23.079Z"
   },
   {
    "duration": 518,
    "start_time": "2022-01-24T09:23:22.129Z"
   },
   {
    "duration": 24,
    "start_time": "2022-01-24T09:23:32.041Z"
   },
   {
    "duration": 23,
    "start_time": "2022-01-24T09:23:56.337Z"
   },
   {
    "duration": 34,
    "start_time": "2022-01-24T09:24:27.768Z"
   },
   {
    "duration": 46,
    "start_time": "2022-01-24T09:24:55.168Z"
   },
   {
    "duration": 363,
    "start_time": "2022-01-24T09:25:10.719Z"
   },
   {
    "duration": 42,
    "start_time": "2022-01-24T09:25:20.338Z"
   },
   {
    "duration": 44,
    "start_time": "2022-01-24T09:25:54.764Z"
   },
   {
    "duration": 40,
    "start_time": "2022-01-24T09:27:44.413Z"
   },
   {
    "duration": 3,
    "start_time": "2022-01-24T09:28:54.569Z"
   },
   {
    "duration": 44,
    "start_time": "2022-01-24T09:29:02.216Z"
   },
   {
    "duration": 25,
    "start_time": "2022-01-24T09:29:26.454Z"
   },
   {
    "duration": 28,
    "start_time": "2022-01-24T09:30:10.511Z"
   },
   {
    "duration": 95,
    "start_time": "2022-01-24T09:31:24.101Z"
   },
   {
    "duration": 29,
    "start_time": "2022-01-24T09:31:29.492Z"
   },
   {
    "duration": 101,
    "start_time": "2022-01-24T09:31:54.760Z"
   },
   {
    "duration": 96,
    "start_time": "2022-01-24T09:31:58.780Z"
   },
   {
    "duration": 29,
    "start_time": "2022-01-24T09:32:01.842Z"
   },
   {
    "duration": 28,
    "start_time": "2022-01-24T09:32:16.437Z"
   },
   {
    "duration": 28,
    "start_time": "2022-01-24T09:32:28.273Z"
   },
   {
    "duration": 28,
    "start_time": "2022-01-24T09:32:34.460Z"
   },
   {
    "duration": 28,
    "start_time": "2022-01-24T09:33:04.369Z"
   },
   {
    "duration": 1111,
    "start_time": "2022-01-24T09:33:31.374Z"
   },
   {
    "duration": 3,
    "start_time": "2022-01-24T09:41:33.472Z"
   },
   {
    "duration": 188,
    "start_time": "2022-01-24T10:26:10.848Z"
   },
   {
    "duration": 283,
    "start_time": "2022-01-24T10:27:14.802Z"
   },
   {
    "duration": 20,
    "start_time": "2022-01-24T10:27:20.239Z"
   },
   {
    "duration": 40,
    "start_time": "2022-01-24T10:27:50.439Z"
   },
   {
    "duration": 614,
    "start_time": "2022-01-24T10:30:51.506Z"
   },
   {
    "duration": 228,
    "start_time": "2022-01-24T10:31:12.440Z"
   },
   {
    "duration": 338,
    "start_time": "2022-01-24T10:31:38.841Z"
   },
   {
    "duration": 379,
    "start_time": "2022-01-24T10:31:55.841Z"
   },
   {
    "duration": 292,
    "start_time": "2022-01-24T10:32:16.327Z"
   },
   {
    "duration": 956,
    "start_time": "2022-01-24T10:32:36.687Z"
   },
   {
    "duration": 249,
    "start_time": "2022-01-24T10:32:37.646Z"
   },
   {
    "duration": 227,
    "start_time": "2022-01-24T10:32:37.898Z"
   },
   {
    "duration": 143,
    "start_time": "2022-01-24T10:32:38.128Z"
   },
   {
    "duration": 33,
    "start_time": "2022-01-24T10:32:38.274Z"
   },
   {
    "duration": 50,
    "start_time": "2022-01-24T10:32:38.310Z"
   },
   {
    "duration": 102,
    "start_time": "2022-01-24T10:32:38.362Z"
   },
   {
    "duration": 8,
    "start_time": "2022-01-24T10:32:38.469Z"
   },
   {
    "duration": 30,
    "start_time": "2022-01-24T10:32:38.480Z"
   },
   {
    "duration": 67,
    "start_time": "2022-01-24T10:32:38.513Z"
   },
   {
    "duration": 47,
    "start_time": "2022-01-24T10:32:38.582Z"
   },
   {
    "duration": 41,
    "start_time": "2022-01-24T10:32:38.632Z"
   },
   {
    "duration": 39,
    "start_time": "2022-01-24T10:32:38.675Z"
   },
   {
    "duration": 23,
    "start_time": "2022-01-24T10:32:38.717Z"
   },
   {
    "duration": 49,
    "start_time": "2022-01-24T10:32:38.743Z"
   },
   {
    "duration": 4,
    "start_time": "2022-01-24T10:32:38.795Z"
   },
   {
    "duration": 19,
    "start_time": "2022-01-24T10:32:38.801Z"
   },
   {
    "duration": 57,
    "start_time": "2022-01-24T10:32:38.822Z"
   },
   {
    "duration": 14,
    "start_time": "2022-01-24T10:32:38.882Z"
   },
   {
    "duration": 7,
    "start_time": "2022-01-24T10:32:38.899Z"
   },
   {
    "duration": 399,
    "start_time": "2022-01-24T10:32:38.909Z"
   },
   {
    "duration": 24,
    "start_time": "2022-01-24T10:32:39.311Z"
   },
   {
    "duration": 62,
    "start_time": "2022-01-24T10:32:39.339Z"
   },
   {
    "duration": 40,
    "start_time": "2022-01-24T10:32:39.404Z"
   },
   {
    "duration": 3,
    "start_time": "2022-01-24T10:32:39.465Z"
   },
   {
    "duration": 1119,
    "start_time": "2022-01-24T10:32:39.471Z"
   },
   {
    "duration": 372,
    "start_time": "2022-01-24T10:32:50.062Z"
   },
   {
    "duration": 48,
    "start_time": "2022-01-24T10:35:40.057Z"
   },
   {
    "duration": 89,
    "start_time": "2022-01-24T10:36:10.681Z"
   },
   {
    "duration": 98,
    "start_time": "2022-01-24T10:36:20.478Z"
   },
   {
    "duration": 50,
    "start_time": "2022-01-24T10:36:54.465Z"
   },
   {
    "duration": 720,
    "start_time": "2022-01-24T10:37:50.121Z"
   },
   {
    "duration": 981,
    "start_time": "2022-01-24T10:38:00.461Z"
   },
   {
    "duration": 148,
    "start_time": "2022-01-24T10:38:18.545Z"
   },
   {
    "duration": 131,
    "start_time": "2022-01-24T10:38:21.019Z"
   },
   {
    "duration": 1204,
    "start_time": "2022-01-24T10:38:25.298Z"
   },
   {
    "duration": 49,
    "start_time": "2022-01-24T10:38:37.524Z"
   },
   {
    "duration": 33,
    "start_time": "2022-01-24T10:39:07.123Z"
   },
   {
    "duration": 40,
    "start_time": "2022-01-24T10:39:26.795Z"
   },
   {
    "duration": 56,
    "start_time": "2022-01-24T10:39:38.200Z"
   },
   {
    "duration": 43,
    "start_time": "2022-01-24T10:40:09.684Z"
   },
   {
    "duration": 47,
    "start_time": "2022-01-24T10:41:18.585Z"
   },
   {
    "duration": 542,
    "start_time": "2022-01-24T10:43:04.837Z"
   },
   {
    "duration": 1183,
    "start_time": "2022-01-24T10:43:14.131Z"
   },
   {
    "duration": 59,
    "start_time": "2022-01-24T10:45:51.683Z"
   },
   {
    "duration": 41,
    "start_time": "2022-01-24T10:53:14.801Z"
   },
   {
    "duration": 43,
    "start_time": "2022-01-24T10:53:24.073Z"
   },
   {
    "duration": 85,
    "start_time": "2022-01-24T10:53:30.094Z"
   },
   {
    "duration": 6,
    "start_time": "2022-01-24T10:53:43.008Z"
   },
   {
    "duration": 9068,
    "start_time": "2022-01-24T10:54:28.708Z"
   },
   {
    "duration": 313,
    "start_time": "2022-01-24T10:54:42.068Z"
   },
   {
    "duration": 13,
    "start_time": "2022-01-24T10:54:45.920Z"
   },
   {
    "duration": 6,
    "start_time": "2022-01-24T10:55:21.962Z"
   },
   {
    "duration": 89,
    "start_time": "2022-01-24T10:57:58.829Z"
   },
   {
    "duration": 8846,
    "start_time": "2022-01-24T10:58:16.505Z"
   },
   {
    "duration": 6,
    "start_time": "2022-01-24T10:58:41.215Z"
   },
   {
    "duration": 99,
    "start_time": "2022-01-24T10:59:00.612Z"
   },
   {
    "duration": 99,
    "start_time": "2022-01-24T11:17:11.676Z"
   },
   {
    "duration": 106,
    "start_time": "2022-01-24T11:17:24.485Z"
   },
   {
    "duration": 94,
    "start_time": "2022-01-24T11:17:32.764Z"
   },
   {
    "duration": 105,
    "start_time": "2022-01-24T11:17:43.668Z"
   },
   {
    "duration": 22,
    "start_time": "2022-01-24T11:18:32.718Z"
   },
   {
    "duration": 11,
    "start_time": "2022-01-24T11:19:05.916Z"
   },
   {
    "duration": 137,
    "start_time": "2022-01-24T11:20:00.435Z"
   },
   {
    "duration": 10,
    "start_time": "2022-01-24T11:20:03.511Z"
   },
   {
    "duration": 14,
    "start_time": "2022-01-24T11:21:25.476Z"
   },
   {
    "duration": 13,
    "start_time": "2022-01-24T11:21:33.225Z"
   },
   {
    "duration": 12,
    "start_time": "2022-01-24T11:21:44.540Z"
   },
   {
    "duration": 1390,
    "start_time": "2022-01-24T11:25:14.463Z"
   },
   {
    "duration": 1528,
    "start_time": "2022-01-24T11:25:31.702Z"
   },
   {
    "duration": 1198,
    "start_time": "2022-01-24T11:26:43.892Z"
   },
   {
    "duration": 1129,
    "start_time": "2022-01-24T11:32:08.490Z"
   },
   {
    "duration": 897,
    "start_time": "2022-01-24T11:34:56.488Z"
   },
   {
    "duration": 897,
    "start_time": "2022-01-24T11:35:03.877Z"
   },
   {
    "duration": 781,
    "start_time": "2022-01-24T11:35:11.840Z"
   },
   {
    "duration": 1048,
    "start_time": "2022-01-24T11:35:21.732Z"
   },
   {
    "duration": 10241,
    "start_time": "2022-01-24T11:43:39.224Z"
   },
   {
    "duration": 308,
    "start_time": "2022-01-24T11:44:03.037Z"
   },
   {
    "duration": 13,
    "start_time": "2022-01-24T11:44:34.853Z"
   },
   {
    "duration": 296,
    "start_time": "2022-01-24T11:47:24.355Z"
   },
   {
    "duration": 334,
    "start_time": "2022-01-24T11:47:27.061Z"
   },
   {
    "duration": 11,
    "start_time": "2022-01-24T11:47:59.336Z"
   },
   {
    "duration": 18,
    "start_time": "2022-01-24T11:48:26.284Z"
   },
   {
    "duration": -202,
    "start_time": "2022-01-24T11:50:25.221Z"
   },
   {
    "duration": 19,
    "start_time": "2022-01-24T11:50:33.593Z"
   },
   {
    "duration": 20,
    "start_time": "2022-01-24T11:50:59.408Z"
   },
   {
    "duration": 681,
    "start_time": "2022-01-24T17:33:35.151Z"
   },
   {
    "duration": 203,
    "start_time": "2022-01-24T17:33:35.834Z"
   },
   {
    "duration": 174,
    "start_time": "2022-01-24T17:33:36.040Z"
   },
   {
    "duration": 115,
    "start_time": "2022-01-24T17:33:36.216Z"
   },
   {
    "duration": 23,
    "start_time": "2022-01-24T17:33:36.333Z"
   },
   {
    "duration": 42,
    "start_time": "2022-01-24T17:33:36.358Z"
   },
   {
    "duration": 87,
    "start_time": "2022-01-24T17:33:36.403Z"
   },
   {
    "duration": 4,
    "start_time": "2022-01-24T17:33:36.499Z"
   },
   {
    "duration": 34,
    "start_time": "2022-01-24T17:33:36.506Z"
   },
   {
    "duration": 28,
    "start_time": "2022-01-24T17:33:36.543Z"
   },
   {
    "duration": 48,
    "start_time": "2022-01-24T17:33:36.573Z"
   },
   {
    "duration": 15,
    "start_time": "2022-01-24T17:33:36.623Z"
   },
   {
    "duration": 26,
    "start_time": "2022-01-24T17:33:36.639Z"
   },
   {
    "duration": 48,
    "start_time": "2022-01-24T17:33:36.667Z"
   },
   {
    "duration": 27,
    "start_time": "2022-01-24T17:33:36.717Z"
   },
   {
    "duration": 2,
    "start_time": "2022-01-24T17:33:36.746Z"
   },
   {
    "duration": 9,
    "start_time": "2022-01-24T17:33:36.750Z"
   },
   {
    "duration": 56,
    "start_time": "2022-01-24T17:33:36.761Z"
   },
   {
    "duration": 12,
    "start_time": "2022-01-24T17:33:36.820Z"
   },
   {
    "duration": 5,
    "start_time": "2022-01-24T17:33:36.834Z"
   },
   {
    "duration": 253,
    "start_time": "2022-01-24T17:33:36.841Z"
   },
   {
    "duration": 17,
    "start_time": "2022-01-24T17:33:37.095Z"
   },
   {
    "duration": 39,
    "start_time": "2022-01-24T17:33:37.114Z"
   },
   {
    "duration": 639,
    "start_time": "2022-01-24T17:33:37.155Z"
   },
   {
    "duration": 678,
    "start_time": "2022-01-24T17:33:37.798Z"
   },
   {
    "duration": 25,
    "start_time": "2022-01-24T17:33:38.478Z"
   },
   {
    "duration": 333,
    "start_time": "2022-01-24T17:47:13.922Z"
   },
   {
    "duration": 336,
    "start_time": "2022-01-24T17:55:15.302Z"
   },
   {
    "duration": 329,
    "start_time": "2022-01-24T17:59:52.085Z"
   },
   {
    "duration": 4,
    "start_time": "2022-01-24T18:00:04.818Z"
   },
   {
    "duration": 1100,
    "start_time": "2022-01-24T18:00:10.785Z"
   },
   {
    "duration": 182,
    "start_time": "2022-01-24T18:00:11.887Z"
   },
   {
    "duration": 160,
    "start_time": "2022-01-24T18:00:12.071Z"
   },
   {
    "duration": 111,
    "start_time": "2022-01-24T18:00:12.233Z"
   },
   {
    "duration": 24,
    "start_time": "2022-01-24T18:00:12.346Z"
   },
   {
    "duration": 58,
    "start_time": "2022-01-24T18:00:12.371Z"
   },
   {
    "duration": 85,
    "start_time": "2022-01-24T18:00:12.431Z"
   },
   {
    "duration": 5,
    "start_time": "2022-01-24T18:00:12.520Z"
   },
   {
    "duration": 43,
    "start_time": "2022-01-24T18:00:12.527Z"
   },
   {
    "duration": 35,
    "start_time": "2022-01-24T18:00:12.572Z"
   },
   {
    "duration": 36,
    "start_time": "2022-01-24T18:00:12.612Z"
   },
   {
    "duration": 17,
    "start_time": "2022-01-24T18:00:12.649Z"
   },
   {
    "duration": 47,
    "start_time": "2022-01-24T18:00:12.667Z"
   },
   {
    "duration": 18,
    "start_time": "2022-01-24T18:00:12.716Z"
   },
   {
    "duration": 33,
    "start_time": "2022-01-24T18:00:12.736Z"
   },
   {
    "duration": 7,
    "start_time": "2022-01-24T18:00:12.771Z"
   },
   {
    "duration": 24,
    "start_time": "2022-01-24T18:00:12.780Z"
   },
   {
    "duration": 35,
    "start_time": "2022-01-24T18:00:12.806Z"
   },
   {
    "duration": 9,
    "start_time": "2022-01-24T18:00:12.843Z"
   },
   {
    "duration": 4,
    "start_time": "2022-01-24T18:00:12.854Z"
   },
   {
    "duration": 272,
    "start_time": "2022-01-24T18:00:12.860Z"
   },
   {
    "duration": 16,
    "start_time": "2022-01-24T18:00:13.133Z"
   },
   {
    "duration": 55,
    "start_time": "2022-01-24T18:00:13.152Z"
   },
   {
    "duration": 664,
    "start_time": "2022-01-24T18:00:13.209Z"
   },
   {
    "duration": 676,
    "start_time": "2022-01-24T18:00:13.875Z"
   },
   {
    "duration": 14,
    "start_time": "2022-01-24T18:00:14.552Z"
   },
   {
    "duration": 374,
    "start_time": "2022-01-24T18:00:14.568Z"
   },
   {
    "duration": 259,
    "start_time": "2022-01-24T18:01:10.794Z"
   },
   {
    "duration": 3,
    "start_time": "2022-01-24T18:01:22.002Z"
   },
   {
    "duration": 450,
    "start_time": "2022-01-24T18:01:26.481Z"
   },
   {
    "duration": 451,
    "start_time": "2022-01-24T18:02:48.570Z"
   },
   {
    "duration": 10,
    "start_time": "2022-01-24T18:03:47.544Z"
   },
   {
    "duration": 4,
    "start_time": "2022-01-24T18:09:17.504Z"
   },
   {
    "duration": 1060,
    "start_time": "2022-01-24T18:16:03.244Z"
   },
   {
    "duration": 207,
    "start_time": "2022-01-24T18:16:04.307Z"
   },
   {
    "duration": 161,
    "start_time": "2022-01-24T18:16:04.517Z"
   },
   {
    "duration": 114,
    "start_time": "2022-01-24T18:16:04.681Z"
   },
   {
    "duration": 31,
    "start_time": "2022-01-24T18:16:04.805Z"
   },
   {
    "duration": 46,
    "start_time": "2022-01-24T18:16:04.837Z"
   },
   {
    "duration": 83,
    "start_time": "2022-01-24T18:16:04.885Z"
   },
   {
    "duration": 5,
    "start_time": "2022-01-24T18:16:04.971Z"
   },
   {
    "duration": 37,
    "start_time": "2022-01-24T18:16:04.978Z"
   },
   {
    "duration": 36,
    "start_time": "2022-01-24T18:16:05.018Z"
   },
   {
    "duration": 51,
    "start_time": "2022-01-24T18:16:05.056Z"
   },
   {
    "duration": 21,
    "start_time": "2022-01-24T18:16:05.110Z"
   },
   {
    "duration": 29,
    "start_time": "2022-01-24T18:16:05.134Z"
   },
   {
    "duration": 46,
    "start_time": "2022-01-24T18:16:05.165Z"
   },
   {
    "duration": 26,
    "start_time": "2022-01-24T18:16:05.213Z"
   },
   {
    "duration": 3,
    "start_time": "2022-01-24T18:16:05.241Z"
   },
   {
    "duration": 11,
    "start_time": "2022-01-24T18:16:05.246Z"
   },
   {
    "duration": 43,
    "start_time": "2022-01-24T18:16:05.259Z"
   },
   {
    "duration": 14,
    "start_time": "2022-01-24T18:16:05.305Z"
   },
   {
    "duration": 13,
    "start_time": "2022-01-24T18:16:05.321Z"
   },
   {
    "duration": 283,
    "start_time": "2022-01-24T18:16:05.336Z"
   },
   {
    "duration": 23,
    "start_time": "2022-01-24T18:16:05.621Z"
   },
   {
    "duration": 61,
    "start_time": "2022-01-24T18:16:05.647Z"
   },
   {
    "duration": 677,
    "start_time": "2022-01-24T18:16:05.710Z"
   },
   {
    "duration": 680,
    "start_time": "2022-01-24T18:16:06.389Z"
   },
   {
    "duration": 16,
    "start_time": "2022-01-24T18:16:07.071Z"
   },
   {
    "duration": 15,
    "start_time": "2022-01-24T18:16:07.101Z"
   },
   {
    "duration": 12,
    "start_time": "2022-01-24T18:16:07.118Z"
   },
   {
    "duration": 13,
    "start_time": "2022-01-24T18:18:04.413Z"
   },
   {
    "duration": 3,
    "start_time": "2022-01-24T18:19:10.976Z"
   },
   {
    "duration": 48,
    "start_time": "2022-01-24T19:10:00.965Z"
   },
   {
    "duration": 42,
    "start_time": "2022-01-24T19:13:32.608Z"
   },
   {
    "duration": 9,
    "start_time": "2022-01-24T19:14:07.986Z"
   },
   {
    "duration": 91,
    "start_time": "2022-01-24T19:14:54.460Z"
   },
   {
    "duration": 8,
    "start_time": "2022-01-24T19:14:57.298Z"
   },
   {
    "duration": 10,
    "start_time": "2022-01-24T19:15:49.609Z"
   },
   {
    "duration": 10,
    "start_time": "2022-01-24T19:15:55.567Z"
   },
   {
    "duration": 1055,
    "start_time": "2022-01-24T19:29:06.725Z"
   },
   {
    "duration": 170,
    "start_time": "2022-01-24T19:29:07.782Z"
   },
   {
    "duration": 146,
    "start_time": "2022-01-24T19:29:07.954Z"
   },
   {
    "duration": 98,
    "start_time": "2022-01-24T19:29:08.102Z"
   },
   {
    "duration": 24,
    "start_time": "2022-01-24T19:29:08.202Z"
   },
   {
    "duration": 36,
    "start_time": "2022-01-24T19:29:08.227Z"
   },
   {
    "duration": 68,
    "start_time": "2022-01-24T19:29:08.265Z"
   },
   {
    "duration": 4,
    "start_time": "2022-01-24T19:29:08.335Z"
   },
   {
    "duration": 24,
    "start_time": "2022-01-24T19:29:08.341Z"
   },
   {
    "duration": 39,
    "start_time": "2022-01-24T19:29:08.367Z"
   },
   {
    "duration": 32,
    "start_time": "2022-01-24T19:29:08.407Z"
   },
   {
    "duration": 15,
    "start_time": "2022-01-24T19:29:08.440Z"
   },
   {
    "duration": 48,
    "start_time": "2022-01-24T19:29:08.457Z"
   },
   {
    "duration": 17,
    "start_time": "2022-01-24T19:29:08.507Z"
   },
   {
    "duration": 20,
    "start_time": "2022-01-24T19:29:08.525Z"
   },
   {
    "duration": 2,
    "start_time": "2022-01-24T19:29:08.547Z"
   },
   {
    "duration": 12,
    "start_time": "2022-01-24T19:29:08.551Z"
   },
   {
    "duration": 41,
    "start_time": "2022-01-24T19:29:08.565Z"
   },
   {
    "duration": 9,
    "start_time": "2022-01-24T19:29:08.607Z"
   },
   {
    "duration": 4,
    "start_time": "2022-01-24T19:29:08.618Z"
   },
   {
    "duration": 233,
    "start_time": "2022-01-24T19:29:08.623Z"
   },
   {
    "duration": 17,
    "start_time": "2022-01-24T19:29:08.858Z"
   },
   {
    "duration": 51,
    "start_time": "2022-01-24T19:29:08.876Z"
   },
   {
    "duration": 605,
    "start_time": "2022-01-24T19:29:08.929Z"
   },
   {
    "duration": 631,
    "start_time": "2022-01-24T19:29:09.537Z"
   },
   {
    "duration": 28,
    "start_time": "2022-01-24T19:29:10.170Z"
   },
   {
    "duration": 10,
    "start_time": "2022-01-24T19:29:10.202Z"
   },
   {
    "duration": 4,
    "start_time": "2022-01-24T19:29:10.214Z"
   },
   {
    "duration": 10,
    "start_time": "2022-01-24T19:29:10.220Z"
   },
   {
    "duration": 9,
    "start_time": "2022-01-24T19:29:10.232Z"
   },
   {
    "duration": 3,
    "start_time": "2022-01-24T19:29:10.243Z"
   },
   {
    "duration": 26,
    "start_time": "2022-01-24T19:29:47.202Z"
   },
   {
    "duration": 37,
    "start_time": "2022-01-24T19:30:06.219Z"
   },
   {
    "duration": 31,
    "start_time": "2022-01-24T19:30:19.369Z"
   },
   {
    "duration": 32,
    "start_time": "2022-01-24T19:30:24.865Z"
   },
   {
    "duration": 12,
    "start_time": "2022-01-24T19:30:36.279Z"
   },
   {
    "duration": 1098,
    "start_time": "2022-01-24T19:30:49.690Z"
   },
   {
    "duration": 186,
    "start_time": "2022-01-24T19:30:50.791Z"
   },
   {
    "duration": 160,
    "start_time": "2022-01-24T19:30:50.980Z"
   },
   {
    "duration": 116,
    "start_time": "2022-01-24T19:30:51.143Z"
   },
   {
    "duration": 24,
    "start_time": "2022-01-24T19:30:51.261Z"
   },
   {
    "duration": 40,
    "start_time": "2022-01-24T19:30:51.287Z"
   },
   {
    "duration": 78,
    "start_time": "2022-01-24T19:30:51.329Z"
   },
   {
    "duration": 5,
    "start_time": "2022-01-24T19:30:51.409Z"
   },
   {
    "duration": 37,
    "start_time": "2022-01-24T19:30:51.417Z"
   },
   {
    "duration": 28,
    "start_time": "2022-01-24T19:30:51.455Z"
   },
   {
    "duration": 44,
    "start_time": "2022-01-24T19:30:51.484Z"
   },
   {
    "duration": 18,
    "start_time": "2022-01-24T19:30:51.530Z"
   },
   {
    "duration": 60,
    "start_time": "2022-01-24T19:30:51.549Z"
   },
   {
    "duration": 18,
    "start_time": "2022-01-24T19:30:51.612Z"
   },
   {
    "duration": 20,
    "start_time": "2022-01-24T19:30:51.632Z"
   },
   {
    "duration": 3,
    "start_time": "2022-01-24T19:30:51.653Z"
   },
   {
    "duration": 17,
    "start_time": "2022-01-24T19:30:51.657Z"
   },
   {
    "duration": 51,
    "start_time": "2022-01-24T19:30:51.675Z"
   },
   {
    "duration": 11,
    "start_time": "2022-01-24T19:30:51.728Z"
   },
   {
    "duration": 5,
    "start_time": "2022-01-24T19:30:51.741Z"
   },
   {
    "duration": 296,
    "start_time": "2022-01-24T19:30:51.748Z"
   },
   {
    "duration": 19,
    "start_time": "2022-01-24T19:30:52.045Z"
   },
   {
    "duration": 58,
    "start_time": "2022-01-24T19:30:52.066Z"
   },
   {
    "duration": 660,
    "start_time": "2022-01-24T19:30:52.127Z"
   },
   {
    "duration": 1078,
    "start_time": "2022-01-24T19:30:52.789Z"
   },
   {
    "duration": 15,
    "start_time": "2022-01-24T19:30:53.868Z"
   },
   {
    "duration": 24,
    "start_time": "2022-01-24T19:30:53.884Z"
   },
   {
    "duration": 4,
    "start_time": "2022-01-24T19:30:53.913Z"
   },
   {
    "duration": 12,
    "start_time": "2022-01-24T19:30:53.919Z"
   },
   {
    "duration": 13,
    "start_time": "2022-01-24T19:30:53.934Z"
   },
   {
    "duration": 4,
    "start_time": "2022-01-24T19:30:53.949Z"
   },
   {
    "duration": 13,
    "start_time": "2022-01-24T19:31:19.557Z"
   },
   {
    "duration": 1088,
    "start_time": "2022-02-01T08:08:11.708Z"
   },
   {
    "duration": 185,
    "start_time": "2022-02-01T08:08:12.797Z"
   },
   {
    "duration": 152,
    "start_time": "2022-02-01T08:08:12.984Z"
   },
   {
    "duration": 105,
    "start_time": "2022-02-01T08:08:13.138Z"
   },
   {
    "duration": 25,
    "start_time": "2022-02-01T08:08:13.245Z"
   },
   {
    "duration": 45,
    "start_time": "2022-02-01T08:08:13.272Z"
   },
   {
    "duration": 70,
    "start_time": "2022-02-01T08:08:13.318Z"
   },
   {
    "duration": 4,
    "start_time": "2022-02-01T08:08:13.390Z"
   },
   {
    "duration": 33,
    "start_time": "2022-02-01T08:08:13.396Z"
   },
   {
    "duration": 30,
    "start_time": "2022-02-01T08:08:13.431Z"
   },
   {
    "duration": 29,
    "start_time": "2022-02-01T08:08:13.463Z"
   },
   {
    "duration": 35,
    "start_time": "2022-02-01T08:08:13.494Z"
   },
   {
    "duration": 31,
    "start_time": "2022-02-01T08:08:13.531Z"
   },
   {
    "duration": 18,
    "start_time": "2022-02-01T08:08:13.564Z"
   },
   {
    "duration": 42,
    "start_time": "2022-02-01T08:08:13.583Z"
   },
   {
    "duration": 2,
    "start_time": "2022-02-01T08:08:13.627Z"
   },
   {
    "duration": 16,
    "start_time": "2022-02-01T08:08:13.631Z"
   },
   {
    "duration": 25,
    "start_time": "2022-02-01T08:08:13.649Z"
   },
   {
    "duration": 9,
    "start_time": "2022-02-01T08:08:13.676Z"
   },
   {
    "duration": 31,
    "start_time": "2022-02-01T08:08:13.687Z"
   },
   {
    "duration": 232,
    "start_time": "2022-02-01T08:08:13.721Z"
   },
   {
    "duration": 12,
    "start_time": "2022-02-01T08:08:13.954Z"
   },
   {
    "duration": 51,
    "start_time": "2022-02-01T08:08:13.968Z"
   },
   {
    "duration": 530,
    "start_time": "2022-02-01T08:08:14.021Z"
   },
   {
    "duration": 555,
    "start_time": "2022-02-01T08:08:14.552Z"
   },
   {
    "duration": 21,
    "start_time": "2022-02-01T08:08:15.109Z"
   },
   {
    "duration": 11,
    "start_time": "2022-02-01T08:08:15.133Z"
   },
   {
    "duration": 3,
    "start_time": "2022-02-01T08:08:15.146Z"
   },
   {
    "duration": 11,
    "start_time": "2022-02-01T08:08:15.151Z"
   },
   {
    "duration": 9,
    "start_time": "2022-02-01T08:08:15.164Z"
   },
   {
    "duration": 9,
    "start_time": "2022-02-01T08:08:15.174Z"
   },
   {
    "duration": 152,
    "start_time": "2022-02-01T08:11:34.903Z"
   },
   {
    "duration": 40,
    "start_time": "2022-02-01T08:11:44.512Z"
   },
   {
    "duration": 21,
    "start_time": "2022-02-01T08:11:47.126Z"
   },
   {
    "duration": 2650,
    "start_time": "2022-02-01T08:12:02.993Z"
   },
   {
    "duration": 1712,
    "start_time": "2022-02-01T08:12:08.886Z"
   },
   {
    "duration": 4,
    "start_time": "2022-02-01T08:13:01.769Z"
   },
   {
    "duration": 5,
    "start_time": "2022-02-01T08:13:07.304Z"
   },
   {
    "duration": 8,
    "start_time": "2022-02-01T08:13:44.746Z"
   },
   {
    "duration": 9,
    "start_time": "2022-02-01T08:15:06.820Z"
   }
  ],
  "kernelspec": {
   "display_name": "Python 3 (ipykernel)",
   "language": "python",
   "name": "python3"
  },
  "language_info": {
   "codemirror_mode": {
    "name": "ipython",
    "version": 3
   },
   "file_extension": ".py",
   "mimetype": "text/x-python",
   "name": "python",
   "nbconvert_exporter": "python",
   "pygments_lexer": "ipython3",
   "version": "3.9.7"
  },
  "toc": {
   "base_numbering": 1,
   "nav_menu": {},
   "number_sections": true,
   "sideBar": true,
   "skip_h1_title": true,
   "title_cell": "Содержание",
   "title_sidebar": "Содержание",
   "toc_cell": true,
   "toc_position": {
    "height": "calc(100% - 180px)",
    "left": "10px",
    "top": "150px",
    "width": "165px"
   },
   "toc_section_display": true,
   "toc_window_display": true
  },
  "varInspector": {
   "cols": {
    "lenName": 16,
    "lenType": 16,
    "lenVar": 40
   },
   "kernels_config": {
    "python": {
     "delete_cmd_postfix": "",
     "delete_cmd_prefix": "del ",
     "library": "var_list.py",
     "varRefreshCmd": "print(var_dic_list())"
    },
    "r": {
     "delete_cmd_postfix": ") ",
     "delete_cmd_prefix": "rm(",
     "library": "var_list.r",
     "varRefreshCmd": "cat(var_dic_list()) "
    }
   },
   "types_to_exclude": [
    "module",
    "function",
    "builtin_function_or_method",
    "instance",
    "_Feature"
   ],
   "window_display": false
  }
 },
 "nbformat": 4,
 "nbformat_minor": 2
}
