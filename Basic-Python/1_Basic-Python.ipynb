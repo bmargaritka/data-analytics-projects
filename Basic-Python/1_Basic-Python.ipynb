{
 "cells": [
  {
   "cell_type": "markdown",
   "metadata": {
    "id": "E0vqbgi9ay0H"
   },
   "source": [
    "# Яндекс.Музыка"
   ]
  },
  {
   "cell_type": "markdown",
   "metadata": {
    "id": "VUC88oWjTJw2"
   },
   "source": [
    "На данных Яндекс.Музыки предлагается сравнить поведение пользователей двух столиц.\n",
    "\n",
    "**Цель исследования** — проверить три гипотезы:\n",
    "1. Активность пользователей зависит от дня недели. Причём в Москве и Петербурге это проявляется по-разному.\n",
    "2. В понедельник утром в Москве преобладают одни жанры, а в Петербурге — другие. Так же и вечером пятницы преобладают разные жанры — в зависимости от города. \n",
    "3. Москва и Петербург предпочитают разные жанры музыки. В Москве чаще слушают поп-музыку, в Петербурге — русский рэп.\n",
    "\n",
    "**Ход исследования**\n",
    "Проверить данные на ошибки и оценить их влияние на исследование. Затем, на этапе предобработки исправить самые критичные ошибки данных.\n",
    " \n",
    "Таким образом, исследование пройдёт в три этапа:\n",
    " 1. Обзор данных.\n",
    " 2. Предобработка данных.\n",
    " 3. Проверка гипотез.\n"
   ]
  },
  {
   "cell_type": "markdown",
   "metadata": {
    "toc": true
   },
   "source": [
    "<h1>Содержание<span class=\"tocSkip\"></span></h1>\n",
    "<div class=\"toc\"><ul class=\"toc-item\"><li><span><a href=\"#Обзор-данных\" data-toc-modified-id=\"Обзор-данных-1\"><span class=\"toc-item-num\">1&nbsp;&nbsp;</span>Обзор данных</a></span></li><li><span><a href=\"#Предобработка-данных\" data-toc-modified-id=\"Предобработка-данных-2\"><span class=\"toc-item-num\">2&nbsp;&nbsp;</span>Предобработка данных</a></span><ul class=\"toc-item\"><li><span><a href=\"#Стиль-заголовков\" data-toc-modified-id=\"Стиль-заголовков-2.1\"><span class=\"toc-item-num\">2.1&nbsp;&nbsp;</span>Стиль заголовков</a></span></li><li><span><a href=\"#Пропуски-значений\" data-toc-modified-id=\"Пропуски-значений-2.2\"><span class=\"toc-item-num\">2.2&nbsp;&nbsp;</span>Пропуски значений</a></span></li><li><span><a href=\"#Дубликаты\" data-toc-modified-id=\"Дубликаты-2.3\"><span class=\"toc-item-num\">2.3&nbsp;&nbsp;</span>Дубликаты</a></span></li></ul></li><li><span><a href=\"#Проверка-гипотез\" data-toc-modified-id=\"Проверка-гипотез-3\"><span class=\"toc-item-num\">3&nbsp;&nbsp;</span>Проверка гипотез</a></span><ul class=\"toc-item\"><li><span><a href=\"#Сравнение-поведения-пользователей-двух-столиц\" data-toc-modified-id=\"Сравнение-поведения-пользователей-двух-столиц-3.1\"><span class=\"toc-item-num\">3.1&nbsp;&nbsp;</span>Сравнение поведения пользователей двух столиц</a></span></li><li><span><a href=\"#Музыка-в-начале-и-в-конце-недели\" data-toc-modified-id=\"Музыка-в-начале-и-в-конце-недели-3.2\"><span class=\"toc-item-num\">3.2&nbsp;&nbsp;</span>Музыка в начале и в конце недели</a></span></li><li><span><a href=\"#Жанровые-предпочтения-в-Москве-и-Петербурге\" data-toc-modified-id=\"Жанровые-предпочтения-в-Москве-и-Петербурге-3.3\"><span class=\"toc-item-num\">3.3&nbsp;&nbsp;</span>Жанровые предпочтения в Москве и Петербурге</a></span></li></ul></li><li><span><a href=\"#Итоги-исследования\" data-toc-modified-id=\"Итоги-исследования-4\"><span class=\"toc-item-num\">4&nbsp;&nbsp;</span>Итоги исследования</a></span></li></ul></div>"
   ]
  },
  {
   "cell_type": "markdown",
   "metadata": {
    "id": "Ml1hmfXC_Zcs"
   },
   "source": [
    "## Обзор данных\n",
    "\n",
    "Составим первое представление о данных Яндекс.Музыки."
   ]
  },
  {
   "cell_type": "code",
   "execution_count": 3,
   "metadata": {
    "id": "AXN7PHPN_Zcs"
   },
   "outputs": [],
   "source": [
    "# импорт библиотеки pandas\n",
    "import pandas as pd "
   ]
  },
  {
   "cell_type": "code",
   "execution_count": 4,
   "metadata": {
    "id": "fFVu7vqh_Zct"
   },
   "outputs": [],
   "source": [
    "# чтение файла yandex_music_project.csv и сохранение в df\n",
    "df = pd.read_csv('yandex_music_project.csv') "
   ]
  },
  {
   "cell_type": "code",
   "execution_count": 5,
   "metadata": {
    "id": "oWTVX3gW_Zct"
   },
   "outputs": [
    {
     "data": {
      "text/html": [
       "<div>\n",
       "<style scoped>\n",
       "    .dataframe tbody tr th:only-of-type {\n",
       "        vertical-align: middle;\n",
       "    }\n",
       "\n",
       "    .dataframe tbody tr th {\n",
       "        vertical-align: top;\n",
       "    }\n",
       "\n",
       "    .dataframe thead th {\n",
       "        text-align: right;\n",
       "    }\n",
       "</style>\n",
       "<table border=\"1\" class=\"dataframe\">\n",
       "  <thead>\n",
       "    <tr style=\"text-align: right;\">\n",
       "      <th></th>\n",
       "      <th>userID</th>\n",
       "      <th>Track</th>\n",
       "      <th>artist</th>\n",
       "      <th>genre</th>\n",
       "      <th>City</th>\n",
       "      <th>time</th>\n",
       "      <th>Day</th>\n",
       "    </tr>\n",
       "  </thead>\n",
       "  <tbody>\n",
       "    <tr>\n",
       "      <th>0</th>\n",
       "      <td>FFB692EC</td>\n",
       "      <td>Kamigata To Boots</td>\n",
       "      <td>The Mass Missile</td>\n",
       "      <td>rock</td>\n",
       "      <td>Saint-Petersburg</td>\n",
       "      <td>20:28:33</td>\n",
       "      <td>Wednesday</td>\n",
       "    </tr>\n",
       "    <tr>\n",
       "      <th>1</th>\n",
       "      <td>55204538</td>\n",
       "      <td>Delayed Because of Accident</td>\n",
       "      <td>Andreas Rönnberg</td>\n",
       "      <td>rock</td>\n",
       "      <td>Moscow</td>\n",
       "      <td>14:07:09</td>\n",
       "      <td>Friday</td>\n",
       "    </tr>\n",
       "    <tr>\n",
       "      <th>2</th>\n",
       "      <td>20EC38</td>\n",
       "      <td>Funiculì funiculà</td>\n",
       "      <td>Mario Lanza</td>\n",
       "      <td>pop</td>\n",
       "      <td>Saint-Petersburg</td>\n",
       "      <td>20:58:07</td>\n",
       "      <td>Wednesday</td>\n",
       "    </tr>\n",
       "    <tr>\n",
       "      <th>3</th>\n",
       "      <td>A3DD03C9</td>\n",
       "      <td>Dragons in the Sunset</td>\n",
       "      <td>Fire + Ice</td>\n",
       "      <td>folk</td>\n",
       "      <td>Saint-Petersburg</td>\n",
       "      <td>08:37:09</td>\n",
       "      <td>Monday</td>\n",
       "    </tr>\n",
       "    <tr>\n",
       "      <th>4</th>\n",
       "      <td>E2DC1FAE</td>\n",
       "      <td>Soul People</td>\n",
       "      <td>Space Echo</td>\n",
       "      <td>dance</td>\n",
       "      <td>Moscow</td>\n",
       "      <td>08:34:34</td>\n",
       "      <td>Monday</td>\n",
       "    </tr>\n",
       "    <tr>\n",
       "      <th>5</th>\n",
       "      <td>842029A1</td>\n",
       "      <td>Преданная</td>\n",
       "      <td>IMPERVTOR</td>\n",
       "      <td>rusrap</td>\n",
       "      <td>Saint-Petersburg</td>\n",
       "      <td>13:09:41</td>\n",
       "      <td>Friday</td>\n",
       "    </tr>\n",
       "    <tr>\n",
       "      <th>6</th>\n",
       "      <td>4CB90AA5</td>\n",
       "      <td>True</td>\n",
       "      <td>Roman Messer</td>\n",
       "      <td>dance</td>\n",
       "      <td>Moscow</td>\n",
       "      <td>13:00:07</td>\n",
       "      <td>Wednesday</td>\n",
       "    </tr>\n",
       "    <tr>\n",
       "      <th>7</th>\n",
       "      <td>F03E1C1F</td>\n",
       "      <td>Feeling This Way</td>\n",
       "      <td>Polina Griffith</td>\n",
       "      <td>dance</td>\n",
       "      <td>Moscow</td>\n",
       "      <td>20:47:49</td>\n",
       "      <td>Wednesday</td>\n",
       "    </tr>\n",
       "    <tr>\n",
       "      <th>8</th>\n",
       "      <td>8FA1D3BE</td>\n",
       "      <td>И вновь продолжается бой</td>\n",
       "      <td>NaN</td>\n",
       "      <td>ruspop</td>\n",
       "      <td>Moscow</td>\n",
       "      <td>09:17:40</td>\n",
       "      <td>Friday</td>\n",
       "    </tr>\n",
       "    <tr>\n",
       "      <th>9</th>\n",
       "      <td>E772D5C0</td>\n",
       "      <td>Pessimist</td>\n",
       "      <td>NaN</td>\n",
       "      <td>dance</td>\n",
       "      <td>Saint-Petersburg</td>\n",
       "      <td>21:20:49</td>\n",
       "      <td>Wednesday</td>\n",
       "    </tr>\n",
       "  </tbody>\n",
       "</table>\n",
       "</div>"
      ],
      "text/plain": [
       "     userID                        Track            artist   genre  \\\n",
       "0  FFB692EC            Kamigata To Boots  The Mass Missile    rock   \n",
       "1  55204538  Delayed Because of Accident  Andreas Rönnberg    rock   \n",
       "2    20EC38            Funiculì funiculà       Mario Lanza     pop   \n",
       "3  A3DD03C9        Dragons in the Sunset        Fire + Ice    folk   \n",
       "4  E2DC1FAE                  Soul People        Space Echo   dance   \n",
       "5  842029A1                    Преданная         IMPERVTOR  rusrap   \n",
       "6  4CB90AA5                         True      Roman Messer   dance   \n",
       "7  F03E1C1F             Feeling This Way   Polina Griffith   dance   \n",
       "8  8FA1D3BE     И вновь продолжается бой               NaN  ruspop   \n",
       "9  E772D5C0                    Pessimist               NaN   dance   \n",
       "\n",
       "             City        time        Day  \n",
       "0  Saint-Petersburg  20:28:33  Wednesday  \n",
       "1            Moscow  14:07:09     Friday  \n",
       "2  Saint-Petersburg  20:58:07  Wednesday  \n",
       "3  Saint-Petersburg  08:37:09     Monday  \n",
       "4            Moscow  08:34:34     Monday  \n",
       "5  Saint-Petersburg  13:09:41     Friday  \n",
       "6            Moscow  13:00:07  Wednesday  \n",
       "7            Moscow  20:47:49  Wednesday  \n",
       "8            Moscow  09:17:40     Friday  \n",
       "9  Saint-Petersburg  21:20:49  Wednesday  "
      ]
     },
     "execution_count": 5,
     "metadata": {},
     "output_type": "execute_result"
    }
   ],
   "source": [
    "# вывод на экран первых десяти строк таблицы df\n",
    "df.head(10)"
   ]
  },
  {
   "cell_type": "code",
   "execution_count": 6,
   "metadata": {
    "id": "DSf2kIb-_Zct"
   },
   "outputs": [
    {
     "name": "stdout",
     "output_type": "stream",
     "text": [
      "<class 'pandas.core.frame.DataFrame'>\n",
      "RangeIndex: 65079 entries, 0 to 65078\n",
      "Data columns (total 7 columns):\n",
      " #   Column    Non-Null Count  Dtype \n",
      "---  ------    --------------  ----- \n",
      " 0     userID  65079 non-null  object\n",
      " 1   Track     63848 non-null  object\n",
      " 2   artist    57876 non-null  object\n",
      " 3   genre     63881 non-null  object\n",
      " 4     City    65079 non-null  object\n",
      " 5   time      65079 non-null  object\n",
      " 6   Day       65079 non-null  object\n",
      "dtypes: object(7)\n",
      "memory usage: 3.5+ MB\n"
     ]
    }
   ],
   "source": [
    "# вывод на экран общей информации о таблице df\n",
    "df.info() "
   ]
  },
  {
   "cell_type": "markdown",
   "metadata": {
    "id": "TaQ2Iwbr_Zct"
   },
   "source": [
    "Итак, в таблице семь столбцов. Тип данных во всех столбцах — `object`.\n",
    "\n",
    "Согласно документации к данным:\n",
    "* `userID` — идентификатор пользователя;\n",
    "* `Track` — название трека;  \n",
    "* `artist` — имя исполнителя;\n",
    "* `genre` — название жанра;\n",
    "* `City` — город пользователя;\n",
    "* `time` — время начала прослушивания;\n",
    "* `Day` — день недели.\n",
    "\n",
    "В названиях колонок видны три нарушения стиля:\n",
    "1. Строчные буквы сочетаются с прописными.\n",
    "2. Встречаются пробелы.\n",
    "3. Названия, состоящие из двух и более слов написаны не в змеином_регистре. \n",
    "\n",
    "\n",
    "\n",
    "Количество значений в столбцах различается. Значит, в данных есть пропущенные значения.\n"
   ]
  },
  {
   "cell_type": "markdown",
   "metadata": {
    "id": "MCB6-dXG_Zct"
   },
   "source": [
    "**Вывод**\n",
    "\n",
    "В каждой строке таблицы — данные о прослушанном треке. Часть колонок описывает саму композицию: название, исполнителя и жанр. Остальные данные рассказывают о пользователе: из какого он города, когда он слушал музыку. \n",
    "\n",
    "Предварительно можно утверждать, что, данных достаточно для проверки гипотез. Но встречаются пропуски в данных, а в названиях колонок — расхождения с хорошим стилем.\n",
    "\n",
    "Чтобы двигаться дальше, нужно устранить проблемы в данных."
   ]
  },
  {
   "cell_type": "markdown",
   "metadata": {
    "id": "SjYF6Ub9_Zct"
   },
   "source": [
    "## Предобработка данных\n",
    "Исправим ошибки, обнаруженные на предыдущем этапе. "
   ]
  },
  {
   "cell_type": "markdown",
   "metadata": {
    "id": "dIaKXr29_Zct"
   },
   "source": [
    "### Стиль заголовков\n",
    "Посмотрим на названия всех столбцов."
   ]
  },
  {
   "cell_type": "code",
   "execution_count": 7,
   "metadata": {
    "id": "oKOTdF_Q_Zct"
   },
   "outputs": [
    {
     "data": {
      "text/plain": [
       "Index(['  userID', 'Track', 'artist', 'genre', '  City  ', 'time', 'Day'], dtype='object')"
      ]
     },
     "execution_count": 7,
     "metadata": {},
     "output_type": "execute_result"
    }
   ],
   "source": [
    "# вывод на экран названий всех столбцов таблицы df\n",
    "df.columns "
   ]
  },
  {
   "cell_type": "markdown",
   "metadata": {
    "id": "zj5534cv_Zct"
   },
   "source": [
    "Приведем названия в соответствие с хорошим стилем."
   ]
  },
  {
   "cell_type": "code",
   "execution_count": 8,
   "metadata": {
    "id": "ISlFqs5y_Zct"
   },
   "outputs": [],
   "source": [
    "# переименование некоторых столбцов \n",
    "df = df.rename(columns={'  userID' : 'user_id', 'Track' : 'track', '  City  ' : 'city', 'Day' : 'day'})"
   ]
  },
  {
   "cell_type": "code",
   "execution_count": 9,
   "metadata": {
    "id": "d4NOAmTW_Zct"
   },
   "outputs": [
    {
     "data": {
      "text/plain": [
       "Index(['user_id', 'track', 'artist', 'genre', 'city', 'time', 'day'], dtype='object')"
      ]
     },
     "execution_count": 9,
     "metadata": {},
     "output_type": "execute_result"
    }
   ],
   "source": [
    "# вывод на экран новых названий всех столбцов таблицы df\n",
    "df.columns "
   ]
  },
  {
   "cell_type": "markdown",
   "metadata": {
    "id": "5ISfbcfY_Zct"
   },
   "source": [
    "### Пропуски значений\n",
    "Посмотрим, сколько пропусков в каждом столбце. Так как количество пропусков нам ни о чём не скажет, найдём сразу процент пропусков. "
   ]
  },
  {
   "cell_type": "code",
   "execution_count": 10,
   "metadata": {
    "id": "RskX29qr_Zct"
   },
   "outputs": [
    {
     "data": {
      "text/plain": [
       "user_id     0.000000\n",
       "track       1.891547\n",
       "artist     11.068086\n",
       "genre       1.840840\n",
       "city        0.000000\n",
       "time        0.000000\n",
       "day         0.000000\n",
       "dtype: float64"
      ]
     },
     "execution_count": 10,
     "metadata": {},
     "output_type": "execute_result"
    }
   ],
   "source": [
    "# сумма всех пропусков в таблице\n",
    "df.isna().sum() / df.shape[0] * 100"
   ]
  },
  {
   "cell_type": "markdown",
   "metadata": {
    "id": "qubhgnlO_Zct"
   },
   "source": [
    "Не все пропущенные значения влияют на исследование. Так в `track` и `artist` пропуски не важны для вашей работы. Достаточно заменить их явными обозначениями.\n",
    "\n",
    "Но пропуски в `genre` могут помешать сравнению музыкальных вкусов в Москве и Санкт-Петербурге. На практике было бы правильно установить причину пропусков и восстановить данные. Такой возможности нет в учебном проекте. Придётся:\n",
    "* заполнить и эти пропуски явными обозначениями,\n",
    "* оценить, насколько они повредят расчётам. "
   ]
  },
  {
   "cell_type": "markdown",
   "metadata": {
    "id": "fSv2laPA_Zct"
   },
   "source": [
    "Заменим пропущенные значения в столбцах `track`, `artist` и `genre` на строку `'unknown'`. "
   ]
  },
  {
   "cell_type": "code",
   "execution_count": 11,
   "metadata": {
    "id": "KplB5qWs_Zct"
   },
   "outputs": [],
   "source": [
    "# замена пропущенных значений на 'unknown'\n",
    "for column_name in ['track', 'artist', 'genre']:\n",
    "    df[column_name] = df[column_name].fillna('unknown')"
   ]
  },
  {
   "cell_type": "markdown",
   "metadata": {
    "id": "Ilsm-MZo_Zct"
   },
   "source": [
    "Проверим наличие пропусков теперь."
   ]
  },
  {
   "cell_type": "code",
   "execution_count": 12,
   "metadata": {
    "id": "Tq4nYRX4_Zct"
   },
   "outputs": [
    {
     "data": {
      "text/plain": [
       "user_id    0\n",
       "track      0\n",
       "artist     0\n",
       "genre      0\n",
       "city       0\n",
       "time       0\n",
       "day        0\n",
       "dtype: int64"
      ]
     },
     "execution_count": 12,
     "metadata": {},
     "output_type": "execute_result"
    }
   ],
   "source": [
    "# подсчёт пропусков\n",
    "df.isna().sum()"
   ]
  },
  {
   "cell_type": "markdown",
   "metadata": {
    "id": "BWKRtBJ3_Zct"
   },
   "source": [
    "### Дубликаты\n",
    "Проверим, сколько строк-дубликатов есть в таблице."
   ]
  },
  {
   "cell_type": "code",
   "execution_count": 13,
   "metadata": {
    "id": "36eES_S0_Zct"
   },
   "outputs": [
    {
     "data": {
      "text/plain": [
       "3826"
      ]
     },
     "execution_count": 13,
     "metadata": {},
     "output_type": "execute_result"
    }
   ],
   "source": [
    "# подсчёт дубликатов\n",
    "df.duplicated().sum()"
   ]
  },
  {
   "cell_type": "markdown",
   "metadata": {
    "id": "Ot25h6XR_Zct"
   },
   "source": [
    "Много дубликатов, но они нам не нужны. Удалим их."
   ]
  },
  {
   "cell_type": "code",
   "execution_count": 12,
   "metadata": {
    "id": "exFHq6tt_Zct"
   },
   "outputs": [],
   "source": [
    "# удаление явных дубликатов (с удалением старых индексов и формированием новых)\n",
    "df = df.drop_duplicates().reset_index(drop=True)"
   ]
  },
  {
   "cell_type": "code",
   "execution_count": 13,
   "metadata": {
    "id": "-8PuNWQ0_Zct"
   },
   "outputs": [
    {
     "data": {
      "text/plain": [
       "0"
      ]
     },
     "execution_count": 13,
     "metadata": {},
     "output_type": "execute_result"
    }
   ],
   "source": [
    "# проверка на отсутствие дубликатов\n",
    "df.duplicated().sum()"
   ]
  },
  {
   "cell_type": "markdown",
   "metadata": {
    "id": "QlFBsxAr_Zct"
   },
   "source": [
    "Явные дубликаты удалены, теперь избавимся от неявных дубликатов в колонке `genre`. Например, название одного и того же жанра может быть записано немного по-разному. Такие ошибки тоже повлияют на результат исследования."
   ]
  },
  {
   "cell_type": "code",
   "execution_count": 14,
   "metadata": {
    "id": "JIUcqzZN_Zct"
   },
   "outputs": [
    {
     "data": {
      "text/plain": [
       "array(['acid', 'acoustic', 'action', 'adult', 'africa', 'afrikaans',\n",
       "       'alternative', 'alternativepunk', 'ambient', 'americana',\n",
       "       'animated', 'anime', 'arabesk', 'arabic', 'arena',\n",
       "       'argentinetango', 'art', 'audiobook', 'author', 'avantgarde',\n",
       "       'axé', 'baile', 'balkan', 'beats', 'bigroom', 'black', 'bluegrass',\n",
       "       'blues', 'bollywood', 'bossa', 'brazilian', 'breakbeat', 'breaks',\n",
       "       'broadway', 'cantautori', 'cantopop', 'canzone', 'caribbean',\n",
       "       'caucasian', 'celtic', 'chamber', 'chanson', 'children', 'chill',\n",
       "       'chinese', 'choral', 'christian', 'christmas', 'classical',\n",
       "       'classicmetal', 'club', 'colombian', 'comedy', 'conjazz',\n",
       "       'contemporary', 'country', 'cuban', 'dance', 'dancehall',\n",
       "       'dancepop', 'dark', 'death', 'deep', 'deutschrock', 'deutschspr',\n",
       "       'dirty', 'disco', 'dnb', 'documentary', 'downbeat', 'downtempo',\n",
       "       'drum', 'dub', 'dubstep', 'eastern', 'easy', 'electronic',\n",
       "       'electropop', 'emo', 'entehno', 'epicmetal', 'estrada', 'ethnic',\n",
       "       'eurofolk', 'european', 'experimental', 'extrememetal', 'fado',\n",
       "       'fairytail', 'film', 'fitness', 'flamenco', 'folk', 'folklore',\n",
       "       'folkmetal', 'folkrock', 'folktronica', 'forró', 'frankreich',\n",
       "       'französisch', 'french', 'funk', 'future', 'gangsta', 'garage',\n",
       "       'german', 'ghazal', 'gitarre', 'glitch', 'gospel', 'gothic',\n",
       "       'grime', 'grunge', 'gypsy', 'handsup', \"hard'n'heavy\", 'hardcore',\n",
       "       'hardstyle', 'hardtechno', 'hip', 'hip-hop', 'hiphop',\n",
       "       'historisch', 'holiday', 'hop', 'horror', 'house', 'hymn', 'idm',\n",
       "       'independent', 'indian', 'indie', 'indipop', 'industrial',\n",
       "       'inspirational', 'instrumental', 'international', 'irish', 'jam',\n",
       "       'japanese', 'jazz', 'jewish', 'jpop', 'jungle', 'k-pop',\n",
       "       'karadeniz', 'karaoke', 'kayokyoku', 'korean', 'laiko', 'latin',\n",
       "       'latino', 'leftfield', 'local', 'lounge', 'loungeelectronic',\n",
       "       'lovers', 'malaysian', 'mandopop', 'marschmusik', 'meditative',\n",
       "       'mediterranean', 'melodic', 'metal', 'metalcore', 'mexican',\n",
       "       'middle', 'minimal', 'miscellaneous', 'modern', 'mood', 'mpb',\n",
       "       'muslim', 'native', 'neoklassik', 'neue', 'new', 'newage',\n",
       "       'newwave', 'nu', 'nujazz', 'numetal', 'oceania', 'old', 'opera',\n",
       "       'orchestral', 'other', 'piano', 'podcasts', 'pop', 'popdance',\n",
       "       'popelectronic', 'popeurodance', 'poprussian', 'post',\n",
       "       'posthardcore', 'postrock', 'power', 'progmetal', 'progressive',\n",
       "       'psychedelic', 'punjabi', 'punk', 'quebecois', 'ragga', 'ram',\n",
       "       'rancheras', 'rap', 'rave', 'reggae', 'reggaeton', 'regional',\n",
       "       'relax', 'religious', 'retro', 'rhythm', 'rnb', 'rnr', 'rock',\n",
       "       'rockabilly', 'rockalternative', 'rockindie', 'rockother',\n",
       "       'romance', 'roots', 'ruspop', 'rusrap', 'rusrock', 'russian',\n",
       "       'salsa', 'samba', 'scenic', 'schlager', 'self', 'sertanejo',\n",
       "       'shanson', 'shoegazing', 'showtunes', 'singer', 'ska', 'skarock',\n",
       "       'slow', 'smooth', 'soft', 'soul', 'soulful', 'sound', 'soundtrack',\n",
       "       'southern', 'specialty', 'speech', 'spiritual', 'sport',\n",
       "       'stonerrock', 'surf', 'swing', 'synthpop', 'synthrock',\n",
       "       'sängerportrait', 'tango', 'tanzorchester', 'taraftar', 'tatar',\n",
       "       'tech', 'techno', 'teen', 'thrash', 'top', 'traditional',\n",
       "       'tradjazz', 'trance', 'tribal', 'trip', 'triphop', 'tropical',\n",
       "       'türk', 'türkçe', 'ukrrock', 'unknown', 'urban', 'uzbek',\n",
       "       'variété', 'vi', 'videogame', 'vocal', 'western', 'world',\n",
       "       'worldbeat', 'ïîï', 'электроника'], dtype=object)"
      ]
     },
     "execution_count": 14,
     "metadata": {},
     "output_type": "execute_result"
    }
   ],
   "source": [
    "# Просмотр уникальных названий жанров\n",
    "df['genre'].sort_values().unique()"
   ]
  },
  {
   "cell_type": "markdown",
   "metadata": {
    "id": "qej-Qmuo_Zct"
   },
   "source": [
    "Видны аналоги жанров `hiphop` и `electronic`:\n",
    "* *hip*,\n",
    "* *hop*,\n",
    "* *hip-hop*.\n",
    "* *электроника*"
   ]
  },
  {
   "cell_type": "code",
   "execution_count": 14,
   "metadata": {
    "id": "ErNDkmns_Zct"
   },
   "outputs": [],
   "source": [
    "# Функция для замены неявных дубликатов\n",
    "'''\n",
    "Функция должна исправить колонку `genre` в таблице `df`:\n",
    "заменить каждое значение из списка `wrong_genres` на значение из `correct_genre`.\n",
    "    `wrong_genres` — список дубликатов,\n",
    "    `correct_genre` — строка с правильным значением.\n",
    "'''\n",
    "def replace_wrong_genres(wrong_genres, correct_genre):\n",
    "    for wrong_genre in wrong_genres:\n",
    "        df['genre'] = df['genre'].replace(wrong_genre, correct_genre)"
   ]
  },
  {
   "cell_type": "code",
   "execution_count": 16,
   "metadata": {
    "id": "YN5i2hpmSo09"
   },
   "outputs": [],
   "source": [
    "# Устранение неявных дубликатов\n",
    "replace_wrong_genres(['hip', 'hop', 'hip-hop'], 'hiphop')\n",
    "replace_wrong_genres(['электроника'], 'electronic')"
   ]
  },
  {
   "cell_type": "markdown",
   "metadata": {
    "id": "jz6a9-7HQUDd"
   },
   "source": [
    "**Выводы**\n",
    "\n",
    "Предобработка обнаружила три проблемы в данных:\n",
    "\n",
    "- нарушения в стиле заголовков,\n",
    "- пропущенные значения,\n",
    "- дубликаты — явные и неявные.\n",
    "\n",
    "Были исправлены заголовки, чтобы упростить работу с таблицей. Без дубликатов исследование станет более точным.\n",
    "\n",
    "Пропущенные значения заменены на `'unknown'`.\n",
    "\n",
    "Теперь можно перейти к проверке гипотез. "
   ]
  },
  {
   "cell_type": "markdown",
   "metadata": {
    "id": "WttZHXH0SqKk"
   },
   "source": [
    "## Проверка гипотез"
   ]
  },
  {
   "cell_type": "markdown",
   "metadata": {
    "id": "Im936VVi_Zcu"
   },
   "source": [
    "### Сравнение поведения пользователей двух столиц"
   ]
  },
  {
   "cell_type": "markdown",
   "metadata": {
    "id": "nwt_MuaL_Zcu"
   },
   "source": [
    "Первая гипотеза утверждает, что пользователи по-разному слушают музыку в Москве и Санкт-Петербурге. Проверим это предположение по данным о трёх днях недели — понедельнике, среде и пятнице. Для этого:\n",
    "\n",
    "* Разделим пользователей Москвы и Санкт-Петербурга\n",
    "* Сравним, сколько треков послушала каждая группа пользователей в понедельник, среду и пятницу.\n"
   ]
  },
  {
   "cell_type": "markdown",
   "metadata": {
    "id": "8Dw_YMmT_Zcu"
   },
   "source": [
    "Оценим активность пользователей в каждом городе. "
   ]
  },
  {
   "cell_type": "code",
   "execution_count": 18,
   "metadata": {
    "id": "0_Qs96oh_Zcu"
   },
   "outputs": [
    {
     "data": {
      "text/plain": [
       "city\n",
       "Moscow              42741\n",
       "Saint-Petersburg    18512\n",
       "Name: track, dtype: int64"
      ]
     },
     "execution_count": 18,
     "metadata": {},
     "output_type": "execute_result"
    }
   ],
   "source": [
    "# Подсчёт прослушиваний в каждом городе\n",
    "df.groupby('city')['track'].count()"
   ]
  },
  {
   "cell_type": "markdown",
   "metadata": {
    "id": "dzli3w8o_Zcu"
   },
   "source": [
    "В Москве прослушиваний больше, чем в Петербурге. Из этого не следует, что московские пользователи чаще слушают музыку. Просто самих пользователей в Москве больше.\n",
    "\n",
    "Теперь сгруппируем данные по дню недели и подсчитайте прослушивания в понедельник, среду и пятницу."
   ]
  },
  {
   "cell_type": "code",
   "execution_count": 19,
   "metadata": {
    "id": "uZMKjiJz_Zcu"
   },
   "outputs": [
    {
     "data": {
      "text/plain": [
       "day\n",
       "Friday       21840\n",
       "Monday       21354\n",
       "Wednesday    18059\n",
       "Name: track, dtype: int64"
      ]
     },
     "execution_count": 19,
     "metadata": {},
     "output_type": "execute_result"
    }
   ],
   "source": [
    "# Подсчёт прослушиваний в каждый из трёх дней\n",
    "df.groupby('day')['track'].count()"
   ]
  },
  {
   "cell_type": "markdown",
   "metadata": {
    "id": "cC2tNrlL_Zcu"
   },
   "source": [
    "В среднем пользователи из двух городов менее активны по средам. Но картина может измениться, если рассмотреть каждый город в отдельности."
   ]
  },
  {
   "cell_type": "markdown",
   "metadata": {
    "id": "POzs8bGa_Zcu"
   },
   "source": [
    "Теперь сделаем группировку по городу и дню недели."
   ]
  },
  {
   "cell_type": "code",
   "execution_count": 21,
   "metadata": {},
   "outputs": [
    {
     "data": {
      "text/html": [
       "<div>\n",
       "<style scoped>\n",
       "    .dataframe tbody tr th:only-of-type {\n",
       "        vertical-align: middle;\n",
       "    }\n",
       "\n",
       "    .dataframe tbody tr th {\n",
       "        vertical-align: top;\n",
       "    }\n",
       "\n",
       "    .dataframe thead th {\n",
       "        text-align: right;\n",
       "    }\n",
       "</style>\n",
       "<table border=\"1\" class=\"dataframe\">\n",
       "  <thead>\n",
       "    <tr style=\"text-align: right;\">\n",
       "      <th>day</th>\n",
       "      <th>Friday</th>\n",
       "      <th>Monday</th>\n",
       "      <th>Wednesday</th>\n",
       "    </tr>\n",
       "    <tr>\n",
       "      <th>city</th>\n",
       "      <th></th>\n",
       "      <th></th>\n",
       "      <th></th>\n",
       "    </tr>\n",
       "  </thead>\n",
       "  <tbody>\n",
       "    <tr>\n",
       "      <th>Moscow</th>\n",
       "      <td>16890</td>\n",
       "      <td>16715</td>\n",
       "      <td>11755</td>\n",
       "    </tr>\n",
       "    <tr>\n",
       "      <th>Saint-Petersburg</th>\n",
       "      <td>6259</td>\n",
       "      <td>5982</td>\n",
       "      <td>7478</td>\n",
       "    </tr>\n",
       "  </tbody>\n",
       "</table>\n",
       "</div>"
      ],
      "text/plain": [
       "day               Friday  Monday  Wednesday\n",
       "city                                       \n",
       "Moscow             16890   16715      11755\n",
       "Saint-Petersburg    6259    5982       7478"
      ]
     },
     "execution_count": 21,
     "metadata": {},
     "output_type": "execute_result"
    }
   ],
   "source": [
    "df.pivot_table(index='city', columns='day', values='user_id', aggfunc='count')"
   ]
  },
  {
   "cell_type": "markdown",
   "metadata": {
    "id": "-EgPIHYu_Zcu"
   },
   "source": [
    "**Выводы**\n",
    "\n",
    "Данные показывают разницу поведения пользователей:\n",
    "\n",
    "- В Москве пик прослушиваний приходится на понедельник и пятницу, а в среду заметен спад.\n",
    "- В Петербурге, наоборот, больше слушают музыку по средам. Активность в понедельник и пятницу здесь почти в равной мере уступает среде.\n",
    "\n",
    "Значит, данные говорят в пользу первой гипотезы."
   ]
  },
  {
   "cell_type": "markdown",
   "metadata": {
    "id": "atZAxtq4_Zcu"
   },
   "source": [
    "### Музыка в начале и в конце недели"
   ]
  },
  {
   "cell_type": "markdown",
   "metadata": {
    "id": "eXrQqXFH_Zcu"
   },
   "source": [
    "Согласно второй гипотезе, утром в понедельник в Москве преобладают одни жанры, а в Петербурге — другие. Так же и вечером пятницы преобладают разные жанры — в зависимости от города."
   ]
  },
  {
   "cell_type": "markdown",
   "metadata": {
    "id": "S8UcW6Hw_Zcu"
   },
   "source": [
    "Сохраним таблицы с данными в две переменные:\n",
    "* по Москве — в `moscow_general`;\n",
    "* по Санкт-Петербургу — в `spb_general`."
   ]
  },
  {
   "cell_type": "code",
   "execution_count": 23,
   "metadata": {
    "id": "qeaFfM_P_Zcu"
   },
   "outputs": [],
   "source": [
    "# получение таблицы где в столбце 'city' равно 'Moscow'\n",
    "moscow_general = df.query('city == \\'Moscow\\'')"
   ]
  },
  {
   "cell_type": "code",
   "execution_count": 24,
   "metadata": {
    "id": "ORaVRKto_Zcu"
   },
   "outputs": [],
   "source": [
    "# получение таблицы где в столбце 'city' равно 'Saint-Petersburg'\n",
    "spb_general = df.query('city == \\'Saint-Petersburg\\'')"
   ]
  },
  {
   "cell_type": "markdown",
   "metadata": {
    "id": "MEJV-CX2_Zcu"
   },
   "source": [
    "Создадим функцию `genre_weekday()` с четырьмя параметрами:\n",
    "* таблица (датафрейм) с данными,\n",
    "* день недели,\n",
    "* начальная временная метка в формате 'hh:mm', \n",
    "* последняя временная метка в формате 'hh:mm'.\n",
    "\n",
    "Функция должна вернуть информацию о топ-10 жанров тех треков, которые прослушивали в указанный день, в промежутке между двумя отметками времени."
   ]
  },
  {
   "cell_type": "code",
   "execution_count": 25,
   "metadata": {
    "id": "laJT9BYl_Zcu"
   },
   "outputs": [],
   "source": [
    "'''\n",
    "Объявление функции genre_weekday() с параметрами table, day, time1, time2,\n",
    "которая возвращает информацию о самых популярных жанрах в указанный день в\n",
    "заданное время:\n",
    "1) в переменную genre_df сохраняются те строки переданного датафрейма table, для\n",
    "   которых одновременно:\n",
    "   - значение в столбце day равно значению аргумента day\n",
    "   - значение в столбце time больше значения аргумента time1\n",
    "   - значение в столбце time меньше значения аргумента time2\n",
    "   Используйте последовательную фильтрацию с помощью логической индексации.\n",
    "2) сгруппировать датафрейм genre_df по столбцу genre, взять один из его\n",
    "   столбцов и посчитать методом count() количество записей для каждого из\n",
    "   присутствующих жанров, получившийся Series записать в переменную\n",
    "   genre_df_count\n",
    "3) отсортировать genre_df_count по убыванию встречаемости и сохранить\n",
    "   в переменную genre_df_sorted\n",
    "4) вернуть Series из 10 первых значений genre_df_sorted, это будут топ-10\n",
    "   популярных жанров (в указанный день, в заданное время)\n",
    "'''\n",
    "def genre_weekday(table, day, time1, time2):\n",
    "    genre_df = table.query('@day==day and @time1 < time < @time2')\n",
    "    \n",
    "    genre_df_count = genre_df.groupby('genre')['track'].count()\n",
    "    \n",
    "    genre_df_sorted = genre_df_count.sort_values(ascending=False)\n",
    "    \n",
    "    return genre_df_sorted.head(10)"
   ]
  },
  {
   "cell_type": "markdown",
   "metadata": {
    "id": "la2s2_PF_Zcu"
   },
   "source": [
    "Cравним результаты функции `genre_weekday()` для Москвы и Санкт-Петербурга в понедельник утром (с 7:00 до 11:00) и в пятницу вечером (с 17:00 до 23:00):"
   ]
  },
  {
   "cell_type": "code",
   "execution_count": 26,
   "metadata": {
    "id": "yz7itPUQ_Zcu"
   },
   "outputs": [
    {
     "data": {
      "text/plain": [
       "genre\n",
       "pop            781\n",
       "dance          549\n",
       "electronic     480\n",
       "rock           474\n",
       "hiphop         286\n",
       "ruspop         186\n",
       "world          181\n",
       "rusrap         175\n",
       "alternative    164\n",
       "unknown        161\n",
       "Name: track, dtype: int64"
      ]
     },
     "execution_count": 26,
     "metadata": {},
     "output_type": "execute_result"
    }
   ],
   "source": [
    "# вызов функции для утра понедельника в Москве \n",
    "# объекты, хранящие время, являются строками и сравниваются как строки\n",
    "genre_weekday(moscow_general, 'Monday', '07:00', '11:00')"
   ]
  },
  {
   "cell_type": "code",
   "execution_count": 27,
   "metadata": {
    "id": "kwUcHPdy_Zcu"
   },
   "outputs": [
    {
     "data": {
      "text/plain": [
       "genre\n",
       "pop            218\n",
       "dance          182\n",
       "rock           162\n",
       "electronic     147\n",
       "hiphop          80\n",
       "ruspop          64\n",
       "alternative     58\n",
       "rusrap          55\n",
       "jazz            44\n",
       "classical       40\n",
       "Name: track, dtype: int64"
      ]
     },
     "execution_count": 27,
     "metadata": {},
     "output_type": "execute_result"
    }
   ],
   "source": [
    "# вызов функции для утра понедельника в Петербурге \n",
    "genre_weekday(spb_general, 'Monday', '07:00', '11:00')"
   ]
  },
  {
   "cell_type": "code",
   "execution_count": 28,
   "metadata": {
    "id": "EzXVRE1o_Zcu"
   },
   "outputs": [
    {
     "data": {
      "text/plain": [
       "genre\n",
       "pop            713\n",
       "rock           517\n",
       "dance          495\n",
       "electronic     482\n",
       "hiphop         273\n",
       "world          208\n",
       "ruspop         170\n",
       "alternative    163\n",
       "classical      163\n",
       "rusrap         142\n",
       "Name: track, dtype: int64"
      ]
     },
     "execution_count": 28,
     "metadata": {},
     "output_type": "execute_result"
    }
   ],
   "source": [
    "# вызов функции для вечера пятницы в Москве\n",
    "genre_weekday(moscow_general, 'Friday', '17:00', '23:00')"
   ]
  },
  {
   "cell_type": "code",
   "execution_count": 29,
   "metadata": {
    "id": "JZaEKu5v_Zcu"
   },
   "outputs": [
    {
     "data": {
      "text/plain": [
       "genre\n",
       "pop            256\n",
       "electronic     216\n",
       "rock           216\n",
       "dance          210\n",
       "hiphop          97\n",
       "alternative     63\n",
       "jazz            61\n",
       "classical       60\n",
       "rusrap          59\n",
       "world           54\n",
       "Name: track, dtype: int64"
      ]
     },
     "execution_count": 29,
     "metadata": {},
     "output_type": "execute_result"
    }
   ],
   "source": [
    "# вызов функции для вечера пятницы в Петербурге\n",
    "genre_weekday(spb_general, 'Friday', '17:00', '23:00')"
   ]
  },
  {
   "cell_type": "markdown",
   "metadata": {
    "id": "wrCe4MNX_Zcu"
   },
   "source": [
    "**Выводы**\n",
    "\n",
    "Если сравнить топ-10 жанров в понедельник утром, можно сделать такие выводы:\n",
    "\n",
    "1. В Москве и Петербурге слушают похожую музыку. Единственное отличие — в московский рейтинг вошёл жанр “world”, а в петербургский — джаз и классика.\n",
    "\n",
    "2. В Москве пропущенных значений оказалось так много, что значение `'unknown'` заняло десятое место среди самых популярных жанров. Значит, пропущенные значения занимают существенную долю в данных и угрожают достоверности исследования.\n",
    "\n",
    "Вечер пятницы не меняет эту картину. Некоторые жанры поднимаются немного выше, другие спускаются, но в целом топ-10 остаётся тем же самым.\n",
    "\n",
    "Таким образом, вторая гипотеза подтвердилась лишь частично:\n",
    "* Пользователи слушают похожую музыку в начале недели и в конце.\n",
    "* Разница между Москвой и Петербургом не слишком выражена. В Москве чаще слушают русскую популярную музыку, в Петербурге — джаз.\n",
    "\n",
    "Однако пропуски в данных ставят под сомнение этот результат. В Москве их так много, что рейтинг топ-10 мог бы выглядеть иначе, если бы не утерянные  данные о жанрах."
   ]
  },
  {
   "cell_type": "markdown",
   "metadata": {
    "id": "JolODAqr_Zcu"
   },
   "source": [
    "### Жанровые предпочтения в Москве и Петербурге\n",
    "\n",
    "Гипотеза: Петербург — столица рэпа, музыку этого жанра там слушают чаще, чем в Москве.  А Москва — город контрастов, в котором, тем не менее, преобладает поп-музыка."
   ]
  },
  {
   "cell_type": "markdown",
   "metadata": {
    "id": "DlegSvaT_Zcu"
   },
   "source": [
    "Посмотрим, сколько прослушиваний разных жанров есть в городах."
   ]
  },
  {
   "cell_type": "code",
   "execution_count": 26,
   "metadata": {
    "id": "r19lIPke_Zcu"
   },
   "outputs": [
    {
     "data": {
      "text/plain": [
       "genre\n",
       "pop            6253\n",
       "dance          4707\n",
       "rock           4188\n",
       "electronic     4010\n",
       "hip            2156\n",
       "classical      1712\n",
       "world          1516\n",
       "alternative    1466\n",
       "ruspop         1453\n",
       "rusrap         1239\n",
       "Name: genre, dtype: int64"
      ]
     },
     "execution_count": 26,
     "metadata": {},
     "output_type": "execute_result"
    }
   ],
   "source": [
    "# количество прослушиваний для Москвы\n",
    "moscow_general.groupby('genre')['genre'].count().sort_values(ascending=False).head(10)"
   ]
  },
  {
   "cell_type": "markdown",
   "metadata": {
    "id": "cnPG2vnN_Zcv"
   },
   "source": [
    "Теперь повторите то же и для Петербурга.\n",
    "\n",
    "Сгруппируйте таблицу `spb_general` по жанру. Посчитайте прослушивания треков каждого жанра. Результат отсортируйте в порядке убывания и сохраните в таблице `spb_genres`:\n"
   ]
  },
  {
   "cell_type": "code",
   "execution_count": 27,
   "metadata": {
    "id": "gluLIpE7_Zcv"
   },
   "outputs": [
    {
     "data": {
      "text/plain": [
       "genre\n",
       "pop            2597\n",
       "dance          2054\n",
       "rock           2004\n",
       "electronic     1842\n",
       "hip             992\n",
       "alternative     700\n",
       "classical       684\n",
       "rusrap          604\n",
       "ruspop          565\n",
       "world           553\n",
       "Name: genre, dtype: int64"
      ]
     },
     "execution_count": 27,
     "metadata": {},
     "output_type": "execute_result"
    }
   ],
   "source": [
    "# количество прослушиваний для СПб\n",
    "spb_general.groupby('genre')['genre'].count().sort_values(ascending=False).head(10)"
   ]
  },
  {
   "cell_type": "markdown",
   "metadata": {
    "id": "RY51YJYu_Zcv"
   },
   "source": [
    "**Выводы**"
   ]
  },
  {
   "cell_type": "markdown",
   "metadata": {
    "id": "nVhnJEm__Zcv"
   },
   "source": [
    "Гипотеза частично подтвердилась:\n",
    "* Поп-музыка — самый популярный жанр в Москве, как и предполагала гипотеза. Более того, в топ-10 жанров встречается близкий жанр — русская популярная музыка.\n",
    "* Вопреки ожиданиям, рэп одинаково популярен в Москве и Петербурге. \n"
   ]
  },
  {
   "cell_type": "markdown",
   "metadata": {
    "id": "ykKQ0N65_Zcv"
   },
   "source": [
    "## Итоги исследования"
   ]
  },
  {
   "cell_type": "markdown",
   "metadata": {
    "id": "tjUwbHb3_Zcv"
   },
   "source": [
    "Мы проверили три гипотезы и установили:\n",
    "\n",
    "1. День недели по-разному влияет на активность пользователей в Москве и Петербурге. \n",
    "\n",
    "Первая гипотеза полностью подтвердилась.\n",
    "\n",
    "2. Музыкальные предпочтения не сильно меняются в течение недели — будь то Москва или Петербург. Небольшие различия заметны в начале недели, по понедельникам:\n",
    "* в Москве слушают музыку жанра “world”,\n",
    "* в Петербурге — джаз и классику.\n",
    "\n",
    "Таким образом, вторая гипотеза подтвердилась лишь отчасти. Этот результат мог оказаться иным, если бы не пропуски в данных.\n",
    "\n",
    "3. Во вкусах пользователей Москвы и Петербурга больше общего чем различий. Вопреки ожиданиям, предпочтения жанров в Петербурге напоминают московские.\n",
    "\n",
    "Третья гипотеза не подтвердилась. Если различия в предпочтениях и существуют, на основной массе пользователей они незаметны.\n",
    "\n",
    "**Обычно исследования содержат проверки статистических гипотез.** Этот проект направленна практику использования языка."
   ]
  }
 ],
 "metadata": {
  "ExecuteTimeLog": [
   {
    "duration": 598,
    "start_time": "2021-11-19T10:13:29.668Z"
   },
   {
    "duration": 2,
    "start_time": "2021-11-19T10:13:34.284Z"
   },
   {
    "duration": 332,
    "start_time": "2021-11-19T10:14:13.428Z"
   },
   {
    "duration": 3,
    "start_time": "2021-11-19T10:14:24.250Z"
   },
   {
    "duration": 270,
    "start_time": "2021-11-19T10:14:26.620Z"
   },
   {
    "duration": 2,
    "start_time": "2021-11-19T10:14:32.990Z"
   },
   {
    "duration": 138,
    "start_time": "2021-11-19T10:14:35.103Z"
   },
   {
    "duration": 303,
    "start_time": "2021-11-19T10:14:53.573Z"
   },
   {
    "duration": 584,
    "start_time": "2021-11-19T10:14:57.180Z"
   },
   {
    "duration": 132,
    "start_time": "2021-11-19T10:14:59.724Z"
   },
   {
    "duration": 17,
    "start_time": "2021-11-19T10:15:16.864Z"
   },
   {
    "duration": 24,
    "start_time": "2021-11-19T10:15:47.898Z"
   },
   {
    "duration": 4,
    "start_time": "2021-11-19T10:21:02.913Z"
   },
   {
    "duration": 21,
    "start_time": "2021-11-19T10:22:53.548Z"
   },
   {
    "duration": 4,
    "start_time": "2021-11-19T10:23:05.794Z"
   },
   {
    "duration": 24,
    "start_time": "2021-11-19T10:24:17.474Z"
   },
   {
    "duration": 18,
    "start_time": "2021-11-19T10:28:28.823Z"
   },
   {
    "duration": 23,
    "start_time": "2021-11-19T10:34:49.665Z"
   },
   {
    "duration": 59,
    "start_time": "2021-11-19T10:41:00.722Z"
   },
   {
    "duration": 52,
    "start_time": "2021-11-19T10:41:49.826Z"
   },
   {
    "duration": 57,
    "start_time": "2021-11-19T10:43:01.071Z"
   },
   {
    "duration": 55,
    "start_time": "2021-11-19T10:46:18.851Z"
   },
   {
    "duration": 9,
    "start_time": "2021-11-19T10:46:42.452Z"
   },
   {
    "duration": 11,
    "start_time": "2021-11-19T10:46:49.508Z"
   },
   {
    "duration": 289,
    "start_time": "2021-11-19T10:48:21.296Z"
   },
   {
    "duration": 57,
    "start_time": "2021-11-19T10:48:45.476Z"
   },
   {
    "duration": 54,
    "start_time": "2021-11-19T10:48:51.700Z"
   },
   {
    "duration": 2,
    "start_time": "2021-11-19T10:49:08.310Z"
   },
   {
    "duration": 253,
    "start_time": "2021-11-19T10:50:23.290Z"
   },
   {
    "duration": 65,
    "start_time": "2021-11-19T10:50:41.502Z"
   },
   {
    "duration": 2,
    "start_time": "2021-11-19T10:50:48.863Z"
   },
   {
    "duration": 49,
    "start_time": "2021-11-19T10:50:58.086Z"
   },
   {
    "duration": 3,
    "start_time": "2021-11-19T10:51:25.205Z"
   },
   {
    "duration": 6549,
    "start_time": "2021-11-19T10:52:23.466Z"
   },
   {
    "duration": 57,
    "start_time": "2021-11-19T10:52:41.305Z"
   },
   {
    "duration": 7227,
    "start_time": "2021-11-19T10:52:58.726Z"
   },
   {
    "duration": 6,
    "start_time": "2021-11-19T10:54:22.376Z"
   },
   {
    "duration": 6,
    "start_time": "2021-11-19T10:54:28.538Z"
   },
   {
    "duration": 7,
    "start_time": "2021-11-19T10:54:43.336Z"
   },
   {
    "duration": 7,
    "start_time": "2021-11-19T10:54:54.096Z"
   },
   {
    "duration": 7,
    "start_time": "2021-11-19T10:55:02.390Z"
   },
   {
    "duration": 3,
    "start_time": "2021-11-19T10:57:15.909Z"
   },
   {
    "duration": 3,
    "start_time": "2021-11-19T11:00:35.942Z"
   },
   {
    "duration": 3,
    "start_time": "2021-11-19T11:00:48.970Z"
   },
   {
    "duration": 513,
    "start_time": "2021-11-19T11:01:50.001Z"
   },
   {
    "duration": 570,
    "start_time": "2021-11-19T11:02:15.997Z"
   },
   {
    "duration": 550,
    "start_time": "2021-11-19T11:02:50.503Z"
   },
   {
    "duration": 3,
    "start_time": "2021-11-19T11:03:02.757Z"
   },
   {
    "duration": 10,
    "start_time": "2021-11-19T11:03:05.576Z"
   },
   {
    "duration": 2,
    "start_time": "2021-11-19T11:03:10.720Z"
   },
   {
    "duration": 7,
    "start_time": "2021-11-19T11:03:57.034Z"
   },
   {
    "duration": 8,
    "start_time": "2021-11-19T11:04:10.665Z"
   },
   {
    "duration": 6,
    "start_time": "2021-11-19T11:04:18.860Z"
   },
   {
    "duration": 271,
    "start_time": "2021-11-19T11:13:46.387Z"
   },
   {
    "duration": 249,
    "start_time": "2021-11-19T11:15:21.583Z"
   },
   {
    "duration": 5,
    "start_time": "2021-11-19T11:15:32.759Z"
   },
   {
    "duration": 6,
    "start_time": "2021-11-19T11:15:44.790Z"
   },
   {
    "duration": 7,
    "start_time": "2021-11-19T11:16:00.513Z"
   },
   {
    "duration": 6,
    "start_time": "2021-11-19T11:16:11.397Z"
   },
   {
    "duration": 110,
    "start_time": "2021-11-19T11:16:37.543Z"
   },
   {
    "duration": 6,
    "start_time": "2021-11-19T11:16:43.664Z"
   },
   {
    "duration": 39,
    "start_time": "2021-11-19T11:20:48.479Z"
   },
   {
    "duration": 565,
    "start_time": "2021-11-19T11:21:55.862Z"
   },
   {
    "duration": 137,
    "start_time": "2021-11-19T11:21:58.288Z"
   },
   {
    "duration": 22,
    "start_time": "2021-11-19T11:22:01.182Z"
   },
   {
    "duration": 22,
    "start_time": "2021-11-19T11:22:03.825Z"
   },
   {
    "duration": 4,
    "start_time": "2021-11-19T11:22:09.580Z"
   },
   {
    "duration": 23,
    "start_time": "2021-11-19T11:22:14.333Z"
   },
   {
    "duration": 5,
    "start_time": "2021-11-19T11:22:16.354Z"
   },
   {
    "duration": 25,
    "start_time": "2021-11-19T11:22:19.168Z"
   },
   {
    "duration": 18,
    "start_time": "2021-11-19T11:22:24.594Z"
   },
   {
    "duration": 22,
    "start_time": "2021-11-19T11:22:26.603Z"
   },
   {
    "duration": 56,
    "start_time": "2021-11-19T11:22:28.689Z"
   },
   {
    "duration": 70,
    "start_time": "2021-11-19T11:22:30.670Z"
   },
   {
    "duration": 52,
    "start_time": "2021-11-19T11:22:31.954Z"
   },
   {
    "duration": 39,
    "start_time": "2021-11-19T11:22:38.842Z"
   },
   {
    "duration": 3,
    "start_time": "2021-11-19T11:22:59.906Z"
   },
   {
    "duration": 587,
    "start_time": "2021-11-19T11:23:09.341Z"
   },
   {
    "duration": 511,
    "start_time": "2021-11-19T11:23:32.690Z"
   },
   {
    "duration": 3,
    "start_time": "2021-11-19T11:23:37.459Z"
   },
   {
    "duration": 7,
    "start_time": "2021-11-19T11:23:39.281Z"
   },
   {
    "duration": 9,
    "start_time": "2021-11-19T11:23:46.014Z"
   },
   {
    "duration": 9,
    "start_time": "2021-11-19T11:24:34.120Z"
   },
   {
    "duration": 42,
    "start_time": "2021-11-19T11:26:24.982Z"
   },
   {
    "duration": 10,
    "start_time": "2021-11-19T11:26:39.317Z"
   },
   {
    "duration": 38,
    "start_time": "2021-11-19T11:26:41.687Z"
   },
   {
    "duration": 3,
    "start_time": "2021-11-19T11:26:53.118Z"
   },
   {
    "duration": 534,
    "start_time": "2021-11-19T11:26:55.101Z"
   },
   {
    "duration": 3,
    "start_time": "2021-11-19T11:27:06.764Z"
   },
   {
    "duration": 11,
    "start_time": "2021-11-19T11:27:08.967Z"
   },
   {
    "duration": 38,
    "start_time": "2021-11-19T11:27:11.326Z"
   },
   {
    "duration": 275,
    "start_time": "2021-11-19T17:39:18.004Z"
   },
   {
    "duration": 575,
    "start_time": "2021-11-19T17:39:54.892Z"
   },
   {
    "duration": 120,
    "start_time": "2021-11-19T17:39:55.469Z"
   },
   {
    "duration": 14,
    "start_time": "2021-11-19T17:39:55.591Z"
   },
   {
    "duration": 23,
    "start_time": "2021-11-19T17:39:55.607Z"
   },
   {
    "duration": 3,
    "start_time": "2021-11-19T17:39:55.632Z"
   },
   {
    "duration": 19,
    "start_time": "2021-11-19T17:39:55.637Z"
   },
   {
    "duration": 4,
    "start_time": "2021-11-19T17:39:55.657Z"
   },
   {
    "duration": 43,
    "start_time": "2021-11-19T17:39:55.663Z"
   },
   {
    "duration": 15,
    "start_time": "2021-11-19T17:39:55.709Z"
   },
   {
    "duration": 21,
    "start_time": "2021-11-19T17:39:55.725Z"
   },
   {
    "duration": 72,
    "start_time": "2021-11-19T17:39:55.747Z"
   },
   {
    "duration": 60,
    "start_time": "2021-11-19T17:39:55.820Z"
   },
   {
    "duration": 48,
    "start_time": "2021-11-19T17:39:55.881Z"
   },
   {
    "duration": 37,
    "start_time": "2021-11-19T17:39:55.931Z"
   },
   {
    "duration": 9,
    "start_time": "2021-11-19T17:39:55.969Z"
   },
   {
    "duration": 20,
    "start_time": "2021-11-19T17:39:55.988Z"
   },
   {
    "duration": 52,
    "start_time": "2021-11-19T17:39:56.010Z"
   },
   {
    "duration": 12,
    "start_time": "2021-11-19T17:39:56.064Z"
   },
   {
    "duration": 10,
    "start_time": "2021-11-19T17:39:56.078Z"
   },
   {
    "duration": 17,
    "start_time": "2021-11-19T17:39:56.090Z"
   },
   {
    "duration": 13,
    "start_time": "2021-11-19T17:39:56.109Z"
   },
   {
    "duration": 15,
    "start_time": "2021-11-19T17:39:56.124Z"
   },
   {
    "duration": 10,
    "start_time": "2021-11-19T17:39:56.142Z"
   },
   {
    "duration": 12,
    "start_time": "2021-11-19T17:39:56.154Z"
   },
   {
    "duration": 17,
    "start_time": "2021-11-19T17:39:56.168Z"
   },
   {
    "duration": 6,
    "start_time": "2021-11-19T17:39:56.187Z"
   },
   {
    "duration": 4,
    "start_time": "2021-11-19T17:39:56.194Z"
   },
   {
    "duration": 4,
    "start_time": "2021-11-19T17:39:56.199Z"
   },
   {
    "duration": 5,
    "start_time": "2021-11-19T17:39:56.204Z"
   },
   {
    "duration": 9,
    "start_time": "2021-11-19T17:39:56.210Z"
   },
   {
    "duration": 25,
    "start_time": "2021-11-19T17:39:56.220Z"
   },
   {
    "duration": 22,
    "start_time": "2021-11-19T17:39:56.247Z"
   },
   {
    "duration": 20,
    "start_time": "2021-11-19T17:39:56.270Z"
   },
   {
    "duration": 9,
    "start_time": "2021-11-19T17:39:56.291Z"
   },
   {
    "duration": 21,
    "start_time": "2021-11-19T17:39:56.301Z"
   },
   {
    "duration": 18,
    "start_time": "2021-11-19T17:39:56.323Z"
   },
   {
    "duration": 15,
    "start_time": "2021-11-19T17:39:56.342Z"
   },
   {
    "duration": 19,
    "start_time": "2021-11-19T17:39:56.359Z"
   },
   {
    "duration": 8,
    "start_time": "2021-11-19T17:40:28.131Z"
   },
   {
    "duration": 9,
    "start_time": "2021-11-19T17:41:06.038Z"
   },
   {
    "duration": 10,
    "start_time": "2021-11-19T17:41:18.094Z"
   },
   {
    "duration": 2,
    "start_time": "2021-11-19T17:42:04.658Z"
   },
   {
    "duration": 9,
    "start_time": "2021-11-19T17:42:37.067Z"
   },
   {
    "duration": 10,
    "start_time": "2021-11-19T17:43:35.299Z"
   },
   {
    "duration": 11,
    "start_time": "2021-11-19T17:43:38.339Z"
   },
   {
    "duration": 3,
    "start_time": "2021-11-19T17:51:14.767Z"
   },
   {
    "duration": 2,
    "start_time": "2021-11-19T17:51:23.295Z"
   },
   {
    "duration": 330,
    "start_time": "2021-11-19T17:55:51.819Z"
   },
   {
    "duration": 497,
    "start_time": "2021-11-19T17:57:42.822Z"
   },
   {
    "duration": 5,
    "start_time": "2021-11-19T17:57:55.556Z"
   },
   {
    "duration": 11,
    "start_time": "2021-11-19T17:57:57.403Z"
   },
   {
    "duration": 3,
    "start_time": "2021-11-19T17:57:58.547Z"
   },
   {
    "duration": 9,
    "start_time": "2021-11-19T17:57:58.724Z"
   },
   {
    "duration": 11,
    "start_time": "2021-11-19T18:00:13.870Z"
   },
   {
    "duration": 10,
    "start_time": "2021-11-19T18:00:14.718Z"
   },
   {
    "duration": 11,
    "start_time": "2021-11-19T18:00:15.678Z"
   },
   {
    "duration": 10,
    "start_time": "2021-11-19T18:00:16.479Z"
   },
   {
    "duration": 7,
    "start_time": "2021-11-19T18:00:17.366Z"
   },
   {
    "duration": 7,
    "start_time": "2021-11-19T18:00:18.397Z"
   },
   {
    "duration": 4,
    "start_time": "2021-11-19T18:01:01.447Z"
   },
   {
    "duration": 3,
    "start_time": "2021-11-19T18:02:02.587Z"
   },
   {
    "duration": 8,
    "start_time": "2021-11-19T18:02:03.637Z"
   },
   {
    "duration": 7,
    "start_time": "2021-11-19T18:02:05.285Z"
   },
   {
    "duration": 7,
    "start_time": "2021-11-19T18:02:05.729Z"
   },
   {
    "duration": 3,
    "start_time": "2021-11-19T18:02:29.680Z"
   },
   {
    "duration": 10,
    "start_time": "2021-11-19T18:02:31.553Z"
   },
   {
    "duration": 3,
    "start_time": "2021-11-19T18:07:27.063Z"
   },
   {
    "duration": 15,
    "start_time": "2021-11-19T18:07:28.252Z"
   },
   {
    "duration": 13,
    "start_time": "2021-11-19T18:07:29.621Z"
   },
   {
    "duration": 12,
    "start_time": "2021-11-19T18:07:29.934Z"
   },
   {
    "duration": 12,
    "start_time": "2021-11-19T18:07:30.429Z"
   },
   {
    "duration": 20,
    "start_time": "2021-11-19T18:07:30.984Z"
   },
   {
    "duration": 12,
    "start_time": "2021-11-19T18:07:31.935Z"
   },
   {
    "duration": 5,
    "start_time": "2021-11-19T18:07:35.607Z"
   },
   {
    "duration": 67,
    "start_time": "2021-11-19T18:18:12.024Z"
   },
   {
    "duration": 3,
    "start_time": "2021-11-19T18:19:54.553Z"
   },
   {
    "duration": 7,
    "start_time": "2021-11-19T18:21:31.647Z"
   },
   {
    "duration": 18,
    "start_time": "2021-11-19T18:25:08.480Z"
   },
   {
    "duration": 10,
    "start_time": "2021-11-19T18:26:38.726Z"
   },
   {
    "duration": 3,
    "start_time": "2021-11-19T18:36:25.358Z"
   },
   {
    "duration": 957,
    "start_time": "2021-11-19T18:37:02.925Z"
   },
   {
    "duration": 3,
    "start_time": "2021-11-19T18:37:30.506Z"
   },
   {
    "duration": 644,
    "start_time": "2021-11-19T18:37:31.664Z"
   },
   {
    "duration": 3,
    "start_time": "2021-11-19T18:39:05.676Z"
   },
   {
    "duration": 524,
    "start_time": "2021-11-19T18:39:06.991Z"
   },
   {
    "duration": 4,
    "start_time": "2021-11-19T18:39:16.955Z"
   },
   {
    "duration": 17,
    "start_time": "2021-11-19T18:39:20.363Z"
   },
   {
    "duration": 4,
    "start_time": "2021-11-19T18:39:52.105Z"
   },
   {
    "duration": 17,
    "start_time": "2021-11-19T18:39:52.698Z"
   },
   {
    "duration": 232,
    "start_time": "2021-11-19T18:40:54.874Z"
   },
   {
    "duration": 9,
    "start_time": "2021-11-19T18:41:05.820Z"
   },
   {
    "duration": 9,
    "start_time": "2021-11-19T18:41:13.062Z"
   },
   {
    "duration": 18,
    "start_time": "2021-11-19T18:42:06.152Z"
   },
   {
    "duration": 9,
    "start_time": "2021-11-19T18:42:12.763Z"
   },
   {
    "duration": 8,
    "start_time": "2021-11-19T18:42:29.187Z"
   },
   {
    "duration": 17,
    "start_time": "2021-11-19T18:42:33.958Z"
   },
   {
    "duration": 17,
    "start_time": "2021-11-19T18:43:25.993Z"
   },
   {
    "duration": 12,
    "start_time": "2021-11-19T18:44:28.099Z"
   },
   {
    "duration": 15,
    "start_time": "2021-11-19T18:44:31.799Z"
   },
   {
    "duration": 13,
    "start_time": "2021-11-19T18:45:11.692Z"
   },
   {
    "duration": 9,
    "start_time": "2021-11-19T18:45:41.148Z"
   },
   {
    "duration": 5,
    "start_time": "2021-11-19T18:48:09.753Z"
   },
   {
    "duration": 17,
    "start_time": "2021-11-19T18:48:10.993Z"
   },
   {
    "duration": 12,
    "start_time": "2021-11-19T18:48:12.317Z"
   },
   {
    "duration": 16,
    "start_time": "2021-11-19T18:48:15.339Z"
   },
   {
    "duration": 11,
    "start_time": "2021-11-19T18:48:15.760Z"
   },
   {
    "duration": 7,
    "start_time": "2021-11-19T18:56:38.968Z"
   },
   {
    "duration": 4,
    "start_time": "2021-11-19T18:57:11.038Z"
   },
   {
    "duration": 7,
    "start_time": "2021-11-19T18:57:39.294Z"
   },
   {
    "duration": 4,
    "start_time": "2021-11-19T18:57:41.679Z"
   },
   {
    "duration": 8,
    "start_time": "2021-11-19T18:57:58.319Z"
   },
   {
    "duration": 5,
    "start_time": "2021-11-19T18:57:59.208Z"
   },
   {
    "duration": 5,
    "start_time": "2021-11-19T18:58:23.223Z"
   },
   {
    "duration": 89,
    "start_time": "2021-11-19T18:58:36.167Z"
   },
   {
    "duration": 5,
    "start_time": "2021-11-19T18:58:41.031Z"
   },
   {
    "duration": 273,
    "start_time": "2021-11-19T19:01:02.569Z"
   },
   {
    "duration": 518,
    "start_time": "2021-11-19T19:01:10.341Z"
   },
   {
    "duration": 116,
    "start_time": "2021-11-19T19:01:12.321Z"
   },
   {
    "duration": 27,
    "start_time": "2021-11-19T19:01:13.861Z"
   },
   {
    "duration": 21,
    "start_time": "2021-11-19T19:01:24.466Z"
   },
   {
    "duration": 4,
    "start_time": "2021-11-19T19:01:32.761Z"
   },
   {
    "duration": 554,
    "start_time": "2021-11-19T19:04:26.410Z"
   },
   {
    "duration": 120,
    "start_time": "2021-11-19T19:04:31.662Z"
   },
   {
    "duration": 17,
    "start_time": "2021-11-19T19:04:33.431Z"
   },
   {
    "duration": 22,
    "start_time": "2021-11-19T19:08:26.820Z"
   },
   {
    "duration": 4,
    "start_time": "2021-11-19T19:08:31.690Z"
   },
   {
    "duration": 17,
    "start_time": "2021-11-19T19:08:33.073Z"
   },
   {
    "duration": 4,
    "start_time": "2021-11-19T19:08:34.145Z"
   },
   {
    "duration": 20,
    "start_time": "2021-11-19T19:08:37.876Z"
   },
   {
    "duration": 16,
    "start_time": "2021-11-19T19:08:39.673Z"
   },
   {
    "duration": 21,
    "start_time": "2021-11-19T19:08:40.799Z"
   },
   {
    "duration": 50,
    "start_time": "2021-11-19T19:08:42.834Z"
   },
   {
    "duration": 61,
    "start_time": "2021-11-19T19:08:43.981Z"
   },
   {
    "duration": 44,
    "start_time": "2021-11-19T19:08:45.579Z"
   },
   {
    "duration": 36,
    "start_time": "2021-11-19T19:08:52.517Z"
   },
   {
    "duration": 3,
    "start_time": "2021-11-19T19:08:59.614Z"
   },
   {
    "duration": 10,
    "start_time": "2021-11-19T19:09:03.266Z"
   },
   {
    "duration": 35,
    "start_time": "2021-11-19T19:09:10.985Z"
   },
   {
    "duration": 11,
    "start_time": "2021-11-19T19:09:21.114Z"
   },
   {
    "duration": 10,
    "start_time": "2021-11-19T19:09:28.485Z"
   },
   {
    "duration": 3,
    "start_time": "2021-11-19T19:09:42.153Z"
   },
   {
    "duration": 59,
    "start_time": "2021-11-19T19:09:45.976Z"
   },
   {
    "duration": 55,
    "start_time": "2021-11-19T19:09:56.419Z"
   },
   {
    "duration": 7,
    "start_time": "2021-11-19T19:09:56.476Z"
   },
   {
    "duration": 10,
    "start_time": "2021-11-19T19:10:02.205Z"
   },
   {
    "duration": 9,
    "start_time": "2021-11-19T19:10:02.635Z"
   },
   {
    "duration": 4,
    "start_time": "2021-11-19T19:10:06.659Z"
   },
   {
    "duration": 17,
    "start_time": "2021-11-19T19:10:12.251Z"
   },
   {
    "duration": 12,
    "start_time": "2021-11-19T19:10:14.733Z"
   },
   {
    "duration": 16,
    "start_time": "2021-11-19T19:10:15.246Z"
   },
   {
    "duration": 12,
    "start_time": "2021-11-19T19:10:16.932Z"
   },
   {
    "duration": 8,
    "start_time": "2021-11-19T19:10:25.495Z"
   },
   {
    "duration": 5,
    "start_time": "2021-11-19T19:10:34.501Z"
   },
   {
    "duration": 6,
    "start_time": "2021-11-19T19:10:40.182Z"
   },
   {
    "duration": 4,
    "start_time": "2021-11-19T19:10:49.712Z"
   },
   {
    "duration": 572,
    "start_time": "2021-11-19T19:11:10.069Z"
   },
   {
    "duration": 118,
    "start_time": "2021-11-19T19:11:10.642Z"
   },
   {
    "duration": 15,
    "start_time": "2021-11-19T19:11:10.762Z"
   },
   {
    "duration": 26,
    "start_time": "2021-11-19T19:11:10.778Z"
   },
   {
    "duration": 4,
    "start_time": "2021-11-19T19:11:10.805Z"
   },
   {
    "duration": 18,
    "start_time": "2021-11-19T19:11:10.810Z"
   },
   {
    "duration": 3,
    "start_time": "2021-11-19T19:11:10.829Z"
   },
   {
    "duration": 18,
    "start_time": "2021-11-19T19:11:10.835Z"
   },
   {
    "duration": 38,
    "start_time": "2021-11-19T19:11:10.855Z"
   },
   {
    "duration": 19,
    "start_time": "2021-11-19T19:11:10.894Z"
   },
   {
    "duration": 49,
    "start_time": "2021-11-19T19:11:10.914Z"
   },
   {
    "duration": 70,
    "start_time": "2021-11-19T19:11:10.964Z"
   },
   {
    "duration": 53,
    "start_time": "2021-11-19T19:11:11.035Z"
   },
   {
    "duration": 35,
    "start_time": "2021-11-19T19:11:11.090Z"
   },
   {
    "duration": 2,
    "start_time": "2021-11-19T19:11:11.127Z"
   },
   {
    "duration": 13,
    "start_time": "2021-11-19T19:11:11.131Z"
   },
   {
    "duration": 50,
    "start_time": "2021-11-19T19:11:11.146Z"
   },
   {
    "duration": 10,
    "start_time": "2021-11-19T19:11:11.197Z"
   },
   {
    "duration": 8,
    "start_time": "2021-11-19T19:11:11.208Z"
   },
   {
    "duration": 2,
    "start_time": "2021-11-19T19:11:11.218Z"
   },
   {
    "duration": 71,
    "start_time": "2021-11-19T19:11:11.222Z"
   },
   {
    "duration": 7,
    "start_time": "2021-11-19T19:11:11.295Z"
   },
   {
    "duration": 9,
    "start_time": "2021-11-19T19:11:11.304Z"
   },
   {
    "duration": 7,
    "start_time": "2021-11-19T19:11:11.315Z"
   },
   {
    "duration": 4,
    "start_time": "2021-11-19T19:11:11.323Z"
   },
   {
    "duration": 19,
    "start_time": "2021-11-19T19:11:11.328Z"
   },
   {
    "duration": 11,
    "start_time": "2021-11-19T19:11:11.348Z"
   },
   {
    "duration": 38,
    "start_time": "2021-11-19T19:11:11.360Z"
   },
   {
    "duration": 10,
    "start_time": "2021-11-19T19:11:11.399Z"
   },
   {
    "duration": 6,
    "start_time": "2021-11-19T19:11:11.411Z"
   },
   {
    "duration": 5,
    "start_time": "2021-11-19T19:11:11.418Z"
   },
   {
    "duration": 7,
    "start_time": "2021-11-19T19:11:11.425Z"
   },
   {
    "duration": 5,
    "start_time": "2021-11-19T19:11:11.434Z"
   },
   {
    "duration": 591,
    "start_time": "2021-11-20T01:39:54.587Z"
   },
   {
    "duration": 152,
    "start_time": "2021-11-20T01:39:55.180Z"
   },
   {
    "duration": 19,
    "start_time": "2021-11-20T01:39:55.335Z"
   },
   {
    "duration": 43,
    "start_time": "2021-11-20T01:39:55.355Z"
   },
   {
    "duration": 11,
    "start_time": "2021-11-20T01:39:55.400Z"
   },
   {
    "duration": 25,
    "start_time": "2021-11-20T01:39:55.413Z"
   },
   {
    "duration": 5,
    "start_time": "2021-11-20T01:39:55.440Z"
   },
   {
    "duration": 40,
    "start_time": "2021-11-20T01:39:55.448Z"
   },
   {
    "duration": 20,
    "start_time": "2021-11-20T01:39:55.491Z"
   },
   {
    "duration": 24,
    "start_time": "2021-11-20T01:39:55.513Z"
   },
   {
    "duration": 79,
    "start_time": "2021-11-20T01:39:55.539Z"
   },
   {
    "duration": 82,
    "start_time": "2021-11-20T01:39:55.620Z"
   },
   {
    "duration": 61,
    "start_time": "2021-11-20T01:39:55.704Z"
   },
   {
    "duration": 42,
    "start_time": "2021-11-20T01:39:55.767Z"
   },
   {
    "duration": 4,
    "start_time": "2021-11-20T01:39:55.811Z"
   },
   {
    "duration": 14,
    "start_time": "2021-11-20T01:39:55.816Z"
   },
   {
    "duration": 61,
    "start_time": "2021-11-20T01:39:55.831Z"
   },
   {
    "duration": 20,
    "start_time": "2021-11-20T01:39:55.894Z"
   },
   {
    "duration": 14,
    "start_time": "2021-11-20T01:39:55.916Z"
   },
   {
    "duration": 4,
    "start_time": "2021-11-20T01:39:55.932Z"
   },
   {
    "duration": 86,
    "start_time": "2021-11-20T01:39:55.938Z"
   },
   {
    "duration": 9,
    "start_time": "2021-11-20T01:39:56.026Z"
   },
   {
    "duration": 27,
    "start_time": "2021-11-20T01:39:56.039Z"
   },
   {
    "duration": 11,
    "start_time": "2021-11-20T01:39:56.068Z"
   },
   {
    "duration": 17,
    "start_time": "2021-11-20T01:39:56.081Z"
   },
   {
    "duration": 36,
    "start_time": "2021-11-20T01:39:56.100Z"
   },
   {
    "duration": 15,
    "start_time": "2021-11-20T01:39:56.138Z"
   },
   {
    "duration": 16,
    "start_time": "2021-11-20T01:39:56.155Z"
   },
   {
    "duration": 13,
    "start_time": "2021-11-20T01:39:56.172Z"
   },
   {
    "duration": 8,
    "start_time": "2021-11-20T01:39:56.187Z"
   },
   {
    "duration": 11,
    "start_time": "2021-11-20T01:39:56.196Z"
   },
   {
    "duration": 19,
    "start_time": "2021-11-20T01:39:56.209Z"
   },
   {
    "duration": 10,
    "start_time": "2021-11-20T01:39:56.229Z"
   },
   {
    "duration": 4,
    "start_time": "2021-11-20T06:34:22.415Z"
   },
   {
    "duration": 229,
    "start_time": "2021-11-20T06:34:30.474Z"
   },
   {
    "duration": 576,
    "start_time": "2021-11-20T06:34:41.585Z"
   },
   {
    "duration": 137,
    "start_time": "2021-11-20T06:34:42.163Z"
   },
   {
    "duration": 16,
    "start_time": "2021-11-20T06:34:42.302Z"
   },
   {
    "duration": 58,
    "start_time": "2021-11-20T06:34:42.320Z"
   },
   {
    "duration": 68,
    "start_time": "2021-11-20T06:34:42.380Z"
   },
   {
    "duration": 45,
    "start_time": "2021-11-20T06:34:42.449Z"
   },
   {
    "duration": 41,
    "start_time": "2021-11-20T06:34:42.496Z"
   },
   {
    "duration": 64,
    "start_time": "2021-11-20T06:34:42.539Z"
   },
   {
    "duration": 46,
    "start_time": "2021-11-20T06:34:42.605Z"
   },
   {
    "duration": 50,
    "start_time": "2021-11-20T06:34:42.653Z"
   },
   {
    "duration": 85,
    "start_time": "2021-11-20T06:34:42.704Z"
   },
   {
    "duration": 65,
    "start_time": "2021-11-20T06:34:42.791Z"
   },
   {
    "duration": 55,
    "start_time": "2021-11-20T06:34:42.858Z"
   },
   {
    "duration": 38,
    "start_time": "2021-11-20T06:34:42.915Z"
   },
   {
    "duration": 42,
    "start_time": "2021-11-20T06:34:42.954Z"
   },
   {
    "duration": 64,
    "start_time": "2021-11-20T06:34:42.997Z"
   },
   {
    "duration": 67,
    "start_time": "2021-11-20T06:34:43.063Z"
   },
   {
    "duration": 36,
    "start_time": "2021-11-20T06:34:43.132Z"
   },
   {
    "duration": 33,
    "start_time": "2021-11-20T06:34:43.170Z"
   },
   {
    "duration": 45,
    "start_time": "2021-11-20T06:34:43.205Z"
   },
   {
    "duration": 73,
    "start_time": "2021-11-20T06:34:43.252Z"
   },
   {
    "duration": 20,
    "start_time": "2021-11-20T06:34:43.326Z"
   },
   {
    "duration": 68,
    "start_time": "2021-11-20T06:34:43.349Z"
   },
   {
    "duration": 49,
    "start_time": "2021-11-20T06:34:43.419Z"
   },
   {
    "duration": 46,
    "start_time": "2021-11-20T06:34:43.470Z"
   },
   {
    "duration": 98,
    "start_time": "2021-11-20T06:34:43.518Z"
   },
   {
    "duration": 82,
    "start_time": "2021-11-20T06:34:43.618Z"
   },
   {
    "duration": 77,
    "start_time": "2021-11-20T06:34:43.702Z"
   },
   {
    "duration": 52,
    "start_time": "2021-11-20T06:34:43.780Z"
   },
   {
    "duration": 29,
    "start_time": "2021-11-20T06:34:43.833Z"
   },
   {
    "duration": 65,
    "start_time": "2021-11-20T06:34:43.863Z"
   },
   {
    "duration": 40,
    "start_time": "2021-11-20T06:34:43.930Z"
   },
   {
    "duration": 50,
    "start_time": "2021-11-20T06:34:43.972Z"
   },
   {
    "duration": 560,
    "start_time": "2021-11-20T06:37:37.874Z"
   },
   {
    "duration": 137,
    "start_time": "2021-11-20T06:37:38.436Z"
   },
   {
    "duration": 19,
    "start_time": "2021-11-20T06:37:38.575Z"
   },
   {
    "duration": 29,
    "start_time": "2021-11-20T06:37:38.596Z"
   },
   {
    "duration": 3,
    "start_time": "2021-11-20T06:37:38.627Z"
   },
   {
    "duration": 23,
    "start_time": "2021-11-20T06:37:38.632Z"
   },
   {
    "duration": 4,
    "start_time": "2021-11-20T06:37:38.656Z"
   },
   {
    "duration": 44,
    "start_time": "2021-11-20T06:37:38.661Z"
   },
   {
    "duration": 16,
    "start_time": "2021-11-20T06:37:38.707Z"
   },
   {
    "duration": 20,
    "start_time": "2021-11-20T06:37:38.725Z"
   },
   {
    "duration": 76,
    "start_time": "2021-11-20T06:37:38.747Z"
   },
   {
    "duration": 66,
    "start_time": "2021-11-20T06:37:38.825Z"
   },
   {
    "duration": 46,
    "start_time": "2021-11-20T06:37:38.893Z"
   },
   {
    "duration": 50,
    "start_time": "2021-11-20T06:37:38.941Z"
   },
   {
    "duration": 2,
    "start_time": "2021-11-20T06:37:38.993Z"
   },
   {
    "duration": 13,
    "start_time": "2021-11-20T06:37:38.996Z"
   },
   {
    "duration": 36,
    "start_time": "2021-11-20T06:37:39.011Z"
   },
   {
    "duration": 11,
    "start_time": "2021-11-20T06:37:39.048Z"
   },
   {
    "duration": 35,
    "start_time": "2021-11-20T06:37:39.060Z"
   },
   {
    "duration": 3,
    "start_time": "2021-11-20T06:37:39.096Z"
   },
   {
    "duration": 62,
    "start_time": "2021-11-20T06:37:39.101Z"
   },
   {
    "duration": 8,
    "start_time": "2021-11-20T06:37:39.164Z"
   },
   {
    "duration": 27,
    "start_time": "2021-11-20T06:37:39.173Z"
   },
   {
    "duration": 8,
    "start_time": "2021-11-20T06:37:39.201Z"
   },
   {
    "duration": 4,
    "start_time": "2021-11-20T06:37:39.211Z"
   },
   {
    "duration": 21,
    "start_time": "2021-11-20T06:37:39.216Z"
   },
   {
    "duration": 11,
    "start_time": "2021-11-20T06:37:39.240Z"
   },
   {
    "duration": 39,
    "start_time": "2021-11-20T06:37:39.253Z"
   },
   {
    "duration": 11,
    "start_time": "2021-11-20T06:37:39.294Z"
   },
   {
    "duration": 6,
    "start_time": "2021-11-20T06:37:39.307Z"
   },
   {
    "duration": 4,
    "start_time": "2021-11-20T06:37:39.315Z"
   },
   {
    "duration": 6,
    "start_time": "2021-11-20T06:37:39.320Z"
   },
   {
    "duration": 4,
    "start_time": "2021-11-20T06:37:39.327Z"
   },
   {
    "duration": 579,
    "start_time": "2021-11-20T11:57:37.843Z"
   },
   {
    "duration": 136,
    "start_time": "2021-11-20T11:57:38.424Z"
   },
   {
    "duration": 17,
    "start_time": "2021-11-20T11:57:38.562Z"
   },
   {
    "duration": 37,
    "start_time": "2021-11-20T11:57:38.581Z"
   },
   {
    "duration": 4,
    "start_time": "2021-11-20T11:57:38.619Z"
   },
   {
    "duration": 28,
    "start_time": "2021-11-20T11:57:38.625Z"
   },
   {
    "duration": 14,
    "start_time": "2021-11-20T11:57:38.655Z"
   },
   {
    "duration": 23,
    "start_time": "2021-11-20T11:57:38.671Z"
   },
   {
    "duration": 22,
    "start_time": "2021-11-20T11:57:38.698Z"
   },
   {
    "duration": 23,
    "start_time": "2021-11-20T11:57:38.722Z"
   },
   {
    "duration": 79,
    "start_time": "2021-11-20T11:57:38.746Z"
   },
   {
    "duration": 100,
    "start_time": "2021-11-20T11:57:38.827Z"
   },
   {
    "duration": 51,
    "start_time": "2021-11-20T11:57:38.929Z"
   },
   {
    "duration": 54,
    "start_time": "2021-11-20T11:57:38.981Z"
   },
   {
    "duration": 3,
    "start_time": "2021-11-20T11:57:39.038Z"
   },
   {
    "duration": 27,
    "start_time": "2021-11-20T11:57:39.043Z"
   },
   {
    "duration": 52,
    "start_time": "2021-11-20T11:57:39.071Z"
   },
   {
    "duration": 12,
    "start_time": "2021-11-20T11:57:39.125Z"
   },
   {
    "duration": 10,
    "start_time": "2021-11-20T11:57:39.139Z"
   },
   {
    "duration": 4,
    "start_time": "2021-11-20T11:57:39.150Z"
   },
   {
    "duration": 84,
    "start_time": "2021-11-20T11:57:39.155Z"
   },
   {
    "duration": 8,
    "start_time": "2021-11-20T11:57:39.241Z"
   },
   {
    "duration": 13,
    "start_time": "2021-11-20T11:57:39.251Z"
   },
   {
    "duration": 13,
    "start_time": "2021-11-20T11:57:39.265Z"
   },
   {
    "duration": 4,
    "start_time": "2021-11-20T11:57:39.280Z"
   },
   {
    "duration": 40,
    "start_time": "2021-11-20T11:57:39.286Z"
   },
   {
    "duration": 14,
    "start_time": "2021-11-20T11:57:39.329Z"
   },
   {
    "duration": 16,
    "start_time": "2021-11-20T11:57:39.345Z"
   },
   {
    "duration": 13,
    "start_time": "2021-11-20T11:57:39.363Z"
   },
   {
    "duration": 34,
    "start_time": "2021-11-20T11:57:39.378Z"
   },
   {
    "duration": 7,
    "start_time": "2021-11-20T11:57:39.413Z"
   },
   {
    "duration": 7,
    "start_time": "2021-11-20T11:57:39.422Z"
   },
   {
    "duration": 7,
    "start_time": "2021-11-20T11:57:39.430Z"
   },
   {
    "duration": 548,
    "start_time": "2021-11-20T11:58:29.246Z"
   },
   {
    "duration": 135,
    "start_time": "2021-11-20T11:58:29.795Z"
   },
   {
    "duration": 17,
    "start_time": "2021-11-20T11:58:29.932Z"
   },
   {
    "duration": 36,
    "start_time": "2021-11-20T11:58:29.951Z"
   },
   {
    "duration": 9,
    "start_time": "2021-11-20T11:58:29.989Z"
   },
   {
    "duration": 33,
    "start_time": "2021-11-20T11:58:30.000Z"
   },
   {
    "duration": 12,
    "start_time": "2021-11-20T11:58:30.035Z"
   },
   {
    "duration": 25,
    "start_time": "2021-11-20T11:58:30.050Z"
   },
   {
    "duration": 42,
    "start_time": "2021-11-20T11:58:30.077Z"
   },
   {
    "duration": 37,
    "start_time": "2021-11-20T11:58:30.121Z"
   },
   {
    "duration": 77,
    "start_time": "2021-11-20T11:58:30.160Z"
   },
   {
    "duration": 75,
    "start_time": "2021-11-20T11:58:30.238Z"
   },
   {
    "duration": 51,
    "start_time": "2021-11-20T11:58:30.314Z"
   },
   {
    "duration": 52,
    "start_time": "2021-11-20T11:58:30.367Z"
   },
   {
    "duration": 15,
    "start_time": "2021-11-20T11:58:30.421Z"
   },
   {
    "duration": 27,
    "start_time": "2021-11-20T11:58:30.438Z"
   },
   {
    "duration": 47,
    "start_time": "2021-11-20T11:58:30.467Z"
   },
   {
    "duration": 45,
    "start_time": "2021-11-20T11:58:30.516Z"
   },
   {
    "duration": 25,
    "start_time": "2021-11-20T11:58:30.563Z"
   },
   {
    "duration": 16,
    "start_time": "2021-11-20T11:58:30.589Z"
   },
   {
    "duration": 66,
    "start_time": "2021-11-20T11:58:30.606Z"
   },
   {
    "duration": 8,
    "start_time": "2021-11-20T11:58:30.673Z"
   },
   {
    "duration": 22,
    "start_time": "2021-11-20T11:58:30.684Z"
   },
   {
    "duration": 11,
    "start_time": "2021-11-20T11:58:30.708Z"
   },
   {
    "duration": 7,
    "start_time": "2021-11-20T11:58:30.721Z"
   },
   {
    "duration": 32,
    "start_time": "2021-11-20T11:58:30.730Z"
   },
   {
    "duration": 12,
    "start_time": "2021-11-20T11:58:30.764Z"
   },
   {
    "duration": 18,
    "start_time": "2021-11-20T11:58:30.777Z"
   },
   {
    "duration": 20,
    "start_time": "2021-11-20T11:58:30.797Z"
   },
   {
    "duration": 9,
    "start_time": "2021-11-20T11:58:30.819Z"
   },
   {
    "duration": 12,
    "start_time": "2021-11-20T11:58:30.829Z"
   },
   {
    "duration": 24,
    "start_time": "2021-11-20T11:58:30.843Z"
   },
   {
    "duration": 33,
    "start_time": "2021-11-20T11:58:30.868Z"
   }
  ],
  "colab": {
   "collapsed_sections": [
    "E0vqbgi9ay0H",
    "VUC88oWjTJw2"
   ],
   "name": "yandex_music_project_2021.2.ipynb",
   "provenance": []
  },
  "kernelspec": {
   "display_name": "Python 3 (ipykernel)",
   "language": "python",
   "name": "python3"
  },
  "language_info": {
   "codemirror_mode": {
    "name": "ipython",
    "version": 3
   },
   "file_extension": ".py",
   "mimetype": "text/x-python",
   "name": "python",
   "nbconvert_exporter": "python",
   "pygments_lexer": "ipython3",
   "version": "3.9.7"
  },
  "toc": {
   "base_numbering": 1,
   "nav_menu": {},
   "number_sections": true,
   "sideBar": true,
   "skip_h1_title": true,
   "title_cell": "Содержание",
   "title_sidebar": "Содержание",
   "toc_cell": true,
   "toc_position": {},
   "toc_section_display": true,
   "toc_window_display": true
  },
  "varInspector": {
   "cols": {
    "lenName": 16,
    "lenType": 16,
    "lenVar": 40
   },
   "kernels_config": {
    "python": {
     "delete_cmd_postfix": "",
     "delete_cmd_prefix": "del ",
     "library": "var_list.py",
     "varRefreshCmd": "print(var_dic_list())"
    },
    "r": {
     "delete_cmd_postfix": ") ",
     "delete_cmd_prefix": "rm(",
     "library": "var_list.r",
     "varRefreshCmd": "cat(var_dic_list()) "
    }
   },
   "types_to_exclude": [
    "module",
    "function",
    "builtin_function_or_method",
    "instance",
    "_Feature"
   ],
   "window_display": false
  }
 },
 "nbformat": 4,
 "nbformat_minor": 1
}
