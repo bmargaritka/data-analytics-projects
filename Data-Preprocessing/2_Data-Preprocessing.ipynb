{
 "cells": [
  {
   "cell_type": "markdown",
   "metadata": {
    "toc": true
   },
   "source": [
    "<h1>Содержание<span class=\"tocSkip\"></span></h1>\n",
    "<div class=\"toc\"><ul class=\"toc-item\"><li><span><a href=\"#Знакомство-с-данными\" data-toc-modified-id=\"Знакомство-с-данными-1\"><span class=\"toc-item-num\">1&nbsp;&nbsp;</span>Знакомство с данными</a></span></li><li><span><a href=\"#Предобработка-данных\" data-toc-modified-id=\"Предобработка-данных-2\"><span class=\"toc-item-num\">2&nbsp;&nbsp;</span>Предобработка данных</a></span><ul class=\"toc-item\"><li><span><a href=\"#Обработка-пропусков\" data-toc-modified-id=\"Обработка-пропусков-2.1\"><span class=\"toc-item-num\">2.1&nbsp;&nbsp;</span>Обработка пропусков</a></span></li><li><span><a href=\"#Замена-типа-данных\" data-toc-modified-id=\"Замена-типа-данных-2.2\"><span class=\"toc-item-num\">2.2&nbsp;&nbsp;</span>Замена типа данных</a></span></li><li><span><a href=\"#Обработка-дубликатов\" data-toc-modified-id=\"Обработка-дубликатов-2.3\"><span class=\"toc-item-num\">2.3&nbsp;&nbsp;</span>Обработка дубликатов</a></span></li><li><span><a href=\"#Категоризация-данных\" data-toc-modified-id=\"Категоризация-данных-2.4\"><span class=\"toc-item-num\">2.4&nbsp;&nbsp;</span>Категоризация данных</a></span></li></ul></li><li><span><a href=\"#Ответы-на-вопросы\" data-toc-modified-id=\"Ответы-на-вопросы-3\"><span class=\"toc-item-num\">3&nbsp;&nbsp;</span>Ответы на вопросы</a></span></li><li><span><a href=\"#Общий-вывод\" data-toc-modified-id=\"Общий-вывод-4\"><span class=\"toc-item-num\">4&nbsp;&nbsp;</span>Общий вывод</a></span></li></ul></div>"
   ]
  },
  {
   "cell_type": "markdown",
   "metadata": {},
   "source": [
    "# Исследование надёжности заёмщиков\n",
    "\n",
    "Заказчик — кредитный отдел банка. Нужно разобраться, влияет ли семейное положение и количество детей клиента на факт погашения кредита в срок. Входные данные от банка — статистика о платёжеспособности клиентов.\n",
    "\n",
    "Результаты исследования будут учтены при построении модели **кредитного скоринга** — специальной системы, которая оценивает способность потенциального заёмщика вернуть кредит банку.\n"
   ]
  },
  {
   "cell_type": "markdown",
   "metadata": {},
   "source": [
    "**Описание данных** \n",
    "\n",
    "- *children* — количество детей в семье\n",
    "- *days_employed* — общий трудовой стаж в днях\n",
    "- *dob_years* — возраст клиента в годах\n",
    "- *education* — уровень образования клиента\n",
    "- *education_id* — идентификатор уровня образования\n",
    "- *family_status* — семейное положение\n",
    "- *family_status_id* — идентификатор семейного положения\n",
    "- *gender* — пол клиента\n",
    "- *income_type* — тип занятости\n",
    "- *debt* — имел ли задолженность по возврату кредитов\n",
    "- *total_income* — ежемесячный доход\n",
    "- *purpose* — цель получения кредита"
   ]
  },
  {
   "cell_type": "markdown",
   "metadata": {},
   "source": [
    "## Знакомство с данными"
   ]
  },
  {
   "cell_type": "markdown",
   "metadata": {},
   "source": [
    "Откроем файл, предоставленный кредитным отделом банка и изучим информацию в нем."
   ]
  },
  {
   "cell_type": "code",
   "execution_count": 1,
   "metadata": {},
   "outputs": [
    {
     "data": {
      "text/html": [
       "<div>\n",
       "<style scoped>\n",
       "    .dataframe tbody tr th:only-of-type {\n",
       "        vertical-align: middle;\n",
       "    }\n",
       "\n",
       "    .dataframe tbody tr th {\n",
       "        vertical-align: top;\n",
       "    }\n",
       "\n",
       "    .dataframe thead th {\n",
       "        text-align: right;\n",
       "    }\n",
       "</style>\n",
       "<table border=\"1\" class=\"dataframe\">\n",
       "  <thead>\n",
       "    <tr style=\"text-align: right;\">\n",
       "      <th></th>\n",
       "      <th>children</th>\n",
       "      <th>days_employed</th>\n",
       "      <th>dob_years</th>\n",
       "      <th>education</th>\n",
       "      <th>education_id</th>\n",
       "      <th>family_status</th>\n",
       "      <th>family_status_id</th>\n",
       "      <th>gender</th>\n",
       "      <th>income_type</th>\n",
       "      <th>debt</th>\n",
       "      <th>total_income</th>\n",
       "      <th>purpose</th>\n",
       "    </tr>\n",
       "  </thead>\n",
       "  <tbody>\n",
       "    <tr>\n",
       "      <th>0</th>\n",
       "      <td>1</td>\n",
       "      <td>-8437.673028</td>\n",
       "      <td>42</td>\n",
       "      <td>высшее</td>\n",
       "      <td>0</td>\n",
       "      <td>женат / замужем</td>\n",
       "      <td>0</td>\n",
       "      <td>F</td>\n",
       "      <td>сотрудник</td>\n",
       "      <td>0</td>\n",
       "      <td>253875.639453</td>\n",
       "      <td>покупка жилья</td>\n",
       "    </tr>\n",
       "    <tr>\n",
       "      <th>1</th>\n",
       "      <td>1</td>\n",
       "      <td>-4024.803754</td>\n",
       "      <td>36</td>\n",
       "      <td>среднее</td>\n",
       "      <td>1</td>\n",
       "      <td>женат / замужем</td>\n",
       "      <td>0</td>\n",
       "      <td>F</td>\n",
       "      <td>сотрудник</td>\n",
       "      <td>0</td>\n",
       "      <td>112080.014102</td>\n",
       "      <td>приобретение автомобиля</td>\n",
       "    </tr>\n",
       "    <tr>\n",
       "      <th>2</th>\n",
       "      <td>0</td>\n",
       "      <td>-5623.422610</td>\n",
       "      <td>33</td>\n",
       "      <td>Среднее</td>\n",
       "      <td>1</td>\n",
       "      <td>женат / замужем</td>\n",
       "      <td>0</td>\n",
       "      <td>M</td>\n",
       "      <td>сотрудник</td>\n",
       "      <td>0</td>\n",
       "      <td>145885.952297</td>\n",
       "      <td>покупка жилья</td>\n",
       "    </tr>\n",
       "    <tr>\n",
       "      <th>3</th>\n",
       "      <td>3</td>\n",
       "      <td>-4124.747207</td>\n",
       "      <td>32</td>\n",
       "      <td>среднее</td>\n",
       "      <td>1</td>\n",
       "      <td>женат / замужем</td>\n",
       "      <td>0</td>\n",
       "      <td>M</td>\n",
       "      <td>сотрудник</td>\n",
       "      <td>0</td>\n",
       "      <td>267628.550329</td>\n",
       "      <td>дополнительное образование</td>\n",
       "    </tr>\n",
       "    <tr>\n",
       "      <th>4</th>\n",
       "      <td>0</td>\n",
       "      <td>340266.072047</td>\n",
       "      <td>53</td>\n",
       "      <td>среднее</td>\n",
       "      <td>1</td>\n",
       "      <td>гражданский брак</td>\n",
       "      <td>1</td>\n",
       "      <td>F</td>\n",
       "      <td>пенсионер</td>\n",
       "      <td>0</td>\n",
       "      <td>158616.077870</td>\n",
       "      <td>сыграть свадьбу</td>\n",
       "    </tr>\n",
       "    <tr>\n",
       "      <th>5</th>\n",
       "      <td>0</td>\n",
       "      <td>-926.185831</td>\n",
       "      <td>27</td>\n",
       "      <td>высшее</td>\n",
       "      <td>0</td>\n",
       "      <td>гражданский брак</td>\n",
       "      <td>1</td>\n",
       "      <td>M</td>\n",
       "      <td>компаньон</td>\n",
       "      <td>0</td>\n",
       "      <td>255763.565419</td>\n",
       "      <td>покупка жилья</td>\n",
       "    </tr>\n",
       "    <tr>\n",
       "      <th>6</th>\n",
       "      <td>0</td>\n",
       "      <td>-2879.202052</td>\n",
       "      <td>43</td>\n",
       "      <td>высшее</td>\n",
       "      <td>0</td>\n",
       "      <td>женат / замужем</td>\n",
       "      <td>0</td>\n",
       "      <td>F</td>\n",
       "      <td>компаньон</td>\n",
       "      <td>0</td>\n",
       "      <td>240525.971920</td>\n",
       "      <td>операции с жильем</td>\n",
       "    </tr>\n",
       "    <tr>\n",
       "      <th>7</th>\n",
       "      <td>0</td>\n",
       "      <td>-152.779569</td>\n",
       "      <td>50</td>\n",
       "      <td>СРЕДНЕЕ</td>\n",
       "      <td>1</td>\n",
       "      <td>женат / замужем</td>\n",
       "      <td>0</td>\n",
       "      <td>M</td>\n",
       "      <td>сотрудник</td>\n",
       "      <td>0</td>\n",
       "      <td>135823.934197</td>\n",
       "      <td>образование</td>\n",
       "    </tr>\n",
       "    <tr>\n",
       "      <th>8</th>\n",
       "      <td>2</td>\n",
       "      <td>-6929.865299</td>\n",
       "      <td>35</td>\n",
       "      <td>ВЫСШЕЕ</td>\n",
       "      <td>0</td>\n",
       "      <td>гражданский брак</td>\n",
       "      <td>1</td>\n",
       "      <td>F</td>\n",
       "      <td>сотрудник</td>\n",
       "      <td>0</td>\n",
       "      <td>95856.832424</td>\n",
       "      <td>на проведение свадьбы</td>\n",
       "    </tr>\n",
       "    <tr>\n",
       "      <th>9</th>\n",
       "      <td>0</td>\n",
       "      <td>-2188.756445</td>\n",
       "      <td>41</td>\n",
       "      <td>среднее</td>\n",
       "      <td>1</td>\n",
       "      <td>женат / замужем</td>\n",
       "      <td>0</td>\n",
       "      <td>M</td>\n",
       "      <td>сотрудник</td>\n",
       "      <td>0</td>\n",
       "      <td>144425.938277</td>\n",
       "      <td>покупка жилья для семьи</td>\n",
       "    </tr>\n",
       "  </tbody>\n",
       "</table>\n",
       "</div>"
      ],
      "text/plain": [
       "   children  days_employed  dob_years education  education_id  \\\n",
       "0         1   -8437.673028         42    высшее             0   \n",
       "1         1   -4024.803754         36   среднее             1   \n",
       "2         0   -5623.422610         33   Среднее             1   \n",
       "3         3   -4124.747207         32   среднее             1   \n",
       "4         0  340266.072047         53   среднее             1   \n",
       "5         0    -926.185831         27    высшее             0   \n",
       "6         0   -2879.202052         43    высшее             0   \n",
       "7         0    -152.779569         50   СРЕДНЕЕ             1   \n",
       "8         2   -6929.865299         35    ВЫСШЕЕ             0   \n",
       "9         0   -2188.756445         41   среднее             1   \n",
       "\n",
       "      family_status  family_status_id gender income_type  debt   total_income  \\\n",
       "0   женат / замужем                 0      F   сотрудник     0  253875.639453   \n",
       "1   женат / замужем                 0      F   сотрудник     0  112080.014102   \n",
       "2   женат / замужем                 0      M   сотрудник     0  145885.952297   \n",
       "3   женат / замужем                 0      M   сотрудник     0  267628.550329   \n",
       "4  гражданский брак                 1      F   пенсионер     0  158616.077870   \n",
       "5  гражданский брак                 1      M   компаньон     0  255763.565419   \n",
       "6   женат / замужем                 0      F   компаньон     0  240525.971920   \n",
       "7   женат / замужем                 0      M   сотрудник     0  135823.934197   \n",
       "8  гражданский брак                 1      F   сотрудник     0   95856.832424   \n",
       "9   женат / замужем                 0      M   сотрудник     0  144425.938277   \n",
       "\n",
       "                      purpose  \n",
       "0               покупка жилья  \n",
       "1     приобретение автомобиля  \n",
       "2               покупка жилья  \n",
       "3  дополнительное образование  \n",
       "4             сыграть свадьбу  \n",
       "5               покупка жилья  \n",
       "6           операции с жильем  \n",
       "7                 образование  \n",
       "8       на проведение свадьбы  \n",
       "9     покупка жилья для семьи  "
      ]
     },
     "execution_count": 1,
     "metadata": {},
     "output_type": "execute_result"
    }
   ],
   "source": [
    "# открытие и запись в переменную data таблицы\n",
    "import pandas as pd \n",
    "\n",
    "data = pd.read_csv('data.csv')\n",
    "data.head(10)\n"
   ]
  },
  {
   "cell_type": "markdown",
   "metadata": {},
   "source": [
    "**Вывод**"
   ]
  },
  {
   "cell_type": "markdown",
   "metadata": {},
   "source": [
    "На первый взгляд выгрузка содержит мало ошибок, но в таблице почти 22 тысячи строк. Столбцы таблицы названы корректно, переименовывать их не придётся. Если присмотреться к данным повнимательнее, то возникает ряд вопросов. \n",
    "* Столбец 'days_employed' - это общий трудовой стаж в днях. Почти все числа в нём отрицательные (возможно, это строки и минус - это тире, или количество дней считали, вычитая начала стажа текущий момент, а не наоборот?), а те, что не отрицательные - очень большие. Например, если человек работал 340266 дней все 365 дней в году, значит его стаж - почти 932 года! Это маловероятно, а точнее невероятно. Возможно, это указан стаж в часах? Тогда его стаж составит примерно 38 лет. Это уже ближе к вероятному, но для 53-летнего человека всё равно многовато. Также видно, что большие значение указаны там, где income_type это 'пенсионер'\n",
    "* Столбец 'total_income' — это ежемесячный доход. В каких единицах измерения? В рублях? В йенах? В цветочках? Допустим, в рублях."
   ]
  },
  {
   "cell_type": "markdown",
   "metadata": {},
   "source": [
    "## Предобработка данных"
   ]
  },
  {
   "cell_type": "markdown",
   "metadata": {},
   "source": [
    "### Обработка пропусков"
   ]
  },
  {
   "cell_type": "markdown",
   "metadata": {},
   "source": [
    "Сначала просмотрим общую информацию о таблице."
   ]
  },
  {
   "cell_type": "code",
   "execution_count": 2,
   "metadata": {},
   "outputs": [
    {
     "name": "stdout",
     "output_type": "stream",
     "text": [
      "<class 'pandas.core.frame.DataFrame'>\n",
      "RangeIndex: 21525 entries, 0 to 21524\n",
      "Data columns (total 12 columns):\n",
      " #   Column            Non-Null Count  Dtype  \n",
      "---  ------            --------------  -----  \n",
      " 0   children          21525 non-null  int64  \n",
      " 1   days_employed     19351 non-null  float64\n",
      " 2   dob_years         21525 non-null  int64  \n",
      " 3   education         21525 non-null  object \n",
      " 4   education_id      21525 non-null  int64  \n",
      " 5   family_status     21525 non-null  object \n",
      " 6   family_status_id  21525 non-null  int64  \n",
      " 7   gender            21525 non-null  object \n",
      " 8   income_type       21525 non-null  object \n",
      " 9   debt              21525 non-null  int64  \n",
      " 10  total_income      19351 non-null  float64\n",
      " 11  purpose           21525 non-null  object \n",
      "dtypes: float64(2), int64(5), object(5)\n",
      "memory usage: 2.0+ MB\n"
     ]
    }
   ],
   "source": [
    "# просмотр общей информации\n",
    "data.info()"
   ]
  },
  {
   "cell_type": "markdown",
   "metadata": {},
   "source": [
    "Видно, что пропуски есть в столбцах days_employed и total_income. Но нельзя исключать, что пропуски отсутствуют и в других столбцах, ведь они могут быть записаны, как строки или числовые значения. Начнем сначала. Столбец с количеством детей содержит целочисленный тип, поэтому строк там точно нет. Проверим уникальные значения. "
   ]
  },
  {
   "cell_type": "code",
   "execution_count": 3,
   "metadata": {},
   "outputs": [
    {
     "data": {
      "text/plain": [
       "array([ 1,  0,  3,  2, -1,  4, 20,  5], dtype=int64)"
      ]
     },
     "execution_count": 3,
     "metadata": {},
     "output_type": "execute_result"
    }
   ],
   "source": [
    "# уникальные значения количества детей в таблице\n",
    "data['children'].unique()"
   ]
  },
  {
   "cell_type": "markdown",
   "metadata": {},
   "source": [
    "Всё бы ничего, 20 детей ещё куда не шло (возможно, кто-то случайно приписал 0), но минус 1 - это странно. Тут могла бы быть шутка про сдачу ребёнка в детдом, но я не буду её шутить. Возможно, клиенты, у которых нет детей, просто пропустили этот вопрос и по умолчанию значение стоит -1. "
   ]
  },
  {
   "cell_type": "code",
   "execution_count": 4,
   "metadata": {},
   "outputs": [
    {
     "data": {
      "text/plain": [
       "47"
      ]
     },
     "execution_count": 4,
     "metadata": {},
     "output_type": "execute_result"
    }
   ],
   "source": [
    "# количество клиентов со значением 'children' равным -1\n",
    "data[data['children'] < 0]['children'].count()"
   ]
  },
  {
   "cell_type": "markdown",
   "metadata": {},
   "source": [
    "Так как одной из основных задач является нахождение влияния наличия детей на факт погашения кредита, проверим столбец 'debt' у этих клиентов."
   ]
  },
  {
   "cell_type": "code",
   "execution_count": 5,
   "metadata": {},
   "outputs": [
    {
     "data": {
      "text/plain": [
       "0    46\n",
       "1     1\n",
       "Name: debt, dtype: int64"
      ]
     },
     "execution_count": 5,
     "metadata": {},
     "output_type": "execute_result"
    }
   ],
   "source": [
    "# сколько среди таких клиентов должников\n",
    "data[data['children'] < 0]['debt'].value_counts()"
   ]
  },
  {
   "cell_type": "markdown",
   "metadata": {},
   "source": [
    "Почти все, за исключением одного пользователя, не имели задолженностей по кредиту, поэтому если мы самостоятельно установим значения 1 или 0 в таких строках, то мы искуственно повлияем на результат. Это достаточно маленький процент записей из всей таблицы, поэтому мы можем просто исключить эти строки из исследования.  "
   ]
  },
  {
   "cell_type": "code",
   "execution_count": 6,
   "metadata": {},
   "outputs": [
    {
     "name": "stdout",
     "output_type": "stream",
     "text": [
      "<class 'pandas.core.frame.DataFrame'>\n",
      "RangeIndex: 21478 entries, 0 to 21477\n",
      "Data columns (total 12 columns):\n",
      " #   Column            Non-Null Count  Dtype  \n",
      "---  ------            --------------  -----  \n",
      " 0   children          21478 non-null  int64  \n",
      " 1   days_employed     19307 non-null  float64\n",
      " 2   dob_years         21478 non-null  int64  \n",
      " 3   education         21478 non-null  object \n",
      " 4   education_id      21478 non-null  int64  \n",
      " 5   family_status     21478 non-null  object \n",
      " 6   family_status_id  21478 non-null  int64  \n",
      " 7   gender            21478 non-null  object \n",
      " 8   income_type       21478 non-null  object \n",
      " 9   debt              21478 non-null  int64  \n",
      " 10  total_income      19307 non-null  float64\n",
      " 11  purpose           21478 non-null  object \n",
      "dtypes: float64(2), int64(5), object(5)\n",
      "memory usage: 2.0+ MB\n"
     ]
    }
   ],
   "source": [
    "# удаляем строки и проверяем результат\n",
    "data = data.loc[data['children'] >= 0, :] \n",
    "data.reset_index(drop=True, inplace=True)\n",
    "data.info()"
   ]
  },
  {
   "cell_type": "markdown",
   "metadata": {},
   "source": [
    "Строки удалились, проверяем дальше. Посмотрим, все ли клиенты в этой выгрузке имеют возраст."
   ]
  },
  {
   "cell_type": "code",
   "execution_count": 7,
   "metadata": {},
   "outputs": [
    {
     "data": {
      "text/plain": [
       "0     101\n",
       "19     14\n",
       "20     51\n",
       "21    111\n",
       "22    183\n",
       "Name: dob_years, dtype: int64"
      ]
     },
     "execution_count": 7,
     "metadata": {},
     "output_type": "execute_result"
    }
   ],
   "source": [
    "# сортируем количество людей опредлённого возраста по его возрастанию\n",
    "data['dob_years'].value_counts().sort_index().head()"
   ]
  },
  {
   "cell_type": "markdown",
   "metadata": {},
   "source": [
    "101 человек с нулевым возрастом - это грустно. Посмотрим, какие у них другие значения в таблице."
   ]
  },
  {
   "cell_type": "code",
   "execution_count": 8,
   "metadata": {
    "scrolled": false
   },
   "outputs": [
    {
     "data": {
      "text/html": [
       "<div>\n",
       "<style scoped>\n",
       "    .dataframe tbody tr th:only-of-type {\n",
       "        vertical-align: middle;\n",
       "    }\n",
       "\n",
       "    .dataframe tbody tr th {\n",
       "        vertical-align: top;\n",
       "    }\n",
       "\n",
       "    .dataframe thead th {\n",
       "        text-align: right;\n",
       "    }\n",
       "</style>\n",
       "<table border=\"1\" class=\"dataframe\">\n",
       "  <thead>\n",
       "    <tr style=\"text-align: right;\">\n",
       "      <th></th>\n",
       "      <th>children</th>\n",
       "      <th>days_employed</th>\n",
       "      <th>dob_years</th>\n",
       "      <th>education</th>\n",
       "      <th>education_id</th>\n",
       "      <th>family_status</th>\n",
       "      <th>family_status_id</th>\n",
       "      <th>gender</th>\n",
       "      <th>income_type</th>\n",
       "      <th>debt</th>\n",
       "      <th>total_income</th>\n",
       "      <th>purpose</th>\n",
       "    </tr>\n",
       "  </thead>\n",
       "  <tbody>\n",
       "    <tr>\n",
       "      <th>99</th>\n",
       "      <td>0</td>\n",
       "      <td>346541.618895</td>\n",
       "      <td>0</td>\n",
       "      <td>Среднее</td>\n",
       "      <td>1</td>\n",
       "      <td>женат / замужем</td>\n",
       "      <td>0</td>\n",
       "      <td>F</td>\n",
       "      <td>пенсионер</td>\n",
       "      <td>0</td>\n",
       "      <td>71291.522491</td>\n",
       "      <td>автомобиль</td>\n",
       "    </tr>\n",
       "    <tr>\n",
       "      <th>149</th>\n",
       "      <td>0</td>\n",
       "      <td>-2664.273168</td>\n",
       "      <td>0</td>\n",
       "      <td>среднее</td>\n",
       "      <td>1</td>\n",
       "      <td>в разводе</td>\n",
       "      <td>3</td>\n",
       "      <td>F</td>\n",
       "      <td>сотрудник</td>\n",
       "      <td>0</td>\n",
       "      <td>70176.435951</td>\n",
       "      <td>операции с жильем</td>\n",
       "    </tr>\n",
       "    <tr>\n",
       "      <th>270</th>\n",
       "      <td>3</td>\n",
       "      <td>-1872.663186</td>\n",
       "      <td>0</td>\n",
       "      <td>среднее</td>\n",
       "      <td>1</td>\n",
       "      <td>женат / замужем</td>\n",
       "      <td>0</td>\n",
       "      <td>F</td>\n",
       "      <td>сотрудник</td>\n",
       "      <td>0</td>\n",
       "      <td>102166.458894</td>\n",
       "      <td>ремонт жилью</td>\n",
       "    </tr>\n",
       "    <tr>\n",
       "      <th>577</th>\n",
       "      <td>0</td>\n",
       "      <td>397856.565013</td>\n",
       "      <td>0</td>\n",
       "      <td>среднее</td>\n",
       "      <td>1</td>\n",
       "      <td>женат / замужем</td>\n",
       "      <td>0</td>\n",
       "      <td>F</td>\n",
       "      <td>пенсионер</td>\n",
       "      <td>0</td>\n",
       "      <td>97620.687042</td>\n",
       "      <td>строительство собственной недвижимости</td>\n",
       "    </tr>\n",
       "    <tr>\n",
       "      <th>1035</th>\n",
       "      <td>0</td>\n",
       "      <td>-1158.029561</td>\n",
       "      <td>0</td>\n",
       "      <td>высшее</td>\n",
       "      <td>0</td>\n",
       "      <td>в разводе</td>\n",
       "      <td>3</td>\n",
       "      <td>F</td>\n",
       "      <td>компаньон</td>\n",
       "      <td>0</td>\n",
       "      <td>303994.134987</td>\n",
       "      <td>свой автомобиль</td>\n",
       "    </tr>\n",
       "  </tbody>\n",
       "</table>\n",
       "</div>"
      ],
      "text/plain": [
       "      children  days_employed  dob_years education  education_id  \\\n",
       "99           0  346541.618895          0   Среднее             1   \n",
       "149          0   -2664.273168          0   среднее             1   \n",
       "270          3   -1872.663186          0   среднее             1   \n",
       "577          0  397856.565013          0   среднее             1   \n",
       "1035         0   -1158.029561          0    высшее             0   \n",
       "\n",
       "        family_status  family_status_id gender income_type  debt  \\\n",
       "99    женат / замужем                 0      F   пенсионер     0   \n",
       "149         в разводе                 3      F   сотрудник     0   \n",
       "270   женат / замужем                 0      F   сотрудник     0   \n",
       "577   женат / замужем                 0      F   пенсионер     0   \n",
       "1035        в разводе                 3      F   компаньон     0   \n",
       "\n",
       "       total_income                                 purpose  \n",
       "99     71291.522491                              автомобиль  \n",
       "149    70176.435951                       операции с жильем  \n",
       "270   102166.458894                            ремонт жилью  \n",
       "577    97620.687042  строительство собственной недвижимости  \n",
       "1035  303994.134987                         свой автомобиль  "
      ]
     },
     "execution_count": 8,
     "metadata": {},
     "output_type": "execute_result"
    }
   ],
   "source": [
    "# выводим информацию о клиентах с нулевым возрастом\n",
    "data[data['dob_years'] == 0].head()"
   ]
  },
  {
   "cell_type": "markdown",
   "metadata": {},
   "source": [
    "Даже по стажу можно сказать, что пропущенный возраст может быть абсолютно разным, поэтому просто заменить на средний возраст тут не получится. Посмотрим, как эти новорожденные выплачивают кредиты."
   ]
  },
  {
   "cell_type": "code",
   "execution_count": 9,
   "metadata": {},
   "outputs": [
    {
     "data": {
      "text/plain": [
       "0    93\n",
       "1     8\n",
       "Name: debt, dtype: int64"
      ]
     },
     "execution_count": 9,
     "metadata": {},
     "output_type": "execute_result"
    }
   ],
   "source": [
    "# сколько среди таких клиентов должников\n",
    "data[data['dob_years'] == 0]['debt'].value_counts()"
   ]
  },
  {
   "cell_type": "markdown",
   "metadata": {},
   "source": [
    "Только 8% не выплачивают кредит вовремя. И 101 человек - это тоже достаточно маленький процент от всей выгрузки, поэтому думаю исключение этих строк не очень повлияет на результат. "
   ]
  },
  {
   "cell_type": "code",
   "execution_count": 10,
   "metadata": {},
   "outputs": [
    {
     "name": "stdout",
     "output_type": "stream",
     "text": [
      "<class 'pandas.core.frame.DataFrame'>\n",
      "RangeIndex: 21377 entries, 0 to 21376\n",
      "Data columns (total 12 columns):\n",
      " #   Column            Non-Null Count  Dtype  \n",
      "---  ------            --------------  -----  \n",
      " 0   children          21377 non-null  int64  \n",
      " 1   days_employed     19216 non-null  float64\n",
      " 2   dob_years         21377 non-null  int64  \n",
      " 3   education         21377 non-null  object \n",
      " 4   education_id      21377 non-null  int64  \n",
      " 5   family_status     21377 non-null  object \n",
      " 6   family_status_id  21377 non-null  int64  \n",
      " 7   gender            21377 non-null  object \n",
      " 8   income_type       21377 non-null  object \n",
      " 9   debt              21377 non-null  int64  \n",
      " 10  total_income      19216 non-null  float64\n",
      " 11  purpose           21377 non-null  object \n",
      "dtypes: float64(2), int64(5), object(5)\n",
      "memory usage: 2.0+ MB\n"
     ]
    }
   ],
   "source": [
    "# проверяем, удалились ли строки\n",
    "data = data.loc[data['dob_years'] > 0, :] \n",
    "data.reset_index(drop=True, inplace=True)\n",
    "data.info()"
   ]
  },
  {
   "cell_type": "markdown",
   "metadata": {},
   "source": [
    "Пропуски успешно удалились. Видно, что пропуски остались в столбцах days_employed и total_income, причем их одинаковое количество. Возможно, они даже содержаться в одних и тех же записях. Проверим это."
   ]
  },
  {
   "cell_type": "code",
   "execution_count": 11,
   "metadata": {},
   "outputs": [
    {
     "name": "stdout",
     "output_type": "stream",
     "text": [
      "Количество пропусков в столбцах days_employed и total_income совпадает\n"
     ]
    }
   ],
   "source": [
    "# проверка количества пропусков в столбцах\n",
    "if data['days_employed'].isna().sum() == data['total_income'].isna().sum():\n",
    "    print('Количество пропусков в столбцах days_employed и total_income совпадает')"
   ]
  },
  {
   "cell_type": "code",
   "execution_count": 12,
   "metadata": {},
   "outputs": [
    {
     "data": {
      "text/html": [
       "<div>\n",
       "<style scoped>\n",
       "    .dataframe tbody tr th:only-of-type {\n",
       "        vertical-align: middle;\n",
       "    }\n",
       "\n",
       "    .dataframe tbody tr th {\n",
       "        vertical-align: top;\n",
       "    }\n",
       "\n",
       "    .dataframe thead th {\n",
       "        text-align: right;\n",
       "    }\n",
       "</style>\n",
       "<table border=\"1\" class=\"dataframe\">\n",
       "  <thead>\n",
       "    <tr style=\"text-align: right;\">\n",
       "      <th></th>\n",
       "      <th>children</th>\n",
       "      <th>days_employed</th>\n",
       "      <th>dob_years</th>\n",
       "      <th>education</th>\n",
       "      <th>education_id</th>\n",
       "      <th>family_status</th>\n",
       "      <th>family_status_id</th>\n",
       "      <th>gender</th>\n",
       "      <th>income_type</th>\n",
       "      <th>debt</th>\n",
       "      <th>total_income</th>\n",
       "      <th>purpose</th>\n",
       "    </tr>\n",
       "  </thead>\n",
       "  <tbody>\n",
       "    <tr>\n",
       "      <th>12</th>\n",
       "      <td>0</td>\n",
       "      <td>NaN</td>\n",
       "      <td>65</td>\n",
       "      <td>среднее</td>\n",
       "      <td>1</td>\n",
       "      <td>гражданский брак</td>\n",
       "      <td>1</td>\n",
       "      <td>M</td>\n",
       "      <td>пенсионер</td>\n",
       "      <td>0</td>\n",
       "      <td>NaN</td>\n",
       "      <td>сыграть свадьбу</td>\n",
       "    </tr>\n",
       "    <tr>\n",
       "      <th>26</th>\n",
       "      <td>0</td>\n",
       "      <td>NaN</td>\n",
       "      <td>41</td>\n",
       "      <td>среднее</td>\n",
       "      <td>1</td>\n",
       "      <td>женат / замужем</td>\n",
       "      <td>0</td>\n",
       "      <td>M</td>\n",
       "      <td>госслужащий</td>\n",
       "      <td>0</td>\n",
       "      <td>NaN</td>\n",
       "      <td>образование</td>\n",
       "    </tr>\n",
       "    <tr>\n",
       "      <th>29</th>\n",
       "      <td>0</td>\n",
       "      <td>NaN</td>\n",
       "      <td>63</td>\n",
       "      <td>среднее</td>\n",
       "      <td>1</td>\n",
       "      <td>Не женат / не замужем</td>\n",
       "      <td>4</td>\n",
       "      <td>F</td>\n",
       "      <td>пенсионер</td>\n",
       "      <td>0</td>\n",
       "      <td>NaN</td>\n",
       "      <td>строительство жилой недвижимости</td>\n",
       "    </tr>\n",
       "    <tr>\n",
       "      <th>41</th>\n",
       "      <td>0</td>\n",
       "      <td>NaN</td>\n",
       "      <td>50</td>\n",
       "      <td>среднее</td>\n",
       "      <td>1</td>\n",
       "      <td>женат / замужем</td>\n",
       "      <td>0</td>\n",
       "      <td>F</td>\n",
       "      <td>госслужащий</td>\n",
       "      <td>0</td>\n",
       "      <td>NaN</td>\n",
       "      <td>сделка с подержанным автомобилем</td>\n",
       "    </tr>\n",
       "    <tr>\n",
       "      <th>55</th>\n",
       "      <td>0</td>\n",
       "      <td>NaN</td>\n",
       "      <td>54</td>\n",
       "      <td>среднее</td>\n",
       "      <td>1</td>\n",
       "      <td>гражданский брак</td>\n",
       "      <td>1</td>\n",
       "      <td>F</td>\n",
       "      <td>пенсионер</td>\n",
       "      <td>1</td>\n",
       "      <td>NaN</td>\n",
       "      <td>сыграть свадьбу</td>\n",
       "    </tr>\n",
       "  </tbody>\n",
       "</table>\n",
       "</div>"
      ],
      "text/plain": [
       "    children  days_employed  dob_years education  education_id  \\\n",
       "12         0            NaN         65   среднее             1   \n",
       "26         0            NaN         41   среднее             1   \n",
       "29         0            NaN         63   среднее             1   \n",
       "41         0            NaN         50   среднее             1   \n",
       "55         0            NaN         54   среднее             1   \n",
       "\n",
       "            family_status  family_status_id gender  income_type  debt  \\\n",
       "12       гражданский брак                 1      M    пенсионер     0   \n",
       "26        женат / замужем                 0      M  госслужащий     0   \n",
       "29  Не женат / не замужем                 4      F    пенсионер     0   \n",
       "41        женат / замужем                 0      F  госслужащий     0   \n",
       "55       гражданский брак                 1      F    пенсионер     1   \n",
       "\n",
       "    total_income                           purpose  \n",
       "12           NaN                   сыграть свадьбу  \n",
       "26           NaN                       образование  \n",
       "29           NaN  строительство жилой недвижимости  \n",
       "41           NaN  сделка с подержанным автомобилем  \n",
       "55           NaN                   сыграть свадьбу  "
      ]
     },
     "execution_count": 12,
     "metadata": {},
     "output_type": "execute_result"
    }
   ],
   "source": [
    "# вывод на экран таблицы с пропусками\n",
    "data_nan = data[data['days_employed'].isna()]\n",
    "data_nan.head()"
   ]
  },
  {
   "cell_type": "markdown",
   "metadata": {},
   "source": [
    "Возможно, пропуски и правда содержатся в одних и тех же записях. "
   ]
  },
  {
   "cell_type": "code",
   "execution_count": 13,
   "metadata": {},
   "outputs": [
    {
     "name": "stdout",
     "output_type": "stream",
     "text": [
      "Пропуски в столбцах days_employed и total_income содержаться в одних и тех же записях.\n"
     ]
    }
   ],
   "source": [
    "# проверка пропусков \n",
    "if data_nan['days_employed'].isna().sum() == data_nan['total_income'].isna().sum():\n",
    "    print('Пропуски в столбцах days_employed и total_income содержаться в одних и тех же записях.')"
   ]
  },
  {
   "cell_type": "markdown",
   "metadata": {},
   "source": [
    "Значения зарплаты отсутствуют тогда и только тогда, когда отсутствуют сведения о стаже. Возможно, в таблице указывался стаж по трудовой книжке, поэтому значения могут быть пропущены. Соответственно, и зарплата указана только там, где стаж есть. \n",
    "\n",
    "Проверим, может быть таких случаев немного и мы сможем их просто исключить из исследования."
   ]
  },
  {
   "cell_type": "code",
   "execution_count": 14,
   "metadata": {},
   "outputs": [
    {
     "name": "stdout",
     "output_type": "stream",
     "text": [
      "Процент строк, содержащих пропуски: 10%\n"
     ]
    }
   ],
   "source": [
    "# расчёт процента строк с пропусками\n",
    "print('Процент строк, содержащих пропуски: {:.0%}'.format(data_nan['children'].count() / data['children'].count()))"
   ]
  },
  {
   "cell_type": "markdown",
   "metadata": {},
   "source": [
    "10% строк с пропусками - это довольно большой процент, поэтому просто удалить эти строки нельзя, ведь мы потеряем существенное количество важной информации. Основной задачей исследования является обнаружение влияния семейного положения и количества детей на факт погашения клиентом кредита. Эта информация представлена в таблице полностью. Даже по первым строкам таблицы с пропусками видно, что отсутсвие информации о стаже и заработной плате клиента не влияет на наличие значения в столбце о наличии у него задолженностей по кредиту. \n",
    "\n",
    "Значения в столцах с пропусками являются количественными характеристиками, поэтому мы можем заменить эти значения нулями, средним арифметическим или медианой. \n",
    "\n",
    "Но предже чем мы это сделаем, разберемся c отрицательными и огромными значениям в столбце 'days_employed'."
   ]
  },
  {
   "cell_type": "code",
   "execution_count": 15,
   "metadata": {},
   "outputs": [
    {
     "name": "stdout",
     "output_type": "stream",
     "text": [
      "Максимальное положительное значение: 401755.40047533\n",
      "Максимальное положительное значение: 328728.72060451825\n"
     ]
    }
   ],
   "source": [
    "# поиск минимального и максимального положительного числа в стоблце\n",
    "max_positive = data['days_employed'].max()\n",
    "print('Максимальное положительное значение:', max_positive)\n",
    "min_positive = data['days_employed'][data['days_employed'] >= 0].min()\n",
    "print('Максимальное положительное значение:', min_positive)"
   ]
  },
  {
   "cell_type": "markdown",
   "metadata": {},
   "source": [
    "Максимальное и минимальное положительное значения довольно велики, значит все положительные значения указаны некорректно. Проверим гипотезу о том, что такие значения установлены только у пенсионеров. "
   ]
  },
  {
   "cell_type": "code",
   "execution_count": 16,
   "metadata": {},
   "outputs": [
    {
     "data": {
      "text/plain": [
       "array(['пенсионер', 'безработный'], dtype=object)"
      ]
     },
     "execution_count": 16,
     "metadata": {},
     "output_type": "execute_result"
    }
   ],
   "source": [
    "# уникальные значения в столбце 'income_type', где зарплата больше минимального положительного значения\n",
    "max_money_income_type_unique = data[data['days_employed'] >= min_positive]['income_type'].unique()\n",
    "max_money_income_type_unique"
   ]
  },
  {
   "cell_type": "markdown",
   "metadata": {},
   "source": [
    "Гипотеза не подтвердилась, огромный стаж установлен и для безработных.\n",
    "\n",
    "Проверим, установлен ли этот стаж в часах. Разденим каждое такое значение на количество часов в году и сравним с возрастом клиента. "
   ]
  },
  {
   "cell_type": "code",
   "execution_count": 17,
   "metadata": {},
   "outputs": [
    {
     "data": {
      "text/plain": [
       "19299   -18.451731\n",
       "12413   -16.321016\n",
       "1230    -16.215098\n",
       "13849   -16.016505\n",
       "16046   -15.592260\n",
       "dtype: float64"
      ]
     },
     "execution_count": 17,
     "metadata": {},
     "output_type": "execute_result"
    }
   ],
   "source": [
    "# проверка корректности данных:\n",
    "# из возраста вычитаем стаж, рассчитаный в годах для тех, у кого стаж указан положительный\n",
    "years_not_employed = data[data['days_employed'] >= min_positive]['dob_years'] - data[data['days_employed'] >= min_positive]['days_employed'] / 365 / 24\n",
    "years_not_employed[years_not_employed <= 0].sort_values().head()"
   ]
  },
  {
   "cell_type": "markdown",
   "metadata": {},
   "source": [
    "Что-то явно не сходится. Посмотрим подробную информацию на подобных клиентах."
   ]
  },
  {
   "cell_type": "code",
   "execution_count": 18,
   "metadata": {},
   "outputs": [
    {
     "data": {
      "text/plain": [
       "children                               0\n",
       "days_employed              389397.167577\n",
       "dob_years                             26\n",
       "education                         высшее\n",
       "education_id                           0\n",
       "family_status            женат / замужем\n",
       "family_status_id                       0\n",
       "gender                                 F\n",
       "income_type                    пенсионер\n",
       "debt                                   0\n",
       "total_income               214963.301941\n",
       "purpose             покупка недвижимости\n",
       "Name: 19299, dtype: object"
      ]
     },
     "execution_count": 18,
     "metadata": {},
     "output_type": "execute_result"
    }
   ],
   "source": [
    "# проверка конкретного пользователя\n",
    "data.loc[19299][:]"
   ]
  },
  {
   "cell_type": "markdown",
   "metadata": {},
   "source": [
    "Странно - пенсионер в возрасте 26 лет. Возраст здесь явно указан неверно. Почему? \"Человеческий фактор\" :) Посмотрим, сколько у нас таких пенсионеров. "
   ]
  },
  {
   "cell_type": "code",
   "execution_count": 19,
   "metadata": {},
   "outputs": [
    {
     "data": {
      "text/plain": [
       "22    1\n",
       "24    1\n",
       "26    2\n",
       "27    3\n",
       "31    1\n",
       "Name: dob_years, dtype: int64"
      ]
     },
     "execution_count": 19,
     "metadata": {},
     "output_type": "execute_result"
    }
   ],
   "source": [
    "# сортировка количества пенсионеров определённого возраста по его возрастанию\n",
    "data[data['income_type'] == 'пенсионер']['dob_years'].value_counts().sort_index().head()"
   ]
  },
  {
   "cell_type": "markdown",
   "metadata": {},
   "source": [
    "Я думаю, что проблема данных именно в некорректном заполнении возраста, поскольку прежде мы установили, что большой стаж установлен только для пенсионеров и безработных. Поэтому некорректно будет сравнивать рассчитаный стаж с возрастом. Я бы вообще не доверяла этому столбцу, поскольку мы точно не можем исправить в нем возраст на истинный. Если далее в рассчетах понадобится информация именно о возрасте, то будем использовать эти значения \"аккуратно\". \n",
    "\n",
    "Заменим эти огромные значения на близкие к истинне, разделив их на количество часов в дне. "
   ]
  },
  {
   "cell_type": "code",
   "execution_count": 20,
   "metadata": {},
   "outputs": [
    {
     "name": "stdout",
     "output_type": "stream",
     "text": [
      "Максимальное положительное значение: 16739.80835313875\n"
     ]
    }
   ],
   "source": [
    "# приведение аномальных значений стажа к более реальному:\n",
    "# делим существующие значения на количество часов в дне\n",
    "data.loc[data['days_employed'] >= min_positive, 'days_employed'] = data[data['days_employed'] >= min_positive]['days_employed'] / 24\n",
    "print('Максимальное положительное значение:',data['days_employed'].max())"
   ]
  },
  {
   "cell_type": "markdown",
   "metadata": {},
   "source": [
    "После замены значений максимальный стаж в днях уже не такой уж и запредельный. Теперь разберёмся с отрицательными значениями. Заменим их на положительные. "
   ]
  },
  {
   "cell_type": "code",
   "execution_count": 21,
   "metadata": {},
   "outputs": [
    {
     "name": "stdout",
     "output_type": "stream",
     "text": [
      "Минимальное значение стажа - 24.14, максимальное - 18388.95\n"
     ]
    }
   ],
   "source": [
    "# замена всех отричательных значений стажа на положительные \n",
    "data['days_employed'] = abs(data['days_employed'])\n",
    "print('Минимальное значение стажа - {:.2f}, максимальное - {:.2f}'.format(data['days_employed'].min(), data['days_employed'].max()))"
   ]
  },
  {
   "cell_type": "markdown",
   "metadata": {},
   "source": [
    "Минимальное и максимальное значения стажа теперь приемлемы.\n",
    "\n",
    "Вернемся к пропущенным значениям. Я думаю, надо ли вообще их заменять, ведь NaN - это float тип, который может участвовать в арифметических операциях? Замена на приближённые значения могут повлиять на результат. Но я удалять такие строки тоже не стоит, ведь их почти 10% и они содержат значимую информацию в других столбцах. Заменим эти значения на медианные в разрезе типа занятости, так, на мой взгляд, будет правдоподобнее всего. "
   ]
  },
  {
   "cell_type": "code",
   "execution_count": 22,
   "metadata": {},
   "outputs": [],
   "source": [
    "# группируем столбцы 'days_employed' и 'total_income' по значениям 'income_type'\n",
    "# ищем медиану сгруппированных значений\n",
    "# добавляем результат вместо соответствующих пропущенных значений\n",
    "data['days_employed'] = data['days_employed'].fillna(data.groupby('income_type')['days_employed'].transform('median'))\n",
    "data['total_income'] = data['total_income'].fillna(data.groupby('income_type')['total_income'].transform('median'))"
   ]
  },
  {
   "cell_type": "markdown",
   "metadata": {},
   "source": [
    "Проверим, успешно ли заполнены пропуски в таблице."
   ]
  },
  {
   "cell_type": "code",
   "execution_count": 23,
   "metadata": {},
   "outputs": [
    {
     "name": "stdout",
     "output_type": "stream",
     "text": [
      "<class 'pandas.core.frame.DataFrame'>\n",
      "RangeIndex: 21377 entries, 0 to 21376\n",
      "Data columns (total 12 columns):\n",
      " #   Column            Non-Null Count  Dtype  \n",
      "---  ------            --------------  -----  \n",
      " 0   children          21377 non-null  int64  \n",
      " 1   days_employed     21377 non-null  float64\n",
      " 2   dob_years         21377 non-null  int64  \n",
      " 3   education         21377 non-null  object \n",
      " 4   education_id      21377 non-null  int64  \n",
      " 5   family_status     21377 non-null  object \n",
      " 6   family_status_id  21377 non-null  int64  \n",
      " 7   gender            21377 non-null  object \n",
      " 8   income_type       21377 non-null  object \n",
      " 9   debt              21377 non-null  int64  \n",
      " 10  total_income      21377 non-null  float64\n",
      " 11  purpose           21377 non-null  object \n",
      "dtypes: float64(2), int64(5), object(5)\n",
      "memory usage: 2.0+ MB\n"
     ]
    }
   ],
   "source": [
    "data.info()"
   ]
  },
  {
   "cell_type": "markdown",
   "metadata": {},
   "source": [
    "**Вывод**"
   ]
  },
  {
   "cell_type": "markdown",
   "metadata": {},
   "source": [
    "На этапе обработки пропусков были приняты следующие решения: \n",
    "* Данные с нулевым возрастом клиента и наличием -1 ребенка были удалены из датасета: количество таких строк не велико (около 1%), поэтому это не отразиться на результатах значительно.\n",
    "* Данные стажа были обработаны в соответствии со здравым смыслом. \n",
    "* Пропуски, обнаруженные в столбцах стажа и зарплаты, оказались в одних и тех же строчках, но таких строчек около 10%. Столько строчек удалять из выгрузки не стоит, к тому же в других ячейках они содержат важную информацию, которую терять в таком количестве нельзя. Поэтому было решено заполнить эти пропуски медианными значениями в разрезе типа занятости. \n",
    "\n",
    "Проведённая предобработка данных может минимально исказить результаты исследования, и не стоит об этом забывать. "
   ]
  },
  {
   "cell_type": "markdown",
   "metadata": {},
   "source": [
    "### Замена типа данных"
   ]
  },
  {
   "cell_type": "markdown",
   "metadata": {},
   "source": [
    "Взглянем ещё раз на информацию о таблице и обратим внимание на типы данных."
   ]
  },
  {
   "cell_type": "code",
   "execution_count": 24,
   "metadata": {},
   "outputs": [
    {
     "name": "stdout",
     "output_type": "stream",
     "text": [
      "<class 'pandas.core.frame.DataFrame'>\n",
      "RangeIndex: 21377 entries, 0 to 21376\n",
      "Data columns (total 12 columns):\n",
      " #   Column            Non-Null Count  Dtype  \n",
      "---  ------            --------------  -----  \n",
      " 0   children          21377 non-null  int64  \n",
      " 1   days_employed     21377 non-null  float64\n",
      " 2   dob_years         21377 non-null  int64  \n",
      " 3   education         21377 non-null  object \n",
      " 4   education_id      21377 non-null  int64  \n",
      " 5   family_status     21377 non-null  object \n",
      " 6   family_status_id  21377 non-null  int64  \n",
      " 7   gender            21377 non-null  object \n",
      " 8   income_type       21377 non-null  object \n",
      " 9   debt              21377 non-null  int64  \n",
      " 10  total_income      21377 non-null  float64\n",
      " 11  purpose           21377 non-null  object \n",
      "dtypes: float64(2), int64(5), object(5)\n",
      "memory usage: 2.0+ MB\n"
     ]
    }
   ],
   "source": [
    "data.info()"
   ]
  },
  {
   "cell_type": "markdown",
   "metadata": {},
   "source": [
    "На самом деле с типами данных тут всё в порядке на мой взгляд, обязательной замены тут не требуется. Но можно изменить столбцы 'days_employed' и 'total_income' на целочисленный тип, потому что вряд ли нам сильно понадобится дробная часть дней стажа или рублей. "
   ]
  },
  {
   "cell_type": "code",
   "execution_count": 25,
   "metadata": {},
   "outputs": [],
   "source": [
    "# замена типа столбцов на целочисленный\n",
    "data['days_employed'] = data['days_employed'].astype('int')\n",
    "data['total_income'] = data['total_income'].astype('int')"
   ]
  },
  {
   "cell_type": "code",
   "execution_count": 26,
   "metadata": {},
   "outputs": [
    {
     "data": {
      "text/html": [
       "<div>\n",
       "<style scoped>\n",
       "    .dataframe tbody tr th:only-of-type {\n",
       "        vertical-align: middle;\n",
       "    }\n",
       "\n",
       "    .dataframe tbody tr th {\n",
       "        vertical-align: top;\n",
       "    }\n",
       "\n",
       "    .dataframe thead th {\n",
       "        text-align: right;\n",
       "    }\n",
       "</style>\n",
       "<table border=\"1\" class=\"dataframe\">\n",
       "  <thead>\n",
       "    <tr style=\"text-align: right;\">\n",
       "      <th></th>\n",
       "      <th>children</th>\n",
       "      <th>days_employed</th>\n",
       "      <th>dob_years</th>\n",
       "      <th>education</th>\n",
       "      <th>education_id</th>\n",
       "      <th>family_status</th>\n",
       "      <th>family_status_id</th>\n",
       "      <th>gender</th>\n",
       "      <th>income_type</th>\n",
       "      <th>debt</th>\n",
       "      <th>total_income</th>\n",
       "      <th>purpose</th>\n",
       "    </tr>\n",
       "  </thead>\n",
       "  <tbody>\n",
       "    <tr>\n",
       "      <th>0</th>\n",
       "      <td>1</td>\n",
       "      <td>8437</td>\n",
       "      <td>42</td>\n",
       "      <td>высшее</td>\n",
       "      <td>0</td>\n",
       "      <td>женат / замужем</td>\n",
       "      <td>0</td>\n",
       "      <td>F</td>\n",
       "      <td>сотрудник</td>\n",
       "      <td>0</td>\n",
       "      <td>253875</td>\n",
       "      <td>покупка жилья</td>\n",
       "    </tr>\n",
       "    <tr>\n",
       "      <th>1</th>\n",
       "      <td>1</td>\n",
       "      <td>4024</td>\n",
       "      <td>36</td>\n",
       "      <td>среднее</td>\n",
       "      <td>1</td>\n",
       "      <td>женат / замужем</td>\n",
       "      <td>0</td>\n",
       "      <td>F</td>\n",
       "      <td>сотрудник</td>\n",
       "      <td>0</td>\n",
       "      <td>112080</td>\n",
       "      <td>приобретение автомобиля</td>\n",
       "    </tr>\n",
       "    <tr>\n",
       "      <th>2</th>\n",
       "      <td>0</td>\n",
       "      <td>5623</td>\n",
       "      <td>33</td>\n",
       "      <td>Среднее</td>\n",
       "      <td>1</td>\n",
       "      <td>женат / замужем</td>\n",
       "      <td>0</td>\n",
       "      <td>M</td>\n",
       "      <td>сотрудник</td>\n",
       "      <td>0</td>\n",
       "      <td>145885</td>\n",
       "      <td>покупка жилья</td>\n",
       "    </tr>\n",
       "    <tr>\n",
       "      <th>3</th>\n",
       "      <td>3</td>\n",
       "      <td>4124</td>\n",
       "      <td>32</td>\n",
       "      <td>среднее</td>\n",
       "      <td>1</td>\n",
       "      <td>женат / замужем</td>\n",
       "      <td>0</td>\n",
       "      <td>M</td>\n",
       "      <td>сотрудник</td>\n",
       "      <td>0</td>\n",
       "      <td>267628</td>\n",
       "      <td>дополнительное образование</td>\n",
       "    </tr>\n",
       "    <tr>\n",
       "      <th>4</th>\n",
       "      <td>0</td>\n",
       "      <td>14177</td>\n",
       "      <td>53</td>\n",
       "      <td>среднее</td>\n",
       "      <td>1</td>\n",
       "      <td>гражданский брак</td>\n",
       "      <td>1</td>\n",
       "      <td>F</td>\n",
       "      <td>пенсионер</td>\n",
       "      <td>0</td>\n",
       "      <td>158616</td>\n",
       "      <td>сыграть свадьбу</td>\n",
       "    </tr>\n",
       "  </tbody>\n",
       "</table>\n",
       "</div>"
      ],
      "text/plain": [
       "   children  days_employed  dob_years education  education_id  \\\n",
       "0         1           8437         42    высшее             0   \n",
       "1         1           4024         36   среднее             1   \n",
       "2         0           5623         33   Среднее             1   \n",
       "3         3           4124         32   среднее             1   \n",
       "4         0          14177         53   среднее             1   \n",
       "\n",
       "      family_status  family_status_id gender income_type  debt  total_income  \\\n",
       "0   женат / замужем                 0      F   сотрудник     0        253875   \n",
       "1   женат / замужем                 0      F   сотрудник     0        112080   \n",
       "2   женат / замужем                 0      M   сотрудник     0        145885   \n",
       "3   женат / замужем                 0      M   сотрудник     0        267628   \n",
       "4  гражданский брак                 1      F   пенсионер     0        158616   \n",
       "\n",
       "                      purpose  \n",
       "0               покупка жилья  \n",
       "1     приобретение автомобиля  \n",
       "2               покупка жилья  \n",
       "3  дополнительное образование  \n",
       "4             сыграть свадьбу  "
      ]
     },
     "execution_count": 26,
     "metadata": {},
     "output_type": "execute_result"
    }
   ],
   "source": [
    "# просмотр таблицы\n",
    "data.head()"
   ]
  },
  {
   "cell_type": "markdown",
   "metadata": {},
   "source": [
    "**Вывод**"
   ]
  },
  {
   "cell_type": "markdown",
   "metadata": {},
   "source": [
    "Вещественный тип данных в двух столбцах таблицы был изменен на целочисленный тип, но это не было обязательным действием, поскольку вещественный тип никак не помешал бы рассчётам."
   ]
  },
  {
   "cell_type": "markdown",
   "metadata": {},
   "source": [
    "### Обработка дубликатов"
   ]
  },
  {
   "cell_type": "markdown",
   "metadata": {},
   "source": [
    "Прежде чем искать дубликаты, посмотрим на уникальные значения в столбцах 'education', 'family_status' и 'income_type'. Возможно, значения записаны в разных регистрах. Со значениями в столбце 'purpose' разберёмся позже, когда будем лемматизировать. \n",
    "\n",
    "Начнём с образования."
   ]
  },
  {
   "cell_type": "code",
   "execution_count": 27,
   "metadata": {},
   "outputs": [
    {
     "data": {
      "text/plain": [
       "среднее                13660\n",
       "высшее                  4678\n",
       "СРЕДНЕЕ                  766\n",
       "Среднее                  706\n",
       "неоконченное высшее      665\n",
       "ВЫСШЕЕ                   272\n",
       "Высшее                   266\n",
       "начальное                250\n",
       "Неоконченное высшее       47\n",
       "НЕОКОНЧЕННОЕ ВЫСШЕЕ       29\n",
       "НАЧАЛЬНОЕ                 17\n",
       "Начальное                 15\n",
       "ученая степень             4\n",
       "Ученая степень             1\n",
       "УЧЕНАЯ СТЕПЕНЬ             1\n",
       "Name: education, dtype: int64"
      ]
     },
     "execution_count": 27,
     "metadata": {},
     "output_type": "execute_result"
    }
   ],
   "source": [
    "# количество различных значений в столбце образования\n",
    "data['education'].value_counts()"
   ]
  },
  {
   "cell_type": "markdown",
   "metadata": {},
   "source": [
    "Почти все типы образования записаны в различных регистрах. Исправим это переводом всех значений в нижний регистр."
   ]
  },
  {
   "cell_type": "code",
   "execution_count": 28,
   "metadata": {},
   "outputs": [],
   "source": [
    "# понижение регистра значений в столбце образования\n",
    "data['education'] = data['education'].str.lower()"
   ]
  },
  {
   "cell_type": "markdown",
   "metadata": {},
   "source": [
    "Проверим, всё ли получилось."
   ]
  },
  {
   "cell_type": "code",
   "execution_count": 29,
   "metadata": {},
   "outputs": [
    {
     "data": {
      "text/plain": [
       "среднее                15132\n",
       "высшее                  5216\n",
       "неоконченное высшее      741\n",
       "начальное                282\n",
       "ученая степень             6\n",
       "Name: education, dtype: int64"
      ]
     },
     "execution_count": 29,
     "metadata": {},
     "output_type": "execute_result"
    }
   ],
   "source": [
    "# количество различных значений в столбце образования\n",
    "data['education'].value_counts()"
   ]
  },
  {
   "cell_type": "markdown",
   "metadata": {},
   "source": [
    "Отлично, теперь все 5 типов образования записаны в едином виде. "
   ]
  },
  {
   "cell_type": "markdown",
   "metadata": {},
   "source": [
    "Теперь рассмотрим значения в стоблце о семейном положении"
   ]
  },
  {
   "cell_type": "code",
   "execution_count": 30,
   "metadata": {},
   "outputs": [
    {
     "data": {
      "text/plain": [
       "женат / замужем          12302\n",
       "гражданский брак          4151\n",
       "Не женат / не замужем     2792\n",
       "в разводе                 1181\n",
       "вдовец / вдова             951\n",
       "Name: family_status, dtype: int64"
      ]
     },
     "execution_count": 30,
     "metadata": {},
     "output_type": "execute_result"
    }
   ],
   "source": [
    "# количество различных значений в столбце о семейном образовании\n",
    "data['family_status'].value_counts()"
   ]
  },
  {
   "cell_type": "markdown",
   "metadata": {},
   "source": [
    "Здесь всё в порядке, теперь проверим 'income_type'"
   ]
  },
  {
   "cell_type": "code",
   "execution_count": 31,
   "metadata": {},
   "outputs": [
    {
     "data": {
      "text/plain": [
       "сотрудник          11038\n",
       "компаньон           5056\n",
       "пенсионер           3828\n",
       "госслужащий         1449\n",
       "безработный            2\n",
       "предприниматель        2\n",
       "студент                1\n",
       "в декрете              1\n",
       "Name: income_type, dtype: int64"
      ]
     },
     "execution_count": 31,
     "metadata": {},
     "output_type": "execute_result"
    }
   ],
   "source": [
    "# количество различных значений в столбце о семейном образовании\n",
    "data['income_type'].value_counts()"
   ]
  },
  {
   "cell_type": "markdown",
   "metadata": {},
   "source": [
    "Со столбцами всё в порядке, теперь можем приступать к поиску и удалению дубликатов. На самом деле странно, что в таблице даже нет id пользователей, как без этого определить, что строчки принадлежат одному и тому же клиенту? Исключим вероятность полного совпадения записей разных людей и будем считать, что соответствующие дубликаты содержат информацию об одном и том же человеке."
   ]
  },
  {
   "cell_type": "code",
   "execution_count": 32,
   "metadata": {},
   "outputs": [
    {
     "data": {
      "text/plain": [
       "71"
      ]
     },
     "execution_count": 32,
     "metadata": {},
     "output_type": "execute_result"
    }
   ],
   "source": [
    "# количество строчек, у которых есть дубликат\n",
    "data[data.duplicated()]['days_employed'].count()"
   ]
  },
  {
   "cell_type": "markdown",
   "metadata": {},
   "source": [
    "71 строчка с дубликатами. Появление дубликатов можно объяснить тем, что человек мог оформить заявку на кредит через сайт банка, а потом прийти в банк, где в базу внесут те же самые данные. Удалим дубликаты, они нам не нужны."
   ]
  },
  {
   "cell_type": "code",
   "execution_count": 33,
   "metadata": {},
   "outputs": [
    {
     "data": {
      "text/plain": [
       "0"
      ]
     },
     "execution_count": 33,
     "metadata": {},
     "output_type": "execute_result"
    }
   ],
   "source": [
    "# удаляем дубликаты из таблицы и обновляем индексацию\n",
    "data = data.drop_duplicates().reset_index(drop=True)\n",
    "# проверка на оставшиеся дубликаты\n",
    "data[data.duplicated()]['days_employed'].count()"
   ]
  },
  {
   "cell_type": "markdown",
   "metadata": {},
   "source": [
    "**Вывод**"
   ]
  },
  {
   "cell_type": "markdown",
   "metadata": {},
   "source": [
    "Все явные дубликаты удалены, но мы не проанализировали значения в последнем столбце, ведь строки в нем различные, но написанные по разному цели получения кредита на деле могут значить одно и тоже. В решении этой проблемы нам поможет лемматизация."
   ]
  },
  {
   "cell_type": "markdown",
   "metadata": {},
   "source": [
    "### Категоризация данных"
   ]
  },
  {
   "cell_type": "markdown",
   "metadata": {},
   "source": [
    "Имеет смысл разделить на категории доход. Выделим три категории дохода: \n",
    "* низкий - до 100000\n",
    "* средний - от 100000 до 200000\n",
    "* высокий - от 200000 \n",
    "\n",
    "Интервалы выбраны исходя из моего личного представления о данных в столбце дохода. Возможно, можно применить другие способы определения интервалов, но я пока не владею ими."
   ]
  },
  {
   "cell_type": "code",
   "execution_count": 34,
   "metadata": {},
   "outputs": [],
   "source": [
    "# функция определения категории дохода\n",
    "def income_category(income):\n",
    "    if income < 100000:\n",
    "        return 'низкий'\n",
    "    elif income < 200000:\n",
    "        return 'средний'\n",
    "    else:\n",
    "        return 'высокий'\n",
    "    \n",
    "# создаем новый столбец и заполняем его результатом вызова функции к каждому значению столбца 'total_income'\n",
    "data['income_category'] = data['total_income'].apply(income_category)"
   ]
  },
  {
   "cell_type": "code",
   "execution_count": 35,
   "metadata": {},
   "outputs": [
    {
     "data": {
      "text/plain": [
       "средний    11841\n",
       "высокий     5033\n",
       "низкий      4432\n",
       "Name: income_category, dtype: int64"
      ]
     },
     "execution_count": 35,
     "metadata": {},
     "output_type": "execute_result"
    }
   ],
   "source": [
    "# распределение категорий\n",
    "data['income_category'].value_counts()"
   ]
  },
  {
   "cell_type": "markdown",
   "metadata": {},
   "source": [
    "В основном у клиентов средний доход, что логично, а высокого и низкого - поровну. Значит границы определены верно."
   ]
  },
  {
   "cell_type": "code",
   "execution_count": 36,
   "metadata": {},
   "outputs": [
    {
     "data": {
      "text/html": [
       "<div>\n",
       "<style scoped>\n",
       "    .dataframe tbody tr th:only-of-type {\n",
       "        vertical-align: middle;\n",
       "    }\n",
       "\n",
       "    .dataframe tbody tr th {\n",
       "        vertical-align: top;\n",
       "    }\n",
       "\n",
       "    .dataframe thead th {\n",
       "        text-align: right;\n",
       "    }\n",
       "</style>\n",
       "<table border=\"1\" class=\"dataframe\">\n",
       "  <thead>\n",
       "    <tr style=\"text-align: right;\">\n",
       "      <th></th>\n",
       "      <th>children</th>\n",
       "      <th>days_employed</th>\n",
       "      <th>dob_years</th>\n",
       "      <th>education</th>\n",
       "      <th>education_id</th>\n",
       "      <th>family_status</th>\n",
       "      <th>family_status_id</th>\n",
       "      <th>gender</th>\n",
       "      <th>income_type</th>\n",
       "      <th>debt</th>\n",
       "      <th>total_income</th>\n",
       "      <th>purpose</th>\n",
       "      <th>income_category</th>\n",
       "    </tr>\n",
       "  </thead>\n",
       "  <tbody>\n",
       "    <tr>\n",
       "      <th>0</th>\n",
       "      <td>1</td>\n",
       "      <td>8437</td>\n",
       "      <td>42</td>\n",
       "      <td>высшее</td>\n",
       "      <td>0</td>\n",
       "      <td>женат / замужем</td>\n",
       "      <td>0</td>\n",
       "      <td>F</td>\n",
       "      <td>сотрудник</td>\n",
       "      <td>0</td>\n",
       "      <td>253875</td>\n",
       "      <td>покупка жилья</td>\n",
       "      <td>высокий</td>\n",
       "    </tr>\n",
       "    <tr>\n",
       "      <th>1</th>\n",
       "      <td>1</td>\n",
       "      <td>4024</td>\n",
       "      <td>36</td>\n",
       "      <td>среднее</td>\n",
       "      <td>1</td>\n",
       "      <td>женат / замужем</td>\n",
       "      <td>0</td>\n",
       "      <td>F</td>\n",
       "      <td>сотрудник</td>\n",
       "      <td>0</td>\n",
       "      <td>112080</td>\n",
       "      <td>приобретение автомобиля</td>\n",
       "      <td>средний</td>\n",
       "    </tr>\n",
       "    <tr>\n",
       "      <th>2</th>\n",
       "      <td>0</td>\n",
       "      <td>5623</td>\n",
       "      <td>33</td>\n",
       "      <td>среднее</td>\n",
       "      <td>1</td>\n",
       "      <td>женат / замужем</td>\n",
       "      <td>0</td>\n",
       "      <td>M</td>\n",
       "      <td>сотрудник</td>\n",
       "      <td>0</td>\n",
       "      <td>145885</td>\n",
       "      <td>покупка жилья</td>\n",
       "      <td>средний</td>\n",
       "    </tr>\n",
       "    <tr>\n",
       "      <th>3</th>\n",
       "      <td>3</td>\n",
       "      <td>4124</td>\n",
       "      <td>32</td>\n",
       "      <td>среднее</td>\n",
       "      <td>1</td>\n",
       "      <td>женат / замужем</td>\n",
       "      <td>0</td>\n",
       "      <td>M</td>\n",
       "      <td>сотрудник</td>\n",
       "      <td>0</td>\n",
       "      <td>267628</td>\n",
       "      <td>дополнительное образование</td>\n",
       "      <td>высокий</td>\n",
       "    </tr>\n",
       "    <tr>\n",
       "      <th>4</th>\n",
       "      <td>0</td>\n",
       "      <td>14177</td>\n",
       "      <td>53</td>\n",
       "      <td>среднее</td>\n",
       "      <td>1</td>\n",
       "      <td>гражданский брак</td>\n",
       "      <td>1</td>\n",
       "      <td>F</td>\n",
       "      <td>пенсионер</td>\n",
       "      <td>0</td>\n",
       "      <td>158616</td>\n",
       "      <td>сыграть свадьбу</td>\n",
       "      <td>средний</td>\n",
       "    </tr>\n",
       "  </tbody>\n",
       "</table>\n",
       "</div>"
      ],
      "text/plain": [
       "   children  days_employed  dob_years education  education_id  \\\n",
       "0         1           8437         42    высшее             0   \n",
       "1         1           4024         36   среднее             1   \n",
       "2         0           5623         33   среднее             1   \n",
       "3         3           4124         32   среднее             1   \n",
       "4         0          14177         53   среднее             1   \n",
       "\n",
       "      family_status  family_status_id gender income_type  debt  total_income  \\\n",
       "0   женат / замужем                 0      F   сотрудник     0        253875   \n",
       "1   женат / замужем                 0      F   сотрудник     0        112080   \n",
       "2   женат / замужем                 0      M   сотрудник     0        145885   \n",
       "3   женат / замужем                 0      M   сотрудник     0        267628   \n",
       "4  гражданский брак                 1      F   пенсионер     0        158616   \n",
       "\n",
       "                      purpose income_category  \n",
       "0               покупка жилья         высокий  \n",
       "1     приобретение автомобиля         средний  \n",
       "2               покупка жилья         средний  \n",
       "3  дополнительное образование         высокий  \n",
       "4             сыграть свадьбу         средний  "
      ]
     },
     "execution_count": 36,
     "metadata": {},
     "output_type": "execute_result"
    }
   ],
   "source": [
    "# посмотрим, что получилось\n",
    "data.head()"
   ]
  },
  {
   "cell_type": "markdown",
   "metadata": {},
   "source": [
    "Теперь цели кредита зароботная плата категоризированы, так будет удобнее анализировать влияние цели взятья кредита на факт его погашения."
   ]
  },
  {
   "cell_type": "markdown",
   "metadata": {},
   "source": [
    "**Вывод**"
   ]
  },
  {
   "cell_type": "markdown",
   "metadata": {},
   "source": [
    "Категоризация зарплаты поможет проанализировать влияние именно уровня дохода на факт выплаты кредита. Можно было бы удалить информацию об образовании и семейном положении и оставить только их id, но в данном случае я не думаю, что они сильно мешают. Будет проще запутаться в нескольких таблицах с названиями и их индексами. Но это конкретно в этом случае. "
   ]
  },
  {
   "cell_type": "markdown",
   "metadata": {},
   "source": [
    "## Ответы на вопросы"
   ]
  },
  {
   "cell_type": "markdown",
   "metadata": {},
   "source": [
    "Чтобы ответить на следующие вопросы, воспользуемся сводными таблицами. Они позволят объединить и обработать данные и представить результат в удобном для восприятия виде."
   ]
  },
  {
   "cell_type": "code",
   "execution_count": 37,
   "metadata": {},
   "outputs": [],
   "source": [
    "# функция для составления сводной таблицы\n",
    "def pivot_on_groups(df, feature):\n",
    "    return df.groupby(feature)['debt'].agg(['count', 'sum', lambda x: '{:.2%} '.format(x.mean())])    "
   ]
  },
  {
   "cell_type": "markdown",
   "metadata": {},
   "source": [
    "- Есть ли зависимость между наличием детей и возвратом кредита в срок?"
   ]
  },
  {
   "cell_type": "code",
   "execution_count": 38,
   "metadata": {},
   "outputs": [
    {
     "data": {
      "text/html": [
       "<div>\n",
       "<style scoped>\n",
       "    .dataframe tbody tr th:only-of-type {\n",
       "        vertical-align: middle;\n",
       "    }\n",
       "\n",
       "    .dataframe tbody tr th {\n",
       "        vertical-align: top;\n",
       "    }\n",
       "\n",
       "    .dataframe thead th {\n",
       "        text-align: right;\n",
       "    }\n",
       "</style>\n",
       "<table border=\"1\" class=\"dataframe\">\n",
       "  <thead>\n",
       "    <tr style=\"text-align: right;\">\n",
       "      <th></th>\n",
       "      <th>count</th>\n",
       "      <th>sum</th>\n",
       "      <th>&lt;lambda_0&gt;</th>\n",
       "    </tr>\n",
       "    <tr>\n",
       "      <th>children</th>\n",
       "      <th></th>\n",
       "      <th></th>\n",
       "      <th></th>\n",
       "    </tr>\n",
       "  </thead>\n",
       "  <tbody>\n",
       "    <tr>\n",
       "      <th>0</th>\n",
       "      <td>14022</td>\n",
       "      <td>1058</td>\n",
       "      <td>7.55%</td>\n",
       "    </tr>\n",
       "    <tr>\n",
       "      <th>1</th>\n",
       "      <td>4792</td>\n",
       "      <td>441</td>\n",
       "      <td>9.20%</td>\n",
       "    </tr>\n",
       "    <tr>\n",
       "      <th>2</th>\n",
       "      <td>2039</td>\n",
       "      <td>194</td>\n",
       "      <td>9.51%</td>\n",
       "    </tr>\n",
       "    <tr>\n",
       "      <th>3</th>\n",
       "      <td>328</td>\n",
       "      <td>27</td>\n",
       "      <td>8.23%</td>\n",
       "    </tr>\n",
       "    <tr>\n",
       "      <th>4</th>\n",
       "      <td>41</td>\n",
       "      <td>4</td>\n",
       "      <td>9.76%</td>\n",
       "    </tr>\n",
       "    <tr>\n",
       "      <th>5</th>\n",
       "      <td>9</td>\n",
       "      <td>0</td>\n",
       "      <td>0.00%</td>\n",
       "    </tr>\n",
       "    <tr>\n",
       "      <th>20</th>\n",
       "      <td>75</td>\n",
       "      <td>8</td>\n",
       "      <td>10.67%</td>\n",
       "    </tr>\n",
       "  </tbody>\n",
       "</table>\n",
       "</div>"
      ],
      "text/plain": [
       "          count   sum <lambda_0>\n",
       "children                        \n",
       "0         14022  1058     7.55% \n",
       "1          4792   441     9.20% \n",
       "2          2039   194     9.51% \n",
       "3           328    27     8.23% \n",
       "4            41     4     9.76% \n",
       "5             9     0     0.00% \n",
       "20           75     8    10.67% "
      ]
     },
     "execution_count": 38,
     "metadata": {},
     "output_type": "execute_result"
    }
   ],
   "source": [
    "# сводная таблица в разрезе количества детей\n",
    "pivot_on_groups(data, 'children')"
   ]
  },
  {
   "cell_type": "code",
   "execution_count": 39,
   "metadata": {},
   "outputs": [
    {
     "data": {
      "text/html": [
       "<div>\n",
       "<style scoped>\n",
       "    .dataframe tbody tr th:only-of-type {\n",
       "        vertical-align: middle;\n",
       "    }\n",
       "\n",
       "    .dataframe tbody tr th {\n",
       "        vertical-align: top;\n",
       "    }\n",
       "\n",
       "    .dataframe thead th {\n",
       "        text-align: right;\n",
       "    }\n",
       "</style>\n",
       "<table border=\"1\" class=\"dataframe\">\n",
       "  <thead>\n",
       "    <tr style=\"text-align: right;\">\n",
       "      <th></th>\n",
       "      <th>count</th>\n",
       "      <th>sum</th>\n",
       "      <th>&lt;lambda_0&gt;</th>\n",
       "    </tr>\n",
       "    <tr>\n",
       "      <th>children</th>\n",
       "      <th></th>\n",
       "      <th></th>\n",
       "      <th></th>\n",
       "    </tr>\n",
       "  </thead>\n",
       "  <tbody>\n",
       "    <tr>\n",
       "      <th>Есть</th>\n",
       "      <td>7284</td>\n",
       "      <td>674</td>\n",
       "      <td>9.25%</td>\n",
       "    </tr>\n",
       "    <tr>\n",
       "      <th>Нет</th>\n",
       "      <td>14022</td>\n",
       "      <td>1058</td>\n",
       "      <td>7.55%</td>\n",
       "    </tr>\n",
       "  </tbody>\n",
       "</table>\n",
       "</div>"
      ],
      "text/plain": [
       "          count   sum <lambda_0>\n",
       "children                        \n",
       "Есть       7284   674     9.25% \n",
       "Нет       14022  1058     7.55% "
      ]
     },
     "execution_count": 39,
     "metadata": {},
     "output_type": "execute_result"
    }
   ],
   "source": [
    "# сводная таблица по бинарной классификации\n",
    "pivot_on_groups(data, data['children'].apply(lambda x: 'Есть' if x>0 else 'Нет'))"
   ]
  },
  {
   "cell_type": "markdown",
   "metadata": {},
   "source": [
    "**Вывод**"
   ]
  },
  {
   "cell_type": "markdown",
   "metadata": {},
   "source": [
    "С ростом числа детей в семье процент людей, имеющих долги по кредиту, растет. Так же падает количество клиентов. Значит количество детей и правда влияет на факт погашения кредита в срок. Гипотеза подтвердилась. К тому же клиенты, у которых нет детей чаще погашают кредит вовремя."
   ]
  },
  {
   "cell_type": "markdown",
   "metadata": {},
   "source": [
    "- Есть ли зависимость между семейным положением и возвратом кредита в срок?"
   ]
  },
  {
   "cell_type": "code",
   "execution_count": 40,
   "metadata": {},
   "outputs": [
    {
     "data": {
      "text/html": [
       "<div>\n",
       "<style scoped>\n",
       "    .dataframe tbody tr th:only-of-type {\n",
       "        vertical-align: middle;\n",
       "    }\n",
       "\n",
       "    .dataframe tbody tr th {\n",
       "        vertical-align: top;\n",
       "    }\n",
       "\n",
       "    .dataframe thead th {\n",
       "        text-align: right;\n",
       "    }\n",
       "</style>\n",
       "<table border=\"1\" class=\"dataframe\">\n",
       "  <thead>\n",
       "    <tr style=\"text-align: right;\">\n",
       "      <th></th>\n",
       "      <th>count</th>\n",
       "      <th>sum</th>\n",
       "      <th>&lt;lambda_0&gt;</th>\n",
       "    </tr>\n",
       "    <tr>\n",
       "      <th>family_status</th>\n",
       "      <th></th>\n",
       "      <th></th>\n",
       "      <th></th>\n",
       "    </tr>\n",
       "  </thead>\n",
       "  <tbody>\n",
       "    <tr>\n",
       "      <th>Не женат / не замужем</th>\n",
       "      <td>2789</td>\n",
       "      <td>273</td>\n",
       "      <td>9.79%</td>\n",
       "    </tr>\n",
       "    <tr>\n",
       "      <th>в разводе</th>\n",
       "      <td>1181</td>\n",
       "      <td>85</td>\n",
       "      <td>7.20%</td>\n",
       "    </tr>\n",
       "    <tr>\n",
       "      <th>вдовец / вдова</th>\n",
       "      <td>950</td>\n",
       "      <td>62</td>\n",
       "      <td>6.53%</td>\n",
       "    </tr>\n",
       "    <tr>\n",
       "      <th>гражданский брак</th>\n",
       "      <td>4125</td>\n",
       "      <td>386</td>\n",
       "      <td>9.36%</td>\n",
       "    </tr>\n",
       "    <tr>\n",
       "      <th>женат / замужем</th>\n",
       "      <td>12261</td>\n",
       "      <td>926</td>\n",
       "      <td>7.55%</td>\n",
       "    </tr>\n",
       "  </tbody>\n",
       "</table>\n",
       "</div>"
      ],
      "text/plain": [
       "                       count  sum <lambda_0>\n",
       "family_status                               \n",
       "Не женат / не замужем   2789  273     9.79% \n",
       "в разводе               1181   85     7.20% \n",
       "вдовец / вдова           950   62     6.53% \n",
       "гражданский брак        4125  386     9.36% \n",
       "женат / замужем        12261  926     7.55% "
      ]
     },
     "execution_count": 40,
     "metadata": {},
     "output_type": "execute_result"
    }
   ],
   "source": [
    "# создание сводной таблицы в разрезе семейного положения\n",
    "pivot_on_groups(data, 'family_status')"
   ]
  },
  {
   "cell_type": "markdown",
   "metadata": {},
   "source": [
    "**Вывод**"
   ]
  },
  {
   "cell_type": "markdown",
   "metadata": {},
   "source": [
    "Клиенты, никогда не состоящие в официальном браке, чаще остальных имеют задолженность по кредиту. Значит семейное положение влияет на погашение кредита в срок. "
   ]
  },
  {
   "cell_type": "markdown",
   "metadata": {},
   "source": [
    "- Есть ли зависимость между уровнем дохода и возвратом кредита в срок?"
   ]
  },
  {
   "cell_type": "code",
   "execution_count": 41,
   "metadata": {},
   "outputs": [
    {
     "data": {
      "text/html": [
       "<div>\n",
       "<style scoped>\n",
       "    .dataframe tbody tr th:only-of-type {\n",
       "        vertical-align: middle;\n",
       "    }\n",
       "\n",
       "    .dataframe tbody tr th {\n",
       "        vertical-align: top;\n",
       "    }\n",
       "\n",
       "    .dataframe thead th {\n",
       "        text-align: right;\n",
       "    }\n",
       "</style>\n",
       "<table border=\"1\" class=\"dataframe\">\n",
       "  <thead>\n",
       "    <tr style=\"text-align: right;\">\n",
       "      <th></th>\n",
       "      <th>count</th>\n",
       "      <th>sum</th>\n",
       "      <th>&lt;lambda_0&gt;</th>\n",
       "    </tr>\n",
       "    <tr>\n",
       "      <th>income_category</th>\n",
       "      <th></th>\n",
       "      <th></th>\n",
       "      <th></th>\n",
       "    </tr>\n",
       "  </thead>\n",
       "  <tbody>\n",
       "    <tr>\n",
       "      <th>высокий</th>\n",
       "      <td>5033</td>\n",
       "      <td>357</td>\n",
       "      <td>7.09%</td>\n",
       "    </tr>\n",
       "    <tr>\n",
       "      <th>низкий</th>\n",
       "      <td>4432</td>\n",
       "      <td>353</td>\n",
       "      <td>7.96%</td>\n",
       "    </tr>\n",
       "    <tr>\n",
       "      <th>средний</th>\n",
       "      <td>11841</td>\n",
       "      <td>1022</td>\n",
       "      <td>8.63%</td>\n",
       "    </tr>\n",
       "  </tbody>\n",
       "</table>\n",
       "</div>"
      ],
      "text/plain": [
       "                 count   sum <lambda_0>\n",
       "income_category                        \n",
       "высокий           5033   357     7.09% \n",
       "низкий            4432   353     7.96% \n",
       "средний          11841  1022     8.63% "
      ]
     },
     "execution_count": 41,
     "metadata": {},
     "output_type": "execute_result"
    }
   ],
   "source": [
    "# создание сводной таблицы относительно уровня дохода\n",
    "pivot_on_groups(data, 'income_category')"
   ]
  },
  {
   "cell_type": "markdown",
   "metadata": {},
   "source": [
    "**Вывод**"
   ]
  },
  {
   "cell_type": "markdown",
   "metadata": {},
   "source": [
    "Нельзя точно сказать, что чем выше у клиента зарплата, тем вероятнее он закроет кредит в срок. Возможно, если бы мы категоризировали доходы клиентов по другим интервалам, то результат был бы иной. В нашем случае с ростом дохода вероятность долгов по кредиту изменяется не монотонно. У среднего класса долги возникают чаще. Люди с низким доходом понимают, что не потянут еще и процент за просрочку, поэтому отказывают себе в чем-то, чтобы отложить деньги на выплату кредита. Богатые люди, как правило, более финансово грамотные и кредиты обычно берут на бизнес. А вот средний класс может позволить себе задержку, ведь *все равно через неделю зарплата*."
   ]
  },
  {
   "cell_type": "markdown",
   "metadata": {},
   "source": [
    "## Общий вывод"
   ]
  },
  {
   "cell_type": "markdown",
   "metadata": {},
   "source": [
    "Начальная гипотеза о том, что количество детей и семейное положение влияет на факт погашения кредита в срок подтвердилась: чем больше у клиента детей, тем вероятнее он будет иметь долг по кредиту, а клиенты, состоящие когда-либо в официальном браке, вероятнее всего выплатят кредит в срок. \n",
    "\n",
    "Предобработка данных влючала в себя обработку артефактов и пропущенных или некорректных значений, что могло минимально повлиять на получившийся результат. Также были удалены дубликаты, а для категоризации целей кредита проведена их лемматизация, после чего было выделено пять основных категорий целей кредита. Классификация заработной платы я считаю субъективной, поэтому на вопрос о влиянии уровня зарабоной платы на факт погашения кредита ответить однозначно не получилось."
   ]
  },
  {
   "cell_type": "markdown",
   "metadata": {},
   "source": [
    "Подводя итог, можно выделить самые надёжные и ненадёжные категории граждан в каждой группе.\n",
    "\n",
    "Факторы, показывающие что клиент с большей вероятностью закроет кредит в срок (с указанием процента невозврата): \n",
    "* отсутствие детей - 7.55%\n",
    "* семейный статус \"в разводе\" - 7.19%, или \"вдова/вдовец\" - 6.52% \n",
    "* высокий уровнь заработной платы - 7.09%\n",
    "\n",
    "Факторы, влияющие на возможное наличие долгов по кредиту: \n",
    "* многодетные семьи (например, 4 ребёнка - 9.76%)\n",
    "* семейный статус не женат/не замужем - 9.78%, или гражданский брак\t9.35%\n",
    "* средний уровень заработной платы - 8.63%\n"
   ]
  }
 ],
 "metadata": {
  "ExecuteTimeLog": [
   {
    "duration": 585,
    "start_time": "2021-12-04T20:10:32.002Z"
   },
   {
    "duration": 65,
    "start_time": "2021-12-04T20:10:38.833Z"
   },
   {
    "duration": 54,
    "start_time": "2021-12-04T20:26:27.425Z"
   },
   {
    "duration": 59,
    "start_time": "2021-12-04T20:27:45.967Z"
   },
   {
    "duration": 55,
    "start_time": "2021-12-04T20:36:41.112Z"
   },
   {
    "duration": 59,
    "start_time": "2021-12-04T20:39:39.797Z"
   },
   {
    "duration": 309,
    "start_time": "2021-12-06T08:08:22.395Z"
   },
   {
    "duration": 649,
    "start_time": "2021-12-06T08:08:29.477Z"
   },
   {
    "duration": 11,
    "start_time": "2021-12-06T08:08:33.347Z"
   },
   {
    "duration": 7,
    "start_time": "2021-12-06T08:13:43.947Z"
   },
   {
    "duration": 5,
    "start_time": "2021-12-06T08:13:54.268Z"
   },
   {
    "duration": 5,
    "start_time": "2021-12-06T08:14:02.788Z"
   },
   {
    "duration": 5,
    "start_time": "2021-12-06T08:14:50.188Z"
   },
   {
    "duration": 526,
    "start_time": "2021-12-06T08:15:54.076Z"
   },
   {
    "duration": 4,
    "start_time": "2021-12-06T08:16:03.693Z"
   },
   {
    "duration": 5,
    "start_time": "2021-12-06T08:16:26.924Z"
   },
   {
    "duration": 5,
    "start_time": "2021-12-06T08:16:40.900Z"
   },
   {
    "duration": 21,
    "start_time": "2021-12-06T08:19:22.972Z"
   },
   {
    "duration": 62,
    "start_time": "2021-12-06T08:21:19.520Z"
   },
   {
    "duration": 17,
    "start_time": "2021-12-06T08:21:32.161Z"
   },
   {
    "duration": 13,
    "start_time": "2021-12-06T08:22:19.556Z"
   },
   {
    "duration": 4,
    "start_time": "2021-12-06T08:24:30.150Z"
   },
   {
    "duration": 5,
    "start_time": "2021-12-06T08:31:26.215Z"
   },
   {
    "duration": 5,
    "start_time": "2021-12-06T08:32:09.011Z"
   },
   {
    "duration": 5,
    "start_time": "2021-12-06T08:33:02.036Z"
   },
   {
    "duration": 757,
    "start_time": "2021-12-06T08:33:46.658Z"
   },
   {
    "duration": 8846,
    "start_time": "2021-12-06T08:34:12.105Z"
   },
   {
    "duration": 5,
    "start_time": "2021-12-06T08:34:41.697Z"
   },
   {
    "duration": 97,
    "start_time": "2021-12-06T08:37:25.177Z"
   },
   {
    "duration": 5,
    "start_time": "2021-12-06T08:37:30.899Z"
   },
   {
    "duration": 5,
    "start_time": "2021-12-06T08:41:02.245Z"
   },
   {
    "duration": 62,
    "start_time": "2021-12-06T08:41:11.566Z"
   },
   {
    "duration": 13,
    "start_time": "2021-12-06T08:41:14.829Z"
   },
   {
    "duration": 4,
    "start_time": "2021-12-06T08:41:18.352Z"
   },
   {
    "duration": 16,
    "start_time": "2021-12-06T08:41:19.369Z"
   },
   {
    "duration": 4,
    "start_time": "2021-12-06T08:41:24.625Z"
   },
   {
    "duration": 5,
    "start_time": "2021-12-06T08:41:25.434Z"
   },
   {
    "duration": 5,
    "start_time": "2021-12-06T08:41:34.646Z"
   },
   {
    "duration": 7,
    "start_time": "2021-12-06T08:41:56.501Z"
   },
   {
    "duration": 6,
    "start_time": "2021-12-06T08:43:21.560Z"
   },
   {
    "duration": 5,
    "start_time": "2021-12-06T08:43:35.642Z"
   },
   {
    "duration": 129,
    "start_time": "2021-12-06T08:44:53.176Z"
   },
   {
    "duration": 267,
    "start_time": "2021-12-06T08:45:37.044Z"
   },
   {
    "duration": 4,
    "start_time": "2021-12-06T08:46:44.923Z"
   },
   {
    "duration": 95,
    "start_time": "2021-12-06T08:51:34.455Z"
   },
   {
    "duration": 4,
    "start_time": "2021-12-06T08:52:40.036Z"
   },
   {
    "duration": 5,
    "start_time": "2021-12-06T09:26:41.814Z"
   },
   {
    "duration": 4,
    "start_time": "2021-12-06T09:27:44.449Z"
   },
   {
    "duration": 288,
    "start_time": "2021-12-06T09:29:20.018Z"
   },
   {
    "duration": 6,
    "start_time": "2021-12-06T09:29:26.896Z"
   },
   {
    "duration": 269,
    "start_time": "2021-12-06T09:31:24.035Z"
   },
   {
    "duration": 288,
    "start_time": "2021-12-06T09:31:42.372Z"
   },
   {
    "duration": 264,
    "start_time": "2021-12-06T09:32:35.045Z"
   },
   {
    "duration": 273,
    "start_time": "2021-12-06T09:34:55.901Z"
   },
   {
    "duration": 7,
    "start_time": "2021-12-06T09:35:23.718Z"
   },
   {
    "duration": 6,
    "start_time": "2021-12-06T09:37:05.555Z"
   },
   {
    "duration": 2,
    "start_time": "2021-12-06T09:41:51.392Z"
   },
   {
    "duration": 6,
    "start_time": "2021-12-06T09:44:12.755Z"
   },
   {
    "duration": 6,
    "start_time": "2021-12-06T09:44:29.619Z"
   },
   {
    "duration": 13,
    "start_time": "2021-12-06T09:50:48.107Z"
   },
   {
    "duration": 7,
    "start_time": "2021-12-06T09:52:18.138Z"
   },
   {
    "duration": 10,
    "start_time": "2021-12-06T09:52:38.778Z"
   },
   {
    "duration": 10,
    "start_time": "2021-12-06T09:52:52.199Z"
   },
   {
    "duration": 10,
    "start_time": "2021-12-06T09:53:01.976Z"
   },
   {
    "duration": 799,
    "start_time": "2021-12-06T09:53:26.470Z"
   },
   {
    "duration": 348,
    "start_time": "2021-12-06T09:53:32.098Z"
   },
   {
    "duration": 5,
    "start_time": "2021-12-06T09:54:08.290Z"
   },
   {
    "duration": 9,
    "start_time": "2021-12-06T09:57:45.750Z"
   },
   {
    "duration": 8,
    "start_time": "2021-12-06T09:58:08.574Z"
   },
   {
    "duration": 10,
    "start_time": "2021-12-06T09:59:11.485Z"
   },
   {
    "duration": 10,
    "start_time": "2021-12-06T09:59:23.741Z"
   },
   {
    "duration": 8815,
    "start_time": "2021-12-06T10:03:09.571Z"
   },
   {
    "duration": 5,
    "start_time": "2021-12-06T10:03:25.036Z"
   },
   {
    "duration": 4,
    "start_time": "2021-12-06T10:09:40.215Z"
   },
   {
    "duration": 95,
    "start_time": "2021-12-06T10:10:26.417Z"
   },
   {
    "duration": 22,
    "start_time": "2021-12-06T10:11:56.117Z"
   },
   {
    "duration": 21,
    "start_time": "2021-12-06T10:13:34.808Z"
   },
   {
    "duration": 21,
    "start_time": "2021-12-06T10:14:54.913Z"
   },
   {
    "duration": 23,
    "start_time": "2021-12-06T10:15:04.273Z"
   },
   {
    "duration": 287,
    "start_time": "2021-12-06T10:15:23.531Z"
   },
   {
    "duration": 9,
    "start_time": "2021-12-06T10:15:35.352Z"
   },
   {
    "duration": 6,
    "start_time": "2021-12-06T10:15:57.358Z"
   },
   {
    "duration": 5,
    "start_time": "2021-12-06T10:16:34.080Z"
   },
   {
    "duration": 5,
    "start_time": "2021-12-06T10:20:02.627Z"
   },
   {
    "duration": 124,
    "start_time": "2021-12-06T10:21:59.955Z"
   },
   {
    "duration": 8,
    "start_time": "2021-12-06T10:23:23.919Z"
   },
   {
    "duration": 279,
    "start_time": "2021-12-06T10:30:20.063Z"
   },
   {
    "duration": 6,
    "start_time": "2021-12-06T10:34:16.816Z"
   },
   {
    "duration": 25,
    "start_time": "2021-12-06T10:34:21.755Z"
   },
   {
    "duration": 23,
    "start_time": "2021-12-06T10:35:01.158Z"
   },
   {
    "duration": 16,
    "start_time": "2021-12-06T10:35:40.957Z"
   },
   {
    "duration": 7,
    "start_time": "2021-12-06T10:36:49.086Z"
   },
   {
    "duration": 7,
    "start_time": "2021-12-06T10:37:29.462Z"
   },
   {
    "duration": 8,
    "start_time": "2021-12-06T10:38:55.045Z"
   },
   {
    "duration": 836,
    "start_time": "2021-12-06T10:39:25.964Z"
   },
   {
    "duration": 6,
    "start_time": "2021-12-06T10:39:29.991Z"
   },
   {
    "duration": 6,
    "start_time": "2021-12-06T10:39:41.818Z"
   },
   {
    "duration": 7,
    "start_time": "2021-12-06T10:40:05.610Z"
   },
   {
    "duration": 643,
    "start_time": "2021-12-06T10:40:29.283Z"
   },
   {
    "duration": 12,
    "start_time": "2021-12-06T10:40:39.142Z"
   },
   {
    "duration": 5,
    "start_time": "2021-12-06T10:40:42.546Z"
   },
   {
    "duration": 7,
    "start_time": "2021-12-06T10:40:44.117Z"
   },
   {
    "duration": 8,
    "start_time": "2021-12-06T10:40:47.389Z"
   },
   {
    "duration": 17,
    "start_time": "2021-12-06T10:40:51.076Z"
   },
   {
    "duration": 15,
    "start_time": "2021-12-06T10:41:23.570Z"
   },
   {
    "duration": 9,
    "start_time": "2021-12-06T10:42:48.253Z"
   },
   {
    "duration": 372,
    "start_time": "2021-12-06T10:43:10.689Z"
   },
   {
    "duration": 8,
    "start_time": "2021-12-06T10:43:17.478Z"
   },
   {
    "duration": 6,
    "start_time": "2021-12-06T10:43:32.045Z"
   },
   {
    "duration": 273,
    "start_time": "2021-12-06T10:43:58.801Z"
   },
   {
    "duration": 275,
    "start_time": "2021-12-06T10:44:07.601Z"
   },
   {
    "duration": 383,
    "start_time": "2021-12-06T10:44:16.878Z"
   },
   {
    "duration": 496,
    "start_time": "2021-12-06T10:44:24.149Z"
   },
   {
    "duration": 282,
    "start_time": "2021-12-06T10:44:33.297Z"
   },
   {
    "duration": 7,
    "start_time": "2021-12-06T10:44:36.583Z"
   },
   {
    "duration": 8,
    "start_time": "2021-12-06T10:44:56.094Z"
   },
   {
    "duration": 340,
    "start_time": "2021-12-06T10:45:21.215Z"
   },
   {
    "duration": 7,
    "start_time": "2021-12-06T10:45:44.520Z"
   },
   {
    "duration": 307,
    "start_time": "2021-12-06T10:45:53.738Z"
   },
   {
    "duration": 7,
    "start_time": "2021-12-06T10:46:02.086Z"
   },
   {
    "duration": 6,
    "start_time": "2021-12-06T10:46:25.256Z"
   },
   {
    "duration": 25,
    "start_time": "2021-12-06T10:48:59.858Z"
   },
   {
    "duration": 14,
    "start_time": "2021-12-06T10:49:30.717Z"
   },
   {
    "duration": 14,
    "start_time": "2021-12-06T10:50:00.867Z"
   },
   {
    "duration": 8,
    "start_time": "2021-12-06T10:54:21.104Z"
   },
   {
    "duration": 9,
    "start_time": "2021-12-06T10:54:42.422Z"
   },
   {
    "duration": 8,
    "start_time": "2021-12-06T10:55:04.742Z"
   },
   {
    "duration": 14,
    "start_time": "2021-12-06T10:55:10.003Z"
   },
   {
    "duration": 7,
    "start_time": "2021-12-06T10:55:55.942Z"
   },
   {
    "duration": 14,
    "start_time": "2021-12-06T10:57:51.268Z"
   },
   {
    "duration": 14,
    "start_time": "2021-12-06T10:58:22.847Z"
   },
   {
    "duration": 4,
    "start_time": "2021-12-06T11:04:07.790Z"
   },
   {
    "duration": 13,
    "start_time": "2021-12-06T11:04:10.227Z"
   },
   {
    "duration": 5,
    "start_time": "2021-12-06T11:04:22.042Z"
   },
   {
    "duration": 4,
    "start_time": "2021-12-06T11:04:27.723Z"
   },
   {
    "duration": 6,
    "start_time": "2021-12-06T11:04:31.124Z"
   },
   {
    "duration": 7,
    "start_time": "2021-12-06T11:04:35.285Z"
   },
   {
    "duration": 15,
    "start_time": "2021-12-06T11:04:37.763Z"
   },
   {
    "duration": 6,
    "start_time": "2021-12-06T11:05:36.077Z"
   },
   {
    "duration": 388,
    "start_time": "2021-12-06T11:09:25.614Z"
   },
   {
    "duration": 11,
    "start_time": "2021-12-06T11:09:33.799Z"
   },
   {
    "duration": 10,
    "start_time": "2021-12-06T11:09:42.983Z"
   },
   {
    "duration": 298,
    "start_time": "2021-12-06T11:10:30.381Z"
   },
   {
    "duration": 11,
    "start_time": "2021-12-06T11:11:00.617Z"
   },
   {
    "duration": 10,
    "start_time": "2021-12-06T11:11:17.888Z"
   },
   {
    "duration": 12,
    "start_time": "2021-12-06T11:11:31.107Z"
   },
   {
    "duration": 10,
    "start_time": "2021-12-06T11:11:36.416Z"
   },
   {
    "duration": 6,
    "start_time": "2021-12-06T11:11:47.631Z"
   },
   {
    "duration": 5,
    "start_time": "2021-12-06T11:12:29.067Z"
   },
   {
    "duration": 10,
    "start_time": "2021-12-06T11:16:55.626Z"
   },
   {
    "duration": 11,
    "start_time": "2021-12-06T11:17:20.787Z"
   },
   {
    "duration": 94,
    "start_time": "2021-12-06T11:27:44.138Z"
   },
   {
    "duration": 10,
    "start_time": "2021-12-06T11:27:51.390Z"
   },
   {
    "duration": 7,
    "start_time": "2021-12-06T11:34:14.803Z"
   },
   {
    "duration": 286,
    "start_time": "2021-12-06T11:35:22.899Z"
   },
   {
    "duration": 7,
    "start_time": "2021-12-06T11:37:13.089Z"
   },
   {
    "duration": 8,
    "start_time": "2021-12-06T11:37:39.620Z"
   },
   {
    "duration": 26,
    "start_time": "2021-12-06T11:37:50.049Z"
   },
   {
    "duration": 17,
    "start_time": "2021-12-06T11:38:02.171Z"
   },
   {
    "duration": 9,
    "start_time": "2021-12-06T11:38:58.108Z"
   },
   {
    "duration": 11,
    "start_time": "2021-12-06T11:40:15.151Z"
   },
   {
    "duration": 12,
    "start_time": "2021-12-06T11:40:20.122Z"
   },
   {
    "duration": 11,
    "start_time": "2021-12-06T11:41:01.712Z"
   },
   {
    "duration": 6,
    "start_time": "2021-12-06T11:41:46.688Z"
   },
   {
    "duration": 9,
    "start_time": "2021-12-06T11:42:13.708Z"
   },
   {
    "duration": 8,
    "start_time": "2021-12-06T11:42:23.783Z"
   },
   {
    "duration": 10,
    "start_time": "2021-12-06T11:42:31.813Z"
   },
   {
    "duration": 6,
    "start_time": "2021-12-06T11:42:45.729Z"
   },
   {
    "duration": 5,
    "start_time": "2021-12-06T11:42:53.710Z"
   },
   {
    "duration": 777,
    "start_time": "2021-12-06T11:43:07.751Z"
   },
   {
    "duration": 12,
    "start_time": "2021-12-06T11:43:10.256Z"
   },
   {
    "duration": 4,
    "start_time": "2021-12-06T11:43:11.059Z"
   },
   {
    "duration": 6,
    "start_time": "2021-12-06T11:43:12.840Z"
   },
   {
    "duration": 8,
    "start_time": "2021-12-06T11:43:13.850Z"
   },
   {
    "duration": 18,
    "start_time": "2021-12-06T11:43:14.796Z"
   },
   {
    "duration": 8,
    "start_time": "2021-12-06T11:43:15.849Z"
   },
   {
    "duration": 12,
    "start_time": "2021-12-06T11:43:17.623Z"
   },
   {
    "duration": 8,
    "start_time": "2021-12-06T11:43:19.687Z"
   },
   {
    "duration": 16,
    "start_time": "2021-12-06T11:43:21.328Z"
   },
   {
    "duration": 5,
    "start_time": "2021-12-06T11:43:25.615Z"
   },
   {
    "duration": 15,
    "start_time": "2021-12-06T11:43:26.874Z"
   },
   {
    "duration": 5,
    "start_time": "2021-12-06T11:43:28.385Z"
   },
   {
    "duration": 4,
    "start_time": "2021-12-06T11:43:32.361Z"
   },
   {
    "duration": 6,
    "start_time": "2021-12-06T11:43:33.774Z"
   },
   {
    "duration": 8,
    "start_time": "2021-12-06T11:43:38.868Z"
   },
   {
    "duration": 15,
    "start_time": "2021-12-06T11:43:42.337Z"
   },
   {
    "duration": 6,
    "start_time": "2021-12-06T11:43:48.048Z"
   },
   {
    "duration": 9,
    "start_time": "2021-12-06T11:43:52.876Z"
   },
   {
    "duration": 330,
    "start_time": "2021-12-06T11:43:57.210Z"
   },
   {
    "duration": 10,
    "start_time": "2021-12-06T11:44:06.154Z"
   },
   {
    "duration": 8,
    "start_time": "2021-12-06T11:46:02.667Z"
   },
   {
    "duration": 9,
    "start_time": "2021-12-06T11:46:08.260Z"
   },
   {
    "duration": 420,
    "start_time": "2021-12-06T11:46:18.727Z"
   },
   {
    "duration": 673,
    "start_time": "2021-12-06T11:46:33.902Z"
   },
   {
    "duration": 20,
    "start_time": "2021-12-06T11:46:34.577Z"
   },
   {
    "duration": 32,
    "start_time": "2021-12-06T11:46:34.600Z"
   },
   {
    "duration": 29,
    "start_time": "2021-12-06T11:46:34.634Z"
   },
   {
    "duration": 12,
    "start_time": "2021-12-06T11:46:34.665Z"
   },
   {
    "duration": 30,
    "start_time": "2021-12-06T11:46:34.679Z"
   },
   {
    "duration": 6,
    "start_time": "2021-12-06T11:46:34.711Z"
   },
   {
    "duration": 58,
    "start_time": "2021-12-06T11:46:34.719Z"
   },
   {
    "duration": 21,
    "start_time": "2021-12-06T11:46:34.779Z"
   },
   {
    "duration": 40,
    "start_time": "2021-12-06T11:46:34.802Z"
   },
   {
    "duration": 18,
    "start_time": "2021-12-06T11:46:34.844Z"
   },
   {
    "duration": 22,
    "start_time": "2021-12-06T11:46:34.863Z"
   },
   {
    "duration": 16,
    "start_time": "2021-12-06T11:46:34.886Z"
   },
   {
    "duration": 36,
    "start_time": "2021-12-06T11:46:34.904Z"
   },
   {
    "duration": 29,
    "start_time": "2021-12-06T11:46:34.942Z"
   },
   {
    "duration": 19,
    "start_time": "2021-12-06T11:46:34.973Z"
   },
   {
    "duration": 38,
    "start_time": "2021-12-06T11:46:34.994Z"
   },
   {
    "duration": 17,
    "start_time": "2021-12-06T11:46:35.034Z"
   },
   {
    "duration": 19,
    "start_time": "2021-12-06T11:46:35.053Z"
   },
   {
    "duration": 30,
    "start_time": "2021-12-06T11:46:35.074Z"
   },
   {
    "duration": 4,
    "start_time": "2021-12-06T11:48:56.407Z"
   },
   {
    "duration": 24,
    "start_time": "2021-12-06T11:49:04.643Z"
   },
   {
    "duration": 35,
    "start_time": "2021-12-06T11:49:14.456Z"
   },
   {
    "duration": 7,
    "start_time": "2021-12-06T11:49:24.679Z"
   },
   {
    "duration": 6,
    "start_time": "2021-12-06T11:49:39.104Z"
   },
   {
    "duration": 6,
    "start_time": "2021-12-06T11:51:49.049Z"
   },
   {
    "duration": 10,
    "start_time": "2021-12-06T12:28:34.923Z"
   },
   {
    "duration": 20,
    "start_time": "2021-12-06T12:28:52.743Z"
   },
   {
    "duration": 11,
    "start_time": "2021-12-06T12:29:01.033Z"
   },
   {
    "duration": 12,
    "start_time": "2021-12-06T12:39:18.002Z"
   },
   {
    "duration": 61,
    "start_time": "2021-12-06T12:52:52.842Z"
   },
   {
    "duration": 746,
    "start_time": "2021-12-06T12:53:50.713Z"
   },
   {
    "duration": 12,
    "start_time": "2021-12-06T12:54:28.051Z"
   },
   {
    "duration": 5,
    "start_time": "2021-12-06T12:55:13.576Z"
   },
   {
    "duration": 6,
    "start_time": "2021-12-06T12:55:22.449Z"
   },
   {
    "duration": 7,
    "start_time": "2021-12-06T12:55:30.945Z"
   },
   {
    "duration": 16,
    "start_time": "2021-12-06T12:55:41.640Z"
   },
   {
    "duration": 7,
    "start_time": "2021-12-06T12:56:12.041Z"
   },
   {
    "duration": 7,
    "start_time": "2021-12-06T12:56:49.018Z"
   },
   {
    "duration": 13,
    "start_time": "2021-12-06T12:56:52.890Z"
   },
   {
    "duration": 7,
    "start_time": "2021-12-06T12:56:55.441Z"
   },
   {
    "duration": 14,
    "start_time": "2021-12-06T12:57:10.649Z"
   },
   {
    "duration": 4,
    "start_time": "2021-12-06T12:57:22.100Z"
   },
   {
    "duration": 14,
    "start_time": "2021-12-06T12:57:23.800Z"
   },
   {
    "duration": 5,
    "start_time": "2021-12-06T12:57:29.986Z"
   },
   {
    "duration": 4,
    "start_time": "2021-12-06T12:57:43.319Z"
   },
   {
    "duration": 7,
    "start_time": "2021-12-06T12:59:30.592Z"
   },
   {
    "duration": 7,
    "start_time": "2021-12-06T13:01:37.685Z"
   },
   {
    "duration": 349,
    "start_time": "2021-12-06T13:03:08.821Z"
   },
   {
    "duration": 717,
    "start_time": "2021-12-06T13:06:52.386Z"
   },
   {
    "duration": 10,
    "start_time": "2021-12-06T13:06:53.105Z"
   },
   {
    "duration": 5,
    "start_time": "2021-12-06T13:06:53.117Z"
   },
   {
    "duration": 20,
    "start_time": "2021-12-06T13:06:53.124Z"
   },
   {
    "duration": 7,
    "start_time": "2021-12-06T13:06:53.146Z"
   },
   {
    "duration": 16,
    "start_time": "2021-12-06T13:06:53.155Z"
   },
   {
    "duration": 5,
    "start_time": "2021-12-06T13:06:53.173Z"
   },
   {
    "duration": 17,
    "start_time": "2021-12-06T13:06:53.181Z"
   },
   {
    "duration": 10,
    "start_time": "2021-12-06T13:06:53.200Z"
   },
   {
    "duration": 41,
    "start_time": "2021-12-06T13:06:53.212Z"
   },
   {
    "duration": 4,
    "start_time": "2021-12-06T13:06:53.255Z"
   },
   {
    "duration": 15,
    "start_time": "2021-12-06T13:06:53.261Z"
   },
   {
    "duration": 4,
    "start_time": "2021-12-06T13:06:53.278Z"
   },
   {
    "duration": 5,
    "start_time": "2021-12-06T13:06:53.283Z"
   },
   {
    "duration": 7,
    "start_time": "2021-12-06T13:06:53.290Z"
   },
   {
    "duration": 10,
    "start_time": "2021-12-06T13:06:53.299Z"
   },
   {
    "duration": 44,
    "start_time": "2021-12-06T13:06:53.311Z"
   },
   {
    "duration": 5,
    "start_time": "2021-12-06T13:06:53.356Z"
   },
   {
    "duration": 8,
    "start_time": "2021-12-06T13:06:53.363Z"
   },
   {
    "duration": 9,
    "start_time": "2021-12-06T13:06:53.373Z"
   },
   {
    "duration": 6,
    "start_time": "2021-12-06T13:06:53.384Z"
   },
   {
    "duration": 13,
    "start_time": "2021-12-06T13:06:53.392Z"
   },
   {
    "duration": 963,
    "start_time": "2021-12-06T18:21:21.743Z"
   },
   {
    "duration": 15,
    "start_time": "2021-12-06T18:21:22.709Z"
   },
   {
    "duration": 5,
    "start_time": "2021-12-06T18:21:22.728Z"
   },
   {
    "duration": 34,
    "start_time": "2021-12-06T18:21:22.736Z"
   },
   {
    "duration": 11,
    "start_time": "2021-12-06T18:21:22.773Z"
   },
   {
    "duration": 24,
    "start_time": "2021-12-06T18:21:22.787Z"
   },
   {
    "duration": 9,
    "start_time": "2021-12-06T18:21:22.814Z"
   },
   {
    "duration": 23,
    "start_time": "2021-12-06T18:21:22.868Z"
   },
   {
    "duration": 9,
    "start_time": "2021-12-06T18:21:22.894Z"
   },
   {
    "duration": 23,
    "start_time": "2021-12-06T18:21:22.905Z"
   },
   {
    "duration": 41,
    "start_time": "2021-12-06T18:21:22.930Z"
   },
   {
    "duration": 24,
    "start_time": "2021-12-06T18:21:22.974Z"
   },
   {
    "duration": 7,
    "start_time": "2021-12-06T18:21:23.001Z"
   },
   {
    "duration": 11,
    "start_time": "2021-12-06T18:21:23.010Z"
   },
   {
    "duration": 46,
    "start_time": "2021-12-06T18:21:23.024Z"
   },
   {
    "duration": 11,
    "start_time": "2021-12-06T18:21:23.072Z"
   },
   {
    "duration": 17,
    "start_time": "2021-12-06T18:21:23.086Z"
   },
   {
    "duration": 8,
    "start_time": "2021-12-06T18:21:23.105Z"
   },
   {
    "duration": 54,
    "start_time": "2021-12-06T18:21:23.115Z"
   },
   {
    "duration": 15,
    "start_time": "2021-12-06T18:21:23.174Z"
   },
   {
    "duration": 9,
    "start_time": "2021-12-06T18:21:23.192Z"
   },
   {
    "duration": 19,
    "start_time": "2021-12-06T18:21:23.203Z"
   },
   {
    "duration": 15,
    "start_time": "2021-12-06T18:24:02.717Z"
   },
   {
    "duration": 18,
    "start_time": "2021-12-06T18:25:28.588Z"
   },
   {
    "duration": 19,
    "start_time": "2021-12-06T18:28:16.451Z"
   },
   {
    "duration": 22,
    "start_time": "2021-12-06T18:28:32.753Z"
   },
   {
    "duration": 936,
    "start_time": "2021-12-06T18:28:41.173Z"
   },
   {
    "duration": 15,
    "start_time": "2021-12-06T18:28:42.112Z"
   },
   {
    "duration": 6,
    "start_time": "2021-12-06T18:28:42.131Z"
   },
   {
    "duration": 33,
    "start_time": "2021-12-06T18:28:42.140Z"
   },
   {
    "duration": 13,
    "start_time": "2021-12-06T18:28:42.176Z"
   },
   {
    "duration": 25,
    "start_time": "2021-12-06T18:28:42.192Z"
   },
   {
    "duration": 9,
    "start_time": "2021-12-06T18:28:42.220Z"
   },
   {
    "duration": 24,
    "start_time": "2021-12-06T18:28:42.267Z"
   },
   {
    "duration": 9,
    "start_time": "2021-12-06T18:28:42.295Z"
   },
   {
    "duration": 25,
    "start_time": "2021-12-06T18:28:42.307Z"
   },
   {
    "duration": 35,
    "start_time": "2021-12-06T18:28:42.336Z"
   },
   {
    "duration": 28,
    "start_time": "2021-12-06T18:28:42.375Z"
   },
   {
    "duration": 11,
    "start_time": "2021-12-06T18:28:42.405Z"
   },
   {
    "duration": 9,
    "start_time": "2021-12-06T18:28:42.418Z"
   },
   {
    "duration": 43,
    "start_time": "2021-12-06T18:28:42.430Z"
   },
   {
    "duration": 15,
    "start_time": "2021-12-06T18:28:42.476Z"
   },
   {
    "duration": 19,
    "start_time": "2021-12-06T18:28:42.493Z"
   },
   {
    "duration": 8,
    "start_time": "2021-12-06T18:28:42.515Z"
   },
   {
    "duration": 52,
    "start_time": "2021-12-06T18:28:42.526Z"
   },
   {
    "duration": 13,
    "start_time": "2021-12-06T18:28:42.581Z"
   },
   {
    "duration": 7,
    "start_time": "2021-12-06T18:28:42.596Z"
   },
   {
    "duration": 62,
    "start_time": "2021-12-06T18:28:42.605Z"
   },
   {
    "duration": 21,
    "start_time": "2021-12-06T18:28:42.669Z"
   },
   {
    "duration": 15,
    "start_time": "2021-12-06T18:29:12.813Z"
   },
   {
    "duration": 3,
    "start_time": "2021-12-06T18:37:42.113Z"
   },
   {
    "duration": 407,
    "start_time": "2021-12-06T18:38:33.459Z"
   },
   {
    "duration": 367,
    "start_time": "2021-12-06T18:39:21.572Z"
   },
   {
    "duration": 306,
    "start_time": "2021-12-06T18:39:42.287Z"
   },
   {
    "duration": 151,
    "start_time": "2021-12-06T18:41:06.630Z"
   },
   {
    "duration": 315,
    "start_time": "2021-12-06T18:41:28.724Z"
   },
   {
    "duration": 14,
    "start_time": "2021-12-06T18:47:41.766Z"
   },
   {
    "duration": 17,
    "start_time": "2021-12-06T18:48:25.434Z"
   },
   {
    "duration": 22,
    "start_time": "2021-12-06T18:50:33.661Z"
   },
   {
    "duration": 15,
    "start_time": "2021-12-06T18:51:16.525Z"
   },
   {
    "duration": 17,
    "start_time": "2021-12-06T18:52:39.715Z"
   },
   {
    "duration": 10,
    "start_time": "2021-12-06T18:53:13.837Z"
   },
   {
    "duration": 11,
    "start_time": "2021-12-06T18:53:29.009Z"
   },
   {
    "duration": 19,
    "start_time": "2021-12-06T18:53:38.667Z"
   },
   {
    "duration": 25,
    "start_time": "2021-12-06T19:01:32.527Z"
   },
   {
    "duration": 16,
    "start_time": "2021-12-06T19:01:47.240Z"
   },
   {
    "duration": 8,
    "start_time": "2021-12-06T19:02:05.169Z"
   },
   {
    "duration": 6,
    "start_time": "2021-12-06T19:02:09.651Z"
   },
   {
    "duration": 18,
    "start_time": "2021-12-06T19:03:21.335Z"
   },
   {
    "duration": 19,
    "start_time": "2021-12-06T19:03:46.721Z"
   },
   {
    "duration": 17,
    "start_time": "2021-12-06T19:06:57.186Z"
   },
   {
    "duration": 19,
    "start_time": "2021-12-06T19:07:05.674Z"
   },
   {
    "duration": 10,
    "start_time": "2021-12-06T19:15:10.739Z"
   },
   {
    "duration": 17,
    "start_time": "2021-12-06T19:17:31.799Z"
   },
   {
    "duration": 20,
    "start_time": "2021-12-06T19:18:30.979Z"
   },
   {
    "duration": 12,
    "start_time": "2021-12-06T19:18:41.623Z"
   },
   {
    "duration": 11,
    "start_time": "2021-12-06T19:21:43.546Z"
   },
   {
    "duration": 15,
    "start_time": "2021-12-06T19:23:13.968Z"
   },
   {
    "duration": 10,
    "start_time": "2021-12-06T19:24:19.408Z"
   },
   {
    "duration": 25,
    "start_time": "2021-12-06T19:25:53.307Z"
   },
   {
    "duration": 47,
    "start_time": "2021-12-06T19:25:59.897Z"
   },
   {
    "duration": 929,
    "start_time": "2021-12-06T19:27:23.991Z"
   },
   {
    "duration": 17,
    "start_time": "2021-12-06T19:27:24.923Z"
   },
   {
    "duration": 26,
    "start_time": "2021-12-06T19:27:24.949Z"
   },
   {
    "duration": 13,
    "start_time": "2021-12-06T19:27:24.981Z"
   },
   {
    "duration": 13,
    "start_time": "2021-12-06T19:27:24.997Z"
   },
   {
    "duration": 57,
    "start_time": "2021-12-06T19:27:25.012Z"
   },
   {
    "duration": 14,
    "start_time": "2021-12-06T19:27:25.073Z"
   },
   {
    "duration": 24,
    "start_time": "2021-12-06T19:27:25.093Z"
   },
   {
    "duration": 9,
    "start_time": "2021-12-06T19:27:25.120Z"
   },
   {
    "duration": 27,
    "start_time": "2021-12-06T19:27:25.169Z"
   },
   {
    "duration": 9,
    "start_time": "2021-12-06T19:27:25.199Z"
   },
   {
    "duration": 59,
    "start_time": "2021-12-06T19:27:25.211Z"
   },
   {
    "duration": 10,
    "start_time": "2021-12-06T19:27:25.274Z"
   },
   {
    "duration": 6,
    "start_time": "2021-12-06T19:27:25.291Z"
   },
   {
    "duration": 11,
    "start_time": "2021-12-06T19:27:25.300Z"
   },
   {
    "duration": 10,
    "start_time": "2021-12-06T19:27:25.314Z"
   },
   {
    "duration": 38,
    "start_time": "2021-12-06T19:27:25.368Z"
   },
   {
    "duration": 7,
    "start_time": "2021-12-06T19:27:25.409Z"
   },
   {
    "duration": 14,
    "start_time": "2021-12-06T19:27:25.419Z"
   },
   {
    "duration": 41,
    "start_time": "2021-12-06T19:27:25.436Z"
   },
   {
    "duration": 11,
    "start_time": "2021-12-06T19:27:25.483Z"
   },
   {
    "duration": 22,
    "start_time": "2021-12-06T19:27:25.497Z"
   },
   {
    "duration": 16,
    "start_time": "2021-12-06T19:27:25.522Z"
   },
   {
    "duration": 47,
    "start_time": "2021-12-06T19:27:25.540Z"
   },
   {
    "duration": 5,
    "start_time": "2021-12-06T19:27:25.590Z"
   },
   {
    "duration": 21,
    "start_time": "2021-12-06T19:27:25.601Z"
   },
   {
    "duration": 51,
    "start_time": "2021-12-06T19:27:25.626Z"
   },
   {
    "duration": 27,
    "start_time": "2021-12-06T19:27:25.680Z"
   },
   {
    "duration": 11,
    "start_time": "2021-12-06T19:27:25.709Z"
   },
   {
    "duration": 12,
    "start_time": "2021-12-06T19:27:25.723Z"
   },
   {
    "duration": 16,
    "start_time": "2021-12-06T19:27:25.767Z"
   },
   {
    "duration": 89,
    "start_time": "2021-12-06T19:27:25.786Z"
   },
   {
    "duration": 941,
    "start_time": "2021-12-06T19:27:41.183Z"
   },
   {
    "duration": 18,
    "start_time": "2021-12-06T19:27:42.128Z"
   },
   {
    "duration": 21,
    "start_time": "2021-12-06T19:27:42.149Z"
   },
   {
    "duration": 39,
    "start_time": "2021-12-06T19:27:42.174Z"
   },
   {
    "duration": 17,
    "start_time": "2021-12-06T19:27:42.216Z"
   },
   {
    "duration": 21,
    "start_time": "2021-12-06T19:27:42.236Z"
   },
   {
    "duration": 14,
    "start_time": "2021-12-06T19:27:42.260Z"
   },
   {
    "duration": 31,
    "start_time": "2021-12-06T19:27:42.279Z"
   },
   {
    "duration": 9,
    "start_time": "2021-12-06T19:27:42.314Z"
   },
   {
    "duration": 58,
    "start_time": "2021-12-06T19:27:42.326Z"
   },
   {
    "duration": 10,
    "start_time": "2021-12-06T19:27:42.387Z"
   },
   {
    "duration": 26,
    "start_time": "2021-12-06T19:27:42.400Z"
   },
   {
    "duration": 41,
    "start_time": "2021-12-06T19:27:42.429Z"
   },
   {
    "duration": 7,
    "start_time": "2021-12-06T19:27:42.473Z"
   },
   {
    "duration": 16,
    "start_time": "2021-12-06T19:27:42.483Z"
   },
   {
    "duration": 9,
    "start_time": "2021-12-06T19:27:42.504Z"
   },
   {
    "duration": 57,
    "start_time": "2021-12-06T19:27:42.517Z"
   },
   {
    "duration": 11,
    "start_time": "2021-12-06T19:27:42.577Z"
   },
   {
    "duration": 20,
    "start_time": "2021-12-06T19:27:42.591Z"
   },
   {
    "duration": 12,
    "start_time": "2021-12-06T19:27:42.613Z"
   },
   {
    "duration": 46,
    "start_time": "2021-12-06T19:27:42.628Z"
   },
   {
    "duration": 22,
    "start_time": "2021-12-06T19:27:42.677Z"
   },
   {
    "duration": 19,
    "start_time": "2021-12-06T19:27:42.702Z"
   },
   {
    "duration": 48,
    "start_time": "2021-12-06T19:27:42.723Z"
   },
   {
    "duration": 8,
    "start_time": "2021-12-06T19:27:42.774Z"
   },
   {
    "duration": 21,
    "start_time": "2021-12-06T19:27:42.786Z"
   },
   {
    "duration": 12,
    "start_time": "2021-12-06T19:27:42.814Z"
   },
   {
    "duration": 25,
    "start_time": "2021-12-06T19:27:42.869Z"
   },
   {
    "duration": 14,
    "start_time": "2021-12-06T19:27:42.897Z"
   },
   {
    "duration": 11,
    "start_time": "2021-12-06T19:27:42.913Z"
   },
   {
    "duration": 47,
    "start_time": "2021-12-06T19:27:42.926Z"
   },
   {
    "duration": 60,
    "start_time": "2021-12-06T19:27:42.975Z"
   },
   {
    "duration": 26,
    "start_time": "2021-12-06T19:28:29.819Z"
   },
   {
    "duration": 48,
    "start_time": "2021-12-06T19:28:46.532Z"
   },
   {
    "duration": 89,
    "start_time": "2021-12-06T19:35:42.564Z"
   },
   {
    "duration": 29,
    "start_time": "2021-12-06T19:35:51.070Z"
   },
   {
    "duration": 23,
    "start_time": "2021-12-06T19:36:13.917Z"
   },
   {
    "duration": 22,
    "start_time": "2021-12-06T19:36:21.314Z"
   },
   {
    "duration": 24,
    "start_time": "2021-12-06T19:37:37.196Z"
   },
   {
    "duration": 31,
    "start_time": "2021-12-06T19:38:46.581Z"
   },
   {
    "duration": 54,
    "start_time": "2021-12-06T19:38:59.080Z"
   },
   {
    "duration": 11,
    "start_time": "2021-12-06T20:36:02.413Z"
   },
   {
    "duration": 9,
    "start_time": "2021-12-06T20:36:54.878Z"
   },
   {
    "duration": 393,
    "start_time": "2021-12-06T20:38:09.037Z"
   },
   {
    "duration": 997,
    "start_time": "2021-12-06T20:43:16.008Z"
   },
   {
    "duration": 11,
    "start_time": "2021-12-06T20:43:24.362Z"
   },
   {
    "duration": 1049,
    "start_time": "2021-12-06T20:43:38.168Z"
   },
   {
    "duration": 8,
    "start_time": "2021-12-06T20:43:39.252Z"
   },
   {
    "duration": 1087,
    "start_time": "2021-12-06T20:43:49.376Z"
   },
   {
    "duration": 13,
    "start_time": "2021-12-06T20:43:50.472Z"
   },
   {
    "duration": 289,
    "start_time": "2021-12-06T20:44:41.242Z"
   },
   {
    "duration": 8,
    "start_time": "2021-12-06T20:44:53.400Z"
   },
   {
    "duration": 1041,
    "start_time": "2021-12-06T20:47:07.562Z"
   },
   {
    "duration": 9,
    "start_time": "2021-12-06T20:47:08.606Z"
   },
   {
    "duration": 1397,
    "start_time": "2021-12-06T20:48:01.273Z"
   },
   {
    "duration": 1095,
    "start_time": "2021-12-06T20:48:09.714Z"
   },
   {
    "duration": 1041,
    "start_time": "2021-12-06T20:53:38.341Z"
   },
   {
    "duration": 503,
    "start_time": "2021-12-07T19:57:49.235Z"
   },
   {
    "duration": 817,
    "start_time": "2021-12-07T19:58:04.096Z"
   },
   {
    "duration": 14,
    "start_time": "2021-12-07T19:58:04.919Z"
   },
   {
    "duration": 5,
    "start_time": "2021-12-07T19:58:04.936Z"
   },
   {
    "duration": 10,
    "start_time": "2021-12-07T19:58:04.960Z"
   },
   {
    "duration": 10,
    "start_time": "2021-12-07T19:58:04.973Z"
   },
   {
    "duration": 18,
    "start_time": "2021-12-07T19:58:04.986Z"
   },
   {
    "duration": 8,
    "start_time": "2021-12-07T19:58:05.008Z"
   },
   {
    "duration": 20,
    "start_time": "2021-12-07T19:58:05.061Z"
   },
   {
    "duration": 12,
    "start_time": "2021-12-07T19:58:05.084Z"
   },
   {
    "duration": 26,
    "start_time": "2021-12-07T19:58:05.098Z"
   },
   {
    "duration": 6,
    "start_time": "2021-12-07T19:58:05.160Z"
   },
   {
    "duration": 21,
    "start_time": "2021-12-07T19:58:05.168Z"
   },
   {
    "duration": 6,
    "start_time": "2021-12-07T19:58:05.192Z"
   },
   {
    "duration": 8,
    "start_time": "2021-12-07T19:58:05.200Z"
   },
   {
    "duration": 51,
    "start_time": "2021-12-07T19:58:05.210Z"
   },
   {
    "duration": 8,
    "start_time": "2021-12-07T19:58:05.264Z"
   },
   {
    "duration": 20,
    "start_time": "2021-12-07T19:58:05.274Z"
   },
   {
    "duration": 6,
    "start_time": "2021-12-07T19:58:05.296Z"
   },
   {
    "duration": 12,
    "start_time": "2021-12-07T19:58:05.304Z"
   },
   {
    "duration": 45,
    "start_time": "2021-12-07T19:58:05.318Z"
   },
   {
    "duration": 8,
    "start_time": "2021-12-07T19:58:05.365Z"
   },
   {
    "duration": 15,
    "start_time": "2021-12-07T19:58:05.377Z"
   },
   {
    "duration": 14,
    "start_time": "2021-12-07T19:58:05.394Z"
   },
   {
    "duration": 55,
    "start_time": "2021-12-07T19:58:05.411Z"
   },
   {
    "duration": 6,
    "start_time": "2021-12-07T19:58:05.468Z"
   },
   {
    "duration": 21,
    "start_time": "2021-12-07T19:58:05.476Z"
   },
   {
    "duration": 13,
    "start_time": "2021-12-07T19:58:05.500Z"
   },
   {
    "duration": 52,
    "start_time": "2021-12-07T19:58:05.515Z"
   },
   {
    "duration": 13,
    "start_time": "2021-12-07T19:58:05.569Z"
   },
   {
    "duration": 15,
    "start_time": "2021-12-07T19:58:05.584Z"
   },
   {
    "duration": 14,
    "start_time": "2021-12-07T19:58:05.601Z"
   },
   {
    "duration": 57,
    "start_time": "2021-12-07T19:58:05.617Z"
   },
   {
    "duration": 45,
    "start_time": "2021-12-07T19:58:05.676Z"
   },
   {
    "duration": 950,
    "start_time": "2021-12-07T19:58:05.723Z"
   },
   {
    "duration": 13,
    "start_time": "2021-12-07T20:10:37.121Z"
   },
   {
    "duration": 10,
    "start_time": "2021-12-07T20:10:51.273Z"
   },
   {
    "duration": 8,
    "start_time": "2021-12-07T20:11:25.163Z"
   },
   {
    "duration": 7,
    "start_time": "2021-12-07T20:11:29.999Z"
   },
   {
    "duration": 10,
    "start_time": "2021-12-07T20:11:48.577Z"
   },
   {
    "duration": 126,
    "start_time": "2021-12-07T20:17:38.777Z"
   },
   {
    "duration": 857,
    "start_time": "2021-12-07T20:32:15.335Z"
   },
   {
    "duration": 4701,
    "start_time": "2021-12-07T20:32:28.271Z"
   },
   {
    "duration": 4274,
    "start_time": "2021-12-07T20:32:42.445Z"
   },
   {
    "duration": 4517,
    "start_time": "2021-12-07T20:33:49.873Z"
   },
   {
    "duration": 3817,
    "start_time": "2021-12-07T20:34:08.448Z"
   },
   {
    "duration": 4038,
    "start_time": "2021-12-07T20:35:15.838Z"
   },
   {
    "duration": 4056,
    "start_time": "2021-12-07T20:35:55.072Z"
   },
   {
    "duration": 3,
    "start_time": "2021-12-07T20:36:15.899Z"
   },
   {
    "duration": 19,
    "start_time": "2021-12-07T20:36:44.671Z"
   },
   {
    "duration": 3827,
    "start_time": "2021-12-07T21:11:35.673Z"
   },
   {
    "duration": 18,
    "start_time": "2021-12-07T21:11:40.336Z"
   },
   {
    "duration": 33,
    "start_time": "2021-12-07T21:12:50.016Z"
   },
   {
    "duration": 14,
    "start_time": "2021-12-07T21:16:05.825Z"
   },
   {
    "duration": 34,
    "start_time": "2021-12-07T21:16:07.579Z"
   },
   {
    "duration": 11,
    "start_time": "2021-12-07T21:16:53.916Z"
   },
   {
    "duration": 18,
    "start_time": "2021-12-07T21:17:12.132Z"
   },
   {
    "duration": 533,
    "start_time": "2021-12-07T21:30:26.235Z"
   },
   {
    "duration": 453,
    "start_time": "2021-12-07T21:30:31.688Z"
   },
   {
    "duration": 30,
    "start_time": "2021-12-07T21:30:58.296Z"
   },
   {
    "duration": 26,
    "start_time": "2021-12-07T21:31:10.469Z"
   },
   {
    "duration": 6819,
    "start_time": "2021-12-07T21:35:06.041Z"
   },
   {
    "duration": 21,
    "start_time": "2021-12-07T21:35:28.009Z"
   },
   {
    "duration": 69,
    "start_time": "2021-12-07T21:35:38.592Z"
   },
   {
    "duration": 28,
    "start_time": "2021-12-07T21:36:15.479Z"
   },
   {
    "duration": 29,
    "start_time": "2021-12-07T21:37:33.761Z"
   },
   {
    "duration": 29,
    "start_time": "2021-12-07T21:37:45.312Z"
   },
   {
    "duration": 26,
    "start_time": "2021-12-07T21:38:11.466Z"
   },
   {
    "duration": 29,
    "start_time": "2021-12-07T21:38:31.200Z"
   },
   {
    "duration": 29,
    "start_time": "2021-12-07T21:39:12.459Z"
   },
   {
    "duration": 28,
    "start_time": "2021-12-07T21:39:28.428Z"
   },
   {
    "duration": 27,
    "start_time": "2021-12-07T21:42:33.701Z"
   },
   {
    "duration": 405,
    "start_time": "2021-12-08T12:53:04.661Z"
   },
   {
    "duration": 866,
    "start_time": "2021-12-08T12:53:12.494Z"
   },
   {
    "duration": 14,
    "start_time": "2021-12-08T12:53:13.363Z"
   },
   {
    "duration": 14,
    "start_time": "2021-12-08T12:53:13.384Z"
   },
   {
    "duration": 14,
    "start_time": "2021-12-08T12:53:13.400Z"
   },
   {
    "duration": 12,
    "start_time": "2021-12-08T12:53:13.417Z"
   },
   {
    "duration": 54,
    "start_time": "2021-12-08T12:53:13.432Z"
   },
   {
    "duration": 11,
    "start_time": "2021-12-08T12:53:13.491Z"
   },
   {
    "duration": 21,
    "start_time": "2021-12-08T12:53:13.505Z"
   },
   {
    "duration": 10,
    "start_time": "2021-12-08T12:53:13.567Z"
   },
   {
    "duration": 27,
    "start_time": "2021-12-08T12:53:13.581Z"
   },
   {
    "duration": 7,
    "start_time": "2021-12-08T12:53:13.612Z"
   },
   {
    "duration": 52,
    "start_time": "2021-12-08T12:53:13.621Z"
   },
   {
    "duration": 6,
    "start_time": "2021-12-08T12:53:13.675Z"
   },
   {
    "duration": 6,
    "start_time": "2021-12-08T12:53:13.684Z"
   },
   {
    "duration": 9,
    "start_time": "2021-12-08T12:53:13.692Z"
   },
   {
    "duration": 10,
    "start_time": "2021-12-08T12:53:13.703Z"
   },
   {
    "duration": 59,
    "start_time": "2021-12-08T12:53:13.716Z"
   },
   {
    "duration": 7,
    "start_time": "2021-12-08T12:53:13.777Z"
   },
   {
    "duration": 13,
    "start_time": "2021-12-08T12:53:13.787Z"
   },
   {
    "duration": 11,
    "start_time": "2021-12-08T12:53:13.803Z"
   },
   {
    "duration": 50,
    "start_time": "2021-12-08T12:53:13.817Z"
   },
   {
    "duration": 16,
    "start_time": "2021-12-08T12:53:13.872Z"
   },
   {
    "duration": 16,
    "start_time": "2021-12-08T12:53:13.891Z"
   },
   {
    "duration": 14,
    "start_time": "2021-12-08T12:53:13.909Z"
   },
   {
    "duration": 43,
    "start_time": "2021-12-08T12:53:13.926Z"
   },
   {
    "duration": 21,
    "start_time": "2021-12-08T12:53:13.972Z"
   },
   {
    "duration": 11,
    "start_time": "2021-12-08T12:53:13.995Z"
   },
   {
    "duration": 17,
    "start_time": "2021-12-08T12:53:14.009Z"
   },
   {
    "duration": 49,
    "start_time": "2021-12-08T12:53:14.029Z"
   },
   {
    "duration": 14,
    "start_time": "2021-12-08T12:53:14.081Z"
   },
   {
    "duration": 10,
    "start_time": "2021-12-08T12:53:14.097Z"
   },
   {
    "duration": 57,
    "start_time": "2021-12-08T12:53:14.110Z"
   },
   {
    "duration": 47,
    "start_time": "2021-12-08T12:53:14.169Z"
   },
   {
    "duration": 977,
    "start_time": "2021-12-08T12:53:14.218Z"
   },
   {
    "duration": 3646,
    "start_time": "2021-12-08T12:53:15.197Z"
   },
   {
    "duration": 29,
    "start_time": "2021-12-08T12:53:18.846Z"
   },
   {
    "duration": 24,
    "start_time": "2021-12-08T12:53:18.878Z"
   },
   {
    "duration": 36,
    "start_time": "2021-12-08T12:53:18.904Z"
   },
   {
    "duration": 51,
    "start_time": "2021-12-08T12:53:18.943Z"
   },
   {
    "duration": 30,
    "start_time": "2021-12-08T12:53:18.996Z"
   },
   {
    "duration": 57,
    "start_time": "2021-12-08T12:53:19.028Z"
   },
   {
    "duration": 426,
    "start_time": "2021-12-08T12:55:23.766Z"
   },
   {
    "duration": 29,
    "start_time": "2021-12-08T12:55:39.704Z"
   },
   {
    "duration": 43,
    "start_time": "2021-12-08T12:56:48.247Z"
   },
   {
    "duration": 4202,
    "start_time": "2021-12-08T12:57:39.127Z"
   },
   {
    "duration": 13,
    "start_time": "2021-12-08T12:57:43.332Z"
   },
   {
    "duration": 31,
    "start_time": "2021-12-08T12:57:43.347Z"
   },
   {
    "duration": 31,
    "start_time": "2021-12-08T12:57:50.787Z"
   },
   {
    "duration": 33,
    "start_time": "2021-12-08T13:09:32.603Z"
   },
   {
    "duration": 33,
    "start_time": "2021-12-08T13:09:48.481Z"
   },
   {
    "duration": 31,
    "start_time": "2021-12-08T13:09:53.390Z"
   },
   {
    "duration": 31,
    "start_time": "2021-12-08T13:12:48.350Z"
   },
   {
    "duration": 809,
    "start_time": "2021-12-08T13:30:45.902Z"
   },
   {
    "duration": 16,
    "start_time": "2021-12-08T13:30:46.714Z"
   },
   {
    "duration": 11,
    "start_time": "2021-12-08T13:30:46.732Z"
   },
   {
    "duration": 33,
    "start_time": "2021-12-08T13:30:46.746Z"
   },
   {
    "duration": 17,
    "start_time": "2021-12-08T13:30:46.781Z"
   },
   {
    "duration": 28,
    "start_time": "2021-12-08T13:30:46.800Z"
   },
   {
    "duration": 18,
    "start_time": "2021-12-08T13:30:46.831Z"
   },
   {
    "duration": 30,
    "start_time": "2021-12-08T13:30:46.853Z"
   },
   {
    "duration": 10,
    "start_time": "2021-12-08T13:30:46.886Z"
   },
   {
    "duration": 33,
    "start_time": "2021-12-08T13:30:46.898Z"
   },
   {
    "duration": 7,
    "start_time": "2021-12-08T13:30:46.934Z"
   },
   {
    "duration": 61,
    "start_time": "2021-12-08T13:30:46.943Z"
   },
   {
    "duration": 18,
    "start_time": "2021-12-08T13:30:47.007Z"
   },
   {
    "duration": 33,
    "start_time": "2021-12-08T13:30:47.027Z"
   },
   {
    "duration": 26,
    "start_time": "2021-12-08T13:30:47.062Z"
   },
   {
    "duration": 23,
    "start_time": "2021-12-08T13:30:47.090Z"
   },
   {
    "duration": 43,
    "start_time": "2021-12-08T13:30:47.115Z"
   },
   {
    "duration": 7,
    "start_time": "2021-12-08T13:30:47.160Z"
   },
   {
    "duration": 37,
    "start_time": "2021-12-08T13:30:47.169Z"
   },
   {
    "duration": 30,
    "start_time": "2021-12-08T13:30:47.208Z"
   },
   {
    "duration": 30,
    "start_time": "2021-12-08T13:30:47.240Z"
   },
   {
    "duration": 28,
    "start_time": "2021-12-08T13:30:47.272Z"
   },
   {
    "duration": 27,
    "start_time": "2021-12-08T13:30:47.305Z"
   },
   {
    "duration": 19,
    "start_time": "2021-12-08T13:30:47.334Z"
   },
   {
    "duration": 31,
    "start_time": "2021-12-08T13:30:47.356Z"
   },
   {
    "duration": 43,
    "start_time": "2021-12-08T13:30:47.390Z"
   },
   {
    "duration": 18,
    "start_time": "2021-12-08T13:30:47.435Z"
   },
   {
    "duration": 26,
    "start_time": "2021-12-08T13:30:47.455Z"
   },
   {
    "duration": 24,
    "start_time": "2021-12-08T13:30:47.483Z"
   },
   {
    "duration": 36,
    "start_time": "2021-12-08T13:30:47.509Z"
   },
   {
    "duration": 29,
    "start_time": "2021-12-08T13:30:47.548Z"
   },
   {
    "duration": 47,
    "start_time": "2021-12-08T13:30:47.579Z"
   },
   {
    "duration": 45,
    "start_time": "2021-12-08T13:30:47.628Z"
   },
   {
    "duration": 935,
    "start_time": "2021-12-08T13:30:47.676Z"
   },
   {
    "duration": 3726,
    "start_time": "2021-12-08T13:30:48.615Z"
   },
   {
    "duration": 26,
    "start_time": "2021-12-08T13:30:52.344Z"
   },
   {
    "duration": 20,
    "start_time": "2021-12-08T13:30:52.372Z"
   },
   {
    "duration": 50,
    "start_time": "2021-12-08T13:30:52.395Z"
   },
   {
    "duration": 44,
    "start_time": "2021-12-08T13:30:52.448Z"
   },
   {
    "duration": 29,
    "start_time": "2021-12-08T13:30:52.494Z"
   },
   {
    "duration": 61,
    "start_time": "2021-12-08T13:30:52.525Z"
   },
   {
    "duration": 794,
    "start_time": "2021-12-08T19:15:50.144Z"
   },
   {
    "duration": 18,
    "start_time": "2021-12-08T19:15:50.942Z"
   },
   {
    "duration": 12,
    "start_time": "2021-12-08T19:15:50.964Z"
   },
   {
    "duration": 16,
    "start_time": "2021-12-08T19:15:50.979Z"
   },
   {
    "duration": 12,
    "start_time": "2021-12-08T19:15:51.024Z"
   },
   {
    "duration": 33,
    "start_time": "2021-12-08T19:15:51.039Z"
   },
   {
    "duration": 8,
    "start_time": "2021-12-08T19:15:51.076Z"
   },
   {
    "duration": 50,
    "start_time": "2021-12-08T19:15:51.089Z"
   },
   {
    "duration": 15,
    "start_time": "2021-12-08T19:15:51.142Z"
   },
   {
    "duration": 28,
    "start_time": "2021-12-08T19:15:51.159Z"
   },
   {
    "duration": 34,
    "start_time": "2021-12-08T19:15:51.190Z"
   },
   {
    "duration": 20,
    "start_time": "2021-12-08T19:15:51.226Z"
   },
   {
    "duration": 10,
    "start_time": "2021-12-08T19:15:51.248Z"
   },
   {
    "duration": 18,
    "start_time": "2021-12-08T19:15:51.260Z"
   },
   {
    "duration": 48,
    "start_time": "2021-12-08T19:15:51.281Z"
   },
   {
    "duration": 22,
    "start_time": "2021-12-08T19:15:51.332Z"
   },
   {
    "duration": 25,
    "start_time": "2021-12-08T19:15:51.357Z"
   },
   {
    "duration": 17,
    "start_time": "2021-12-08T19:15:51.385Z"
   },
   {
    "duration": 33,
    "start_time": "2021-12-08T19:15:51.405Z"
   },
   {
    "duration": 15,
    "start_time": "2021-12-08T19:15:51.441Z"
   },
   {
    "duration": 8,
    "start_time": "2021-12-08T19:15:51.459Z"
   },
   {
    "duration": 20,
    "start_time": "2021-12-08T19:15:51.469Z"
   },
   {
    "duration": 40,
    "start_time": "2021-12-08T19:15:51.494Z"
   },
   {
    "duration": 31,
    "start_time": "2021-12-08T19:15:51.536Z"
   },
   {
    "duration": 13,
    "start_time": "2021-12-08T19:15:51.570Z"
   },
   {
    "duration": 29,
    "start_time": "2021-12-08T19:15:51.585Z"
   },
   {
    "duration": 9,
    "start_time": "2021-12-08T19:15:51.624Z"
   },
   {
    "duration": 33,
    "start_time": "2021-12-08T19:15:51.636Z"
   },
   {
    "duration": 21,
    "start_time": "2021-12-08T19:15:51.672Z"
   },
   {
    "duration": 28,
    "start_time": "2021-12-08T19:15:51.696Z"
   },
   {
    "duration": 10,
    "start_time": "2021-12-08T19:15:51.727Z"
   },
   {
    "duration": 45,
    "start_time": "2021-12-08T19:15:51.739Z"
   },
   {
    "duration": 61,
    "start_time": "2021-12-08T19:15:51.787Z"
   },
   {
    "duration": 887,
    "start_time": "2021-12-08T19:15:51.851Z"
   },
   {
    "duration": 3804,
    "start_time": "2021-12-08T19:15:52.741Z"
   },
   {
    "duration": 12,
    "start_time": "2021-12-08T19:15:56.548Z"
   },
   {
    "duration": 22,
    "start_time": "2021-12-08T19:15:56.563Z"
   },
   {
    "duration": 59,
    "start_time": "2021-12-08T19:15:56.588Z"
   },
   {
    "duration": 31,
    "start_time": "2021-12-08T19:15:56.650Z"
   },
   {
    "duration": 61,
    "start_time": "2021-12-08T19:15:56.683Z"
   },
   {
    "duration": 28,
    "start_time": "2021-12-08T19:15:56.747Z"
   },
   {
    "duration": 11,
    "start_time": "2021-12-08T19:21:09.465Z"
   },
   {
    "duration": 20,
    "start_time": "2021-12-08T19:23:20.840Z"
   },
   {
    "duration": 26,
    "start_time": "2021-12-08T19:24:24.590Z"
   },
   {
    "duration": 393,
    "start_time": "2021-12-09T12:52:11.228Z"
   },
   {
    "duration": 876,
    "start_time": "2021-12-09T12:52:18.086Z"
   },
   {
    "duration": 17,
    "start_time": "2021-12-09T12:52:18.965Z"
   },
   {
    "duration": 7,
    "start_time": "2021-12-09T12:52:18.985Z"
   },
   {
    "duration": 9,
    "start_time": "2021-12-09T12:52:19.018Z"
   },
   {
    "duration": 9,
    "start_time": "2021-12-09T12:52:19.030Z"
   },
   {
    "duration": 19,
    "start_time": "2021-12-09T12:52:19.041Z"
   },
   {
    "duration": 8,
    "start_time": "2021-12-09T12:52:19.062Z"
   },
   {
    "duration": 60,
    "start_time": "2021-12-09T12:52:19.074Z"
   },
   {
    "duration": 13,
    "start_time": "2021-12-09T12:52:19.137Z"
   },
   {
    "duration": 26,
    "start_time": "2021-12-09T12:52:19.152Z"
   },
   {
    "duration": 6,
    "start_time": "2021-12-09T12:52:19.180Z"
   },
   {
    "duration": 21,
    "start_time": "2021-12-09T12:52:19.218Z"
   },
   {
    "duration": 5,
    "start_time": "2021-12-09T12:52:19.241Z"
   },
   {
    "duration": 13,
    "start_time": "2021-12-09T12:52:19.249Z"
   },
   {
    "duration": 10,
    "start_time": "2021-12-09T12:52:19.265Z"
   },
   {
    "duration": 9,
    "start_time": "2021-12-09T12:52:19.317Z"
   },
   {
    "duration": 20,
    "start_time": "2021-12-09T12:52:19.328Z"
   },
   {
    "duration": 14,
    "start_time": "2021-12-09T12:52:19.351Z"
   },
   {
    "duration": 20,
    "start_time": "2021-12-09T12:52:19.367Z"
   },
   {
    "duration": 12,
    "start_time": "2021-12-09T12:52:19.418Z"
   },
   {
    "duration": 13,
    "start_time": "2021-12-09T12:52:19.432Z"
   },
   {
    "duration": 16,
    "start_time": "2021-12-09T12:52:19.447Z"
   },
   {
    "duration": 49,
    "start_time": "2021-12-09T12:52:19.468Z"
   },
   {
    "duration": 15,
    "start_time": "2021-12-09T12:52:19.520Z"
   },
   {
    "duration": 14,
    "start_time": "2021-12-09T12:52:19.537Z"
   },
   {
    "duration": 17,
    "start_time": "2021-12-09T12:52:19.554Z"
   },
   {
    "duration": 9,
    "start_time": "2021-12-09T12:52:19.573Z"
   },
   {
    "duration": 17,
    "start_time": "2021-12-09T12:52:19.616Z"
   },
   {
    "duration": 15,
    "start_time": "2021-12-09T12:52:19.635Z"
   },
   {
    "duration": 13,
    "start_time": "2021-12-09T12:52:19.652Z"
   },
   {
    "duration": 10,
    "start_time": "2021-12-09T12:52:19.668Z"
   },
   {
    "duration": 57,
    "start_time": "2021-12-09T12:52:19.681Z"
   },
   {
    "duration": 45,
    "start_time": "2021-12-09T12:52:19.741Z"
   },
   {
    "duration": 942,
    "start_time": "2021-12-09T12:52:19.789Z"
   },
   {
    "duration": 3609,
    "start_time": "2021-12-09T12:52:20.734Z"
   },
   {
    "duration": 19,
    "start_time": "2021-12-09T12:52:24.346Z"
   },
   {
    "duration": 26,
    "start_time": "2021-12-09T12:52:24.369Z"
   },
   {
    "duration": 37,
    "start_time": "2021-12-09T12:52:24.398Z"
   },
   {
    "duration": 36,
    "start_time": "2021-12-09T12:52:24.438Z"
   },
   {
    "duration": 52,
    "start_time": "2021-12-09T12:52:24.476Z"
   },
   {
    "duration": 26,
    "start_time": "2021-12-09T12:52:24.530Z"
   },
   {
    "duration": 31,
    "start_time": "2021-12-09T12:52:24.558Z"
   },
   {
    "duration": 22,
    "start_time": "2021-12-09T12:52:24.617Z"
   },
   {
    "duration": 29,
    "start_time": "2021-12-09T12:52:24.641Z"
   },
   {
    "duration": 68,
    "start_time": "2021-12-09T12:52:24.673Z"
   },
   {
    "duration": 17,
    "start_time": "2021-12-09T12:53:13.560Z"
   },
   {
    "duration": 19,
    "start_time": "2021-12-09T12:53:51.067Z"
   }
  ],
  "kernelspec": {
   "display_name": "Python 3 (ipykernel)",
   "language": "python",
   "name": "python3"
  },
  "language_info": {
   "codemirror_mode": {
    "name": "ipython",
    "version": 3
   },
   "file_extension": ".py",
   "mimetype": "text/x-python",
   "name": "python",
   "nbconvert_exporter": "python",
   "pygments_lexer": "ipython3",
   "version": "3.9.7"
  },
  "toc": {
   "base_numbering": 1,
   "nav_menu": {},
   "number_sections": true,
   "sideBar": true,
   "skip_h1_title": true,
   "title_cell": "Содержание",
   "title_sidebar": "Contents",
   "toc_cell": true,
   "toc_position": {},
   "toc_section_display": true,
   "toc_window_display": true
  },
  "varInspector": {
   "cols": {
    "lenName": 16,
    "lenType": 16,
    "lenVar": 40
   },
   "kernels_config": {
    "python": {
     "delete_cmd_postfix": "",
     "delete_cmd_prefix": "del ",
     "library": "var_list.py",
     "varRefreshCmd": "print(var_dic_list())"
    },
    "r": {
     "delete_cmd_postfix": ") ",
     "delete_cmd_prefix": "rm(",
     "library": "var_list.r",
     "varRefreshCmd": "cat(var_dic_list()) "
    }
   },
   "types_to_exclude": [
    "module",
    "function",
    "builtin_function_or_method",
    "instance",
    "_Feature"
   ],
   "window_display": false
  }
 },
 "nbformat": 4,
 "nbformat_minor": 2
}
