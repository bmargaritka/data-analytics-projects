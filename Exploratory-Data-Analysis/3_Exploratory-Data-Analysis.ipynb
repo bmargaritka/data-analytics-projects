{
 "cells": [
  {
   "cell_type": "markdown",
   "metadata": {
    "toc": true
   },
   "source": [
    "<h1>Содержание<span class=\"tocSkip\"></span></h1>\n",
    "<div class=\"toc\"><ul class=\"toc-item\"><li><span><a href=\"#Изучение-данных-из-файла\" data-toc-modified-id=\"Изучение-данных-из-файла-1\"><span class=\"toc-item-num\">1&nbsp;&nbsp;</span>Изучение данных из файла</a></span><ul class=\"toc-item\"><li><span><a href=\"#Вывод\" data-toc-modified-id=\"Вывод-1.1\"><span class=\"toc-item-num\">1.1&nbsp;&nbsp;</span>Вывод</a></span></li></ul></li><li><span><a href=\"#Предобработка-данных\" data-toc-modified-id=\"Предобработка-данных-2\"><span class=\"toc-item-num\">2&nbsp;&nbsp;</span>Предобработка данных</a></span><ul class=\"toc-item\"><li><span><a href=\"#Поиск-и-замена-пропущенных-значений\" data-toc-modified-id=\"Поиск-и-замена-пропущенных-значений-2.1\"><span class=\"toc-item-num\">2.1&nbsp;&nbsp;</span>Поиск и замена пропущенных значений</a></span></li><li><span><a href=\"#Приведение-к-нужному-типу-данных\" data-toc-modified-id=\"Приведение-к-нужному-типу-данных-2.2\"><span class=\"toc-item-num\">2.2&nbsp;&nbsp;</span>Приведение к нужному типу данных</a></span></li><li><span><a href=\"#Вывод\" data-toc-modified-id=\"Вывод-2.3\"><span class=\"toc-item-num\">2.3&nbsp;&nbsp;</span>Вывод</a></span></li></ul></li><li><span><a href=\"#Расчёты-и-добавление-результатов-в-таблицу\" data-toc-modified-id=\"Расчёты-и-добавление-результатов-в-таблицу-3\"><span class=\"toc-item-num\">3&nbsp;&nbsp;</span>Расчёты и добавление результатов в таблицу</a></span><ul class=\"toc-item\"><li><span><a href=\"#Цена-квадратного-метра\" data-toc-modified-id=\"Цена-квадратного-метра-3.1\"><span class=\"toc-item-num\">3.1&nbsp;&nbsp;</span>Цена квадратного метра</a></span></li><li><span><a href=\"#День-недели,-месяц-и-год-публикации-объявления\" data-toc-modified-id=\"День-недели,-месяц-и-год-публикации-объявления-3.2\"><span class=\"toc-item-num\">3.2&nbsp;&nbsp;</span>День недели, месяц и год публикации объявления</a></span></li><li><span><a href=\"#Этаж-квартиры\" data-toc-modified-id=\"Этаж-квартиры-3.3\"><span class=\"toc-item-num\">3.3&nbsp;&nbsp;</span>Этаж квартиры</a></span></li><li><span><a href=\"#Соотношение-площадей\" data-toc-modified-id=\"Соотношение-площадей-3.4\"><span class=\"toc-item-num\">3.4&nbsp;&nbsp;</span>Соотношение площадей</a></span></li><li><span><a href=\"#Вывод\" data-toc-modified-id=\"Вывод-3.5\"><span class=\"toc-item-num\">3.5&nbsp;&nbsp;</span>Вывод</a></span></li></ul></li><li><span><a href=\"#Исследовательский-анализ-данных\" data-toc-modified-id=\"Исследовательский-анализ-данных-4\"><span class=\"toc-item-num\">4&nbsp;&nbsp;</span>Исследовательский анализ данных</a></span><ul class=\"toc-item\"><li><span><a href=\"#Изучение-параметров\" data-toc-modified-id=\"Изучение-параметров-4.1\"><span class=\"toc-item-num\">4.1&nbsp;&nbsp;</span>Изучение параметров</a></span></li><li><span><a href=\"#Изучение-вpeмени-продажи-квартиры\" data-toc-modified-id=\"Изучение-вpeмени-продажи-квартиры-4.2\"><span class=\"toc-item-num\">4.2&nbsp;&nbsp;</span>Изучение вpeмени продажи квартиры</a></span></li><li><span><a href=\"#Редкие-и-выбивающиеся-значения\" data-toc-modified-id=\"Редкие-и-выбивающиеся-значения-4.3\"><span class=\"toc-item-num\">4.3&nbsp;&nbsp;</span>Редкие и выбивающиеся значения</a></span></li><li><span><a href=\"#Факторы,-влияющие-на-стоимость-квартиры\" data-toc-modified-id=\"Факторы,-влияющие-на-стоимость-квартиры-4.4\"><span class=\"toc-item-num\">4.4&nbsp;&nbsp;</span>Факторы, влияющие на стоимость квартиры</a></span></li><li><span><a href=\"#10-населённых-пунктов-с-большим-числом-объявлений\" data-toc-modified-id=\"10-населённых-пунктов-с-большим-числом-объявлений-4.5\"><span class=\"toc-item-num\">4.5&nbsp;&nbsp;</span>10 населённых пунктов с большим числом объявлений</a></span></li><li><span><a href=\"#Квартиры-в-Санкт-Петербурге\" data-toc-modified-id=\"Квартиры-в-Санкт-Петербурге-4.6\"><span class=\"toc-item-num\">4.6&nbsp;&nbsp;</span>Квартиры в Санкт-Петербурге</a></span></li><li><span><a href=\"#Сегмент-квартир-в-центре-города\" data-toc-modified-id=\"Сегмент-квартир-в-центре-города-4.7\"><span class=\"toc-item-num\">4.7&nbsp;&nbsp;</span>Сегмент квартир в центре города</a></span></li></ul></li><li><span><a href=\"#Общий-вывод\" data-toc-modified-id=\"Общий-вывод-5\"><span class=\"toc-item-num\">5&nbsp;&nbsp;</span>Общий вывод</a></span></li></ul></div>"
   ]
  },
  {
   "cell_type": "markdown",
   "metadata": {},
   "source": [
    "# Исследование объявлений о продаже квартир\n",
    "\n",
    "В распоряжении данные сервиса Яндекс.Недвижимость — архив объявлений о продаже квартир в Санкт-Петербурге и соседних населённых пунктах за несколько лет. Нужно научиться определять рыночную стоимость объектов недвижимости. Задача — установить параметры. Это позволит построить автоматизированную систему: она отследит аномалии и мошенническую деятельность. \n",
    "\n",
    "По каждой квартире на продажу доступны два вида данных. Первые вписаны пользователем, вторые получены автоматически на основе картографических данных. Например, расстояние до центра, аэропорта, ближайшего парка и водоёма. \n",
    "\n",
    "**Описание данных**\n",
    "\n",
    "* airports_nearest — расстояние до ближайшего аэропорта в метрах (м)\n",
    "* balcony — число балконов\n",
    "* ceiling_height — высота потолков (м)\n",
    "* cityCenters_nearest — расстояние до центра города (м)\n",
    "* days_exposition — сколько дней было размещено объявление (от публикации до снятия)\n",
    "* first_day_exposition — дата публикации\n",
    "* floor — этаж\n",
    "* floors_total — всего этажей в доме\n",
    "* is_apartment — апартаменты (булев тип)\n",
    "* kitchen_area — площадь кухни в квадратных метрах (м²)\n",
    "* last_price — цена на момент снятия с публикации\n",
    "* living_area — жилая площадь в квадратных метрах (м²)\n",
    "* locality_name — название населённого пункта\n",
    "* open_plan — свободная планировка (булев тип)\n",
    "* parks_around3000 — число парков в радиусе 3 км\n",
    "* parks_nearest — расстояние до ближайшего парка (м)\n",
    "* ponds_around3000 — число водоёмов в радиусе 3 км\n",
    "* ponds_nearest — расстояние до ближайшего водоёма (м)\n",
    "* rooms — число комнат\n",
    "* studio — квартира-студия (булев тип)\n",
    "* total_area — площадь квартиры в квадратных метрах (м²)\n",
    "* total_images — число фотографий квартиры в объявлении"
   ]
  },
  {
   "cell_type": "markdown",
   "metadata": {},
   "source": [
    "## Изучение данных из файла"
   ]
  },
  {
   "cell_type": "code",
   "execution_count": 1,
   "metadata": {},
   "outputs": [],
   "source": [
    "# импортируем необходимые библиотеки\n",
    "import pandas as pd\n",
    "import matplotlib.pyplot as plt \n",
    "import warnings\n",
    "\n",
    "warnings.simplefilter('ignore')"
   ]
  },
  {
   "cell_type": "code",
   "execution_count": 2,
   "metadata": {
    "scrolled": false
   },
   "outputs": [
    {
     "data": {
      "text/html": [
       "<div>\n",
       "<style scoped>\n",
       "    .dataframe tbody tr th:only-of-type {\n",
       "        vertical-align: middle;\n",
       "    }\n",
       "\n",
       "    .dataframe tbody tr th {\n",
       "        vertical-align: top;\n",
       "    }\n",
       "\n",
       "    .dataframe thead th {\n",
       "        text-align: right;\n",
       "    }\n",
       "</style>\n",
       "<table border=\"1\" class=\"dataframe\">\n",
       "  <thead>\n",
       "    <tr style=\"text-align: right;\">\n",
       "      <th></th>\n",
       "      <th>total_images</th>\n",
       "      <th>last_price</th>\n",
       "      <th>total_area</th>\n",
       "      <th>first_day_exposition</th>\n",
       "      <th>rooms</th>\n",
       "      <th>ceiling_height</th>\n",
       "      <th>floors_total</th>\n",
       "      <th>living_area</th>\n",
       "      <th>floor</th>\n",
       "      <th>is_apartment</th>\n",
       "      <th>...</th>\n",
       "      <th>kitchen_area</th>\n",
       "      <th>balcony</th>\n",
       "      <th>locality_name</th>\n",
       "      <th>airports_nearest</th>\n",
       "      <th>cityCenters_nearest</th>\n",
       "      <th>parks_around3000</th>\n",
       "      <th>parks_nearest</th>\n",
       "      <th>ponds_around3000</th>\n",
       "      <th>ponds_nearest</th>\n",
       "      <th>days_exposition</th>\n",
       "    </tr>\n",
       "  </thead>\n",
       "  <tbody>\n",
       "    <tr>\n",
       "      <th>0</th>\n",
       "      <td>20</td>\n",
       "      <td>13000000.0</td>\n",
       "      <td>108.0</td>\n",
       "      <td>2019-03-07T00:00:00</td>\n",
       "      <td>3</td>\n",
       "      <td>2.7</td>\n",
       "      <td>16.0</td>\n",
       "      <td>51.0</td>\n",
       "      <td>8</td>\n",
       "      <td>NaN</td>\n",
       "      <td>...</td>\n",
       "      <td>25.0</td>\n",
       "      <td>NaN</td>\n",
       "      <td>Санкт-Петербург</td>\n",
       "      <td>18863.0</td>\n",
       "      <td>16028.0</td>\n",
       "      <td>1.0</td>\n",
       "      <td>482.0</td>\n",
       "      <td>2.0</td>\n",
       "      <td>755.0</td>\n",
       "      <td>NaN</td>\n",
       "    </tr>\n",
       "    <tr>\n",
       "      <th>1</th>\n",
       "      <td>7</td>\n",
       "      <td>3350000.0</td>\n",
       "      <td>40.4</td>\n",
       "      <td>2018-12-04T00:00:00</td>\n",
       "      <td>1</td>\n",
       "      <td>NaN</td>\n",
       "      <td>11.0</td>\n",
       "      <td>18.6</td>\n",
       "      <td>1</td>\n",
       "      <td>NaN</td>\n",
       "      <td>...</td>\n",
       "      <td>11.0</td>\n",
       "      <td>2.0</td>\n",
       "      <td>посёлок Шушары</td>\n",
       "      <td>12817.0</td>\n",
       "      <td>18603.0</td>\n",
       "      <td>0.0</td>\n",
       "      <td>NaN</td>\n",
       "      <td>0.0</td>\n",
       "      <td>NaN</td>\n",
       "      <td>81.0</td>\n",
       "    </tr>\n",
       "    <tr>\n",
       "      <th>2</th>\n",
       "      <td>10</td>\n",
       "      <td>5196000.0</td>\n",
       "      <td>56.0</td>\n",
       "      <td>2015-08-20T00:00:00</td>\n",
       "      <td>2</td>\n",
       "      <td>NaN</td>\n",
       "      <td>5.0</td>\n",
       "      <td>34.3</td>\n",
       "      <td>4</td>\n",
       "      <td>NaN</td>\n",
       "      <td>...</td>\n",
       "      <td>8.3</td>\n",
       "      <td>0.0</td>\n",
       "      <td>Санкт-Петербург</td>\n",
       "      <td>21741.0</td>\n",
       "      <td>13933.0</td>\n",
       "      <td>1.0</td>\n",
       "      <td>90.0</td>\n",
       "      <td>2.0</td>\n",
       "      <td>574.0</td>\n",
       "      <td>558.0</td>\n",
       "    </tr>\n",
       "    <tr>\n",
       "      <th>3</th>\n",
       "      <td>0</td>\n",
       "      <td>64900000.0</td>\n",
       "      <td>159.0</td>\n",
       "      <td>2015-07-24T00:00:00</td>\n",
       "      <td>3</td>\n",
       "      <td>NaN</td>\n",
       "      <td>14.0</td>\n",
       "      <td>NaN</td>\n",
       "      <td>9</td>\n",
       "      <td>NaN</td>\n",
       "      <td>...</td>\n",
       "      <td>NaN</td>\n",
       "      <td>0.0</td>\n",
       "      <td>Санкт-Петербург</td>\n",
       "      <td>28098.0</td>\n",
       "      <td>6800.0</td>\n",
       "      <td>2.0</td>\n",
       "      <td>84.0</td>\n",
       "      <td>3.0</td>\n",
       "      <td>234.0</td>\n",
       "      <td>424.0</td>\n",
       "    </tr>\n",
       "    <tr>\n",
       "      <th>4</th>\n",
       "      <td>2</td>\n",
       "      <td>10000000.0</td>\n",
       "      <td>100.0</td>\n",
       "      <td>2018-06-19T00:00:00</td>\n",
       "      <td>2</td>\n",
       "      <td>3.03</td>\n",
       "      <td>14.0</td>\n",
       "      <td>32.0</td>\n",
       "      <td>13</td>\n",
       "      <td>NaN</td>\n",
       "      <td>...</td>\n",
       "      <td>41.0</td>\n",
       "      <td>NaN</td>\n",
       "      <td>Санкт-Петербург</td>\n",
       "      <td>31856.0</td>\n",
       "      <td>8098.0</td>\n",
       "      <td>2.0</td>\n",
       "      <td>112.0</td>\n",
       "      <td>1.0</td>\n",
       "      <td>48.0</td>\n",
       "      <td>121.0</td>\n",
       "    </tr>\n",
       "    <tr>\n",
       "      <th>5</th>\n",
       "      <td>10</td>\n",
       "      <td>2890000.0</td>\n",
       "      <td>30.4</td>\n",
       "      <td>2018-09-10T00:00:00</td>\n",
       "      <td>1</td>\n",
       "      <td>NaN</td>\n",
       "      <td>12.0</td>\n",
       "      <td>14.4</td>\n",
       "      <td>5</td>\n",
       "      <td>NaN</td>\n",
       "      <td>...</td>\n",
       "      <td>9.1</td>\n",
       "      <td>NaN</td>\n",
       "      <td>городской посёлок Янино-1</td>\n",
       "      <td>NaN</td>\n",
       "      <td>NaN</td>\n",
       "      <td>NaN</td>\n",
       "      <td>NaN</td>\n",
       "      <td>NaN</td>\n",
       "      <td>NaN</td>\n",
       "      <td>55.0</td>\n",
       "    </tr>\n",
       "    <tr>\n",
       "      <th>6</th>\n",
       "      <td>6</td>\n",
       "      <td>3700000.0</td>\n",
       "      <td>37.3</td>\n",
       "      <td>2017-11-02T00:00:00</td>\n",
       "      <td>1</td>\n",
       "      <td>NaN</td>\n",
       "      <td>26.0</td>\n",
       "      <td>10.6</td>\n",
       "      <td>6</td>\n",
       "      <td>NaN</td>\n",
       "      <td>...</td>\n",
       "      <td>14.4</td>\n",
       "      <td>1.0</td>\n",
       "      <td>посёлок Парголово</td>\n",
       "      <td>52996.0</td>\n",
       "      <td>19143.0</td>\n",
       "      <td>0.0</td>\n",
       "      <td>NaN</td>\n",
       "      <td>0.0</td>\n",
       "      <td>NaN</td>\n",
       "      <td>155.0</td>\n",
       "    </tr>\n",
       "    <tr>\n",
       "      <th>7</th>\n",
       "      <td>5</td>\n",
       "      <td>7915000.0</td>\n",
       "      <td>71.6</td>\n",
       "      <td>2019-04-18T00:00:00</td>\n",
       "      <td>2</td>\n",
       "      <td>NaN</td>\n",
       "      <td>24.0</td>\n",
       "      <td>NaN</td>\n",
       "      <td>22</td>\n",
       "      <td>NaN</td>\n",
       "      <td>...</td>\n",
       "      <td>18.9</td>\n",
       "      <td>2.0</td>\n",
       "      <td>Санкт-Петербург</td>\n",
       "      <td>23982.0</td>\n",
       "      <td>11634.0</td>\n",
       "      <td>0.0</td>\n",
       "      <td>NaN</td>\n",
       "      <td>0.0</td>\n",
       "      <td>NaN</td>\n",
       "      <td>NaN</td>\n",
       "    </tr>\n",
       "    <tr>\n",
       "      <th>8</th>\n",
       "      <td>20</td>\n",
       "      <td>2900000.0</td>\n",
       "      <td>33.16</td>\n",
       "      <td>2018-05-23T00:00:00</td>\n",
       "      <td>1</td>\n",
       "      <td>NaN</td>\n",
       "      <td>27.0</td>\n",
       "      <td>15.43</td>\n",
       "      <td>26</td>\n",
       "      <td>NaN</td>\n",
       "      <td>...</td>\n",
       "      <td>8.81</td>\n",
       "      <td>NaN</td>\n",
       "      <td>посёлок Мурино</td>\n",
       "      <td>NaN</td>\n",
       "      <td>NaN</td>\n",
       "      <td>NaN</td>\n",
       "      <td>NaN</td>\n",
       "      <td>NaN</td>\n",
       "      <td>NaN</td>\n",
       "      <td>189.00000000000003</td>\n",
       "    </tr>\n",
       "    <tr>\n",
       "      <th>9</th>\n",
       "      <td>18</td>\n",
       "      <td>5400000.0</td>\n",
       "      <td>61.0</td>\n",
       "      <td>2017-02-26T00:00:00</td>\n",
       "      <td>3</td>\n",
       "      <td>2.5</td>\n",
       "      <td>9.0</td>\n",
       "      <td>43.6</td>\n",
       "      <td>7</td>\n",
       "      <td>NaN</td>\n",
       "      <td>...</td>\n",
       "      <td>6.5</td>\n",
       "      <td>2.0</td>\n",
       "      <td>Санкт-Петербург</td>\n",
       "      <td>50898.0</td>\n",
       "      <td>15008.0</td>\n",
       "      <td>0.0</td>\n",
       "      <td>NaN</td>\n",
       "      <td>0.0</td>\n",
       "      <td>NaN</td>\n",
       "      <td>289.0</td>\n",
       "    </tr>\n",
       "  </tbody>\n",
       "</table>\n",
       "<p>10 rows × 22 columns</p>\n",
       "</div>"
      ],
      "text/plain": [
       "   total_images  last_price total_area first_day_exposition  rooms  \\\n",
       "0            20  13000000.0      108.0  2019-03-07T00:00:00      3   \n",
       "1             7   3350000.0       40.4  2018-12-04T00:00:00      1   \n",
       "2            10   5196000.0       56.0  2015-08-20T00:00:00      2   \n",
       "3             0  64900000.0      159.0  2015-07-24T00:00:00      3   \n",
       "4             2  10000000.0      100.0  2018-06-19T00:00:00      2   \n",
       "5            10   2890000.0       30.4  2018-09-10T00:00:00      1   \n",
       "6             6   3700000.0       37.3  2017-11-02T00:00:00      1   \n",
       "7             5   7915000.0       71.6  2019-04-18T00:00:00      2   \n",
       "8            20   2900000.0      33.16  2018-05-23T00:00:00      1   \n",
       "9            18   5400000.0       61.0  2017-02-26T00:00:00      3   \n",
       "\n",
       "  ceiling_height floors_total living_area  floor is_apartment  ...  \\\n",
       "0            2.7         16.0        51.0      8          NaN  ...   \n",
       "1            NaN         11.0        18.6      1          NaN  ...   \n",
       "2            NaN          5.0        34.3      4          NaN  ...   \n",
       "3            NaN         14.0         NaN      9          NaN  ...   \n",
       "4           3.03         14.0        32.0     13          NaN  ...   \n",
       "5            NaN         12.0        14.4      5          NaN  ...   \n",
       "6            NaN         26.0        10.6      6          NaN  ...   \n",
       "7            NaN         24.0         NaN     22          NaN  ...   \n",
       "8            NaN         27.0       15.43     26          NaN  ...   \n",
       "9            2.5          9.0        43.6      7          NaN  ...   \n",
       "\n",
       "   kitchen_area  balcony              locality_name airports_nearest  \\\n",
       "0          25.0      NaN            Санкт-Петербург          18863.0   \n",
       "1          11.0      2.0             посёлок Шушары          12817.0   \n",
       "2           8.3      0.0            Санкт-Петербург          21741.0   \n",
       "3           NaN      0.0            Санкт-Петербург          28098.0   \n",
       "4          41.0      NaN            Санкт-Петербург          31856.0   \n",
       "5           9.1      NaN  городской посёлок Янино-1              NaN   \n",
       "6          14.4      1.0          посёлок Парголово          52996.0   \n",
       "7          18.9      2.0            Санкт-Петербург          23982.0   \n",
       "8          8.81      NaN             посёлок Мурино              NaN   \n",
       "9           6.5      2.0            Санкт-Петербург          50898.0   \n",
       "\n",
       "  cityCenters_nearest parks_around3000 parks_nearest ponds_around3000  \\\n",
       "0             16028.0              1.0         482.0              2.0   \n",
       "1             18603.0              0.0           NaN              0.0   \n",
       "2             13933.0              1.0          90.0              2.0   \n",
       "3              6800.0              2.0          84.0              3.0   \n",
       "4              8098.0              2.0         112.0              1.0   \n",
       "5                 NaN              NaN           NaN              NaN   \n",
       "6             19143.0              0.0           NaN              0.0   \n",
       "7             11634.0              0.0           NaN              0.0   \n",
       "8                 NaN              NaN           NaN              NaN   \n",
       "9             15008.0              0.0           NaN              0.0   \n",
       "\n",
       "  ponds_nearest     days_exposition  \n",
       "0         755.0                 NaN  \n",
       "1           NaN                81.0  \n",
       "2         574.0               558.0  \n",
       "3         234.0               424.0  \n",
       "4          48.0               121.0  \n",
       "5           NaN                55.0  \n",
       "6           NaN               155.0  \n",
       "7           NaN                 NaN  \n",
       "8           NaN  189.00000000000003  \n",
       "9           NaN               289.0  \n",
       "\n",
       "[10 rows x 22 columns]"
      ]
     },
     "execution_count": 2,
     "metadata": {},
     "output_type": "execute_result"
    }
   ],
   "source": [
    "# открываем csv-файл с нужными параметрами\n",
    "data = pd.read_csv('data.csv', sep='\\t', decimal=',')\n",
    "data.head(10)"
   ]
  },
  {
   "cell_type": "markdown",
   "metadata": {},
   "source": [
    "Пока ничего конкретно сказать о наборе данных нельзя. Видим, что есть пропущенные значения, названия столбцов корректные. Посмотрим общую информацию о данных."
   ]
  },
  {
   "cell_type": "code",
   "execution_count": 3,
   "metadata": {},
   "outputs": [
    {
     "name": "stdout",
     "output_type": "stream",
     "text": [
      "<class 'pandas.core.frame.DataFrame'>\n",
      "RangeIndex: 23699 entries, 0 to 23698\n",
      "Data columns (total 22 columns):\n",
      " #   Column                Non-Null Count  Dtype \n",
      "---  ------                --------------  ----- \n",
      " 0   total_images          23699 non-null  int64 \n",
      " 1   last_price            23699 non-null  object\n",
      " 2   total_area            23699 non-null  object\n",
      " 3   first_day_exposition  23699 non-null  object\n",
      " 4   rooms                 23699 non-null  int64 \n",
      " 5   ceiling_height        14504 non-null  object\n",
      " 6   floors_total          23613 non-null  object\n",
      " 7   living_area           21796 non-null  object\n",
      " 8   floor                 23699 non-null  int64 \n",
      " 9   is_apartment          2775 non-null   object\n",
      " 10  studio                23699 non-null  bool  \n",
      " 11  open_plan             23699 non-null  bool  \n",
      " 12  kitchen_area          21421 non-null  object\n",
      " 13  balcony               12180 non-null  object\n",
      " 14  locality_name         23650 non-null  object\n",
      " 15  airports_nearest      18157 non-null  object\n",
      " 16  cityCenters_nearest   18180 non-null  object\n",
      " 17  parks_around3000      18181 non-null  object\n",
      " 18  parks_nearest         8079 non-null   object\n",
      " 19  ponds_around3000      18181 non-null  object\n",
      " 20  ponds_nearest         9110 non-null   object\n",
      " 21  days_exposition       20518 non-null  object\n",
      "dtypes: bool(2), int64(3), object(17)\n",
      "memory usage: 3.7+ MB\n"
     ]
    }
   ],
   "source": [
    "data.info()"
   ]
  },
  {
   "cell_type": "markdown",
   "metadata": {},
   "source": [
    "### Вывод"
   ]
  },
  {
   "cell_type": "markdown",
   "metadata": {},
   "source": [
    "Больше половины атрибутов таблицы содержат пропуски. Также многие атрибуты имеют строковый тип данных, хотя данные, которые они содержат, являются веществеными или целочисленными (например, количество балконов, количество этажей). Попробуем разобраться с пропущенными значениями и привести данные к нужному типу."
   ]
  },
  {
   "cell_type": "markdown",
   "metadata": {},
   "source": [
    "## Предобработка данных"
   ]
  },
  {
   "cell_type": "markdown",
   "metadata": {},
   "source": [
    "### Поиск и замена пропущенных значений\n",
    "\n",
    "Для начала обозначим, в каких столбцах есть пропущенные значения, возможные причины их появления и возможное решение проблемы:\n",
    "* ceiling_height - высота потолков, пропущенно почти 40% значений, не уверена, что заменять пропуски на среднее или медианное значение потолков - это корректно, поэтому оставим пропуски\n",
    "* floors_total - количество этажей в доме, пропусков мало, логичной замены нет, оставим пропуски\n",
    "* living_area - жилая площадь, пропусков немного, возможно владельцы не знают точную площадь, оставим пропуски\n",
    "* is_apartment - флаг, указывающий на апартаменты, можно предположить что пропущенное значение значит, что это не апартаменты, можно заменить пропущенные значения на False\n",
    "* kitchen_area - площадь кухни, пропусков немного, возможно владельцы не знают точную площадь, оставим пропуски\n",
    "* balcony - около половины значений пропущено, но возможно эти пропуски означают отсутствие балконов, поэтому можем заменить пропуски на 0\n",
    "* locality_name - название населённого пункта, пропусков очень мало, можно заменить на \"неизвестно\"\n",
    "* airports_nearest - расстояние до ближайшего аэропорта, значения получены автоматически, возможно установлен лимит на расстояние, при привышении которого считается, что аэропорта по близости нет, оставим пропуски\n",
    "* cityCenters_nearest - расстояние до центра города, пропусков почти столько же, причина пропусков скорее всего аналогична, оставим пропуски \n",
    "* parks_around3000 - число парков в радиусе 3 км, пропусков столько же, скорее всего пропуски означают отсутсвие парков рядом, поэтому можно заменить на 0\n",
    "* parks_nearest - расстояние до ближайшего парка, пропусков больше половины, также возможен лимит в автоматическом определении, оставим пропуски\n",
    "* ponds_around3000 - число водоёмов в радиусе 3 км, пропусков столько же, скорее всего пропуски означают отсутсвие водоемов рядом, поэтому можно заменить на 0\n",
    "* ponds_nearest - расстояние до ближайшего водоёма, пропусков больше половины, также возможен лимит в автоматическом определении, оставим пропуски\n",
    "* days_exposition - пропусков немного, возможно на момент сбора данных объявление всё ещё было актуально, так как неизвестно, когда именно данные были собраны, мы не сможем вычислить количество дней, оставим пропуски"
   ]
  },
  {
   "cell_type": "markdown",
   "metadata": {},
   "source": [
    "Сначала заменим пропущенные значения на нулевые там, где это логично. "
   ]
  },
  {
   "cell_type": "code",
   "execution_count": 4,
   "metadata": {},
   "outputs": [],
   "source": [
    "data = data.fillna({'balcony': 0, \n",
    "            'floors_total': 0,\n",
    "            'parks_around3000': 0,\n",
    "            'ponds_around3000': 0,\n",
    "            'is_apartment': False,\n",
    "            'locality_name': 'неизвестно'})"
   ]
  },
  {
   "cell_type": "code",
   "execution_count": 5,
   "metadata": {},
   "outputs": [
    {
     "data": {
      "text/html": [
       "<div>\n",
       "<style scoped>\n",
       "    .dataframe tbody tr th:only-of-type {\n",
       "        vertical-align: middle;\n",
       "    }\n",
       "\n",
       "    .dataframe tbody tr th {\n",
       "        vertical-align: top;\n",
       "    }\n",
       "\n",
       "    .dataframe thead th {\n",
       "        text-align: right;\n",
       "    }\n",
       "</style>\n",
       "<table border=\"1\" class=\"dataframe\">\n",
       "  <thead>\n",
       "    <tr style=\"text-align: right;\">\n",
       "      <th></th>\n",
       "      <th>total_images</th>\n",
       "      <th>last_price</th>\n",
       "      <th>total_area</th>\n",
       "      <th>first_day_exposition</th>\n",
       "      <th>rooms</th>\n",
       "      <th>ceiling_height</th>\n",
       "      <th>floors_total</th>\n",
       "      <th>living_area</th>\n",
       "      <th>floor</th>\n",
       "      <th>is_apartment</th>\n",
       "      <th>...</th>\n",
       "      <th>kitchen_area</th>\n",
       "      <th>balcony</th>\n",
       "      <th>locality_name</th>\n",
       "      <th>airports_nearest</th>\n",
       "      <th>cityCenters_nearest</th>\n",
       "      <th>parks_around3000</th>\n",
       "      <th>parks_nearest</th>\n",
       "      <th>ponds_around3000</th>\n",
       "      <th>ponds_nearest</th>\n",
       "      <th>days_exposition</th>\n",
       "    </tr>\n",
       "  </thead>\n",
       "  <tbody>\n",
       "    <tr>\n",
       "      <th>0</th>\n",
       "      <td>20</td>\n",
       "      <td>13000000.0</td>\n",
       "      <td>108.0</td>\n",
       "      <td>2019-03-07T00:00:00</td>\n",
       "      <td>3</td>\n",
       "      <td>2.7</td>\n",
       "      <td>16.0</td>\n",
       "      <td>51.0</td>\n",
       "      <td>8</td>\n",
       "      <td>False</td>\n",
       "      <td>...</td>\n",
       "      <td>25.0</td>\n",
       "      <td>0</td>\n",
       "      <td>Санкт-Петербург</td>\n",
       "      <td>18863.0</td>\n",
       "      <td>16028.0</td>\n",
       "      <td>1.0</td>\n",
       "      <td>482.0</td>\n",
       "      <td>2.0</td>\n",
       "      <td>755.0</td>\n",
       "      <td>NaN</td>\n",
       "    </tr>\n",
       "    <tr>\n",
       "      <th>1</th>\n",
       "      <td>7</td>\n",
       "      <td>3350000.0</td>\n",
       "      <td>40.4</td>\n",
       "      <td>2018-12-04T00:00:00</td>\n",
       "      <td>1</td>\n",
       "      <td>NaN</td>\n",
       "      <td>11.0</td>\n",
       "      <td>18.6</td>\n",
       "      <td>1</td>\n",
       "      <td>False</td>\n",
       "      <td>...</td>\n",
       "      <td>11.0</td>\n",
       "      <td>2.0</td>\n",
       "      <td>посёлок Шушары</td>\n",
       "      <td>12817.0</td>\n",
       "      <td>18603.0</td>\n",
       "      <td>0.0</td>\n",
       "      <td>NaN</td>\n",
       "      <td>0.0</td>\n",
       "      <td>NaN</td>\n",
       "      <td>81.0</td>\n",
       "    </tr>\n",
       "    <tr>\n",
       "      <th>2</th>\n",
       "      <td>10</td>\n",
       "      <td>5196000.0</td>\n",
       "      <td>56.0</td>\n",
       "      <td>2015-08-20T00:00:00</td>\n",
       "      <td>2</td>\n",
       "      <td>NaN</td>\n",
       "      <td>5.0</td>\n",
       "      <td>34.3</td>\n",
       "      <td>4</td>\n",
       "      <td>False</td>\n",
       "      <td>...</td>\n",
       "      <td>8.3</td>\n",
       "      <td>0.0</td>\n",
       "      <td>Санкт-Петербург</td>\n",
       "      <td>21741.0</td>\n",
       "      <td>13933.0</td>\n",
       "      <td>1.0</td>\n",
       "      <td>90.0</td>\n",
       "      <td>2.0</td>\n",
       "      <td>574.0</td>\n",
       "      <td>558.0</td>\n",
       "    </tr>\n",
       "    <tr>\n",
       "      <th>3</th>\n",
       "      <td>0</td>\n",
       "      <td>64900000.0</td>\n",
       "      <td>159.0</td>\n",
       "      <td>2015-07-24T00:00:00</td>\n",
       "      <td>3</td>\n",
       "      <td>NaN</td>\n",
       "      <td>14.0</td>\n",
       "      <td>NaN</td>\n",
       "      <td>9</td>\n",
       "      <td>False</td>\n",
       "      <td>...</td>\n",
       "      <td>NaN</td>\n",
       "      <td>0.0</td>\n",
       "      <td>Санкт-Петербург</td>\n",
       "      <td>28098.0</td>\n",
       "      <td>6800.0</td>\n",
       "      <td>2.0</td>\n",
       "      <td>84.0</td>\n",
       "      <td>3.0</td>\n",
       "      <td>234.0</td>\n",
       "      <td>424.0</td>\n",
       "    </tr>\n",
       "    <tr>\n",
       "      <th>4</th>\n",
       "      <td>2</td>\n",
       "      <td>10000000.0</td>\n",
       "      <td>100.0</td>\n",
       "      <td>2018-06-19T00:00:00</td>\n",
       "      <td>2</td>\n",
       "      <td>3.03</td>\n",
       "      <td>14.0</td>\n",
       "      <td>32.0</td>\n",
       "      <td>13</td>\n",
       "      <td>False</td>\n",
       "      <td>...</td>\n",
       "      <td>41.0</td>\n",
       "      <td>0</td>\n",
       "      <td>Санкт-Петербург</td>\n",
       "      <td>31856.0</td>\n",
       "      <td>8098.0</td>\n",
       "      <td>2.0</td>\n",
       "      <td>112.0</td>\n",
       "      <td>1.0</td>\n",
       "      <td>48.0</td>\n",
       "      <td>121.0</td>\n",
       "    </tr>\n",
       "    <tr>\n",
       "      <th>...</th>\n",
       "      <td>...</td>\n",
       "      <td>...</td>\n",
       "      <td>...</td>\n",
       "      <td>...</td>\n",
       "      <td>...</td>\n",
       "      <td>...</td>\n",
       "      <td>...</td>\n",
       "      <td>...</td>\n",
       "      <td>...</td>\n",
       "      <td>...</td>\n",
       "      <td>...</td>\n",
       "      <td>...</td>\n",
       "      <td>...</td>\n",
       "      <td>...</td>\n",
       "      <td>...</td>\n",
       "      <td>...</td>\n",
       "      <td>...</td>\n",
       "      <td>...</td>\n",
       "      <td>...</td>\n",
       "      <td>...</td>\n",
       "      <td>...</td>\n",
       "    </tr>\n",
       "    <tr>\n",
       "      <th>23694</th>\n",
       "      <td>9</td>\n",
       "      <td>9700000.0</td>\n",
       "      <td>133.81</td>\n",
       "      <td>2017-03-21T00:00:00</td>\n",
       "      <td>3</td>\n",
       "      <td>3.7</td>\n",
       "      <td>5.0</td>\n",
       "      <td>73.3</td>\n",
       "      <td>3</td>\n",
       "      <td>False</td>\n",
       "      <td>...</td>\n",
       "      <td>13.83</td>\n",
       "      <td>0</td>\n",
       "      <td>Санкт-Петербург</td>\n",
       "      <td>24665.0</td>\n",
       "      <td>4232.0</td>\n",
       "      <td>1.0</td>\n",
       "      <td>796.0</td>\n",
       "      <td>3.0</td>\n",
       "      <td>381.0</td>\n",
       "      <td>NaN</td>\n",
       "    </tr>\n",
       "    <tr>\n",
       "      <th>23695</th>\n",
       "      <td>14</td>\n",
       "      <td>3100000.0</td>\n",
       "      <td>59.0</td>\n",
       "      <td>2018-01-15T00:00:00</td>\n",
       "      <td>3</td>\n",
       "      <td>NaN</td>\n",
       "      <td>5.0</td>\n",
       "      <td>38.0</td>\n",
       "      <td>4</td>\n",
       "      <td>False</td>\n",
       "      <td>...</td>\n",
       "      <td>8.5</td>\n",
       "      <td>0</td>\n",
       "      <td>Тосно</td>\n",
       "      <td>NaN</td>\n",
       "      <td>NaN</td>\n",
       "      <td>0</td>\n",
       "      <td>NaN</td>\n",
       "      <td>0</td>\n",
       "      <td>NaN</td>\n",
       "      <td>45.00000000000001</td>\n",
       "    </tr>\n",
       "    <tr>\n",
       "      <th>23696</th>\n",
       "      <td>18</td>\n",
       "      <td>2500000.0</td>\n",
       "      <td>56.7</td>\n",
       "      <td>2018-02-11T00:00:00</td>\n",
       "      <td>2</td>\n",
       "      <td>NaN</td>\n",
       "      <td>3.0</td>\n",
       "      <td>29.7</td>\n",
       "      <td>1</td>\n",
       "      <td>False</td>\n",
       "      <td>...</td>\n",
       "      <td>NaN</td>\n",
       "      <td>0</td>\n",
       "      <td>село Рождествено</td>\n",
       "      <td>NaN</td>\n",
       "      <td>NaN</td>\n",
       "      <td>0</td>\n",
       "      <td>NaN</td>\n",
       "      <td>0</td>\n",
       "      <td>NaN</td>\n",
       "      <td>NaN</td>\n",
       "    </tr>\n",
       "    <tr>\n",
       "      <th>23697</th>\n",
       "      <td>13</td>\n",
       "      <td>11475000.0</td>\n",
       "      <td>76.75</td>\n",
       "      <td>2017-03-28T00:00:00</td>\n",
       "      <td>2</td>\n",
       "      <td>3.0</td>\n",
       "      <td>17.0</td>\n",
       "      <td>NaN</td>\n",
       "      <td>12</td>\n",
       "      <td>False</td>\n",
       "      <td>...</td>\n",
       "      <td>23.3</td>\n",
       "      <td>2.0</td>\n",
       "      <td>Санкт-Петербург</td>\n",
       "      <td>39140.0</td>\n",
       "      <td>10364.0</td>\n",
       "      <td>2.0</td>\n",
       "      <td>173.0</td>\n",
       "      <td>3.0</td>\n",
       "      <td>196.0</td>\n",
       "      <td>602.0</td>\n",
       "    </tr>\n",
       "    <tr>\n",
       "      <th>23698</th>\n",
       "      <td>4</td>\n",
       "      <td>1350000.0</td>\n",
       "      <td>32.3</td>\n",
       "      <td>2017-07-21T00:00:00</td>\n",
       "      <td>1</td>\n",
       "      <td>2.5</td>\n",
       "      <td>5.0</td>\n",
       "      <td>12.3</td>\n",
       "      <td>1</td>\n",
       "      <td>False</td>\n",
       "      <td>...</td>\n",
       "      <td>9.0</td>\n",
       "      <td>0</td>\n",
       "      <td>поселок Новый Учхоз</td>\n",
       "      <td>NaN</td>\n",
       "      <td>NaN</td>\n",
       "      <td>0</td>\n",
       "      <td>NaN</td>\n",
       "      <td>0</td>\n",
       "      <td>NaN</td>\n",
       "      <td>NaN</td>\n",
       "    </tr>\n",
       "  </tbody>\n",
       "</table>\n",
       "<p>23699 rows × 22 columns</p>\n",
       "</div>"
      ],
      "text/plain": [
       "       total_images  last_price total_area first_day_exposition  rooms  \\\n",
       "0                20  13000000.0      108.0  2019-03-07T00:00:00      3   \n",
       "1                 7   3350000.0       40.4  2018-12-04T00:00:00      1   \n",
       "2                10   5196000.0       56.0  2015-08-20T00:00:00      2   \n",
       "3                 0  64900000.0      159.0  2015-07-24T00:00:00      3   \n",
       "4                 2  10000000.0      100.0  2018-06-19T00:00:00      2   \n",
       "...             ...         ...        ...                  ...    ...   \n",
       "23694             9   9700000.0     133.81  2017-03-21T00:00:00      3   \n",
       "23695            14   3100000.0       59.0  2018-01-15T00:00:00      3   \n",
       "23696            18   2500000.0       56.7  2018-02-11T00:00:00      2   \n",
       "23697            13  11475000.0      76.75  2017-03-28T00:00:00      2   \n",
       "23698             4   1350000.0       32.3  2017-07-21T00:00:00      1   \n",
       "\n",
       "      ceiling_height floors_total living_area  floor  is_apartment  ...  \\\n",
       "0                2.7         16.0        51.0      8         False  ...   \n",
       "1                NaN         11.0        18.6      1         False  ...   \n",
       "2                NaN          5.0        34.3      4         False  ...   \n",
       "3                NaN         14.0         NaN      9         False  ...   \n",
       "4               3.03         14.0        32.0     13         False  ...   \n",
       "...              ...          ...         ...    ...           ...  ...   \n",
       "23694            3.7          5.0        73.3      3         False  ...   \n",
       "23695            NaN          5.0        38.0      4         False  ...   \n",
       "23696            NaN          3.0        29.7      1         False  ...   \n",
       "23697            3.0         17.0         NaN     12         False  ...   \n",
       "23698            2.5          5.0        12.3      1         False  ...   \n",
       "\n",
       "       kitchen_area  balcony        locality_name airports_nearest  \\\n",
       "0              25.0        0      Санкт-Петербург          18863.0   \n",
       "1              11.0      2.0       посёлок Шушары          12817.0   \n",
       "2               8.3      0.0      Санкт-Петербург          21741.0   \n",
       "3               NaN      0.0      Санкт-Петербург          28098.0   \n",
       "4              41.0        0      Санкт-Петербург          31856.0   \n",
       "...             ...      ...                  ...              ...   \n",
       "23694         13.83        0      Санкт-Петербург          24665.0   \n",
       "23695           8.5        0                Тосно              NaN   \n",
       "23696           NaN        0     село Рождествено              NaN   \n",
       "23697          23.3      2.0      Санкт-Петербург          39140.0   \n",
       "23698           9.0        0  поселок Новый Учхоз              NaN   \n",
       "\n",
       "      cityCenters_nearest parks_around3000 parks_nearest ponds_around3000  \\\n",
       "0                 16028.0              1.0         482.0              2.0   \n",
       "1                 18603.0              0.0           NaN              0.0   \n",
       "2                 13933.0              1.0          90.0              2.0   \n",
       "3                  6800.0              2.0          84.0              3.0   \n",
       "4                  8098.0              2.0         112.0              1.0   \n",
       "...                   ...              ...           ...              ...   \n",
       "23694              4232.0              1.0         796.0              3.0   \n",
       "23695                 NaN                0           NaN                0   \n",
       "23696                 NaN                0           NaN                0   \n",
       "23697             10364.0              2.0         173.0              3.0   \n",
       "23698                 NaN                0           NaN                0   \n",
       "\n",
       "      ponds_nearest    days_exposition  \n",
       "0             755.0                NaN  \n",
       "1               NaN               81.0  \n",
       "2             574.0              558.0  \n",
       "3             234.0              424.0  \n",
       "4              48.0              121.0  \n",
       "...             ...                ...  \n",
       "23694         381.0                NaN  \n",
       "23695           NaN  45.00000000000001  \n",
       "23696           NaN                NaN  \n",
       "23697         196.0              602.0  \n",
       "23698           NaN                NaN  \n",
       "\n",
       "[23699 rows x 22 columns]"
      ]
     },
     "execution_count": 5,
     "metadata": {},
     "output_type": "execute_result"
    }
   ],
   "source": [
    "data"
   ]
  },
  {
   "cell_type": "markdown",
   "metadata": {},
   "source": [
    "На всякий случай проверим наличие дубликатов."
   ]
  },
  {
   "cell_type": "code",
   "execution_count": 6,
   "metadata": {},
   "outputs": [
    {
     "data": {
      "text/plain": [
       "0"
      ]
     },
     "execution_count": 6,
     "metadata": {},
     "output_type": "execute_result"
    }
   ],
   "source": [
    "# количество строк, у которых есть дубликаты\n",
    "data.duplicated().sum()"
   ]
  },
  {
   "cell_type": "markdown",
   "metadata": {},
   "source": [
    "Пропущенные значения заполнены там, где это уместно, а в местах, где заполнение пропусков ничем нельзя обосновать - оставили пропуски. Дубликатов в таблице не оказалось."
   ]
  },
  {
   "cell_type": "markdown",
   "metadata": {},
   "source": [
    "### Приведение к нужному типу данных\n",
    "\n",
    "Взглянем ещё раз на информацию о таблице."
   ]
  },
  {
   "cell_type": "code",
   "execution_count": 7,
   "metadata": {
    "scrolled": false
   },
   "outputs": [
    {
     "name": "stdout",
     "output_type": "stream",
     "text": [
      "<class 'pandas.core.frame.DataFrame'>\n",
      "RangeIndex: 23699 entries, 0 to 23698\n",
      "Data columns (total 22 columns):\n",
      " #   Column                Non-Null Count  Dtype \n",
      "---  ------                --------------  ----- \n",
      " 0   total_images          23699 non-null  int64 \n",
      " 1   last_price            23699 non-null  object\n",
      " 2   total_area            23699 non-null  object\n",
      " 3   first_day_exposition  23699 non-null  object\n",
      " 4   rooms                 23699 non-null  int64 \n",
      " 5   ceiling_height        14504 non-null  object\n",
      " 6   floors_total          23699 non-null  object\n",
      " 7   living_area           21796 non-null  object\n",
      " 8   floor                 23699 non-null  int64 \n",
      " 9   is_apartment          23699 non-null  bool  \n",
      " 10  studio                23699 non-null  bool  \n",
      " 11  open_plan             23699 non-null  bool  \n",
      " 12  kitchen_area          21421 non-null  object\n",
      " 13  balcony               23699 non-null  object\n",
      " 14  locality_name         23699 non-null  object\n",
      " 15  airports_nearest      18157 non-null  object\n",
      " 16  cityCenters_nearest   18180 non-null  object\n",
      " 17  parks_around3000      23699 non-null  object\n",
      " 18  parks_nearest         8079 non-null   object\n",
      " 19  ponds_around3000      23699 non-null  object\n",
      " 20  ponds_nearest         9110 non-null   object\n",
      " 21  days_exposition       20518 non-null  object\n",
      "dtypes: bool(3), int64(3), object(16)\n",
      "memory usage: 3.5+ MB\n"
     ]
    }
   ],
   "source": [
    "data.info()"
   ]
  },
  {
   "cell_type": "markdown",
   "metadata": {},
   "source": [
    "Столбцы, где строковый тип данных лучше заменить на целочисленный тип: \n",
    "* last_price (копейки не указаны)\n",
    "* balcony \n",
    "* floors_total\n",
    "* parks_around3000 \n",
    "* ponds_around3000 \n",
    "* days_exposition\n",
    "\n",
    "Столбцы, где строковый тип данных лучше заменить на вещественный тип: \n",
    "* total_area\n",
    "* ceiling_height\n",
    "* living_area\n",
    "* kitchen_area\n",
    "* airports_nearest\n",
    "* cityCenters_nearest\n",
    "* parks_nearest\n",
    "* ponds_nearest"
   ]
  },
  {
   "cell_type": "code",
   "execution_count": 8,
   "metadata": {},
   "outputs": [],
   "source": [
    "# для начала все нужные столбцы приведём к типу float, так как все данные в этих столбцах записаны с плавающей точкой\n",
    "new_types = {col: float for col in ('last_price', 'total_area',\n",
    "                                    'ceiling_height', 'floors_total', 'living_area',\n",
    "                                    'kitchen_area', 'balcony',\n",
    "                                    'airports_nearest', 'cityCenters_nearest',\n",
    "                                    'parks_around3000', 'parks_nearest', 'ponds_around3000',\n",
    "                                    'ponds_nearest', 'days_exposition')}\n",
    "data = data.astype(new_types)"
   ]
  },
  {
   "cell_type": "code",
   "execution_count": 9,
   "metadata": {},
   "outputs": [],
   "source": [
    "# затем некоторые столбцы приведём к типу int\n",
    "new_types = {col: int for col in ('last_price', 'balcony',\n",
    "                                    'parks_around3000', 'ponds_around3000')}\n",
    "data = data.astype(new_types)"
   ]
  },
  {
   "cell_type": "markdown",
   "metadata": {},
   "source": [
    "Такие столбцы как количество дней и балконов должны быть целочисленными, но из-за наличия пропусков перевести эти значения в тип int не получается. Приведём их к типу Int64, который справится с наличием пропусков."
   ]
  },
  {
   "cell_type": "code",
   "execution_count": 10,
   "metadata": {},
   "outputs": [],
   "source": [
    "# приведём к типу Int64 столбец 'floors_total'\n",
    "data['floors_total'] = data['floors_total'].astype('Int64')"
   ]
  },
  {
   "cell_type": "code",
   "execution_count": 11,
   "metadata": {},
   "outputs": [],
   "source": [
    "# приведём к типу Int64 столбец 'days_exposition'\n",
    "# округляем, так как значения в столбце могут содержать ненулевую дробную часть \n",
    "data['days_exposition'] = data['days_exposition'].round().astype('Int64')"
   ]
  },
  {
   "cell_type": "code",
   "execution_count": 12,
   "metadata": {},
   "outputs": [
    {
     "name": "stdout",
     "output_type": "stream",
     "text": [
      "<class 'pandas.core.frame.DataFrame'>\n",
      "RangeIndex: 23699 entries, 0 to 23698\n",
      "Data columns (total 22 columns):\n",
      " #   Column                Non-Null Count  Dtype  \n",
      "---  ------                --------------  -----  \n",
      " 0   total_images          23699 non-null  int64  \n",
      " 1   last_price            23699 non-null  int32  \n",
      " 2   total_area            23699 non-null  float64\n",
      " 3   first_day_exposition  23699 non-null  object \n",
      " 4   rooms                 23699 non-null  int64  \n",
      " 5   ceiling_height        14504 non-null  float64\n",
      " 6   floors_total          23699 non-null  Int64  \n",
      " 7   living_area           21796 non-null  float64\n",
      " 8   floor                 23699 non-null  int64  \n",
      " 9   is_apartment          23699 non-null  bool   \n",
      " 10  studio                23699 non-null  bool   \n",
      " 11  open_plan             23699 non-null  bool   \n",
      " 12  kitchen_area          21421 non-null  float64\n",
      " 13  balcony               23699 non-null  int32  \n",
      " 14  locality_name         23699 non-null  object \n",
      " 15  airports_nearest      18157 non-null  float64\n",
      " 16  cityCenters_nearest   18180 non-null  float64\n",
      " 17  parks_around3000      23699 non-null  int32  \n",
      " 18  parks_nearest         8079 non-null   float64\n",
      " 19  ponds_around3000      23699 non-null  int32  \n",
      " 20  ponds_nearest         9110 non-null   float64\n",
      " 21  days_exposition       20518 non-null  Int64  \n",
      "dtypes: Int64(2), bool(3), float64(8), int32(4), int64(3), object(2)\n",
      "memory usage: 3.2+ MB\n"
     ]
    }
   ],
   "source": [
    "# проверим получившиеся типы данных\n",
    "data.info()"
   ]
  },
  {
   "cell_type": "markdown",
   "metadata": {},
   "source": [
    "Тип данных успешно изменен у многих столбцов. "
   ]
  },
  {
   "cell_type": "markdown",
   "metadata": {},
   "source": [
    "### Вывод\n",
    "\n",
    "В данных обнаружено много пропусков. Там, где это является уместным, пропуски были заменены на соответствующие значения. Где спрогнозировать значения сложно (например, высота потолков, количество этажей в доме и т.д.), пропуски были оставлены. \n",
    "\n",
    "В некоторых столбцах тип данных был изменён на вещественный или целочисленный тип. Это позволит совершать необходимые рассчёты при анализе, также это уменьшило количество используемой памяти. "
   ]
  },
  {
   "cell_type": "markdown",
   "metadata": {},
   "source": [
    "## Расчёты и добавление результатов в таблицу"
   ]
  },
  {
   "cell_type": "markdown",
   "metadata": {},
   "source": [
    "### Цена квадратного метра\n",
    "\n",
    "Рассчитаем цену квадратного метра, для этого поделим стоимость квартиры на её площадь. Добавим результат в новый столбец 'price_meter'."
   ]
  },
  {
   "cell_type": "code",
   "execution_count": 13,
   "metadata": {},
   "outputs": [],
   "source": [
    "# добавляем новый столбец с ценой за один квадратный метр\n",
    "data['price_meter'] = data['last_price'] / data['total_area']"
   ]
  },
  {
   "cell_type": "markdown",
   "metadata": {},
   "source": [
    "### День недели, месяц и год публикации объявления\n",
    "\n",
    "Определим день недели, месяц и год публикации объявления."
   ]
  },
  {
   "cell_type": "code",
   "execution_count": 14,
   "metadata": {},
   "outputs": [],
   "source": [
    "# изменим тип столбца на нужный формат datetime\n",
    "data['first_day_exposition'] = pd.to_datetime(data['first_day_exposition'], format='%Y-%m-%dT%H:%M:%S')"
   ]
  },
  {
   "cell_type": "code",
   "execution_count": 15,
   "metadata": {},
   "outputs": [],
   "source": [
    "# определим для каждого объявления день недели публикации и сохраним в столбец 'week_day_exposition'\n",
    "data['weekday_exposition'] = pd.DatetimeIndex(data['first_day_exposition']).weekday"
   ]
  },
  {
   "cell_type": "code",
   "execution_count": 16,
   "metadata": {},
   "outputs": [],
   "source": [
    "# определим для каждого объявления месяц публикации и сохраним в столбец 'month_exposition'\n",
    "data['month_exposition'] = pd.DatetimeIndex(data['first_day_exposition']).month"
   ]
  },
  {
   "cell_type": "code",
   "execution_count": 17,
   "metadata": {},
   "outputs": [],
   "source": [
    "# определим для каждого объявления год публикации и сохраним в столбец 'month_exposition'\n",
    "data['year_exposition'] = pd.DatetimeIndex(data['first_day_exposition']).year"
   ]
  },
  {
   "cell_type": "markdown",
   "metadata": {},
   "source": [
    "### Этаж квартиры\n",
    "\n",
    "Категоризируем данные об этажах. Определим этаж квартиры как первый, последний или другой."
   ]
  },
  {
   "cell_type": "code",
   "execution_count": 18,
   "metadata": {},
   "outputs": [],
   "source": [
    "# функция определения этажа\n",
    "# на вход передаем целую строку, так как нужна информация из двух столбцов ('floor' и 'floors_total')\n",
    "\n",
    "def floor_group(row):\n",
    "    floor = row['floor']\n",
    "    floors_total = row['floors_total']\n",
    "    \n",
    "    if floor == 1:\n",
    "        return 'первый'\n",
    "    \n",
    "    if floor == floors_total and floor != 1:\n",
    "        return 'последний'\n",
    "    \n",
    "    return 'другой'"
   ]
  },
  {
   "cell_type": "code",
   "execution_count": 19,
   "metadata": {},
   "outputs": [],
   "source": [
    "# с помощью метода apply применим эту функцию на каждой строке датафрейма\n",
    "# результат добавим в новый столбец 'floor_group'\n",
    "data['floor_group'] = data.apply(floor_group, axis=1)"
   ]
  },
  {
   "cell_type": "markdown",
   "metadata": {},
   "source": [
    "### Соотношение площадей\n",
    "\n",
    "Определим соотношение жилой и общей площади. Так как в столбце с жилой площадью есть пропуски, то и в столбце-результате тоже будут пропуски. "
   ]
  },
  {
   "cell_type": "code",
   "execution_count": 20,
   "metadata": {},
   "outputs": [],
   "source": [
    "# функция соотношения жилой площади к общей площади квартиры\n",
    "def living_ratio(row):\n",
    "    return row['living_area'] / row['total_area']"
   ]
  },
  {
   "cell_type": "code",
   "execution_count": 21,
   "metadata": {},
   "outputs": [],
   "source": [
    "# добавляем новый столбец 'living_ratio' с результатом выполнения этой функции\n",
    "data['living_ratio'] = data.apply(living_ratio, axis=1)"
   ]
  },
  {
   "cell_type": "markdown",
   "metadata": {},
   "source": [
    "Определим соотношение площади кухни и общей площади. "
   ]
  },
  {
   "cell_type": "code",
   "execution_count": 22,
   "metadata": {},
   "outputs": [],
   "source": [
    "# функция соотношения площади кухни к общей площади квартиры\n",
    "def kitchen_ratio(row):\n",
    "    return row['kitchen_area'] / row['total_area']"
   ]
  },
  {
   "cell_type": "code",
   "execution_count": 23,
   "metadata": {},
   "outputs": [],
   "source": [
    "# добавляем новый столбец 'kitchen_ratio' с результатом выполнения этой функции\n",
    "data['kitchen_ratio'] = data.apply(kitchen_ratio, axis=1)"
   ]
  },
  {
   "cell_type": "code",
   "execution_count": 24,
   "metadata": {
    "scrolled": false
   },
   "outputs": [
    {
     "data": {
      "text/html": [
       "<div>\n",
       "<style scoped>\n",
       "    .dataframe tbody tr th:only-of-type {\n",
       "        vertical-align: middle;\n",
       "    }\n",
       "\n",
       "    .dataframe tbody tr th {\n",
       "        vertical-align: top;\n",
       "    }\n",
       "\n",
       "    .dataframe thead th {\n",
       "        text-align: right;\n",
       "    }\n",
       "</style>\n",
       "<table border=\"1\" class=\"dataframe\">\n",
       "  <thead>\n",
       "    <tr style=\"text-align: right;\">\n",
       "      <th></th>\n",
       "      <th>total_images</th>\n",
       "      <th>last_price</th>\n",
       "      <th>total_area</th>\n",
       "      <th>first_day_exposition</th>\n",
       "      <th>rooms</th>\n",
       "      <th>ceiling_height</th>\n",
       "      <th>floors_total</th>\n",
       "      <th>living_area</th>\n",
       "      <th>floor</th>\n",
       "      <th>is_apartment</th>\n",
       "      <th>...</th>\n",
       "      <th>ponds_around3000</th>\n",
       "      <th>ponds_nearest</th>\n",
       "      <th>days_exposition</th>\n",
       "      <th>price_meter</th>\n",
       "      <th>weekday_exposition</th>\n",
       "      <th>month_exposition</th>\n",
       "      <th>year_exposition</th>\n",
       "      <th>floor_group</th>\n",
       "      <th>living_ratio</th>\n",
       "      <th>kitchen_ratio</th>\n",
       "    </tr>\n",
       "  </thead>\n",
       "  <tbody>\n",
       "    <tr>\n",
       "      <th>0</th>\n",
       "      <td>20</td>\n",
       "      <td>13000000</td>\n",
       "      <td>108.00</td>\n",
       "      <td>2019-03-07</td>\n",
       "      <td>3</td>\n",
       "      <td>2.70</td>\n",
       "      <td>16</td>\n",
       "      <td>51.00</td>\n",
       "      <td>8</td>\n",
       "      <td>False</td>\n",
       "      <td>...</td>\n",
       "      <td>2</td>\n",
       "      <td>755.0</td>\n",
       "      <td>&lt;NA&gt;</td>\n",
       "      <td>120370.370370</td>\n",
       "      <td>3</td>\n",
       "      <td>3</td>\n",
       "      <td>2019</td>\n",
       "      <td>другой</td>\n",
       "      <td>0.472222</td>\n",
       "      <td>0.231481</td>\n",
       "    </tr>\n",
       "    <tr>\n",
       "      <th>1</th>\n",
       "      <td>7</td>\n",
       "      <td>3350000</td>\n",
       "      <td>40.40</td>\n",
       "      <td>2018-12-04</td>\n",
       "      <td>1</td>\n",
       "      <td>NaN</td>\n",
       "      <td>11</td>\n",
       "      <td>18.60</td>\n",
       "      <td>1</td>\n",
       "      <td>False</td>\n",
       "      <td>...</td>\n",
       "      <td>0</td>\n",
       "      <td>NaN</td>\n",
       "      <td>81</td>\n",
       "      <td>82920.792079</td>\n",
       "      <td>1</td>\n",
       "      <td>12</td>\n",
       "      <td>2018</td>\n",
       "      <td>первый</td>\n",
       "      <td>0.460396</td>\n",
       "      <td>0.272277</td>\n",
       "    </tr>\n",
       "    <tr>\n",
       "      <th>2</th>\n",
       "      <td>10</td>\n",
       "      <td>5196000</td>\n",
       "      <td>56.00</td>\n",
       "      <td>2015-08-20</td>\n",
       "      <td>2</td>\n",
       "      <td>NaN</td>\n",
       "      <td>5</td>\n",
       "      <td>34.30</td>\n",
       "      <td>4</td>\n",
       "      <td>False</td>\n",
       "      <td>...</td>\n",
       "      <td>2</td>\n",
       "      <td>574.0</td>\n",
       "      <td>558</td>\n",
       "      <td>92785.714286</td>\n",
       "      <td>3</td>\n",
       "      <td>8</td>\n",
       "      <td>2015</td>\n",
       "      <td>другой</td>\n",
       "      <td>0.612500</td>\n",
       "      <td>0.148214</td>\n",
       "    </tr>\n",
       "    <tr>\n",
       "      <th>3</th>\n",
       "      <td>0</td>\n",
       "      <td>64900000</td>\n",
       "      <td>159.00</td>\n",
       "      <td>2015-07-24</td>\n",
       "      <td>3</td>\n",
       "      <td>NaN</td>\n",
       "      <td>14</td>\n",
       "      <td>NaN</td>\n",
       "      <td>9</td>\n",
       "      <td>False</td>\n",
       "      <td>...</td>\n",
       "      <td>3</td>\n",
       "      <td>234.0</td>\n",
       "      <td>424</td>\n",
       "      <td>408176.100629</td>\n",
       "      <td>4</td>\n",
       "      <td>7</td>\n",
       "      <td>2015</td>\n",
       "      <td>другой</td>\n",
       "      <td>NaN</td>\n",
       "      <td>NaN</td>\n",
       "    </tr>\n",
       "    <tr>\n",
       "      <th>4</th>\n",
       "      <td>2</td>\n",
       "      <td>10000000</td>\n",
       "      <td>100.00</td>\n",
       "      <td>2018-06-19</td>\n",
       "      <td>2</td>\n",
       "      <td>3.03</td>\n",
       "      <td>14</td>\n",
       "      <td>32.00</td>\n",
       "      <td>13</td>\n",
       "      <td>False</td>\n",
       "      <td>...</td>\n",
       "      <td>1</td>\n",
       "      <td>48.0</td>\n",
       "      <td>121</td>\n",
       "      <td>100000.000000</td>\n",
       "      <td>1</td>\n",
       "      <td>6</td>\n",
       "      <td>2018</td>\n",
       "      <td>другой</td>\n",
       "      <td>0.320000</td>\n",
       "      <td>0.410000</td>\n",
       "    </tr>\n",
       "    <tr>\n",
       "      <th>5</th>\n",
       "      <td>10</td>\n",
       "      <td>2890000</td>\n",
       "      <td>30.40</td>\n",
       "      <td>2018-09-10</td>\n",
       "      <td>1</td>\n",
       "      <td>NaN</td>\n",
       "      <td>12</td>\n",
       "      <td>14.40</td>\n",
       "      <td>5</td>\n",
       "      <td>False</td>\n",
       "      <td>...</td>\n",
       "      <td>0</td>\n",
       "      <td>NaN</td>\n",
       "      <td>55</td>\n",
       "      <td>95065.789474</td>\n",
       "      <td>0</td>\n",
       "      <td>9</td>\n",
       "      <td>2018</td>\n",
       "      <td>другой</td>\n",
       "      <td>0.473684</td>\n",
       "      <td>0.299342</td>\n",
       "    </tr>\n",
       "    <tr>\n",
       "      <th>6</th>\n",
       "      <td>6</td>\n",
       "      <td>3700000</td>\n",
       "      <td>37.30</td>\n",
       "      <td>2017-11-02</td>\n",
       "      <td>1</td>\n",
       "      <td>NaN</td>\n",
       "      <td>26</td>\n",
       "      <td>10.60</td>\n",
       "      <td>6</td>\n",
       "      <td>False</td>\n",
       "      <td>...</td>\n",
       "      <td>0</td>\n",
       "      <td>NaN</td>\n",
       "      <td>155</td>\n",
       "      <td>99195.710456</td>\n",
       "      <td>3</td>\n",
       "      <td>11</td>\n",
       "      <td>2017</td>\n",
       "      <td>другой</td>\n",
       "      <td>0.284182</td>\n",
       "      <td>0.386059</td>\n",
       "    </tr>\n",
       "    <tr>\n",
       "      <th>7</th>\n",
       "      <td>5</td>\n",
       "      <td>7915000</td>\n",
       "      <td>71.60</td>\n",
       "      <td>2019-04-18</td>\n",
       "      <td>2</td>\n",
       "      <td>NaN</td>\n",
       "      <td>24</td>\n",
       "      <td>NaN</td>\n",
       "      <td>22</td>\n",
       "      <td>False</td>\n",
       "      <td>...</td>\n",
       "      <td>0</td>\n",
       "      <td>NaN</td>\n",
       "      <td>&lt;NA&gt;</td>\n",
       "      <td>110544.692737</td>\n",
       "      <td>3</td>\n",
       "      <td>4</td>\n",
       "      <td>2019</td>\n",
       "      <td>другой</td>\n",
       "      <td>NaN</td>\n",
       "      <td>0.263966</td>\n",
       "    </tr>\n",
       "    <tr>\n",
       "      <th>8</th>\n",
       "      <td>20</td>\n",
       "      <td>2900000</td>\n",
       "      <td>33.16</td>\n",
       "      <td>2018-05-23</td>\n",
       "      <td>1</td>\n",
       "      <td>NaN</td>\n",
       "      <td>27</td>\n",
       "      <td>15.43</td>\n",
       "      <td>26</td>\n",
       "      <td>False</td>\n",
       "      <td>...</td>\n",
       "      <td>0</td>\n",
       "      <td>NaN</td>\n",
       "      <td>189</td>\n",
       "      <td>87454.764777</td>\n",
       "      <td>2</td>\n",
       "      <td>5</td>\n",
       "      <td>2018</td>\n",
       "      <td>другой</td>\n",
       "      <td>0.465320</td>\n",
       "      <td>0.265682</td>\n",
       "    </tr>\n",
       "    <tr>\n",
       "      <th>9</th>\n",
       "      <td>18</td>\n",
       "      <td>5400000</td>\n",
       "      <td>61.00</td>\n",
       "      <td>2017-02-26</td>\n",
       "      <td>3</td>\n",
       "      <td>2.50</td>\n",
       "      <td>9</td>\n",
       "      <td>43.60</td>\n",
       "      <td>7</td>\n",
       "      <td>False</td>\n",
       "      <td>...</td>\n",
       "      <td>0</td>\n",
       "      <td>NaN</td>\n",
       "      <td>289</td>\n",
       "      <td>88524.590164</td>\n",
       "      <td>6</td>\n",
       "      <td>2</td>\n",
       "      <td>2017</td>\n",
       "      <td>другой</td>\n",
       "      <td>0.714754</td>\n",
       "      <td>0.106557</td>\n",
       "    </tr>\n",
       "    <tr>\n",
       "      <th>10</th>\n",
       "      <td>5</td>\n",
       "      <td>5050000</td>\n",
       "      <td>39.60</td>\n",
       "      <td>2017-11-16</td>\n",
       "      <td>1</td>\n",
       "      <td>2.67</td>\n",
       "      <td>12</td>\n",
       "      <td>20.30</td>\n",
       "      <td>3</td>\n",
       "      <td>False</td>\n",
       "      <td>...</td>\n",
       "      <td>2</td>\n",
       "      <td>553.0</td>\n",
       "      <td>137</td>\n",
       "      <td>127525.252525</td>\n",
       "      <td>3</td>\n",
       "      <td>11</td>\n",
       "      <td>2017</td>\n",
       "      <td>другой</td>\n",
       "      <td>0.512626</td>\n",
       "      <td>0.214646</td>\n",
       "    </tr>\n",
       "    <tr>\n",
       "      <th>11</th>\n",
       "      <td>9</td>\n",
       "      <td>3300000</td>\n",
       "      <td>44.00</td>\n",
       "      <td>2018-08-27</td>\n",
       "      <td>2</td>\n",
       "      <td>NaN</td>\n",
       "      <td>5</td>\n",
       "      <td>31.00</td>\n",
       "      <td>4</td>\n",
       "      <td>False</td>\n",
       "      <td>...</td>\n",
       "      <td>0</td>\n",
       "      <td>NaN</td>\n",
       "      <td>7</td>\n",
       "      <td>75000.000000</td>\n",
       "      <td>0</td>\n",
       "      <td>8</td>\n",
       "      <td>2018</td>\n",
       "      <td>другой</td>\n",
       "      <td>0.704545</td>\n",
       "      <td>0.136364</td>\n",
       "    </tr>\n",
       "    <tr>\n",
       "      <th>12</th>\n",
       "      <td>10</td>\n",
       "      <td>3890000</td>\n",
       "      <td>54.00</td>\n",
       "      <td>2016-06-30</td>\n",
       "      <td>2</td>\n",
       "      <td>NaN</td>\n",
       "      <td>5</td>\n",
       "      <td>30.00</td>\n",
       "      <td>5</td>\n",
       "      <td>False</td>\n",
       "      <td>...</td>\n",
       "      <td>0</td>\n",
       "      <td>NaN</td>\n",
       "      <td>90</td>\n",
       "      <td>72037.037037</td>\n",
       "      <td>3</td>\n",
       "      <td>6</td>\n",
       "      <td>2016</td>\n",
       "      <td>последний</td>\n",
       "      <td>0.555556</td>\n",
       "      <td>0.166667</td>\n",
       "    </tr>\n",
       "    <tr>\n",
       "      <th>13</th>\n",
       "      <td>20</td>\n",
       "      <td>3550000</td>\n",
       "      <td>42.80</td>\n",
       "      <td>2017-07-01</td>\n",
       "      <td>2</td>\n",
       "      <td>2.56</td>\n",
       "      <td>5</td>\n",
       "      <td>27.00</td>\n",
       "      <td>5</td>\n",
       "      <td>False</td>\n",
       "      <td>...</td>\n",
       "      <td>3</td>\n",
       "      <td>298.0</td>\n",
       "      <td>366</td>\n",
       "      <td>82943.925234</td>\n",
       "      <td>5</td>\n",
       "      <td>7</td>\n",
       "      <td>2017</td>\n",
       "      <td>последний</td>\n",
       "      <td>0.630841</td>\n",
       "      <td>0.121495</td>\n",
       "    </tr>\n",
       "    <tr>\n",
       "      <th>14</th>\n",
       "      <td>1</td>\n",
       "      <td>4400000</td>\n",
       "      <td>36.00</td>\n",
       "      <td>2016-06-23</td>\n",
       "      <td>1</td>\n",
       "      <td>NaN</td>\n",
       "      <td>6</td>\n",
       "      <td>17.00</td>\n",
       "      <td>1</td>\n",
       "      <td>False</td>\n",
       "      <td>...</td>\n",
       "      <td>1</td>\n",
       "      <td>96.0</td>\n",
       "      <td>203</td>\n",
       "      <td>122222.222222</td>\n",
       "      <td>3</td>\n",
       "      <td>6</td>\n",
       "      <td>2016</td>\n",
       "      <td>первый</td>\n",
       "      <td>0.472222</td>\n",
       "      <td>0.222222</td>\n",
       "    </tr>\n",
       "    <tr>\n",
       "      <th>15</th>\n",
       "      <td>16</td>\n",
       "      <td>4650000</td>\n",
       "      <td>39.00</td>\n",
       "      <td>2017-11-18</td>\n",
       "      <td>1</td>\n",
       "      <td>NaN</td>\n",
       "      <td>14</td>\n",
       "      <td>20.50</td>\n",
       "      <td>5</td>\n",
       "      <td>False</td>\n",
       "      <td>...</td>\n",
       "      <td>1</td>\n",
       "      <td>296.0</td>\n",
       "      <td>19</td>\n",
       "      <td>119230.769231</td>\n",
       "      <td>5</td>\n",
       "      <td>11</td>\n",
       "      <td>2017</td>\n",
       "      <td>другой</td>\n",
       "      <td>0.525641</td>\n",
       "      <td>0.194872</td>\n",
       "    </tr>\n",
       "    <tr>\n",
       "      <th>16</th>\n",
       "      <td>11</td>\n",
       "      <td>6700000</td>\n",
       "      <td>82.00</td>\n",
       "      <td>2017-11-23</td>\n",
       "      <td>3</td>\n",
       "      <td>3.05</td>\n",
       "      <td>5</td>\n",
       "      <td>55.60</td>\n",
       "      <td>1</td>\n",
       "      <td>False</td>\n",
       "      <td>...</td>\n",
       "      <td>0</td>\n",
       "      <td>NaN</td>\n",
       "      <td>397</td>\n",
       "      <td>81707.317073</td>\n",
       "      <td>3</td>\n",
       "      <td>11</td>\n",
       "      <td>2017</td>\n",
       "      <td>первый</td>\n",
       "      <td>0.678049</td>\n",
       "      <td>0.109756</td>\n",
       "    </tr>\n",
       "    <tr>\n",
       "      <th>17</th>\n",
       "      <td>6</td>\n",
       "      <td>4180000</td>\n",
       "      <td>36.00</td>\n",
       "      <td>2016-09-09</td>\n",
       "      <td>1</td>\n",
       "      <td>NaN</td>\n",
       "      <td>17</td>\n",
       "      <td>16.50</td>\n",
       "      <td>7</td>\n",
       "      <td>False</td>\n",
       "      <td>...</td>\n",
       "      <td>1</td>\n",
       "      <td>859.0</td>\n",
       "      <td>571</td>\n",
       "      <td>116111.111111</td>\n",
       "      <td>4</td>\n",
       "      <td>9</td>\n",
       "      <td>2016</td>\n",
       "      <td>другой</td>\n",
       "      <td>0.458333</td>\n",
       "      <td>0.305556</td>\n",
       "    </tr>\n",
       "    <tr>\n",
       "      <th>18</th>\n",
       "      <td>8</td>\n",
       "      <td>3250000</td>\n",
       "      <td>31.00</td>\n",
       "      <td>2017-01-27</td>\n",
       "      <td>1</td>\n",
       "      <td>2.50</td>\n",
       "      <td>5</td>\n",
       "      <td>19.40</td>\n",
       "      <td>2</td>\n",
       "      <td>False</td>\n",
       "      <td>...</td>\n",
       "      <td>0</td>\n",
       "      <td>NaN</td>\n",
       "      <td>168</td>\n",
       "      <td>104838.709677</td>\n",
       "      <td>4</td>\n",
       "      <td>1</td>\n",
       "      <td>2017</td>\n",
       "      <td>другой</td>\n",
       "      <td>0.625806</td>\n",
       "      <td>0.180645</td>\n",
       "    </tr>\n",
       "    <tr>\n",
       "      <th>19</th>\n",
       "      <td>16</td>\n",
       "      <td>14200000</td>\n",
       "      <td>121.00</td>\n",
       "      <td>2019-01-09</td>\n",
       "      <td>3</td>\n",
       "      <td>2.75</td>\n",
       "      <td>16</td>\n",
       "      <td>76.00</td>\n",
       "      <td>8</td>\n",
       "      <td>False</td>\n",
       "      <td>...</td>\n",
       "      <td>0</td>\n",
       "      <td>NaN</td>\n",
       "      <td>97</td>\n",
       "      <td>117355.371901</td>\n",
       "      <td>2</td>\n",
       "      <td>1</td>\n",
       "      <td>2019</td>\n",
       "      <td>другой</td>\n",
       "      <td>0.628099</td>\n",
       "      <td>0.099174</td>\n",
       "    </tr>\n",
       "  </tbody>\n",
       "</table>\n",
       "<p>20 rows × 29 columns</p>\n",
       "</div>"
      ],
      "text/plain": [
       "    total_images  last_price  total_area first_day_exposition  rooms  \\\n",
       "0             20    13000000      108.00           2019-03-07      3   \n",
       "1              7     3350000       40.40           2018-12-04      1   \n",
       "2             10     5196000       56.00           2015-08-20      2   \n",
       "3              0    64900000      159.00           2015-07-24      3   \n",
       "4              2    10000000      100.00           2018-06-19      2   \n",
       "5             10     2890000       30.40           2018-09-10      1   \n",
       "6              6     3700000       37.30           2017-11-02      1   \n",
       "7              5     7915000       71.60           2019-04-18      2   \n",
       "8             20     2900000       33.16           2018-05-23      1   \n",
       "9             18     5400000       61.00           2017-02-26      3   \n",
       "10             5     5050000       39.60           2017-11-16      1   \n",
       "11             9     3300000       44.00           2018-08-27      2   \n",
       "12            10     3890000       54.00           2016-06-30      2   \n",
       "13            20     3550000       42.80           2017-07-01      2   \n",
       "14             1     4400000       36.00           2016-06-23      1   \n",
       "15            16     4650000       39.00           2017-11-18      1   \n",
       "16            11     6700000       82.00           2017-11-23      3   \n",
       "17             6     4180000       36.00           2016-09-09      1   \n",
       "18             8     3250000       31.00           2017-01-27      1   \n",
       "19            16    14200000      121.00           2019-01-09      3   \n",
       "\n",
       "    ceiling_height  floors_total  living_area  floor  is_apartment  ...  \\\n",
       "0             2.70            16        51.00      8         False  ...   \n",
       "1              NaN            11        18.60      1         False  ...   \n",
       "2              NaN             5        34.30      4         False  ...   \n",
       "3              NaN            14          NaN      9         False  ...   \n",
       "4             3.03            14        32.00     13         False  ...   \n",
       "5              NaN            12        14.40      5         False  ...   \n",
       "6              NaN            26        10.60      6         False  ...   \n",
       "7              NaN            24          NaN     22         False  ...   \n",
       "8              NaN            27        15.43     26         False  ...   \n",
       "9             2.50             9        43.60      7         False  ...   \n",
       "10            2.67            12        20.30      3         False  ...   \n",
       "11             NaN             5        31.00      4         False  ...   \n",
       "12             NaN             5        30.00      5         False  ...   \n",
       "13            2.56             5        27.00      5         False  ...   \n",
       "14             NaN             6        17.00      1         False  ...   \n",
       "15             NaN            14        20.50      5         False  ...   \n",
       "16            3.05             5        55.60      1         False  ...   \n",
       "17             NaN            17        16.50      7         False  ...   \n",
       "18            2.50             5        19.40      2         False  ...   \n",
       "19            2.75            16        76.00      8         False  ...   \n",
       "\n",
       "    ponds_around3000  ponds_nearest  days_exposition    price_meter  \\\n",
       "0                  2          755.0             <NA>  120370.370370   \n",
       "1                  0            NaN               81   82920.792079   \n",
       "2                  2          574.0              558   92785.714286   \n",
       "3                  3          234.0              424  408176.100629   \n",
       "4                  1           48.0              121  100000.000000   \n",
       "5                  0            NaN               55   95065.789474   \n",
       "6                  0            NaN              155   99195.710456   \n",
       "7                  0            NaN             <NA>  110544.692737   \n",
       "8                  0            NaN              189   87454.764777   \n",
       "9                  0            NaN              289   88524.590164   \n",
       "10                 2          553.0              137  127525.252525   \n",
       "11                 0            NaN                7   75000.000000   \n",
       "12                 0            NaN               90   72037.037037   \n",
       "13                 3          298.0              366   82943.925234   \n",
       "14                 1           96.0              203  122222.222222   \n",
       "15                 1          296.0               19  119230.769231   \n",
       "16                 0            NaN              397   81707.317073   \n",
       "17                 1          859.0              571  116111.111111   \n",
       "18                 0            NaN              168  104838.709677   \n",
       "19                 0            NaN               97  117355.371901   \n",
       "\n",
       "   weekday_exposition  month_exposition  year_exposition  floor_group  \\\n",
       "0                   3                 3             2019       другой   \n",
       "1                   1                12             2018       первый   \n",
       "2                   3                 8             2015       другой   \n",
       "3                   4                 7             2015       другой   \n",
       "4                   1                 6             2018       другой   \n",
       "5                   0                 9             2018       другой   \n",
       "6                   3                11             2017       другой   \n",
       "7                   3                 4             2019       другой   \n",
       "8                   2                 5             2018       другой   \n",
       "9                   6                 2             2017       другой   \n",
       "10                  3                11             2017       другой   \n",
       "11                  0                 8             2018       другой   \n",
       "12                  3                 6             2016    последний   \n",
       "13                  5                 7             2017    последний   \n",
       "14                  3                 6             2016       первый   \n",
       "15                  5                11             2017       другой   \n",
       "16                  3                11             2017       первый   \n",
       "17                  4                 9             2016       другой   \n",
       "18                  4                 1             2017       другой   \n",
       "19                  2                 1             2019       другой   \n",
       "\n",
       "    living_ratio  kitchen_ratio  \n",
       "0       0.472222       0.231481  \n",
       "1       0.460396       0.272277  \n",
       "2       0.612500       0.148214  \n",
       "3            NaN            NaN  \n",
       "4       0.320000       0.410000  \n",
       "5       0.473684       0.299342  \n",
       "6       0.284182       0.386059  \n",
       "7            NaN       0.263966  \n",
       "8       0.465320       0.265682  \n",
       "9       0.714754       0.106557  \n",
       "10      0.512626       0.214646  \n",
       "11      0.704545       0.136364  \n",
       "12      0.555556       0.166667  \n",
       "13      0.630841       0.121495  \n",
       "14      0.472222       0.222222  \n",
       "15      0.525641       0.194872  \n",
       "16      0.678049       0.109756  \n",
       "17      0.458333       0.305556  \n",
       "18      0.625806       0.180645  \n",
       "19      0.628099       0.099174  \n",
       "\n",
       "[20 rows x 29 columns]"
      ]
     },
     "execution_count": 24,
     "metadata": {},
     "output_type": "execute_result"
    }
   ],
   "source": [
    "# выводим первые 20 строк таблицы\n",
    "data.head(20)"
   ]
  },
  {
   "cell_type": "markdown",
   "metadata": {},
   "source": [
    "### Вывод\n",
    "\n",
    "Все необходимые рассчёты проведены и результаты добавлены в таблицу. Описание новых столбцов:\n",
    "* price_meter - цена в рублях за квадратный метр\n",
    "* weekday_exposition - день недели публикации объявления\t\n",
    "* month_exposition - месяц публикации объявления\n",
    "* year_exposition - год публикации объявления\n",
    "* floor_group - тип этажа (первый, последний, другой)\n",
    "* living_ratio - отношение жилой площади к общей площади квартиры\n",
    "* kitchen_ratio - отношение площади кухни к общей площади квартиры\n"
   ]
  },
  {
   "cell_type": "markdown",
   "metadata": {},
   "source": [
    "## Исследовательский анализ данных"
   ]
  },
  {
   "cell_type": "markdown",
   "metadata": {},
   "source": [
    "### Изучение параметров\n",
    "\n",
    "Рассмотрим следующие параметры: площадь квартиры, цена, число комнат и высота потолков. Посмотрим, как часто встречаются одни и те же значения в этих столбцах. Построит гистограммы для каждого параметра.  "
   ]
  },
  {
   "cell_type": "code",
   "execution_count": 25,
   "metadata": {
    "scrolled": true
   },
   "outputs": [
    {
     "data": {
      "text/plain": [
       "count    23699.000000\n",
       "mean        60.348651\n",
       "std         35.654083\n",
       "min         12.000000\n",
       "25%         40.000000\n",
       "50%         52.000000\n",
       "75%         69.900000\n",
       "max        900.000000\n",
       "Name: total_area, dtype: float64"
      ]
     },
     "execution_count": 25,
     "metadata": {},
     "output_type": "execute_result"
    }
   ],
   "source": [
    "# посмотрим общую информацию о столбце\n",
    "data['total_area'].describe()"
   ]
  },
  {
   "cell_type": "markdown",
   "metadata": {},
   "source": [
    "Максимальное значение достаточно велико для медианного значения и среднего, скорее всего это выброс. Минимальное число тоже вызывает подозрения. Построим гистограмму на всём промежутке с разбиением на 50 корзин для наглядности. "
   ]
  },
  {
   "cell_type": "code",
   "execution_count": 26,
   "metadata": {
    "scrolled": true
   },
   "outputs": [
    {
     "data": {
      "image/png": "[encoded data removed]",
      "text/plain": [
       "<Figure size 432x288 with 1 Axes>"
      ]
     },
     "metadata": {
      "needs_background": "light"
     },
     "output_type": "display_data"
    }
   ],
   "source": [
    "# строим гистограмму с количеством корзин 50\n",
    "data['total_area'].hist(bins=50)\n",
    "plt.title('Гистограмма площади квартир')\n",
    "plt.xlabel('Площадь квартиры, м2')\n",
    "plt.ylabel('Количество продавцов')\n",
    "plt.show()"
   ]
  },
  {
   "cell_type": "code",
   "execution_count": 27,
   "metadata": {},
   "outputs": [
    {
     "data": {
      "image/png": "[encoded data removed]",
      "text/plain": [
       "<Figure size 432x288 with 1 Axes>"
      ]
     },
     "metadata": {
      "needs_background": "light"
     },
     "output_type": "display_data"
    }
   ],
   "source": [
    "# строим гистограмму с количеством корзин 50 в промежутке до 300 квадратных метров\n",
    "data['total_area'].hist(bins=50, range=(0, 300))\n",
    "plt.title('Гистограмма площади квартир')\n",
    "plt.xlabel('Площадь квартиры, м2')\n",
    "plt.ylabel('Количество продавцов')\n",
    "plt.show()"
   ]
  },
  {
   "cell_type": "markdown",
   "metadata": {},
   "source": [
    "Действительно, значений близких к максимальному нет, значит это выброс. Значения в основном растоложились в промежутке от 0 до 300. Это распределение Пауссона - большее количество квартир небольшой площади, тогда как квартир с площадью больше 100 квадратных метров намного меньше. Это неудивительно, ведь такие квартиры достаточно дорогие, большенство людей не может позволить себе их. Также немного квартир с площадью меньшей 25 квадратных метров. "
   ]
  },
  {
   "cell_type": "markdown",
   "metadata": {},
   "source": [
    "Рассмотрим цены квартир."
   ]
  },
  {
   "cell_type": "code",
   "execution_count": 28,
   "metadata": {},
   "outputs": [
    {
     "data": {
      "text/plain": [
       "count    2.369900e+04\n",
       "mean     6.541549e+06\n",
       "std      1.088701e+07\n",
       "min      1.219000e+04\n",
       "25%      3.400000e+06\n",
       "50%      4.650000e+06\n",
       "75%      6.800000e+06\n",
       "max      7.630000e+08\n",
       "Name: last_price, dtype: float64"
      ]
     },
     "execution_count": 28,
     "metadata": {},
     "output_type": "execute_result"
    }
   ],
   "source": [
    "# посмотрим общую информацию о стоимости квартир\n",
    "data['last_price'].describe()"
   ]
  },
  {
   "cell_type": "markdown",
   "metadata": {},
   "source": [
    "Та же самая ситуация с минимальным и максимальным значениями. Вряд ли квартира будет стоить 12 тысяц рублей или 763 миллиона. Построим гистограмму и убедимся, что таких значений немного."
   ]
  },
  {
   "cell_type": "code",
   "execution_count": 29,
   "metadata": {},
   "outputs": [
    {
     "data": {
      "image/png": "[encoded data removed]",
      "text/plain": [
       "<Figure size 432x288 with 1 Axes>"
      ]
     },
     "metadata": {
      "needs_background": "light"
     },
     "output_type": "display_data"
    }
   ],
   "source": [
    "# построим гистограмму с разбиением 50 \n",
    "data['last_price'].hist(bins=50)\n",
    "plt.title('Гистограмма стоимости квартир')\n",
    "plt.xlabel('Стоимость квартиры')\n",
    "plt.ylabel('Количество продавцов')\n",
    "plt.show()"
   ]
  },
  {
   "cell_type": "code",
   "execution_count": 30,
   "metadata": {},
   "outputs": [
    {
     "data": {
      "image/png": "[encoded data removed]",
      "text/plain": [
       "<Figure size 432x288 with 1 Axes>"
      ]
     },
     "metadata": {
      "needs_background": "light"
     },
     "output_type": "display_data"
    }
   ],
   "source": [
    "# построим гистограмму с разбиением 50 на промежутке до 50 миллионов\n",
    "data['last_price'].hist(bins=50, range=(0, 50000000))\n",
    "plt.title('Гистограмма стоимости квартир')\n",
    "plt.xlabel('Стоимость квартиры')\n",
    "plt.ylabel('Количество продавцов')\n",
    "plt.show()"
   ]
  },
  {
   "cell_type": "markdown",
   "metadata": {},
   "source": [
    "На первом графике видно, что максимальное значение стоимости квартиры действительно не часто встречается (скорее всего это просто один единственный выброс). На втором графике видно, что большинство людей продают квартиры стоимостью до 10 миллионов рублей, совсем мало квартир продаются дороже, чем 20 миллионов. Скорее всего рассмотренные параметры сильно коррелируют. "
   ]
  },
  {
   "cell_type": "markdown",
   "metadata": {},
   "source": [
    "Далее рассмотрим количество комнат."
   ]
  },
  {
   "cell_type": "code",
   "execution_count": 31,
   "metadata": {},
   "outputs": [
    {
     "data": {
      "text/plain": [
       "count    23699.000000\n",
       "mean         2.070636\n",
       "std          1.078405\n",
       "min          0.000000\n",
       "25%          1.000000\n",
       "50%          2.000000\n",
       "75%          3.000000\n",
       "max         19.000000\n",
       "Name: rooms, dtype: float64"
      ]
     },
     "execution_count": 31,
     "metadata": {},
     "output_type": "execute_result"
    }
   ],
   "source": [
    "# просмоторим общую информацию о столбце\n",
    "data['rooms'].describe()"
   ]
  },
  {
   "cell_type": "markdown",
   "metadata": {},
   "source": [
    "Отсутствие комнат - это пропуски, а 19 комнат... аномальное значение? Возможно это одна такая аномельная квартира с огромной стоимостью, ценой и бошим количеством комнат. Вряд ли она нам будет нужна при анализе. Разберемся с ней потом, а пока простроим гистограммы."
   ]
  },
  {
   "cell_type": "code",
   "execution_count": 32,
   "metadata": {},
   "outputs": [
    {
     "data": {
      "image/png": "[encoded data removed]",
      "text/plain": [
       "<Figure size 432x288 with 1 Axes>"
      ]
     },
     "metadata": {
      "needs_background": "light"
     },
     "output_type": "display_data"
    }
   ],
   "source": [
    "# построим гистограмму с разбиением 19 \n",
    "data['rooms'].hist(bins=19)\n",
    "plt.title('Гистограмма количества комнат')\n",
    "plt.xlabel('Количество комнат')\n",
    "plt.ylabel('Количество квартир')\n",
    "plt.show()"
   ]
  },
  {
   "cell_type": "code",
   "execution_count": 33,
   "metadata": {},
   "outputs": [
    {
     "data": {
      "image/png": "[encoded data removed]",
      "text/plain": [
       "<Figure size 432x288 with 1 Axes>"
      ]
     },
     "metadata": {
      "needs_background": "light"
     },
     "output_type": "display_data"
    }
   ],
   "source": [
    "# построим гистограмму с разбиением 10 на промежутке до 10 комнат\n",
    "data['rooms'].hist(bins=10, range=(0, 10))\n",
    "plt.title('Гистограмма количества комнат')\n",
    "plt.xlabel('Количество комнат')\n",
    "plt.ylabel('Количество квартир')\n",
    "plt.show()"
   ]
  },
  {
   "cell_type": "markdown",
   "metadata": {},
   "source": [
    "На графике видно, что в основном продают однокомнатные и двухкомнатрые квартиры, чуть реже трёхкомнатрые. Возможно, квартиры с нулевым количеством комнат - это студии."
   ]
  },
  {
   "cell_type": "markdown",
   "metadata": {},
   "source": [
    "Рассмотрим столбец с высотой потолков."
   ]
  },
  {
   "cell_type": "code",
   "execution_count": 34,
   "metadata": {},
   "outputs": [
    {
     "data": {
      "text/plain": [
       "count    14504.000000\n",
       "mean         2.771499\n",
       "std          1.261056\n",
       "min          1.000000\n",
       "25%          2.520000\n",
       "50%          2.650000\n",
       "75%          2.800000\n",
       "max        100.000000\n",
       "Name: ceiling_height, dtype: float64"
      ]
     },
     "execution_count": 34,
     "metadata": {},
     "output_type": "execute_result"
    }
   ],
   "source": [
    "# просмоторим общую информацию о столбце\n",
    "data['ceiling_height'].describe()"
   ]
  },
  {
   "cell_type": "markdown",
   "metadata": {},
   "source": [
    "Максимальная высота потолков 100 метров - это уже явно не огромная квартира, а ошибка. Метровый потолок тоже звучит как ошибка. Построим гистограммы. "
   ]
  },
  {
   "cell_type": "code",
   "execution_count": 35,
   "metadata": {},
   "outputs": [
    {
     "data": {
      "image/png": "[encoded data removed]",
      "text/plain": [
       "<Figure size 432x288 with 1 Axes>"
      ]
     },
     "metadata": {
      "needs_background": "light"
     },
     "output_type": "display_data"
    }
   ],
   "source": [
    "# построим гистограмму с разбиением 100 \n",
    "data['ceiling_height'].hist(bins=100)\n",
    "plt.title('Гистограмма высоты потолков')\n",
    "plt.xlabel('Высота потолков, м')\n",
    "plt.ylabel('Количество квартир')\n",
    "plt.show()"
   ]
  },
  {
   "cell_type": "code",
   "execution_count": 36,
   "metadata": {},
   "outputs": [
    {
     "data": {
      "image/png": "[encoded data removed]",
      "text/plain": [
       "<Figure size 432x288 with 1 Axes>"
      ]
     },
     "metadata": {
      "needs_background": "light"
     },
     "output_type": "display_data"
    }
   ],
   "source": [
    "# построим гистограмму с разбиением 6 на промежутке до 6 метров\n",
    "data['ceiling_height'].hist(bins=6, range=(0, 6))\n",
    "plt.title('Гистограмма высоты потолков')\n",
    "plt.xlabel('Высота потолков, м')\n",
    "plt.ylabel('Количество квартир')\n",
    "plt.show()"
   ]
  },
  {
   "cell_type": "markdown",
   "metadata": {},
   "source": [
    "По первому графику видно, что это действительно выбросы. По второму графику видно, что в основном продают квартиры с высотой потолков от 2 до 3 метров, совсем редко продают квартиры с высокими потолками. "
   ]
  },
  {
   "cell_type": "markdown",
   "metadata": {},
   "source": [
    "### Изучение вpeмени продажи квартиры\n",
    "\n",
    "Рассмотрим информацию о времени продажи квартир. Для этого посмотрим общую информацию о столбце 'days_exposition'. В отличие от рассмотренных выше параметров этот содержит пропуски, и его тип Int64. "
   ]
  },
  {
   "cell_type": "code",
   "execution_count": 37,
   "metadata": {},
   "outputs": [
    {
     "data": {
      "text/plain": [
       "count    20518.000000\n",
       "mean       180.888634\n",
       "std        219.727988\n",
       "min          1.000000\n",
       "25%         45.000000\n",
       "50%         95.000000\n",
       "75%        232.000000\n",
       "max       1580.000000\n",
       "Name: days_exposition, dtype: float64"
      ]
     },
     "execution_count": 37,
     "metadata": {},
     "output_type": "execute_result"
    }
   ],
   "source": [
    "# просмоторим общую информацию о столбце\n",
    "data['days_exposition'].describe()"
   ]
  },
  {
   "cell_type": "markdown",
   "metadata": {},
   "source": [
    "Среднее и медиана сильно отличаются друг от друга: \n",
    "* среднее значение - 180 дней\n",
    "* медианное значение - 95 дней\n",
    "\n",
    "Это значит, что данные имеют сильный разброс значений и много аномально больших значений. Посмотрим на распределение данных на гистограмме. "
   ]
  },
  {
   "cell_type": "code",
   "execution_count": 38,
   "metadata": {},
   "outputs": [
    {
     "data": {
      "image/png": "[encoded data removed]",
      "text/plain": [
       "<Figure size 432x288 with 1 Axes>"
      ]
     },
     "metadata": {
      "needs_background": "light"
     },
     "output_type": "display_data"
    }
   ],
   "source": [
    "# построим гистограмму с разбиением 100 \n",
    "data['days_exposition'].hist(bins=50)\n",
    "plt.title('Гистограмма длительности продаж')\n",
    "plt.xlabel('Длительность продажи, количество дней')\n",
    "plt.ylabel('Количество квартир')\n",
    "plt.show()"
   ]
  },
  {
   "cell_type": "code",
   "execution_count": 39,
   "metadata": {},
   "outputs": [
    {
     "data": {
      "image/png": "[encoded data removed]",
      "text/plain": [
       "<Figure size 432x288 with 1 Axes>"
      ]
     },
     "metadata": {
      "needs_background": "light"
     },
     "output_type": "display_data"
    }
   ],
   "source": [
    "data['days_exposition'].hist(bins=100, range=(0, 100))\n",
    "plt.title('Гистограмма длительности продаж')\n",
    "plt.xlabel('Длительность продажи, количество дней')\n",
    "plt.ylabel('Количество квартир')\n",
    "plt.show()"
   ]
  },
  {
   "cell_type": "markdown",
   "metadata": {},
   "source": [
    "По первому графику видно, что большая часть продаж длится примерно до 60 дней. Больших значений также много, но находятся они в разных промежутках. Наблюдается длинное и плавное убывание повторяющихся значений, но их много и они велики. От этого и выходит такое большое среднее значение. Медианное значение говорит нам о том, что половина значений находится в диапазоне до 95 дней и это наглядно видно. На втором графике мы видим несколько пиков, возможно это дни, когда публикация снимается с сайта автоматически (по истечении заранее установленного срока).\n",
    "\n",
    "Можно сказать, что продажа прошла слишком долго, когда количество дней стало превышать 600 дней, а вот с быстрыми продажами всё сложнее, потому что количество дней публикации примерно одинаковы в период от 2 дней, а с увеличением дней количество снятых объявлений плавно идёт на убыль. Судя по графику, минимальный срок объявления 1 день - это скорее аномалия, так как это происходит довольно редко. "
   ]
  },
  {
   "cell_type": "markdown",
   "metadata": {},
   "source": [
    "### Редкие и выбивающиеся значения\n",
    "\n",
    "Для начала определим параметры, в которых мы сможем обозначить значения, как ошибочные, исходя из здравого смысла. Поясню. Такие параметры как стоимость квартиры, её площадь и подобные могут быть большими. Да, они редки, но они могут такими быть. А вот например 100-метровая высота потолка - это уже вряд ли. Исследуем следующие параметры: \n",
    "* ceiling_height - высота потолков (максимальное значение в этом столбце - 100 метров), по графику видно, что мы можем отбросить все значения больше 4, так как их совсем мало и они явно аномальные\n",
    "* floor, floors_total - проверим, нет ли домов, где этажей больше 25 \n",
    "* balcony - балконов может и может быть много, но их точно не должно быть больше комнат, это было бы странно\n",
    "* living_ratio, kitchen_ratio - проверим на графиках возможные значения \n",
    "* price_meter - проверим на графиках, какие значения получились\n",
    "\n",
    "**Высота потолков**"
   ]
  },
  {
   "cell_type": "code",
   "execution_count": 40,
   "metadata": {},
   "outputs": [
    {
     "data": {
      "text/plain": [
       "148"
      ]
     },
     "execution_count": 40,
     "metadata": {},
     "output_type": "execute_result"
    }
   ],
   "source": [
    "# проверим, сколько квартир с потолками выше 4 метров и меньше 2.5\n",
    "len(data.query('ceiling_height > 4 or ceiling_height < 2.5'))"
   ]
  },
  {
   "cell_type": "markdown",
   "metadata": {},
   "source": [
    "148 квартир в потолками выше 4 метров и меньше 2.5 метров это совсем немного, поэтому удаление таких строк из анализа не навредит качеству. "
   ]
  },
  {
   "cell_type": "code",
   "execution_count": 41,
   "metadata": {},
   "outputs": [],
   "source": [
    "# создаем новый датафрейм, куда будем записывать только отфильтрованные данные, пропуски оставим\n",
    "filtered_data = data.query('2.5 <= ceiling_height <= 4 or ceiling_height == \\'NaN\\'')"
   ]
  },
  {
   "cell_type": "code",
   "execution_count": 42,
   "metadata": {},
   "outputs": [
    {
     "data": {
      "image/png": "[encoded data removed]",
      "text/plain": [
       "<Figure size 432x288 with 1 Axes>"
      ]
     },
     "metadata": {
      "needs_background": "light"
     },
     "output_type": "display_data"
    }
   ],
   "source": [
    "# сравним гистограммы изначальны\n",
    "data['ceiling_height'].hist()\n",
    "plt.title('Гистограмма высоты потолков')\n",
    "plt.xlabel('Высота потолка, м')\n",
    "plt.ylabel('Количество квартир')\n",
    "plt.show()"
   ]
  },
  {
   "cell_type": "code",
   "execution_count": 43,
   "metadata": {},
   "outputs": [
    {
     "data": {
      "image/png": "[encoded data removed]",
      "text/plain": [
       "<Figure size 432x288 with 1 Axes>"
      ]
     },
     "metadata": {
      "needs_background": "light"
     },
     "output_type": "display_data"
    }
   ],
   "source": [
    "# гистограмма на отфильтрованных данных \n",
    "filtered_data['ceiling_height'].hist()\n",
    "plt.title('Гистограмма высоты потолков')\n",
    "plt.xlabel('Высота потолка, м')\n",
    "plt.ylabel('Количество квартир')\n",
    "plt.show()"
   ]
  },
  {
   "cell_type": "markdown",
   "metadata": {},
   "source": [
    "Так гораздо лучше. Оставим потолки выже 3.6, в интернете пишут, что такое редко, но возможно. "
   ]
  },
  {
   "cell_type": "markdown",
   "metadata": {},
   "source": [
    "**Количество этажей**\n",
    "\n",
    "Посмотрим, сколько этажей в домах вообще есть в наших данных."
   ]
  },
  {
   "cell_type": "code",
   "execution_count": 44,
   "metadata": {},
   "outputs": [
    {
     "data": {
      "text/plain": [
       "count    14356.000000\n",
       "mean        10.195876\n",
       "std          6.204869\n",
       "min          0.000000\n",
       "25%          5.000000\n",
       "50%          9.000000\n",
       "75%         14.000000\n",
       "max         60.000000\n",
       "Name: floors_total, dtype: float64"
      ]
     },
     "execution_count": 44,
     "metadata": {},
     "output_type": "execute_result"
    }
   ],
   "source": [
    "# посмотрим общую информацию о столбце\n",
    "filtered_data['floors_total'].describe()"
   ]
  },
  {
   "cell_type": "markdown",
   "metadata": {},
   "source": [
    "Одноэтажный дом - возможно, но вот 60 этажей - это вряд ли. Посмотрим, сколько домов содержат больше 29 этажей. Согласно информации в интернете самый высокий многоэтажный дом - 36 этажей, а на третьем месте уже 29 этажей, Поэтому всё, что выше 29 можем удалить."
   ]
  },
  {
   "cell_type": "code",
   "execution_count": 45,
   "metadata": {},
   "outputs": [
    {
     "data": {
      "text/plain": [
       "12"
      ]
     },
     "execution_count": 45,
     "metadata": {},
     "output_type": "execute_result"
    }
   ],
   "source": [
    "# количество домой выше 29 этажей\n",
    "len(filtered_data[filtered_data['floors_total'] > 29])"
   ]
  },
  {
   "cell_type": "code",
   "execution_count": 46,
   "metadata": {
    "scrolled": true
   },
   "outputs": [
    {
     "data": {
      "image/png": "[encoded data removed]",
      "text/plain": [
       "<Figure size 432x288 with 1 Axes>"
      ]
     },
     "metadata": {
      "needs_background": "light"
     },
     "output_type": "display_data"
    }
   ],
   "source": [
    "# оставляем строки, где ниже 30 этажей\n",
    "filtered_data = filtered_data[filtered_data['floors_total'] < 30]\n",
    "# построим гистограмму\n",
    "filtered_data['floors_total'].hist(bins = 29)\n",
    "plt.title('Гистограмма количества этажей в доме')\n",
    "plt.xlabel('Количество этажей')\n",
    "plt.ylabel('Количество квартир')\n",
    "plt.show()"
   ]
  },
  {
   "cell_type": "markdown",
   "metadata": {},
   "source": [
    "Похоже на правду, ведь большинство домов действительно пятиэтажные и девятиэтажные."
   ]
  },
  {
   "cell_type": "markdown",
   "metadata": {},
   "source": [
    "**Количество балконов**\n",
    "\n",
    "В моём понимании количество балконов должно быть уж точно не больше комнат. Здравый смысл подсказывает, что даже меньше, но знает эти новые дома. Проверим. "
   ]
  },
  {
   "cell_type": "code",
   "execution_count": 47,
   "metadata": {
    "scrolled": false
   },
   "outputs": [
    {
     "data": {
      "text/plain": [
       "count    14344.000000\n",
       "mean         0.678402\n",
       "std          1.014964\n",
       "min          0.000000\n",
       "25%          0.000000\n",
       "50%          0.000000\n",
       "75%          1.000000\n",
       "max          5.000000\n",
       "Name: balcony, dtype: float64"
      ]
     },
     "execution_count": 47,
     "metadata": {},
     "output_type": "execute_result"
    }
   ],
   "source": [
    "# просмотрим общую информацию о столбце\n",
    "filtered_data['balcony'].describe()"
   ]
  },
  {
   "cell_type": "markdown",
   "metadata": {},
   "source": [
    "Максимальное число очень даже хорошее, хоть не 20 балконов. Должно быть это очень большая квартира. Для начала проверим, все ли квартиры вообще имеют комнаты."
   ]
  },
  {
   "cell_type": "code",
   "execution_count": 48,
   "metadata": {},
   "outputs": [
    {
     "data": {
      "text/plain": [
       "78"
      ]
     },
     "execution_count": 48,
     "metadata": {},
     "output_type": "execute_result"
    }
   ],
   "source": [
    "# количество квартир без комнат \n",
    "len(filtered_data.query('rooms == 0'))"
   ]
  },
  {
   "cell_type": "markdown",
   "metadata": {},
   "source": [
    "Возможно, это пропуски. Но их всего 190, поэтому мы можем их удалить. "
   ]
  },
  {
   "cell_type": "code",
   "execution_count": 49,
   "metadata": {},
   "outputs": [],
   "source": [
    "# удаляем строки с отсутствием комнат\n",
    "filtered_data = filtered_data.query('rooms != 0')"
   ]
  },
  {
   "cell_type": "code",
   "execution_count": 50,
   "metadata": {},
   "outputs": [
    {
     "data": {
      "text/plain": [
       "1331"
      ]
     },
     "execution_count": 50,
     "metadata": {},
     "output_type": "execute_result"
    }
   ],
   "source": [
    "# посчитаем, сколько квартир, где балконов больше чем комнат\n",
    "many_balcony = len(filtered_data.query('balcony > rooms'))\n",
    "many_balcony"
   ]
  },
  {
   "cell_type": "markdown",
   "metadata": {},
   "source": [
    "Достаточно много. Давайте уменьшим в таких строках количество балконов на единицу. "
   ]
  },
  {
   "cell_type": "code",
   "execution_count": 51,
   "metadata": {},
   "outputs": [],
   "source": [
    "# уменьшим количество балконов на 1, пока во всех комнатах количество балконов станет не больше комнат\n",
    "while len(filtered_data.query('balcony > rooms')) > 0:\n",
    "    filtered_data['balcony'] = filtered_data['balcony'].where(filtered_data['balcony'] <= filtered_data['rooms'],\n",
    "                                                              lambda x: x - 1)"
   ]
  },
  {
   "cell_type": "code",
   "execution_count": 52,
   "metadata": {},
   "outputs": [
    {
     "data": {
      "image/png": "[encoded data removed]",
      "text/plain": [
       "<Figure size 432x288 with 1 Axes>"
      ]
     },
     "metadata": {
      "needs_background": "light"
     },
     "output_type": "display_data"
    }
   ],
   "source": [
    "filtered_data['balcony'].hist(bins=6, range=(0, 6))\n",
    "plt.title('Гистограмма количества балконов')\n",
    "plt.xlabel('Количество балконов')\n",
    "plt.ylabel('Количество квартир')\n",
    "plt.show()"
   ]
  },
  {
   "cell_type": "markdown",
   "metadata": {},
   "source": [
    "Больше половины квартир не имеют балконов. Но не будем забывать, что изначально значений было 12180, а остальное - пропуски. Мы заполнили пропуски нулями. То есть больше половины данных мы заполнили сами. Не стоит об этом забывать, не исключаем вероятность того, что наша логика замены пропусков в этом случае не верна. "
   ]
  },
  {
   "cell_type": "markdown",
   "metadata": {},
   "source": [
    "**Отношение жилой площади к общей площади**\n",
    "\n",
    "Посмотрим, как распределяются отношения площедей в наших данных. Можем сказать точно, что это отношение не должно быть равно 1."
   ]
  },
  {
   "cell_type": "code",
   "execution_count": 53,
   "metadata": {},
   "outputs": [
    {
     "data": {
      "text/plain": [
       "count    13486.000000\n",
       "mean         0.569060\n",
       "std          0.102351\n",
       "min          0.021583\n",
       "25%          0.501456\n",
       "50%          0.573379\n",
       "75%          0.640000\n",
       "max          0.983447\n",
       "Name: living_ratio, dtype: float64"
      ]
     },
     "execution_count": 53,
     "metadata": {},
     "output_type": "execute_result"
    }
   ],
   "source": [
    "# посмотрим общую информацию о столбце \n",
    "filtered_data['living_ratio'].describe()"
   ]
  },
  {
   "cell_type": "markdown",
   "metadata": {},
   "source": [
    "Отношения, равного 1 или 0 нет, это уже радует. Но минимальное и максималье значения всё-таки не правдоподобны. Медиана и среднее значение похожи, поэтому скорее всего распределение отношений будет нормальным."
   ]
  },
  {
   "cell_type": "code",
   "execution_count": 54,
   "metadata": {
    "scrolled": true
   },
   "outputs": [
    {
     "data": {
      "image/png": "[encoded data removed]",
      "text/plain": [
       "<Figure size 432x288 with 1 Axes>"
      ]
     },
     "metadata": {
      "needs_background": "light"
     },
     "output_type": "display_data"
    }
   ],
   "source": [
    "# построим гистограмму\n",
    "filtered_data['living_ratio'].hist(bins=50)\n",
    "plt.title('Гистограмма долей жилой площади')\n",
    "plt.xlabel('Доля жилой площади')\n",
    "plt.ylabel('Количество квартир')\n",
    "plt.show()"
   ]
  },
  {
   "cell_type": "markdown",
   "metadata": {},
   "source": [
    "Да, распределение нормальное. Маленькое отношение может быть в случаях, когда квартира однокомнатная, кухня и коридоры большие и просторные. Большое отношение может быть в многокомнатных квартирах или в студиях. Построим диаграмму размаха, чтобы лучше видеть выбросы."
   ]
  },
  {
   "cell_type": "code",
   "execution_count": 55,
   "metadata": {
    "scrolled": false
   },
   "outputs": [
    {
     "data": {
      "image/png": "[encoded data removed]",
      "text/plain": [
       "<Figure size 432x288 with 1 Axes>"
      ]
     },
     "metadata": {
      "needs_background": "light"
     },
     "output_type": "display_data"
    }
   ],
   "source": [
    "# строим диаграмму размаха\n",
    "filtered_data.boxplot(column=['living_ratio'])\n",
    "plt.title('Диаграмма размаха доли жилой площади')\n",
    "plt.ylabel('Доля жилой площади')\n",
    "plt.show()"
   ]
  },
  {
   "cell_type": "markdown",
   "metadata": {},
   "source": [
    "На графике видны видны выбросы. Приблизим график и посчитаем примерное количество мелких и больших выбросов. "
   ]
  },
  {
   "cell_type": "code",
   "execution_count": 56,
   "metadata": {
    "scrolled": false
   },
   "outputs": [
    {
     "data": {
      "image/png": "[encoded data removed]",
      "text/plain": [
       "<Figure size 432x288 with 1 Axes>"
      ]
     },
     "metadata": {
      "needs_background": "light"
     },
     "output_type": "display_data"
    }
   ],
   "source": [
    "# приблизим нижнюю часть бокса\n",
    "plt.ylim(0.2, 0.3)\n",
    "filtered_data.boxplot(column=['living_ratio'])\n",
    "plt.title('Диаграмма размаха доли жилой площади')\n",
    "plt.ylabel('Доля жилой площади')\n",
    "plt.show()"
   ]
  },
  {
   "cell_type": "code",
   "execution_count": 57,
   "metadata": {},
   "outputs": [
    {
     "data": {
      "text/plain": [
       "61"
      ]
     },
     "execution_count": 57,
     "metadata": {},
     "output_type": "execute_result"
    }
   ],
   "source": [
    "# посчитаем примерное количество выбросов\n",
    "len(filtered_data.query('living_ratio <= 0.28'))"
   ]
  },
  {
   "cell_type": "code",
   "execution_count": 58,
   "metadata": {},
   "outputs": [
    {
     "data": {
      "image/png": "[encoded data removed]",
      "text/plain": [
       "<Figure size 432x288 with 1 Axes>"
      ]
     },
     "metadata": {
      "needs_background": "light"
     },
     "output_type": "display_data"
    }
   ],
   "source": [
    "# приблизим верхнюю часть бокса\n",
    "plt.ylim(0.8, 0.9)\n",
    "filtered_data.boxplot(column=['living_ratio'])\n",
    "plt.title('Диаграмма размаха доли жилой площади')\n",
    "plt.ylabel('Доля жилой площади')\n",
    "plt.show()"
   ]
  },
  {
   "cell_type": "code",
   "execution_count": 59,
   "metadata": {},
   "outputs": [
    {
     "data": {
      "text/plain": [
       "42"
      ]
     },
     "execution_count": 59,
     "metadata": {},
     "output_type": "execute_result"
    }
   ],
   "source": [
    "# посчитаем примерное количество выбросов\n",
    "len(filtered_data.query('living_ratio >= 0.85'))"
   ]
  },
  {
   "cell_type": "markdown",
   "metadata": {},
   "source": [
    "Суммарно выбросов немного, поэтому мы можем исключить их из исследования. "
   ]
  },
  {
   "cell_type": "code",
   "execution_count": 60,
   "metadata": {},
   "outputs": [],
   "source": [
    "# удаляем строки с выбросами\n",
    "filtered_data = filtered_data.query('0.28 < living_ratio < 0.85 or living_ratio == \\'NaN\\'')"
   ]
  },
  {
   "cell_type": "markdown",
   "metadata": {},
   "source": [
    "Мы успешно избавились от выбросов (при этом отсавили пропуски), теперь повторим эксперимент с отношением площади кухни. "
   ]
  },
  {
   "cell_type": "markdown",
   "metadata": {},
   "source": [
    "**Отношение площади кухни к общей площади**\n",
    "\n",
    "Сначала посмотрим общую информацию об этом столбце"
   ]
  },
  {
   "cell_type": "code",
   "execution_count": 61,
   "metadata": {
    "scrolled": true
   },
   "outputs": [
    {
     "data": {
      "text/plain": [
       "count    13108.000000\n",
       "mean         0.182034\n",
       "std          0.069524\n",
       "min          0.025381\n",
       "25%          0.130831\n",
       "50%          0.166667\n",
       "75%          0.223441\n",
       "max          0.723270\n",
       "Name: kitchen_ratio, dtype: float64"
      ]
     },
     "execution_count": 61,
     "metadata": {},
     "output_type": "execute_result"
    }
   ],
   "source": [
    "# посмотрим общую информацию о столбце \n",
    "filtered_data['kitchen_ratio'].describe()"
   ]
  },
  {
   "cell_type": "markdown",
   "metadata": {},
   "source": [
    "Скорее всего это тоже будет нормальное распределение, судя по сходству медианного и среднего значения. Максимальное и минимальное значения вызывают подозрения, скорее всего - выбросы. Построим гистограмму и боксплот."
   ]
  },
  {
   "cell_type": "code",
   "execution_count": 62,
   "metadata": {},
   "outputs": [
    {
     "data": {
      "image/png": "[encoded data removed]",
      "text/plain": [
       "<Figure size 432x288 with 1 Axes>"
      ]
     },
     "metadata": {
      "needs_background": "light"
     },
     "output_type": "display_data"
    }
   ],
   "source": [
    "# построим гистограмму\n",
    "filtered_data['kitchen_ratio'].hist(bins=50)\n",
    "plt.title('Гистограмма доли площади кухни')\n",
    "plt.xlabel('Доля площади кухни')\n",
    "plt.ylabel('Количество квартир')\n",
    "plt.show()"
   ]
  },
  {
   "cell_type": "code",
   "execution_count": 63,
   "metadata": {},
   "outputs": [
    {
     "data": {
      "image/png": "[encoded data removed]",
      "text/plain": [
       "<Figure size 432x288 with 1 Axes>"
      ]
     },
     "metadata": {
      "needs_background": "light"
     },
     "output_type": "display_data"
    }
   ],
   "source": [
    "# строим диаграмму размаха\n",
    "filtered_data.boxplot(column=['kitchen_ratio'])\n",
    "plt.title('Диаграмма размаха доли площади кухни')\n",
    "plt.ylabel('Доля площади кухни')\n",
    "plt.show()"
   ]
  },
  {
   "cell_type": "markdown",
   "metadata": {},
   "source": [
    "Распределение Пауссона больше подходит к описанию получившейся гистограммы, а основная часть вбросов приходится на значения больше 0.4. Отсутствие выбросов в нижней части графика можно объяснить тем, что такое небольшое отношение площади кухни может быть свойственно для квартир с большой площадью и одной кухней. Приблизим верхнюю часть графика, и удалим выбросы."
   ]
  },
  {
   "cell_type": "code",
   "execution_count": 64,
   "metadata": {},
   "outputs": [
    {
     "data": {
      "image/png": "[encoded data removed]",
      "text/plain": [
       "<Figure size 432x288 with 1 Axes>"
      ]
     },
     "metadata": {
      "needs_background": "light"
     },
     "output_type": "display_data"
    }
   ],
   "source": [
    "# приблизим верхнюю часть бокса\n",
    "plt.ylim(0.35, 0.4)\n",
    "filtered_data.boxplot(column=['kitchen_ratio'])\n",
    "plt.show()"
   ]
  },
  {
   "cell_type": "code",
   "execution_count": 65,
   "metadata": {},
   "outputs": [],
   "source": [
    "# удаляем строки с выбросами\n",
    "filtered_data = filtered_data.query('kitchen_ratio < 0.38 or kitchen_ratio == \\'NaN\\'')"
   ]
  },
  {
   "cell_type": "code",
   "execution_count": 66,
   "metadata": {},
   "outputs": [
    {
     "data": {
      "text/plain": [
       "12932"
      ]
     },
     "execution_count": 66,
     "metadata": {},
     "output_type": "execute_result"
    }
   ],
   "source": [
    "# количество оставшихся строк\n",
    "len(filtered_data)"
   ]
  },
  {
   "cell_type": "markdown",
   "metadata": {},
   "source": [
    "Отлично, с аномальными значениями в отношениях площадей разобрались. После всех манипуляций данных осталось много, потому что удаляли мы всё аккуратно. И хорошо. Последнее, что мы рассмотрим, это цена за квадратный метр. "
   ]
  },
  {
   "cell_type": "markdown",
   "metadata": {},
   "source": [
    "**Цена за квадратный метр**\n",
    "\n",
    "Для начала посмотрим общую информацию от этих данных. Напомним, что этот столбец отражает стоимость в рублях, как и стоимость всей квартиры. Для удобства добавим новый столбец в таблицу filtered_data, где будут указаны значения в тысячах с точностью до 3 знаков после запятой. "
   ]
  },
  {
   "cell_type": "code",
   "execution_count": 67,
   "metadata": {},
   "outputs": [],
   "source": [
    "# добавляем новый столбец с ценой за квадратный метр в тысячах для удобного чтения\n",
    "filtered_data['price_meter_millions'] = round(filtered_data['price_meter'] / 1000, 3)"
   ]
  },
  {
   "cell_type": "code",
   "execution_count": 68,
   "metadata": {},
   "outputs": [
    {
     "data": {
      "text/plain": [
       "count    12932.000000\n",
       "mean       100.358298\n",
       "std         47.341559\n",
       "min          0.112000\n",
       "25%         78.424000\n",
       "50%         96.256000\n",
       "75%        115.179750\n",
       "max       1736.842000\n",
       "Name: price_meter_millions, dtype: float64"
      ]
     },
     "execution_count": 68,
     "metadata": {},
     "output_type": "execute_result"
    }
   ],
   "source": [
    "# посмотрим общую информацию о столбце \n",
    "filtered_data['price_meter_millions'].describe()"
   ]
  },
  {
   "cell_type": "markdown",
   "metadata": {},
   "source": [
    "Среднее и медианное значения не слишком сильно рзаличаются, но вот что странно. Может я чего-то не понимаю, или это данные десятичетней давности, но я таких средних цен на квадратный метр давно не видела. Но ничего не поделаешь, посмотрим на распределение."
   ]
  },
  {
   "cell_type": "code",
   "execution_count": 69,
   "metadata": {
    "scrolled": true
   },
   "outputs": [
    {
     "data": {
      "image/png": "[encoded data removed]",
      "text/plain": [
       "<Figure size 432x288 with 1 Axes>"
      ]
     },
     "metadata": {
      "needs_background": "light"
     },
     "output_type": "display_data"
    }
   ],
   "source": [
    "# построим гистограмму\n",
    "filtered_data['price_meter_millions'].hist(bins=50, range=(0, 500))\n",
    "plt.show()"
   ]
  },
  {
   "cell_type": "markdown",
   "metadata": {},
   "source": [
    "Распределение нормальное, но уж очень длинный хвостик. Посмотрим, что покажет боксплот. "
   ]
  },
  {
   "cell_type": "code",
   "execution_count": 70,
   "metadata": {
    "scrolled": true
   },
   "outputs": [
    {
     "data": {
      "image/png": "[encoded data removed]",
      "text/plain": [
       "<Figure size 432x288 with 1 Axes>"
      ]
     },
     "metadata": {
      "needs_background": "light"
     },
     "output_type": "display_data"
    }
   ],
   "source": [
    "# строим диаграмму размаха\n",
    "filtered_data.boxplot(column=['price_meter_millions'])\n",
    "plt.show()"
   ]
  },
  {
   "cell_type": "code",
   "execution_count": 71,
   "metadata": {},
   "outputs": [
    {
     "data": {
      "image/png": "[encoded data removed]",
      "text/plain": [
       "<Figure size 432x288 with 1 Axes>"
      ]
     },
     "metadata": {
      "needs_background": "light"
     },
     "output_type": "display_data"
    }
   ],
   "source": [
    "# приблизим бокс\n",
    "plt.ylim(0, 250)\n",
    "filtered_data.boxplot(column=['price_meter_millions'])\n",
    "plt.show()"
   ]
  },
  {
   "cell_type": "code",
   "execution_count": 72,
   "metadata": {},
   "outputs": [
    {
     "data": {
      "text/plain": [
       "85"
      ]
     },
     "execution_count": 72,
     "metadata": {},
     "output_type": "execute_result"
    }
   ],
   "source": [
    "# за выбросы примем квартиры от 400 тысяч за метр и до 20 тысяч за метр\n",
    "len(filtered_data.query('price_meter_millions < 20 or price_meter_millions > 400'))"
   ]
  },
  {
   "cell_type": "code",
   "execution_count": 73,
   "metadata": {},
   "outputs": [
    {
     "data": {
      "text/plain": [
       "12847"
      ]
     },
     "execution_count": 73,
     "metadata": {},
     "output_type": "execute_result"
    }
   ],
   "source": [
    "# удаляем выбросы\n",
    "filtered_data = filtered_data.query('20 < price_meter_millions < 400')\n",
    "len(filtered_data)"
   ]
  },
  {
   "cell_type": "markdown",
   "metadata": {},
   "source": [
    "Цены, конечно, интересные. Я не могу найти ошибку в своих рассчётах, буду верить в то, что в те года и правда были такие цены.\n",
    "\n",
    "Теперь, когда данные почистили, модем обновить индексы у нового датафрейма."
   ]
  },
  {
   "cell_type": "code",
   "execution_count": 74,
   "metadata": {},
   "outputs": [],
   "source": [
    "# переопределим индексы\n",
    "filteder_data = filtered_data.reset_index(drop=True, inplace=True)"
   ]
  },
  {
   "cell_type": "code",
   "execution_count": 75,
   "metadata": {},
   "outputs": [
    {
     "data": {
      "text/plain": [
       "45.79096164395122"
      ]
     },
     "execution_count": 75,
     "metadata": {},
     "output_type": "execute_result"
    }
   ],
   "source": [
    "# посчитаем процент удалённых данных \n",
    "deleted_data = (len(data) - len(filtered_data)) / len(data) * 100\n",
    "deleted_data"
   ]
  },
  {
   "cell_type": "markdown",
   "metadata": {},
   "source": [
    "Редкие значения удалены, в ходе анализа данные уменьшились на 5 процентов. Это не много, но зато мы точно удалили все выбивающиеся значения."
   ]
  },
  {
   "cell_type": "markdown",
   "metadata": {},
   "source": [
    "### Факторы, влияющие на стоимость квартиры\n",
    "\n",
    "Изучим параметры, которые больше всех могут влиять на стоимость квартиры: \n",
    "\n",
    "* total_area - площадь квартиры\n",
    "* rooms - количество комнат\n",
    "* cityCenters_nearest - удалённость от центра города\n",
    "* floor_group - тип этажа (первый, последний, другой)\n",
    "* weekday_exposition - день недели публикации объявления\n",
    "* month_exposition - месяц публикации объявления\n",
    "* year_exposition - год публикации объявления\n",
    "\n",
    "Построим диаграммы рассеяния и посчитаем коэффициент корреляции зависимости стоимости квартиры от каждого из этих факторов."
   ]
  },
  {
   "cell_type": "code",
   "execution_count": 76,
   "metadata": {
    "scrolled": true
   },
   "outputs": [
    {
     "data": {
      "image/png": "[encoded data removed]",
      "text/plain": [
       "<Figure size 432x288 with 1 Axes>"
      ]
     },
     "metadata": {
      "needs_background": "light"
     },
     "output_type": "display_data"
    },
    {
     "name": "stdout",
     "output_type": "stream",
     "text": [
      "Зависимость от total_area: 0.811\n"
     ]
    },
    {
     "data": {
      "image/png": "[encoded data removed]",
      "text/plain": [
       "<Figure size 432x288 with 1 Axes>"
      ]
     },
     "metadata": {
      "needs_background": "light"
     },
     "output_type": "display_data"
    },
    {
     "name": "stdout",
     "output_type": "stream",
     "text": [
      "Зависимость от rooms: 0.521\n"
     ]
    },
    {
     "data": {
      "image/png": "[encoded data removed]",
      "text/plain": [
       "<Figure size 432x288 with 1 Axes>"
      ]
     },
     "metadata": {
      "needs_background": "light"
     },
     "output_type": "display_data"
    },
    {
     "name": "stdout",
     "output_type": "stream",
     "text": [
      "Зависимость от cityCenters_nearest: -0.308\n"
     ]
    },
    {
     "data": {
      "image/png": "[encoded data removed]",
      "text/plain": [
       "<Figure size 432x288 with 1 Axes>"
      ]
     },
     "metadata": {
      "needs_background": "light"
     },
     "output_type": "display_data"
    },
    {
     "name": "stdout",
     "output_type": "stream",
     "text": [
      "Зависимость от weekday_exposition: -0.021\n"
     ]
    },
    {
     "data": {
      "image/png": "[encoded data removed]",
      "text/plain": [
       "<Figure size 432x288 with 1 Axes>"
      ]
     },
     "metadata": {
      "needs_background": "light"
     },
     "output_type": "display_data"
    },
    {
     "name": "stdout",
     "output_type": "stream",
     "text": [
      "Зависимость от month_exposition: 0.001\n"
     ]
    },
    {
     "data": {
      "image/png": "[encoded data removed]",
      "text/plain": [
       "<Figure size 432x288 with 1 Axes>"
      ]
     },
     "metadata": {
      "needs_background": "light"
     },
     "output_type": "display_data"
    },
    {
     "name": "stdout",
     "output_type": "stream",
     "text": [
      "Зависимость от year_exposition: -0.048\n"
     ]
    }
   ],
   "source": [
    "# строим диаграммы рассеяния\n",
    "# используем цикл по нужным столбцам\n",
    "for col in ['total_area', 'rooms', 'cityCenters_nearest', \n",
    "            'weekday_exposition', 'month_exposition', 'year_exposition']:\n",
    "    filtered_data.plot(x=col, y='last_price', kind='scatter')\n",
    "    plt.show()\n",
    "    print('Зависимость от {}: {:.3f}'.format(col, filtered_data['last_price'].corr(filtered_data[col])))"
   ]
  },
  {
   "cell_type": "code",
   "execution_count": 77,
   "metadata": {},
   "outputs": [
    {
     "data": {
      "text/html": [
       "<div>\n",
       "<style scoped>\n",
       "    .dataframe tbody tr th:only-of-type {\n",
       "        vertical-align: middle;\n",
       "    }\n",
       "\n",
       "    .dataframe tbody tr th {\n",
       "        vertical-align: top;\n",
       "    }\n",
       "\n",
       "    .dataframe thead tr th {\n",
       "        text-align: left;\n",
       "    }\n",
       "\n",
       "    .dataframe thead tr:last-of-type th {\n",
       "        text-align: right;\n",
       "    }\n",
       "</style>\n",
       "<table border=\"1\" class=\"dataframe\">\n",
       "  <thead>\n",
       "    <tr>\n",
       "      <th></th>\n",
       "      <th>median</th>\n",
       "    </tr>\n",
       "    <tr>\n",
       "      <th></th>\n",
       "      <th>last_price</th>\n",
       "    </tr>\n",
       "    <tr>\n",
       "      <th>floor_group</th>\n",
       "      <th></th>\n",
       "    </tr>\n",
       "  </thead>\n",
       "  <tbody>\n",
       "    <tr>\n",
       "      <th>другой</th>\n",
       "      <td>5000000</td>\n",
       "    </tr>\n",
       "    <tr>\n",
       "      <th>первый</th>\n",
       "      <td>4100000</td>\n",
       "    </tr>\n",
       "    <tr>\n",
       "      <th>последний</th>\n",
       "      <td>4550000</td>\n",
       "    </tr>\n",
       "  </tbody>\n",
       "</table>\n",
       "</div>"
      ],
      "text/plain": [
       "                median\n",
       "            last_price\n",
       "floor_group           \n",
       "другой         5000000\n",
       "первый         4100000\n",
       "последний      4550000"
      ]
     },
     "execution_count": 77,
     "metadata": {},
     "output_type": "execute_result"
    }
   ],
   "source": [
    "# посмотрим зависимость от типа этажа\n",
    "filtered_data.pivot_table(index=['floor_group'], values='last_price', aggfunc=['median'])"
   ]
  },
  {
   "cell_type": "markdown",
   "metadata": {},
   "source": [
    "Самая явная зависимость наблюдается между *стоимостью квартиры и площадью*. Коэффициент корреляцию близок к 1, но нельзя забывать, что на стоимость влияют и другие факторы. \n",
    "\n",
    "Также наблюдается зависимость от *количества комнат*, но судя по графику этот график влияет больше на минимальную границу стоимости квартиры. Самые дорогие квартиры содержат от трёх комнат. Коэффициент корреляции указывает на несильную зависимость. \n",
    "\n",
    "На графике зависимости *стоимости квартиры от удалённости до центра* видно, что нижняя граница цен не зависит от удалённости, а вот верхняя граница уменьшается с увеличением расстояния до центра. Отрицательный коэффициент корреляции говорит нам о том, что зависимоть обратная. Да, чем больше расстояние, тем меньшее количество дорогих квартир наблюдается. \n",
    "\n",
    "Что касается *дней недели, месяца и года размещения публикации* - мы видим, что явной зависимости нет. Коэффициенты корреляции, близкие к 0, свидетельствуют об этом. Единственное, что могу сказать, это то, что 2017 году было больше дорогих квартир. \n",
    "\n",
    "Медианная стоимость квартир на первом этаже значительное ниже, чем на других этажах. И это понятно, ведь на первом этаже всегда громко из-за улицы. На других этажах жить гораздо комфортнее, чем на первом. А последние этажи тоже не так попунярны. \n",
    "\n",
    "Можно сказать, что среди рассматриваемых факторов более влиятельным является площадь квартиры. "
   ]
  },
  {
   "cell_type": "markdown",
   "metadata": {},
   "source": [
    "### 10 населённых пунктов с большим числом объявлений\n",
    "\n",
    "Выделим 10 населенных пунктов с наибольшим количеством объявлений и подсчитаем в них среднюю цену за квадратный метр, а так же выделим населённый пункт с самой низкой и самой высокой медианной стоимостью жилья. "
   ]
  },
  {
   "cell_type": "code",
   "execution_count": 78,
   "metadata": {},
   "outputs": [
    {
     "data": {
      "text/html": [
       "<div>\n",
       "<style scoped>\n",
       "    .dataframe tbody tr th:only-of-type {\n",
       "        vertical-align: middle;\n",
       "    }\n",
       "\n",
       "    .dataframe tbody tr th {\n",
       "        vertical-align: top;\n",
       "    }\n",
       "\n",
       "    .dataframe thead tr th {\n",
       "        text-align: left;\n",
       "    }\n",
       "\n",
       "    .dataframe thead tr:last-of-type th {\n",
       "        text-align: right;\n",
       "    }\n",
       "</style>\n",
       "<table border=\"1\" class=\"dataframe\">\n",
       "  <thead>\n",
       "    <tr>\n",
       "      <th></th>\n",
       "      <th>count</th>\n",
       "      <th>mean</th>\n",
       "    </tr>\n",
       "    <tr>\n",
       "      <th></th>\n",
       "      <th>price_meter</th>\n",
       "      <th>price_meter</th>\n",
       "    </tr>\n",
       "    <tr>\n",
       "      <th>locality_name</th>\n",
       "      <th></th>\n",
       "      <th></th>\n",
       "    </tr>\n",
       "  </thead>\n",
       "  <tbody>\n",
       "    <tr>\n",
       "      <th>Санкт-Петербург</th>\n",
       "      <td>9010</td>\n",
       "      <td>111862.880141</td>\n",
       "    </tr>\n",
       "    <tr>\n",
       "      <th>Всеволожск</th>\n",
       "      <td>243</td>\n",
       "      <td>67490.026248</td>\n",
       "    </tr>\n",
       "    <tr>\n",
       "      <th>Пушкин</th>\n",
       "      <td>208</td>\n",
       "      <td>103438.469933</td>\n",
       "    </tr>\n",
       "    <tr>\n",
       "      <th>посёлок Шушары</th>\n",
       "      <td>198</td>\n",
       "      <td>79252.797299</td>\n",
       "    </tr>\n",
       "    <tr>\n",
       "      <th>Колпино</th>\n",
       "      <td>191</td>\n",
       "      <td>75701.567454</td>\n",
       "    </tr>\n",
       "    <tr>\n",
       "      <th>посёлок Мурино</th>\n",
       "      <td>163</td>\n",
       "      <td>86637.653258</td>\n",
       "    </tr>\n",
       "    <tr>\n",
       "      <th>Петергоф</th>\n",
       "      <td>136</td>\n",
       "      <td>84417.953855</td>\n",
       "    </tr>\n",
       "    <tr>\n",
       "      <th>Гатчина</th>\n",
       "      <td>131</td>\n",
       "      <td>69856.053329</td>\n",
       "    </tr>\n",
       "    <tr>\n",
       "      <th>посёлок Парголово</th>\n",
       "      <td>125</td>\n",
       "      <td>90894.520708</td>\n",
       "    </tr>\n",
       "    <tr>\n",
       "      <th>Сестрорецк</th>\n",
       "      <td>115</td>\n",
       "      <td>101930.926562</td>\n",
       "    </tr>\n",
       "  </tbody>\n",
       "</table>\n",
       "</div>"
      ],
      "text/plain": [
       "                        count           mean\n",
       "                  price_meter    price_meter\n",
       "locality_name                               \n",
       "Санкт-Петербург          9010  111862.880141\n",
       "Всеволожск                243   67490.026248\n",
       "Пушкин                    208  103438.469933\n",
       "посёлок Шушары            198   79252.797299\n",
       "Колпино                   191   75701.567454\n",
       "посёлок Мурино            163   86637.653258\n",
       "Петергоф                  136   84417.953855\n",
       "Гатчина                   131   69856.053329\n",
       "посёлок Парголово         125   90894.520708\n",
       "Сестрорецк                115  101930.926562"
      ]
     },
     "execution_count": 78,
     "metadata": {},
     "output_type": "execute_result"
    }
   ],
   "source": [
    "# строим сводную таблицу и сортируем её по количеству\n",
    "top_10 = filtered_data.pivot_table(index='locality_name', values='price_meter', aggfunc=['count', 'mean'])\n",
    "top_10 = top_10.sort_values([('count', 'price_meter')], ascending=False).head(10)\n",
    "top_10"
   ]
  },
  {
   "cell_type": "markdown",
   "metadata": {},
   "source": [
    "В таблице указаны 10 городов с наибольшим количеством объявлений и средняя цена за квадратный метр в этих населённых пунктах."
   ]
  },
  {
   "cell_type": "code",
   "execution_count": 79,
   "metadata": {},
   "outputs": [
    {
     "data": {
      "text/html": [
       "<div>\n",
       "<style scoped>\n",
       "    .dataframe tbody tr th:only-of-type {\n",
       "        vertical-align: middle;\n",
       "    }\n",
       "\n",
       "    .dataframe tbody tr th {\n",
       "        vertical-align: top;\n",
       "    }\n",
       "\n",
       "    .dataframe thead th {\n",
       "        text-align: right;\n",
       "    }\n",
       "</style>\n",
       "<table border=\"1\" class=\"dataframe\">\n",
       "  <thead>\n",
       "    <tr style=\"text-align: right;\">\n",
       "      <th></th>\n",
       "      <th>last_price</th>\n",
       "    </tr>\n",
       "    <tr>\n",
       "      <th>locality_name</th>\n",
       "      <th></th>\n",
       "    </tr>\n",
       "  </thead>\n",
       "  <tbody>\n",
       "    <tr>\n",
       "      <th>Гатчина</th>\n",
       "      <td>3.639428e+06</td>\n",
       "    </tr>\n",
       "    <tr>\n",
       "      <th>Всеволожск</th>\n",
       "      <td>3.832432e+06</td>\n",
       "    </tr>\n",
       "    <tr>\n",
       "      <th>Колпино</th>\n",
       "      <td>3.971307e+06</td>\n",
       "    </tr>\n",
       "    <tr>\n",
       "      <th>посёлок Мурино</th>\n",
       "      <td>4.116882e+06</td>\n",
       "    </tr>\n",
       "    <tr>\n",
       "      <th>посёлок Шушары</th>\n",
       "      <td>4.274631e+06</td>\n",
       "    </tr>\n",
       "    <tr>\n",
       "      <th>Петергоф</th>\n",
       "      <td>4.484000e+06</td>\n",
       "    </tr>\n",
       "    <tr>\n",
       "      <th>посёлок Парголово</th>\n",
       "      <td>4.564528e+06</td>\n",
       "    </tr>\n",
       "    <tr>\n",
       "      <th>Пушкин</th>\n",
       "      <td>6.258426e+06</td>\n",
       "    </tr>\n",
       "    <tr>\n",
       "      <th>Сестрорецк</th>\n",
       "      <td>6.292861e+06</td>\n",
       "    </tr>\n",
       "    <tr>\n",
       "      <th>Санкт-Петербург</th>\n",
       "      <td>7.530019e+06</td>\n",
       "    </tr>\n",
       "  </tbody>\n",
       "</table>\n",
       "</div>"
      ],
      "text/plain": [
       "                     last_price\n",
       "locality_name                  \n",
       "Гатчина            3.639428e+06\n",
       "Всеволожск         3.832432e+06\n",
       "Колпино            3.971307e+06\n",
       "посёлок Мурино     4.116882e+06\n",
       "посёлок Шушары     4.274631e+06\n",
       "Петергоф           4.484000e+06\n",
       "посёлок Парголово  4.564528e+06\n",
       "Пушкин             6.258426e+06\n",
       "Сестрорецк         6.292861e+06\n",
       "Санкт-Петербург    7.530019e+06"
      ]
     },
     "execution_count": 79,
     "metadata": {},
     "output_type": "execute_result"
    }
   ],
   "source": [
    "# построим сводную таблицу по всем населённым пунктам и посчитаем среднюю стоимость жилья\n",
    "top_list = top_10.reset_index()['locality_name']\n",
    "mean_last_price = filtered_data.pivot_table(index='locality_name', values='last_price')\n",
    "# из получившейся таблицы выберем только населённые пункты, которые вошли в топ 10 по количеству объявлений\n",
    "mean_last_price.query('locality_name in @top_list').sort_values(['last_price'])"
   ]
  },
  {
   "cell_type": "markdown",
   "metadata": {},
   "source": [
    "По таблице видно, что самая высокая средняя стоимость жилья - в Санкт-Петербурге (примерно 7,5 миллионов), а самая низкая средняя цена в Выборге (примерно 3,2 миллионов). "
   ]
  },
  {
   "cell_type": "markdown",
   "metadata": {},
   "source": [
    "### Квартиры в Санкт-Петербурге\n",
    "\n",
    "Рассмотрим квартиры в Санкт-Петербурге. Необходимо выяснить, какая область входит в центр. "
   ]
  },
  {
   "cell_type": "code",
   "execution_count": 80,
   "metadata": {},
   "outputs": [],
   "source": [
    "# сделаем новую таблицу по Санкт-Петербургу\n",
    "data_spb = filtered_data.query('locality_name == \\'Санкт-Петербург\\'')"
   ]
  },
  {
   "cell_type": "code",
   "execution_count": 81,
   "metadata": {},
   "outputs": [],
   "source": [
    "# создадим новый столбец с расстоянием до центра в километрах\n",
    "data_spb['cityCenters_km'] = (data_spb['cityCenters_nearest'] / 1000).round()"
   ]
  },
  {
   "cell_type": "code",
   "execution_count": 82,
   "metadata": {},
   "outputs": [
    {
     "data": {
      "text/html": [
       "<div>\n",
       "<style scoped>\n",
       "    .dataframe tbody tr th:only-of-type {\n",
       "        vertical-align: middle;\n",
       "    }\n",
       "\n",
       "    .dataframe tbody tr th {\n",
       "        vertical-align: top;\n",
       "    }\n",
       "\n",
       "    .dataframe thead th {\n",
       "        text-align: right;\n",
       "    }\n",
       "</style>\n",
       "<table border=\"1\" class=\"dataframe\">\n",
       "  <thead>\n",
       "    <tr style=\"text-align: right;\">\n",
       "      <th></th>\n",
       "      <th>cityCenters_km</th>\n",
       "      <th>last_price</th>\n",
       "    </tr>\n",
       "  </thead>\n",
       "  <tbody>\n",
       "    <tr>\n",
       "      <th>0</th>\n",
       "      <td>0.0</td>\n",
       "      <td>1.585264e+07</td>\n",
       "    </tr>\n",
       "    <tr>\n",
       "      <th>1</th>\n",
       "      <td>1.0</td>\n",
       "      <td>1.551413e+07</td>\n",
       "    </tr>\n",
       "    <tr>\n",
       "      <th>2</th>\n",
       "      <td>2.0</td>\n",
       "      <td>1.387114e+07</td>\n",
       "    </tr>\n",
       "    <tr>\n",
       "      <th>3</th>\n",
       "      <td>3.0</td>\n",
       "      <td>1.124776e+07</td>\n",
       "    </tr>\n",
       "    <tr>\n",
       "      <th>4</th>\n",
       "      <td>4.0</td>\n",
       "      <td>1.149130e+07</td>\n",
       "    </tr>\n",
       "    <tr>\n",
       "      <th>5</th>\n",
       "      <td>5.0</td>\n",
       "      <td>1.295233e+07</td>\n",
       "    </tr>\n",
       "    <tr>\n",
       "      <th>6</th>\n",
       "      <td>6.0</td>\n",
       "      <td>1.250801e+07</td>\n",
       "    </tr>\n",
       "    <tr>\n",
       "      <th>7</th>\n",
       "      <td>7.0</td>\n",
       "      <td>1.162031e+07</td>\n",
       "    </tr>\n",
       "    <tr>\n",
       "      <th>8</th>\n",
       "      <td>8.0</td>\n",
       "      <td>9.752167e+06</td>\n",
       "    </tr>\n",
       "    <tr>\n",
       "      <th>9</th>\n",
       "      <td>9.0</td>\n",
       "      <td>7.380961e+06</td>\n",
       "    </tr>\n",
       "    <tr>\n",
       "      <th>10</th>\n",
       "      <td>10.0</td>\n",
       "      <td>6.715261e+06</td>\n",
       "    </tr>\n",
       "    <tr>\n",
       "      <th>11</th>\n",
       "      <td>11.0</td>\n",
       "      <td>6.235228e+06</td>\n",
       "    </tr>\n",
       "    <tr>\n",
       "      <th>12</th>\n",
       "      <td>12.0</td>\n",
       "      <td>6.024914e+06</td>\n",
       "    </tr>\n",
       "    <tr>\n",
       "      <th>13</th>\n",
       "      <td>13.0</td>\n",
       "      <td>6.179982e+06</td>\n",
       "    </tr>\n",
       "    <tr>\n",
       "      <th>14</th>\n",
       "      <td>14.0</td>\n",
       "      <td>5.598537e+06</td>\n",
       "    </tr>\n",
       "    <tr>\n",
       "      <th>15</th>\n",
       "      <td>15.0</td>\n",
       "      <td>5.949652e+06</td>\n",
       "    </tr>\n",
       "    <tr>\n",
       "      <th>16</th>\n",
       "      <td>16.0</td>\n",
       "      <td>5.424732e+06</td>\n",
       "    </tr>\n",
       "    <tr>\n",
       "      <th>17</th>\n",
       "      <td>17.0</td>\n",
       "      <td>5.431354e+06</td>\n",
       "    </tr>\n",
       "    <tr>\n",
       "      <th>18</th>\n",
       "      <td>18.0</td>\n",
       "      <td>4.984852e+06</td>\n",
       "    </tr>\n",
       "    <tr>\n",
       "      <th>19</th>\n",
       "      <td>19.0</td>\n",
       "      <td>5.018272e+06</td>\n",
       "    </tr>\n",
       "    <tr>\n",
       "      <th>20</th>\n",
       "      <td>20.0</td>\n",
       "      <td>4.656429e+06</td>\n",
       "    </tr>\n",
       "    <tr>\n",
       "      <th>21</th>\n",
       "      <td>21.0</td>\n",
       "      <td>5.219627e+06</td>\n",
       "    </tr>\n",
       "    <tr>\n",
       "      <th>22</th>\n",
       "      <td>22.0</td>\n",
       "      <td>5.393951e+06</td>\n",
       "    </tr>\n",
       "    <tr>\n",
       "      <th>23</th>\n",
       "      <td>23.0</td>\n",
       "      <td>5.159942e+06</td>\n",
       "    </tr>\n",
       "    <tr>\n",
       "      <th>24</th>\n",
       "      <td>24.0</td>\n",
       "      <td>4.907500e+06</td>\n",
       "    </tr>\n",
       "    <tr>\n",
       "      <th>25</th>\n",
       "      <td>25.0</td>\n",
       "      <td>4.267500e+06</td>\n",
       "    </tr>\n",
       "    <tr>\n",
       "      <th>26</th>\n",
       "      <td>26.0</td>\n",
       "      <td>4.162600e+06</td>\n",
       "    </tr>\n",
       "    <tr>\n",
       "      <th>27</th>\n",
       "      <td>27.0</td>\n",
       "      <td>1.435000e+07</td>\n",
       "    </tr>\n",
       "    <tr>\n",
       "      <th>28</th>\n",
       "      <td>28.0</td>\n",
       "      <td>7.600000e+06</td>\n",
       "    </tr>\n",
       "    <tr>\n",
       "      <th>29</th>\n",
       "      <td>29.0</td>\n",
       "      <td>4.530000e+06</td>\n",
       "    </tr>\n",
       "  </tbody>\n",
       "</table>\n",
       "</div>"
      ],
      "text/plain": [
       "    cityCenters_km    last_price\n",
       "0              0.0  1.585264e+07\n",
       "1              1.0  1.551413e+07\n",
       "2              2.0  1.387114e+07\n",
       "3              3.0  1.124776e+07\n",
       "4              4.0  1.149130e+07\n",
       "5              5.0  1.295233e+07\n",
       "6              6.0  1.250801e+07\n",
       "7              7.0  1.162031e+07\n",
       "8              8.0  9.752167e+06\n",
       "9              9.0  7.380961e+06\n",
       "10            10.0  6.715261e+06\n",
       "11            11.0  6.235228e+06\n",
       "12            12.0  6.024914e+06\n",
       "13            13.0  6.179982e+06\n",
       "14            14.0  5.598537e+06\n",
       "15            15.0  5.949652e+06\n",
       "16            16.0  5.424732e+06\n",
       "17            17.0  5.431354e+06\n",
       "18            18.0  4.984852e+06\n",
       "19            19.0  5.018272e+06\n",
       "20            20.0  4.656429e+06\n",
       "21            21.0  5.219627e+06\n",
       "22            22.0  5.393951e+06\n",
       "23            23.0  5.159942e+06\n",
       "24            24.0  4.907500e+06\n",
       "25            25.0  4.267500e+06\n",
       "26            26.0  4.162600e+06\n",
       "27            27.0  1.435000e+07\n",
       "28            28.0  7.600000e+06\n",
       "29            29.0  4.530000e+06"
      ]
     },
     "execution_count": 82,
     "metadata": {},
     "output_type": "execute_result"
    }
   ],
   "source": [
    "# посчитаем цену для каждого километра\n",
    "data_spb_meters = data_spb.pivot_table(index='cityCenters_km', values='last_price').reset_index()\n",
    "data_spb_meters"
   ]
  },
  {
   "cell_type": "code",
   "execution_count": 83,
   "metadata": {},
   "outputs": [
    {
     "data": {
      "image/png": "[encoded data removed]",
      "text/plain": [
       "<Figure size 432x288 with 1 Axes>"
      ]
     },
     "metadata": {
      "needs_background": "light"
     },
     "output_type": "display_data"
    }
   ],
   "source": [
    "# построим график зависимости цены от удалённости\n",
    "data_spb_meters.plot(x='cityCenters_km', y='last_price')\n",
    "plt.title('График зависимости цены от удалённости от центра')\n",
    "plt.xlabel('Удалённость от центра, км')\n",
    "plt.ylabel('Стоимость квартиры')\n",
    "plt.show()"
   ]
  },
  {
   "cell_type": "markdown",
   "metadata": {},
   "source": [
    "По графику видно, что цена на жильё окончательно падает примерно после 6 километров. Пусть радиусом центра города будет *6 километров*. "
   ]
  },
  {
   "cell_type": "markdown",
   "metadata": {},
   "source": [
    "### Сегмент квартир в центре города\n",
    "\n",
    "Сначала выделим данные, которые относятся только к центру города - квартиры, которые надохятся от центра на расстоянии не более 6 километров."
   ]
  },
  {
   "cell_type": "code",
   "execution_count": 84,
   "metadata": {},
   "outputs": [],
   "source": [
    "# сделаем таблицу с данными о центре Санкт-Петербурга\n",
    "data_spb_center = data_spb.query('cityCenters_km <= 6')"
   ]
  },
  {
   "cell_type": "markdown",
   "metadata": {},
   "source": [
    "Рассмотрим такие параметры, как площадь квартиры, цена, число комнат и высота потолков. "
   ]
  },
  {
   "cell_type": "code",
   "execution_count": 85,
   "metadata": {
    "scrolled": true
   },
   "outputs": [
    {
     "data": {
      "image/png": "[encoded data removed]",
      "text/plain": [
       "<Figure size 432x288 with 1 Axes>"
      ]
     },
     "metadata": {
      "needs_background": "light"
     },
     "output_type": "display_data"
    },
    {
     "data": {
      "image/png": "[encoded data removed]",
      "text/plain": [
       "<Figure size 432x288 with 1 Axes>"
      ]
     },
     "metadata": {
      "needs_background": "light"
     },
     "output_type": "display_data"
    },
    {
     "data": {
      "image/png": "[encoded data removed]",
      "text/plain": [
       "<Figure size 432x288 with 1 Axes>"
      ]
     },
     "metadata": {
      "needs_background": "light"
     },
     "output_type": "display_data"
    },
    {
     "data": {
      "image/png": "[encoded data removed]",
      "text/plain": [
       "<Figure size 432x288 with 1 Axes>"
      ]
     },
     "metadata": {
      "needs_background": "light"
     },
     "output_type": "display_data"
    }
   ],
   "source": [
    "# цикл, который построит гистограммы по нужнным параметрам\n",
    "for col in ['total_area', 'last_price', 'rooms', 'ceiling_height']:\n",
    "    data_spb[col].plot(kind='hist', alpha=0.8, title=col, bins=20)\n",
    "    data_spb_center[col].plot(kind='hist', alpha = 0.8, bins=20)\n",
    "    plt.title(f'Гистограмма по столбцу {col}')\n",
    "    plt.xlabel(col)\n",
    "    plt.ylabel('Количество квартир')\n",
    "    plt.show()"
   ]
  },
  {
   "cell_type": "markdown",
   "metadata": {},
   "source": [
    "Распределение *площадей квартир* в основнойм такое же что в центре, что во всем городе. Однако квартир с площадью до 30 квадратных метров очень мало. Это объясняется тем, что в центре не так много новостроек, как в других частях города, поэтому средняя площадь в целом больше.  \n",
    "\n",
    "*Цена квартир* распределяется в целом так же, их в принципе немного, но дешевых всё так же больше, чем дорогих. \n",
    "\n",
    "Распределение по *количеству комнат* тоже отличается немногим. Однако однокомнатных квартир в центре города меньше, чем трёх комнатных, в отличии от всего города. Однокомнатные и друх комнатные квартиры преобладают.\n",
    "\n",
    "Распределение по *высоте потолков* в центре сильно отличается от потолков во всём городе. В центре города намного меньше низких потолков, чем высоких. Ведь раньше делали высокие потолки. Во всем же городе много новостроек со стандартными низкими потолками, поэтому они преобладают."
   ]
  },
  {
   "cell_type": "markdown",
   "metadata": {},
   "source": [
    "Теперь рассмотрим факторы, которые могут влиять на стоимост квартиры: число комнат, этаж, удалённость от центра города, дата размещения объявления."
   ]
  },
  {
   "cell_type": "code",
   "execution_count": 86,
   "metadata": {
    "scrolled": false
   },
   "outputs": [
    {
     "data": {
      "image/png": "[encoded data removed]",
      "text/plain": [
       "<Figure size 432x288 with 1 Axes>"
      ]
     },
     "metadata": {
      "needs_background": "light"
     },
     "output_type": "display_data"
    },
    {
     "name": "stdout",
     "output_type": "stream",
     "text": [
      "Зависимость от rooms: 0.538\n"
     ]
    },
    {
     "data": {
      "image/png": "[encoded data removed]",
      "text/plain": [
       "<Figure size 432x288 with 1 Axes>"
      ]
     },
     "metadata": {
      "needs_background": "light"
     },
     "output_type": "display_data"
    },
    {
     "name": "stdout",
     "output_type": "stream",
     "text": [
      "Зависимость от rooms: 0.468\n"
     ]
    },
    {
     "data": {
      "image/png": "[encoded data removed]",
      "text/plain": [
       "<Figure size 432x288 with 1 Axes>"
      ]
     },
     "metadata": {
      "needs_background": "light"
     },
     "output_type": "display_data"
    },
    {
     "name": "stdout",
     "output_type": "stream",
     "text": [
      "Зависимость от cityCenters_nearest: -0.385\n"
     ]
    },
    {
     "data": {
      "image/png": "[encoded data removed]",
      "text/plain": [
       "<Figure size 432x288 with 1 Axes>"
      ]
     },
     "metadata": {
      "needs_background": "light"
     },
     "output_type": "display_data"
    },
    {
     "name": "stdout",
     "output_type": "stream",
     "text": [
      "Зависимость от cityCenters_nearest: -0.053\n"
     ]
    },
    {
     "data": {
      "image/png": "[encoded data removed]",
      "text/plain": [
       "<Figure size 432x288 with 1 Axes>"
      ]
     },
     "metadata": {
      "needs_background": "light"
     },
     "output_type": "display_data"
    },
    {
     "name": "stdout",
     "output_type": "stream",
     "text": [
      "Зависимость от year_exposition: -0.059\n"
     ]
    },
    {
     "data": {
      "image/png": "[encoded data removed]",
      "text/plain": [
       "<Figure size 432x288 with 1 Axes>"
      ]
     },
     "metadata": {
      "needs_background": "light"
     },
     "output_type": "display_data"
    },
    {
     "name": "stdout",
     "output_type": "stream",
     "text": [
      "Зависимость от year_exposition: -0.007\n"
     ]
    }
   ],
   "source": [
    "# строим диаграммы рассеяния\n",
    "# используем цикл по нужным столбцам\n",
    "for col in ['rooms', 'cityCenters_nearest', 'year_exposition']:\n",
    "    data_spb.plot(x=col, y='last_price', kind='scatter', alpha=0.1, title='Санкт-Петербург')\n",
    "    plt.show()\n",
    "    print('Зависимость от {}: {:.3f}'.format(col, data_spb['last_price'].corr(data_spb[col])))\n",
    "    data_spb_center.plot(x=col, y='last_price', kind='scatter', alpha=0.1, title='Центр Санкт-Петербурга (6 км) ')\n",
    "    plt.show()\n",
    "    print('Зависимость от {}: {:.3f}'.format(col, data_spb_center['last_price'].corr(data_spb_center[col])))"
   ]
  },
  {
   "cell_type": "code",
   "execution_count": 87,
   "metadata": {},
   "outputs": [
    {
     "data": {
      "text/html": [
       "<div>\n",
       "<style scoped>\n",
       "    .dataframe tbody tr th:only-of-type {\n",
       "        vertical-align: middle;\n",
       "    }\n",
       "\n",
       "    .dataframe tbody tr th {\n",
       "        vertical-align: top;\n",
       "    }\n",
       "\n",
       "    .dataframe thead tr th {\n",
       "        text-align: left;\n",
       "    }\n",
       "\n",
       "    .dataframe thead tr:last-of-type th {\n",
       "        text-align: right;\n",
       "    }\n",
       "</style>\n",
       "<table border=\"1\" class=\"dataframe\">\n",
       "  <thead>\n",
       "    <tr>\n",
       "      <th></th>\n",
       "      <th>median</th>\n",
       "    </tr>\n",
       "    <tr>\n",
       "      <th></th>\n",
       "      <th>last_price</th>\n",
       "    </tr>\n",
       "    <tr>\n",
       "      <th>floor_group</th>\n",
       "      <th></th>\n",
       "    </tr>\n",
       "  </thead>\n",
       "  <tbody>\n",
       "    <tr>\n",
       "      <th>другой</th>\n",
       "      <td>5680000</td>\n",
       "    </tr>\n",
       "    <tr>\n",
       "      <th>первый</th>\n",
       "      <td>4999500</td>\n",
       "    </tr>\n",
       "    <tr>\n",
       "      <th>последний</th>\n",
       "      <td>5775000</td>\n",
       "    </tr>\n",
       "  </tbody>\n",
       "</table>\n",
       "</div>"
      ],
      "text/plain": [
       "                median\n",
       "            last_price\n",
       "floor_group           \n",
       "другой         5680000\n",
       "первый         4999500\n",
       "последний      5775000"
      ]
     },
     "execution_count": 87,
     "metadata": {},
     "output_type": "execute_result"
    }
   ],
   "source": [
    "# проанализируем зависимость от типа этажа о всём городе\n",
    "data_spb.pivot_table(index=['floor_group'], values='last_price', aggfunc=['median'])"
   ]
  },
  {
   "cell_type": "code",
   "execution_count": 88,
   "metadata": {},
   "outputs": [
    {
     "data": {
      "text/html": [
       "<div>\n",
       "<style scoped>\n",
       "    .dataframe tbody tr th:only-of-type {\n",
       "        vertical-align: middle;\n",
       "    }\n",
       "\n",
       "    .dataframe tbody tr th {\n",
       "        vertical-align: top;\n",
       "    }\n",
       "\n",
       "    .dataframe thead tr th {\n",
       "        text-align: left;\n",
       "    }\n",
       "\n",
       "    .dataframe thead tr:last-of-type th {\n",
       "        text-align: right;\n",
       "    }\n",
       "</style>\n",
       "<table border=\"1\" class=\"dataframe\">\n",
       "  <thead>\n",
       "    <tr>\n",
       "      <th></th>\n",
       "      <th>median</th>\n",
       "    </tr>\n",
       "    <tr>\n",
       "      <th></th>\n",
       "      <th>last_price</th>\n",
       "    </tr>\n",
       "    <tr>\n",
       "      <th>floor_group</th>\n",
       "      <th></th>\n",
       "    </tr>\n",
       "  </thead>\n",
       "  <tbody>\n",
       "    <tr>\n",
       "      <th>другой</th>\n",
       "      <td>9900000</td>\n",
       "    </tr>\n",
       "    <tr>\n",
       "      <th>первый</th>\n",
       "      <td>6900000</td>\n",
       "    </tr>\n",
       "    <tr>\n",
       "      <th>последний</th>\n",
       "      <td>9350000</td>\n",
       "    </tr>\n",
       "  </tbody>\n",
       "</table>\n",
       "</div>"
      ],
      "text/plain": [
       "                median\n",
       "            last_price\n",
       "floor_group           \n",
       "другой         9900000\n",
       "первый         6900000\n",
       "последний      9350000"
      ]
     },
     "execution_count": 88,
     "metadata": {},
     "output_type": "execute_result"
    }
   ],
   "source": [
    "# проанализируем зависимость от типа этажа о центре города\n",
    "data_spb_center.pivot_table(index=['floor_group'], values='last_price', aggfunc=['median'])"
   ]
  },
  {
   "cell_type": "markdown",
   "metadata": {},
   "source": [
    "Сразу стоит отметить, что многие выбросы на графиках принадлежат квартирам из центра города. В центре чаще встречаются аномальные значения цен, количества комнат и т.д.\n",
    "\n",
    "В целом, зависимость от этого фактора одинакова, что в центре города, что во всём городе. Это видно и по графикам и по рассчитаным коэффициентам корреляции. C этажами происходит то же самое, самая низкая медианная цена за квартиру у первого этажа, а самая высокая - у других этажей."
   ]
  },
  {
   "cell_type": "markdown",
   "metadata": {},
   "source": [
    "## Общий вывод"
   ]
  },
  {
   "cell_type": "markdown",
   "metadata": {},
   "source": [
    "В ходе анализа выяснилось, что самыми влиятельными факторами на стоимость квартиры являются удалённость от центра города и общая площадь квартиры. Менее влиятельными, но не менее важными факторами являются количество комнат. Цена на квартиры на первые этаже в среднем меньше, чем на квартиры на других этажах.\n",
    "\n",
    "Аномальные значения по городу Санкт-Петербургу соответствуют в основном центру города. "
   ]
  }
 ],
 "metadata": {
  "ExecuteTimeLog": [
   {
    "duration": 822,
    "start_time": "2021-12-31T10:57:22.395Z"
   },
   {
    "duration": 139,
    "start_time": "2021-12-31T10:59:46.152Z"
   },
   {
    "duration": 79,
    "start_time": "2021-12-31T11:00:32.632Z"
   },
   {
    "duration": 813,
    "start_time": "2021-12-31T11:01:00.863Z"
   },
   {
    "duration": 143,
    "start_time": "2021-12-31T11:01:04.469Z"
   },
   {
    "duration": 127,
    "start_time": "2021-12-31T11:02:27.386Z"
   },
   {
    "duration": 443,
    "start_time": "2022-01-02T11:50:20.790Z"
   },
   {
    "duration": 914,
    "start_time": "2022-01-02T11:50:26.969Z"
   },
   {
    "duration": 30,
    "start_time": "2022-01-02T11:50:29.178Z"
   },
   {
    "duration": 461,
    "start_time": "2022-01-08T13:41:31.011Z"
   },
   {
    "duration": 824,
    "start_time": "2022-01-08T13:41:43.644Z"
   },
   {
    "duration": 30,
    "start_time": "2022-01-08T13:41:44.470Z"
   },
   {
    "duration": 20,
    "start_time": "2022-01-08T13:41:44.503Z"
   },
   {
    "duration": 19,
    "start_time": "2022-01-08T13:42:45.039Z"
   },
   {
    "duration": 10,
    "start_time": "2022-01-08T13:42:56.861Z"
   },
   {
    "duration": 10,
    "start_time": "2022-01-08T13:43:38.117Z"
   },
   {
    "duration": 30,
    "start_time": "2022-01-08T13:44:00.519Z"
   },
   {
    "duration": 6,
    "start_time": "2022-01-08T13:44:33.910Z"
   },
   {
    "duration": 31,
    "start_time": "2022-01-08T13:44:41.701Z"
   },
   {
    "duration": 6,
    "start_time": "2022-01-08T13:44:51.743Z"
   },
   {
    "duration": 30,
    "start_time": "2022-01-08T14:09:38.977Z"
   },
   {
    "duration": 40,
    "start_time": "2022-01-08T14:10:14.161Z"
   },
   {
    "duration": 35,
    "start_time": "2022-01-08T14:10:20.654Z"
   },
   {
    "duration": 8,
    "start_time": "2022-01-08T14:10:31.941Z"
   },
   {
    "duration": 6,
    "start_time": "2022-01-08T14:10:37.203Z"
   },
   {
    "duration": 6,
    "start_time": "2022-01-08T14:10:52.415Z"
   },
   {
    "duration": 7,
    "start_time": "2022-01-08T14:11:36.467Z"
   },
   {
    "duration": 10,
    "start_time": "2022-01-08T14:11:51.280Z"
   },
   {
    "duration": 13,
    "start_time": "2022-01-08T14:12:46.177Z"
   },
   {
    "duration": 9,
    "start_time": "2022-01-08T14:12:51.471Z"
   },
   {
    "duration": 4,
    "start_time": "2022-01-08T14:14:06.969Z"
   },
   {
    "duration": 35,
    "start_time": "2022-01-08T14:15:46.078Z"
   },
   {
    "duration": 16,
    "start_time": "2022-01-08T14:16:07.589Z"
   },
   {
    "duration": 10,
    "start_time": "2022-01-08T14:17:39.158Z"
   },
   {
    "duration": 339,
    "start_time": "2022-01-08T14:17:45.330Z"
   },
   {
    "duration": 10,
    "start_time": "2022-01-08T14:17:51.099Z"
   },
   {
    "duration": 302,
    "start_time": "2022-01-08T14:18:17.145Z"
   },
   {
    "duration": 19,
    "start_time": "2022-01-08T14:18:27.079Z"
   },
   {
    "duration": 7,
    "start_time": "2022-01-08T14:18:35.154Z"
   },
   {
    "duration": 6,
    "start_time": "2022-01-08T14:18:39.268Z"
   },
   {
    "duration": 16,
    "start_time": "2022-01-08T14:55:58.885Z"
   },
   {
    "duration": 6,
    "start_time": "2022-01-08T14:58:51.600Z"
   },
   {
    "duration": 48,
    "start_time": "2022-01-08T15:01:20.705Z"
   },
   {
    "duration": 50,
    "start_time": "2022-01-08T15:01:30.136Z"
   },
   {
    "duration": 51,
    "start_time": "2022-01-08T15:01:40.450Z"
   },
   {
    "duration": 27,
    "start_time": "2022-01-08T15:06:30.322Z"
   },
   {
    "duration": 84,
    "start_time": "2022-01-08T15:11:39.927Z"
   },
   {
    "duration": 103,
    "start_time": "2022-01-08T15:25:55.505Z"
   },
   {
    "duration": 136,
    "start_time": "2022-01-08T15:26:11.271Z"
   },
   {
    "duration": 104,
    "start_time": "2022-01-08T15:26:15.060Z"
   },
   {
    "duration": 91,
    "start_time": "2022-01-08T15:26:42.025Z"
   },
   {
    "duration": 1377,
    "start_time": "2022-01-08T15:26:50.384Z"
   },
   {
    "duration": 1137,
    "start_time": "2022-01-08T15:27:54.388Z"
   },
   {
    "duration": 287,
    "start_time": "2022-01-08T15:30:42.437Z"
   },
   {
    "duration": 286,
    "start_time": "2022-01-08T15:31:04.293Z"
   },
   {
    "duration": 1197,
    "start_time": "2022-01-08T15:37:21.951Z"
   },
   {
    "duration": 1104,
    "start_time": "2022-01-08T15:41:48.605Z"
   },
   {
    "duration": 1368,
    "start_time": "2022-01-08T15:42:45.948Z"
   },
   {
    "duration": 7,
    "start_time": "2022-01-08T15:43:54.709Z"
   },
   {
    "duration": 39,
    "start_time": "2022-01-08T15:45:49.737Z"
   },
   {
    "duration": 17,
    "start_time": "2022-01-08T15:45:59.794Z"
   },
   {
    "duration": 14,
    "start_time": "2022-01-08T15:46:07.548Z"
   },
   {
    "duration": 296,
    "start_time": "2022-01-08T15:49:03.528Z"
   },
   {
    "duration": 334,
    "start_time": "2022-01-08T15:50:21.786Z"
   },
   {
    "duration": 408,
    "start_time": "2022-01-08T15:50:30.170Z"
   },
   {
    "duration": 293,
    "start_time": "2022-01-08T15:50:40.106Z"
   },
   {
    "duration": 288,
    "start_time": "2022-01-08T15:53:01.441Z"
   },
   {
    "duration": 14,
    "start_time": "2022-01-08T15:54:04.543Z"
   },
   {
    "duration": 290,
    "start_time": "2022-01-08T15:54:19.112Z"
   },
   {
    "duration": 17,
    "start_time": "2022-01-08T15:57:24.078Z"
   },
   {
    "duration": 14,
    "start_time": "2022-01-08T15:57:28.030Z"
   },
   {
    "duration": 13,
    "start_time": "2022-01-08T16:05:05.730Z"
   },
   {
    "duration": 13,
    "start_time": "2022-01-08T16:05:23.577Z"
   },
   {
    "duration": 277,
    "start_time": "2022-01-08T16:08:27.051Z"
   },
   {
    "duration": 8,
    "start_time": "2022-01-08T16:10:07.499Z"
   },
   {
    "duration": 5,
    "start_time": "2022-01-08T16:11:07.510Z"
   },
   {
    "duration": 7,
    "start_time": "2022-01-08T16:11:17.047Z"
   },
   {
    "duration": 358,
    "start_time": "2022-01-08T18:04:44.813Z"
   },
   {
    "duration": 648,
    "start_time": "2022-01-08T18:04:49.348Z"
   },
   {
    "duration": 18,
    "start_time": "2022-01-08T18:04:49.998Z"
   },
   {
    "duration": 10,
    "start_time": "2022-01-08T18:04:50.018Z"
   },
   {
    "duration": 3,
    "start_time": "2022-01-08T18:04:50.030Z"
   },
   {
    "duration": 6,
    "start_time": "2022-01-08T18:04:50.035Z"
   },
   {
    "duration": 11,
    "start_time": "2022-01-08T18:04:50.043Z"
   },
   {
    "duration": 3,
    "start_time": "2022-01-08T18:04:50.055Z"
   },
   {
    "duration": 37,
    "start_time": "2022-01-08T18:04:50.060Z"
   },
   {
    "duration": 34,
    "start_time": "2022-01-08T18:04:50.099Z"
   },
   {
    "duration": 24,
    "start_time": "2022-01-08T18:04:50.135Z"
   },
   {
    "duration": 8,
    "start_time": "2022-01-08T18:04:50.161Z"
   },
   {
    "duration": 5,
    "start_time": "2022-01-08T18:04:50.170Z"
   },
   {
    "duration": 10,
    "start_time": "2022-01-08T18:04:50.176Z"
   },
   {
    "duration": 7,
    "start_time": "2022-01-08T18:05:48.071Z"
   },
   {
    "duration": 6,
    "start_time": "2022-01-08T18:06:33.821Z"
   },
   {
    "duration": 6,
    "start_time": "2022-01-08T18:06:44.092Z"
   },
   {
    "duration": 7,
    "start_time": "2022-01-08T18:06:49.262Z"
   },
   {
    "duration": 5,
    "start_time": "2022-01-08T18:07:12.347Z"
   },
   {
    "duration": 5,
    "start_time": "2022-01-08T18:10:09.430Z"
   },
   {
    "duration": 4,
    "start_time": "2022-01-08T18:10:53.009Z"
   },
   {
    "duration": 5,
    "start_time": "2022-01-08T18:10:58.713Z"
   },
   {
    "duration": 8,
    "start_time": "2022-01-08T18:18:38.640Z"
   },
   {
    "duration": 48,
    "start_time": "2022-01-08T18:18:49.897Z"
   },
   {
    "duration": 3,
    "start_time": "2022-01-08T18:20:02.218Z"
   },
   {
    "duration": 1004,
    "start_time": "2022-01-08T18:35:03.889Z"
   },
   {
    "duration": 8,
    "start_time": "2022-01-08T18:35:21.443Z"
   },
   {
    "duration": 11,
    "start_time": "2022-01-08T18:35:30.867Z"
   },
   {
    "duration": 6,
    "start_time": "2022-01-08T18:36:42.563Z"
   },
   {
    "duration": 4,
    "start_time": "2022-01-08T18:36:56.040Z"
   },
   {
    "duration": 318,
    "start_time": "2022-01-08T18:45:25.870Z"
   },
   {
    "duration": 5,
    "start_time": "2022-01-08T18:45:51.993Z"
   },
   {
    "duration": 7,
    "start_time": "2022-01-08T18:46:04.148Z"
   },
   {
    "duration": 6,
    "start_time": "2022-01-08T18:48:12.137Z"
   },
   {
    "duration": 6,
    "start_time": "2022-01-08T18:49:00.461Z"
   },
   {
    "duration": 5,
    "start_time": "2022-01-08T18:49:16.672Z"
   },
   {
    "duration": 5,
    "start_time": "2022-01-08T18:49:19.578Z"
   },
   {
    "duration": 34,
    "start_time": "2022-01-08T18:49:25.088Z"
   },
   {
    "duration": 5,
    "start_time": "2022-01-08T18:49:40.818Z"
   },
   {
    "duration": 35,
    "start_time": "2022-01-08T18:49:43.678Z"
   },
   {
    "duration": 6,
    "start_time": "2022-01-08T18:50:03.079Z"
   },
   {
    "duration": 363,
    "start_time": "2022-01-09T09:40:40.810Z"
   },
   {
    "duration": 698,
    "start_time": "2022-01-09T09:40:45.382Z"
   },
   {
    "duration": 20,
    "start_time": "2022-01-09T09:40:46.082Z"
   },
   {
    "duration": 4,
    "start_time": "2022-01-09T09:40:46.104Z"
   },
   {
    "duration": 7,
    "start_time": "2022-01-09T09:40:46.110Z"
   },
   {
    "duration": 11,
    "start_time": "2022-01-09T09:40:46.127Z"
   },
   {
    "duration": 8,
    "start_time": "2022-01-09T09:40:46.139Z"
   },
   {
    "duration": 8,
    "start_time": "2022-01-09T09:40:46.149Z"
   },
   {
    "duration": 47,
    "start_time": "2022-01-09T09:40:46.159Z"
   },
   {
    "duration": 22,
    "start_time": "2022-01-09T09:40:46.207Z"
   },
   {
    "duration": 27,
    "start_time": "2022-01-09T09:40:46.231Z"
   },
   {
    "duration": 8,
    "start_time": "2022-01-09T09:40:46.259Z"
   },
   {
    "duration": 11,
    "start_time": "2022-01-09T09:40:46.268Z"
   },
   {
    "duration": 4,
    "start_time": "2022-01-09T09:40:46.281Z"
   },
   {
    "duration": 13,
    "start_time": "2022-01-09T09:40:46.286Z"
   },
   {
    "duration": 27,
    "start_time": "2022-01-09T09:40:46.300Z"
   },
   {
    "duration": 5,
    "start_time": "2022-01-09T09:40:46.328Z"
   },
   {
    "duration": 5,
    "start_time": "2022-01-09T09:40:46.334Z"
   },
   {
    "duration": 5,
    "start_time": "2022-01-09T09:40:46.341Z"
   },
   {
    "duration": 3,
    "start_time": "2022-01-09T09:50:47.751Z"
   },
   {
    "duration": 417,
    "start_time": "2022-01-09T09:52:19.685Z"
   },
   {
    "duration": 435,
    "start_time": "2022-01-09T09:52:25.936Z"
   },
   {
    "duration": 459,
    "start_time": "2022-01-09T09:52:42.223Z"
   },
   {
    "duration": 412,
    "start_time": "2022-01-09T09:53:39.737Z"
   },
   {
    "duration": 406,
    "start_time": "2022-01-09T09:55:05.143Z"
   },
   {
    "duration": 3,
    "start_time": "2022-01-09T10:18:30.591Z"
   },
   {
    "duration": 473,
    "start_time": "2022-01-09T10:19:42.090Z"
   },
   {
    "duration": 3,
    "start_time": "2022-01-09T10:21:06.874Z"
   },
   {
    "duration": 440,
    "start_time": "2022-01-09T10:21:28.326Z"
   },
   {
    "duration": 23,
    "start_time": "2022-01-09T10:21:58.361Z"
   },
   {
    "duration": 870,
    "start_time": "2022-01-10T09:45:11.200Z"
   },
   {
    "duration": 31,
    "start_time": "2022-01-10T09:45:12.073Z"
   },
   {
    "duration": 6,
    "start_time": "2022-01-10T09:45:12.107Z"
   },
   {
    "duration": 7,
    "start_time": "2022-01-10T09:45:12.116Z"
   },
   {
    "duration": 8,
    "start_time": "2022-01-10T09:45:12.125Z"
   },
   {
    "duration": 11,
    "start_time": "2022-01-10T09:45:12.167Z"
   },
   {
    "duration": 10,
    "start_time": "2022-01-10T09:45:12.180Z"
   },
   {
    "duration": 80,
    "start_time": "2022-01-10T09:45:12.193Z"
   },
   {
    "duration": 31,
    "start_time": "2022-01-10T09:45:12.276Z"
   },
   {
    "duration": 62,
    "start_time": "2022-01-10T09:45:12.309Z"
   },
   {
    "duration": 13,
    "start_time": "2022-01-10T09:45:12.373Z"
   },
   {
    "duration": 14,
    "start_time": "2022-01-10T09:45:12.388Z"
   },
   {
    "duration": 10,
    "start_time": "2022-01-10T09:45:12.404Z"
   },
   {
    "duration": 13,
    "start_time": "2022-01-10T09:45:12.416Z"
   },
   {
    "duration": 42,
    "start_time": "2022-01-10T09:45:12.431Z"
   },
   {
    "duration": 8,
    "start_time": "2022-01-10T09:45:12.475Z"
   },
   {
    "duration": 7,
    "start_time": "2022-01-10T09:45:12.486Z"
   },
   {
    "duration": 5,
    "start_time": "2022-01-10T09:45:12.496Z"
   },
   {
    "duration": 881,
    "start_time": "2022-01-10T09:45:12.503Z"
   },
   {
    "duration": 4,
    "start_time": "2022-01-10T09:45:13.386Z"
   },
   {
    "duration": 815,
    "start_time": "2022-01-10T09:45:13.392Z"
   },
   {
    "duration": 4,
    "start_time": "2022-01-10T09:45:14.209Z"
   },
   {
    "duration": 886,
    "start_time": "2022-01-10T09:45:14.217Z"
   },
   {
    "duration": 47,
    "start_time": "2022-01-10T09:45:15.105Z"
   },
   {
    "duration": 44,
    "start_time": "2022-01-10T09:47:55.602Z"
   },
   {
    "duration": 41,
    "start_time": "2022-01-10T09:48:08.188Z"
   },
   {
    "duration": 7,
    "start_time": "2022-01-10T09:57:45.836Z"
   },
   {
    "duration": 17,
    "start_time": "2022-01-10T09:57:49.249Z"
   },
   {
    "duration": 14,
    "start_time": "2022-01-10T09:58:02.550Z"
   },
   {
    "duration": 5,
    "start_time": "2022-01-10T09:58:03.164Z"
   },
   {
    "duration": 16,
    "start_time": "2022-01-10T09:58:03.686Z"
   },
   {
    "duration": 868,
    "start_time": "2022-01-10T09:59:09.417Z"
   },
   {
    "duration": 31,
    "start_time": "2022-01-10T09:59:13.366Z"
   },
   {
    "duration": 7,
    "start_time": "2022-01-10T09:59:19.456Z"
   },
   {
    "duration": 7,
    "start_time": "2022-01-10T09:59:19.846Z"
   },
   {
    "duration": 6,
    "start_time": "2022-01-10T09:59:20.255Z"
   },
   {
    "duration": 14,
    "start_time": "2022-01-10T09:59:20.656Z"
   },
   {
    "duration": 6,
    "start_time": "2022-01-10T09:59:22.044Z"
   },
   {
    "duration": 61,
    "start_time": "2022-01-10T09:59:22.862Z"
   },
   {
    "duration": 29,
    "start_time": "2022-01-10T09:59:25.943Z"
   },
   {
    "duration": 41,
    "start_time": "2022-01-10T09:59:31.671Z"
   },
   {
    "duration": 16,
    "start_time": "2022-01-10T09:59:33.206Z"
   },
   {
    "duration": 6,
    "start_time": "2022-01-10T09:59:33.806Z"
   },
   {
    "duration": 464,
    "start_time": "2022-01-10T10:01:37.920Z"
   },
   {
    "duration": 7,
    "start_time": "2022-01-10T10:02:00.776Z"
   },
   {
    "duration": 19,
    "start_time": "2022-01-10T10:04:04.682Z"
   },
   {
    "duration": 902,
    "start_time": "2022-01-10T10:11:00.547Z"
   },
   {
    "duration": 6,
    "start_time": "2022-01-10T10:13:56.310Z"
   },
   {
    "duration": 329,
    "start_time": "2022-01-10T10:13:56.924Z"
   },
   {
    "duration": 972,
    "start_time": "2022-01-10T10:14:07.056Z"
   },
   {
    "duration": 33,
    "start_time": "2022-01-10T10:14:10.259Z"
   },
   {
    "duration": 7,
    "start_time": "2022-01-10T10:14:12.009Z"
   },
   {
    "duration": 6,
    "start_time": "2022-01-10T10:14:12.203Z"
   },
   {
    "duration": 7,
    "start_time": "2022-01-10T10:14:12.427Z"
   },
   {
    "duration": 15,
    "start_time": "2022-01-10T10:14:12.669Z"
   },
   {
    "duration": 6,
    "start_time": "2022-01-10T10:14:13.066Z"
   },
   {
    "duration": 63,
    "start_time": "2022-01-10T10:14:13.598Z"
   },
   {
    "duration": 29,
    "start_time": "2022-01-10T10:14:14.557Z"
   },
   {
    "duration": 72,
    "start_time": "2022-01-10T10:14:17.055Z"
   },
   {
    "duration": 17,
    "start_time": "2022-01-10T10:14:18.045Z"
   },
   {
    "duration": 7,
    "start_time": "2022-01-10T10:14:19.290Z"
   },
   {
    "duration": 8,
    "start_time": "2022-01-10T10:14:20.217Z"
   },
   {
    "duration": 15,
    "start_time": "2022-01-10T10:14:21.858Z"
   },
   {
    "duration": 11,
    "start_time": "2022-01-10T10:14:25.707Z"
   },
   {
    "duration": 20,
    "start_time": "2022-01-10T10:14:26.083Z"
   },
   {
    "duration": 11,
    "start_time": "2022-01-10T10:14:26.234Z"
   },
   {
    "duration": 11,
    "start_time": "2022-01-10T10:14:26.420Z"
   },
   {
    "duration": 11,
    "start_time": "2022-01-10T10:14:26.644Z"
   },
   {
    "duration": 5,
    "start_time": "2022-01-10T10:14:27.027Z"
   },
   {
    "duration": 840,
    "start_time": "2022-01-10T10:14:27.203Z"
   },
   {
    "duration": 4,
    "start_time": "2022-01-10T10:14:28.046Z"
   },
   {
    "duration": 809,
    "start_time": "2022-01-10T10:14:28.202Z"
   },
   {
    "duration": 3,
    "start_time": "2022-01-10T10:14:29.014Z"
   },
   {
    "duration": 917,
    "start_time": "2022-01-10T10:14:29.021Z"
   },
   {
    "duration": 57,
    "start_time": "2022-01-10T10:14:29.941Z"
   },
   {
    "duration": 169,
    "start_time": "2022-01-10T10:34:26.236Z"
   },
   {
    "duration": 400,
    "start_time": "2022-01-10T10:34:53.162Z"
   },
   {
    "duration": 424,
    "start_time": "2022-01-10T10:35:34.961Z"
   },
   {
    "duration": 272,
    "start_time": "2022-01-10T10:35:51.033Z"
   },
   {
    "duration": 400,
    "start_time": "2022-01-10T10:38:31.005Z"
   },
   {
    "duration": 316,
    "start_time": "2022-01-10T10:38:40.636Z"
   },
   {
    "duration": 273,
    "start_time": "2022-01-10T10:38:48.925Z"
   },
   {
    "duration": 626,
    "start_time": "2022-01-10T10:38:56.500Z"
   },
   {
    "duration": 271,
    "start_time": "2022-01-10T10:39:15.629Z"
   },
   {
    "duration": 416,
    "start_time": "2022-01-10T10:39:23.957Z"
   },
   {
    "duration": 424,
    "start_time": "2022-01-10T10:39:42.663Z"
   },
   {
    "duration": 12,
    "start_time": "2022-01-10T10:40:25.753Z"
   },
   {
    "duration": 12,
    "start_time": "2022-01-10T10:43:33.432Z"
   },
   {
    "duration": 12,
    "start_time": "2022-01-10T10:43:54.918Z"
   },
   {
    "duration": 424,
    "start_time": "2022-01-10T10:45:16.847Z"
   },
   {
    "duration": 390,
    "start_time": "2022-01-10T10:47:11.087Z"
   },
   {
    "duration": 851,
    "start_time": "2022-01-10T10:47:31.219Z"
   },
   {
    "duration": 159,
    "start_time": "2022-01-10T10:48:20.846Z"
   },
   {
    "duration": 592,
    "start_time": "2022-01-10T10:48:31.796Z"
   },
   {
    "duration": 635,
    "start_time": "2022-01-10T10:54:18.921Z"
   },
   {
    "duration": 483,
    "start_time": "2022-01-10T11:02:00.584Z"
   },
   {
    "duration": 419,
    "start_time": "2022-01-10T11:07:55.255Z"
   },
   {
    "duration": 7,
    "start_time": "2022-01-10T11:09:37.802Z"
   },
   {
    "duration": 11,
    "start_time": "2022-01-10T11:09:40.920Z"
   },
   {
    "duration": 306,
    "start_time": "2022-01-10T11:10:39.691Z"
   },
   {
    "duration": 437,
    "start_time": "2022-01-10T11:10:54.316Z"
   },
   {
    "duration": 11,
    "start_time": "2022-01-10T11:12:12.073Z"
   },
   {
    "duration": 556,
    "start_time": "2022-01-10T11:15:18.630Z"
   },
   {
    "duration": 418,
    "start_time": "2022-01-10T11:15:41.493Z"
   },
   {
    "duration": 880,
    "start_time": "2022-01-10T11:16:26.499Z"
   },
   {
    "duration": 919,
    "start_time": "2022-01-10T11:16:37.501Z"
   },
   {
    "duration": 560,
    "start_time": "2022-01-10T11:17:21.079Z"
   },
   {
    "duration": 869,
    "start_time": "2022-01-10T11:18:15.198Z"
   },
   {
    "duration": 860,
    "start_time": "2022-01-10T11:18:22.593Z"
   },
   {
    "duration": 861,
    "start_time": "2022-01-10T11:20:14.981Z"
   },
   {
    "duration": 1484,
    "start_time": "2022-01-10T11:23:55.872Z"
   },
   {
    "duration": 11,
    "start_time": "2022-01-10T11:24:42.376Z"
   },
   {
    "duration": 1173,
    "start_time": "2022-01-10T11:24:44.194Z"
   },
   {
    "duration": 11,
    "start_time": "2022-01-10T11:27:31.710Z"
   },
   {
    "duration": 825,
    "start_time": "2022-01-10T11:31:02.377Z"
   },
   {
    "duration": 730,
    "start_time": "2022-01-10T11:31:10.602Z"
   },
   {
    "duration": 644,
    "start_time": "2022-01-10T11:31:21.825Z"
   },
   {
    "duration": 648,
    "start_time": "2022-01-10T11:31:33.552Z"
   },
   {
    "duration": 639,
    "start_time": "2022-01-10T11:31:50.808Z"
   },
   {
    "duration": 786,
    "start_time": "2022-01-10T11:41:26.411Z"
   },
   {
    "duration": 636,
    "start_time": "2022-01-10T11:41:57.919Z"
   },
   {
    "duration": 71,
    "start_time": "2022-01-10T11:50:11.970Z"
   },
   {
    "duration": 14,
    "start_time": "2022-01-10T11:51:21.729Z"
   },
   {
    "duration": 12,
    "start_time": "2022-01-10T11:51:33.957Z"
   },
   {
    "duration": 7,
    "start_time": "2022-01-10T11:51:42.652Z"
   },
   {
    "duration": 25,
    "start_time": "2022-01-10T11:54:19.933Z"
   },
   {
    "duration": 822,
    "start_time": "2022-01-10T12:04:36.999Z"
   },
   {
    "duration": 840,
    "start_time": "2022-01-10T12:05:07.378Z"
   },
   {
    "duration": 924,
    "start_time": "2022-01-10T12:09:28.906Z"
   },
   {
    "duration": 1089,
    "start_time": "2022-01-10T12:10:06.724Z"
   },
   {
    "duration": 819,
    "start_time": "2022-01-10T12:16:00.857Z"
   },
   {
    "duration": 872,
    "start_time": "2022-01-11T14:23:19.816Z"
   },
   {
    "duration": 30,
    "start_time": "2022-01-11T14:23:20.690Z"
   },
   {
    "duration": 6,
    "start_time": "2022-01-11T14:23:20.723Z"
   },
   {
    "duration": 8,
    "start_time": "2022-01-11T14:23:20.731Z"
   },
   {
    "duration": 6,
    "start_time": "2022-01-11T14:23:20.768Z"
   },
   {
    "duration": 13,
    "start_time": "2022-01-11T14:23:20.777Z"
   },
   {
    "duration": 7,
    "start_time": "2022-01-11T14:23:20.793Z"
   },
   {
    "duration": 93,
    "start_time": "2022-01-11T14:23:20.805Z"
   },
   {
    "duration": 30,
    "start_time": "2022-01-11T14:23:20.901Z"
   },
   {
    "duration": 62,
    "start_time": "2022-01-11T14:23:20.934Z"
   },
   {
    "duration": 13,
    "start_time": "2022-01-11T14:23:20.999Z"
   },
   {
    "duration": 10,
    "start_time": "2022-01-11T14:23:21.015Z"
   },
   {
    "duration": 6,
    "start_time": "2022-01-11T14:23:21.027Z"
   },
   {
    "duration": 43,
    "start_time": "2022-01-11T14:23:21.035Z"
   },
   {
    "duration": 9,
    "start_time": "2022-01-11T14:23:21.080Z"
   },
   {
    "duration": 12,
    "start_time": "2022-01-11T14:23:21.092Z"
   },
   {
    "duration": 8,
    "start_time": "2022-01-11T14:23:21.107Z"
   },
   {
    "duration": 8,
    "start_time": "2022-01-11T14:23:21.117Z"
   },
   {
    "duration": 45,
    "start_time": "2022-01-11T14:23:21.127Z"
   },
   {
    "duration": 4,
    "start_time": "2022-01-11T14:23:21.175Z"
   },
   {
    "duration": 856,
    "start_time": "2022-01-11T14:23:21.181Z"
   },
   {
    "duration": 4,
    "start_time": "2022-01-11T14:23:22.039Z"
   },
   {
    "duration": 812,
    "start_time": "2022-01-11T14:23:22.048Z"
   },
   {
    "duration": 4,
    "start_time": "2022-01-11T14:23:22.863Z"
   },
   {
    "duration": 846,
    "start_time": "2022-01-11T14:23:22.870Z"
   },
   {
    "duration": 61,
    "start_time": "2022-01-11T14:23:23.718Z"
   },
   {
    "duration": 13,
    "start_time": "2022-01-11T14:23:23.782Z"
   },
   {
    "duration": 1038,
    "start_time": "2022-01-11T14:23:23.798Z"
   },
   {
    "duration": 12,
    "start_time": "2022-01-11T14:23:24.839Z"
   },
   {
    "duration": 846,
    "start_time": "2022-01-11T14:23:24.868Z"
   },
   {
    "duration": 11,
    "start_time": "2022-01-11T14:23:25.716Z"
   },
   {
    "duration": 739,
    "start_time": "2022-01-11T14:23:25.730Z"
   },
   {
    "duration": 13,
    "start_time": "2022-01-11T14:23:26.471Z"
   },
   {
    "duration": 841,
    "start_time": "2022-01-11T14:23:26.486Z"
   },
   {
    "duration": 344,
    "start_time": "2022-01-11T14:23:59.638Z"
   },
   {
    "duration": 905,
    "start_time": "2022-01-11T14:24:32.507Z"
   },
   {
    "duration": 31,
    "start_time": "2022-01-11T14:24:36.418Z"
   },
   {
    "duration": 6,
    "start_time": "2022-01-11T14:24:39.026Z"
   },
   {
    "duration": 6,
    "start_time": "2022-01-11T14:24:39.236Z"
   },
   {
    "duration": 6,
    "start_time": "2022-01-11T14:24:39.476Z"
   },
   {
    "duration": 11,
    "start_time": "2022-01-11T14:24:39.740Z"
   },
   {
    "duration": 10,
    "start_time": "2022-01-11T14:24:40.211Z"
   },
   {
    "duration": 64,
    "start_time": "2022-01-11T14:24:40.699Z"
   },
   {
    "duration": 32,
    "start_time": "2022-01-11T14:24:41.639Z"
   },
   {
    "duration": 42,
    "start_time": "2022-01-11T14:24:45.899Z"
   },
   {
    "duration": 14,
    "start_time": "2022-01-11T14:24:46.452Z"
   },
   {
    "duration": 6,
    "start_time": "2022-01-11T14:24:48.077Z"
   },
   {
    "duration": 6,
    "start_time": "2022-01-11T14:24:48.802Z"
   },
   {
    "duration": 15,
    "start_time": "2022-01-11T14:24:52.580Z"
   },
   {
    "duration": 9,
    "start_time": "2022-01-11T14:25:00.423Z"
   },
   {
    "duration": 12,
    "start_time": "2022-01-11T14:25:00.835Z"
   },
   {
    "duration": 8,
    "start_time": "2022-01-11T14:25:01.007Z"
   },
   {
    "duration": 9,
    "start_time": "2022-01-11T14:25:01.250Z"
   },
   {
    "duration": 8,
    "start_time": "2022-01-11T14:25:01.539Z"
   },
   {
    "duration": 5,
    "start_time": "2022-01-11T14:25:02.284Z"
   },
   {
    "duration": 818,
    "start_time": "2022-01-11T14:25:02.771Z"
   },
   {
    "duration": 4,
    "start_time": "2022-01-11T14:25:03.592Z"
   },
   {
    "duration": 803,
    "start_time": "2022-01-11T14:25:03.756Z"
   },
   {
    "duration": 3,
    "start_time": "2022-01-11T14:25:05.156Z"
   },
   {
    "duration": 893,
    "start_time": "2022-01-11T14:25:06.180Z"
   },
   {
    "duration": 59,
    "start_time": "2022-01-11T14:25:07.076Z"
   },
   {
    "duration": 12,
    "start_time": "2022-01-11T14:25:08.578Z"
   },
   {
    "duration": 929,
    "start_time": "2022-01-11T14:25:09.428Z"
   },
   {
    "duration": 12,
    "start_time": "2022-01-11T14:25:11.278Z"
   },
   {
    "duration": 833,
    "start_time": "2022-01-11T14:25:12.460Z"
   },
   {
    "duration": 12,
    "start_time": "2022-01-11T14:25:15.227Z"
   },
   {
    "duration": 713,
    "start_time": "2022-01-11T14:25:16.520Z"
   },
   {
    "duration": 14,
    "start_time": "2022-01-11T14:25:18.636Z"
   },
   {
    "duration": 957,
    "start_time": "2022-01-11T14:25:20.051Z"
   },
   {
    "duration": 26,
    "start_time": "2022-01-11T14:26:04.636Z"
   },
   {
    "duration": 330,
    "start_time": "2022-01-11T14:29:13.100Z"
   },
   {
    "duration": 457,
    "start_time": "2022-01-11T14:30:02.593Z"
   },
   {
    "duration": 880,
    "start_time": "2022-01-11T14:30:55.200Z"
   },
   {
    "duration": 1098,
    "start_time": "2022-01-11T14:43:38.488Z"
   },
   {
    "duration": 358,
    "start_time": "2022-01-11T14:46:05.222Z"
   },
   {
    "duration": 599,
    "start_time": "2022-01-11T14:48:09.141Z"
   },
   {
    "duration": 595,
    "start_time": "2022-01-11T14:48:21.815Z"
   },
   {
    "duration": 564,
    "start_time": "2022-01-11T14:48:59.238Z"
   },
   {
    "duration": 265,
    "start_time": "2022-01-11T14:49:15.222Z"
   },
   {
    "duration": 1080,
    "start_time": "2022-01-11T15:00:06.847Z"
   },
   {
    "duration": 1117,
    "start_time": "2022-01-11T15:00:39.453Z"
   },
   {
    "duration": 65,
    "start_time": "2022-01-11T15:48:38.852Z"
   },
   {
    "duration": 14,
    "start_time": "2022-01-11T15:48:46.748Z"
   },
   {
    "duration": 479,
    "start_time": "2022-01-11T15:49:14.016Z"
   },
   {
    "duration": 10,
    "start_time": "2022-01-11T15:49:20.681Z"
   },
   {
    "duration": 11,
    "start_time": "2022-01-11T15:49:34.183Z"
   },
   {
    "duration": 10,
    "start_time": "2022-01-11T15:51:19.169Z"
   },
   {
    "duration": 11,
    "start_time": "2022-01-11T15:51:38.103Z"
   },
   {
    "duration": 10,
    "start_time": "2022-01-11T15:51:42.365Z"
   },
   {
    "duration": 10,
    "start_time": "2022-01-11T15:55:01.923Z"
   },
   {
    "duration": 70,
    "start_time": "2022-01-11T15:55:11.742Z"
   },
   {
    "duration": 65,
    "start_time": "2022-01-11T15:56:25.233Z"
   },
   {
    "duration": 11,
    "start_time": "2022-01-11T15:56:47.347Z"
   },
   {
    "duration": 72,
    "start_time": "2022-01-11T15:57:52.435Z"
   },
   {
    "duration": 70,
    "start_time": "2022-01-11T15:59:13.541Z"
   },
   {
    "duration": 74,
    "start_time": "2022-01-11T15:59:27.707Z"
   },
   {
    "duration": 62,
    "start_time": "2022-01-11T15:59:35.433Z"
   },
   {
    "duration": 12,
    "start_time": "2022-01-11T16:01:37.751Z"
   },
   {
    "duration": 68,
    "start_time": "2022-01-11T16:02:36.379Z"
   },
   {
    "duration": 76,
    "start_time": "2022-01-11T16:02:45.157Z"
   },
   {
    "duration": 71,
    "start_time": "2022-01-11T16:03:05.183Z"
   },
   {
    "duration": 9,
    "start_time": "2022-01-11T16:04:43.271Z"
   },
   {
    "duration": 446,
    "start_time": "2022-01-11T16:05:10.300Z"
   },
   {
    "duration": 12,
    "start_time": "2022-01-11T16:05:24.798Z"
   },
   {
    "duration": 12,
    "start_time": "2022-01-11T16:05:36.694Z"
   },
   {
    "duration": 13,
    "start_time": "2022-01-11T16:05:47.173Z"
   },
   {
    "duration": 15,
    "start_time": "2022-01-11T16:05:48.330Z"
   },
   {
    "duration": 319,
    "start_time": "2022-01-11T16:07:30.288Z"
   },
   {
    "duration": 76,
    "start_time": "2022-01-11T16:07:54.637Z"
   },
   {
    "duration": 12,
    "start_time": "2022-01-11T16:10:28.493Z"
   },
   {
    "duration": 301,
    "start_time": "2022-01-11T16:10:56.437Z"
   },
   {
    "duration": 490,
    "start_time": "2022-01-11T16:11:19.003Z"
   },
   {
    "duration": 11,
    "start_time": "2022-01-11T16:13:03.772Z"
   },
   {
    "duration": 12,
    "start_time": "2022-01-11T16:13:08.021Z"
   },
   {
    "duration": 17,
    "start_time": "2022-01-11T16:13:44.843Z"
   },
   {
    "duration": 388,
    "start_time": "2022-01-11T16:13:49.283Z"
   },
   {
    "duration": 332,
    "start_time": "2022-01-11T16:14:17.925Z"
   },
   {
    "duration": 349,
    "start_time": "2022-01-11T16:15:38.095Z"
   },
   {
    "duration": 605,
    "start_time": "2022-01-11T16:15:58.286Z"
   },
   {
    "duration": 16,
    "start_time": "2022-01-11T16:17:12.488Z"
   },
   {
    "duration": 723,
    "start_time": "2022-01-11T16:17:13.487Z"
   },
   {
    "duration": 26,
    "start_time": "2022-01-11T16:20:16.730Z"
   },
   {
    "duration": 63,
    "start_time": "2022-01-11T16:23:47.227Z"
   },
   {
    "duration": 81,
    "start_time": "2022-01-11T16:24:56.469Z"
   },
   {
    "duration": 58,
    "start_time": "2022-01-11T16:25:05.508Z"
   },
   {
    "duration": 10,
    "start_time": "2022-01-11T16:27:01.141Z"
   },
   {
    "duration": 28,
    "start_time": "2022-01-11T16:27:27.223Z"
   },
   {
    "duration": 11,
    "start_time": "2022-01-11T16:27:28.936Z"
   },
   {
    "duration": 10,
    "start_time": "2022-01-11T16:27:35.313Z"
   },
   {
    "duration": 16,
    "start_time": "2022-01-11T16:29:37.951Z"
   },
   {
    "duration": 5674,
    "start_time": "2022-01-11T16:30:30.299Z"
   },
   {
    "duration": 510,
    "start_time": "2022-01-11T16:31:06.418Z"
   },
   {
    "duration": 457,
    "start_time": "2022-01-11T16:31:18.977Z"
   },
   {
    "duration": 504,
    "start_time": "2022-01-11T16:31:27.169Z"
   },
   {
    "duration": 456,
    "start_time": "2022-01-11T16:31:52.704Z"
   },
   {
    "duration": 301,
    "start_time": "2022-01-11T16:34:46.459Z"
   },
   {
    "duration": 43,
    "start_time": "2022-01-11T16:34:55.729Z"
   },
   {
    "duration": 13,
    "start_time": "2022-01-11T16:35:10.260Z"
   },
   {
    "duration": 159,
    "start_time": "2022-01-11T16:40:47.566Z"
   },
   {
    "duration": 48,
    "start_time": "2022-01-11T16:40:47.728Z"
   },
   {
    "duration": 7,
    "start_time": "2022-01-11T16:40:47.779Z"
   },
   {
    "duration": 15,
    "start_time": "2022-01-11T16:40:47.789Z"
   },
   {
    "duration": 11,
    "start_time": "2022-01-11T16:40:47.807Z"
   },
   {
    "duration": 11,
    "start_time": "2022-01-11T16:40:47.821Z"
   },
   {
    "duration": 35,
    "start_time": "2022-01-11T16:40:47.835Z"
   },
   {
    "duration": 73,
    "start_time": "2022-01-11T16:40:47.873Z"
   },
   {
    "duration": 37,
    "start_time": "2022-01-11T16:40:47.950Z"
   },
   {
    "duration": 41,
    "start_time": "2022-01-11T16:40:47.990Z"
   },
   {
    "duration": 37,
    "start_time": "2022-01-11T16:40:48.034Z"
   },
   {
    "duration": 6,
    "start_time": "2022-01-11T16:40:48.074Z"
   },
   {
    "duration": 11,
    "start_time": "2022-01-11T16:40:48.083Z"
   },
   {
    "duration": 21,
    "start_time": "2022-01-11T16:40:48.096Z"
   },
   {
    "duration": 5,
    "start_time": "2022-01-11T16:40:48.119Z"
   },
   {
    "duration": 41,
    "start_time": "2022-01-11T16:40:48.126Z"
   },
   {
    "duration": 9,
    "start_time": "2022-01-11T16:40:48.170Z"
   },
   {
    "duration": 8,
    "start_time": "2022-01-11T16:40:48.181Z"
   },
   {
    "duration": 8,
    "start_time": "2022-01-11T16:40:48.192Z"
   },
   {
    "duration": 5,
    "start_time": "2022-01-11T16:40:48.202Z"
   },
   {
    "duration": 851,
    "start_time": "2022-01-11T16:40:48.209Z"
   },
   {
    "duration": 4,
    "start_time": "2022-01-11T16:40:49.063Z"
   },
   {
    "duration": 815,
    "start_time": "2022-01-11T16:40:49.070Z"
   },
   {
    "duration": 4,
    "start_time": "2022-01-11T16:40:49.888Z"
   },
   {
    "duration": 913,
    "start_time": "2022-01-11T16:40:49.894Z"
   },
   {
    "duration": 60,
    "start_time": "2022-01-11T16:40:50.809Z"
   },
   {
    "duration": 13,
    "start_time": "2022-01-11T16:40:50.874Z"
   },
   {
    "duration": 847,
    "start_time": "2022-01-11T16:40:50.891Z"
   },
   {
    "duration": 11,
    "start_time": "2022-01-11T16:40:51.740Z"
   },
   {
    "duration": 836,
    "start_time": "2022-01-11T16:40:51.753Z"
   },
   {
    "duration": 12,
    "start_time": "2022-01-11T16:40:52.591Z"
   },
   {
    "duration": 666,
    "start_time": "2022-01-11T16:40:52.606Z"
   },
   {
    "duration": 12,
    "start_time": "2022-01-11T16:40:53.274Z"
   },
   {
    "duration": 873,
    "start_time": "2022-01-11T16:40:53.289Z"
   },
   {
    "duration": 28,
    "start_time": "2022-01-11T16:40:54.168Z"
   },
   {
    "duration": 1223,
    "start_time": "2022-01-11T16:40:54.198Z"
   },
   {
    "duration": 15,
    "start_time": "2022-01-11T16:40:55.424Z"
   },
   {
    "duration": 36,
    "start_time": "2022-01-11T16:40:55.442Z"
   },
   {
    "duration": 647,
    "start_time": "2022-01-11T16:40:55.480Z"
   },
   {
    "duration": 41,
    "start_time": "2022-01-11T16:40:56.130Z"
   },
   {
    "duration": 11,
    "start_time": "2022-01-11T16:40:56.173Z"
   },
   {
    "duration": 390,
    "start_time": "2022-01-11T16:40:56.187Z"
   },
   {
    "duration": 12,
    "start_time": "2022-01-11T16:40:56.579Z"
   },
   {
    "duration": 13,
    "start_time": "2022-01-11T16:44:16.955Z"
   },
   {
    "duration": 10,
    "start_time": "2022-01-11T16:45:46.478Z"
   },
   {
    "duration": 305,
    "start_time": "2022-01-11T16:46:25.908Z"
   },
   {
    "duration": 293,
    "start_time": "2022-01-11T16:46:47.518Z"
   },
   {
    "duration": 306,
    "start_time": "2022-01-11T16:47:05.251Z"
   },
   {
    "duration": 294,
    "start_time": "2022-01-11T16:47:39.388Z"
   },
   {
    "duration": 305,
    "start_time": "2022-01-11T16:47:52.115Z"
   },
   {
    "duration": 444,
    "start_time": "2022-01-11T16:47:57.563Z"
   },
   {
    "duration": 337,
    "start_time": "2022-01-11T16:48:19.390Z"
   },
   {
    "duration": 305,
    "start_time": "2022-01-11T16:48:58.471Z"
   },
   {
    "duration": 350,
    "start_time": "2022-01-11T16:49:31.991Z"
   },
   {
    "duration": 69,
    "start_time": "2022-01-11T16:49:38.153Z"
   },
   {
    "duration": 60,
    "start_time": "2022-01-11T16:49:49.712Z"
   },
   {
    "duration": 60,
    "start_time": "2022-01-11T16:50:29.372Z"
   },
   {
    "duration": 65,
    "start_time": "2022-01-11T16:51:29.793Z"
   },
   {
    "duration": 30,
    "start_time": "2022-01-11T16:52:29.137Z"
   },
   {
    "duration": 66,
    "start_time": "2022-01-11T16:53:30.978Z"
   },
   {
    "duration": 78,
    "start_time": "2022-01-11T16:53:47.417Z"
   },
   {
    "duration": 62,
    "start_time": "2022-01-11T16:54:51.985Z"
   },
   {
    "duration": 11,
    "start_time": "2022-01-11T16:55:01.275Z"
   },
   {
    "duration": 63,
    "start_time": "2022-01-11T16:55:26.669Z"
   },
   {
    "duration": 64,
    "start_time": "2022-01-11T16:55:43.214Z"
   },
   {
    "duration": 64,
    "start_time": "2022-01-11T16:57:00.701Z"
   },
   {
    "duration": 12,
    "start_time": "2022-01-11T17:00:41.196Z"
   },
   {
    "duration": 68,
    "start_time": "2022-01-11T17:00:52.801Z"
   },
   {
    "duration": 60,
    "start_time": "2022-01-11T17:02:15.557Z"
   },
   {
    "duration": 64,
    "start_time": "2022-01-11T17:05:39.997Z"
   },
   {
    "duration": 62,
    "start_time": "2022-01-11T17:06:14.229Z"
   },
   {
    "duration": 12,
    "start_time": "2022-01-11T17:10:02.987Z"
   },
   {
    "duration": 11,
    "start_time": "2022-01-11T17:10:45.288Z"
   },
   {
    "duration": 429,
    "start_time": "2022-01-11T17:17:59.153Z"
   },
   {
    "duration": 12,
    "start_time": "2022-01-11T17:18:29.780Z"
   },
   {
    "duration": 9,
    "start_time": "2022-01-11T17:34:24.324Z"
   },
   {
    "duration": 17,
    "start_time": "2022-01-11T17:34:37.721Z"
   },
   {
    "duration": 19,
    "start_time": "2022-01-11T17:34:47.216Z"
   },
   {
    "duration": 318,
    "start_time": "2022-01-11T17:34:52.876Z"
   },
   {
    "duration": 20,
    "start_time": "2022-01-11T17:34:54.780Z"
   },
   {
    "duration": 323,
    "start_time": "2022-01-11T17:34:55.764Z"
   },
   {
    "duration": 8,
    "start_time": "2022-01-11T17:35:09.267Z"
   },
   {
    "duration": 17,
    "start_time": "2022-01-11T17:35:13.474Z"
   },
   {
    "duration": 14,
    "start_time": "2022-01-11T17:35:39.553Z"
   },
   {
    "duration": 909,
    "start_time": "2022-01-11T17:36:03.096Z"
   },
   {
    "duration": 30,
    "start_time": "2022-01-11T17:36:04.008Z"
   },
   {
    "duration": 7,
    "start_time": "2022-01-11T17:36:04.042Z"
   },
   {
    "duration": 6,
    "start_time": "2022-01-11T17:36:04.068Z"
   },
   {
    "duration": 9,
    "start_time": "2022-01-11T17:36:04.077Z"
   },
   {
    "duration": 12,
    "start_time": "2022-01-11T17:36:04.089Z"
   },
   {
    "duration": 9,
    "start_time": "2022-01-11T17:36:04.103Z"
   },
   {
    "duration": 108,
    "start_time": "2022-01-11T17:36:04.116Z"
   },
   {
    "duration": 43,
    "start_time": "2022-01-11T17:36:04.227Z"
   },
   {
    "duration": 45,
    "start_time": "2022-01-11T17:36:04.272Z"
   },
   {
    "duration": 14,
    "start_time": "2022-01-11T17:36:04.320Z"
   },
   {
    "duration": 33,
    "start_time": "2022-01-11T17:36:04.337Z"
   },
   {
    "duration": 10,
    "start_time": "2022-01-11T17:36:04.373Z"
   },
   {
    "duration": 15,
    "start_time": "2022-01-11T17:36:04.401Z"
   },
   {
    "duration": 10,
    "start_time": "2022-01-11T17:36:04.418Z"
   },
   {
    "duration": 12,
    "start_time": "2022-01-11T17:36:04.430Z"
   },
   {
    "duration": 28,
    "start_time": "2022-01-11T17:36:04.445Z"
   },
   {
    "duration": 8,
    "start_time": "2022-01-11T17:36:04.476Z"
   },
   {
    "duration": 8,
    "start_time": "2022-01-11T17:36:04.487Z"
   },
   {
    "duration": 4,
    "start_time": "2022-01-11T17:36:04.498Z"
   },
   {
    "duration": 895,
    "start_time": "2022-01-11T17:36:04.505Z"
   },
   {
    "duration": 3,
    "start_time": "2022-01-11T17:36:05.402Z"
   },
   {
    "duration": 860,
    "start_time": "2022-01-11T17:36:05.412Z"
   },
   {
    "duration": 3,
    "start_time": "2022-01-11T17:36:06.275Z"
   },
   {
    "duration": 981,
    "start_time": "2022-01-11T17:36:06.280Z"
   },
   {
    "duration": 50,
    "start_time": "2022-01-11T17:36:07.264Z"
   },
   {
    "duration": 13,
    "start_time": "2022-01-11T17:36:07.316Z"
   },
   {
    "duration": 947,
    "start_time": "2022-01-11T17:36:07.332Z"
   },
   {
    "duration": 11,
    "start_time": "2022-01-11T17:36:08.282Z"
   },
   {
    "duration": 839,
    "start_time": "2022-01-11T17:36:08.296Z"
   },
   {
    "duration": 12,
    "start_time": "2022-01-11T17:36:09.138Z"
   },
   {
    "duration": 840,
    "start_time": "2022-01-11T17:36:09.152Z"
   },
   {
    "duration": 12,
    "start_time": "2022-01-11T17:36:09.995Z"
   },
   {
    "duration": 862,
    "start_time": "2022-01-11T17:36:10.010Z"
   },
   {
    "duration": 28,
    "start_time": "2022-01-11T17:36:10.875Z"
   },
   {
    "duration": 1007,
    "start_time": "2022-01-11T17:36:10.906Z"
   },
   {
    "duration": 17,
    "start_time": "2022-01-11T17:36:11.916Z"
   },
   {
    "duration": 39,
    "start_time": "2022-01-11T17:36:11.936Z"
   },
   {
    "duration": 616,
    "start_time": "2022-01-11T17:36:11.978Z"
   },
   {
    "duration": 26,
    "start_time": "2022-01-11T17:36:12.597Z"
   },
   {
    "duration": 10,
    "start_time": "2022-01-11T17:36:12.625Z"
   },
   {
    "duration": 400,
    "start_time": "2022-01-11T17:36:12.666Z"
   },
   {
    "duration": 12,
    "start_time": "2022-01-11T17:36:13.068Z"
   },
   {
    "duration": 12,
    "start_time": "2022-01-11T17:36:13.082Z"
   },
   {
    "duration": 9,
    "start_time": "2022-01-11T17:36:13.096Z"
   },
   {
    "duration": 12,
    "start_time": "2022-01-11T17:36:13.108Z"
   },
   {
    "duration": 53,
    "start_time": "2022-01-11T17:36:13.123Z"
   },
   {
    "duration": 105,
    "start_time": "2022-01-11T17:36:13.178Z"
   },
   {
    "duration": 316,
    "start_time": "2022-01-11T17:36:13.285Z"
   },
   {
    "duration": 8,
    "start_time": "2022-01-11T17:36:40.549Z"
   },
   {
    "duration": 288,
    "start_time": "2022-01-11T17:36:51.825Z"
   },
   {
    "duration": 11,
    "start_time": "2022-01-11T17:37:11.057Z"
   },
   {
    "duration": 10,
    "start_time": "2022-01-11T17:37:13.907Z"
   },
   {
    "duration": 8,
    "start_time": "2022-01-11T17:37:17.325Z"
   },
   {
    "duration": 11,
    "start_time": "2022-01-11T17:37:19.776Z"
   },
   {
    "duration": 11,
    "start_time": "2022-01-11T17:37:34.083Z"
   },
   {
    "duration": 7,
    "start_time": "2022-01-11T17:37:36.213Z"
   },
   {
    "duration": 282,
    "start_time": "2022-01-11T17:37:37.301Z"
   },
   {
    "duration": 7,
    "start_time": "2022-01-11T17:37:40.235Z"
   },
   {
    "duration": 282,
    "start_time": "2022-01-11T17:37:41.101Z"
   },
   {
    "duration": 12,
    "start_time": "2022-01-11T17:37:43.476Z"
   },
   {
    "duration": 9,
    "start_time": "2022-01-11T17:38:52.315Z"
   },
   {
    "duration": 9,
    "start_time": "2022-01-11T17:39:02.202Z"
   },
   {
    "duration": 82,
    "start_time": "2022-01-11T17:39:09.489Z"
   },
   {
    "duration": 9,
    "start_time": "2022-01-11T17:39:16.830Z"
   },
   {
    "duration": 298,
    "start_time": "2022-01-11T17:39:18.502Z"
   },
   {
    "duration": 10,
    "start_time": "2022-01-11T17:41:16.380Z"
   },
   {
    "duration": 940,
    "start_time": "2022-01-11T17:41:32.439Z"
   },
   {
    "duration": 30,
    "start_time": "2022-01-11T17:41:33.382Z"
   },
   {
    "duration": 6,
    "start_time": "2022-01-11T17:41:33.415Z"
   },
   {
    "duration": 10,
    "start_time": "2022-01-11T17:41:33.424Z"
   },
   {
    "duration": 32,
    "start_time": "2022-01-11T17:41:33.437Z"
   },
   {
    "duration": 11,
    "start_time": "2022-01-11T17:41:33.471Z"
   },
   {
    "duration": 7,
    "start_time": "2022-01-11T17:41:33.484Z"
   },
   {
    "duration": 92,
    "start_time": "2022-01-11T17:41:33.495Z"
   },
   {
    "duration": 30,
    "start_time": "2022-01-11T17:41:33.590Z"
   },
   {
    "duration": 64,
    "start_time": "2022-01-11T17:41:33.622Z"
   },
   {
    "duration": 14,
    "start_time": "2022-01-11T17:41:33.689Z"
   },
   {
    "duration": 7,
    "start_time": "2022-01-11T17:41:33.706Z"
   },
   {
    "duration": 6,
    "start_time": "2022-01-11T17:41:33.716Z"
   },
   {
    "duration": 49,
    "start_time": "2022-01-11T17:41:33.725Z"
   },
   {
    "duration": 10,
    "start_time": "2022-01-11T17:41:33.777Z"
   },
   {
    "duration": 14,
    "start_time": "2022-01-11T17:41:33.790Z"
   },
   {
    "duration": 11,
    "start_time": "2022-01-11T17:41:33.806Z"
   },
   {
    "duration": 47,
    "start_time": "2022-01-11T17:41:33.820Z"
   },
   {
    "duration": 9,
    "start_time": "2022-01-11T17:41:33.870Z"
   },
   {
    "duration": 6,
    "start_time": "2022-01-11T17:41:33.882Z"
   },
   {
    "duration": 855,
    "start_time": "2022-01-11T17:41:33.891Z"
   },
   {
    "duration": 4,
    "start_time": "2022-01-11T17:41:34.749Z"
   },
   {
    "duration": 801,
    "start_time": "2022-01-11T17:41:34.767Z"
   },
   {
    "duration": 4,
    "start_time": "2022-01-11T17:41:35.571Z"
   },
   {
    "duration": 1089,
    "start_time": "2022-01-11T17:41:35.578Z"
   },
   {
    "duration": 48,
    "start_time": "2022-01-11T17:41:36.669Z"
   },
   {
    "duration": 13,
    "start_time": "2022-01-11T17:41:36.719Z"
   },
   {
    "duration": 943,
    "start_time": "2022-01-11T17:41:36.734Z"
   },
   {
    "duration": 12,
    "start_time": "2022-01-11T17:41:37.679Z"
   },
   {
    "duration": 856,
    "start_time": "2022-01-11T17:41:37.693Z"
   },
   {
    "duration": 25,
    "start_time": "2022-01-11T17:41:38.552Z"
   },
   {
    "duration": 720,
    "start_time": "2022-01-11T17:41:38.579Z"
   },
   {
    "duration": 12,
    "start_time": "2022-01-11T17:41:39.302Z"
   },
   {
    "duration": 967,
    "start_time": "2022-01-11T17:41:39.317Z"
   },
   {
    "duration": 24,
    "start_time": "2022-01-11T17:41:40.287Z"
   },
   {
    "duration": 1002,
    "start_time": "2022-01-11T17:41:40.314Z"
   },
   {
    "duration": 17,
    "start_time": "2022-01-11T17:41:41.319Z"
   },
   {
    "duration": 30,
    "start_time": "2022-01-11T17:41:41.338Z"
   },
   {
    "duration": 623,
    "start_time": "2022-01-11T17:41:41.371Z"
   },
   {
    "duration": 28,
    "start_time": "2022-01-11T17:41:41.997Z"
   },
   {
    "duration": 40,
    "start_time": "2022-01-11T17:41:42.028Z"
   },
   {
    "duration": 384,
    "start_time": "2022-01-11T17:41:42.071Z"
   },
   {
    "duration": 16,
    "start_time": "2022-01-11T17:41:42.457Z"
   },
   {
    "duration": 12,
    "start_time": "2022-01-11T17:41:42.476Z"
   },
   {
    "duration": 10,
    "start_time": "2022-01-11T17:41:42.490Z"
   },
   {
    "duration": 14,
    "start_time": "2022-01-11T17:41:42.503Z"
   },
   {
    "duration": 60,
    "start_time": "2022-01-11T17:41:42.520Z"
   },
   {
    "duration": 136,
    "start_time": "2022-01-11T17:41:42.583Z"
   },
   {
    "duration": 345,
    "start_time": "2022-01-11T17:41:42.722Z"
   },
   {
    "duration": 9,
    "start_time": "2022-01-11T17:42:15.599Z"
   },
   {
    "duration": 8,
    "start_time": "2022-01-11T17:42:44.218Z"
   },
   {
    "duration": 10,
    "start_time": "2022-01-11T17:42:55.862Z"
   },
   {
    "duration": 9,
    "start_time": "2022-01-11T17:43:05.675Z"
   },
   {
    "duration": 289,
    "start_time": "2022-01-11T17:43:25.062Z"
   },
   {
    "duration": 652,
    "start_time": "2022-01-11T18:40:35.162Z"
   },
   {
    "duration": 18,
    "start_time": "2022-01-11T18:40:35.816Z"
   },
   {
    "duration": 13,
    "start_time": "2022-01-11T18:40:35.836Z"
   },
   {
    "duration": 19,
    "start_time": "2022-01-11T18:40:35.850Z"
   },
   {
    "duration": 15,
    "start_time": "2022-01-11T18:40:35.871Z"
   },
   {
    "duration": 20,
    "start_time": "2022-01-11T18:40:35.887Z"
   },
   {
    "duration": 15,
    "start_time": "2022-01-11T18:40:35.908Z"
   },
   {
    "duration": 47,
    "start_time": "2022-01-11T18:40:35.925Z"
   },
   {
    "duration": 19,
    "start_time": "2022-01-11T18:40:35.975Z"
   },
   {
    "duration": 31,
    "start_time": "2022-01-11T18:40:35.996Z"
   },
   {
    "duration": 10,
    "start_time": "2022-01-11T18:40:36.029Z"
   },
   {
    "duration": 30,
    "start_time": "2022-01-11T18:40:36.040Z"
   },
   {
    "duration": 25,
    "start_time": "2022-01-11T18:40:36.071Z"
   },
   {
    "duration": 31,
    "start_time": "2022-01-11T18:40:36.097Z"
   },
   {
    "duration": 6,
    "start_time": "2022-01-11T18:40:36.130Z"
   },
   {
    "duration": 19,
    "start_time": "2022-01-11T18:40:36.137Z"
   },
   {
    "duration": 21,
    "start_time": "2022-01-11T18:40:36.157Z"
   },
   {
    "duration": 5,
    "start_time": "2022-01-11T18:40:36.180Z"
   },
   {
    "duration": 25,
    "start_time": "2022-01-11T18:40:36.186Z"
   },
   {
    "duration": 16,
    "start_time": "2022-01-11T18:40:36.213Z"
   },
   {
    "duration": 461,
    "start_time": "2022-01-11T18:40:36.230Z"
   },
   {
    "duration": 3,
    "start_time": "2022-01-11T18:40:36.692Z"
   },
   {
    "duration": 432,
    "start_time": "2022-01-11T18:40:36.699Z"
   },
   {
    "duration": 2,
    "start_time": "2022-01-11T18:40:37.133Z"
   },
   {
    "duration": 470,
    "start_time": "2022-01-11T18:40:37.136Z"
   },
   {
    "duration": 31,
    "start_time": "2022-01-11T18:40:37.607Z"
   },
   {
    "duration": 7,
    "start_time": "2022-01-11T18:40:37.639Z"
   },
   {
    "duration": 488,
    "start_time": "2022-01-11T18:40:37.647Z"
   },
   {
    "duration": 7,
    "start_time": "2022-01-11T18:40:38.136Z"
   },
   {
    "duration": 429,
    "start_time": "2022-01-11T18:40:38.144Z"
   },
   {
    "duration": 7,
    "start_time": "2022-01-11T18:40:38.574Z"
   },
   {
    "duration": 389,
    "start_time": "2022-01-11T18:40:38.582Z"
   },
   {
    "duration": 7,
    "start_time": "2022-01-11T18:40:38.972Z"
   },
   {
    "duration": 535,
    "start_time": "2022-01-11T18:40:38.981Z"
   },
   {
    "duration": 23,
    "start_time": "2022-01-11T18:40:39.517Z"
   },
   {
    "duration": 506,
    "start_time": "2022-01-11T18:40:39.542Z"
   },
   {
    "duration": 10,
    "start_time": "2022-01-11T18:40:40.050Z"
   },
   {
    "duration": 9,
    "start_time": "2022-01-11T18:40:40.062Z"
   },
   {
    "duration": 338,
    "start_time": "2022-01-11T18:40:40.072Z"
   },
   {
    "duration": 20,
    "start_time": "2022-01-11T18:40:40.412Z"
   },
   {
    "duration": 7,
    "start_time": "2022-01-11T18:40:40.433Z"
   },
   {
    "duration": 200,
    "start_time": "2022-01-11T18:40:40.441Z"
   },
   {
    "duration": 7,
    "start_time": "2022-01-11T18:40:40.643Z"
   },
   {
    "duration": 9,
    "start_time": "2022-01-11T18:40:40.652Z"
   },
   {
    "duration": 5,
    "start_time": "2022-01-11T18:40:40.663Z"
   },
   {
    "duration": 12,
    "start_time": "2022-01-11T18:40:40.669Z"
   },
   {
    "duration": 15,
    "start_time": "2022-01-11T18:40:40.682Z"
   },
   {
    "duration": 100,
    "start_time": "2022-01-11T18:40:40.698Z"
   },
   {
    "duration": 158,
    "start_time": "2022-01-11T18:40:40.799Z"
   },
   {
    "duration": 494,
    "start_time": "2022-01-11T18:55:04.828Z"
   },
   {
    "duration": 24,
    "start_time": "2022-01-11T18:55:13.427Z"
   },
   {
    "duration": 2,
    "start_time": "2022-01-11T18:57:40.977Z"
   },
   {
    "duration": 191,
    "start_time": "2022-01-11T18:58:02.110Z"
   },
   {
    "duration": 182,
    "start_time": "2022-01-11T18:59:11.140Z"
   },
   {
    "duration": 236,
    "start_time": "2022-01-11T18:59:16.964Z"
   },
   {
    "duration": 150,
    "start_time": "2022-01-11T19:06:23.600Z"
   },
   {
    "duration": 138,
    "start_time": "2022-01-11T19:06:34.961Z"
   },
   {
    "duration": 308,
    "start_time": "2022-01-11T19:09:17.175Z"
   },
   {
    "duration": 136,
    "start_time": "2022-01-11T19:10:40.364Z"
   },
   {
    "duration": 151,
    "start_time": "2022-01-11T19:10:48.927Z"
   },
   {
    "duration": 152,
    "start_time": "2022-01-11T19:10:52.488Z"
   },
   {
    "duration": 4,
    "start_time": "2022-01-11T19:11:13.987Z"
   },
   {
    "duration": 776,
    "start_time": "2022-01-11T19:12:36.003Z"
   },
   {
    "duration": 330,
    "start_time": "2022-01-11T19:13:10.358Z"
   },
   {
    "duration": 358,
    "start_time": "2022-01-11T19:15:25.754Z"
   },
   {
    "duration": 3,
    "start_time": "2022-01-11T19:15:50.607Z"
   },
   {
    "duration": 4,
    "start_time": "2022-01-11T19:15:55.950Z"
   },
   {
    "duration": 650,
    "start_time": "2022-01-11T19:16:10.609Z"
   },
   {
    "duration": 138,
    "start_time": "2022-01-11T19:21:20.008Z"
   },
   {
    "duration": 121,
    "start_time": "2022-01-11T19:21:29.751Z"
   },
   {
    "duration": 338,
    "start_time": "2022-01-11T19:21:54.365Z"
   },
   {
    "duration": 278,
    "start_time": "2022-01-11T19:22:17.601Z"
   },
   {
    "duration": 740,
    "start_time": "2022-01-11T19:22:26.150Z"
   },
   {
    "duration": 267,
    "start_time": "2022-01-11T19:22:37.850Z"
   },
   {
    "duration": 184,
    "start_time": "2022-01-11T19:23:00.184Z"
   },
   {
    "duration": 117,
    "start_time": "2022-01-11T19:23:13.664Z"
   },
   {
    "duration": 153,
    "start_time": "2022-01-11T19:23:48.913Z"
   },
   {
    "duration": 191,
    "start_time": "2022-01-11T19:24:13.810Z"
   },
   {
    "duration": 127,
    "start_time": "2022-01-11T19:24:16.039Z"
   },
   {
    "duration": 39,
    "start_time": "2022-01-11T19:27:02.057Z"
   },
   {
    "duration": 8,
    "start_time": "2022-01-11T19:27:46.745Z"
   },
   {
    "duration": 125,
    "start_time": "2022-01-11T19:28:13.057Z"
   },
   {
    "duration": 6,
    "start_time": "2022-01-11T19:28:43.182Z"
   },
   {
    "duration": 40,
    "start_time": "2022-01-11T19:31:02.273Z"
   },
   {
    "duration": 8,
    "start_time": "2022-01-11T19:31:09.672Z"
   },
   {
    "duration": 24,
    "start_time": "2022-01-11T19:34:33.224Z"
   },
   {
    "duration": 445,
    "start_time": "2022-01-11T19:35:06.249Z"
   },
   {
    "duration": 11,
    "start_time": "2022-01-11T19:35:21.714Z"
   },
   {
    "duration": 15,
    "start_time": "2022-01-11T19:35:29.817Z"
   },
   {
    "duration": 13,
    "start_time": "2022-01-11T19:36:12.763Z"
   },
   {
    "duration": 816,
    "start_time": "2022-01-11T19:36:55.626Z"
   },
   {
    "duration": 22,
    "start_time": "2022-01-11T19:36:56.448Z"
   },
   {
    "duration": 3,
    "start_time": "2022-01-11T19:36:56.472Z"
   },
   {
    "duration": 5,
    "start_time": "2022-01-11T19:36:56.477Z"
   },
   {
    "duration": 5,
    "start_time": "2022-01-11T19:36:56.483Z"
   },
   {
    "duration": 11,
    "start_time": "2022-01-11T19:36:56.489Z"
   },
   {
    "duration": 4,
    "start_time": "2022-01-11T19:36:56.502Z"
   },
   {
    "duration": 68,
    "start_time": "2022-01-11T19:36:56.508Z"
   },
   {
    "duration": 19,
    "start_time": "2022-01-11T19:36:56.578Z"
   },
   {
    "duration": 44,
    "start_time": "2022-01-11T19:36:56.598Z"
   },
   {
    "duration": 18,
    "start_time": "2022-01-11T19:36:56.644Z"
   },
   {
    "duration": 5,
    "start_time": "2022-01-11T19:36:56.665Z"
   },
   {
    "duration": 11,
    "start_time": "2022-01-11T19:36:56.671Z"
   },
   {
    "duration": 28,
    "start_time": "2022-01-11T19:36:56.683Z"
   },
   {
    "duration": 19,
    "start_time": "2022-01-11T19:36:56.712Z"
   },
   {
    "duration": 22,
    "start_time": "2022-01-11T19:36:56.735Z"
   },
   {
    "duration": 13,
    "start_time": "2022-01-11T19:36:56.758Z"
   },
   {
    "duration": 15,
    "start_time": "2022-01-11T19:36:56.773Z"
   },
   {
    "duration": 5,
    "start_time": "2022-01-11T19:36:56.789Z"
   },
   {
    "duration": 8,
    "start_time": "2022-01-11T19:36:56.795Z"
   },
   {
    "duration": 511,
    "start_time": "2022-01-11T19:36:56.805Z"
   },
   {
    "duration": 3,
    "start_time": "2022-01-11T19:36:57.317Z"
   },
   {
    "duration": 485,
    "start_time": "2022-01-11T19:36:57.329Z"
   },
   {
    "duration": 2,
    "start_time": "2022-01-11T19:36:57.816Z"
   },
   {
    "duration": 873,
    "start_time": "2022-01-11T19:36:57.820Z"
   },
   {
    "duration": 26,
    "start_time": "2022-01-11T19:36:58.694Z"
   },
   {
    "duration": 17,
    "start_time": "2022-01-11T19:36:58.727Z"
   },
   {
    "duration": 532,
    "start_time": "2022-01-11T19:36:58.749Z"
   },
   {
    "duration": 9,
    "start_time": "2022-01-11T19:36:59.283Z"
   },
   {
    "duration": 601,
    "start_time": "2022-01-11T19:36:59.294Z"
   },
   {
    "duration": 7,
    "start_time": "2022-01-11T19:36:59.897Z"
   },
   {
    "duration": 459,
    "start_time": "2022-01-11T19:36:59.906Z"
   },
   {
    "duration": 8,
    "start_time": "2022-01-11T19:37:00.366Z"
   },
   {
    "duration": 511,
    "start_time": "2022-01-11T19:37:00.375Z"
   },
   {
    "duration": 16,
    "start_time": "2022-01-11T19:37:00.888Z"
   },
   {
    "duration": 587,
    "start_time": "2022-01-11T19:37:00.905Z"
   },
   {
    "duration": 11,
    "start_time": "2022-01-11T19:37:01.493Z"
   },
   {
    "duration": 32,
    "start_time": "2022-01-11T19:37:01.505Z"
   },
   {
    "duration": 357,
    "start_time": "2022-01-11T19:37:01.542Z"
   },
   {
    "duration": 27,
    "start_time": "2022-01-11T19:37:01.901Z"
   },
   {
    "duration": 9,
    "start_time": "2022-01-11T19:37:01.931Z"
   },
   {
    "duration": 241,
    "start_time": "2022-01-11T19:37:01.941Z"
   },
   {
    "duration": 7,
    "start_time": "2022-01-11T19:37:02.184Z"
   },
   {
    "duration": 8,
    "start_time": "2022-01-11T19:37:02.193Z"
   },
   {
    "duration": 7,
    "start_time": "2022-01-11T19:37:02.202Z"
   },
   {
    "duration": 26,
    "start_time": "2022-01-11T19:37:02.210Z"
   },
   {
    "duration": 26,
    "start_time": "2022-01-11T19:37:02.238Z"
   },
   {
    "duration": 95,
    "start_time": "2022-01-11T19:37:02.266Z"
   },
   {
    "duration": 178,
    "start_time": "2022-01-11T19:37:02.363Z"
   },
   {
    "duration": 10,
    "start_time": "2022-01-11T19:37:02.543Z"
   },
   {
    "duration": 240,
    "start_time": "2022-01-11T19:37:02.555Z"
   },
   {
    "duration": 146,
    "start_time": "2022-01-11T19:37:02.797Z"
   },
   {
    "duration": 124,
    "start_time": "2022-01-11T19:37:02.947Z"
   },
   {
    "duration": 6,
    "start_time": "2022-01-11T19:37:03.072Z"
   },
   {
    "duration": 128,
    "start_time": "2022-01-11T19:37:03.079Z"
   },
   {
    "duration": 5,
    "start_time": "2022-01-11T19:37:03.209Z"
   },
   {
    "duration": 19,
    "start_time": "2022-01-11T19:37:03.216Z"
   },
   {
    "duration": 10,
    "start_time": "2022-01-11T19:38:10.787Z"
   },
   {
    "duration": 10,
    "start_time": "2022-01-11T19:38:35.657Z"
   },
   {
    "duration": 731,
    "start_time": "2022-01-11T19:38:47.736Z"
   },
   {
    "duration": 20,
    "start_time": "2022-01-11T19:38:48.469Z"
   },
   {
    "duration": 5,
    "start_time": "2022-01-11T19:38:48.491Z"
   },
   {
    "duration": 7,
    "start_time": "2022-01-11T19:38:48.497Z"
   },
   {
    "duration": 28,
    "start_time": "2022-01-11T19:38:48.505Z"
   },
   {
    "duration": 8,
    "start_time": "2022-01-11T19:38:48.535Z"
   },
   {
    "duration": 11,
    "start_time": "2022-01-11T19:38:48.548Z"
   },
   {
    "duration": 38,
    "start_time": "2022-01-11T19:38:48.562Z"
   },
   {
    "duration": 37,
    "start_time": "2022-01-11T19:38:48.602Z"
   },
   {
    "duration": 33,
    "start_time": "2022-01-11T19:38:48.643Z"
   },
   {
    "duration": 8,
    "start_time": "2022-01-11T19:38:48.679Z"
   },
   {
    "duration": 3,
    "start_time": "2022-01-11T19:38:48.689Z"
   },
   {
    "duration": 4,
    "start_time": "2022-01-11T19:38:48.694Z"
   },
   {
    "duration": 10,
    "start_time": "2022-01-11T19:38:48.699Z"
   },
   {
    "duration": 25,
    "start_time": "2022-01-11T19:38:48.710Z"
   },
   {
    "duration": 26,
    "start_time": "2022-01-11T19:38:48.738Z"
   },
   {
    "duration": 7,
    "start_time": "2022-01-11T19:38:48.766Z"
   },
   {
    "duration": 5,
    "start_time": "2022-01-11T19:38:48.775Z"
   },
   {
    "duration": 5,
    "start_time": "2022-01-11T19:38:48.781Z"
   },
   {
    "duration": 2,
    "start_time": "2022-01-11T19:38:48.788Z"
   },
   {
    "duration": 517,
    "start_time": "2022-01-11T19:38:48.792Z"
   },
   {
    "duration": 2,
    "start_time": "2022-01-11T19:38:49.311Z"
   },
   {
    "duration": 615,
    "start_time": "2022-01-11T19:38:49.316Z"
   },
   {
    "duration": 4,
    "start_time": "2022-01-11T19:38:49.940Z"
   },
   {
    "duration": 907,
    "start_time": "2022-01-11T19:38:49.946Z"
   },
   {
    "duration": 28,
    "start_time": "2022-01-11T19:38:50.854Z"
   },
   {
    "duration": 8,
    "start_time": "2022-01-11T19:38:50.884Z"
   },
   {
    "duration": 568,
    "start_time": "2022-01-11T19:38:50.894Z"
   },
   {
    "duration": 8,
    "start_time": "2022-01-11T19:38:51.464Z"
   },
   {
    "duration": 490,
    "start_time": "2022-01-11T19:38:51.473Z"
   },
   {
    "duration": 8,
    "start_time": "2022-01-11T19:38:51.964Z"
   },
   {
    "duration": 469,
    "start_time": "2022-01-11T19:38:51.974Z"
   },
   {
    "duration": 13,
    "start_time": "2022-01-11T19:38:52.445Z"
   },
   {
    "duration": 493,
    "start_time": "2022-01-11T19:38:52.460Z"
   },
   {
    "duration": 19,
    "start_time": "2022-01-11T19:38:52.955Z"
   },
   {
    "duration": 589,
    "start_time": "2022-01-11T19:38:52.975Z"
   },
   {
    "duration": 10,
    "start_time": "2022-01-11T19:38:53.566Z"
   },
   {
    "duration": 26,
    "start_time": "2022-01-11T19:38:53.578Z"
   },
   {
    "duration": 377,
    "start_time": "2022-01-11T19:38:53.605Z"
   },
   {
    "duration": 16,
    "start_time": "2022-01-11T19:38:53.983Z"
   },
   {
    "duration": 7,
    "start_time": "2022-01-11T19:38:54.000Z"
   },
   {
    "duration": 263,
    "start_time": "2022-01-11T19:38:54.008Z"
   },
   {
    "duration": 7,
    "start_time": "2022-01-11T19:38:54.273Z"
   },
   {
    "duration": 9,
    "start_time": "2022-01-11T19:38:54.281Z"
   },
   {
    "duration": 6,
    "start_time": "2022-01-11T19:38:54.291Z"
   },
   {
    "duration": 10,
    "start_time": "2022-01-11T19:38:54.299Z"
   },
   {
    "duration": 23,
    "start_time": "2022-01-11T19:38:54.311Z"
   },
   {
    "duration": 129,
    "start_time": "2022-01-11T19:38:54.336Z"
   },
   {
    "duration": 188,
    "start_time": "2022-01-11T19:38:54.467Z"
   },
   {
    "duration": 11,
    "start_time": "2022-01-11T19:38:54.656Z"
   },
   {
    "duration": 9,
    "start_time": "2022-01-11T19:38:54.668Z"
   },
   {
    "duration": 257,
    "start_time": "2022-01-11T19:38:54.678Z"
   },
   {
    "duration": 135,
    "start_time": "2022-01-11T19:38:54.937Z"
   },
   {
    "duration": 130,
    "start_time": "2022-01-11T19:38:55.073Z"
   },
   {
    "duration": 6,
    "start_time": "2022-01-11T19:38:55.205Z"
   },
   {
    "duration": 133,
    "start_time": "2022-01-11T19:38:55.212Z"
   },
   {
    "duration": 9,
    "start_time": "2022-01-11T19:38:55.347Z"
   },
   {
    "duration": 14,
    "start_time": "2022-01-11T19:38:55.358Z"
   },
   {
    "duration": 10,
    "start_time": "2022-01-11T19:38:55.373Z"
   },
   {
    "duration": 10,
    "start_time": "2022-01-11T19:40:18.803Z"
   },
   {
    "duration": 767,
    "start_time": "2022-01-11T19:40:31.535Z"
   },
   {
    "duration": 26,
    "start_time": "2022-01-11T19:40:32.305Z"
   },
   {
    "duration": 10,
    "start_time": "2022-01-11T19:40:32.333Z"
   },
   {
    "duration": 16,
    "start_time": "2022-01-11T19:40:32.348Z"
   },
   {
    "duration": 7,
    "start_time": "2022-01-11T19:40:32.365Z"
   },
   {
    "duration": 9,
    "start_time": "2022-01-11T19:40:32.373Z"
   },
   {
    "duration": 4,
    "start_time": "2022-01-11T19:40:32.384Z"
   },
   {
    "duration": 45,
    "start_time": "2022-01-11T19:40:32.389Z"
   },
   {
    "duration": 27,
    "start_time": "2022-01-11T19:40:32.436Z"
   },
   {
    "duration": 30,
    "start_time": "2022-01-11T19:40:32.465Z"
   },
   {
    "duration": 8,
    "start_time": "2022-01-11T19:40:32.497Z"
   },
   {
    "duration": 20,
    "start_time": "2022-01-11T19:40:32.507Z"
   },
   {
    "duration": 9,
    "start_time": "2022-01-11T19:40:32.529Z"
   },
   {
    "duration": 18,
    "start_time": "2022-01-11T19:40:32.541Z"
   },
   {
    "duration": 7,
    "start_time": "2022-01-11T19:40:32.561Z"
   },
   {
    "duration": 8,
    "start_time": "2022-01-11T19:40:32.569Z"
   },
   {
    "duration": 7,
    "start_time": "2022-01-11T19:40:32.578Z"
   },
   {
    "duration": 7,
    "start_time": "2022-01-11T19:40:32.587Z"
   },
   {
    "duration": 5,
    "start_time": "2022-01-11T19:40:32.595Z"
   },
   {
    "duration": 3,
    "start_time": "2022-01-11T19:40:32.601Z"
   },
   {
    "duration": 530,
    "start_time": "2022-01-11T19:40:32.605Z"
   },
   {
    "duration": 6,
    "start_time": "2022-01-11T19:40:33.137Z"
   },
   {
    "duration": 487,
    "start_time": "2022-01-11T19:40:33.148Z"
   },
   {
    "duration": 4,
    "start_time": "2022-01-11T19:40:33.637Z"
   },
   {
    "duration": 565,
    "start_time": "2022-01-11T19:40:33.643Z"
   },
   {
    "duration": 42,
    "start_time": "2022-01-11T19:40:34.210Z"
   },
   {
    "duration": 9,
    "start_time": "2022-01-11T19:40:34.256Z"
   },
   {
    "duration": 528,
    "start_time": "2022-01-11T19:40:34.269Z"
   },
   {
    "duration": 8,
    "start_time": "2022-01-11T19:40:34.798Z"
   },
   {
    "duration": 476,
    "start_time": "2022-01-11T19:40:34.807Z"
   },
   {
    "duration": 8,
    "start_time": "2022-01-11T19:40:35.284Z"
   },
   {
    "duration": 445,
    "start_time": "2022-01-11T19:40:35.294Z"
   },
   {
    "duration": 12,
    "start_time": "2022-01-11T19:40:35.741Z"
   },
   {
    "duration": 479,
    "start_time": "2022-01-11T19:40:35.754Z"
   },
   {
    "duration": 25,
    "start_time": "2022-01-11T19:40:36.235Z"
   },
   {
    "duration": 588,
    "start_time": "2022-01-11T19:40:36.262Z"
   },
   {
    "duration": 13,
    "start_time": "2022-01-11T19:40:36.852Z"
   },
   {
    "duration": 8,
    "start_time": "2022-01-11T19:40:36.867Z"
   },
   {
    "duration": 363,
    "start_time": "2022-01-11T19:40:36.876Z"
   },
   {
    "duration": 25,
    "start_time": "2022-01-11T19:40:37.241Z"
   },
   {
    "duration": 7,
    "start_time": "2022-01-11T19:40:37.267Z"
   },
   {
    "duration": 232,
    "start_time": "2022-01-11T19:40:37.276Z"
   },
   {
    "duration": 18,
    "start_time": "2022-01-11T19:40:37.509Z"
   },
   {
    "duration": 9,
    "start_time": "2022-01-11T19:40:37.528Z"
   },
   {
    "duration": 18,
    "start_time": "2022-01-11T19:40:37.539Z"
   },
   {
    "duration": 17,
    "start_time": "2022-01-11T19:40:37.558Z"
   },
   {
    "duration": 7,
    "start_time": "2022-01-11T19:40:37.577Z"
   },
   {
    "duration": 91,
    "start_time": "2022-01-11T19:40:37.586Z"
   },
   {
    "duration": 182,
    "start_time": "2022-01-11T19:40:37.679Z"
   },
   {
    "duration": 9,
    "start_time": "2022-01-11T19:40:37.862Z"
   },
   {
    "duration": 6,
    "start_time": "2022-01-11T19:40:37.873Z"
   },
   {
    "duration": 257,
    "start_time": "2022-01-11T19:40:37.881Z"
   },
   {
    "duration": 131,
    "start_time": "2022-01-11T19:40:38.143Z"
   },
   {
    "duration": 126,
    "start_time": "2022-01-11T19:40:38.276Z"
   },
   {
    "duration": 7,
    "start_time": "2022-01-11T19:40:38.404Z"
   },
   {
    "duration": 139,
    "start_time": "2022-01-11T19:40:38.413Z"
   },
   {
    "duration": 8,
    "start_time": "2022-01-11T19:40:38.555Z"
   },
   {
    "duration": 14,
    "start_time": "2022-01-11T19:40:38.565Z"
   },
   {
    "duration": 9,
    "start_time": "2022-01-11T19:40:38.580Z"
   },
   {
    "duration": 8,
    "start_time": "2022-01-11T19:42:11.717Z"
   },
   {
    "duration": 261,
    "start_time": "2022-01-11T19:44:45.435Z"
   },
   {
    "duration": 146,
    "start_time": "2022-01-11T19:44:51.514Z"
   },
   {
    "duration": 273,
    "start_time": "2022-01-11T19:46:40.716Z"
   },
   {
    "duration": 159,
    "start_time": "2022-01-11T19:46:53.159Z"
   },
   {
    "duration": 133,
    "start_time": "2022-01-11T19:50:21.050Z"
   },
   {
    "duration": 128,
    "start_time": "2022-01-11T19:50:37.058Z"
   },
   {
    "duration": 8,
    "start_time": "2022-01-11T20:00:42.153Z"
   },
   {
    "duration": 19,
    "start_time": "2022-01-11T20:01:26.831Z"
   },
   {
    "duration": 10,
    "start_time": "2022-01-11T20:02:03.196Z"
   },
   {
    "duration": 13,
    "start_time": "2022-01-11T20:02:28.939Z"
   },
   {
    "duration": 3,
    "start_time": "2022-01-11T20:04:10.569Z"
   },
   {
    "duration": 10,
    "start_time": "2022-01-11T20:06:27.022Z"
   },
   {
    "duration": 10,
    "start_time": "2022-01-11T20:15:41.004Z"
   },
   {
    "duration": 6,
    "start_time": "2022-01-11T20:16:18.755Z"
   },
   {
    "duration": 8,
    "start_time": "2022-01-11T20:16:56.909Z"
   },
   {
    "duration": 4,
    "start_time": "2022-01-11T20:22:41.098Z"
   },
   {
    "duration": 327,
    "start_time": "2022-01-11T20:25:00.578Z"
   },
   {
    "duration": 375,
    "start_time": "2022-01-11T20:25:40.105Z"
   },
   {
    "duration": 144,
    "start_time": "2022-01-11T20:27:01.500Z"
   },
   {
    "duration": 160,
    "start_time": "2022-01-11T20:27:23.645Z"
   },
   {
    "duration": 122,
    "start_time": "2022-01-11T20:28:18.549Z"
   },
   {
    "duration": 163,
    "start_time": "2022-01-11T20:28:45.015Z"
   },
   {
    "duration": 162,
    "start_time": "2022-01-11T20:28:53.552Z"
   },
   {
    "duration": 119,
    "start_time": "2022-01-11T20:29:53.914Z"
   },
   {
    "duration": 128,
    "start_time": "2022-01-11T20:29:58.770Z"
   },
   {
    "duration": 8,
    "start_time": "2022-01-11T20:30:04.774Z"
   },
   {
    "duration": 8,
    "start_time": "2022-01-11T20:30:11.499Z"
   },
   {
    "duration": 11,
    "start_time": "2022-01-11T20:30:34.232Z"
   },
   {
    "duration": 14,
    "start_time": "2022-01-11T20:30:39.129Z"
   },
   {
    "duration": 12,
    "start_time": "2022-01-11T20:31:19.549Z"
   },
   {
    "duration": 8,
    "start_time": "2022-01-11T20:32:50.567Z"
   },
   {
    "duration": 8,
    "start_time": "2022-01-11T20:32:54.280Z"
   },
   {
    "duration": 11,
    "start_time": "2022-01-11T20:35:20.662Z"
   },
   {
    "duration": 13,
    "start_time": "2022-01-11T20:35:45.555Z"
   },
   {
    "duration": 5,
    "start_time": "2022-01-11T20:43:24.146Z"
   },
   {
    "duration": 740,
    "start_time": "2022-01-12T10:37:17.017Z"
   },
   {
    "duration": 37,
    "start_time": "2022-01-12T10:37:17.759Z"
   },
   {
    "duration": 6,
    "start_time": "2022-01-12T10:37:17.799Z"
   },
   {
    "duration": 12,
    "start_time": "2022-01-12T10:37:17.807Z"
   },
   {
    "duration": 9,
    "start_time": "2022-01-12T10:37:17.822Z"
   },
   {
    "duration": 34,
    "start_time": "2022-01-12T10:37:17.833Z"
   },
   {
    "duration": 10,
    "start_time": "2022-01-12T10:37:17.870Z"
   },
   {
    "duration": 77,
    "start_time": "2022-01-12T10:37:17.884Z"
   },
   {
    "duration": 25,
    "start_time": "2022-01-12T10:37:17.963Z"
   },
   {
    "duration": 50,
    "start_time": "2022-01-12T10:37:17.990Z"
   },
   {
    "duration": 29,
    "start_time": "2022-01-12T10:37:18.043Z"
   },
   {
    "duration": 5,
    "start_time": "2022-01-12T10:37:18.074Z"
   },
   {
    "duration": 8,
    "start_time": "2022-01-12T10:37:18.081Z"
   },
   {
    "duration": 10,
    "start_time": "2022-01-12T10:37:18.091Z"
   },
   {
    "duration": 8,
    "start_time": "2022-01-12T10:37:18.103Z"
   },
   {
    "duration": 8,
    "start_time": "2022-01-12T10:37:18.113Z"
   },
   {
    "duration": 39,
    "start_time": "2022-01-12T10:37:18.122Z"
   },
   {
    "duration": 6,
    "start_time": "2022-01-12T10:37:18.162Z"
   },
   {
    "duration": 6,
    "start_time": "2022-01-12T10:37:18.170Z"
   },
   {
    "duration": 5,
    "start_time": "2022-01-12T10:37:18.178Z"
   },
   {
    "duration": 875,
    "start_time": "2022-01-12T10:37:18.185Z"
   },
   {
    "duration": 3,
    "start_time": "2022-01-12T10:37:19.063Z"
   },
   {
    "duration": 750,
    "start_time": "2022-01-12T10:37:19.072Z"
   },
   {
    "duration": 4,
    "start_time": "2022-01-12T10:37:19.860Z"
   },
   {
    "duration": 955,
    "start_time": "2022-01-12T10:37:19.866Z"
   },
   {
    "duration": 39,
    "start_time": "2022-01-12T10:37:20.823Z"
   },
   {
    "duration": 17,
    "start_time": "2022-01-12T10:37:20.864Z"
   },
   {
    "duration": 549,
    "start_time": "2022-01-12T10:37:20.883Z"
   },
   {
    "duration": 9,
    "start_time": "2022-01-12T10:37:21.434Z"
   },
   {
    "duration": 649,
    "start_time": "2022-01-12T10:37:21.445Z"
   },
   {
    "duration": 11,
    "start_time": "2022-01-12T10:37:22.096Z"
   },
   {
    "duration": 458,
    "start_time": "2022-01-12T10:37:22.109Z"
   },
   {
    "duration": 10,
    "start_time": "2022-01-12T10:37:22.569Z"
   },
   {
    "duration": 530,
    "start_time": "2022-01-12T10:37:22.581Z"
   },
   {
    "duration": 20,
    "start_time": "2022-01-12T10:37:23.113Z"
   },
   {
    "duration": 599,
    "start_time": "2022-01-12T10:37:23.136Z"
   },
   {
    "duration": 25,
    "start_time": "2022-01-12T10:37:23.738Z"
   },
   {
    "duration": 10,
    "start_time": "2022-01-12T10:37:23.765Z"
   },
   {
    "duration": 386,
    "start_time": "2022-01-12T10:37:23.777Z"
   },
   {
    "duration": 18,
    "start_time": "2022-01-12T10:37:24.165Z"
   },
   {
    "duration": 9,
    "start_time": "2022-01-12T10:37:24.186Z"
   },
   {
    "duration": 382,
    "start_time": "2022-01-12T10:37:24.197Z"
   },
   {
    "duration": 10,
    "start_time": "2022-01-12T10:37:24.582Z"
   },
   {
    "duration": 8,
    "start_time": "2022-01-12T10:37:24.594Z"
   },
   {
    "duration": 16,
    "start_time": "2022-01-12T10:37:24.604Z"
   },
   {
    "duration": 39,
    "start_time": "2022-01-12T10:37:24.622Z"
   },
   {
    "duration": 12,
    "start_time": "2022-01-12T10:37:24.662Z"
   },
   {
    "duration": 118,
    "start_time": "2022-01-12T10:37:24.675Z"
   },
   {
    "duration": 201,
    "start_time": "2022-01-12T10:37:24.795Z"
   },
   {
    "duration": 11,
    "start_time": "2022-01-12T10:37:24.999Z"
   },
   {
    "duration": 265,
    "start_time": "2022-01-12T10:37:25.012Z"
   },
   {
    "duration": 142,
    "start_time": "2022-01-12T10:37:25.279Z"
   },
   {
    "duration": 136,
    "start_time": "2022-01-12T10:37:25.423Z"
   },
   {
    "duration": 8,
    "start_time": "2022-01-12T10:37:25.561Z"
   },
   {
    "duration": 205,
    "start_time": "2022-01-12T10:37:25.570Z"
   },
   {
    "duration": 9,
    "start_time": "2022-01-12T10:37:25.777Z"
   },
   {
    "duration": 11,
    "start_time": "2022-01-12T10:37:25.788Z"
   },
   {
    "duration": 8,
    "start_time": "2022-01-12T10:37:25.801Z"
   },
   {
    "duration": 320,
    "start_time": "2022-01-12T10:37:25.810Z"
   },
   {
    "duration": 236,
    "start_time": "2022-01-12T10:37:26.132Z"
   },
   {
    "duration": 151,
    "start_time": "2022-01-12T10:37:26.371Z"
   },
   {
    "duration": 10,
    "start_time": "2022-01-12T10:37:26.524Z"
   },
   {
    "duration": 10,
    "start_time": "2022-01-12T10:37:26.536Z"
   },
   {
    "duration": 5,
    "start_time": "2022-01-12T10:37:26.560Z"
   },
   {
    "duration": 11,
    "start_time": "2022-01-12T10:37:26.567Z"
   },
   {
    "duration": 438,
    "start_time": "2022-01-12T10:37:26.579Z"
   },
   {
    "duration": 154,
    "start_time": "2022-01-12T10:37:27.019Z"
   },
   {
    "duration": 209,
    "start_time": "2022-01-12T10:37:27.178Z"
   },
   {
    "duration": 10,
    "start_time": "2022-01-12T10:37:27.389Z"
   },
   {
    "duration": 12,
    "start_time": "2022-01-12T10:37:27.400Z"
   },
   {
    "duration": 5,
    "start_time": "2022-01-12T10:37:27.414Z"
   },
   {
    "duration": 1897,
    "start_time": "2022-01-12T10:51:24.529Z"
   },
   {
    "duration": 3001,
    "start_time": "2022-01-12T10:51:56.830Z"
   },
   {
    "duration": 3113,
    "start_time": "2022-01-12T10:52:20.415Z"
   },
   {
    "duration": 448,
    "start_time": "2022-01-12T10:53:22.423Z"
   },
   {
    "duration": 3194,
    "start_time": "2022-01-12T11:03:24.961Z"
   },
   {
    "duration": 3093,
    "start_time": "2022-01-12T11:03:44.259Z"
   },
   {
    "duration": 3112,
    "start_time": "2022-01-12T11:03:57.150Z"
   },
   {
    "duration": 98,
    "start_time": "2022-01-12T11:05:14.923Z"
   },
   {
    "duration": 3242,
    "start_time": "2022-01-12T11:05:54.901Z"
   },
   {
    "duration": 3106,
    "start_time": "2022-01-12T11:06:12.949Z"
   },
   {
    "duration": 3223,
    "start_time": "2022-01-12T11:06:35.647Z"
   },
   {
    "duration": 3220,
    "start_time": "2022-01-12T11:07:45.213Z"
   },
   {
    "duration": 6,
    "start_time": "2022-01-12T11:36:45.463Z"
   },
   {
    "duration": 50,
    "start_time": "2022-01-12T11:36:56.822Z"
   },
   {
    "duration": 39,
    "start_time": "2022-01-12T11:37:36.234Z"
   },
   {
    "duration": 62,
    "start_time": "2022-01-12T11:38:44.968Z"
   },
   {
    "duration": 39,
    "start_time": "2022-01-12T11:41:07.477Z"
   },
   {
    "duration": 3,
    "start_time": "2022-01-12T11:41:17.569Z"
   },
   {
    "duration": 718,
    "start_time": "2022-01-12T11:41:28.544Z"
   },
   {
    "duration": 22,
    "start_time": "2022-01-12T11:41:29.265Z"
   },
   {
    "duration": 14,
    "start_time": "2022-01-12T11:41:29.291Z"
   },
   {
    "duration": 25,
    "start_time": "2022-01-12T11:41:29.307Z"
   },
   {
    "duration": 29,
    "start_time": "2022-01-12T11:41:29.333Z"
   },
   {
    "duration": 12,
    "start_time": "2022-01-12T11:41:29.364Z"
   },
   {
    "duration": 6,
    "start_time": "2022-01-12T11:41:29.379Z"
   },
   {
    "duration": 58,
    "start_time": "2022-01-12T11:41:29.388Z"
   },
   {
    "duration": 42,
    "start_time": "2022-01-12T11:41:29.448Z"
   },
   {
    "duration": 43,
    "start_time": "2022-01-12T11:41:29.492Z"
   },
   {
    "duration": 32,
    "start_time": "2022-01-12T11:41:29.537Z"
   },
   {
    "duration": 7,
    "start_time": "2022-01-12T11:41:29.571Z"
   },
   {
    "duration": 11,
    "start_time": "2022-01-12T11:41:29.579Z"
   },
   {
    "duration": 17,
    "start_time": "2022-01-12T11:41:29.592Z"
   },
   {
    "duration": 9,
    "start_time": "2022-01-12T11:41:29.612Z"
   },
   {
    "duration": 12,
    "start_time": "2022-01-12T11:41:29.623Z"
   },
   {
    "duration": 31,
    "start_time": "2022-01-12T11:41:29.637Z"
   },
   {
    "duration": 6,
    "start_time": "2022-01-12T11:41:29.670Z"
   },
   {
    "duration": 11,
    "start_time": "2022-01-12T11:41:29.678Z"
   },
   {
    "duration": 4,
    "start_time": "2022-01-12T11:41:29.691Z"
   },
   {
    "duration": 507,
    "start_time": "2022-01-12T11:41:29.697Z"
   },
   {
    "duration": 3,
    "start_time": "2022-01-12T11:41:30.208Z"
   },
   {
    "duration": 524,
    "start_time": "2022-01-12T11:41:30.213Z"
   },
   {
    "duration": 3,
    "start_time": "2022-01-12T11:41:30.739Z"
   },
   {
    "duration": 572,
    "start_time": "2022-01-12T11:41:30.744Z"
   },
   {
    "duration": 30,
    "start_time": "2022-01-12T11:41:31.318Z"
   },
   {
    "duration": 17,
    "start_time": "2022-01-12T11:41:31.350Z"
   },
   {
    "duration": 574,
    "start_time": "2022-01-12T11:41:31.369Z"
   },
   {
    "duration": 17,
    "start_time": "2022-01-12T11:41:31.945Z"
   },
   {
    "duration": 483,
    "start_time": "2022-01-12T11:41:31.964Z"
   },
   {
    "duration": 17,
    "start_time": "2022-01-12T11:41:32.449Z"
   },
   {
    "duration": 456,
    "start_time": "2022-01-12T11:41:32.468Z"
   },
   {
    "duration": 9,
    "start_time": "2022-01-12T11:41:32.926Z"
   },
   {
    "duration": 506,
    "start_time": "2022-01-12T11:41:32.937Z"
   },
   {
    "duration": 28,
    "start_time": "2022-01-12T11:41:33.445Z"
   },
   {
    "duration": 564,
    "start_time": "2022-01-12T11:41:33.474Z"
   },
   {
    "duration": 21,
    "start_time": "2022-01-12T11:41:34.040Z"
   },
   {
    "duration": 12,
    "start_time": "2022-01-12T11:41:34.063Z"
   },
   {
    "duration": 370,
    "start_time": "2022-01-12T11:41:34.076Z"
   },
   {
    "duration": 21,
    "start_time": "2022-01-12T11:41:34.448Z"
   },
   {
    "duration": 7,
    "start_time": "2022-01-12T11:41:34.471Z"
   },
   {
    "duration": 236,
    "start_time": "2022-01-12T11:41:34.480Z"
   },
   {
    "duration": 9,
    "start_time": "2022-01-12T11:41:34.718Z"
   },
   {
    "duration": 10,
    "start_time": "2022-01-12T11:41:34.729Z"
   },
   {
    "duration": 27,
    "start_time": "2022-01-12T11:41:34.740Z"
   },
   {
    "duration": 9,
    "start_time": "2022-01-12T11:41:34.769Z"
   },
   {
    "duration": 105,
    "start_time": "2022-01-12T11:41:34.780Z"
   },
   {
    "duration": 24,
    "start_time": "2022-01-12T11:41:34.887Z"
   },
   {
    "duration": 188,
    "start_time": "2022-01-12T11:41:34.913Z"
   },
   {
    "duration": 10,
    "start_time": "2022-01-12T11:41:35.103Z"
   },
   {
    "duration": 263,
    "start_time": "2022-01-12T11:41:35.115Z"
   },
   {
    "duration": 136,
    "start_time": "2022-01-12T11:41:35.380Z"
   },
   {
    "duration": 136,
    "start_time": "2022-01-12T11:41:35.518Z"
   },
   {
    "duration": 9,
    "start_time": "2022-01-12T11:41:35.657Z"
   },
   {
    "duration": 136,
    "start_time": "2022-01-12T11:41:35.668Z"
   },
   {
    "duration": 8,
    "start_time": "2022-01-12T11:41:35.806Z"
   },
   {
    "duration": 19,
    "start_time": "2022-01-12T11:41:35.816Z"
   },
   {
    "duration": 26,
    "start_time": "2022-01-12T11:41:35.837Z"
   },
   {
    "duration": 237,
    "start_time": "2022-01-12T11:41:35.865Z"
   },
   {
    "duration": 148,
    "start_time": "2022-01-12T11:41:36.104Z"
   },
   {
    "duration": 132,
    "start_time": "2022-01-12T11:41:36.255Z"
   },
   {
    "duration": 11,
    "start_time": "2022-01-12T11:41:36.389Z"
   },
   {
    "duration": 5,
    "start_time": "2022-01-12T11:41:36.402Z"
   },
   {
    "duration": 8,
    "start_time": "2022-01-12T11:41:36.409Z"
   },
   {
    "duration": 13,
    "start_time": "2022-01-12T11:41:36.418Z"
   },
   {
    "duration": 272,
    "start_time": "2022-01-12T11:41:36.432Z"
   },
   {
    "duration": 159,
    "start_time": "2022-01-12T11:41:36.711Z"
   },
   {
    "duration": 221,
    "start_time": "2022-01-12T11:41:36.873Z"
   },
   {
    "duration": 11,
    "start_time": "2022-01-12T11:41:37.096Z"
   },
   {
    "duration": 18,
    "start_time": "2022-01-12T11:41:37.109Z"
   },
   {
    "duration": 3,
    "start_time": "2022-01-12T11:41:37.129Z"
   },
   {
    "duration": 13,
    "start_time": "2022-01-12T11:41:37.134Z"
   },
   {
    "duration": 2972,
    "start_time": "2022-01-12T11:41:37.161Z"
   },
   {
    "duration": 25,
    "start_time": "2022-01-12T11:45:42.227Z"
   },
   {
    "duration": 17,
    "start_time": "2022-01-12T11:46:51.743Z"
   },
   {
    "duration": 37,
    "start_time": "2022-01-12T11:52:00.257Z"
   },
   {
    "duration": 48,
    "start_time": "2022-01-12T11:52:05.849Z"
   },
   {
    "duration": 36,
    "start_time": "2022-01-12T11:52:20.186Z"
   },
   {
    "duration": 455,
    "start_time": "2022-01-12T11:53:04.921Z"
   },
   {
    "duration": 792,
    "start_time": "2022-01-12T11:54:22.139Z"
   },
   {
    "duration": 307,
    "start_time": "2022-01-12T11:54:54.215Z"
   },
   {
    "duration": 278,
    "start_time": "2022-01-12T11:55:45.817Z"
   },
   {
    "duration": 27,
    "start_time": "2022-01-12T11:55:50.485Z"
   },
   {
    "duration": 27,
    "start_time": "2022-01-12T11:56:37.917Z"
   },
   {
    "duration": 393,
    "start_time": "2022-01-12T11:57:06.572Z"
   },
   {
    "duration": 286,
    "start_time": "2022-01-12T11:57:29.476Z"
   },
   {
    "duration": 296,
    "start_time": "2022-01-12T11:57:47.715Z"
   },
   {
    "duration": 400,
    "start_time": "2022-01-12T11:58:02.274Z"
   },
   {
    "duration": 265,
    "start_time": "2022-01-12T11:58:07.511Z"
   },
   {
    "duration": 27,
    "start_time": "2022-01-12T11:58:14.986Z"
   },
   {
    "duration": 324,
    "start_time": "2022-01-12T11:58:36.095Z"
   },
   {
    "duration": 267,
    "start_time": "2022-01-12T11:58:46.310Z"
   },
   {
    "duration": 22,
    "start_time": "2022-01-12T12:00:04.233Z"
   },
   {
    "duration": 32,
    "start_time": "2022-01-12T12:00:36.892Z"
   },
   {
    "duration": 29,
    "start_time": "2022-01-12T12:00:51.911Z"
   },
   {
    "duration": 27,
    "start_time": "2022-01-12T12:01:06.143Z"
   },
   {
    "duration": 28,
    "start_time": "2022-01-12T12:01:20.343Z"
   },
   {
    "duration": 26,
    "start_time": "2022-01-12T12:01:51.426Z"
   },
   {
    "duration": 27,
    "start_time": "2022-01-12T12:02:16.848Z"
   },
   {
    "duration": 27,
    "start_time": "2022-01-12T12:04:05.472Z"
   },
   {
    "duration": 3,
    "start_time": "2022-01-12T12:05:20.370Z"
   },
   {
    "duration": 8,
    "start_time": "2022-01-12T12:05:27.621Z"
   },
   {
    "duration": 23,
    "start_time": "2022-01-12T12:06:00.169Z"
   },
   {
    "duration": 9,
    "start_time": "2022-01-12T12:06:16.665Z"
   },
   {
    "duration": 10,
    "start_time": "2022-01-12T12:07:07.625Z"
   },
   {
    "duration": 10,
    "start_time": "2022-01-12T13:18:57.612Z"
   },
   {
    "duration": 9,
    "start_time": "2022-01-12T13:19:06.759Z"
   },
   {
    "duration": 6,
    "start_time": "2022-01-12T13:26:06.544Z"
   },
   {
    "duration": 4,
    "start_time": "2022-01-12T13:26:32.373Z"
   },
   {
    "duration": 4,
    "start_time": "2022-01-12T13:26:36.966Z"
   },
   {
    "duration": 4,
    "start_time": "2022-01-12T13:26:38.814Z"
   },
   {
    "duration": 18,
    "start_time": "2022-01-12T13:29:20.727Z"
   },
   {
    "duration": 19,
    "start_time": "2022-01-12T13:31:16.001Z"
   },
   {
    "duration": 259,
    "start_time": "2022-01-12T13:32:24.621Z"
   },
   {
    "duration": 17,
    "start_time": "2022-01-12T13:34:09.560Z"
   },
   {
    "duration": 12,
    "start_time": "2022-01-12T13:34:39.098Z"
   },
   {
    "duration": 311,
    "start_time": "2022-01-12T13:34:45.515Z"
   },
   {
    "duration": 19,
    "start_time": "2022-01-12T13:39:18.862Z"
   },
   {
    "duration": 20,
    "start_time": "2022-01-12T13:39:46.201Z"
   },
   {
    "duration": 13,
    "start_time": "2022-01-12T13:41:38.855Z"
   },
   {
    "duration": 14,
    "start_time": "2022-01-12T13:41:52.364Z"
   },
   {
    "duration": 13,
    "start_time": "2022-01-12T13:41:57.440Z"
   },
   {
    "duration": 18,
    "start_time": "2022-01-12T13:42:07.616Z"
   },
   {
    "duration": 19,
    "start_time": "2022-01-12T13:42:17.900Z"
   },
   {
    "duration": 15,
    "start_time": "2022-01-12T13:42:31.924Z"
   },
   {
    "duration": 20,
    "start_time": "2022-01-12T13:42:37.793Z"
   },
   {
    "duration": 288,
    "start_time": "2022-01-12T13:43:38.766Z"
   },
   {
    "duration": 20,
    "start_time": "2022-01-12T13:43:43.917Z"
   },
   {
    "duration": 18,
    "start_time": "2022-01-12T13:43:56.665Z"
   },
   {
    "duration": 20,
    "start_time": "2022-01-12T13:44:33.782Z"
   },
   {
    "duration": 18,
    "start_time": "2022-01-12T13:45:06.459Z"
   },
   {
    "duration": 18,
    "start_time": "2022-01-12T13:45:41.051Z"
   },
   {
    "duration": 19,
    "start_time": "2022-01-12T13:47:28.994Z"
   },
   {
    "duration": 3,
    "start_time": "2022-01-12T13:50:46.068Z"
   },
   {
    "duration": 21,
    "start_time": "2022-01-12T13:50:51.105Z"
   },
   {
    "duration": 3,
    "start_time": "2022-01-12T13:50:52.486Z"
   },
   {
    "duration": 20,
    "start_time": "2022-01-12T13:50:53.759Z"
   },
   {
    "duration": 20,
    "start_time": "2022-01-12T13:51:13.286Z"
   },
   {
    "duration": 22,
    "start_time": "2022-01-12T13:51:24.184Z"
   },
   {
    "duration": 28,
    "start_time": "2022-01-12T13:51:37.631Z"
   },
   {
    "duration": 26,
    "start_time": "2022-01-12T13:51:54.158Z"
   },
   {
    "duration": 6856,
    "start_time": "2022-01-12T13:52:01.615Z"
   },
   {
    "duration": 29,
    "start_time": "2022-01-12T13:52:20.973Z"
   },
   {
    "duration": 19,
    "start_time": "2022-01-12T13:52:22.816Z"
   },
   {
    "duration": 30,
    "start_time": "2022-01-12T13:52:46.567Z"
   },
   {
    "duration": 270,
    "start_time": "2022-01-12T13:53:02.760Z"
   },
   {
    "duration": 41,
    "start_time": "2022-01-12T13:53:15.215Z"
   },
   {
    "duration": 27,
    "start_time": "2022-01-12T13:53:30.037Z"
   },
   {
    "duration": 7783,
    "start_time": "2022-01-12T13:53:51.682Z"
   },
   {
    "duration": 86,
    "start_time": "2022-01-12T13:54:00.017Z"
   },
   {
    "duration": 268,
    "start_time": "2022-01-12T13:54:08.039Z"
   },
   {
    "duration": 8569,
    "start_time": "2022-01-12T13:54:13.901Z"
   },
   {
    "duration": 86,
    "start_time": "2022-01-12T13:54:38.264Z"
   },
   {
    "duration": 90,
    "start_time": "2022-01-12T13:54:41.986Z"
   },
   {
    "duration": 22,
    "start_time": "2022-01-12T13:54:45.886Z"
   },
   {
    "duration": 8,
    "start_time": "2022-01-12T13:58:41.944Z"
   },
   {
    "duration": 18,
    "start_time": "2022-01-12T13:58:48.783Z"
   },
   {
    "duration": 42,
    "start_time": "2022-01-12T13:58:54.051Z"
   },
   {
    "duration": 8,
    "start_time": "2022-01-12T13:59:23.700Z"
   },
   {
    "duration": 5,
    "start_time": "2022-01-12T14:01:45.626Z"
   },
   {
    "duration": 4,
    "start_time": "2022-01-12T14:02:02.105Z"
   },
   {
    "duration": 4,
    "start_time": "2022-01-12T14:05:37.738Z"
   },
   {
    "duration": 8,
    "start_time": "2022-01-12T14:05:47.837Z"
   },
   {
    "duration": 4,
    "start_time": "2022-01-12T14:06:18.692Z"
   },
   {
    "duration": 11,
    "start_time": "2022-01-12T14:08:14.153Z"
   },
   {
    "duration": 20,
    "start_time": "2022-01-12T14:08:21.843Z"
   },
   {
    "duration": 13,
    "start_time": "2022-01-12T14:08:43.898Z"
   },
   {
    "duration": 15,
    "start_time": "2022-01-12T14:10:22.747Z"
   },
   {
    "duration": 6479,
    "start_time": "2022-01-12T14:10:48.960Z"
   },
   {
    "duration": 14,
    "start_time": "2022-01-12T14:11:11.861Z"
   },
   {
    "duration": 194,
    "start_time": "2022-01-12T14:11:15.692Z"
   },
   {
    "duration": 167,
    "start_time": "2022-01-12T14:11:32.918Z"
   },
   {
    "duration": 179,
    "start_time": "2022-01-12T14:13:16.307Z"
   },
   {
    "duration": 232,
    "start_time": "2022-01-12T14:13:22.448Z"
   },
   {
    "duration": 164,
    "start_time": "2022-01-12T14:13:40.397Z"
   },
   {
    "duration": 7,
    "start_time": "2022-01-12T14:34:12.911Z"
   },
   {
    "duration": 36,
    "start_time": "2022-01-12T14:34:22.728Z"
   },
   {
    "duration": 27,
    "start_time": "2022-01-12T14:34:31.456Z"
   },
   {
    "duration": 6,
    "start_time": "2022-01-12T14:34:43.419Z"
   },
   {
    "duration": 7,
    "start_time": "2022-01-12T14:37:48.240Z"
   },
   {
    "duration": 36,
    "start_time": "2022-01-12T14:37:54.346Z"
   },
   {
    "duration": 9,
    "start_time": "2022-01-12T14:37:59.173Z"
   },
   {
    "duration": 227,
    "start_time": "2022-01-12T14:41:26.186Z"
   },
   {
    "duration": 665,
    "start_time": "2022-01-12T14:41:34.690Z"
   },
   {
    "duration": 771,
    "start_time": "2022-01-12T14:42:06.163Z"
   },
   {
    "duration": 1424,
    "start_time": "2022-01-12T14:44:04.216Z"
   },
   {
    "duration": 1586,
    "start_time": "2022-01-12T14:45:42.471Z"
   },
   {
    "duration": 1486,
    "start_time": "2022-01-12T14:46:16.025Z"
   },
   {
    "duration": 801,
    "start_time": "2022-01-12T14:46:51.590Z"
   },
   {
    "duration": 813,
    "start_time": "2022-01-12T14:47:06.054Z"
   },
   {
    "duration": 867,
    "start_time": "2022-01-12T14:47:16.752Z"
   },
   {
    "duration": 828,
    "start_time": "2022-01-12T14:47:32.775Z"
   },
   {
    "duration": 805,
    "start_time": "2022-01-12T14:47:58.962Z"
   },
   {
    "duration": 884,
    "start_time": "2022-01-12T14:48:54.939Z"
   },
   {
    "duration": 883,
    "start_time": "2022-01-12T14:49:29.051Z"
   },
   {
    "duration": 971,
    "start_time": "2022-01-12T14:50:19.906Z"
   },
   {
    "duration": 927,
    "start_time": "2022-01-12T14:50:28.491Z"
   },
   {
    "duration": 942,
    "start_time": "2022-01-12T15:04:04.494Z"
   },
   {
    "duration": 1168,
    "start_time": "2022-01-12T15:06:55.729Z"
   },
   {
    "duration": 1420,
    "start_time": "2022-01-12T15:08:32.932Z"
   },
   {
    "duration": 1378,
    "start_time": "2022-01-12T15:09:38.503Z"
   },
   {
    "duration": 1354,
    "start_time": "2022-01-12T15:09:48.421Z"
   },
   {
    "duration": 2329,
    "start_time": "2022-01-12T15:10:31.733Z"
   },
   {
    "duration": 2537,
    "start_time": "2022-01-12T15:12:30.436Z"
   },
   {
    "duration": 2473,
    "start_time": "2022-01-12T15:13:30.912Z"
   },
   {
    "duration": 2522,
    "start_time": "2022-01-12T15:13:55.028Z"
   },
   {
    "duration": 2375,
    "start_time": "2022-01-12T15:18:21.961Z"
   },
   {
    "duration": 2388,
    "start_time": "2022-01-12T15:18:43.830Z"
   },
   {
    "duration": 2512,
    "start_time": "2022-01-12T15:19:00.542Z"
   },
   {
    "duration": 37,
    "start_time": "2022-01-12T15:19:38.685Z"
   },
   {
    "duration": 17,
    "start_time": "2022-01-12T15:28:44.228Z"
   },
   {
    "duration": 15,
    "start_time": "2022-01-12T15:28:50.728Z"
   },
   {
    "duration": 756,
    "start_time": "2022-01-12T15:34:04.540Z"
   },
   {
    "duration": 23,
    "start_time": "2022-01-12T15:34:05.298Z"
   },
   {
    "duration": 6,
    "start_time": "2022-01-12T15:34:05.327Z"
   },
   {
    "duration": 27,
    "start_time": "2022-01-12T15:34:05.335Z"
   },
   {
    "duration": 8,
    "start_time": "2022-01-12T15:34:05.364Z"
   },
   {
    "duration": 10,
    "start_time": "2022-01-12T15:34:05.374Z"
   },
   {
    "duration": 6,
    "start_time": "2022-01-12T15:34:05.387Z"
   },
   {
    "duration": 51,
    "start_time": "2022-01-12T15:34:05.395Z"
   },
   {
    "duration": 36,
    "start_time": "2022-01-12T15:34:05.448Z"
   },
   {
    "duration": 33,
    "start_time": "2022-01-12T15:34:05.486Z"
   },
   {
    "duration": 10,
    "start_time": "2022-01-12T15:34:05.521Z"
   },
   {
    "duration": 6,
    "start_time": "2022-01-12T15:34:05.560Z"
   },
   {
    "duration": 9,
    "start_time": "2022-01-12T15:34:05.568Z"
   },
   {
    "duration": 14,
    "start_time": "2022-01-12T15:34:05.579Z"
   },
   {
    "duration": 5,
    "start_time": "2022-01-12T15:34:05.595Z"
   },
   {
    "duration": 11,
    "start_time": "2022-01-12T15:34:05.602Z"
   },
   {
    "duration": 8,
    "start_time": "2022-01-12T15:34:05.615Z"
   },
   {
    "duration": 6,
    "start_time": "2022-01-12T15:34:05.624Z"
   },
   {
    "duration": 35,
    "start_time": "2022-01-12T15:34:05.632Z"
   },
   {
    "duration": 4,
    "start_time": "2022-01-12T15:34:05.669Z"
   },
   {
    "duration": 529,
    "start_time": "2022-01-12T15:34:05.675Z"
   },
   {
    "duration": 2,
    "start_time": "2022-01-12T15:34:06.209Z"
   },
   {
    "duration": 565,
    "start_time": "2022-01-12T15:34:06.214Z"
   },
   {
    "duration": 3,
    "start_time": "2022-01-12T15:34:06.781Z"
   },
   {
    "duration": 564,
    "start_time": "2022-01-12T15:34:06.786Z"
   },
   {
    "duration": 38,
    "start_time": "2022-01-12T15:34:07.352Z"
   },
   {
    "duration": 9,
    "start_time": "2022-01-12T15:34:07.392Z"
   },
   {
    "duration": 588,
    "start_time": "2022-01-12T15:34:07.402Z"
   },
   {
    "duration": 9,
    "start_time": "2022-01-12T15:34:07.992Z"
   },
   {
    "duration": 511,
    "start_time": "2022-01-12T15:34:08.002Z"
   },
   {
    "duration": 9,
    "start_time": "2022-01-12T15:34:08.515Z"
   },
   {
    "duration": 467,
    "start_time": "2022-01-12T15:34:08.526Z"
   },
   {
    "duration": 9,
    "start_time": "2022-01-12T15:34:08.995Z"
   },
   {
    "duration": 536,
    "start_time": "2022-01-12T15:34:09.006Z"
   },
   {
    "duration": 28,
    "start_time": "2022-01-12T15:34:09.544Z"
   },
   {
    "duration": 607,
    "start_time": "2022-01-12T15:34:09.573Z"
   },
   {
    "duration": 13,
    "start_time": "2022-01-12T15:34:10.182Z"
   },
   {
    "duration": 38,
    "start_time": "2022-01-12T15:34:10.197Z"
   },
   {
    "duration": 398,
    "start_time": "2022-01-12T15:34:10.237Z"
   },
   {
    "duration": 26,
    "start_time": "2022-01-12T15:34:10.637Z"
   },
   {
    "duration": 14,
    "start_time": "2022-01-12T15:34:10.665Z"
   },
   {
    "duration": 234,
    "start_time": "2022-01-12T15:34:10.680Z"
   },
   {
    "duration": 8,
    "start_time": "2022-01-12T15:34:10.916Z"
   },
   {
    "duration": 39,
    "start_time": "2022-01-12T15:34:10.925Z"
   },
   {
    "duration": 11,
    "start_time": "2022-01-12T15:34:10.966Z"
   },
   {
    "duration": 53,
    "start_time": "2022-01-12T15:34:10.979Z"
   },
   {
    "duration": 27,
    "start_time": "2022-01-12T15:34:11.034Z"
   },
   {
    "duration": 112,
    "start_time": "2022-01-12T15:34:11.062Z"
   },
   {
    "duration": 188,
    "start_time": "2022-01-12T15:34:11.175Z"
   },
   {
    "duration": 8,
    "start_time": "2022-01-12T15:34:11.365Z"
   },
   {
    "duration": 264,
    "start_time": "2022-01-12T15:34:11.375Z"
   },
   {
    "duration": 146,
    "start_time": "2022-01-12T15:34:11.640Z"
   },
   {
    "duration": 144,
    "start_time": "2022-01-12T15:34:11.788Z"
   },
   {
    "duration": 7,
    "start_time": "2022-01-12T15:34:11.934Z"
   },
   {
    "duration": 161,
    "start_time": "2022-01-12T15:34:11.942Z"
   },
   {
    "duration": 7,
    "start_time": "2022-01-12T15:34:12.106Z"
   },
   {
    "duration": 29,
    "start_time": "2022-01-12T15:34:12.115Z"
   },
   {
    "duration": 17,
    "start_time": "2022-01-12T15:34:12.146Z"
   },
   {
    "duration": 275,
    "start_time": "2022-01-12T15:34:12.165Z"
   },
   {
    "duration": 149,
    "start_time": "2022-01-12T15:34:12.442Z"
   },
   {
    "duration": 144,
    "start_time": "2022-01-12T15:34:12.593Z"
   },
   {
    "duration": 10,
    "start_time": "2022-01-12T15:34:12.739Z"
   },
   {
    "duration": 12,
    "start_time": "2022-01-12T15:34:12.751Z"
   },
   {
    "duration": 23,
    "start_time": "2022-01-12T15:34:12.765Z"
   },
   {
    "duration": 25,
    "start_time": "2022-01-12T15:34:12.790Z"
   },
   {
    "duration": 239,
    "start_time": "2022-01-12T15:34:12.817Z"
   },
   {
    "duration": 155,
    "start_time": "2022-01-12T15:34:13.064Z"
   },
   {
    "duration": 215,
    "start_time": "2022-01-12T15:34:13.221Z"
   },
   {
    "duration": 9,
    "start_time": "2022-01-12T15:34:13.438Z"
   },
   {
    "duration": 36,
    "start_time": "2022-01-12T15:34:13.449Z"
   },
   {
    "duration": 10,
    "start_time": "2022-01-12T15:34:13.487Z"
   },
   {
    "duration": 32,
    "start_time": "2022-01-12T15:34:13.499Z"
   },
   {
    "duration": 3299,
    "start_time": "2022-01-12T15:34:13.533Z"
   },
   {
    "duration": 26,
    "start_time": "2022-01-12T15:34:16.834Z"
   },
   {
    "duration": 25,
    "start_time": "2022-01-12T15:34:16.862Z"
   },
   {
    "duration": 22,
    "start_time": "2022-01-12T15:34:16.889Z"
   },
   {
    "duration": 8,
    "start_time": "2022-01-12T15:34:16.913Z"
   },
   {
    "duration": 8,
    "start_time": "2022-01-12T15:34:16.922Z"
   },
   {
    "duration": 44,
    "start_time": "2022-01-12T15:34:16.932Z"
   },
   {
    "duration": 192,
    "start_time": "2022-01-12T15:34:16.978Z"
   },
   {
    "duration": 7,
    "start_time": "2022-01-12T15:34:17.172Z"
   },
   {
    "duration": 1054,
    "start_time": "2022-01-12T15:34:17.181Z"
   },
   {
    "duration": 2368,
    "start_time": "2022-01-12T15:34:18.237Z"
   },
   {
    "duration": 14,
    "start_time": "2022-01-12T15:34:20.606Z"
   },
   {
    "duration": 24,
    "start_time": "2022-01-12T15:34:20.622Z"
   }
  ],
  "kernelspec": {
   "display_name": "Python 3 (ipykernel)",
   "language": "python",
   "name": "python3"
  },
  "language_info": {
   "codemirror_mode": {
    "name": "ipython",
    "version": 3
   },
   "file_extension": ".py",
   "mimetype": "text/x-python",
   "name": "python",
   "nbconvert_exporter": "python",
   "pygments_lexer": "ipython3",
   "version": "3.9.7"
  },
  "toc": {
   "base_numbering": 1,
   "nav_menu": {},
   "number_sections": true,
   "sideBar": true,
   "skip_h1_title": true,
   "title_cell": "Содержание",
   "title_sidebar": "Contents",
   "toc_cell": true,
   "toc_position": {
    "height": "calc(100% - 180px)",
    "left": "10px",
    "top": "150px",
    "width": "165px"
   },
   "toc_section_display": true,
   "toc_window_display": true
  },
  "varInspector": {
   "cols": {
    "lenName": 16,
    "lenType": 16,
    "lenVar": 40
   },
   "kernels_config": {
    "python": {
     "delete_cmd_postfix": "",
     "delete_cmd_prefix": "del ",
     "library": "var_list.py",
     "varRefreshCmd": "print(var_dic_list())"
    },
    "r": {
     "delete_cmd_postfix": ") ",
     "delete_cmd_prefix": "rm(",
     "library": "var_list.r",
     "varRefreshCmd": "cat(var_dic_list()) "
    }
   },
   "types_to_exclude": [
    "module",
    "function",
    "builtin_function_or_method",
    "instance",
    "_Feature"
   ],
   "window_display": false
  }
 },
 "nbformat": 4,
 "nbformat_minor": 2
}
