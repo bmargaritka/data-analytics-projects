{
 "cells": [
  {
   "cell_type": "markdown",
   "id": "27734327",
   "metadata": {},
   "source": [
    "# Описание проекта\n",
    "\n",
    "**Цель проекта**: провести анализ базы данных сервиса для чтения книг по подписке. \n",
    "\n",
    "**Задачи**: \n",
    "* Посчитать, сколько книг вышло после 1 января 2000 года;\n",
    "* Для каждой книги посчитать количество обзоров и среднюю оценку;\n",
    "* Определить издательство, которое выпустило наибольшее число книг толще 50 страниц;\n",
    "* Определить автора с самой высокой средней оценкой книг с 50 и более оценками;\n",
    "* Посчитать среднее количество обзоров от пользователей, которые поставили больше 50 оценок.\n",
    "\n",
    "**Описание данных:**\n",
    "\n",
    "Таблица **books** - содержит данные о книгах:\n",
    "* book_id — идентификатор книги;\n",
    "* author_id — идентификатор автора;\n",
    "* title — название книги;\n",
    "* num_pages — количество страниц;\n",
    "* publication_date — дата публикации книги;\n",
    "* publisher_id — идентификатор издателя.\n",
    "\n",
    "Таблица **authors** - содержит данные об авторах:\n",
    "* author_id — идентификатор автора;\n",
    "* author — имя автора.\n",
    "\n",
    "Таблица **publishers** - содержит данные об издательствах:\n",
    "* publisher_id — идентификатор издательства;\n",
    "* publisher — название издательства;\n",
    "\n",
    "Таблица **ratings** - содержит данные о пользовательских оценках книг:\n",
    "* rating_id — идентификатор оценки;\n",
    "* book_id — идентификатор книги;\n",
    "* username — имя пользователя, оставившего оценку;\n",
    "* rating — оценка книги.\n",
    "\n",
    "Таблица **reviews** - содержит данные о пользовательских обзорах:\n",
    "* review_id — идентификатор обзора;\n",
    "* book_id — идентификатор книги;\n",
    "* username — имя автора обзора;\n",
    "* text — текст обзора."
   ]
  },
  {
   "cell_type": "markdown",
   "id": "5a2fac7e",
   "metadata": {},
   "source": [
    "# Подключение к БД и просмотр таблиц"
   ]
  },
  {
   "cell_type": "code",
   "execution_count": 1,
   "id": "215e8acd",
   "metadata": {},
   "outputs": [],
   "source": [
    "# импортируем библиотеки\n",
    "import pandas as pd\n",
    "from sqlalchemy import create_engine"
   ]
  },
  {
   "cell_type": "code",
   "execution_count": 2,
   "id": "25df230a",
   "metadata": {},
   "outputs": [],
   "source": [
    "# устанавливаем параметры\n",
    "db_config = {'user': 'praktikum_student', # имя пользователя\n",
    "             'pwd': 'Sdf4$2;d-d30pp', # пароль\n",
    "             'host': 'rc1b-wcoijxj3yxfsf3fs.mdb.yandexcloud.net',\n",
    "             'port': 6432, # порт подключения\n",
    "             'db': 'data-analyst-final-project-db'} # название базы данных\n",
    "\n",
    "connection_string = 'postgresql://{}:{}@{}:{}/{}'.format(db_config['user'],\n",
    "                                                         db_config['pwd'],\n",
    "                                                         db_config['host'],\n",
    "                                                         db_config['port'],\n",
    "                                                         db_config['db']) "
   ]
  },
  {
   "cell_type": "code",
   "execution_count": 3,
   "id": "236e36db",
   "metadata": {},
   "outputs": [],
   "source": [
    "# сохраняем коннектор\n",
    "engine = create_engine(connection_string, connect_args={'sslmode':'require'})"
   ]
  },
  {
   "cell_type": "code",
   "execution_count": 4,
   "id": "0d39f03c",
   "metadata": {},
   "outputs": [],
   "source": [
    "# функция для выведения основной информации по таблице\n",
    "def table_info(table_name): \n",
    "    table = pd.io.sql.read_sql('SELECT * FROM ' + table_name, con = engine)\n",
    "    display(table.head())\n",
    "    return table.info()"
   ]
  },
  {
   "cell_type": "code",
   "execution_count": 5,
   "id": "6ff50d74",
   "metadata": {},
   "outputs": [
    {
     "data": {
      "text/html": [
       "<div>\n",
       "<style scoped>\n",
       "    .dataframe tbody tr th:only-of-type {\n",
       "        vertical-align: middle;\n",
       "    }\n",
       "\n",
       "    .dataframe tbody tr th {\n",
       "        vertical-align: top;\n",
       "    }\n",
       "\n",
       "    .dataframe thead th {\n",
       "        text-align: right;\n",
       "    }\n",
       "</style>\n",
       "<table border=\"1\" class=\"dataframe\">\n",
       "  <thead>\n",
       "    <tr style=\"text-align: right;\">\n",
       "      <th></th>\n",
       "      <th>book_id</th>\n",
       "      <th>author_id</th>\n",
       "      <th>title</th>\n",
       "      <th>num_pages</th>\n",
       "      <th>publication_date</th>\n",
       "      <th>publisher_id</th>\n",
       "    </tr>\n",
       "  </thead>\n",
       "  <tbody>\n",
       "    <tr>\n",
       "      <th>0</th>\n",
       "      <td>1</td>\n",
       "      <td>546</td>\n",
       "      <td>'Salem's Lot</td>\n",
       "      <td>594</td>\n",
       "      <td>2005-11-01</td>\n",
       "      <td>93</td>\n",
       "    </tr>\n",
       "    <tr>\n",
       "      <th>1</th>\n",
       "      <td>2</td>\n",
       "      <td>465</td>\n",
       "      <td>1 000 Places to See Before You Die</td>\n",
       "      <td>992</td>\n",
       "      <td>2003-05-22</td>\n",
       "      <td>336</td>\n",
       "    </tr>\n",
       "    <tr>\n",
       "      <th>2</th>\n",
       "      <td>3</td>\n",
       "      <td>407</td>\n",
       "      <td>13 Little Blue Envelopes (Little Blue Envelope...</td>\n",
       "      <td>322</td>\n",
       "      <td>2010-12-21</td>\n",
       "      <td>135</td>\n",
       "    </tr>\n",
       "    <tr>\n",
       "      <th>3</th>\n",
       "      <td>4</td>\n",
       "      <td>82</td>\n",
       "      <td>1491: New Revelations of the Americas Before C...</td>\n",
       "      <td>541</td>\n",
       "      <td>2006-10-10</td>\n",
       "      <td>309</td>\n",
       "    </tr>\n",
       "    <tr>\n",
       "      <th>4</th>\n",
       "      <td>5</td>\n",
       "      <td>125</td>\n",
       "      <td>1776</td>\n",
       "      <td>386</td>\n",
       "      <td>2006-07-04</td>\n",
       "      <td>268</td>\n",
       "    </tr>\n",
       "  </tbody>\n",
       "</table>\n",
       "</div>"
      ],
      "text/plain": [
       "   book_id  author_id                                              title  \\\n",
       "0        1        546                                       'Salem's Lot   \n",
       "1        2        465                 1 000 Places to See Before You Die   \n",
       "2        3        407  13 Little Blue Envelopes (Little Blue Envelope...   \n",
       "3        4         82  1491: New Revelations of the Americas Before C...   \n",
       "4        5        125                                               1776   \n",
       "\n",
       "   num_pages publication_date  publisher_id  \n",
       "0        594       2005-11-01            93  \n",
       "1        992       2003-05-22           336  \n",
       "2        322       2010-12-21           135  \n",
       "3        541       2006-10-10           309  \n",
       "4        386       2006-07-04           268  "
      ]
     },
     "metadata": {},
     "output_type": "display_data"
    },
    {
     "name": "stdout",
     "output_type": "stream",
     "text": [
      "<class 'pandas.core.frame.DataFrame'>\n",
      "RangeIndex: 1000 entries, 0 to 999\n",
      "Data columns (total 6 columns):\n",
      " #   Column            Non-Null Count  Dtype \n",
      "---  ------            --------------  ----- \n",
      " 0   book_id           1000 non-null   int64 \n",
      " 1   author_id         1000 non-null   int64 \n",
      " 2   title             1000 non-null   object\n",
      " 3   num_pages         1000 non-null   int64 \n",
      " 4   publication_date  1000 non-null   object\n",
      " 5   publisher_id      1000 non-null   int64 \n",
      "dtypes: int64(4), object(2)\n",
      "memory usage: 47.0+ KB\n"
     ]
    }
   ],
   "source": [
    "# просмотр основной информации\n",
    "table_info('books')"
   ]
  },
  {
   "cell_type": "code",
   "execution_count": 6,
   "id": "1304af85",
   "metadata": {},
   "outputs": [
    {
     "data": {
      "text/html": [
       "<div>\n",
       "<style scoped>\n",
       "    .dataframe tbody tr th:only-of-type {\n",
       "        vertical-align: middle;\n",
       "    }\n",
       "\n",
       "    .dataframe tbody tr th {\n",
       "        vertical-align: top;\n",
       "    }\n",
       "\n",
       "    .dataframe thead th {\n",
       "        text-align: right;\n",
       "    }\n",
       "</style>\n",
       "<table border=\"1\" class=\"dataframe\">\n",
       "  <thead>\n",
       "    <tr style=\"text-align: right;\">\n",
       "      <th></th>\n",
       "      <th>author_id</th>\n",
       "      <th>author</th>\n",
       "    </tr>\n",
       "  </thead>\n",
       "  <tbody>\n",
       "    <tr>\n",
       "      <th>0</th>\n",
       "      <td>1</td>\n",
       "      <td>A.S. Byatt</td>\n",
       "    </tr>\n",
       "    <tr>\n",
       "      <th>1</th>\n",
       "      <td>2</td>\n",
       "      <td>Aesop/Laura Harris/Laura Gibbs</td>\n",
       "    </tr>\n",
       "    <tr>\n",
       "      <th>2</th>\n",
       "      <td>3</td>\n",
       "      <td>Agatha Christie</td>\n",
       "    </tr>\n",
       "    <tr>\n",
       "      <th>3</th>\n",
       "      <td>4</td>\n",
       "      <td>Alan Brennert</td>\n",
       "    </tr>\n",
       "    <tr>\n",
       "      <th>4</th>\n",
       "      <td>5</td>\n",
       "      <td>Alan Moore/David   Lloyd</td>\n",
       "    </tr>\n",
       "  </tbody>\n",
       "</table>\n",
       "</div>"
      ],
      "text/plain": [
       "   author_id                          author\n",
       "0          1                      A.S. Byatt\n",
       "1          2  Aesop/Laura Harris/Laura Gibbs\n",
       "2          3                 Agatha Christie\n",
       "3          4                   Alan Brennert\n",
       "4          5        Alan Moore/David   Lloyd"
      ]
     },
     "metadata": {},
     "output_type": "display_data"
    },
    {
     "name": "stdout",
     "output_type": "stream",
     "text": [
      "<class 'pandas.core.frame.DataFrame'>\n",
      "RangeIndex: 636 entries, 0 to 635\n",
      "Data columns (total 2 columns):\n",
      " #   Column     Non-Null Count  Dtype \n",
      "---  ------     --------------  ----- \n",
      " 0   author_id  636 non-null    int64 \n",
      " 1   author     636 non-null    object\n",
      "dtypes: int64(1), object(1)\n",
      "memory usage: 10.1+ KB\n"
     ]
    }
   ],
   "source": [
    "# просмотр основной информации\n",
    "table_info('authors')"
   ]
  },
  {
   "cell_type": "code",
   "execution_count": 7,
   "id": "632ca4f3",
   "metadata": {},
   "outputs": [
    {
     "data": {
      "text/html": [
       "<div>\n",
       "<style scoped>\n",
       "    .dataframe tbody tr th:only-of-type {\n",
       "        vertical-align: middle;\n",
       "    }\n",
       "\n",
       "    .dataframe tbody tr th {\n",
       "        vertical-align: top;\n",
       "    }\n",
       "\n",
       "    .dataframe thead th {\n",
       "        text-align: right;\n",
       "    }\n",
       "</style>\n",
       "<table border=\"1\" class=\"dataframe\">\n",
       "  <thead>\n",
       "    <tr style=\"text-align: right;\">\n",
       "      <th></th>\n",
       "      <th>publisher_id</th>\n",
       "      <th>publisher</th>\n",
       "    </tr>\n",
       "  </thead>\n",
       "  <tbody>\n",
       "    <tr>\n",
       "      <th>0</th>\n",
       "      <td>1</td>\n",
       "      <td>Ace</td>\n",
       "    </tr>\n",
       "    <tr>\n",
       "      <th>1</th>\n",
       "      <td>2</td>\n",
       "      <td>Ace Book</td>\n",
       "    </tr>\n",
       "    <tr>\n",
       "      <th>2</th>\n",
       "      <td>3</td>\n",
       "      <td>Ace Books</td>\n",
       "    </tr>\n",
       "    <tr>\n",
       "      <th>3</th>\n",
       "      <td>4</td>\n",
       "      <td>Ace Hardcover</td>\n",
       "    </tr>\n",
       "    <tr>\n",
       "      <th>4</th>\n",
       "      <td>5</td>\n",
       "      <td>Addison Wesley Publishing Company</td>\n",
       "    </tr>\n",
       "  </tbody>\n",
       "</table>\n",
       "</div>"
      ],
      "text/plain": [
       "   publisher_id                          publisher\n",
       "0             1                                Ace\n",
       "1             2                           Ace Book\n",
       "2             3                          Ace Books\n",
       "3             4                      Ace Hardcover\n",
       "4             5  Addison Wesley Publishing Company"
      ]
     },
     "metadata": {},
     "output_type": "display_data"
    },
    {
     "name": "stdout",
     "output_type": "stream",
     "text": [
      "<class 'pandas.core.frame.DataFrame'>\n",
      "RangeIndex: 340 entries, 0 to 339\n",
      "Data columns (total 2 columns):\n",
      " #   Column        Non-Null Count  Dtype \n",
      "---  ------        --------------  ----- \n",
      " 0   publisher_id  340 non-null    int64 \n",
      " 1   publisher     340 non-null    object\n",
      "dtypes: int64(1), object(1)\n",
      "memory usage: 5.4+ KB\n"
     ]
    }
   ],
   "source": [
    "# просмотр основной информации\n",
    "table_info('publishers')"
   ]
  },
  {
   "cell_type": "code",
   "execution_count": 8,
   "id": "55813564",
   "metadata": {},
   "outputs": [
    {
     "data": {
      "text/html": [
       "<div>\n",
       "<style scoped>\n",
       "    .dataframe tbody tr th:only-of-type {\n",
       "        vertical-align: middle;\n",
       "    }\n",
       "\n",
       "    .dataframe tbody tr th {\n",
       "        vertical-align: top;\n",
       "    }\n",
       "\n",
       "    .dataframe thead th {\n",
       "        text-align: right;\n",
       "    }\n",
       "</style>\n",
       "<table border=\"1\" class=\"dataframe\">\n",
       "  <thead>\n",
       "    <tr style=\"text-align: right;\">\n",
       "      <th></th>\n",
       "      <th>rating_id</th>\n",
       "      <th>book_id</th>\n",
       "      <th>username</th>\n",
       "      <th>rating</th>\n",
       "    </tr>\n",
       "  </thead>\n",
       "  <tbody>\n",
       "    <tr>\n",
       "      <th>0</th>\n",
       "      <td>1</td>\n",
       "      <td>1</td>\n",
       "      <td>ryanfranco</td>\n",
       "      <td>4</td>\n",
       "    </tr>\n",
       "    <tr>\n",
       "      <th>1</th>\n",
       "      <td>2</td>\n",
       "      <td>1</td>\n",
       "      <td>grantpatricia</td>\n",
       "      <td>2</td>\n",
       "    </tr>\n",
       "    <tr>\n",
       "      <th>2</th>\n",
       "      <td>3</td>\n",
       "      <td>1</td>\n",
       "      <td>brandtandrea</td>\n",
       "      <td>5</td>\n",
       "    </tr>\n",
       "    <tr>\n",
       "      <th>3</th>\n",
       "      <td>4</td>\n",
       "      <td>2</td>\n",
       "      <td>lorichen</td>\n",
       "      <td>3</td>\n",
       "    </tr>\n",
       "    <tr>\n",
       "      <th>4</th>\n",
       "      <td>5</td>\n",
       "      <td>2</td>\n",
       "      <td>mariokeller</td>\n",
       "      <td>2</td>\n",
       "    </tr>\n",
       "  </tbody>\n",
       "</table>\n",
       "</div>"
      ],
      "text/plain": [
       "   rating_id  book_id       username  rating\n",
       "0          1        1     ryanfranco       4\n",
       "1          2        1  grantpatricia       2\n",
       "2          3        1   brandtandrea       5\n",
       "3          4        2       lorichen       3\n",
       "4          5        2    mariokeller       2"
      ]
     },
     "metadata": {},
     "output_type": "display_data"
    },
    {
     "name": "stdout",
     "output_type": "stream",
     "text": [
      "<class 'pandas.core.frame.DataFrame'>\n",
      "RangeIndex: 6456 entries, 0 to 6455\n",
      "Data columns (total 4 columns):\n",
      " #   Column     Non-Null Count  Dtype \n",
      "---  ------     --------------  ----- \n",
      " 0   rating_id  6456 non-null   int64 \n",
      " 1   book_id    6456 non-null   int64 \n",
      " 2   username   6456 non-null   object\n",
      " 3   rating     6456 non-null   int64 \n",
      "dtypes: int64(3), object(1)\n",
      "memory usage: 201.9+ KB\n"
     ]
    }
   ],
   "source": [
    "# просмотр основной информации\n",
    "table_info('ratings')"
   ]
  },
  {
   "cell_type": "code",
   "execution_count": 9,
   "id": "64605389",
   "metadata": {},
   "outputs": [
    {
     "data": {
      "text/html": [
       "<div>\n",
       "<style scoped>\n",
       "    .dataframe tbody tr th:only-of-type {\n",
       "        vertical-align: middle;\n",
       "    }\n",
       "\n",
       "    .dataframe tbody tr th {\n",
       "        vertical-align: top;\n",
       "    }\n",
       "\n",
       "    .dataframe thead th {\n",
       "        text-align: right;\n",
       "    }\n",
       "</style>\n",
       "<table border=\"1\" class=\"dataframe\">\n",
       "  <thead>\n",
       "    <tr style=\"text-align: right;\">\n",
       "      <th></th>\n",
       "      <th>review_id</th>\n",
       "      <th>book_id</th>\n",
       "      <th>username</th>\n",
       "      <th>text</th>\n",
       "    </tr>\n",
       "  </thead>\n",
       "  <tbody>\n",
       "    <tr>\n",
       "      <th>0</th>\n",
       "      <td>1</td>\n",
       "      <td>1</td>\n",
       "      <td>brandtandrea</td>\n",
       "      <td>Mention society tell send professor analysis. ...</td>\n",
       "    </tr>\n",
       "    <tr>\n",
       "      <th>1</th>\n",
       "      <td>2</td>\n",
       "      <td>1</td>\n",
       "      <td>ryanfranco</td>\n",
       "      <td>Foot glass pretty audience hit themselves. Amo...</td>\n",
       "    </tr>\n",
       "    <tr>\n",
       "      <th>2</th>\n",
       "      <td>3</td>\n",
       "      <td>2</td>\n",
       "      <td>lorichen</td>\n",
       "      <td>Listen treat keep worry. Miss husband tax but ...</td>\n",
       "    </tr>\n",
       "    <tr>\n",
       "      <th>3</th>\n",
       "      <td>4</td>\n",
       "      <td>3</td>\n",
       "      <td>johnsonamanda</td>\n",
       "      <td>Finally month interesting blue could nature cu...</td>\n",
       "    </tr>\n",
       "    <tr>\n",
       "      <th>4</th>\n",
       "      <td>5</td>\n",
       "      <td>3</td>\n",
       "      <td>scotttamara</td>\n",
       "      <td>Nation purpose heavy give wait song will. List...</td>\n",
       "    </tr>\n",
       "  </tbody>\n",
       "</table>\n",
       "</div>"
      ],
      "text/plain": [
       "   review_id  book_id       username  \\\n",
       "0          1        1   brandtandrea   \n",
       "1          2        1     ryanfranco   \n",
       "2          3        2       lorichen   \n",
       "3          4        3  johnsonamanda   \n",
       "4          5        3    scotttamara   \n",
       "\n",
       "                                                text  \n",
       "0  Mention society tell send professor analysis. ...  \n",
       "1  Foot glass pretty audience hit themselves. Amo...  \n",
       "2  Listen treat keep worry. Miss husband tax but ...  \n",
       "3  Finally month interesting blue could nature cu...  \n",
       "4  Nation purpose heavy give wait song will. List...  "
      ]
     },
     "metadata": {},
     "output_type": "display_data"
    },
    {
     "name": "stdout",
     "output_type": "stream",
     "text": [
      "<class 'pandas.core.frame.DataFrame'>\n",
      "RangeIndex: 2793 entries, 0 to 2792\n",
      "Data columns (total 4 columns):\n",
      " #   Column     Non-Null Count  Dtype \n",
      "---  ------     --------------  ----- \n",
      " 0   review_id  2793 non-null   int64 \n",
      " 1   book_id    2793 non-null   int64 \n",
      " 2   username   2793 non-null   object\n",
      " 3   text       2793 non-null   object\n",
      "dtypes: int64(2), object(2)\n",
      "memory usage: 87.4+ KB\n"
     ]
    }
   ],
   "source": [
    "# просмотр основной информации\n",
    "table_info('reviews')"
   ]
  },
  {
   "cell_type": "markdown",
   "id": "179cc2e6",
   "metadata": {},
   "source": [
    "Данные загружаются корректно, пропусков в данных нет. "
   ]
  },
  {
   "cell_type": "markdown",
   "id": "8adb7f98",
   "metadata": {},
   "source": [
    "# Выполнение запросов"
   ]
  },
  {
   "cell_type": "markdown",
   "id": "9b7cbf4f",
   "metadata": {},
   "source": [
    "## Сколько книг вышло после 1 января 2000 года?"
   ]
  },
  {
   "cell_type": "code",
   "execution_count": 10,
   "id": "b53166c6",
   "metadata": {},
   "outputs": [],
   "source": [
    "# посчитайте, сколько книг вышло после 1 января 2000 года\n",
    "query = '''\n",
    "SELECT COUNT(book_id)\n",
    "FROM books\n",
    "WHERE publication_date > '2000-01-01'\n",
    "'''"
   ]
  },
  {
   "cell_type": "code",
   "execution_count": 11,
   "id": "deb32a4a",
   "metadata": {},
   "outputs": [],
   "source": [
    "# функция для выполнения запроса\n",
    "def run_query(query):\n",
    "    return pd.io.sql.read_sql(query, con = engine)"
   ]
  },
  {
   "cell_type": "code",
   "execution_count": 12,
   "id": "14b0f93c",
   "metadata": {},
   "outputs": [
    {
     "data": {
      "text/html": [
       "<div>\n",
       "<style scoped>\n",
       "    .dataframe tbody tr th:only-of-type {\n",
       "        vertical-align: middle;\n",
       "    }\n",
       "\n",
       "    .dataframe tbody tr th {\n",
       "        vertical-align: top;\n",
       "    }\n",
       "\n",
       "    .dataframe thead th {\n",
       "        text-align: right;\n",
       "    }\n",
       "</style>\n",
       "<table border=\"1\" class=\"dataframe\">\n",
       "  <thead>\n",
       "    <tr style=\"text-align: right;\">\n",
       "      <th></th>\n",
       "      <th>count</th>\n",
       "    </tr>\n",
       "  </thead>\n",
       "  <tbody>\n",
       "    <tr>\n",
       "      <th>0</th>\n",
       "      <td>819</td>\n",
       "    </tr>\n",
       "  </tbody>\n",
       "</table>\n",
       "</div>"
      ],
      "text/plain": [
       "   count\n",
       "0    819"
      ]
     },
     "execution_count": 12,
     "metadata": {},
     "output_type": "execute_result"
    }
   ],
   "source": [
    "# выполнение запроса\n",
    "run_query(query)"
   ]
  },
  {
   "cell_type": "markdown",
   "id": "c32d6faf",
   "metadata": {},
   "source": [
    "После 1 января 2000 года (не включая) вышла 819 книг."
   ]
  },
  {
   "cell_type": "markdown",
   "id": "af5621fc",
   "metadata": {},
   "source": [
    "## Запрос 2\n",
    "* Для каждой книги посчитайте количество обзоров и среднюю оценку;"
   ]
  },
  {
   "cell_type": "code",
   "execution_count": 13,
   "id": "26fee3e2",
   "metadata": {},
   "outputs": [],
   "source": [
    "# для каждой книги посчитайте количество обзоров и среднюю оценку\n",
    "query = '''\n",
    "WITH \n",
    "rev AS \n",
    "(SELECT book_id, COUNT(reviews.review_id) AS reviews_count\n",
    "FROM reviews\n",
    "GROUP BY book_id),\n",
    "\n",
    "rate AS \n",
    "(SELECT book_id, AVG(ratings.rating) AS avg_rating\n",
    "FROM ratings\n",
    "GROUP BY book_id),\n",
    "\n",
    "a AS \n",
    "(SELECT \n",
    "b.book_id, \n",
    "b.title,\n",
    "au.author\n",
    "FROM books AS b LEFT OUTER JOIN authors AS au ON b.author_id=au.author_id)\n",
    "\n",
    "SELECT a.title, a.author, rev.reviews_count, ROUND(rate.avg_rating, 2) AS avg_rating\n",
    "FROM rev FULL OUTER JOIN rate ON rev.book_id=rate.book_id\n",
    "RIGHT OUTER JOIN a ON rate.book_id=a.book_id\n",
    "'''"
   ]
  },
  {
   "cell_type": "code",
   "execution_count": 14,
   "id": "f1d8578d",
   "metadata": {},
   "outputs": [
    {
     "data": {
      "text/html": [
       "<div>\n",
       "<style scoped>\n",
       "    .dataframe tbody tr th:only-of-type {\n",
       "        vertical-align: middle;\n",
       "    }\n",
       "\n",
       "    .dataframe tbody tr th {\n",
       "        vertical-align: top;\n",
       "    }\n",
       "\n",
       "    .dataframe thead th {\n",
       "        text-align: right;\n",
       "    }\n",
       "</style>\n",
       "<table border=\"1\" class=\"dataframe\">\n",
       "  <thead>\n",
       "    <tr style=\"text-align: right;\">\n",
       "      <th></th>\n",
       "      <th>title</th>\n",
       "      <th>author</th>\n",
       "      <th>reviews_count</th>\n",
       "      <th>avg_rating</th>\n",
       "    </tr>\n",
       "  </thead>\n",
       "  <tbody>\n",
       "    <tr>\n",
       "      <th>0</th>\n",
       "      <td>'Salem's Lot</td>\n",
       "      <td>Stephen King/Jerry N. Uelsmann</td>\n",
       "      <td>2.0</td>\n",
       "      <td>3.67</td>\n",
       "    </tr>\n",
       "    <tr>\n",
       "      <th>1</th>\n",
       "      <td>1 000 Places to See Before You Die</td>\n",
       "      <td>Patricia Schultz</td>\n",
       "      <td>1.0</td>\n",
       "      <td>2.50</td>\n",
       "    </tr>\n",
       "    <tr>\n",
       "      <th>2</th>\n",
       "      <td>13 Little Blue Envelopes (Little Blue Envelope...</td>\n",
       "      <td>Maureen Johnson</td>\n",
       "      <td>3.0</td>\n",
       "      <td>4.67</td>\n",
       "    </tr>\n",
       "    <tr>\n",
       "      <th>3</th>\n",
       "      <td>1491: New Revelations of the Americas Before C...</td>\n",
       "      <td>Charles C. Mann</td>\n",
       "      <td>2.0</td>\n",
       "      <td>4.50</td>\n",
       "    </tr>\n",
       "    <tr>\n",
       "      <th>4</th>\n",
       "      <td>1776</td>\n",
       "      <td>David McCullough</td>\n",
       "      <td>4.0</td>\n",
       "      <td>4.00</td>\n",
       "    </tr>\n",
       "  </tbody>\n",
       "</table>\n",
       "</div>"
      ],
      "text/plain": [
       "                                               title  \\\n",
       "0                                       'Salem's Lot   \n",
       "1                 1 000 Places to See Before You Die   \n",
       "2  13 Little Blue Envelopes (Little Blue Envelope...   \n",
       "3  1491: New Revelations of the Americas Before C...   \n",
       "4                                               1776   \n",
       "\n",
       "                           author  reviews_count  avg_rating  \n",
       "0  Stephen King/Jerry N. Uelsmann            2.0        3.67  \n",
       "1                Patricia Schultz            1.0        2.50  \n",
       "2                 Maureen Johnson            3.0        4.67  \n",
       "3                 Charles C. Mann            2.0        4.50  \n",
       "4                David McCullough            4.0        4.00  "
      ]
     },
     "execution_count": 14,
     "metadata": {},
     "output_type": "execute_result"
    }
   ],
   "source": [
    "# выполнение запроса\n",
    "result = run_query(query)\n",
    "result.head()"
   ]
  },
  {
   "cell_type": "code",
   "execution_count": 15,
   "id": "4791fd37",
   "metadata": {},
   "outputs": [
    {
     "name": "stdout",
     "output_type": "stream",
     "text": [
      "<class 'pandas.core.frame.DataFrame'>\n",
      "RangeIndex: 1000 entries, 0 to 999\n",
      "Data columns (total 4 columns):\n",
      " #   Column         Non-Null Count  Dtype  \n",
      "---  ------         --------------  -----  \n",
      " 0   title          1000 non-null   object \n",
      " 1   author         1000 non-null   object \n",
      " 2   reviews_count  994 non-null    float64\n",
      " 3   avg_rating     1000 non-null   float64\n",
      "dtypes: float64(2), object(2)\n",
      "memory usage: 31.4+ KB\n"
     ]
    }
   ],
   "source": [
    "# информация по результату\n",
    "result.info()"
   ]
  },
  {
   "cell_type": "markdown",
   "id": "4e083672",
   "metadata": {},
   "source": [
    "Для всех книг определён рейтинг, но только для 994 книг есть обзоры."
   ]
  },
  {
   "cell_type": "markdown",
   "id": "820175e5",
   "metadata": {},
   "source": [
    "## Запрос 3\n",
    "* Определите издательство, которое выпустило наибольшее число книг толще 50 страниц — так вы исключите из анализа брошюры."
   ]
  },
  {
   "cell_type": "code",
   "execution_count": 16,
   "id": "a708c215",
   "metadata": {},
   "outputs": [],
   "source": [
    "# определите издательство, которое выпустило наибольшее число книг толще 50 страниц\n",
    "query = '''\n",
    "WITH b50 AS \n",
    "(SELECT book_id, publisher_id\n",
    "FROM BOOKS\n",
    "WHERE num_pages > 50)\n",
    "\n",
    "SELECT \n",
    "p.publisher,\n",
    "COUNT(book_id) AS books_count\n",
    "FROM b50 LEFT OUTER JOIN publishers AS p ON b50.publisher_id=p.publisher_id\n",
    "GROUP BY p.publisher_id\n",
    "ORDER BY books_count DESC\n",
    "LIMIT 1\n",
    "'''"
   ]
  },
  {
   "cell_type": "code",
   "execution_count": 17,
   "id": "3fb800e7",
   "metadata": {},
   "outputs": [
    {
     "data": {
      "text/html": [
       "<div>\n",
       "<style scoped>\n",
       "    .dataframe tbody tr th:only-of-type {\n",
       "        vertical-align: middle;\n",
       "    }\n",
       "\n",
       "    .dataframe tbody tr th {\n",
       "        vertical-align: top;\n",
       "    }\n",
       "\n",
       "    .dataframe thead th {\n",
       "        text-align: right;\n",
       "    }\n",
       "</style>\n",
       "<table border=\"1\" class=\"dataframe\">\n",
       "  <thead>\n",
       "    <tr style=\"text-align: right;\">\n",
       "      <th></th>\n",
       "      <th>publisher</th>\n",
       "      <th>books_count</th>\n",
       "    </tr>\n",
       "  </thead>\n",
       "  <tbody>\n",
       "    <tr>\n",
       "      <th>0</th>\n",
       "      <td>Penguin Books</td>\n",
       "      <td>42</td>\n",
       "    </tr>\n",
       "  </tbody>\n",
       "</table>\n",
       "</div>"
      ],
      "text/plain": [
       "       publisher  books_count\n",
       "0  Penguin Books           42"
      ]
     },
     "execution_count": 17,
     "metadata": {},
     "output_type": "execute_result"
    }
   ],
   "source": [
    "# выполнение запроса\n",
    "run_query(query)"
   ]
  },
  {
   "cell_type": "markdown",
   "id": "2bbe6985",
   "metadata": {},
   "source": [
    "Издательство \"Penguin Books\" выпустило больше всех книг толще 50 страниц - 42 книги."
   ]
  },
  {
   "cell_type": "markdown",
   "id": "b81d4116",
   "metadata": {},
   "source": [
    "## Запрос 4 \n",
    "* Определите автора с самой высокой средней оценкой книг — учитывайте только книги с 50 и более оценками. "
   ]
  },
  {
   "cell_type": "code",
   "execution_count": 18,
   "id": "240ca1da",
   "metadata": {},
   "outputs": [],
   "source": [
    "# определите автора с самой высокой средней оценкой книг\n",
    "query = '''\n",
    "WITH b AS\n",
    "(SELECT \n",
    "book_id, \n",
    "COUNT(rating) AS rating_count,\n",
    "AVG(rating) AS avg_rating\n",
    "FROM ratings\n",
    "GROUP BY book_id)\n",
    "\n",
    "SELECT a.author,\n",
    "ROUND(AVG(avg_rating), 2) AS avg_rating\n",
    "FROM\n",
    "(SELECT book_id, avg_rating\n",
    "FROM b \n",
    "WHERE rating_count >= 50) AS b50\n",
    "LEFT OUTER JOIN \n",
    "(SELECT book_id, author_id\n",
    "FROM books) AS ba ON b50.book_id=ba.book_id\n",
    "LEFT OUTER JOIN \n",
    "authors AS a ON ba.author_id=a.author_id\n",
    "GROUP BY a.author_id\n",
    "ORDER BY avg_rating DESC\n",
    "LIMIT 1\n",
    "'''"
   ]
  },
  {
   "cell_type": "code",
   "execution_count": 19,
   "id": "f08c4cc3",
   "metadata": {},
   "outputs": [
    {
     "data": {
      "text/html": [
       "<div>\n",
       "<style scoped>\n",
       "    .dataframe tbody tr th:only-of-type {\n",
       "        vertical-align: middle;\n",
       "    }\n",
       "\n",
       "    .dataframe tbody tr th {\n",
       "        vertical-align: top;\n",
       "    }\n",
       "\n",
       "    .dataframe thead th {\n",
       "        text-align: right;\n",
       "    }\n",
       "</style>\n",
       "<table border=\"1\" class=\"dataframe\">\n",
       "  <thead>\n",
       "    <tr style=\"text-align: right;\">\n",
       "      <th></th>\n",
       "      <th>author</th>\n",
       "      <th>avg_rating</th>\n",
       "    </tr>\n",
       "  </thead>\n",
       "  <tbody>\n",
       "    <tr>\n",
       "      <th>0</th>\n",
       "      <td>J.K. Rowling/Mary GrandPré</td>\n",
       "      <td>4.28</td>\n",
       "    </tr>\n",
       "  </tbody>\n",
       "</table>\n",
       "</div>"
      ],
      "text/plain": [
       "                       author  avg_rating\n",
       "0  J.K. Rowling/Mary GrandPré        4.28"
      ]
     },
     "execution_count": 19,
     "metadata": {},
     "output_type": "execute_result"
    }
   ],
   "source": [
    "# выполнение запроса\n",
    "run_query(query)"
   ]
  },
  {
   "cell_type": "markdown",
   "id": "5a7a12ff",
   "metadata": {},
   "source": [
    "Средняя оценка книг для писателя считалась как средняя средних оценок книги. Самым высоким средним рейтингом книг обладает Джоан Роулинг (видимо для книг с иллюстрациями Мэри ГрандПри) - 4.28 из 5."
   ]
  },
  {
   "cell_type": "markdown",
   "id": "d3d0e0df",
   "metadata": {},
   "source": [
    "## Запрос 5 \n",
    "* Посчитайте среднее количество обзоров от пользователей, которые поставили больше 50 оценок."
   ]
  },
  {
   "cell_type": "code",
   "execution_count": 20,
   "id": "9e96d506",
   "metadata": {},
   "outputs": [],
   "source": [
    "# посчитайте среднее количество обзоров от пользователей, которые поставили больше 50 оценок\n",
    "query = '''\n",
    "WITH u AS \n",
    "(SELECT \n",
    "username,\n",
    "COUNT(rating_id) AS rating_count\n",
    "FROM ratings\n",
    "GROUP BY username)\n",
    "\n",
    "SELECT ROUND(AVG(reviews_count)) AS avg_reviews_count\n",
    "FROM\n",
    "(SELECT r.username,\n",
    "COUNT(review_id) AS reviews_count\n",
    "FROM\n",
    "(SELECT username\n",
    "FROM u\n",
    "WHERE rating_count > 50) AS u50\n",
    "LEFT OUTER JOIN reviews AS r ON u50.username=r.username\n",
    "GROUP BY r.username) AS final\n",
    "'''"
   ]
  },
  {
   "cell_type": "code",
   "execution_count": 21,
   "id": "605c627d",
   "metadata": {},
   "outputs": [
    {
     "data": {
      "text/html": [
       "<div>\n",
       "<style scoped>\n",
       "    .dataframe tbody tr th:only-of-type {\n",
       "        vertical-align: middle;\n",
       "    }\n",
       "\n",
       "    .dataframe tbody tr th {\n",
       "        vertical-align: top;\n",
       "    }\n",
       "\n",
       "    .dataframe thead th {\n",
       "        text-align: right;\n",
       "    }\n",
       "</style>\n",
       "<table border=\"1\" class=\"dataframe\">\n",
       "  <thead>\n",
       "    <tr style=\"text-align: right;\">\n",
       "      <th></th>\n",
       "      <th>avg_reviews_count</th>\n",
       "    </tr>\n",
       "  </thead>\n",
       "  <tbody>\n",
       "    <tr>\n",
       "      <th>0</th>\n",
       "      <td>24.0</td>\n",
       "    </tr>\n",
       "  </tbody>\n",
       "</table>\n",
       "</div>"
      ],
      "text/plain": [
       "   avg_reviews_count\n",
       "0               24.0"
      ]
     },
     "execution_count": 21,
     "metadata": {},
     "output_type": "execute_result"
    }
   ],
   "source": [
    "# выполнение запроса\n",
    "run_query(query)"
   ]
  },
  {
   "cell_type": "markdown",
   "id": "764c0ad7",
   "metadata": {},
   "source": [
    "Получилось, что пользователи, которые выставляют много оценок (больше 50), в среднем написали 24 отзыва."
   ]
  },
  {
   "cell_type": "markdown",
   "id": "e2ab8372",
   "metadata": {},
   "source": [
    "# Вывод\n",
    "\n",
    "* В БД сожержится информация о 819 книгах, вышедших после 1 января 2000 года;\n",
    "* Обзоры есть только у 994 книг из 1000;\n",
    "* Больше всех книг толщиной больше 50 страниц напечатано издательством \"Penguin Books\";\n",
    "* Автор с самой высокой средней оценкой книг — Джоан Роалинг;\n",
    "* Среднее количество обзоров от пользователей, которые поставили больше 50 оценок - 24.3."
   ]
  }
 ],
 "metadata": {
  "ExecuteTimeLog": [
   {
    "duration": 663,
    "start_time": "2022-06-16T13:06:40.331Z"
   },
   {
    "duration": 5,
    "start_time": "2022-06-16T13:06:40.997Z"
   },
   {
    "duration": 96,
    "start_time": "2022-06-16T13:06:41.003Z"
   },
   {
    "duration": 3,
    "start_time": "2022-06-16T13:06:41.102Z"
   },
   {
    "duration": 121,
    "start_time": "2022-06-16T13:06:41.106Z"
   },
   {
    "duration": 28,
    "start_time": "2022-06-16T13:06:41.229Z"
   },
   {
    "duration": 34,
    "start_time": "2022-06-16T13:06:41.267Z"
   },
   {
    "duration": 35,
    "start_time": "2022-06-16T13:06:41.303Z"
   },
   {
    "duration": 41,
    "start_time": "2022-06-16T13:06:41.339Z"
   },
   {
    "duration": 4,
    "start_time": "2022-06-16T13:06:41.382Z"
   },
   {
    "duration": 20,
    "start_time": "2022-06-16T13:06:41.387Z"
   },
   {
    "duration": 23,
    "start_time": "2022-06-16T13:06:41.409Z"
   },
   {
    "duration": 3,
    "start_time": "2022-06-16T13:06:41.434Z"
   },
   {
    "duration": 45,
    "start_time": "2022-06-16T13:06:41.439Z"
   },
   {
    "duration": 10,
    "start_time": "2022-06-16T13:06:41.486Z"
   },
   {
    "duration": 26,
    "start_time": "2022-06-16T13:06:41.498Z"
   },
   {
    "duration": 34,
    "start_time": "2022-06-16T13:06:41.526Z"
   },
   {
    "duration": 26,
    "start_time": "2022-06-16T13:06:41.562Z"
   },
   {
    "duration": 30,
    "start_time": "2022-06-16T13:06:41.590Z"
   },
   {
    "duration": 11,
    "start_time": "2022-06-16T13:06:41.621Z"
   },
   {
    "duration": 30,
    "start_time": "2022-06-16T13:06:41.634Z"
   },
   {
    "duration": 4,
    "start_time": "2022-06-16T13:12:37.583Z"
   },
   {
    "duration": 143,
    "start_time": "2022-06-16T13:12:38.561Z"
   },
   {
    "duration": 3,
    "start_time": "2022-06-16T13:12:45.981Z"
   },
   {
    "duration": 34,
    "start_time": "2022-06-16T13:12:46.551Z"
   },
   {
    "duration": 3,
    "start_time": "2022-06-16T13:13:23.012Z"
   },
   {
    "duration": 25,
    "start_time": "2022-06-16T13:13:23.505Z"
   },
   {
    "duration": 3,
    "start_time": "2022-06-16T13:14:22.783Z"
   },
   {
    "duration": 3,
    "start_time": "2022-06-16T13:14:23.597Z"
   },
   {
    "duration": 23,
    "start_time": "2022-06-16T13:14:24.881Z"
   },
   {
    "duration": 3,
    "start_time": "2022-06-16T13:16:19.903Z"
   },
   {
    "duration": 3,
    "start_time": "2022-06-16T13:16:20.646Z"
   },
   {
    "duration": 21,
    "start_time": "2022-06-16T13:16:21.511Z"
   },
   {
    "duration": 3,
    "start_time": "2022-06-16T13:16:45.398Z"
   },
   {
    "duration": 26,
    "start_time": "2022-06-16T13:16:50.386Z"
   },
   {
    "duration": 4,
    "start_time": "2022-06-16T13:16:59.332Z"
   },
   {
    "duration": 26,
    "start_time": "2022-06-16T13:17:00.002Z"
   },
   {
    "duration": 23,
    "start_time": "2022-06-16T13:17:18.189Z"
   },
   {
    "duration": 3,
    "start_time": "2022-06-16T13:21:44.919Z"
   },
   {
    "duration": 19,
    "start_time": "2022-06-16T13:21:45.993Z"
   },
   {
    "duration": 5,
    "start_time": "2022-06-16T13:23:12.973Z"
   },
   {
    "duration": 26,
    "start_time": "2022-06-16T13:23:13.553Z"
   },
   {
    "duration": 4,
    "start_time": "2022-06-16T13:23:19.449Z"
   },
   {
    "duration": 4,
    "start_time": "2022-06-16T13:24:00.108Z"
   },
   {
    "duration": 16,
    "start_time": "2022-06-16T13:24:00.705Z"
   },
   {
    "duration": 3,
    "start_time": "2022-06-16T13:24:06.916Z"
   },
   {
    "duration": 15,
    "start_time": "2022-06-16T13:24:07.704Z"
   },
   {
    "duration": 3,
    "start_time": "2022-06-16T13:25:59.793Z"
   },
   {
    "duration": 23,
    "start_time": "2022-06-16T13:26:00.207Z"
   },
   {
    "duration": 3,
    "start_time": "2022-06-16T13:26:14.821Z"
   },
   {
    "duration": 22,
    "start_time": "2022-06-16T13:26:15.195Z"
   },
   {
    "duration": 577,
    "start_time": "2022-06-16T13:26:21.309Z"
   },
   {
    "duration": 5,
    "start_time": "2022-06-16T13:26:21.888Z"
   },
   {
    "duration": 112,
    "start_time": "2022-06-16T13:26:21.894Z"
   },
   {
    "duration": 4,
    "start_time": "2022-06-16T13:26:22.010Z"
   },
   {
    "duration": 109,
    "start_time": "2022-06-16T13:26:22.016Z"
   },
   {
    "duration": 28,
    "start_time": "2022-06-16T13:26:22.126Z"
   },
   {
    "duration": 29,
    "start_time": "2022-06-16T13:26:22.156Z"
   },
   {
    "duration": 35,
    "start_time": "2022-06-16T13:26:22.187Z"
   },
   {
    "duration": 49,
    "start_time": "2022-06-16T13:26:22.224Z"
   },
   {
    "duration": 4,
    "start_time": "2022-06-16T13:26:22.277Z"
   },
   {
    "duration": 10,
    "start_time": "2022-06-16T13:26:22.282Z"
   },
   {
    "duration": 21,
    "start_time": "2022-06-16T13:26:22.294Z"
   },
   {
    "duration": 3,
    "start_time": "2022-06-16T13:26:22.317Z"
   },
   {
    "duration": 28,
    "start_time": "2022-06-16T13:26:22.322Z"
   },
   {
    "duration": 22,
    "start_time": "2022-06-16T13:26:22.352Z"
   },
   {
    "duration": 4,
    "start_time": "2022-06-16T13:26:22.377Z"
   },
   {
    "duration": 29,
    "start_time": "2022-06-16T13:26:22.383Z"
   },
   {
    "duration": 4,
    "start_time": "2022-06-16T13:26:22.415Z"
   },
   {
    "duration": 19,
    "start_time": "2022-06-16T13:26:22.421Z"
   },
   {
    "duration": 3,
    "start_time": "2022-06-16T13:26:22.442Z"
   },
   {
    "duration": 53,
    "start_time": "2022-06-16T13:26:22.447Z"
   },
   {
    "duration": 3,
    "start_time": "2022-06-16T13:27:48.412Z"
   },
   {
    "duration": 23,
    "start_time": "2022-06-16T13:27:49.464Z"
   },
   {
    "duration": 727,
    "start_time": "2022-06-16T13:27:59.519Z"
   },
   {
    "duration": 4,
    "start_time": "2022-06-16T13:28:00.249Z"
   },
   {
    "duration": 69,
    "start_time": "2022-06-16T13:28:00.259Z"
   },
   {
    "duration": 3,
    "start_time": "2022-06-16T13:28:00.331Z"
   },
   {
    "duration": 90,
    "start_time": "2022-06-16T13:28:00.337Z"
   },
   {
    "duration": 22,
    "start_time": "2022-06-16T13:28:00.429Z"
   },
   {
    "duration": 36,
    "start_time": "2022-06-16T13:28:00.453Z"
   },
   {
    "duration": 39,
    "start_time": "2022-06-16T13:28:00.491Z"
   },
   {
    "duration": 35,
    "start_time": "2022-06-16T13:28:00.533Z"
   },
   {
    "duration": 4,
    "start_time": "2022-06-16T13:28:00.571Z"
   },
   {
    "duration": 12,
    "start_time": "2022-06-16T13:28:00.577Z"
   },
   {
    "duration": 25,
    "start_time": "2022-06-16T13:28:00.591Z"
   },
   {
    "duration": 12,
    "start_time": "2022-06-16T13:28:00.618Z"
   },
   {
    "duration": 55,
    "start_time": "2022-06-16T13:28:00.632Z"
   },
   {
    "duration": 13,
    "start_time": "2022-06-16T13:28:00.689Z"
   },
   {
    "duration": 20,
    "start_time": "2022-06-16T13:28:00.705Z"
   },
   {
    "duration": 59,
    "start_time": "2022-06-16T13:28:00.727Z"
   },
   {
    "duration": 12,
    "start_time": "2022-06-16T13:28:00.788Z"
   },
   {
    "duration": 73,
    "start_time": "2022-06-16T13:28:00.802Z"
   },
   {
    "duration": 4,
    "start_time": "2022-06-16T13:28:00.878Z"
   },
   {
    "duration": 51,
    "start_time": "2022-06-16T13:28:00.885Z"
   }
  ],
  "kernelspec": {
   "display_name": "Python 3 (ipykernel)",
   "language": "python",
   "name": "python3"
  },
  "language_info": {
   "codemirror_mode": {
    "name": "ipython",
    "version": 3
   },
   "file_extension": ".py",
   "mimetype": "text/x-python",
   "name": "python",
   "nbconvert_exporter": "python",
   "pygments_lexer": "ipython3",
   "version": "3.9.7"
  },
  "toc": {
   "base_numbering": 1,
   "nav_menu": {},
   "number_sections": true,
   "sideBar": true,
   "skip_h1_title": false,
   "title_cell": "Table of Contents",
   "title_sidebar": "Contents",
   "toc_cell": false,
   "toc_position": {},
   "toc_section_display": true,
   "toc_window_display": true
  },
  "varInspector": {
   "cols": {
    "lenName": 16,
    "lenType": 16,
    "lenVar": 40
   },
   "kernels_config": {
    "python": {
     "delete_cmd_postfix": "",
     "delete_cmd_prefix": "del ",
     "library": "var_list.py",
     "varRefreshCmd": "print(var_dic_list())"
    },
    "r": {
     "delete_cmd_postfix": ") ",
     "delete_cmd_prefix": "rm(",
     "library": "var_list.r",
     "varRefreshCmd": "cat(var_dic_list()) "
    }
   },
   "types_to_exclude": [
    "module",
    "function",
    "builtin_function_or_method",
    "instance",
    "_Feature"
   ],
   "window_display": false
  }
 },
 "nbformat": 4,
 "nbformat_minor": 5
}
